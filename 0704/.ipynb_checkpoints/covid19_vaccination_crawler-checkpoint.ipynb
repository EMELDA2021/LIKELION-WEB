{
 "cells": [
  {
   "cell_type": "markdown",
   "metadata": {
    "id": "_g6TFej_UlN_"
   },
   "source": [
    "## 백신 접종현황 크롤링 via 공공데이터포털 API\n",
    "[API 출처](https://www.data.go.kr/tcs/dss/selectApiDataDetailView.do?publicDataPk=15077756)\n",
    "[참고자료](https://blog.naver.com/da0097/222296025258)"
   ]
  },
  {
   "cell_type": "code",
   "execution_count": null,
   "metadata": {
    "id": "EOOY6HAqHYCJ"
   },
   "outputs": [],
   "source": [
    "import requests\n",
    "import pandas as pd"
   ]
  },
  {
   "cell_type": "code",
   "execution_count": null,
   "metadata": {
    "id": "wwaJrj8cHwnC"
   },
   "outputs": [],
   "source": [
    "API_KEY = input(\"API키를 입력해주세요:\")\n",
    "PER_PAGE = 1000\n",
    "BASE_DATE = \"2021-03-20 00:00:00\"\n",
    "BASE_URL = f\"https://api.odcloud.kr/api/15077756/v1/vaccine-stat?perPage={PER_PAGE}&cond%5BbaseDate%3A%3ALTE%5D={BASE_DATE}&serviceKey={API_KEY}\""
   ]
  },
  {
   "cell_type": "code",
   "execution_count": null,
   "metadata": {
    "colab": {
     "base_uri": "https://localhost:8080/"
    },
    "executionInfo": {
     "elapsed": 1026,
     "status": "ok",
     "timestamp": 1625320555009,
     "user": {
      "displayName": "이성준",
      "photoUrl": "",
      "userId": "17660701608448574543"
     },
     "user_tz": -540
    },
    "id": "JK9531nEI8V-",
    "outputId": "db9cd282-ab2a-4186-9273-6c9dee40ec3b"
   },
   "outputs": [
    {
     "data": {
      "text/plain": [
       "200"
      ]
     },
     "execution_count": 5,
     "metadata": {
      "tags": []
     },
     "output_type": "execute_result"
    }
   ],
   "source": [
    "response = requests.get(BASE_URL)\n",
    "response.status_code"
   ]
  },
  {
   "cell_type": "code",
   "execution_count": null,
   "metadata": {
    "id": "xHqeZXdxJYxF"
   },
   "outputs": [],
   "source": [
    "response_obj = response.json()"
   ]
  },
  {
   "cell_type": "code",
   "execution_count": null,
   "metadata": {
    "colab": {
     "base_uri": "https://localhost:8080/",
     "height": 419
    },
    "executionInfo": {
     "elapsed": 5,
     "status": "ok",
     "timestamp": 1625320559621,
     "user": {
      "displayName": "이성준",
      "photoUrl": "",
      "userId": "17660701608448574543"
     },
     "user_tz": -540
    },
    "id": "6jvWtjL5Jfo6",
    "outputId": "551923ca-296e-4e1a-9192-264a0a8438fc"
   },
   "outputs": [
    {
     "data": {
      "text/html": [
       "<div>\n",
       "<style scoped>\n",
       "    .dataframe tbody tr th:only-of-type {\n",
       "        vertical-align: middle;\n",
       "    }\n",
       "\n",
       "    .dataframe tbody tr th {\n",
       "        vertical-align: top;\n",
       "    }\n",
       "\n",
       "    .dataframe thead th {\n",
       "        text-align: right;\n",
       "    }\n",
       "</style>\n",
       "<table border=\"1\" class=\"dataframe\">\n",
       "  <thead>\n",
       "    <tr style=\"text-align: right;\">\n",
       "      <th></th>\n",
       "      <th>accumulatedFirstCnt</th>\n",
       "      <th>accumulatedSecondCnt</th>\n",
       "      <th>baseDate</th>\n",
       "      <th>firstCnt</th>\n",
       "      <th>secondCnt</th>\n",
       "      <th>sido</th>\n",
       "      <th>totalFirstCnt</th>\n",
       "      <th>totalSecondCnt</th>\n",
       "    </tr>\n",
       "  </thead>\n",
       "  <tbody>\n",
       "    <tr>\n",
       "      <th>0</th>\n",
       "      <td>449535</td>\n",
       "      <td>0</td>\n",
       "      <td>2021-03-11 00:00:00</td>\n",
       "      <td>51100</td>\n",
       "      <td>0</td>\n",
       "      <td>전국</td>\n",
       "      <td>500635</td>\n",
       "      <td>0</td>\n",
       "    </tr>\n",
       "    <tr>\n",
       "      <th>1</th>\n",
       "      <td>61232</td>\n",
       "      <td>0</td>\n",
       "      <td>2021-03-11 00:00:00</td>\n",
       "      <td>12595</td>\n",
       "      <td>0</td>\n",
       "      <td>서울특별시</td>\n",
       "      <td>73827</td>\n",
       "      <td>0</td>\n",
       "    </tr>\n",
       "    <tr>\n",
       "      <th>2</th>\n",
       "      <td>36734</td>\n",
       "      <td>0</td>\n",
       "      <td>2021-03-11 00:00:00</td>\n",
       "      <td>3311</td>\n",
       "      <td>0</td>\n",
       "      <td>부산광역시</td>\n",
       "      <td>40045</td>\n",
       "      <td>0</td>\n",
       "    </tr>\n",
       "    <tr>\n",
       "      <th>3</th>\n",
       "      <td>23101</td>\n",
       "      <td>0</td>\n",
       "      <td>2021-03-11 00:00:00</td>\n",
       "      <td>2310</td>\n",
       "      <td>0</td>\n",
       "      <td>대구광역시</td>\n",
       "      <td>25411</td>\n",
       "      <td>0</td>\n",
       "    </tr>\n",
       "    <tr>\n",
       "      <th>4</th>\n",
       "      <td>23879</td>\n",
       "      <td>0</td>\n",
       "      <td>2021-03-11 00:00:00</td>\n",
       "      <td>1791</td>\n",
       "      <td>0</td>\n",
       "      <td>인천광역시</td>\n",
       "      <td>25670</td>\n",
       "      <td>0</td>\n",
       "    </tr>\n",
       "    <tr>\n",
       "      <th>...</th>\n",
       "      <td>...</td>\n",
       "      <td>...</td>\n",
       "      <td>...</td>\n",
       "      <td>...</td>\n",
       "      <td>...</td>\n",
       "      <td>...</td>\n",
       "      <td>...</td>\n",
       "      <td>...</td>\n",
       "    </tr>\n",
       "    <tr>\n",
       "      <th>175</th>\n",
       "      <td>28569</td>\n",
       "      <td>0</td>\n",
       "      <td>2021-03-20 00:00:00</td>\n",
       "      <td>342</td>\n",
       "      <td>0</td>\n",
       "      <td>전라북도</td>\n",
       "      <td>28911</td>\n",
       "      <td>0</td>\n",
       "    </tr>\n",
       "    <tr>\n",
       "      <th>176</th>\n",
       "      <td>32778</td>\n",
       "      <td>0</td>\n",
       "      <td>2021-03-20 00:00:00</td>\n",
       "      <td>369</td>\n",
       "      <td>0</td>\n",
       "      <td>전라남도</td>\n",
       "      <td>33147</td>\n",
       "      <td>0</td>\n",
       "    </tr>\n",
       "    <tr>\n",
       "      <th>177</th>\n",
       "      <td>36083</td>\n",
       "      <td>0</td>\n",
       "      <td>2021-03-20 00:00:00</td>\n",
       "      <td>441</td>\n",
       "      <td>0</td>\n",
       "      <td>경상북도</td>\n",
       "      <td>36524</td>\n",
       "      <td>0</td>\n",
       "    </tr>\n",
       "    <tr>\n",
       "      <th>178</th>\n",
       "      <td>49367</td>\n",
       "      <td>0</td>\n",
       "      <td>2021-03-20 00:00:00</td>\n",
       "      <td>522</td>\n",
       "      <td>0</td>\n",
       "      <td>경상남도</td>\n",
       "      <td>49889</td>\n",
       "      <td>0</td>\n",
       "    </tr>\n",
       "    <tr>\n",
       "      <th>179</th>\n",
       "      <td>7931</td>\n",
       "      <td>0</td>\n",
       "      <td>2021-03-20 00:00:00</td>\n",
       "      <td>300</td>\n",
       "      <td>0</td>\n",
       "      <td>제주특별자치도</td>\n",
       "      <td>8231</td>\n",
       "      <td>0</td>\n",
       "    </tr>\n",
       "  </tbody>\n",
       "</table>\n",
       "<p>180 rows × 8 columns</p>\n",
       "</div>"
      ],
      "text/plain": [
       "     accumulatedFirstCnt  accumulatedSecondCnt  ... totalFirstCnt  totalSecondCnt\n",
       "0                 449535                     0  ...        500635               0\n",
       "1                  61232                     0  ...         73827               0\n",
       "2                  36734                     0  ...         40045               0\n",
       "3                  23101                     0  ...         25411               0\n",
       "4                  23879                     0  ...         25670               0\n",
       "..                   ...                   ...  ...           ...             ...\n",
       "175                28569                     0  ...         28911               0\n",
       "176                32778                     0  ...         33147               0\n",
       "177                36083                     0  ...         36524               0\n",
       "178                49367                     0  ...         49889               0\n",
       "179                 7931                     0  ...          8231               0\n",
       "\n",
       "[180 rows x 8 columns]"
      ]
     },
     "execution_count": 7,
     "metadata": {
      "tags": []
     },
     "output_type": "execute_result"
    }
   ],
   "source": [
    "vacc = pd.json_normalize(response_obj[\"data\"])\n",
    "vacc"
   ]
  }
 ],
 "metadata": {
  "colab": {
   "authorship_tag": "ABX9TyNQUXm7TaZGOjyT5Jwc9zT+",
   "collapsed_sections": [],
   "name": "covid19_vaccination_crawler.ipynb",
   "provenance": []
  },
  "kernelspec": {
   "display_name": "Python 3",
   "language": "python",
   "name": "python3"
  },
  "language_info": {
   "codemirror_mode": {
    "name": "ipython",
    "version": 3
   },
   "file_extension": ".py",
   "mimetype": "text/x-python",
   "name": "python",
   "nbconvert_exporter": "python",
   "pygments_lexer": "ipython3",
   "version": "3.8.5"
  }
 },
 "nbformat": 4,
 "nbformat_minor": 1
}
