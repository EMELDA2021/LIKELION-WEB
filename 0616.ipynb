{
 "cells": [
  {
   "cell_type": "code",
   "execution_count": 1,
   "metadata": {},
   "outputs": [],
   "source": [
    "from bs4 import BeautifulSoup\n",
    "from urllib.request import urlopen"
   ]
  },
  {
   "cell_type": "code",
   "execution_count": 2,
   "metadata": {},
   "outputs": [
    {
     "name": "stdout",
     "output_type": "stream",
     "text": [
      "<html><body><p>test</p></body></html>\n"
     ]
    }
   ],
   "source": [
    "html = \"<p>test</p>\"\n",
    "soup = BeautifulSoup(html, 'lxml')\n",
    "print(soup)"
   ]
  },
  {
   "cell_type": "code",
   "execution_count": 3,
   "metadata": {},
   "outputs": [
    {
     "name": "stdout",
     "output_type": "stream",
     "text": [
      "<html><head></head><body><p>test</p></body></html>\n"
     ]
    }
   ],
   "source": [
    "html = \"<p>test</p>\"\n",
    "soup = BeautifulSoup(html, 'html5lib')\n",
    "print(soup)"
   ]
  },
  {
   "cell_type": "code",
   "execution_count": 4,
   "metadata": {},
   "outputs": [
    {
     "name": "stdout",
     "output_type": "stream",
     "text": [
      "<p>test</p>\n"
     ]
    }
   ],
   "source": [
    "html = \"<p>test</p>\"\n",
    "soup = BeautifulSoup(html, 'html.parser')\n",
    "print(soup)"
   ]
  },
  {
   "cell_type": "code",
   "execution_count": 5,
   "metadata": {},
   "outputs": [],
   "source": [
    "from bs4 import BeautifulSoup\n",
    "html = \"\"\"\n",
    "<html>\n",
    "<head><title>나의 웹페이지</title></head>\n",
    "<p>test1</p>\n",
    "<p>test2</p>\n",
    "<p>test3</p>\n",
    "</html>\n",
    "\"\"\""
   ]
  },
  {
   "cell_type": "code",
   "execution_count": 6,
   "metadata": {},
   "outputs": [
    {
     "data": {
      "text/plain": [
       "<html>\n",
       "<head><title>나의 웹페이지</title></head>\n",
       "<body><p>test1</p>\n",
       "<p>test2</p>\n",
       "<p>test3</p>\n",
       "</body></html>"
      ]
     },
     "execution_count": 6,
     "metadata": {},
     "output_type": "execute_result"
    }
   ],
   "source": [
    "soup=BeautifulSoup(html,'lxml')\n",
    "soup"
   ]
  },
  {
   "cell_type": "code",
   "execution_count": 7,
   "metadata": {},
   "outputs": [
    {
     "data": {
      "text/plain": [
       "<p>test1</p>"
      ]
     },
     "execution_count": 7,
     "metadata": {},
     "output_type": "execute_result"
    }
   ],
   "source": [
    "soup.p"
   ]
  },
  {
   "cell_type": "code",
   "execution_count": 8,
   "metadata": {},
   "outputs": [
    {
     "data": {
      "text/plain": [
       "<head><title>나의 웹페이지</title></head>"
      ]
     },
     "execution_count": 8,
     "metadata": {},
     "output_type": "execute_result"
    }
   ],
   "source": [
    "soup.head"
   ]
  },
  {
   "cell_type": "code",
   "execution_count": 9,
   "metadata": {},
   "outputs": [
    {
     "data": {
      "text/plain": [
       "[<p>test1</p>, <p>test2</p>, <p>test3</p>]"
      ]
     },
     "execution_count": 9,
     "metadata": {},
     "output_type": "execute_result"
    }
   ],
   "source": [
    "soup.find_all('p')"
   ]
  },
  {
   "cell_type": "code",
   "execution_count": 10,
   "metadata": {},
   "outputs": [
    {
     "data": {
      "text/plain": [
       "<p>test2</p>"
      ]
     },
     "execution_count": 10,
     "metadata": {},
     "output_type": "execute_result"
    }
   ],
   "source": [
    "soup.find_all('p')[1]"
   ]
  },
  {
   "cell_type": "code",
   "execution_count": 12,
   "metadata": {},
   "outputs": [],
   "source": [
    "html= \"\"\"\n",
    "<html>\n",
    "<head><title> test site </title></head>\n",
    "<p class='class1' align=\"left\">test3</p>\n",
    "<p class='class1'>test2</p>\n",
    "<p id='p1'>오늘의 주가지수 1500</p>\n",
    "<span class='class3'>span tag text</span>\n",
    "<p class='class4'>test3</p>\n",
    "</html>\n",
    "\"\"\""
   ]
  },
  {
   "cell_type": "code",
   "execution_count": 13,
   "metadata": {},
   "outputs": [
    {
     "data": {
      "text/plain": [
       "<p align=\"left\" class=\"class1\">test3</p>"
      ]
     },
     "execution_count": 13,
     "metadata": {},
     "output_type": "execute_result"
    }
   ],
   "source": [
    "soup=BeautifulSoup(html,'lxml')\n",
    "soup.p"
   ]
  },
  {
   "cell_type": "code",
   "execution_count": 14,
   "metadata": {},
   "outputs": [
    {
     "data": {
      "text/plain": [
       "[<p align=\"left\" class=\"class1\">test3</p>,\n",
       " <p class=\"class1\">test2</p>,\n",
       " <p id=\"p1\">오늘의 주가지수 1500</p>,\n",
       " <p class=\"class4\">test3</p>]"
      ]
     },
     "execution_count": 14,
     "metadata": {},
     "output_type": "execute_result"
    }
   ],
   "source": [
    "soup.find_all('p')"
   ]
  },
  {
   "cell_type": "code",
   "execution_count": 15,
   "metadata": {},
   "outputs": [
    {
     "data": {
      "text/plain": [
       "[<span class=\"class3\">span tag text</span>]"
      ]
     },
     "execution_count": 15,
     "metadata": {},
     "output_type": "execute_result"
    }
   ],
   "source": [
    "soup.find_all('span')"
   ]
  },
  {
   "cell_type": "code",
   "execution_count": 16,
   "metadata": {},
   "outputs": [
    {
     "data": {
      "text/plain": [
       "[<head><title> test site </title></head>]"
      ]
     },
     "execution_count": 16,
     "metadata": {},
     "output_type": "execute_result"
    }
   ],
   "source": [
    "soup.find_all('head')"
   ]
  },
  {
   "cell_type": "code",
   "execution_count": 17,
   "metadata": {},
   "outputs": [
    {
     "data": {
      "text/plain": [
       "<p align=\"left\" class=\"class1\">test3</p>"
      ]
     },
     "execution_count": 17,
     "metadata": {},
     "output_type": "execute_result"
    }
   ],
   "source": [
    "soup.p"
   ]
  },
  {
   "cell_type": "code",
   "execution_count": 18,
   "metadata": {},
   "outputs": [
    {
     "data": {
      "text/plain": [
       "<span class=\"class3\">span tag text</span>"
      ]
     },
     "execution_count": 18,
     "metadata": {},
     "output_type": "execute_result"
    }
   ],
   "source": [
    "soup.span"
   ]
  },
  {
   "cell_type": "code",
   "execution_count": 19,
   "metadata": {},
   "outputs": [
    {
     "ename": "TypeError",
     "evalue": "'NoneType' object is not callable",
     "output_type": "error",
     "traceback": [
      "\u001b[1;31m---------------------------------------------------------------------------\u001b[0m",
      "\u001b[1;31mTypeError\u001b[0m                                 Traceback (most recent call last)",
      "\u001b[1;32m<ipython-input-19-f5cb4de24125>\u001b[0m in \u001b[0;36m<module>\u001b[1;34m\u001b[0m\n\u001b[1;32m----> 1\u001b[1;33m \u001b[0msoup\u001b[0m\u001b[1;33m.\u001b[0m\u001b[0mid\u001b[0m\u001b[1;33m(\u001b[0m\u001b[1;34m'p1'\u001b[0m\u001b[1;33m)\u001b[0m\u001b[1;33m\u001b[0m\u001b[1;33m\u001b[0m\u001b[0m\n\u001b[0m",
      "\u001b[1;31mTypeError\u001b[0m: 'NoneType' object is not callable"
     ]
    }
   ],
   "source": [
    "soup.id('p1')"
   ]
  },
  {
   "cell_type": "code",
   "execution_count": 25,
   "metadata": {},
   "outputs": [
    {
     "data": {
      "text/plain": [
       "<p align=\"left\" class=\"class1\">test3</p>"
      ]
     },
     "execution_count": 25,
     "metadata": {},
     "output_type": "execute_result"
    }
   ],
   "source": [
    "soup.find('p','class1')"
   ]
  },
  {
   "cell_type": "code",
   "execution_count": 22,
   "metadata": {},
   "outputs": [
    {
     "data": {
      "text/plain": [
       "<head><title> test site </title></head>"
      ]
     },
     "execution_count": 22,
     "metadata": {},
     "output_type": "execute_result"
    }
   ],
   "source": [
    "soup.find('head')"
   ]
  },
  {
   "cell_type": "markdown",
   "metadata": {},
   "source": [
    "단축키"
   ]
  },
  {
   "cell_type": "markdown",
   "metadata": {},
   "source": [
    "###\n",
    "ESC+M: 마크다운 셀 만들기"
   ]
  },
  {
   "cell_type": "code",
   "execution_count": 26,
   "metadata": {},
   "outputs": [],
   "source": [
    "html= \"\"\"\n",
    "<html>\n",
    "<head><title> test site </title></head>\n",
    "<p class='class1' align=\"left\">test3</p>\n",
    "<p class='class1'>test2</p>\n",
    "<p id='p1'>오늘의 주가지수 1500</p>\n",
    "<span class='class3'>span tag text</span>\n",
    "<p class='class4'>test3</p>\n",
    "</html>\n",
    "\"\"\""
   ]
  },
  {
   "cell_type": "code",
   "execution_count": 27,
   "metadata": {},
   "outputs": [
    {
     "data": {
      "text/plain": [
       "<title> test site </title>"
      ]
     },
     "execution_count": 27,
     "metadata": {},
     "output_type": "execute_result"
    }
   ],
   "source": [
    "soup=BeautifulSoup(html,'lxml')\n",
    "soup.title"
   ]
  },
  {
   "cell_type": "markdown",
   "metadata": {},
   "source": [
    "class이름으로 요소 가져오기"
   ]
  },
  {
   "cell_type": "code",
   "execution_count": 29,
   "metadata": {},
   "outputs": [
    {
     "data": {
      "text/plain": [
       "<p align=\"left\" class=\"class1\">test3</p>"
      ]
     },
     "execution_count": 29,
     "metadata": {},
     "output_type": "execute_result"
    }
   ],
   "source": [
    "soup.find('p',class_='class1')"
   ]
  },
  {
   "cell_type": "markdown",
   "metadata": {},
   "source": [
    "id 이름으로 요소 가져오기"
   ]
  },
  {
   "cell_type": "code",
   "execution_count": 30,
   "metadata": {},
   "outputs": [
    {
     "data": {
      "text/plain": [
       "<p id=\"p1\">오늘의 주가지수 1500</p>"
      ]
     },
     "execution_count": 30,
     "metadata": {},
     "output_type": "execute_result"
    }
   ],
   "source": [
    "soup.find('p',id='p1')"
   ]
  },
  {
   "cell_type": "markdown",
   "metadata": {},
   "source": [
    "*find_all:리스트\n",
    "*find:문자열"
   ]
  },
  {
   "cell_type": "code",
   "execution_count": 33,
   "metadata": {},
   "outputs": [
    {
     "data": {
      "text/plain": [
       "<head><title> test site </title></head>"
      ]
     },
     "execution_count": 33,
     "metadata": {},
     "output_type": "execute_result"
    }
   ],
   "source": [
    "data1=soup.find('head')\n",
    "data1"
   ]
  },
  {
   "cell_type": "code",
   "execution_count": 34,
   "metadata": {},
   "outputs": [
    {
     "data": {
      "text/plain": [
       "<title> test site </title>"
      ]
     },
     "execution_count": 34,
     "metadata": {},
     "output_type": "execute_result"
    }
   ],
   "source": [
    "data2=soup.find('title')\n",
    "data2"
   ]
  },
  {
   "cell_type": "code",
   "execution_count": 35,
   "metadata": {},
   "outputs": [],
   "source": [
    "data2.txt"
   ]
  },
  {
   "cell_type": "code",
   "execution_count": 38,
   "metadata": {},
   "outputs": [],
   "source": [
    "html = '''\n",
    "<html>\n",
    "<head>\n",
    "    <title> test site </title>\n",
    "</head>\n",
    "<body>\n",
    "    <div>\n",
    "        <p class='class1' align=\"left\">test3</p>\n",
    "        <p class='class1'>test2</p>\n",
    "    </div>\n",
    "    <div>\n",
    "        <p id='p1'>오늘의 주가지수 1500</p>\n",
    "        <p class='class4'>test3</p>\n",
    "        <span class='class3'>span tag text</span>\n",
    "    </div>\n",
    "</body>\n",
    "</html>\n",
    "'''\n",
    "soup = BeautifulSoup(html, 'lxml')"
   ]
  },
  {
   "cell_type": "code",
   "execution_count": 39,
   "metadata": {},
   "outputs": [
    {
     "data": {
      "text/plain": [
       "<p class=\"class4\">test3</p>"
      ]
     },
     "execution_count": 39,
     "metadata": {},
     "output_type": "execute_result"
    }
   ],
   "source": [
    "soup.find('p','class4')\n"
   ]
  },
  {
   "cell_type": "markdown",
   "metadata": {},
   "source": [
    "3-2 (실습) div 2번째 요소 안의 p태그 전체를 가져와 보자."
   ]
  },
  {
   "cell_type": "code",
   "execution_count": 54,
   "metadata": {},
   "outputs": [
    {
     "data": {
      "text/plain": [
       "[<p id=\"p1\">오늘의 주가지수 1500</p>, <p class=\"class4\">test3</p>]"
      ]
     },
     "execution_count": 54,
     "metadata": {},
     "output_type": "execute_result"
    }
   ],
   "source": [
    "div2=soup.find_all('div')[1]\n",
    "p_all=div2.find_all('p')\n",
    "p_all"
   ]
  },
  {
   "cell_type": "markdown",
   "metadata": {},
   "source": [
    "3-2 (추가) div 첫번째 요소의 안의 첫번째 p태그 요소 가져오기"
   ]
  },
  {
   "cell_type": "code",
   "execution_count": 59,
   "metadata": {},
   "outputs": [
    {
     "data": {
      "text/plain": [
       "<p align=\"left\" class=\"class1\">test3</p>"
      ]
     },
     "execution_count": 59,
     "metadata": {},
     "output_type": "execute_result"
    }
   ],
   "source": [
    "soup.find('div').find('p')\n",
    "soup.div.p"
   ]
  },
  {
   "cell_type": "code",
   "execution_count": 55,
   "metadata": {},
   "outputs": [
    {
     "data": {
      "text/plain": [
       "<p align=\"left\" class=\"class1\">test3</p>"
      ]
     },
     "execution_count": 55,
     "metadata": {},
     "output_type": "execute_result"
    }
   ],
   "source": [
    "div1 = soup.find_all(\"div\")[0]\n",
    "p_1 = div1.find_all(\"p\")[0]\n",
    "p_1"
   ]
  },
  {
   "cell_type": "markdown",
   "metadata": {},
   "source": [
    "3-2 (생각해보기) a태그의 모든 url을 가져오기"
   ]
  },
  {
   "cell_type": "code",
   "execution_count": 56,
   "metadata": {},
   "outputs": [],
   "source": [
    "html = '''\n",
    "<html>\n",
    "<head>\n",
    "    <title> test site </title>\n",
    "</head>\n",
    "<body>\n",
    "    <a href=\"https://www.google.com\">구글</a>\n",
    "    <div>\n",
    "        <p class='class1' align=\"left\">test3</p>\n",
    "        <p class='class1'>test2</p>\n",
    "    </div>\n",
    "    <div>\n",
    "        <p id='p1'>오늘의 주가지수 1500</p>\n",
    "        <p class='class4'>test3</p>\n",
    "        <span class='class3'>span tag text</span>\n",
    "        <a href=\"https://www.naver.com/\">네이버</a>\n",
    "        <a href=\"https://www.daum.com/\">다음</a>\n",
    "    </div>\n",
    "</body>\n",
    "</html>\n",
    "'''\n",
    "soup = BeautifulSoup(html, 'lxml')"
   ]
  },
  {
   "cell_type": "code",
   "execution_count": 58,
   "metadata": {},
   "outputs": [
    {
     "name": "stdout",
     "output_type": "stream",
     "text": [
      "<a href=\"https://www.google.com\">구글</a>\n",
      "<a href=\"https://www.naver.com/\">네이버</a>\n",
      "<a href=\"https://www.daum.com/\">다음</a>\n"
     ]
    }
   ],
   "source": [
    "a=soup.find_all('a')\n",
    "for i in a:\n",
    "    print(i)"
   ]
  },
  {
   "cell_type": "code",
   "execution_count": 64,
   "metadata": {},
   "outputs": [
    {
     "name": "stdout",
     "output_type": "stream",
     "text": [
      "https://www.google.com\n",
      "https://www.naver.com/\n",
      "https://www.daum.com/\n"
     ]
    }
   ],
   "source": [
    "urls=soup.find_all('a')\n",
    "for url in urls:\n",
    "    print(url.get('href'))"
   ]
  },
  {
   "cell_type": "code",
   "execution_count": 65,
   "metadata": {},
   "outputs": [
    {
     "data": {
      "text/plain": [
       "'<html>\\n <head>\\n  <title>\\n   test site\\n  </title>\\n </head>\\n <body>\\n  <div>\\n   <p align=\"left\" class=\"class1\">\\n    test3\\n   </p>\\n   <p class=\"class1\">\\n    test2\\n   </p>\\n  </div>\\n  <div>\\n   <p id=\"p1\">\\n    오늘의 주가지수 1500\\n   </p>\\n   <p class=\"class4\">\\n    test3\\n   </p>\\n   <span class=\"class3\">\\n    span tag text\\n   </span>\\n  </div>\\n </body>\\n</html>\\n'"
      ]
     },
     "execution_count": 65,
     "metadata": {},
     "output_type": "execute_result"
    }
   ],
   "source": [
    "html = '''\n",
    "<html>\n",
    "<head>\n",
    "    <title> test site </title>\n",
    "</head>\n",
    "<body>\n",
    "    <div>\n",
    "        <p class='class1' align=\"left\">test3</p>\n",
    "        <p class='class1'>test2</p>\n",
    "    </div>\n",
    "    <div>\n",
    "        <p id='p1'>오늘의 주가지수 1500</p>\n",
    "        <p class='class4'>test3</p>\n",
    "        <span class='class3'>span tag text</span>\n",
    "    </div>\n",
    "</body>\n",
    "</html>\n",
    "'''\n",
    "soup = BeautifulSoup(html, 'lxml')\n",
    "soup.prettify()"
   ]
  },
  {
   "cell_type": "code",
   "execution_count": 66,
   "metadata": {},
   "outputs": [
    {
     "data": {
      "text/plain": [
       "<div>\n",
       "<p align=\"left\" class=\"class1\">test3</p>\n",
       "<p class=\"class1\">test2</p>\n",
       "</div>"
      ]
     },
     "execution_count": 66,
     "metadata": {},
     "output_type": "execute_result"
    }
   ],
   "source": [
    "div1=soup.find('div')\n",
    "div1"
   ]
  },
  {
   "cell_type": "code",
   "execution_count": 67,
   "metadata": {},
   "outputs": [
    {
     "data": {
      "text/plain": [
       "<list_iterator at 0x16a0a8cfe20>"
      ]
     },
     "execution_count": 67,
     "metadata": {},
     "output_type": "execute_result"
    }
   ],
   "source": [
    "div1.children"
   ]
  },
  {
   "cell_type": "code",
   "execution_count": 68,
   "metadata": {},
   "outputs": [
    {
     "data": {
      "text/plain": [
       "['\\n',\n",
       " <p align=\"left\" class=\"class1\">test3</p>,\n",
       " '\\n',\n",
       " <p class=\"class1\">test2</p>,\n",
       " '\\n']"
      ]
     },
     "execution_count": 68,
     "metadata": {},
     "output_type": "execute_result"
    }
   ],
   "source": [
    "list(div1.children)"
   ]
  },
  {
   "cell_type": "code",
   "execution_count": 71,
   "metadata": {},
   "outputs": [
    {
     "data": {
      "text/plain": [
       "<p class=\"class1\">test2</p>"
      ]
     },
     "execution_count": 71,
     "metadata": {},
     "output_type": "execute_result"
    }
   ],
   "source": [
    "div1_lastp=list(div1.children)[3]\n",
    "div1_lastp"
   ]
  },
  {
   "cell_type": "code",
   "execution_count": 72,
   "metadata": {},
   "outputs": [],
   "source": [
    "html = '''\n",
    "<html>\n",
    "<head>\n",
    "    <title> test site </title>\n",
    "</head>\n",
    "<body>\n",
    "    <div>\n",
    "        <a href=\"https://www.google.com\">구글</a>\n",
    "        <p class='class1' align=\"left\">test3</p>\n",
    "        <p class='class1'>test2</p>\n",
    "    </div>\n",
    "    <div>\n",
    "        <p id='p1'>오늘의 주가지수 1500</p>\n",
    "        <p class='class4'>test3</p>\n",
    "        <span class='class3'>span tag text</span>\n",
    "        <a href=\"https://www.naver.com/\">네이버</a>\n",
    "        <a href=\"https://www.daum.com/\">다음</a>\n",
    "    </div>\n",
    "</body>\n",
    "</html>\n",
    "'''\n",
    "soup = BeautifulSoup(html, 'lxml')"
   ]
  },
  {
   "cell_type": "markdown",
   "metadata": {},
   "source": [
    "3-3 주어진 코드에서 children 속성을 이용해서 span 태그 요소를 가져와 보자."
   ]
  },
  {
   "cell_type": "code",
   "execution_count": 74,
   "metadata": {},
   "outputs": [
    {
     "data": {
      "text/plain": [
       "[<span class=\"class3\">span tag text</span>]"
      ]
     },
     "execution_count": 74,
     "metadata": {},
     "output_type": "execute_result"
    }
   ],
   "source": [
    "f_span=soup.find_all('span')\n",
    "f_span"
   ]
  },
  {
   "cell_type": "code",
   "execution_count": 89,
   "metadata": {},
   "outputs": [
    {
     "data": {
      "text/plain": [
       "<span class=\"class3\">span tag text</span>"
      ]
     },
     "execution_count": 89,
     "metadata": {},
     "output_type": "execute_result"
    }
   ],
   "source": [
    "findspan=list(soup.findAll('div')[1].children)[5]\n",
    "findspan"
   ]
  },
  {
   "cell_type": "code",
   "execution_count": 97,
   "metadata": {},
   "outputs": [
    {
     "data": {
      "text/plain": [
       "'span tag text'"
      ]
     },
     "execution_count": 97,
     "metadata": {},
     "output_type": "execute_result"
    }
   ],
   "source": [
    "list(soup.find_all('span')[0].children)[0]"
   ]
  },
  {
   "cell_type": "markdown",
   "metadata": {},
   "source": [
    "4-2 p 태그의 text를 가져오기"
   ]
  },
  {
   "cell_type": "code",
   "execution_count": 100,
   "metadata": {},
   "outputs": [
    {
     "name": "stdout",
     "output_type": "stream",
     "text": [
      "test3\n",
      "test2\n",
      "오늘의 주가지수 1500\n",
      "test3\n"
     ]
    }
   ],
   "source": [
    "all_p=soup.find_all('p')\n",
    "all_p\n",
    "for i in all_p:\n",
    "    print(i.text)"
   ]
  },
  {
   "cell_type": "markdown",
   "metadata": {},
   "source": [
    " a태그의 url 및 text가져오기."
   ]
  },
  {
   "cell_type": "code",
   "execution_count": 102,
   "metadata": {},
   "outputs": [
    {
     "name": "stdout",
     "output_type": "stream",
     "text": [
      "구글\n",
      "https://www.google.com\n",
      "네이버\n",
      "https://www.naver.com/\n",
      "다음\n",
      "https://www.daum.com/\n"
     ]
    }
   ],
   "source": [
    "all_a=soup.find_all('a')\n",
    "all_a\n",
    "for i in all_a:\n",
    "    print(i.text)\n",
    "    print(i.get('href'))"
   ]
  },
  {
   "cell_type": "markdown",
   "metadata": {},
   "source": [
    "4-3 (실습) csv파일로 만들어보기"
   ]
  },
  {
   "cell_type": "code",
   "execution_count": 104,
   "metadata": {},
   "outputs": [
    {
     "name": "stdout",
     "output_type": "stream",
     "text": [
      "구글\n",
      "https://www.google.com\n",
      "네이버\n",
      "https://www.naver.com/\n",
      "다음\n",
      "https://www.daum.com/\n",
      "['구글', '네이버', '다음']\n",
      "['https://www.google.com', 'https://www.naver.com/', 'https://www.daum.com/']\n"
     ]
    }
   ],
   "source": [
    "com=[]\n",
    "urls=[]\n",
    "\n",
    "all_a=soup.find_all('a')\n",
    "all_a\n",
    "for i in all_a:\n",
    "    print(i.text)\n",
    "    print(i.get('href'))\n",
    "    com.append(i.text)\n",
    "    urls.append(i.get('href'))\n",
    "\n",
    "print(com)\n",
    "print(urls)"
   ]
  },
  {
   "cell_type": "markdown",
   "metadata": {},
   "source": [
    "### csv파일 만들기-pandas"
   ]
  },
  {
   "cell_type": "code",
   "execution_count": 105,
   "metadata": {},
   "outputs": [],
   "source": [
    "import pandas as pd"
   ]
  },
  {
   "cell_type": "markdown",
   "metadata": {},
   "source": [
    "### pandas의 기본자료형\n",
    "*Series\n",
    "*DataFrame"
   ]
  },
  {
   "cell_type": "code",
   "execution_count": 109,
   "metadata": {},
   "outputs": [
    {
     "data": {
      "text/html": [
       "<div>\n",
       "<style scoped>\n",
       "    .dataframe tbody tr th:only-of-type {\n",
       "        vertical-align: middle;\n",
       "    }\n",
       "\n",
       "    .dataframe tbody tr th {\n",
       "        vertical-align: top;\n",
       "    }\n",
       "\n",
       "    .dataframe thead th {\n",
       "        text-align: right;\n",
       "    }\n",
       "</style>\n",
       "<table border=\"1\" class=\"dataframe\">\n",
       "  <thead>\n",
       "    <tr style=\"text-align: right;\">\n",
       "      <th></th>\n",
       "      <th>회사명</th>\n",
       "      <th>웹사이트</th>\n",
       "    </tr>\n",
       "  </thead>\n",
       "  <tbody>\n",
       "    <tr>\n",
       "      <th>0</th>\n",
       "      <td>구글</td>\n",
       "      <td>https://www.google.com</td>\n",
       "    </tr>\n",
       "    <tr>\n",
       "      <th>1</th>\n",
       "      <td>네이버</td>\n",
       "      <td>https://www.naver.com/</td>\n",
       "    </tr>\n",
       "    <tr>\n",
       "      <th>2</th>\n",
       "      <td>다음</td>\n",
       "      <td>https://www.daum.com/</td>\n",
       "    </tr>\n",
       "  </tbody>\n",
       "</table>\n",
       "</div>"
      ],
      "text/plain": [
       "   회사명                    웹사이트\n",
       "0   구글  https://www.google.com\n",
       "1  네이버  https://www.naver.com/\n",
       "2   다음   https://www.daum.com/"
      ]
     },
     "execution_count": 109,
     "metadata": {},
     "output_type": "execute_result"
    }
   ],
   "source": [
    "dat={'회사명':com,'웹사이트':urls}\n",
    "dat=pd.DataFrame(dat)\n",
    "dat"
   ]
  },
  {
   "cell_type": "code",
   "execution_count": 110,
   "metadata": {},
   "outputs": [],
   "source": [
    "dat.to_csv(\"회사명과 웹사이트.csv\",index=False)"
   ]
  },
  {
   "cell_type": "code",
   "execution_count": 111,
   "metadata": {},
   "outputs": [
    {
     "name": "stdout",
     "output_type": "stream",
     "text": [
      "C:\\Users\\ahah0\\Documents\\GitHub\\LIKELION-WEB\n",
      "['.git', '.gitattributes', '.idea', '.ipynb_checkpoints', '01_01_날짜버튼.html', '01_02_알람.html', '01_03_변수알람.html', '01_04_함수.html', '01_05_버튼클릭시알람.html', '01_06_onmouseover.html', '01_07_onmouse.html', '01_08_hw.html', '01_08_str.html', '01_09_replace.html', '01_10_어레이인덱스.html', '01_11_자바연결.html', '01_12_버튼연결.html', '01_13_버튼2함수2.html', '01_14_엑스터널.html', '01_15_엑스터널hw.html', '01_15_주석.html', '01_16_switch.html', '01_17_for.html', '01_17_for_hw.html', '01_18_try.html', '01_19_table.html', '01_20_array.html', '03_hw.py', 'cat.jpg', 'class03_comment.html', 'class04_css.css', 'class04_css.html', 'class05_target.html', 'class06_table.html', 'class07_li.html', 'class08_hw.html', 'class08_hw1.html', 'class08_hw2.html', 'class08_id.html', 'heading_edit.html', 'myFnc1.js', 'myScript.js', 'README.md', 'service.xlsx', 'test.txt', 'Untitled.ipynb', '회사명과 웹사이트.csv']\n"
     ]
    }
   ],
   "source": [
    "##확인\n",
    "import os\n",
    "print(os.getcwd())\n",
    "print(os.listdir(os.getcwd()))"
   ]
  },
  {
   "cell_type": "markdown",
   "metadata": {},
   "source": [
    "이곳의 링크 가져오기"
   ]
  },
  {
   "cell_type": "code",
   "execution_count": 114,
   "metadata": {},
   "outputs": [],
   "source": [
    "from bs4 import BeautifulSoup\n",
    "html=\"\"\"\n",
    "<html><head>\n",
    "\t<title>나의 웹 페이지</title>\n",
    "</head>\n",
    "<body>\n",
    "\t<h1> my web page </h1>\n",
    "\t<ul>\n",
    "\t\t<a href=\"./01.html\" name=\"link_get\"> 01. 제목 가져오기(title) </a> <br>\n",
    "\t\t<a href=\"./02.html\" name=\"text_get\"> 02. 텍스트 가져오기(p) </a> <br>\n",
    "\t\t<a href=\"./03.html\" name=\"link_get\"> 03. 링크 가져오기(a) </a> <br>\n",
    "\t\t<a href=\"https://pythonstart.github.io/web/04.html\"> 04. 이미지 가져오기(img) </a> <br>\n",
    "\t\t<a href=\"./05.html\"> 05. 리스트 정보 가져오기(ul,ol) </a> <br>\n",
    "\t\t<a href=\"./06.html\"> 06. id를 활용한 정보 획득 </a> <br>\n",
    "\t\t<a href=\"./07.html\"> 07. class를 활용한 정보 획득 </a> <br>\n",
    "\t\t<a href=\"./08.html\"> 08. 하나의 이미지 다운로드 </a> <br>\n",
    "\t\t<a href=\"https://pythonstart.github.io/web/09.html\"> 09. 여러개의 이미지 다운로드 </a> <br>\n",
    "\t\t<a id=\"rank\" href=\"./10.html\"> 10. 랭킹 정보 가져오기(웹 크롤링) </a> <br>\n",
    "\t</ul>\n",
    "\t<h2> <a href=\"./nclass/index.html\"> Next Class --&gt;</a> </h2>\n",
    "\t<h1 id=\"etc\"> 기타 정보 </h1>\n",
    "\t<div>\n",
    "\t\t<ul>\n",
    "\t\t\t<li class=\"a5_3\"> 5_3반클래스 </li> \n",
    "\t\t\t<li class=\"a5_3\"> 5_3반클래스 </li> \n",
    "\t\t\t<li class=\"a5_3\"> 5_3반클래스 </li> \n",
    "\t\t</ul>\n",
    "\t\t<ol>\n",
    "\t\t\t<li class=\"5_4\"> 5_4반 클래스 </li> \n",
    "\t\t\t<li class=\"5_4\"> 5_4반 클래스 </li> \n",
    "\t\t\t<li class=\"5_4\"> 5_4반 클래스 </li> \n",
    "\t\t</ol>\n",
    "\t\t<span> 포털 사이트 가기 </span>\n",
    "\t\t<a href=\"https://www.naver.com/\">naver</a> <br>\n",
    "\t</div>\n",
    "\n",
    "</body></html>\n",
    "\"\"\"\n",
    "soup=BeautifulSoup(html,'lxml')"
   ]
  },
  {
   "cell_type": "code",
   "execution_count": 121,
   "metadata": {},
   "outputs": [
    {
     "name": "stdout",
     "output_type": "stream",
     "text": [
      "./01.html\n",
      "./02.html\n",
      "./03.html\n",
      "https://pythonstart.github.io/web/04.html\n",
      "./05.html\n",
      "./06.html\n",
      "./07.html\n",
      "./08.html\n",
      "https://pythonstart.github.io/web/09.html\n",
      "./10.html\n",
      "./nclass/index.html\n",
      "https://www.naver.com/\n"
     ]
    }
   ],
   "source": [
    "all_link=soup.find_all('a')\n",
    "for i in all_link:\n",
    "    print(i.get('href'))"
   ]
  },
  {
   "cell_type": "code",
   "execution_count": 124,
   "metadata": {},
   "outputs": [
    {
     "data": {
      "text/plain": [
       "<title>나의 웹 페이지</title>"
      ]
     },
     "execution_count": 124,
     "metadata": {},
     "output_type": "execute_result"
    }
   ],
   "source": [
    "from urllib.request import urlopen\n",
    "from bs4 import BeautifulSoup\n",
    "url = \"https://ldjwj.github.io/00_PYTHON_LEVELUP_CLASS/web_class/index.html\"\n",
    "page = urlopen(url)\n",
    "page\n",
    "\n",
    "soup = BeautifulSoup(page, \"html.parser\")\n",
    "soup.title"
   ]
  },
  {
   "cell_type": "markdown",
   "metadata": {},
   "source": [
    "### 네이버 주식정보 가져오기"
   ]
  },
  {
   "cell_type": "code",
   "execution_count": 125,
   "metadata": {},
   "outputs": [
    {
     "data": {
      "text/plain": [
       "<title>국내증시 : 네이버 금융</title>"
      ]
     },
     "execution_count": 125,
     "metadata": {},
     "output_type": "execute_result"
    }
   ],
   "source": [
    "from urllib.request import urlopen\n",
    "from bs4 import BeautifulSoup\n",
    "url = \"https://finance.naver.com/sise/\"\n",
    "page = urlopen(url)\n",
    "page\n",
    "soup = BeautifulSoup(page, \"html.parser\")\n",
    "soup.title"
   ]
  },
  {
   "cell_type": "markdown",
   "metadata": {},
   "source": [
    "4-5 코스피, 코스닥, 코스피200 정보 가져오기"
   ]
  },
  {
   "cell_type": "code",
   "execution_count": 147,
   "metadata": {},
   "outputs": [
    {
     "name": "stdout",
     "output_type": "stream",
     "text": [
      "코스피:999.15,코스닥:999.15,코스피200:436.53\n"
     ]
    }
   ],
   "source": [
    "a=soup.find_all('span',id='KOSDAQ_now')[0].text\n",
    "b=soup.find_all('span',id=\"KOSDAQ_now\")[0].text\n",
    "c=soup.find_all('span',id=\"KPI200_now\")[0].text\n",
    "print(f\"코스피:{a},코스닥:{b},코스피200:{c}\")"
   ]
  },
  {
   "cell_type": "markdown",
   "metadata": {},
   "source": [
    "5-3 (실습) 인기 검색 종목 가져오기"
   ]
  },
  {
   "cell_type": "code",
   "execution_count": 186,
   "metadata": {},
   "outputs": [
    {
     "name": "stdout",
     "output_type": "stream",
     "text": [
      "NAVER\n",
      "394,500\n"
     ]
    }
   ],
   "source": [
    "search_stock=soup.find('ul',id='popularItemList')\n",
    "stock_all=search_stock.find_all('li')\n",
    "stock_all[0]\n",
    "print(stock_all[0].find('a').text)\n",
    "print(stock_all[0].find('span').text)"
   ]
  },
  {
   "cell_type": "code",
   "execution_count": 191,
   "metadata": {},
   "outputs": [
    {
     "name": "stdout",
     "output_type": "stream",
     "text": [
      "['NAVER', '삼성전자', '서울식품', '카카오', '두산중공업', '쌍방울', 'HMM', '대원전선', '대한전선', '한전산업']\n",
      "['394,500', '81,500', '458', '143,000', '24,550', '1,275', '45,550', '3,480', '3,290', '10,900']\n"
     ]
    }
   ],
   "source": [
    "com_all=[]\n",
    "price_all=[]\n",
    "for one in stock_all:\n",
    "    com_one=one.find('a').text\n",
    "    price_one=one.find('span').text\n",
    "    com_all.append(com_one)\n",
    "    price_all.append(price_one)\n",
    "    \n",
    "print(com_all)\n",
    "print(price_all)"
   ]
  },
  {
   "cell_type": "markdown",
   "metadata": {},
   "source": [
    "5-3 (추가) 인기 검색 종목 +(상승), -(하락) 포함시키기"
   ]
  },
  {
   "cell_type": "code",
   "execution_count": 216,
   "metadata": {},
   "outputs": [
    {
     "name": "stdout",
     "output_type": "stream",
     "text": [
      "['NAVER', '삼성전자', '서울식품', '카카오', '두산중공업', '쌍방울', 'HMM', '대원전선', '대한전선', '한전산업']\n",
      "['394,500', '81,500', '458', '143,000', '24,550', '1,275', '45,550', '3,480', '3,290', '10,900']\n",
      "['상승', '상승', '상승', '하락', '상승', '하락', '상승', '상승', '상승', '상승']\n"
     ]
    }
   ],
   "source": [
    "search_stock=soup.find('ul',id='popularItemList')\n",
    "stock_all=search_stock.find_all('li')\n",
    "\n",
    "com_all=[]\n",
    "price_all=[]\n",
    "rank_all=[]\n",
    "for one in stock_all:\n",
    "    com_one=one.find('a').text\n",
    "    price_one=one.find('span').text\n",
    "    rank_one=one.find('span',class_='blind').text\n",
    "    com_all.append(com_one)\n",
    "    price_all.append(price_one)\n",
    "    rank_all.append(rank_one)\n",
    "\n",
    "print(com_all)\n",
    "print(price_all)    \n",
    "print(rank_all)"
   ]
  },
  {
   "cell_type": "markdown",
   "metadata": {},
   "source": [
    "5-3 (추가) 인기 검색 종목 코드 가져오기"
   ]
  },
  {
   "cell_type": "code",
   "execution_count": 248,
   "metadata": {},
   "outputs": [
    {
     "name": "stdout",
     "output_type": "stream",
     "text": [
      "['NAVER', '삼성전자', '서울식품', '카카오', '두산중공업', '쌍방울', 'HMM', '대원전선', '대한전선', '한전산업']\n",
      "['394,500', '81,500', '458', '143,000', '24,550', '1,275', '45,550', '3,480', '3,290', '10,900']\n",
      "['상승', '상승', '상승', '하락', '상승', '하락', '상승', '상승', '상승', '상승']\n",
      "[\"'035420'\", \"'005930'\", \"'004410'\", \"'035720'\", \"'034020'\", \"'102280'\", \"'011200'\", \"'006340'\", \"'001440'\", \"'130660'\"]\n"
     ]
    }
   ],
   "source": [
    "search_stock=soup.find('ul',id='popularItemList')\n",
    "stock_all=search_stock.find_all('li')\n",
    "\n",
    "com_all=[]\n",
    "price_all=[]\n",
    "rank_all=[]\n",
    "code_all=[]\n",
    "for one in stock_all:\n",
    "    com_one=one.find('a').text\n",
    "    price_one=one.find('span').text\n",
    "    rank_one=one.find('span',class_='blind').text\n",
    "    code_one=one.find('a').get(\"onclick\").split(',')[2]\n",
    "    com_all.append(com_one)\n",
    "    price_all.append(price_one)\n",
    "    rank_all.append(rank_one)\n",
    "    code_all.append(code_one)\n",
    "\n",
    "print(com_all)\n",
    "print(price_all)    \n",
    "print(rank_all)\n",
    "print(code_all)"
   ]
  },
  {
   "cell_type": "markdown",
   "metadata": {},
   "source": [
    "5-3 (도전) 주요 해외 지수 가져오기"
   ]
  },
  {
   "cell_type": "code",
   "execution_count": 251,
   "metadata": {},
   "outputs": [
    {
     "name": "stdout",
     "output_type": "stream",
     "text": [
      "['다우산업', ' 나스닥', ' 홍콩H', ' 상해종합', ' 니케이225']\n",
      "['34,299.33', '14,072.86', '10,605.78', '3,529.11', '29,330.77']\n"
     ]
    }
   ],
   "source": [
    "aboard_stock=soup.find('ul',class_=\"lst_major\")\n",
    "stock_all1=aboard_stock.find_all('li')\n",
    "stock_all1[0]\n",
    "\n",
    "a_name=[]\n",
    "a_price=[]\n",
    "\n",
    "for i in stock_all1:\n",
    "    a_name_i=i.find('a').text\n",
    "    a_price_i=i.find('span').text\n",
    "    a_name.append(a_name_i)\n",
    "    a_price.append(a_price_i)\n",
    "print(a_name)\n",
    "print(a_price)"
   ]
  },
  {
   "cell_type": "markdown",
   "metadata": {},
   "source": [
    "###과제\n",
    "top종목에 있는 정보 중에 상한가 정보를 가져와서 xlsx파일로 정리하기\n",
    "제출:구글드라이브"
   ]
  },
  {
   "cell_type": "code",
   "execution_count": 285,
   "metadata": {},
   "outputs": [
    {
     "data": {
      "text/plain": [
       "[[],\n",
       " [<td class=\"blank_08\" colspan=\"10\"></td>],\n",
       " [<td class=\"tc\"><img alt=\"01\" height=\"11\" src=\"https://ssl.pstatic.net/imgstock/images5/ico_n01.gif\" width=\"11\"/></td>,\n",
       "  <td class=\"number\">2</td>,\n",
       "  <td class=\"number\">4</td>,\n",
       "  <td><a class=\"tltle\" href=\"/item/main.nhn?code=006345\" onclick=\"clickcr(this, 'bqu.2', '006345', '1', event)\">대원전선우</a></td>,\n",
       "  <td class=\"number\">6,050</td>,\n",
       "  <td class=\"number\">\n",
       "  <em class=\"bu_p bu_pup2\" style=\"margin:0 4px 0 0\"><span class=\"blind\">상한</span></em><span class=\"tah p11 red01\">\n",
       "  \t\t\t\t1,390\n",
       "  \t\t\t\t</span>\n",
       "  </td>,\n",
       "  <td class=\"number\">\n",
       "  <span class=\"tah p11 red01\">\n",
       "  \t\t\t\t+29.83%\n",
       "  \t\t\t\t</span>\n",
       "  </td>,\n",
       "  <td class=\"number\">860,445</td>,\n",
       "  <td class=\"number\">5,410</td>,\n",
       "  <td class=\"number\">6,050</td>,\n",
       "  <td class=\"number\">5,410</td>],\n",
       " [<td class=\"tc\"><img alt=\"01\" height=\"11\" src=\"https://ssl.pstatic.net/imgstock/images5/ico_n02.gif\" width=\"11\"/></td>,\n",
       "  <td class=\"number\">1</td>,\n",
       "  <td class=\"number\">1</td>,\n",
       "  <td><a class=\"tltle\" href=\"/item/main.nhn?code=036180\" onclick=\"clickcr(this, 'bqu.2', '036180', '2', event)\">지더블유바이텍</a></td>,\n",
       "  <td class=\"number\">3,130</td>,\n",
       "  <td class=\"number\">\n",
       "  <em class=\"bu_p bu_pup2\" style=\"margin:0 4px 0 0\"><span class=\"blind\">상한</span></em><span class=\"tah p11 red01\">\n",
       "  \t\t\t\t720\n",
       "  \t\t\t\t</span>\n",
       "  </td>,\n",
       "  <td class=\"number\">\n",
       "  <span class=\"tah p11 red01\">\n",
       "  \t\t\t\t+29.88%\n",
       "  \t\t\t\t</span>\n",
       "  </td>,\n",
       "  <td class=\"number\">373,914</td>,\n",
       "  <td class=\"number\">2,410</td>,\n",
       "  <td class=\"number\">3,130</td>,\n",
       "  <td class=\"number\">2,410</td>],\n",
       " [<td class=\"tc\"><img alt=\"01\" height=\"11\" src=\"https://ssl.pstatic.net/imgstock/images5/ico_n03.gif\" width=\"11\"/></td>,\n",
       "  <td class=\"number\">1</td>,\n",
       "  <td class=\"number\">2</td>,\n",
       "  <td><a class=\"tltle\" href=\"/item/main.nhn?code=043910\" onclick=\"clickcr(this, 'bqu.2', '043910', '3', event)\">자연과환경</a></td>,\n",
       "  <td class=\"number\">2,780</td>,\n",
       "  <td class=\"number\">\n",
       "  <em class=\"bu_p bu_pup2\" style=\"margin:0 4px 0 0\"><span class=\"blind\">상한</span></em><span class=\"tah p11 red01\">\n",
       "  \t\t\t\t640\n",
       "  \t\t\t\t</span>\n",
       "  </td>,\n",
       "  <td class=\"number\">\n",
       "  <span class=\"tah p11 red01\">\n",
       "  \t\t\t\t+29.91%\n",
       "  \t\t\t\t</span>\n",
       "  </td>,\n",
       "  <td class=\"number\">48,692,956</td>,\n",
       "  <td class=\"number\">2,205</td>,\n",
       "  <td class=\"number\">2,780</td>,\n",
       "  <td class=\"number\">2,195</td>],\n",
       " [<td class=\"tc\"><img alt=\"01\" height=\"11\" src=\"https://ssl.pstatic.net/imgstock/images5/ico_n04.gif\" width=\"11\"/></td>,\n",
       "  <td class=\"number\">1</td>,\n",
       "  <td class=\"number\">1</td>,\n",
       "  <td><a class=\"tltle\" href=\"/item/main.nhn?code=079940\" onclick=\"clickcr(this, 'bqu.2', '079940', '4', event)\">가비아</a></td>,\n",
       "  <td class=\"number\">19,100</td>,\n",
       "  <td class=\"number\">\n",
       "  <em class=\"bu_p bu_pup2\" style=\"margin:0 4px 0 0\"><span class=\"blind\">상한</span></em><span class=\"tah p11 red01\">\n",
       "  \t\t\t\t4,400\n",
       "  \t\t\t\t</span>\n",
       "  </td>,\n",
       "  <td class=\"number\">\n",
       "  <span class=\"tah p11 red01\">\n",
       "  \t\t\t\t+29.93%\n",
       "  \t\t\t\t</span>\n",
       "  </td>,\n",
       "  <td class=\"number\">12,452,113</td>,\n",
       "  <td class=\"number\">14,800</td>,\n",
       "  <td class=\"number\">19,100</td>,\n",
       "  <td class=\"number\">14,500</td>],\n",
       " [<td class=\"tc\"><img alt=\"01\" height=\"11\" src=\"https://ssl.pstatic.net/imgstock/images5/ico_n05.gif\" width=\"11\"/></td>,\n",
       "  <td class=\"number\">1</td>,\n",
       "  <td class=\"number\">1</td>,\n",
       "  <td><a class=\"tltle\" href=\"/item/main.nhn?code=090150\" onclick=\"clickcr(this, 'bqu.2', '090150', '5', event)\">광진윈텍</a></td>,\n",
       "  <td class=\"number\">5,410</td>,\n",
       "  <td class=\"number\">\n",
       "  <em class=\"bu_p bu_pup2\" style=\"margin:0 4px 0 0\"><span class=\"blind\">상한</span></em><span class=\"tah p11 red01\">\n",
       "  \t\t\t\t1,245\n",
       "  \t\t\t\t</span>\n",
       "  </td>,\n",
       "  <td class=\"number\">\n",
       "  <span class=\"tah p11 red01\">\n",
       "  \t\t\t\t+29.89%\n",
       "  \t\t\t\t</span>\n",
       "  </td>,\n",
       "  <td class=\"number\">1,233,708</td>,\n",
       "  <td class=\"number\">4,780</td>,\n",
       "  <td class=\"number\">5,410</td>,\n",
       "  <td class=\"number\">4,530</td>],\n",
       " [<td class=\"blank_06\" colspan=\"10\"></td>],\n",
       " [<td class=\"division_line\" colspan=\"10\"></td>],\n",
       " [<td class=\"blank_08\" colspan=\"10\"></td>],\n",
       " [<td class=\"tc\"><img alt=\"01\" height=\"11\" src=\"https://ssl.pstatic.net/imgstock/images5/ico_n06.gif\" width=\"11\"/></td>,\n",
       "  <td class=\"number\">1</td>,\n",
       "  <td class=\"number\">3</td>,\n",
       "  <td><a class=\"tltle\" href=\"/item/main.nhn?code=130660\" onclick=\"clickcr(this, 'bqu.2', '130660', '6', event)\">한전산업</a></td>,\n",
       "  <td class=\"number\">11,100</td>,\n",
       "  <td class=\"number\">\n",
       "  <em class=\"bu_p bu_pup2\" style=\"margin:0 4px 0 0\"><span class=\"blind\">상한</span></em><span class=\"tah p11 red01\">\n",
       "  \t\t\t\t2,550\n",
       "  \t\t\t\t</span>\n",
       "  </td>,\n",
       "  <td class=\"number\">\n",
       "  <span class=\"tah p11 red01\">\n",
       "  \t\t\t\t+29.82%\n",
       "  \t\t\t\t</span>\n",
       "  </td>,\n",
       "  <td class=\"number\">36,451,207</td>,\n",
       "  <td class=\"number\">8,500</td>,\n",
       "  <td class=\"number\">11,100</td>,\n",
       "  <td class=\"number\">8,420</td>],\n",
       " [<td class=\"tc\"><img alt=\"01\" height=\"11\" src=\"https://ssl.pstatic.net/imgstock/images5/ico_n07.gif\" width=\"11\"/></td>,\n",
       "  <td class=\"number\">1</td>,\n",
       "  <td class=\"number\">9</td>,\n",
       "  <td><a class=\"tltle\" href=\"/item/main.nhn?code=311060\" onclick=\"clickcr(this, 'bqu.2', '311060', '7', event)\">엘에이티</a></td>,\n",
       "  <td class=\"number\">4,380</td>,\n",
       "  <td class=\"number\">\n",
       "  <em class=\"bu_p bu_pup2\" style=\"margin:0 4px 0 0\"><span class=\"blind\">상한</span></em><span class=\"tah p11 red01\">\n",
       "  \t\t\t\t570\n",
       "  \t\t\t\t</span>\n",
       "  </td>,\n",
       "  <td class=\"number\">\n",
       "  <span class=\"tah p11 red01\">\n",
       "  \t\t\t\t+14.96%\n",
       "  \t\t\t\t</span>\n",
       "  </td>,\n",
       "  <td class=\"number\">209</td>,\n",
       "  <td class=\"number\">3,810</td>,\n",
       "  <td class=\"number\">4,380</td>,\n",
       "  <td class=\"number\">3,255</td>],\n",
       " [<td class=\"blank_06\" colspan=\"10\"></td>],\n",
       " [<td class=\"division_line\" colspan=\"10\"></td>]]"
      ]
     },
     "execution_count": 285,
     "metadata": {},
     "output_type": "execute_result"
    }
   ],
   "source": [
    "import requests                  \n",
    "from bs4 import BeautifulSoup    \n",
    " \n",
    "response = requests.get('https://finance.naver.com/sise/')\n",
    "soup = BeautifulSoup(response.content, 'html.parser')\n",
    " \n",
    "table = soup.find('table',id=\"siselist_tab_0\")    \n",
    "\n",
    "data = []                            \n",
    "for tr in table.find_all('tr'):     \n",
    "    tds = list(tr.find_all('td'))\n",
    "    data.append(tds)    \n",
    "data  "
   ]
  },
  {
   "cell_type": "code",
   "execution_count": null,
   "metadata": {},
   "outputs": [],
   "source": [
    "dat={'순위':com,'연속':urls,'누적':,\n",
    "     '종목명':,'현재가:','전일비:','등락률:','거래량:',\n",
    "     '시가:','고가:','저가:',\n",
    "    }\n",
    "dat=pd.DataFrame(dat)\n",
    "dat\n",
    "\n",
    "top_stock=soup.find('table',id=\"siselist_tab_0\")\n",
    "num=top_stock.find_all('td',class_='number')"
   ]
  }
 ],
 "metadata": {
  "kernelspec": {
   "display_name": "Python 3",
   "language": "python",
   "name": "python3"
  },
  "language_info": {
   "codemirror_mode": {
    "name": "ipython",
    "version": 3
   },
   "file_extension": ".py",
   "mimetype": "text/x-python",
   "name": "python",
   "nbconvert_exporter": "python",
   "pygments_lexer": "ipython3",
   "version": "3.8.5"
  }
 },
 "nbformat": 4,
 "nbformat_minor": 4
}
