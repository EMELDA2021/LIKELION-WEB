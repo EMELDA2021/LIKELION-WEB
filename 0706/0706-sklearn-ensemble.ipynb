{
 "cells": [
  {
   "cell_type": "code",
   "execution_count": 1,
   "metadata": {
    "_cell_guid": "b1076dfc-b9ad-4769-8c92-a6c4dae69d19",
    "_uuid": "8f2839f25d086af736a60e9eeb907d3b93b6e0e5",
    "execution": {
     "iopub.execute_input": "2021-07-06T05:14:07.632395Z",
     "iopub.status.busy": "2021-07-06T05:14:07.631220Z",
     "iopub.status.idle": "2021-07-06T05:14:07.645114Z",
     "shell.execute_reply": "2021-07-06T05:14:07.645597Z",
     "shell.execute_reply.started": "2021-07-06T05:12:53.593324Z"
    },
    "papermill": {
     "duration": 0.070937,
     "end_time": "2021-07-06T05:14:07.645885",
     "exception": false,
     "start_time": "2021-07-06T05:14:07.574948",
     "status": "completed"
    },
    "tags": []
   },
   "outputs": [
    {
     "name": "stdout",
     "output_type": "stream",
     "text": [
      "/kaggle/input/titanic/train.csv\n",
      "/kaggle/input/titanic/test.csv\n",
      "/kaggle/input/titanic/gender_submission.csv\n"
     ]
    }
   ],
   "source": [
    "# This Python 3 environment comes with many helpful analytics libraries installed\n",
    "# It is defined by the kaggle/python Docker image: https://github.com/kaggle/docker-python\n",
    "# For example, here's several helpful packages to load\n",
    "\n",
    "import numpy as np # linear algebra\n",
    "import pandas as pd # data processing, CSV file I/O (e.g. pd.read_csv)\n",
    "\n",
    "# Input data files are available in the read-only \"../input/\" directory\n",
    "# For example, running this (by clicking run or pressing Shift+Enter) will list all files under the input directory\n",
    "\n",
    "import os\n",
    "for dirname, _, filenames in os.walk('/kaggle/input'):\n",
    "    for filename in filenames:\n",
    "        print(os.path.join(dirname, filename))\n",
    "\n",
    "# You can write up to 20GB to the current directory (/kaggle/working/) that gets preserved as output when you create a version using \"Save & Run All\" \n",
    "# You can also write temporary files to /kaggle/temp/, but they won't be saved outside of the current session"
   ]
  },
  {
   "cell_type": "code",
   "execution_count": 2,
   "metadata": {
    "execution": {
     "iopub.execute_input": "2021-07-06T05:14:07.754634Z",
     "iopub.status.busy": "2021-07-06T05:14:07.753798Z",
     "iopub.status.idle": "2021-07-06T05:14:07.780786Z",
     "shell.execute_reply": "2021-07-06T05:14:07.780198Z",
     "shell.execute_reply.started": "2021-07-06T05:12:53.616346Z"
    },
    "papermill": {
     "duration": 0.083424,
     "end_time": "2021-07-06T05:14:07.780943",
     "exception": false,
     "start_time": "2021-07-06T05:14:07.697519",
     "status": "completed"
    },
    "tags": []
   },
   "outputs": [],
   "source": [
    "train=pd.read_csv('/kaggle/input/titanic/train.csv')\n",
    "test=pd.read_csv('/kaggle/input/titanic/test.csv')"
   ]
  },
  {
   "cell_type": "code",
   "execution_count": 3,
   "metadata": {
    "execution": {
     "iopub.execute_input": "2021-07-06T05:14:07.907802Z",
     "iopub.status.busy": "2021-07-06T05:14:07.906848Z",
     "iopub.status.idle": "2021-07-06T05:14:07.910417Z",
     "shell.execute_reply": "2021-07-06T05:14:07.910926Z",
     "shell.execute_reply.started": "2021-07-06T05:12:53.639114Z"
    },
    "papermill": {
     "duration": 0.070502,
     "end_time": "2021-07-06T05:14:07.911117",
     "exception": false,
     "start_time": "2021-07-06T05:14:07.840615",
     "status": "completed"
    },
    "tags": []
   },
   "outputs": [
    {
     "data": {
      "text/plain": [
       "((891, 12), (418, 11))"
      ]
     },
     "execution_count": 3,
     "metadata": {},
     "output_type": "execute_result"
    }
   ],
   "source": [
    "all_df = [train, test]\n",
    "train.shape, test.shape"
   ]
  },
  {
   "cell_type": "code",
   "execution_count": 4,
   "metadata": {
    "execution": {
     "iopub.execute_input": "2021-07-06T05:14:08.023033Z",
     "iopub.status.busy": "2021-07-06T05:14:08.022211Z",
     "iopub.status.idle": "2021-07-06T05:14:08.997313Z",
     "shell.execute_reply": "2021-07-06T05:14:08.996350Z",
     "shell.execute_reply.started": "2021-07-06T05:12:53.853942Z"
    },
    "papermill": {
     "duration": 1.032459,
     "end_time": "2021-07-06T05:14:08.997471",
     "exception": false,
     "start_time": "2021-07-06T05:14:07.965012",
     "status": "completed"
    },
    "tags": []
   },
   "outputs": [
    {
     "name": "stdout",
     "output_type": "stream",
     "text": [
      "pandas 버전  1.2.3\n",
      "seaborn 버전  0.11.1\n"
     ]
    }
   ],
   "source": [
    "import pandas as pd\n",
    "import seaborn as sns\n",
    "import matplotlib.pyplot as plt\n",
    "print(\"pandas 버전 \", pd.__version__) \n",
    "print(\"seaborn 버전 \", sns.__version__) "
   ]
  },
  {
   "cell_type": "code",
   "execution_count": 5,
   "metadata": {
    "execution": {
     "iopub.execute_input": "2021-07-06T05:14:09.106640Z",
     "iopub.status.busy": "2021-07-06T05:14:09.105992Z",
     "iopub.status.idle": "2021-07-06T05:14:09.108885Z",
     "shell.execute_reply": "2021-07-06T05:14:09.108383Z",
     "shell.execute_reply.started": "2021-07-06T05:12:53.862613Z"
    },
    "papermill": {
     "duration": 0.059184,
     "end_time": "2021-07-06T05:14:09.109022",
     "exception": false,
     "start_time": "2021-07-06T05:14:09.049838",
     "status": "completed"
    },
    "tags": []
   },
   "outputs": [],
   "source": [
    "# anscombe = sns.load_dataset('anscombe')"
   ]
  },
  {
   "cell_type": "code",
   "execution_count": 6,
   "metadata": {
    "execution": {
     "iopub.execute_input": "2021-07-06T05:14:09.219766Z",
     "iopub.status.busy": "2021-07-06T05:14:09.219074Z",
     "iopub.status.idle": "2021-07-06T05:14:09.220893Z",
     "shell.execute_reply": "2021-07-06T05:14:09.221376Z",
     "shell.execute_reply.started": "2021-07-06T05:12:53.879851Z"
    },
    "papermill": {
     "duration": 0.059292,
     "end_time": "2021-07-06T05:14:09.221535",
     "exception": false,
     "start_time": "2021-07-06T05:14:09.162243",
     "status": "completed"
    },
    "tags": []
   },
   "outputs": [],
   "source": [
    "# anscombe.head()"
   ]
  },
  {
   "cell_type": "code",
   "execution_count": 7,
   "metadata": {
    "execution": {
     "iopub.execute_input": "2021-07-06T05:14:09.329391Z",
     "iopub.status.busy": "2021-07-06T05:14:09.328769Z",
     "iopub.status.idle": "2021-07-06T05:14:09.332037Z",
     "shell.execute_reply": "2021-07-06T05:14:09.332531Z",
     "shell.execute_reply.started": "2021-07-06T05:12:53.895793Z"
    },
    "papermill": {
     "duration": 0.058669,
     "end_time": "2021-07-06T05:14:09.332713",
     "exception": false,
     "start_time": "2021-07-06T05:14:09.274044",
     "status": "completed"
    },
    "tags": []
   },
   "outputs": [],
   "source": [
    "# anscombe.dataset.unique()"
   ]
  },
  {
   "cell_type": "code",
   "execution_count": 8,
   "metadata": {
    "execution": {
     "iopub.execute_input": "2021-07-06T05:14:09.441928Z",
     "iopub.status.busy": "2021-07-06T05:14:09.441280Z",
     "iopub.status.idle": "2021-07-06T05:14:09.444626Z",
     "shell.execute_reply": "2021-07-06T05:14:09.445166Z",
     "shell.execute_reply.started": "2021-07-06T05:12:53.912618Z"
    },
    "papermill": {
     "duration": 0.059324,
     "end_time": "2021-07-06T05:14:09.445324",
     "exception": false,
     "start_time": "2021-07-06T05:14:09.386000",
     "status": "completed"
    },
    "tags": []
   },
   "outputs": [],
   "source": [
    "# anscombe_plot = sns.lmplot(x='x', y='y', data=anscombe, hue='dataset')"
   ]
  },
  {
   "cell_type": "code",
   "execution_count": 9,
   "metadata": {
    "execution": {
     "iopub.execute_input": "2021-07-06T05:14:09.554926Z",
     "iopub.status.busy": "2021-07-06T05:14:09.553943Z",
     "iopub.status.idle": "2021-07-06T05:14:09.582687Z",
     "shell.execute_reply": "2021-07-06T05:14:09.582162Z",
     "shell.execute_reply.started": "2021-07-06T05:12:53.930026Z"
    },
    "papermill": {
     "duration": 0.085014,
     "end_time": "2021-07-06T05:14:09.582848",
     "exception": false,
     "start_time": "2021-07-06T05:14:09.497834",
     "status": "completed"
    },
    "tags": []
   },
   "outputs": [
    {
     "data": {
      "text/html": [
       "<div>\n",
       "<style scoped>\n",
       "    .dataframe tbody tr th:only-of-type {\n",
       "        vertical-align: middle;\n",
       "    }\n",
       "\n",
       "    .dataframe tbody tr th {\n",
       "        vertical-align: top;\n",
       "    }\n",
       "\n",
       "    .dataframe thead th {\n",
       "        text-align: right;\n",
       "    }\n",
       "</style>\n",
       "<table border=\"1\" class=\"dataframe\">\n",
       "  <thead>\n",
       "    <tr style=\"text-align: right;\">\n",
       "      <th></th>\n",
       "      <th>PassengerId</th>\n",
       "      <th>Survived</th>\n",
       "      <th>Pclass</th>\n",
       "      <th>Name</th>\n",
       "      <th>Sex</th>\n",
       "      <th>Age</th>\n",
       "      <th>SibSp</th>\n",
       "      <th>Parch</th>\n",
       "      <th>Ticket</th>\n",
       "      <th>Fare</th>\n",
       "      <th>Cabin</th>\n",
       "      <th>Embarked</th>\n",
       "    </tr>\n",
       "  </thead>\n",
       "  <tbody>\n",
       "    <tr>\n",
       "      <th>0</th>\n",
       "      <td>1</td>\n",
       "      <td>0</td>\n",
       "      <td>3</td>\n",
       "      <td>Braund, Mr. Owen Harris</td>\n",
       "      <td>male</td>\n",
       "      <td>22.0</td>\n",
       "      <td>1</td>\n",
       "      <td>0</td>\n",
       "      <td>A/5 21171</td>\n",
       "      <td>7.2500</td>\n",
       "      <td>NaN</td>\n",
       "      <td>S</td>\n",
       "    </tr>\n",
       "    <tr>\n",
       "      <th>1</th>\n",
       "      <td>2</td>\n",
       "      <td>1</td>\n",
       "      <td>1</td>\n",
       "      <td>Cumings, Mrs. John Bradley (Florence Briggs Th...</td>\n",
       "      <td>female</td>\n",
       "      <td>38.0</td>\n",
       "      <td>1</td>\n",
       "      <td>0</td>\n",
       "      <td>PC 17599</td>\n",
       "      <td>71.2833</td>\n",
       "      <td>C85</td>\n",
       "      <td>C</td>\n",
       "    </tr>\n",
       "    <tr>\n",
       "      <th>2</th>\n",
       "      <td>3</td>\n",
       "      <td>1</td>\n",
       "      <td>3</td>\n",
       "      <td>Heikkinen, Miss. Laina</td>\n",
       "      <td>female</td>\n",
       "      <td>26.0</td>\n",
       "      <td>0</td>\n",
       "      <td>0</td>\n",
       "      <td>STON/O2. 3101282</td>\n",
       "      <td>7.9250</td>\n",
       "      <td>NaN</td>\n",
       "      <td>S</td>\n",
       "    </tr>\n",
       "  </tbody>\n",
       "</table>\n",
       "</div>"
      ],
      "text/plain": [
       "   PassengerId  Survived  Pclass  \\\n",
       "0            1         0       3   \n",
       "1            2         1       1   \n",
       "2            3         1       3   \n",
       "\n",
       "                                                Name     Sex   Age  SibSp  \\\n",
       "0                            Braund, Mr. Owen Harris    male  22.0      1   \n",
       "1  Cumings, Mrs. John Bradley (Florence Briggs Th...  female  38.0      1   \n",
       "2                             Heikkinen, Miss. Laina  female  26.0      0   \n",
       "\n",
       "   Parch            Ticket     Fare Cabin Embarked  \n",
       "0      0         A/5 21171   7.2500   NaN        S  \n",
       "1      0          PC 17599  71.2833   C85        C  \n",
       "2      0  STON/O2. 3101282   7.9250   NaN        S  "
      ]
     },
     "execution_count": 9,
     "metadata": {},
     "output_type": "execute_result"
    }
   ],
   "source": [
    "train.head(3)"
   ]
  },
  {
   "cell_type": "markdown",
   "metadata": {
    "papermill": {
     "duration": 0.053109,
     "end_time": "2021-07-06T05:14:09.689759",
     "exception": false,
     "start_time": "2021-07-06T05:14:09.636650",
     "status": "completed"
    },
    "tags": []
   },
   "source": [
    "### 실습 1-4 Age, Fare lmplot을 그려보자. 생존자(생존, 사망)"
   ]
  },
  {
   "cell_type": "code",
   "execution_count": 10,
   "metadata": {
    "execution": {
     "iopub.execute_input": "2021-07-06T05:14:09.806959Z",
     "iopub.status.busy": "2021-07-06T05:14:09.805864Z",
     "iopub.status.idle": "2021-07-06T05:14:10.535857Z",
     "shell.execute_reply": "2021-07-06T05:14:10.535345Z",
     "shell.execute_reply.started": "2021-07-06T05:12:53.958874Z"
    },
    "papermill": {
     "duration": 0.793107,
     "end_time": "2021-07-06T05:14:10.535996",
     "exception": false,
     "start_time": "2021-07-06T05:14:09.742889",
     "status": "completed"
    },
    "tags": []
   },
   "outputs": [
    {
     "data": {
      "image/png": "[encoded data removed]",
      "text/plain": [
       "<Figure size 411.875x360 with 1 Axes>"
      ]
     },
     "metadata": {
      "needs_background": "light"
     },
     "output_type": "display_data"
    }
   ],
   "source": [
    "titanic_plot = sns.lmplot(x='Age', y='Fare', data=train, hue='Survived')"
   ]
  },
  {
   "cell_type": "code",
   "execution_count": 11,
   "metadata": {
    "execution": {
     "iopub.execute_input": "2021-07-06T05:14:10.650904Z",
     "iopub.status.busy": "2021-07-06T05:14:10.649994Z",
     "iopub.status.idle": "2021-07-06T05:14:10.654259Z",
     "shell.execute_reply": "2021-07-06T05:14:10.653617Z",
     "shell.execute_reply.started": "2021-07-06T05:12:54.646898Z"
    },
    "papermill": {
     "duration": 0.063615,
     "end_time": "2021-07-06T05:14:10.654392",
     "exception": false,
     "start_time": "2021-07-06T05:14:10.590777",
     "status": "completed"
    },
    "tags": []
   },
   "outputs": [
    {
     "data": {
      "text/plain": [
       "512.3292"
      ]
     },
     "execution_count": 11,
     "metadata": {},
     "output_type": "execute_result"
    }
   ],
   "source": [
    "train['Fare'].max()"
   ]
  },
  {
   "cell_type": "markdown",
   "metadata": {
    "papermill": {
     "duration": 0.054452,
     "end_time": "2021-07-06T05:14:10.763589",
     "exception": false,
     "start_time": "2021-07-06T05:14:10.709137",
     "status": "completed"
    },
    "tags": []
   },
   "source": [
    "### 특이점(outlier) 확인"
   ]
  },
  {
   "cell_type": "code",
   "execution_count": 12,
   "metadata": {
    "execution": {
     "iopub.execute_input": "2021-07-06T05:14:10.890282Z",
     "iopub.status.busy": "2021-07-06T05:14:10.889573Z",
     "iopub.status.idle": "2021-07-06T05:14:10.892296Z",
     "shell.execute_reply": "2021-07-06T05:14:10.892790Z",
     "shell.execute_reply.started": "2021-07-06T05:12:54.658420Z"
    },
    "papermill": {
     "duration": 0.074395,
     "end_time": "2021-07-06T05:14:10.892952",
     "exception": false,
     "start_time": "2021-07-06T05:14:10.818557",
     "status": "completed"
    },
    "tags": []
   },
   "outputs": [
    {
     "data": {
      "text/html": [
       "<div>\n",
       "<style scoped>\n",
       "    .dataframe tbody tr th:only-of-type {\n",
       "        vertical-align: middle;\n",
       "    }\n",
       "\n",
       "    .dataframe tbody tr th {\n",
       "        vertical-align: top;\n",
       "    }\n",
       "\n",
       "    .dataframe thead th {\n",
       "        text-align: right;\n",
       "    }\n",
       "</style>\n",
       "<table border=\"1\" class=\"dataframe\">\n",
       "  <thead>\n",
       "    <tr style=\"text-align: right;\">\n",
       "      <th></th>\n",
       "      <th>PassengerId</th>\n",
       "      <th>Survived</th>\n",
       "      <th>Pclass</th>\n",
       "      <th>Name</th>\n",
       "      <th>Sex</th>\n",
       "      <th>Age</th>\n",
       "      <th>SibSp</th>\n",
       "      <th>Parch</th>\n",
       "      <th>Ticket</th>\n",
       "      <th>Fare</th>\n",
       "      <th>Cabin</th>\n",
       "      <th>Embarked</th>\n",
       "    </tr>\n",
       "  </thead>\n",
       "  <tbody>\n",
       "    <tr>\n",
       "      <th>258</th>\n",
       "      <td>259</td>\n",
       "      <td>1</td>\n",
       "      <td>1</td>\n",
       "      <td>Ward, Miss. Anna</td>\n",
       "      <td>female</td>\n",
       "      <td>35.0</td>\n",
       "      <td>0</td>\n",
       "      <td>0</td>\n",
       "      <td>PC 17755</td>\n",
       "      <td>512.3292</td>\n",
       "      <td>NaN</td>\n",
       "      <td>C</td>\n",
       "    </tr>\n",
       "    <tr>\n",
       "      <th>679</th>\n",
       "      <td>680</td>\n",
       "      <td>1</td>\n",
       "      <td>1</td>\n",
       "      <td>Cardeza, Mr. Thomas Drake Martinez</td>\n",
       "      <td>male</td>\n",
       "      <td>36.0</td>\n",
       "      <td>0</td>\n",
       "      <td>1</td>\n",
       "      <td>PC 17755</td>\n",
       "      <td>512.3292</td>\n",
       "      <td>B51 B53 B55</td>\n",
       "      <td>C</td>\n",
       "    </tr>\n",
       "    <tr>\n",
       "      <th>737</th>\n",
       "      <td>738</td>\n",
       "      <td>1</td>\n",
       "      <td>1</td>\n",
       "      <td>Lesurer, Mr. Gustave J</td>\n",
       "      <td>male</td>\n",
       "      <td>35.0</td>\n",
       "      <td>0</td>\n",
       "      <td>0</td>\n",
       "      <td>PC 17755</td>\n",
       "      <td>512.3292</td>\n",
       "      <td>B101</td>\n",
       "      <td>C</td>\n",
       "    </tr>\n",
       "  </tbody>\n",
       "</table>\n",
       "</div>"
      ],
      "text/plain": [
       "     PassengerId  Survived  Pclass                                Name  \\\n",
       "258          259         1       1                    Ward, Miss. Anna   \n",
       "679          680         1       1  Cardeza, Mr. Thomas Drake Martinez   \n",
       "737          738         1       1              Lesurer, Mr. Gustave J   \n",
       "\n",
       "        Sex   Age  SibSp  Parch    Ticket      Fare        Cabin Embarked  \n",
       "258  female  35.0      0      0  PC 17755  512.3292          NaN        C  \n",
       "679    male  36.0      0      1  PC 17755  512.3292  B51 B53 B55        C  \n",
       "737    male  35.0      0      0  PC 17755  512.3292         B101        C  "
      ]
     },
     "execution_count": 12,
     "metadata": {},
     "output_type": "execute_result"
    }
   ],
   "source": [
    "outlier_dat=train.loc[train['Fare']>= 400,:]\n",
    "outlier_dat"
   ]
  },
  {
   "cell_type": "markdown",
   "metadata": {
    "papermill": {
     "duration": 0.056007,
     "end_time": "2021-07-06T05:14:11.004335",
     "exception": false,
     "start_time": "2021-07-06T05:14:10.948328",
     "status": "completed"
    },
    "tags": []
   },
   "source": [
    "### Cabin값이 없는 탑승자의 Pclass는?"
   ]
  },
  {
   "cell_type": "code",
   "execution_count": 13,
   "metadata": {
    "execution": {
     "iopub.execute_input": "2021-07-06T05:14:11.117934Z",
     "iopub.status.busy": "2021-07-06T05:14:11.117313Z",
     "iopub.status.idle": "2021-07-06T05:14:11.133805Z",
     "shell.execute_reply": "2021-07-06T05:14:11.134261Z",
     "shell.execute_reply.started": "2021-07-06T05:12:54.687674Z"
    },
    "papermill": {
     "duration": 0.074385,
     "end_time": "2021-07-06T05:14:11.134432",
     "exception": false,
     "start_time": "2021-07-06T05:14:11.060047",
     "status": "completed"
    },
    "tags": []
   },
   "outputs": [
    {
     "data": {
      "text/html": [
       "<div>\n",
       "<style scoped>\n",
       "    .dataframe tbody tr th:only-of-type {\n",
       "        vertical-align: middle;\n",
       "    }\n",
       "\n",
       "    .dataframe tbody tr th {\n",
       "        vertical-align: top;\n",
       "    }\n",
       "\n",
       "    .dataframe thead th {\n",
       "        text-align: right;\n",
       "    }\n",
       "</style>\n",
       "<table border=\"1\" class=\"dataframe\">\n",
       "  <thead>\n",
       "    <tr style=\"text-align: right;\">\n",
       "      <th></th>\n",
       "      <th>PassengerId</th>\n",
       "      <th>Survived</th>\n",
       "      <th>Pclass</th>\n",
       "      <th>Name</th>\n",
       "      <th>Sex</th>\n",
       "      <th>Age</th>\n",
       "      <th>SibSp</th>\n",
       "      <th>Parch</th>\n",
       "      <th>Ticket</th>\n",
       "      <th>Fare</th>\n",
       "      <th>Cabin</th>\n",
       "      <th>Embarked</th>\n",
       "    </tr>\n",
       "  </thead>\n",
       "  <tbody>\n",
       "    <tr>\n",
       "      <th>0</th>\n",
       "      <td>1</td>\n",
       "      <td>0</td>\n",
       "      <td>3</td>\n",
       "      <td>Braund, Mr. Owen Harris</td>\n",
       "      <td>male</td>\n",
       "      <td>22.0</td>\n",
       "      <td>1</td>\n",
       "      <td>0</td>\n",
       "      <td>A/5 21171</td>\n",
       "      <td>7.2500</td>\n",
       "      <td>NaN</td>\n",
       "      <td>S</td>\n",
       "    </tr>\n",
       "    <tr>\n",
       "      <th>2</th>\n",
       "      <td>3</td>\n",
       "      <td>1</td>\n",
       "      <td>3</td>\n",
       "      <td>Heikkinen, Miss. Laina</td>\n",
       "      <td>female</td>\n",
       "      <td>26.0</td>\n",
       "      <td>0</td>\n",
       "      <td>0</td>\n",
       "      <td>STON/O2. 3101282</td>\n",
       "      <td>7.9250</td>\n",
       "      <td>NaN</td>\n",
       "      <td>S</td>\n",
       "    </tr>\n",
       "    <tr>\n",
       "      <th>4</th>\n",
       "      <td>5</td>\n",
       "      <td>0</td>\n",
       "      <td>3</td>\n",
       "      <td>Allen, Mr. William Henry</td>\n",
       "      <td>male</td>\n",
       "      <td>35.0</td>\n",
       "      <td>0</td>\n",
       "      <td>0</td>\n",
       "      <td>373450</td>\n",
       "      <td>8.0500</td>\n",
       "      <td>NaN</td>\n",
       "      <td>S</td>\n",
       "    </tr>\n",
       "    <tr>\n",
       "      <th>5</th>\n",
       "      <td>6</td>\n",
       "      <td>0</td>\n",
       "      <td>3</td>\n",
       "      <td>Moran, Mr. James</td>\n",
       "      <td>male</td>\n",
       "      <td>NaN</td>\n",
       "      <td>0</td>\n",
       "      <td>0</td>\n",
       "      <td>330877</td>\n",
       "      <td>8.4583</td>\n",
       "      <td>NaN</td>\n",
       "      <td>Q</td>\n",
       "    </tr>\n",
       "    <tr>\n",
       "      <th>7</th>\n",
       "      <td>8</td>\n",
       "      <td>0</td>\n",
       "      <td>3</td>\n",
       "      <td>Palsson, Master. Gosta Leonard</td>\n",
       "      <td>male</td>\n",
       "      <td>2.0</td>\n",
       "      <td>3</td>\n",
       "      <td>1</td>\n",
       "      <td>349909</td>\n",
       "      <td>21.0750</td>\n",
       "      <td>NaN</td>\n",
       "      <td>S</td>\n",
       "    </tr>\n",
       "  </tbody>\n",
       "</table>\n",
       "</div>"
      ],
      "text/plain": [
       "   PassengerId  Survived  Pclass                            Name     Sex  \\\n",
       "0            1         0       3         Braund, Mr. Owen Harris    male   \n",
       "2            3         1       3          Heikkinen, Miss. Laina  female   \n",
       "4            5         0       3        Allen, Mr. William Henry    male   \n",
       "5            6         0       3                Moran, Mr. James    male   \n",
       "7            8         0       3  Palsson, Master. Gosta Leonard    male   \n",
       "\n",
       "    Age  SibSp  Parch            Ticket     Fare Cabin Embarked  \n",
       "0  22.0      1      0         A/5 21171   7.2500   NaN        S  \n",
       "2  26.0      0      0  STON/O2. 3101282   7.9250   NaN        S  \n",
       "4  35.0      0      0            373450   8.0500   NaN        S  \n",
       "5   NaN      0      0            330877   8.4583   NaN        Q  \n",
       "7   2.0      3      1            349909  21.0750   NaN        S  "
      ]
     },
     "execution_count": 13,
     "metadata": {},
     "output_type": "execute_result"
    }
   ],
   "source": [
    "Cabin_Na=train.loc[train['Cabin'].isna(),:]\n",
    "Cabin_Na.head()"
   ]
  },
  {
   "cell_type": "code",
   "execution_count": 14,
   "metadata": {
    "execution": {
     "iopub.execute_input": "2021-07-06T05:14:11.248455Z",
     "iopub.status.busy": "2021-07-06T05:14:11.247855Z",
     "iopub.status.idle": "2021-07-06T05:14:11.612465Z",
     "shell.execute_reply": "2021-07-06T05:14:11.611919Z",
     "shell.execute_reply.started": "2021-07-06T05:12:54.717621Z"
    },
    "papermill": {
     "duration": 0.422607,
     "end_time": "2021-07-06T05:14:11.612600",
     "exception": false,
     "start_time": "2021-07-06T05:14:11.189993",
     "status": "completed"
    },
    "tags": []
   },
   "outputs": [
    {
     "data": {
      "text/plain": [
       "<AxesSubplot:xlabel='Pclass', ylabel='Fare'>"
      ]
     },
     "execution_count": 14,
     "metadata": {},
     "output_type": "execute_result"
    },
    {
     "data": {
      "image/png": "[encoded data removed]",
      "text/plain": [
       "<Figure size 432x288 with 1 Axes>"
      ]
     },
     "metadata": {
      "needs_background": "light"
     },
     "output_type": "display_data"
    }
   ],
   "source": [
    "sns.barplot(x='Pclass',y='Fare',hue='Survived',data=Cabin_Na)"
   ]
  },
  {
   "cell_type": "code",
   "execution_count": 15,
   "metadata": {
    "execution": {
     "iopub.execute_input": "2021-07-06T05:14:11.747114Z",
     "iopub.status.busy": "2021-07-06T05:14:11.743069Z",
     "iopub.status.idle": "2021-07-06T05:14:12.082209Z",
     "shell.execute_reply": "2021-07-06T05:14:12.082679Z",
     "shell.execute_reply.started": "2021-07-06T05:12:55.113461Z"
    },
    "papermill": {
     "duration": 0.411908,
     "end_time": "2021-07-06T05:14:12.082867",
     "exception": false,
     "start_time": "2021-07-06T05:14:11.670959",
     "status": "completed"
    },
    "tags": []
   },
   "outputs": [
    {
     "data": {
      "text/plain": [
       "<AxesSubplot:xlabel='Pclass', ylabel='Fare'>"
      ]
     },
     "execution_count": 15,
     "metadata": {},
     "output_type": "execute_result"
    },
    {
     "data": {
      "image/png": "[encoded data removed]",
      "text/plain": [
       "<Figure size 432x288 with 1 Axes>"
      ]
     },
     "metadata": {
      "needs_background": "light"
     },
     "output_type": "display_data"
    }
   ],
   "source": [
    "Cabin_Notna=train.loc[train['Cabin'].notna(),:]\n",
    "sns.barplot(x='Pclass',y='Fare',hue='Survived',data=Cabin_Notna)"
   ]
  },
  {
   "cell_type": "code",
   "execution_count": 16,
   "metadata": {
    "execution": {
     "iopub.execute_input": "2021-07-06T05:14:12.242822Z",
     "iopub.status.busy": "2021-07-06T05:14:12.206163Z",
     "iopub.status.idle": "2021-07-06T05:14:13.767159Z",
     "shell.execute_reply": "2021-07-06T05:14:13.767647Z",
     "shell.execute_reply.started": "2021-07-06T05:12:55.473695Z"
    },
    "papermill": {
     "duration": 1.627363,
     "end_time": "2021-07-06T05:14:13.767833",
     "exception": false,
     "start_time": "2021-07-06T05:14:12.140470",
     "status": "completed"
    },
    "tags": []
   },
   "outputs": [
    {
     "data": {
      "image/png": "[encoded data removed]",
      "text/plain": [
       "<Figure size 1131.88x360 with 3 Axes>"
      ]
     },
     "metadata": {
      "needs_background": "light"
     },
     "output_type": "display_data"
    }
   ],
   "source": [
    "titanic_plot = sns.lmplot(x='Age', y='SibSp', data=train, \n",
    " hue='Survived',\n",
    "col='Pclass', col_wrap=3)"
   ]
  },
  {
   "cell_type": "code",
   "execution_count": 17,
   "metadata": {
    "execution": {
     "iopub.execute_input": "2021-07-06T05:14:14.070442Z",
     "iopub.status.busy": "2021-07-06T05:14:14.059585Z",
     "iopub.status.idle": "2021-07-06T05:14:15.582493Z",
     "shell.execute_reply": "2021-07-06T05:14:15.581936Z",
     "shell.execute_reply.started": "2021-07-06T05:12:57.101235Z"
    },
    "papermill": {
     "duration": 1.754685,
     "end_time": "2021-07-06T05:14:15.582634",
     "exception": false,
     "start_time": "2021-07-06T05:14:13.827949",
     "status": "completed"
    },
    "tags": []
   },
   "outputs": [
    {
     "data": {
      "image/png": "[encoded data removed]",
      "text/plain": [
       "<Figure size 1131.88x360 with 3 Axes>"
      ]
     },
     "metadata": {
      "needs_background": "light"
     },
     "output_type": "display_data"
    }
   ],
   "source": [
    "titanic_plot = sns.lmplot(x='Fare', y='SibSp', data=train, \n",
    " hue='Survived',\n",
    "col='Pclass', col_wrap=3)"
   ]
  },
  {
   "cell_type": "code",
   "execution_count": 18,
   "metadata": {
    "execution": {
     "iopub.execute_input": "2021-07-06T05:14:15.736974Z",
     "iopub.status.busy": "2021-07-06T05:14:15.714114Z",
     "iopub.status.idle": "2021-07-06T05:14:17.262300Z",
     "shell.execute_reply": "2021-07-06T05:14:17.261566Z",
     "shell.execute_reply.started": "2021-07-06T05:12:58.645028Z"
    },
    "papermill": {
     "duration": 1.617428,
     "end_time": "2021-07-06T05:14:17.262440",
     "exception": false,
     "start_time": "2021-07-06T05:14:15.645012",
     "status": "completed"
    },
    "tags": []
   },
   "outputs": [
    {
     "data": {
      "image/png": "[encoded data removed]",
      "text/plain": [
       "<Figure size 1131.88x360 with 3 Axes>"
      ]
     },
     "metadata": {
      "needs_background": "light"
     },
     "output_type": "display_data"
    }
   ],
   "source": [
    "titanic_plot = sns.lmplot(x='Age', y='Parch', data=train, \n",
    " hue='Survived',\n",
    "col='Pclass', col_wrap=3)"
   ]
  },
  {
   "cell_type": "markdown",
   "metadata": {
    "papermill": {
     "duration": 0.06308,
     "end_time": "2021-07-06T05:14:17.388485",
     "exception": false,
     "start_time": "2021-07-06T05:14:17.325405",
     "status": "completed"
    },
    "tags": []
   },
   "source": [
    "### 3등급인데, 나이가 40~50대 다 사망."
   ]
  },
  {
   "cell_type": "code",
   "execution_count": 19,
   "metadata": {
    "execution": {
     "iopub.execute_input": "2021-07-06T05:14:17.548968Z",
     "iopub.status.busy": "2021-07-06T05:14:17.548340Z",
     "iopub.status.idle": "2021-07-06T05:14:17.553374Z",
     "shell.execute_reply": "2021-07-06T05:14:17.552892Z",
     "shell.execute_reply.started": "2021-07-06T05:13:00.248403Z"
    },
    "papermill": {
     "duration": 0.102372,
     "end_time": "2021-07-06T05:14:17.553508",
     "exception": false,
     "start_time": "2021-07-06T05:14:17.451136",
     "status": "completed"
    },
    "tags": []
   },
   "outputs": [
    {
     "data": {
      "text/html": [
       "<div>\n",
       "<style scoped>\n",
       "    .dataframe tbody tr th:only-of-type {\n",
       "        vertical-align: middle;\n",
       "    }\n",
       "\n",
       "    .dataframe tbody tr th {\n",
       "        vertical-align: top;\n",
       "    }\n",
       "\n",
       "    .dataframe thead th {\n",
       "        text-align: right;\n",
       "    }\n",
       "</style>\n",
       "<table border=\"1\" class=\"dataframe\">\n",
       "  <thead>\n",
       "    <tr style=\"text-align: right;\">\n",
       "      <th></th>\n",
       "      <th>PassengerId</th>\n",
       "      <th>Survived</th>\n",
       "      <th>Pclass</th>\n",
       "      <th>Name</th>\n",
       "      <th>Sex</th>\n",
       "      <th>Age</th>\n",
       "      <th>SibSp</th>\n",
       "      <th>Parch</th>\n",
       "      <th>Ticket</th>\n",
       "      <th>Fare</th>\n",
       "      <th>Cabin</th>\n",
       "      <th>Embarked</th>\n",
       "    </tr>\n",
       "  </thead>\n",
       "  <tbody>\n",
       "    <tr>\n",
       "      <th>40</th>\n",
       "      <td>41</td>\n",
       "      <td>0</td>\n",
       "      <td>3</td>\n",
       "      <td>Ahlin, Mrs. Johan (Johanna Persdotter Larsson)</td>\n",
       "      <td>female</td>\n",
       "      <td>40.0</td>\n",
       "      <td>1</td>\n",
       "      <td>0</td>\n",
       "      <td>7546</td>\n",
       "      <td>9.4750</td>\n",
       "      <td>NaN</td>\n",
       "      <td>S</td>\n",
       "    </tr>\n",
       "    <tr>\n",
       "      <th>129</th>\n",
       "      <td>130</td>\n",
       "      <td>0</td>\n",
       "      <td>3</td>\n",
       "      <td>Ekstrom, Mr. Johan</td>\n",
       "      <td>male</td>\n",
       "      <td>45.0</td>\n",
       "      <td>0</td>\n",
       "      <td>0</td>\n",
       "      <td>347061</td>\n",
       "      <td>6.9750</td>\n",
       "      <td>NaN</td>\n",
       "      <td>S</td>\n",
       "    </tr>\n",
       "    <tr>\n",
       "      <th>132</th>\n",
       "      <td>133</td>\n",
       "      <td>0</td>\n",
       "      <td>3</td>\n",
       "      <td>Robins, Mrs. Alexander A (Grace Charity Laury)</td>\n",
       "      <td>female</td>\n",
       "      <td>47.0</td>\n",
       "      <td>1</td>\n",
       "      <td>0</td>\n",
       "      <td>A/5. 3337</td>\n",
       "      <td>14.5000</td>\n",
       "      <td>NaN</td>\n",
       "      <td>S</td>\n",
       "    </tr>\n",
       "    <tr>\n",
       "      <th>153</th>\n",
       "      <td>154</td>\n",
       "      <td>0</td>\n",
       "      <td>3</td>\n",
       "      <td>van Billiard, Mr. Austin Blyler</td>\n",
       "      <td>male</td>\n",
       "      <td>40.5</td>\n",
       "      <td>0</td>\n",
       "      <td>2</td>\n",
       "      <td>A/5. 851</td>\n",
       "      <td>14.5000</td>\n",
       "      <td>NaN</td>\n",
       "      <td>S</td>\n",
       "    </tr>\n",
       "    <tr>\n",
       "      <th>160</th>\n",
       "      <td>161</td>\n",
       "      <td>0</td>\n",
       "      <td>3</td>\n",
       "      <td>Cribb, Mr. John Hatfield</td>\n",
       "      <td>male</td>\n",
       "      <td>44.0</td>\n",
       "      <td>0</td>\n",
       "      <td>1</td>\n",
       "      <td>371362</td>\n",
       "      <td>16.1000</td>\n",
       "      <td>NaN</td>\n",
       "      <td>S</td>\n",
       "    </tr>\n",
       "    <tr>\n",
       "      <th>167</th>\n",
       "      <td>168</td>\n",
       "      <td>0</td>\n",
       "      <td>3</td>\n",
       "      <td>Skoog, Mrs. William (Anna Bernhardina Karlsson)</td>\n",
       "      <td>female</td>\n",
       "      <td>45.0</td>\n",
       "      <td>1</td>\n",
       "      <td>4</td>\n",
       "      <td>347088</td>\n",
       "      <td>27.9000</td>\n",
       "      <td>NaN</td>\n",
       "      <td>S</td>\n",
       "    </tr>\n",
       "    <tr>\n",
       "      <th>188</th>\n",
       "      <td>189</td>\n",
       "      <td>0</td>\n",
       "      <td>3</td>\n",
       "      <td>Bourke, Mr. John</td>\n",
       "      <td>male</td>\n",
       "      <td>40.0</td>\n",
       "      <td>1</td>\n",
       "      <td>1</td>\n",
       "      <td>364849</td>\n",
       "      <td>15.5000</td>\n",
       "      <td>NaN</td>\n",
       "      <td>Q</td>\n",
       "    </tr>\n",
       "    <tr>\n",
       "      <th>197</th>\n",
       "      <td>198</td>\n",
       "      <td>0</td>\n",
       "      <td>3</td>\n",
       "      <td>Olsen, Mr. Karl Siegwart Andreas</td>\n",
       "      <td>male</td>\n",
       "      <td>42.0</td>\n",
       "      <td>0</td>\n",
       "      <td>1</td>\n",
       "      <td>4579</td>\n",
       "      <td>8.4042</td>\n",
       "      <td>NaN</td>\n",
       "      <td>S</td>\n",
       "    </tr>\n",
       "    <tr>\n",
       "      <th>203</th>\n",
       "      <td>204</td>\n",
       "      <td>0</td>\n",
       "      <td>3</td>\n",
       "      <td>Youseff, Mr. Gerious</td>\n",
       "      <td>male</td>\n",
       "      <td>45.5</td>\n",
       "      <td>0</td>\n",
       "      <td>0</td>\n",
       "      <td>2628</td>\n",
       "      <td>7.2250</td>\n",
       "      <td>NaN</td>\n",
       "      <td>C</td>\n",
       "    </tr>\n",
       "    <tr>\n",
       "      <th>254</th>\n",
       "      <td>255</td>\n",
       "      <td>0</td>\n",
       "      <td>3</td>\n",
       "      <td>Rosblom, Mrs. Viktor (Helena Wilhelmina)</td>\n",
       "      <td>female</td>\n",
       "      <td>41.0</td>\n",
       "      <td>0</td>\n",
       "      <td>2</td>\n",
       "      <td>370129</td>\n",
       "      <td>20.2125</td>\n",
       "      <td>NaN</td>\n",
       "      <td>S</td>\n",
       "    </tr>\n",
       "    <tr>\n",
       "      <th>276</th>\n",
       "      <td>277</td>\n",
       "      <td>0</td>\n",
       "      <td>3</td>\n",
       "      <td>Lindblom, Miss. Augusta Charlotta</td>\n",
       "      <td>female</td>\n",
       "      <td>45.0</td>\n",
       "      <td>0</td>\n",
       "      <td>0</td>\n",
       "      <td>347073</td>\n",
       "      <td>7.7500</td>\n",
       "      <td>NaN</td>\n",
       "      <td>S</td>\n",
       "    </tr>\n",
       "    <tr>\n",
       "      <th>338</th>\n",
       "      <td>339</td>\n",
       "      <td>1</td>\n",
       "      <td>3</td>\n",
       "      <td>Dahl, Mr. Karl Edwart</td>\n",
       "      <td>male</td>\n",
       "      <td>45.0</td>\n",
       "      <td>0</td>\n",
       "      <td>0</td>\n",
       "      <td>7598</td>\n",
       "      <td>8.0500</td>\n",
       "      <td>NaN</td>\n",
       "      <td>S</td>\n",
       "    </tr>\n",
       "    <tr>\n",
       "      <th>349</th>\n",
       "      <td>350</td>\n",
       "      <td>0</td>\n",
       "      <td>3</td>\n",
       "      <td>Dimic, Mr. Jovan</td>\n",
       "      <td>male</td>\n",
       "      <td>42.0</td>\n",
       "      <td>0</td>\n",
       "      <td>0</td>\n",
       "      <td>315088</td>\n",
       "      <td>8.6625</td>\n",
       "      <td>NaN</td>\n",
       "      <td>S</td>\n",
       "    </tr>\n",
       "    <tr>\n",
       "      <th>360</th>\n",
       "      <td>361</td>\n",
       "      <td>0</td>\n",
       "      <td>3</td>\n",
       "      <td>Skoog, Mr. Wilhelm</td>\n",
       "      <td>male</td>\n",
       "      <td>40.0</td>\n",
       "      <td>1</td>\n",
       "      <td>4</td>\n",
       "      <td>347088</td>\n",
       "      <td>27.9000</td>\n",
       "      <td>NaN</td>\n",
       "      <td>S</td>\n",
       "    </tr>\n",
       "    <tr>\n",
       "      <th>362</th>\n",
       "      <td>363</td>\n",
       "      <td>0</td>\n",
       "      <td>3</td>\n",
       "      <td>Barbara, Mrs. (Catherine David)</td>\n",
       "      <td>female</td>\n",
       "      <td>45.0</td>\n",
       "      <td>0</td>\n",
       "      <td>1</td>\n",
       "      <td>2691</td>\n",
       "      <td>14.4542</td>\n",
       "      <td>NaN</td>\n",
       "      <td>C</td>\n",
       "    </tr>\n",
       "    <tr>\n",
       "      <th>414</th>\n",
       "      <td>415</td>\n",
       "      <td>1</td>\n",
       "      <td>3</td>\n",
       "      <td>Sundman, Mr. Johan Julian</td>\n",
       "      <td>male</td>\n",
       "      <td>44.0</td>\n",
       "      <td>0</td>\n",
       "      <td>0</td>\n",
       "      <td>STON/O 2. 3101269</td>\n",
       "      <td>7.9250</td>\n",
       "      <td>NaN</td>\n",
       "      <td>S</td>\n",
       "    </tr>\n",
       "    <tr>\n",
       "      <th>482</th>\n",
       "      <td>483</td>\n",
       "      <td>0</td>\n",
       "      <td>3</td>\n",
       "      <td>Rouse, Mr. Richard Henry</td>\n",
       "      <td>male</td>\n",
       "      <td>50.0</td>\n",
       "      <td>0</td>\n",
       "      <td>0</td>\n",
       "      <td>A/5 3594</td>\n",
       "      <td>8.0500</td>\n",
       "      <td>NaN</td>\n",
       "      <td>S</td>\n",
       "    </tr>\n",
       "    <tr>\n",
       "      <th>525</th>\n",
       "      <td>526</td>\n",
       "      <td>0</td>\n",
       "      <td>3</td>\n",
       "      <td>Farrell, Mr. James</td>\n",
       "      <td>male</td>\n",
       "      <td>40.5</td>\n",
       "      <td>0</td>\n",
       "      <td>0</td>\n",
       "      <td>367232</td>\n",
       "      <td>7.7500</td>\n",
       "      <td>NaN</td>\n",
       "      <td>Q</td>\n",
       "    </tr>\n",
       "    <tr>\n",
       "      <th>561</th>\n",
       "      <td>562</td>\n",
       "      <td>0</td>\n",
       "      <td>3</td>\n",
       "      <td>Sivic, Mr. Husein</td>\n",
       "      <td>male</td>\n",
       "      <td>40.0</td>\n",
       "      <td>0</td>\n",
       "      <td>0</td>\n",
       "      <td>349251</td>\n",
       "      <td>7.8958</td>\n",
       "      <td>NaN</td>\n",
       "      <td>S</td>\n",
       "    </tr>\n",
       "    <tr>\n",
       "      <th>592</th>\n",
       "      <td>593</td>\n",
       "      <td>0</td>\n",
       "      <td>3</td>\n",
       "      <td>Elsbury, Mr. William James</td>\n",
       "      <td>male</td>\n",
       "      <td>47.0</td>\n",
       "      <td>0</td>\n",
       "      <td>0</td>\n",
       "      <td>A/5 3902</td>\n",
       "      <td>7.2500</td>\n",
       "      <td>NaN</td>\n",
       "      <td>S</td>\n",
       "    </tr>\n",
       "    <tr>\n",
       "      <th>597</th>\n",
       "      <td>598</td>\n",
       "      <td>0</td>\n",
       "      <td>3</td>\n",
       "      <td>Johnson, Mr. Alfred</td>\n",
       "      <td>male</td>\n",
       "      <td>49.0</td>\n",
       "      <td>0</td>\n",
       "      <td>0</td>\n",
       "      <td>LINE</td>\n",
       "      <td>0.0000</td>\n",
       "      <td>NaN</td>\n",
       "      <td>S</td>\n",
       "    </tr>\n",
       "    <tr>\n",
       "      <th>603</th>\n",
       "      <td>604</td>\n",
       "      <td>0</td>\n",
       "      <td>3</td>\n",
       "      <td>Torber, Mr. Ernst William</td>\n",
       "      <td>male</td>\n",
       "      <td>44.0</td>\n",
       "      <td>0</td>\n",
       "      <td>0</td>\n",
       "      <td>364511</td>\n",
       "      <td>8.0500</td>\n",
       "      <td>NaN</td>\n",
       "      <td>S</td>\n",
       "    </tr>\n",
       "    <tr>\n",
       "      <th>638</th>\n",
       "      <td>639</td>\n",
       "      <td>0</td>\n",
       "      <td>3</td>\n",
       "      <td>Panula, Mrs. Juha (Maria Emilia Ojala)</td>\n",
       "      <td>female</td>\n",
       "      <td>41.0</td>\n",
       "      <td>0</td>\n",
       "      <td>5</td>\n",
       "      <td>3101295</td>\n",
       "      <td>39.6875</td>\n",
       "      <td>NaN</td>\n",
       "      <td>S</td>\n",
       "    </tr>\n",
       "    <tr>\n",
       "      <th>661</th>\n",
       "      <td>662</td>\n",
       "      <td>0</td>\n",
       "      <td>3</td>\n",
       "      <td>Badt, Mr. Mohamed</td>\n",
       "      <td>male</td>\n",
       "      <td>40.0</td>\n",
       "      <td>0</td>\n",
       "      <td>0</td>\n",
       "      <td>2623</td>\n",
       "      <td>7.2250</td>\n",
       "      <td>NaN</td>\n",
       "      <td>C</td>\n",
       "    </tr>\n",
       "    <tr>\n",
       "      <th>668</th>\n",
       "      <td>669</td>\n",
       "      <td>0</td>\n",
       "      <td>3</td>\n",
       "      <td>Cook, Mr. Jacob</td>\n",
       "      <td>male</td>\n",
       "      <td>43.0</td>\n",
       "      <td>0</td>\n",
       "      <td>0</td>\n",
       "      <td>A/5 3536</td>\n",
       "      <td>8.0500</td>\n",
       "      <td>NaN</td>\n",
       "      <td>S</td>\n",
       "    </tr>\n",
       "    <tr>\n",
       "      <th>678</th>\n",
       "      <td>679</td>\n",
       "      <td>0</td>\n",
       "      <td>3</td>\n",
       "      <td>Goodwin, Mrs. Frederick (Augusta Tyler)</td>\n",
       "      <td>female</td>\n",
       "      <td>43.0</td>\n",
       "      <td>1</td>\n",
       "      <td>6</td>\n",
       "      <td>CA 2144</td>\n",
       "      <td>46.9000</td>\n",
       "      <td>NaN</td>\n",
       "      <td>S</td>\n",
       "    </tr>\n",
       "    <tr>\n",
       "      <th>696</th>\n",
       "      <td>697</td>\n",
       "      <td>0</td>\n",
       "      <td>3</td>\n",
       "      <td>Kelly, Mr. James</td>\n",
       "      <td>male</td>\n",
       "      <td>44.0</td>\n",
       "      <td>0</td>\n",
       "      <td>0</td>\n",
       "      <td>363592</td>\n",
       "      <td>8.0500</td>\n",
       "      <td>NaN</td>\n",
       "      <td>S</td>\n",
       "    </tr>\n",
       "    <tr>\n",
       "      <th>699</th>\n",
       "      <td>700</td>\n",
       "      <td>0</td>\n",
       "      <td>3</td>\n",
       "      <td>Humblen, Mr. Adolf Mathias Nicolai Olsen</td>\n",
       "      <td>male</td>\n",
       "      <td>42.0</td>\n",
       "      <td>0</td>\n",
       "      <td>0</td>\n",
       "      <td>348121</td>\n",
       "      <td>7.6500</td>\n",
       "      <td>F G63</td>\n",
       "      <td>S</td>\n",
       "    </tr>\n",
       "    <tr>\n",
       "      <th>736</th>\n",
       "      <td>737</td>\n",
       "      <td>0</td>\n",
       "      <td>3</td>\n",
       "      <td>Ford, Mrs. Edward (Margaret Ann Watson)</td>\n",
       "      <td>female</td>\n",
       "      <td>48.0</td>\n",
       "      <td>1</td>\n",
       "      <td>3</td>\n",
       "      <td>W./C. 6608</td>\n",
       "      <td>34.3750</td>\n",
       "      <td>NaN</td>\n",
       "      <td>S</td>\n",
       "    </tr>\n",
       "    <tr>\n",
       "      <th>761</th>\n",
       "      <td>762</td>\n",
       "      <td>0</td>\n",
       "      <td>3</td>\n",
       "      <td>Nirva, Mr. Iisakki Antino Aijo</td>\n",
       "      <td>male</td>\n",
       "      <td>41.0</td>\n",
       "      <td>0</td>\n",
       "      <td>0</td>\n",
       "      <td>SOTON/O2 3101272</td>\n",
       "      <td>7.1250</td>\n",
       "      <td>NaN</td>\n",
       "      <td>S</td>\n",
       "    </tr>\n",
       "    <tr>\n",
       "      <th>771</th>\n",
       "      <td>772</td>\n",
       "      <td>0</td>\n",
       "      <td>3</td>\n",
       "      <td>Jensen, Mr. Niels Peder</td>\n",
       "      <td>male</td>\n",
       "      <td>48.0</td>\n",
       "      <td>0</td>\n",
       "      <td>0</td>\n",
       "      <td>350047</td>\n",
       "      <td>7.8542</td>\n",
       "      <td>NaN</td>\n",
       "      <td>S</td>\n",
       "    </tr>\n",
       "    <tr>\n",
       "      <th>818</th>\n",
       "      <td>819</td>\n",
       "      <td>0</td>\n",
       "      <td>3</td>\n",
       "      <td>Holm, Mr. John Fredrik Alexander</td>\n",
       "      <td>male</td>\n",
       "      <td>43.0</td>\n",
       "      <td>0</td>\n",
       "      <td>0</td>\n",
       "      <td>C 7075</td>\n",
       "      <td>6.4500</td>\n",
       "      <td>NaN</td>\n",
       "      <td>S</td>\n",
       "    </tr>\n",
       "    <tr>\n",
       "      <th>845</th>\n",
       "      <td>846</td>\n",
       "      <td>0</td>\n",
       "      <td>3</td>\n",
       "      <td>Abbing, Mr. Anthony</td>\n",
       "      <td>male</td>\n",
       "      <td>42.0</td>\n",
       "      <td>0</td>\n",
       "      <td>0</td>\n",
       "      <td>C.A. 5547</td>\n",
       "      <td>7.5500</td>\n",
       "      <td>NaN</td>\n",
       "      <td>S</td>\n",
       "    </tr>\n",
       "    <tr>\n",
       "      <th>860</th>\n",
       "      <td>861</td>\n",
       "      <td>0</td>\n",
       "      <td>3</td>\n",
       "      <td>Hansen, Mr. Claus Peter</td>\n",
       "      <td>male</td>\n",
       "      <td>41.0</td>\n",
       "      <td>2</td>\n",
       "      <td>0</td>\n",
       "      <td>350026</td>\n",
       "      <td>14.1083</td>\n",
       "      <td>NaN</td>\n",
       "      <td>S</td>\n",
       "    </tr>\n",
       "    <tr>\n",
       "      <th>873</th>\n",
       "      <td>874</td>\n",
       "      <td>0</td>\n",
       "      <td>3</td>\n",
       "      <td>Vander Cruyssen, Mr. Victor</td>\n",
       "      <td>male</td>\n",
       "      <td>47.0</td>\n",
       "      <td>0</td>\n",
       "      <td>0</td>\n",
       "      <td>345765</td>\n",
       "      <td>9.0000</td>\n",
       "      <td>NaN</td>\n",
       "      <td>S</td>\n",
       "    </tr>\n",
       "  </tbody>\n",
       "</table>\n",
       "</div>"
      ],
      "text/plain": [
       "     PassengerId  Survived  Pclass  \\\n",
       "40            41         0       3   \n",
       "129          130         0       3   \n",
       "132          133         0       3   \n",
       "153          154         0       3   \n",
       "160          161         0       3   \n",
       "167          168         0       3   \n",
       "188          189         0       3   \n",
       "197          198         0       3   \n",
       "203          204         0       3   \n",
       "254          255         0       3   \n",
       "276          277         0       3   \n",
       "338          339         1       3   \n",
       "349          350         0       3   \n",
       "360          361         0       3   \n",
       "362          363         0       3   \n",
       "414          415         1       3   \n",
       "482          483         0       3   \n",
       "525          526         0       3   \n",
       "561          562         0       3   \n",
       "592          593         0       3   \n",
       "597          598         0       3   \n",
       "603          604         0       3   \n",
       "638          639         0       3   \n",
       "661          662         0       3   \n",
       "668          669         0       3   \n",
       "678          679         0       3   \n",
       "696          697         0       3   \n",
       "699          700         0       3   \n",
       "736          737         0       3   \n",
       "761          762         0       3   \n",
       "771          772         0       3   \n",
       "818          819         0       3   \n",
       "845          846         0       3   \n",
       "860          861         0       3   \n",
       "873          874         0       3   \n",
       "\n",
       "                                                Name     Sex   Age  SibSp  \\\n",
       "40    Ahlin, Mrs. Johan (Johanna Persdotter Larsson)  female  40.0      1   \n",
       "129                               Ekstrom, Mr. Johan    male  45.0      0   \n",
       "132   Robins, Mrs. Alexander A (Grace Charity Laury)  female  47.0      1   \n",
       "153                  van Billiard, Mr. Austin Blyler    male  40.5      0   \n",
       "160                         Cribb, Mr. John Hatfield    male  44.0      0   \n",
       "167  Skoog, Mrs. William (Anna Bernhardina Karlsson)  female  45.0      1   \n",
       "188                                 Bourke, Mr. John    male  40.0      1   \n",
       "197                 Olsen, Mr. Karl Siegwart Andreas    male  42.0      0   \n",
       "203                             Youseff, Mr. Gerious    male  45.5      0   \n",
       "254         Rosblom, Mrs. Viktor (Helena Wilhelmina)  female  41.0      0   \n",
       "276                Lindblom, Miss. Augusta Charlotta  female  45.0      0   \n",
       "338                            Dahl, Mr. Karl Edwart    male  45.0      0   \n",
       "349                                 Dimic, Mr. Jovan    male  42.0      0   \n",
       "360                               Skoog, Mr. Wilhelm    male  40.0      1   \n",
       "362                  Barbara, Mrs. (Catherine David)  female  45.0      0   \n",
       "414                        Sundman, Mr. Johan Julian    male  44.0      0   \n",
       "482                         Rouse, Mr. Richard Henry    male  50.0      0   \n",
       "525                               Farrell, Mr. James    male  40.5      0   \n",
       "561                                Sivic, Mr. Husein    male  40.0      0   \n",
       "592                       Elsbury, Mr. William James    male  47.0      0   \n",
       "597                              Johnson, Mr. Alfred    male  49.0      0   \n",
       "603                        Torber, Mr. Ernst William    male  44.0      0   \n",
       "638           Panula, Mrs. Juha (Maria Emilia Ojala)  female  41.0      0   \n",
       "661                                Badt, Mr. Mohamed    male  40.0      0   \n",
       "668                                  Cook, Mr. Jacob    male  43.0      0   \n",
       "678          Goodwin, Mrs. Frederick (Augusta Tyler)  female  43.0      1   \n",
       "696                                 Kelly, Mr. James    male  44.0      0   \n",
       "699         Humblen, Mr. Adolf Mathias Nicolai Olsen    male  42.0      0   \n",
       "736          Ford, Mrs. Edward (Margaret Ann Watson)  female  48.0      1   \n",
       "761                   Nirva, Mr. Iisakki Antino Aijo    male  41.0      0   \n",
       "771                          Jensen, Mr. Niels Peder    male  48.0      0   \n",
       "818                 Holm, Mr. John Fredrik Alexander    male  43.0      0   \n",
       "845                              Abbing, Mr. Anthony    male  42.0      0   \n",
       "860                          Hansen, Mr. Claus Peter    male  41.0      2   \n",
       "873                      Vander Cruyssen, Mr. Victor    male  47.0      0   \n",
       "\n",
       "     Parch             Ticket     Fare  Cabin Embarked  \n",
       "40       0               7546   9.4750    NaN        S  \n",
       "129      0             347061   6.9750    NaN        S  \n",
       "132      0          A/5. 3337  14.5000    NaN        S  \n",
       "153      2           A/5. 851  14.5000    NaN        S  \n",
       "160      1             371362  16.1000    NaN        S  \n",
       "167      4             347088  27.9000    NaN        S  \n",
       "188      1             364849  15.5000    NaN        Q  \n",
       "197      1               4579   8.4042    NaN        S  \n",
       "203      0               2628   7.2250    NaN        C  \n",
       "254      2             370129  20.2125    NaN        S  \n",
       "276      0             347073   7.7500    NaN        S  \n",
       "338      0               7598   8.0500    NaN        S  \n",
       "349      0             315088   8.6625    NaN        S  \n",
       "360      4             347088  27.9000    NaN        S  \n",
       "362      1               2691  14.4542    NaN        C  \n",
       "414      0  STON/O 2. 3101269   7.9250    NaN        S  \n",
       "482      0           A/5 3594   8.0500    NaN        S  \n",
       "525      0             367232   7.7500    NaN        Q  \n",
       "561      0             349251   7.8958    NaN        S  \n",
       "592      0           A/5 3902   7.2500    NaN        S  \n",
       "597      0               LINE   0.0000    NaN        S  \n",
       "603      0             364511   8.0500    NaN        S  \n",
       "638      5            3101295  39.6875    NaN        S  \n",
       "661      0               2623   7.2250    NaN        C  \n",
       "668      0           A/5 3536   8.0500    NaN        S  \n",
       "678      6            CA 2144  46.9000    NaN        S  \n",
       "696      0             363592   8.0500    NaN        S  \n",
       "699      0             348121   7.6500  F G63        S  \n",
       "736      3         W./C. 6608  34.3750    NaN        S  \n",
       "761      0   SOTON/O2 3101272   7.1250    NaN        S  \n",
       "771      0             350047   7.8542    NaN        S  \n",
       "818      0             C 7075   6.4500    NaN        S  \n",
       "845      0          C.A. 5547   7.5500    NaN        S  \n",
       "860      0             350026  14.1083    NaN        S  \n",
       "873      0             345765   9.0000    NaN        S  "
      ]
     },
     "execution_count": 19,
     "metadata": {},
     "output_type": "execute_result"
    }
   ],
   "source": [
    "outlier_dat1=train.loc[(train['Pclass']==3)&(train['Age']>=40)&(train['Age']<=50),:]\n",
    "outlier_dat1"
   ]
  },
  {
   "cell_type": "markdown",
   "metadata": {
    "papermill": {
     "duration": 0.063858,
     "end_time": "2021-07-06T05:14:17.681449",
     "exception": false,
     "start_time": "2021-07-06T05:14:17.617591",
     "status": "completed"
    },
    "tags": []
   },
   "source": [
    "2-4 위의 그래프의 SibSp가 아닌 FamilySize에 대해서 그래프를 그려 확인해 보자."
   ]
  },
  {
   "cell_type": "code",
   "execution_count": 20,
   "metadata": {
    "execution": {
     "iopub.execute_input": "2021-07-06T05:14:17.820982Z",
     "iopub.status.busy": "2021-07-06T05:14:17.819967Z",
     "iopub.status.idle": "2021-07-06T05:14:17.822958Z",
     "shell.execute_reply": "2021-07-06T05:14:17.822287Z",
     "shell.execute_reply.started": "2021-07-06T05:13:00.289022Z"
    },
    "papermill": {
     "duration": 0.077793,
     "end_time": "2021-07-06T05:14:17.823096",
     "exception": false,
     "start_time": "2021-07-06T05:14:17.745303",
     "status": "completed"
    },
    "tags": []
   },
   "outputs": [],
   "source": [
    "train['FamilySize']=train['Parch']+train['SibSp']+1"
   ]
  },
  {
   "cell_type": "code",
   "execution_count": 21,
   "metadata": {
    "execution": {
     "iopub.execute_input": "2021-07-06T05:14:17.956129Z",
     "iopub.status.busy": "2021-07-06T05:14:17.955144Z",
     "iopub.status.idle": "2021-07-06T05:14:19.481873Z",
     "shell.execute_reply": "2021-07-06T05:14:19.482383Z",
     "shell.execute_reply.started": "2021-07-06T05:13:00.306302Z"
    },
    "papermill": {
     "duration": 1.594051,
     "end_time": "2021-07-06T05:14:19.482544",
     "exception": false,
     "start_time": "2021-07-06T05:14:17.888493",
     "status": "completed"
    },
    "tags": []
   },
   "outputs": [
    {
     "data": {
      "image/png": "[encoded data removed]",
      "text/plain": [
       "<Figure size 1131.88x360 with 3 Axes>"
      ]
     },
     "metadata": {
      "needs_background": "light"
     },
     "output_type": "display_data"
    }
   ],
   "source": [
    "titanic_plot = sns.lmplot(x='Age', y='FamilySize', data=train, \n",
    " hue='Survived',\n",
    "col='Pclass', col_wrap=3)"
   ]
  },
  {
   "cell_type": "code",
   "execution_count": 22,
   "metadata": {
    "execution": {
     "iopub.execute_input": "2021-07-06T05:14:19.620783Z",
     "iopub.status.busy": "2021-07-06T05:14:19.619839Z",
     "iopub.status.idle": "2021-07-06T05:14:19.648193Z",
     "shell.execute_reply": "2021-07-06T05:14:19.647557Z",
     "shell.execute_reply.started": "2021-07-06T05:13:01.895196Z"
    },
    "papermill": {
     "duration": 0.097956,
     "end_time": "2021-07-06T05:14:19.648325",
     "exception": false,
     "start_time": "2021-07-06T05:14:19.550369",
     "status": "completed"
    },
    "tags": []
   },
   "outputs": [
    {
     "data": {
      "text/html": [
       "<div>\n",
       "<style scoped>\n",
       "    .dataframe tbody tr th:only-of-type {\n",
       "        vertical-align: middle;\n",
       "    }\n",
       "\n",
       "    .dataframe tbody tr th {\n",
       "        vertical-align: top;\n",
       "    }\n",
       "\n",
       "    .dataframe thead th {\n",
       "        text-align: right;\n",
       "    }\n",
       "</style>\n",
       "<table border=\"1\" class=\"dataframe\">\n",
       "  <thead>\n",
       "    <tr style=\"text-align: right;\">\n",
       "      <th></th>\n",
       "      <th>PassengerId</th>\n",
       "      <th>Survived</th>\n",
       "      <th>Pclass</th>\n",
       "      <th>Name</th>\n",
       "      <th>Sex</th>\n",
       "      <th>Age</th>\n",
       "      <th>SibSp</th>\n",
       "      <th>Parch</th>\n",
       "      <th>Ticket</th>\n",
       "      <th>Fare</th>\n",
       "      <th>Cabin</th>\n",
       "      <th>Embarked</th>\n",
       "      <th>FamilySize</th>\n",
       "    </tr>\n",
       "  </thead>\n",
       "  <tbody>\n",
       "    <tr>\n",
       "      <th>0</th>\n",
       "      <td>1</td>\n",
       "      <td>0</td>\n",
       "      <td>3</td>\n",
       "      <td>Braund, Mr. Owen Harris</td>\n",
       "      <td>male</td>\n",
       "      <td>22.0</td>\n",
       "      <td>1</td>\n",
       "      <td>0</td>\n",
       "      <td>A/5 21171</td>\n",
       "      <td>7.2500</td>\n",
       "      <td>NaN</td>\n",
       "      <td>S</td>\n",
       "      <td>2</td>\n",
       "    </tr>\n",
       "    <tr>\n",
       "      <th>2</th>\n",
       "      <td>3</td>\n",
       "      <td>1</td>\n",
       "      <td>3</td>\n",
       "      <td>Heikkinen, Miss. Laina</td>\n",
       "      <td>female</td>\n",
       "      <td>26.0</td>\n",
       "      <td>0</td>\n",
       "      <td>0</td>\n",
       "      <td>STON/O2. 3101282</td>\n",
       "      <td>7.9250</td>\n",
       "      <td>NaN</td>\n",
       "      <td>S</td>\n",
       "      <td>1</td>\n",
       "    </tr>\n",
       "    <tr>\n",
       "      <th>4</th>\n",
       "      <td>5</td>\n",
       "      <td>0</td>\n",
       "      <td>3</td>\n",
       "      <td>Allen, Mr. William Henry</td>\n",
       "      <td>male</td>\n",
       "      <td>35.0</td>\n",
       "      <td>0</td>\n",
       "      <td>0</td>\n",
       "      <td>373450</td>\n",
       "      <td>8.0500</td>\n",
       "      <td>NaN</td>\n",
       "      <td>S</td>\n",
       "      <td>1</td>\n",
       "    </tr>\n",
       "    <tr>\n",
       "      <th>5</th>\n",
       "      <td>6</td>\n",
       "      <td>0</td>\n",
       "      <td>3</td>\n",
       "      <td>Moran, Mr. James</td>\n",
       "      <td>male</td>\n",
       "      <td>NaN</td>\n",
       "      <td>0</td>\n",
       "      <td>0</td>\n",
       "      <td>330877</td>\n",
       "      <td>8.4583</td>\n",
       "      <td>NaN</td>\n",
       "      <td>Q</td>\n",
       "      <td>1</td>\n",
       "    </tr>\n",
       "    <tr>\n",
       "      <th>7</th>\n",
       "      <td>8</td>\n",
       "      <td>0</td>\n",
       "      <td>3</td>\n",
       "      <td>Palsson, Master. Gosta Leonard</td>\n",
       "      <td>male</td>\n",
       "      <td>2.0</td>\n",
       "      <td>3</td>\n",
       "      <td>1</td>\n",
       "      <td>349909</td>\n",
       "      <td>21.0750</td>\n",
       "      <td>NaN</td>\n",
       "      <td>S</td>\n",
       "      <td>5</td>\n",
       "    </tr>\n",
       "    <tr>\n",
       "      <th>...</th>\n",
       "      <td>...</td>\n",
       "      <td>...</td>\n",
       "      <td>...</td>\n",
       "      <td>...</td>\n",
       "      <td>...</td>\n",
       "      <td>...</td>\n",
       "      <td>...</td>\n",
       "      <td>...</td>\n",
       "      <td>...</td>\n",
       "      <td>...</td>\n",
       "      <td>...</td>\n",
       "      <td>...</td>\n",
       "      <td>...</td>\n",
       "    </tr>\n",
       "    <tr>\n",
       "      <th>881</th>\n",
       "      <td>882</td>\n",
       "      <td>0</td>\n",
       "      <td>3</td>\n",
       "      <td>Markun, Mr. Johann</td>\n",
       "      <td>male</td>\n",
       "      <td>33.0</td>\n",
       "      <td>0</td>\n",
       "      <td>0</td>\n",
       "      <td>349257</td>\n",
       "      <td>7.8958</td>\n",
       "      <td>NaN</td>\n",
       "      <td>S</td>\n",
       "      <td>1</td>\n",
       "    </tr>\n",
       "    <tr>\n",
       "      <th>882</th>\n",
       "      <td>883</td>\n",
       "      <td>0</td>\n",
       "      <td>3</td>\n",
       "      <td>Dahlberg, Miss. Gerda Ulrika</td>\n",
       "      <td>female</td>\n",
       "      <td>22.0</td>\n",
       "      <td>0</td>\n",
       "      <td>0</td>\n",
       "      <td>7552</td>\n",
       "      <td>10.5167</td>\n",
       "      <td>NaN</td>\n",
       "      <td>S</td>\n",
       "      <td>1</td>\n",
       "    </tr>\n",
       "    <tr>\n",
       "      <th>884</th>\n",
       "      <td>885</td>\n",
       "      <td>0</td>\n",
       "      <td>3</td>\n",
       "      <td>Sutehall, Mr. Henry Jr</td>\n",
       "      <td>male</td>\n",
       "      <td>25.0</td>\n",
       "      <td>0</td>\n",
       "      <td>0</td>\n",
       "      <td>SOTON/OQ 392076</td>\n",
       "      <td>7.0500</td>\n",
       "      <td>NaN</td>\n",
       "      <td>S</td>\n",
       "      <td>1</td>\n",
       "    </tr>\n",
       "    <tr>\n",
       "      <th>888</th>\n",
       "      <td>889</td>\n",
       "      <td>0</td>\n",
       "      <td>3</td>\n",
       "      <td>Johnston, Miss. Catherine Helen \"Carrie\"</td>\n",
       "      <td>female</td>\n",
       "      <td>NaN</td>\n",
       "      <td>1</td>\n",
       "      <td>2</td>\n",
       "      <td>W./C. 6607</td>\n",
       "      <td>23.4500</td>\n",
       "      <td>NaN</td>\n",
       "      <td>S</td>\n",
       "      <td>4</td>\n",
       "    </tr>\n",
       "    <tr>\n",
       "      <th>890</th>\n",
       "      <td>891</td>\n",
       "      <td>0</td>\n",
       "      <td>3</td>\n",
       "      <td>Dooley, Mr. Patrick</td>\n",
       "      <td>male</td>\n",
       "      <td>32.0</td>\n",
       "      <td>0</td>\n",
       "      <td>0</td>\n",
       "      <td>370376</td>\n",
       "      <td>7.7500</td>\n",
       "      <td>NaN</td>\n",
       "      <td>Q</td>\n",
       "      <td>1</td>\n",
       "    </tr>\n",
       "  </tbody>\n",
       "</table>\n",
       "<p>449 rows × 13 columns</p>\n",
       "</div>"
      ],
      "text/plain": [
       "     PassengerId  Survived  Pclass                                      Name  \\\n",
       "0              1         0       3                   Braund, Mr. Owen Harris   \n",
       "2              3         1       3                    Heikkinen, Miss. Laina   \n",
       "4              5         0       3                  Allen, Mr. William Henry   \n",
       "5              6         0       3                          Moran, Mr. James   \n",
       "7              8         0       3            Palsson, Master. Gosta Leonard   \n",
       "..           ...       ...     ...                                       ...   \n",
       "881          882         0       3                        Markun, Mr. Johann   \n",
       "882          883         0       3              Dahlberg, Miss. Gerda Ulrika   \n",
       "884          885         0       3                    Sutehall, Mr. Henry Jr   \n",
       "888          889         0       3  Johnston, Miss. Catherine Helen \"Carrie\"   \n",
       "890          891         0       3                       Dooley, Mr. Patrick   \n",
       "\n",
       "        Sex   Age  SibSp  Parch            Ticket     Fare Cabin Embarked  \\\n",
       "0      male  22.0      1      0         A/5 21171   7.2500   NaN        S   \n",
       "2    female  26.0      0      0  STON/O2. 3101282   7.9250   NaN        S   \n",
       "4      male  35.0      0      0            373450   8.0500   NaN        S   \n",
       "5      male   NaN      0      0            330877   8.4583   NaN        Q   \n",
       "7      male   2.0      3      1            349909  21.0750   NaN        S   \n",
       "..      ...   ...    ...    ...               ...      ...   ...      ...   \n",
       "881    male  33.0      0      0            349257   7.8958   NaN        S   \n",
       "882  female  22.0      0      0              7552  10.5167   NaN        S   \n",
       "884    male  25.0      0      0   SOTON/OQ 392076   7.0500   NaN        S   \n",
       "888  female   NaN      1      2        W./C. 6607  23.4500   NaN        S   \n",
       "890    male  32.0      0      0            370376   7.7500   NaN        Q   \n",
       "\n",
       "     FamilySize  \n",
       "0             2  \n",
       "2             1  \n",
       "4             1  \n",
       "5             1  \n",
       "7             5  \n",
       "..          ...  \n",
       "881           1  \n",
       "882           1  \n",
       "884           1  \n",
       "888           4  \n",
       "890           1  \n",
       "\n",
       "[449 rows x 13 columns]"
      ]
     },
     "execution_count": 22,
     "metadata": {},
     "output_type": "execute_result"
    }
   ],
   "source": [
    "outlier_dat2=train.loc[(train['FamilySize']<=5)&(train['Pclass']==3),:]\n",
    "outlier_dat2"
   ]
  },
  {
   "cell_type": "code",
   "execution_count": 23,
   "metadata": {
    "execution": {
     "iopub.execute_input": "2021-07-06T05:14:19.786645Z",
     "iopub.status.busy": "2021-07-06T05:14:19.785932Z",
     "iopub.status.idle": "2021-07-06T05:14:19.788666Z",
     "shell.execute_reply": "2021-07-06T05:14:19.788177Z",
     "shell.execute_reply.started": "2021-07-06T05:13:01.926857Z"
    },
    "papermill": {
     "duration": 0.073721,
     "end_time": "2021-07-06T05:14:19.788842",
     "exception": false,
     "start_time": "2021-07-06T05:14:19.715121",
     "status": "completed"
    },
    "tags": []
   },
   "outputs": [],
   "source": [
    "import matplotlib.pyplot as plt"
   ]
  },
  {
   "cell_type": "code",
   "execution_count": 24,
   "metadata": {
    "execution": {
     "iopub.execute_input": "2021-07-06T05:14:20.039041Z",
     "iopub.status.busy": "2021-07-06T05:14:19.951367Z",
     "iopub.status.idle": "2021-07-06T05:14:21.422618Z",
     "shell.execute_reply": "2021-07-06T05:14:21.421717Z",
     "shell.execute_reply.started": "2021-07-06T05:13:01.944980Z"
    },
    "papermill": {
     "duration": 1.565108,
     "end_time": "2021-07-06T05:14:21.422779",
     "exception": false,
     "start_time": "2021-07-06T05:14:19.857671",
     "status": "completed"
    },
    "tags": []
   },
   "outputs": [
    {
     "data": {
      "image/png": "[encoded data removed]",
      "text/plain": [
       "<Figure size 699.875x432 with 6 Axes>"
      ]
     },
     "metadata": {
      "needs_background": "light"
     },
     "output_type": "display_data"
    }
   ],
   "source": [
    "facet = sns.FacetGrid(train, col='Pclass', row='Sex', hue='Survived')\n",
    "facet = facet.map(plt.scatter, 'Age', 'Fare')\n",
    "facet = facet.add_legend()"
   ]
  },
  {
   "cell_type": "markdown",
   "metadata": {
    "papermill": {
     "duration": 0.06976,
     "end_time": "2021-07-06T05:14:21.560874",
     "exception": false,
     "start_time": "2021-07-06T05:14:21.491114",
     "status": "completed"
    },
    "tags": []
   },
   "source": [
    "2-5 다른 종류의 그래프로 그려보고, 내용 확인해보기"
   ]
  },
  {
   "cell_type": "code",
   "execution_count": 25,
   "metadata": {
    "execution": {
     "iopub.execute_input": "2021-07-06T05:14:21.714244Z",
     "iopub.status.busy": "2021-07-06T05:14:21.704933Z",
     "iopub.status.idle": "2021-07-06T05:14:24.283133Z",
     "shell.execute_reply": "2021-07-06T05:14:24.282457Z",
     "shell.execute_reply.started": "2021-07-06T05:13:03.819880Z"
    },
    "papermill": {
     "duration": 2.652805,
     "end_time": "2021-07-06T05:14:24.283277",
     "exception": false,
     "start_time": "2021-07-06T05:14:21.630472",
     "status": "completed"
    },
    "tags": []
   },
   "outputs": [
    {
     "name": "stderr",
     "output_type": "stream",
     "text": [
      "/opt/conda/lib/python3.7/site-packages/seaborn/axisgrid.py:643: UserWarning: Using the barplot function without specifying `order` is likely to produce an incorrect plot.\n",
      "  warnings.warn(warning)\n"
     ]
    },
    {
     "data": {
      "image/png": "[encoded data removed]",
      "text/plain": [
       "<Figure size 699.875x432 with 6 Axes>"
      ]
     },
     "metadata": {
      "needs_background": "light"
     },
     "output_type": "display_data"
    }
   ],
   "source": [
    "facet = sns.FacetGrid(train, col='Pclass', row='Sex', hue='Survived')\n",
    "facet = facet.map(sns.barplot, 'SibSp', 'Age')\n",
    "facet = facet.add_legend()"
   ]
  },
  {
   "cell_type": "code",
   "execution_count": 26,
   "metadata": {
    "execution": {
     "iopub.execute_input": "2021-07-06T05:14:24.443102Z",
     "iopub.status.busy": "2021-07-06T05:14:24.442222Z",
     "iopub.status.idle": "2021-07-06T05:14:24.446930Z",
     "shell.execute_reply": "2021-07-06T05:14:24.446402Z",
     "shell.execute_reply.started": "2021-07-06T05:13:06.245064Z"
    },
    "papermill": {
     "duration": 0.093889,
     "end_time": "2021-07-06T05:14:24.447077",
     "exception": false,
     "start_time": "2021-07-06T05:14:24.353188",
     "status": "completed"
    },
    "tags": []
   },
   "outputs": [
    {
     "data": {
      "text/html": [
       "<div>\n",
       "<style scoped>\n",
       "    .dataframe tbody tr th:only-of-type {\n",
       "        vertical-align: middle;\n",
       "    }\n",
       "\n",
       "    .dataframe tbody tr th {\n",
       "        vertical-align: top;\n",
       "    }\n",
       "\n",
       "    .dataframe thead th {\n",
       "        text-align: right;\n",
       "    }\n",
       "</style>\n",
       "<table border=\"1\" class=\"dataframe\">\n",
       "  <thead>\n",
       "    <tr style=\"text-align: right;\">\n",
       "      <th></th>\n",
       "      <th>PassengerId</th>\n",
       "      <th>Survived</th>\n",
       "      <th>Pclass</th>\n",
       "      <th>Name</th>\n",
       "      <th>Sex</th>\n",
       "      <th>Age</th>\n",
       "      <th>SibSp</th>\n",
       "      <th>Parch</th>\n",
       "      <th>Ticket</th>\n",
       "      <th>Fare</th>\n",
       "      <th>Cabin</th>\n",
       "      <th>Embarked</th>\n",
       "      <th>FamilySize</th>\n",
       "    </tr>\n",
       "  </thead>\n",
       "  <tbody>\n",
       "    <tr>\n",
       "      <th>6</th>\n",
       "      <td>7</td>\n",
       "      <td>0</td>\n",
       "      <td>1</td>\n",
       "      <td>McCarthy, Mr. Timothy J</td>\n",
       "      <td>male</td>\n",
       "      <td>54.0</td>\n",
       "      <td>0</td>\n",
       "      <td>0</td>\n",
       "      <td>17463</td>\n",
       "      <td>51.8625</td>\n",
       "      <td>E46</td>\n",
       "      <td>S</td>\n",
       "      <td>1</td>\n",
       "    </tr>\n",
       "    <tr>\n",
       "      <th>23</th>\n",
       "      <td>24</td>\n",
       "      <td>1</td>\n",
       "      <td>1</td>\n",
       "      <td>Sloper, Mr. William Thompson</td>\n",
       "      <td>male</td>\n",
       "      <td>28.0</td>\n",
       "      <td>0</td>\n",
       "      <td>0</td>\n",
       "      <td>113788</td>\n",
       "      <td>35.5000</td>\n",
       "      <td>A6</td>\n",
       "      <td>S</td>\n",
       "      <td>1</td>\n",
       "    </tr>\n",
       "    <tr>\n",
       "      <th>27</th>\n",
       "      <td>28</td>\n",
       "      <td>0</td>\n",
       "      <td>1</td>\n",
       "      <td>Fortune, Mr. Charles Alexander</td>\n",
       "      <td>male</td>\n",
       "      <td>19.0</td>\n",
       "      <td>3</td>\n",
       "      <td>2</td>\n",
       "      <td>19950</td>\n",
       "      <td>263.0000</td>\n",
       "      <td>C23 C25 C27</td>\n",
       "      <td>S</td>\n",
       "      <td>6</td>\n",
       "    </tr>\n",
       "    <tr>\n",
       "      <th>30</th>\n",
       "      <td>31</td>\n",
       "      <td>0</td>\n",
       "      <td>1</td>\n",
       "      <td>Uruchurtu, Don. Manuel E</td>\n",
       "      <td>male</td>\n",
       "      <td>40.0</td>\n",
       "      <td>0</td>\n",
       "      <td>0</td>\n",
       "      <td>PC 17601</td>\n",
       "      <td>27.7208</td>\n",
       "      <td>NaN</td>\n",
       "      <td>C</td>\n",
       "      <td>1</td>\n",
       "    </tr>\n",
       "    <tr>\n",
       "      <th>34</th>\n",
       "      <td>35</td>\n",
       "      <td>0</td>\n",
       "      <td>1</td>\n",
       "      <td>Meyer, Mr. Edgar Joseph</td>\n",
       "      <td>male</td>\n",
       "      <td>28.0</td>\n",
       "      <td>1</td>\n",
       "      <td>0</td>\n",
       "      <td>PC 17604</td>\n",
       "      <td>82.1708</td>\n",
       "      <td>NaN</td>\n",
       "      <td>C</td>\n",
       "      <td>2</td>\n",
       "    </tr>\n",
       "  </tbody>\n",
       "</table>\n",
       "</div>"
      ],
      "text/plain": [
       "    PassengerId  Survived  Pclass                            Name   Sex   Age  \\\n",
       "6             7         0       1         McCarthy, Mr. Timothy J  male  54.0   \n",
       "23           24         1       1    Sloper, Mr. William Thompson  male  28.0   \n",
       "27           28         0       1  Fortune, Mr. Charles Alexander  male  19.0   \n",
       "30           31         0       1        Uruchurtu, Don. Manuel E  male  40.0   \n",
       "34           35         0       1         Meyer, Mr. Edgar Joseph  male  28.0   \n",
       "\n",
       "    SibSp  Parch    Ticket      Fare        Cabin Embarked  FamilySize  \n",
       "6       0      0     17463   51.8625          E46        S           1  \n",
       "23      0      0    113788   35.5000           A6        S           1  \n",
       "27      3      2     19950  263.0000  C23 C25 C27        S           6  \n",
       "30      0      0  PC 17601   27.7208          NaN        C           1  \n",
       "34      1      0  PC 17604   82.1708          NaN        C           2  "
      ]
     },
     "execution_count": 26,
     "metadata": {},
     "output_type": "execute_result"
    }
   ],
   "source": [
    "outlier_dat3=train.loc[(train['Sex']=='male')&(train['Pclass']==1),:]\n",
    "outlier_dat3.head()"
   ]
  },
  {
   "cell_type": "code",
   "execution_count": 27,
   "metadata": {
    "execution": {
     "iopub.execute_input": "2021-07-06T05:14:24.603240Z",
     "iopub.status.busy": "2021-07-06T05:14:24.602180Z",
     "iopub.status.idle": "2021-07-06T05:14:24.959743Z",
     "shell.execute_reply": "2021-07-06T05:14:24.960198Z",
     "shell.execute_reply.started": "2021-07-06T05:13:06.265323Z"
    },
    "papermill": {
     "duration": 0.442573,
     "end_time": "2021-07-06T05:14:24.960364",
     "exception": false,
     "start_time": "2021-07-06T05:14:24.517791",
     "status": "completed"
    },
    "tags": []
   },
   "outputs": [
    {
     "data": {
      "text/plain": [
       "<AxesSubplot:xlabel='Parch', ylabel='Age'>"
      ]
     },
     "execution_count": 27,
     "metadata": {},
     "output_type": "execute_result"
    },
    {
     "data": {
      "image/png": "[encoded data removed]",
      "text/plain": [
       "<Figure size 432x288 with 1 Axes>"
      ]
     },
     "metadata": {
      "needs_background": "light"
     },
     "output_type": "display_data"
    }
   ],
   "source": [
    "sns.barplot(x='Parch',y='Age',hue='Survived',data=outlier_dat3)"
   ]
  },
  {
   "cell_type": "markdown",
   "metadata": {
    "papermill": {
     "duration": 0.071034,
     "end_time": "2021-07-06T05:14:25.102309",
     "exception": false,
     "start_time": "2021-07-06T05:14:25.031275",
     "status": "completed"
    },
    "tags": []
   },
   "source": [
    "* bar그래프에서 y축은 평균값으로 나타남. parch=4일때 사망 평균나이 60"
   ]
  },
  {
   "cell_type": "code",
   "execution_count": 28,
   "metadata": {
    "execution": {
     "iopub.execute_input": "2021-07-06T05:14:25.274290Z",
     "iopub.status.busy": "2021-07-06T05:14:25.264398Z",
     "iopub.status.idle": "2021-07-06T05:14:25.645581Z",
     "shell.execute_reply": "2021-07-06T05:14:25.645085Z",
     "shell.execute_reply.started": "2021-07-06T05:13:06.536365Z"
    },
    "papermill": {
     "duration": 0.471308,
     "end_time": "2021-07-06T05:14:25.645730",
     "exception": false,
     "start_time": "2021-07-06T05:14:25.174422",
     "status": "completed"
    },
    "tags": []
   },
   "outputs": [
    {
     "data": {
      "text/plain": [
       "<seaborn.axisgrid.FacetGrid at 0x7fa3df624750>"
      ]
     },
     "execution_count": 28,
     "metadata": {},
     "output_type": "execute_result"
    },
    {
     "data": {
      "image/png": "[encoded data removed]",
      "text/plain": [
       "<Figure size 411.875x360 with 1 Axes>"
      ]
     },
     "metadata": {
      "needs_background": "light"
     },
     "output_type": "display_data"
    }
   ],
   "source": [
    "sns.displot(x='Age',y='Parch',hue='Survived',data=outlier_dat3)"
   ]
  },
  {
   "cell_type": "code",
   "execution_count": 29,
   "metadata": {
    "execution": {
     "iopub.execute_input": "2021-07-06T05:14:25.797062Z",
     "iopub.status.busy": "2021-07-06T05:14:25.796085Z",
     "iopub.status.idle": "2021-07-06T05:14:29.608725Z",
     "shell.execute_reply": "2021-07-06T05:14:29.608068Z",
     "shell.execute_reply.started": "2021-07-06T05:13:06.893900Z"
    },
    "papermill": {
     "duration": 3.890475,
     "end_time": "2021-07-06T05:14:29.608867",
     "exception": false,
     "start_time": "2021-07-06T05:14:25.718392",
     "status": "completed"
    },
    "tags": []
   },
   "outputs": [
    {
     "data": {
      "image/png": "[encoded data removed]",
      "text/plain": [
       "<Figure size 699.875x432 with 6 Axes>"
      ]
     },
     "metadata": {
      "needs_background": "light"
     },
     "output_type": "display_data"
    }
   ],
   "source": [
    "facet = sns.FacetGrid(train, col='Pclass', row='Sex', hue='Survived')\n",
    "facet = facet.map(plt.bar, 'Age', 'Fare')\n",
    "facet = facet.add_legend()"
   ]
  },
  {
   "cell_type": "markdown",
   "metadata": {
    "papermill": {
     "duration": 0.073297,
     "end_time": "2021-07-06T05:14:29.755918",
     "exception": false,
     "start_time": "2021-07-06T05:14:29.682621",
     "status": "completed"
    },
    "tags": []
   },
   "source": [
    "* name을 통해 가족확인가능"
   ]
  },
  {
   "cell_type": "code",
   "execution_count": 30,
   "metadata": {
    "execution": {
     "iopub.execute_input": "2021-07-06T05:14:29.910586Z",
     "iopub.status.busy": "2021-07-06T05:14:29.909714Z",
     "iopub.status.idle": "2021-07-06T05:14:31.333602Z",
     "shell.execute_reply": "2021-07-06T05:14:31.334065Z",
     "shell.execute_reply.started": "2021-07-06T05:13:10.003021Z"
    },
    "papermill": {
     "duration": 1.503636,
     "end_time": "2021-07-06T05:14:31.334243",
     "exception": false,
     "start_time": "2021-07-06T05:14:29.830607",
     "status": "completed"
    },
    "tags": []
   },
   "outputs": [
    {
     "data": {
      "image/png": "[encoded data removed]",
      "text/plain": [
       "<Figure size 699.875x432 with 6 Axes>"
      ]
     },
     "metadata": {
      "needs_background": "light"
     },
     "output_type": "display_data"
    }
   ],
   "source": [
    "facet=sns.FacetGrid(train,col='Pclass',row='Sex',hue='Survived')\n",
    "facet=facet.map(plt.hist,'Age')\n",
    "facet=facet.add_legend()"
   ]
  },
  {
   "cell_type": "markdown",
   "metadata": {
    "papermill": {
     "duration": 0.073907,
     "end_time": "2021-07-06T05:14:31.482564",
     "exception": false,
     "start_time": "2021-07-06T05:14:31.408657",
     "status": "completed"
    },
    "tags": []
   },
   "source": [
    "* 3번째 그래프 이상치 확인"
   ]
  },
  {
   "cell_type": "markdown",
   "metadata": {
    "papermill": {
     "duration": 0.073707,
     "end_time": "2021-07-06T05:14:31.631032",
     "exception": false,
     "start_time": "2021-07-06T05:14:31.557325",
     "status": "completed"
    },
    "tags": []
   },
   "source": [
    "### 결측치 처리"
   ]
  },
  {
   "cell_type": "code",
   "execution_count": 31,
   "metadata": {
    "execution": {
     "iopub.execute_input": "2021-07-06T05:14:31.785140Z",
     "iopub.status.busy": "2021-07-06T05:14:31.784241Z",
     "iopub.status.idle": "2021-07-06T05:14:31.788256Z",
     "shell.execute_reply": "2021-07-06T05:14:31.787768Z",
     "shell.execute_reply.started": "2021-07-06T05:13:11.201308Z"
    },
    "papermill": {
     "duration": 0.083427,
     "end_time": "2021-07-06T05:14:31.788390",
     "exception": false,
     "start_time": "2021-07-06T05:14:31.704963",
     "status": "completed"
    },
    "tags": []
   },
   "outputs": [
    {
     "data": {
      "text/plain": [
       "((891, 13), (418, 11))"
      ]
     },
     "execution_count": 31,
     "metadata": {},
     "output_type": "execute_result"
    }
   ],
   "source": [
    "train.shape, test.shape"
   ]
  },
  {
   "cell_type": "code",
   "execution_count": 32,
   "metadata": {
    "execution": {
     "iopub.execute_input": "2021-07-06T05:14:31.971236Z",
     "iopub.status.busy": "2021-07-06T05:14:31.970277Z",
     "iopub.status.idle": "2021-07-06T05:14:32.002603Z",
     "shell.execute_reply": "2021-07-06T05:14:32.001975Z",
     "shell.execute_reply.started": "2021-07-06T05:13:11.209694Z"
    },
    "papermill": {
     "duration": 0.115156,
     "end_time": "2021-07-06T05:14:32.002751",
     "exception": false,
     "start_time": "2021-07-06T05:14:31.887595",
     "status": "completed"
    },
    "tags": []
   },
   "outputs": [
    {
     "data": {
      "text/html": [
       "<div>\n",
       "<style scoped>\n",
       "    .dataframe tbody tr th:only-of-type {\n",
       "        vertical-align: middle;\n",
       "    }\n",
       "\n",
       "    .dataframe tbody tr th {\n",
       "        vertical-align: top;\n",
       "    }\n",
       "\n",
       "    .dataframe thead th {\n",
       "        text-align: right;\n",
       "    }\n",
       "</style>\n",
       "<table border=\"1\" class=\"dataframe\">\n",
       "  <thead>\n",
       "    <tr style=\"text-align: right;\">\n",
       "      <th></th>\n",
       "      <th>PassengerId</th>\n",
       "      <th>Pclass</th>\n",
       "      <th>Name</th>\n",
       "      <th>Sex</th>\n",
       "      <th>Age</th>\n",
       "      <th>SibSp</th>\n",
       "      <th>Parch</th>\n",
       "      <th>Ticket</th>\n",
       "      <th>Fare</th>\n",
       "      <th>Cabin</th>\n",
       "      <th>Embarked</th>\n",
       "    </tr>\n",
       "  </thead>\n",
       "  <tbody>\n",
       "    <tr>\n",
       "      <th>0</th>\n",
       "      <td>1</td>\n",
       "      <td>3</td>\n",
       "      <td>Braund, Mr. Owen Harris</td>\n",
       "      <td>male</td>\n",
       "      <td>22.0</td>\n",
       "      <td>1</td>\n",
       "      <td>0</td>\n",
       "      <td>A/5 21171</td>\n",
       "      <td>7.2500</td>\n",
       "      <td>NaN</td>\n",
       "      <td>S</td>\n",
       "    </tr>\n",
       "    <tr>\n",
       "      <th>1</th>\n",
       "      <td>2</td>\n",
       "      <td>1</td>\n",
       "      <td>Cumings, Mrs. John Bradley (Florence Briggs Th...</td>\n",
       "      <td>female</td>\n",
       "      <td>38.0</td>\n",
       "      <td>1</td>\n",
       "      <td>0</td>\n",
       "      <td>PC 17599</td>\n",
       "      <td>71.2833</td>\n",
       "      <td>C85</td>\n",
       "      <td>C</td>\n",
       "    </tr>\n",
       "    <tr>\n",
       "      <th>2</th>\n",
       "      <td>3</td>\n",
       "      <td>3</td>\n",
       "      <td>Heikkinen, Miss. Laina</td>\n",
       "      <td>female</td>\n",
       "      <td>26.0</td>\n",
       "      <td>0</td>\n",
       "      <td>0</td>\n",
       "      <td>STON/O2. 3101282</td>\n",
       "      <td>7.9250</td>\n",
       "      <td>NaN</td>\n",
       "      <td>S</td>\n",
       "    </tr>\n",
       "    <tr>\n",
       "      <th>3</th>\n",
       "      <td>4</td>\n",
       "      <td>1</td>\n",
       "      <td>Futrelle, Mrs. Jacques Heath (Lily May Peel)</td>\n",
       "      <td>female</td>\n",
       "      <td>35.0</td>\n",
       "      <td>1</td>\n",
       "      <td>0</td>\n",
       "      <td>113803</td>\n",
       "      <td>53.1000</td>\n",
       "      <td>C123</td>\n",
       "      <td>S</td>\n",
       "    </tr>\n",
       "    <tr>\n",
       "      <th>4</th>\n",
       "      <td>5</td>\n",
       "      <td>3</td>\n",
       "      <td>Allen, Mr. William Henry</td>\n",
       "      <td>male</td>\n",
       "      <td>35.0</td>\n",
       "      <td>0</td>\n",
       "      <td>0</td>\n",
       "      <td>373450</td>\n",
       "      <td>8.0500</td>\n",
       "      <td>NaN</td>\n",
       "      <td>S</td>\n",
       "    </tr>\n",
       "    <tr>\n",
       "      <th>...</th>\n",
       "      <td>...</td>\n",
       "      <td>...</td>\n",
       "      <td>...</td>\n",
       "      <td>...</td>\n",
       "      <td>...</td>\n",
       "      <td>...</td>\n",
       "      <td>...</td>\n",
       "      <td>...</td>\n",
       "      <td>...</td>\n",
       "      <td>...</td>\n",
       "      <td>...</td>\n",
       "    </tr>\n",
       "    <tr>\n",
       "      <th>1304</th>\n",
       "      <td>1305</td>\n",
       "      <td>3</td>\n",
       "      <td>Spector, Mr. Woolf</td>\n",
       "      <td>male</td>\n",
       "      <td>NaN</td>\n",
       "      <td>0</td>\n",
       "      <td>0</td>\n",
       "      <td>A.5. 3236</td>\n",
       "      <td>8.0500</td>\n",
       "      <td>NaN</td>\n",
       "      <td>S</td>\n",
       "    </tr>\n",
       "    <tr>\n",
       "      <th>1305</th>\n",
       "      <td>1306</td>\n",
       "      <td>1</td>\n",
       "      <td>Oliva y Ocana, Dona. Fermina</td>\n",
       "      <td>female</td>\n",
       "      <td>39.0</td>\n",
       "      <td>0</td>\n",
       "      <td>0</td>\n",
       "      <td>PC 17758</td>\n",
       "      <td>108.9000</td>\n",
       "      <td>C105</td>\n",
       "      <td>C</td>\n",
       "    </tr>\n",
       "    <tr>\n",
       "      <th>1306</th>\n",
       "      <td>1307</td>\n",
       "      <td>3</td>\n",
       "      <td>Saether, Mr. Simon Sivertsen</td>\n",
       "      <td>male</td>\n",
       "      <td>38.5</td>\n",
       "      <td>0</td>\n",
       "      <td>0</td>\n",
       "      <td>SOTON/O.Q. 3101262</td>\n",
       "      <td>7.2500</td>\n",
       "      <td>NaN</td>\n",
       "      <td>S</td>\n",
       "    </tr>\n",
       "    <tr>\n",
       "      <th>1307</th>\n",
       "      <td>1308</td>\n",
       "      <td>3</td>\n",
       "      <td>Ware, Mr. Frederick</td>\n",
       "      <td>male</td>\n",
       "      <td>NaN</td>\n",
       "      <td>0</td>\n",
       "      <td>0</td>\n",
       "      <td>359309</td>\n",
       "      <td>8.0500</td>\n",
       "      <td>NaN</td>\n",
       "      <td>S</td>\n",
       "    </tr>\n",
       "    <tr>\n",
       "      <th>1308</th>\n",
       "      <td>1309</td>\n",
       "      <td>3</td>\n",
       "      <td>Peter, Master. Michael J</td>\n",
       "      <td>male</td>\n",
       "      <td>NaN</td>\n",
       "      <td>1</td>\n",
       "      <td>1</td>\n",
       "      <td>2668</td>\n",
       "      <td>22.3583</td>\n",
       "      <td>NaN</td>\n",
       "      <td>C</td>\n",
       "    </tr>\n",
       "  </tbody>\n",
       "</table>\n",
       "<p>1309 rows × 11 columns</p>\n",
       "</div>"
      ],
      "text/plain": [
       "      PassengerId  Pclass                                               Name  \\\n",
       "0               1       3                            Braund, Mr. Owen Harris   \n",
       "1               2       1  Cumings, Mrs. John Bradley (Florence Briggs Th...   \n",
       "2               3       3                             Heikkinen, Miss. Laina   \n",
       "3               4       1       Futrelle, Mrs. Jacques Heath (Lily May Peel)   \n",
       "4               5       3                           Allen, Mr. William Henry   \n",
       "...           ...     ...                                                ...   \n",
       "1304         1305       3                                 Spector, Mr. Woolf   \n",
       "1305         1306       1                       Oliva y Ocana, Dona. Fermina   \n",
       "1306         1307       3                       Saether, Mr. Simon Sivertsen   \n",
       "1307         1308       3                                Ware, Mr. Frederick   \n",
       "1308         1309       3                           Peter, Master. Michael J   \n",
       "\n",
       "         Sex   Age  SibSp  Parch              Ticket      Fare Cabin Embarked  \n",
       "0       male  22.0      1      0           A/5 21171    7.2500   NaN        S  \n",
       "1     female  38.0      1      0            PC 17599   71.2833   C85        C  \n",
       "2     female  26.0      0      0    STON/O2. 3101282    7.9250   NaN        S  \n",
       "3     female  35.0      1      0              113803   53.1000  C123        S  \n",
       "4       male  35.0      0      0              373450    8.0500   NaN        S  \n",
       "...      ...   ...    ...    ...                 ...       ...   ...      ...  \n",
       "1304    male   NaN      0      0           A.5. 3236    8.0500   NaN        S  \n",
       "1305  female  39.0      0      0            PC 17758  108.9000  C105        C  \n",
       "1306    male  38.5      0      0  SOTON/O.Q. 3101262    7.2500   NaN        S  \n",
       "1307    male   NaN      0      0              359309    8.0500   NaN        S  \n",
       "1308    male   NaN      1      1                2668   22.3583   NaN        C  \n",
       "\n",
       "[1309 rows x 11 columns]"
      ]
     },
     "execution_count": 32,
     "metadata": {},
     "output_type": "execute_result"
    }
   ],
   "source": [
    "all_df=pd.concat([train,test],join='inner',ignore_index=True)\n",
    "all_df"
   ]
  },
  {
   "cell_type": "code",
   "execution_count": 33,
   "metadata": {
    "execution": {
     "iopub.execute_input": "2021-07-06T05:14:32.163803Z",
     "iopub.status.busy": "2021-07-06T05:14:32.163120Z",
     "iopub.status.idle": "2021-07-06T05:14:32.166081Z",
     "shell.execute_reply": "2021-07-06T05:14:32.166619Z",
     "shell.execute_reply.started": "2021-07-06T05:13:11.256099Z"
    },
    "papermill": {
     "duration": 0.088725,
     "end_time": "2021-07-06T05:14:32.166793",
     "exception": false,
     "start_time": "2021-07-06T05:14:32.078068",
     "status": "completed"
    },
    "tags": []
   },
   "outputs": [
    {
     "data": {
      "text/plain": [
       "PassengerId       0\n",
       "Pclass            0\n",
       "Name              0\n",
       "Sex               0\n",
       "Age             263\n",
       "SibSp             0\n",
       "Parch             0\n",
       "Ticket            0\n",
       "Fare              1\n",
       "Cabin          1014\n",
       "Embarked          2\n",
       "dtype: int64"
      ]
     },
     "execution_count": 33,
     "metadata": {},
     "output_type": "execute_result"
    }
   ],
   "source": [
    "all_df.isnull().sum()"
   ]
  },
  {
   "cell_type": "code",
   "execution_count": 34,
   "metadata": {
    "execution": {
     "iopub.execute_input": "2021-07-06T05:14:32.320636Z",
     "iopub.status.busy": "2021-07-06T05:14:32.320031Z",
     "iopub.status.idle": "2021-07-06T05:14:32.324770Z",
     "shell.execute_reply": "2021-07-06T05:14:32.325251Z",
     "shell.execute_reply.started": "2021-07-06T05:13:11.269710Z"
    },
    "papermill": {
     "duration": 0.08348,
     "end_time": "2021-07-06T05:14:32.325420",
     "exception": false,
     "start_time": "2021-07-06T05:14:32.241940",
     "status": "completed"
    },
    "tags": []
   },
   "outputs": [],
   "source": [
    "all_df['Fare']=all_df['Fare'].fillna(all_df['Fare'].mean())"
   ]
  },
  {
   "cell_type": "code",
   "execution_count": 35,
   "metadata": {
    "execution": {
     "iopub.execute_input": "2021-07-06T05:14:32.478986Z",
     "iopub.status.busy": "2021-07-06T05:14:32.478244Z",
     "iopub.status.idle": "2021-07-06T05:14:32.482349Z",
     "shell.execute_reply": "2021-07-06T05:14:32.481847Z",
     "shell.execute_reply.started": "2021-07-06T05:13:11.285739Z"
    },
    "papermill": {
     "duration": 0.082018,
     "end_time": "2021-07-06T05:14:32.482472",
     "exception": false,
     "start_time": "2021-07-06T05:14:32.400454",
     "status": "completed"
    },
    "tags": []
   },
   "outputs": [],
   "source": [
    "# all_df['Cabin']=all_df.loc[all_df['Cabin'].isna(),'Cabin_bool']=1\n",
    "# all_df['Cabin']=all_df.loc[~all_df['Cabin'].isna(),'Cabin_bool']=1"
   ]
  },
  {
   "cell_type": "code",
   "execution_count": 36,
   "metadata": {
    "execution": {
     "iopub.execute_input": "2021-07-06T05:14:32.639533Z",
     "iopub.status.busy": "2021-07-06T05:14:32.638859Z",
     "iopub.status.idle": "2021-07-06T05:14:32.641666Z",
     "shell.execute_reply": "2021-07-06T05:14:32.641207Z",
     "shell.execute_reply.started": "2021-07-06T05:13:11.305995Z"
    },
    "papermill": {
     "duration": 0.083406,
     "end_time": "2021-07-06T05:14:32.641838",
     "exception": false,
     "start_time": "2021-07-06T05:14:32.558432",
     "status": "completed"
    },
    "tags": []
   },
   "outputs": [],
   "source": [
    "all_df['Embarked']=all_df['Embarked'].fillna('S')"
   ]
  },
  {
   "cell_type": "code",
   "execution_count": 37,
   "metadata": {
    "execution": {
     "iopub.execute_input": "2021-07-06T05:14:32.796340Z",
     "iopub.status.busy": "2021-07-06T05:14:32.795391Z",
     "iopub.status.idle": "2021-07-06T05:14:32.806053Z",
     "shell.execute_reply": "2021-07-06T05:14:32.805394Z",
     "shell.execute_reply.started": "2021-07-06T05:13:11.323504Z"
    },
    "papermill": {
     "duration": 0.089044,
     "end_time": "2021-07-06T05:14:32.806189",
     "exception": false,
     "start_time": "2021-07-06T05:14:32.717145",
     "status": "completed"
    },
    "tags": []
   },
   "outputs": [
    {
     "data": {
      "text/plain": [
       "PassengerId       0\n",
       "Pclass            0\n",
       "Name              0\n",
       "Sex               0\n",
       "Age             263\n",
       "SibSp             0\n",
       "Parch             0\n",
       "Ticket            0\n",
       "Fare              0\n",
       "Cabin          1014\n",
       "Embarked          0\n",
       "dtype: int64"
      ]
     },
     "execution_count": 37,
     "metadata": {},
     "output_type": "execute_result"
    }
   ],
   "source": [
    "all_df.isnull().sum()"
   ]
  },
  {
   "cell_type": "code",
   "execution_count": 38,
   "metadata": {
    "execution": {
     "iopub.execute_input": "2021-07-06T05:14:32.982061Z",
     "iopub.status.busy": "2021-07-06T05:14:32.981114Z",
     "iopub.status.idle": "2021-07-06T05:14:32.985531Z",
     "shell.execute_reply": "2021-07-06T05:14:32.985003Z",
     "shell.execute_reply.started": "2021-07-06T05:13:11.347927Z"
    },
    "papermill": {
     "duration": 0.1034,
     "end_time": "2021-07-06T05:14:32.985685",
     "exception": false,
     "start_time": "2021-07-06T05:14:32.882285",
     "status": "completed"
    },
    "tags": []
   },
   "outputs": [
    {
     "data": {
      "text/html": [
       "<div>\n",
       "<style scoped>\n",
       "    .dataframe tbody tr th:only-of-type {\n",
       "        vertical-align: middle;\n",
       "    }\n",
       "\n",
       "    .dataframe tbody tr th {\n",
       "        vertical-align: top;\n",
       "    }\n",
       "\n",
       "    .dataframe thead th {\n",
       "        text-align: right;\n",
       "    }\n",
       "</style>\n",
       "<table border=\"1\" class=\"dataframe\">\n",
       "  <thead>\n",
       "    <tr style=\"text-align: right;\">\n",
       "      <th></th>\n",
       "      <th>PassengerId</th>\n",
       "      <th>Pclass</th>\n",
       "      <th>Name</th>\n",
       "      <th>Sex</th>\n",
       "      <th>Age</th>\n",
       "      <th>SibSp</th>\n",
       "      <th>Parch</th>\n",
       "      <th>Ticket</th>\n",
       "      <th>Fare</th>\n",
       "      <th>Cabin</th>\n",
       "      <th>Embarked</th>\n",
       "      <th>Title</th>\n",
       "    </tr>\n",
       "  </thead>\n",
       "  <tbody>\n",
       "    <tr>\n",
       "      <th>0</th>\n",
       "      <td>1</td>\n",
       "      <td>3</td>\n",
       "      <td>Braund, Mr. Owen Harris</td>\n",
       "      <td>male</td>\n",
       "      <td>22.0</td>\n",
       "      <td>1</td>\n",
       "      <td>0</td>\n",
       "      <td>A/5 21171</td>\n",
       "      <td>7.2500</td>\n",
       "      <td>NaN</td>\n",
       "      <td>S</td>\n",
       "      <td>Mr</td>\n",
       "    </tr>\n",
       "    <tr>\n",
       "      <th>1</th>\n",
       "      <td>2</td>\n",
       "      <td>1</td>\n",
       "      <td>Cumings, Mrs. John Bradley (Florence Briggs Th...</td>\n",
       "      <td>female</td>\n",
       "      <td>38.0</td>\n",
       "      <td>1</td>\n",
       "      <td>0</td>\n",
       "      <td>PC 17599</td>\n",
       "      <td>71.2833</td>\n",
       "      <td>C85</td>\n",
       "      <td>C</td>\n",
       "      <td>Mrs</td>\n",
       "    </tr>\n",
       "    <tr>\n",
       "      <th>2</th>\n",
       "      <td>3</td>\n",
       "      <td>3</td>\n",
       "      <td>Heikkinen, Miss. Laina</td>\n",
       "      <td>female</td>\n",
       "      <td>26.0</td>\n",
       "      <td>0</td>\n",
       "      <td>0</td>\n",
       "      <td>STON/O2. 3101282</td>\n",
       "      <td>7.9250</td>\n",
       "      <td>NaN</td>\n",
       "      <td>S</td>\n",
       "      <td>Miss</td>\n",
       "    </tr>\n",
       "    <tr>\n",
       "      <th>3</th>\n",
       "      <td>4</td>\n",
       "      <td>1</td>\n",
       "      <td>Futrelle, Mrs. Jacques Heath (Lily May Peel)</td>\n",
       "      <td>female</td>\n",
       "      <td>35.0</td>\n",
       "      <td>1</td>\n",
       "      <td>0</td>\n",
       "      <td>113803</td>\n",
       "      <td>53.1000</td>\n",
       "      <td>C123</td>\n",
       "      <td>S</td>\n",
       "      <td>Mrs</td>\n",
       "    </tr>\n",
       "    <tr>\n",
       "      <th>4</th>\n",
       "      <td>5</td>\n",
       "      <td>3</td>\n",
       "      <td>Allen, Mr. William Henry</td>\n",
       "      <td>male</td>\n",
       "      <td>35.0</td>\n",
       "      <td>0</td>\n",
       "      <td>0</td>\n",
       "      <td>373450</td>\n",
       "      <td>8.0500</td>\n",
       "      <td>NaN</td>\n",
       "      <td>S</td>\n",
       "      <td>Mr</td>\n",
       "    </tr>\n",
       "  </tbody>\n",
       "</table>\n",
       "</div>"
      ],
      "text/plain": [
       "   PassengerId  Pclass                                               Name  \\\n",
       "0            1       3                            Braund, Mr. Owen Harris   \n",
       "1            2       1  Cumings, Mrs. John Bradley (Florence Briggs Th...   \n",
       "2            3       3                             Heikkinen, Miss. Laina   \n",
       "3            4       1       Futrelle, Mrs. Jacques Heath (Lily May Peel)   \n",
       "4            5       3                           Allen, Mr. William Henry   \n",
       "\n",
       "      Sex   Age  SibSp  Parch            Ticket     Fare Cabin Embarked Title  \n",
       "0    male  22.0      1      0         A/5 21171   7.2500   NaN        S    Mr  \n",
       "1  female  38.0      1      0          PC 17599  71.2833   C85        C   Mrs  \n",
       "2  female  26.0      0      0  STON/O2. 3101282   7.9250   NaN        S  Miss  \n",
       "3  female  35.0      1      0            113803  53.1000  C123        S   Mrs  \n",
       "4    male  35.0      0      0            373450   8.0500   NaN        S    Mr  "
      ]
     },
     "execution_count": 38,
     "metadata": {},
     "output_type": "execute_result"
    }
   ],
   "source": [
    "all_df['Title']=all_df['Name'].str.extract('([A-Za-z]+)\\.',expand=False)\n",
    "all_df.head()"
   ]
  },
  {
   "cell_type": "code",
   "execution_count": 39,
   "metadata": {
    "execution": {
     "iopub.execute_input": "2021-07-06T05:14:33.145158Z",
     "iopub.status.busy": "2021-07-06T05:14:33.144473Z",
     "iopub.status.idle": "2021-07-06T05:14:33.147283Z",
     "shell.execute_reply": "2021-07-06T05:14:33.147898Z",
     "shell.execute_reply.started": "2021-07-06T05:13:11.378063Z"
    },
    "papermill": {
     "duration": 0.085063,
     "end_time": "2021-07-06T05:14:33.148062",
     "exception": false,
     "start_time": "2021-07-06T05:14:33.062999",
     "status": "completed"
    },
    "tags": []
   },
   "outputs": [
    {
     "data": {
      "text/plain": [
       "array(['Mr', 'Mrs', 'Miss', 'Master', 'Don', 'Rev', 'Dr', 'Mme', 'Ms',\n",
       "       'Major', 'Lady', 'Sir', 'Mlle', 'Col', 'Capt', 'Countess',\n",
       "       'Jonkheer', 'Dona'], dtype=object)"
      ]
     },
     "execution_count": 39,
     "metadata": {},
     "output_type": "execute_result"
    }
   ],
   "source": [
    "all_df['Title'].unique()"
   ]
  },
  {
   "cell_type": "code",
   "execution_count": 40,
   "metadata": {
    "execution": {
     "iopub.execute_input": "2021-07-06T05:14:33.305689Z",
     "iopub.status.busy": "2021-07-06T05:14:33.305047Z",
     "iopub.status.idle": "2021-07-06T05:14:33.314448Z",
     "shell.execute_reply": "2021-07-06T05:14:33.314927Z",
     "shell.execute_reply.started": "2021-07-06T05:13:11.386145Z"
    },
    "papermill": {
     "duration": 0.089244,
     "end_time": "2021-07-06T05:14:33.315098",
     "exception": false,
     "start_time": "2021-07-06T05:14:33.225854",
     "status": "completed"
    },
    "tags": []
   },
   "outputs": [],
   "source": [
    "all_df['Title']=all_df['Title'].replace(['Lady', 'Countess','Capt', 'Col',\\\n",
    " 'Don', 'Dr', 'Major', 'Rev', 'Sir', 'Jonkheer', 'Dona'], 'Rare')\n",
    "all_df['Title']=all_df['Title'].replace('Mlle','Miss')\n",
    "all_df['Title']=all_df['Title'].replace('Ms','Miss')\n",
    "all_df['Title']=all_df['Title'].replace('Mme','Mrs')"
   ]
  },
  {
   "cell_type": "code",
   "execution_count": 41,
   "metadata": {
    "execution": {
     "iopub.execute_input": "2021-07-06T05:14:33.471842Z",
     "iopub.status.busy": "2021-07-06T05:14:33.471193Z",
     "iopub.status.idle": "2021-07-06T05:14:33.476961Z",
     "shell.execute_reply": "2021-07-06T05:14:33.477409Z",
     "shell.execute_reply.started": "2021-07-06T05:13:11.406066Z"
    },
    "papermill": {
     "duration": 0.08542,
     "end_time": "2021-07-06T05:14:33.477581",
     "exception": false,
     "start_time": "2021-07-06T05:14:33.392161",
     "status": "completed"
    },
    "tags": []
   },
   "outputs": [],
   "source": [
    "title_mapping={'Mr':1,'Miss':2,'Mrs':3,'Master':4,'Rare':5}\n",
    "all_df['Title']=all_df['Title'].map(title_mapping)"
   ]
  },
  {
   "cell_type": "code",
   "execution_count": 42,
   "metadata": {
    "execution": {
     "iopub.execute_input": "2021-07-06T05:14:33.635407Z",
     "iopub.status.busy": "2021-07-06T05:14:33.634750Z",
     "iopub.status.idle": "2021-07-06T05:14:33.653239Z",
     "shell.execute_reply": "2021-07-06T05:14:33.653769Z",
     "shell.execute_reply.started": "2021-07-06T05:13:11.431514Z"
    },
    "papermill": {
     "duration": 0.099503,
     "end_time": "2021-07-06T05:14:33.653933",
     "exception": false,
     "start_time": "2021-07-06T05:14:33.554430",
     "status": "completed"
    },
    "tags": []
   },
   "outputs": [
    {
     "data": {
      "text/html": [
       "<div>\n",
       "<style scoped>\n",
       "    .dataframe tbody tr th:only-of-type {\n",
       "        vertical-align: middle;\n",
       "    }\n",
       "\n",
       "    .dataframe tbody tr th {\n",
       "        vertical-align: top;\n",
       "    }\n",
       "\n",
       "    .dataframe thead th {\n",
       "        text-align: right;\n",
       "    }\n",
       "</style>\n",
       "<table border=\"1\" class=\"dataframe\">\n",
       "  <thead>\n",
       "    <tr style=\"text-align: right;\">\n",
       "      <th></th>\n",
       "      <th>PassengerId</th>\n",
       "      <th>Pclass</th>\n",
       "      <th>Name</th>\n",
       "      <th>Sex</th>\n",
       "      <th>Age</th>\n",
       "      <th>SibSp</th>\n",
       "      <th>Parch</th>\n",
       "      <th>Ticket</th>\n",
       "      <th>Fare</th>\n",
       "      <th>Cabin</th>\n",
       "      <th>Embarked</th>\n",
       "      <th>Title</th>\n",
       "      <th>qcut_Fare</th>\n",
       "    </tr>\n",
       "  </thead>\n",
       "  <tbody>\n",
       "    <tr>\n",
       "      <th>0</th>\n",
       "      <td>1</td>\n",
       "      <td>3</td>\n",
       "      <td>Braund, Mr. Owen Harris</td>\n",
       "      <td>male</td>\n",
       "      <td>22.0</td>\n",
       "      <td>1</td>\n",
       "      <td>0</td>\n",
       "      <td>A/5 21171</td>\n",
       "      <td>7.2500</td>\n",
       "      <td>NaN</td>\n",
       "      <td>S</td>\n",
       "      <td>1</td>\n",
       "      <td>0</td>\n",
       "    </tr>\n",
       "    <tr>\n",
       "      <th>1</th>\n",
       "      <td>2</td>\n",
       "      <td>1</td>\n",
       "      <td>Cumings, Mrs. John Bradley (Florence Briggs Th...</td>\n",
       "      <td>female</td>\n",
       "      <td>38.0</td>\n",
       "      <td>1</td>\n",
       "      <td>0</td>\n",
       "      <td>PC 17599</td>\n",
       "      <td>71.2833</td>\n",
       "      <td>C85</td>\n",
       "      <td>C</td>\n",
       "      <td>3</td>\n",
       "      <td>8</td>\n",
       "    </tr>\n",
       "    <tr>\n",
       "      <th>2</th>\n",
       "      <td>3</td>\n",
       "      <td>3</td>\n",
       "      <td>Heikkinen, Miss. Laina</td>\n",
       "      <td>female</td>\n",
       "      <td>26.0</td>\n",
       "      <td>0</td>\n",
       "      <td>0</td>\n",
       "      <td>STON/O2. 3101282</td>\n",
       "      <td>7.9250</td>\n",
       "      <td>NaN</td>\n",
       "      <td>S</td>\n",
       "      <td>2</td>\n",
       "      <td>2</td>\n",
       "    </tr>\n",
       "    <tr>\n",
       "      <th>3</th>\n",
       "      <td>4</td>\n",
       "      <td>1</td>\n",
       "      <td>Futrelle, Mrs. Jacques Heath (Lily May Peel)</td>\n",
       "      <td>female</td>\n",
       "      <td>35.0</td>\n",
       "      <td>1</td>\n",
       "      <td>0</td>\n",
       "      <td>113803</td>\n",
       "      <td>53.1000</td>\n",
       "      <td>C123</td>\n",
       "      <td>S</td>\n",
       "      <td>3</td>\n",
       "      <td>8</td>\n",
       "    </tr>\n",
       "    <tr>\n",
       "      <th>4</th>\n",
       "      <td>5</td>\n",
       "      <td>3</td>\n",
       "      <td>Allen, Mr. William Henry</td>\n",
       "      <td>male</td>\n",
       "      <td>35.0</td>\n",
       "      <td>0</td>\n",
       "      <td>0</td>\n",
       "      <td>373450</td>\n",
       "      <td>8.0500</td>\n",
       "      <td>NaN</td>\n",
       "      <td>S</td>\n",
       "      <td>1</td>\n",
       "      <td>2</td>\n",
       "    </tr>\n",
       "  </tbody>\n",
       "</table>\n",
       "</div>"
      ],
      "text/plain": [
       "   PassengerId  Pclass                                               Name  \\\n",
       "0            1       3                            Braund, Mr. Owen Harris   \n",
       "1            2       1  Cumings, Mrs. John Bradley (Florence Briggs Th...   \n",
       "2            3       3                             Heikkinen, Miss. Laina   \n",
       "3            4       1       Futrelle, Mrs. Jacques Heath (Lily May Peel)   \n",
       "4            5       3                           Allen, Mr. William Henry   \n",
       "\n",
       "      Sex   Age  SibSp  Parch            Ticket     Fare Cabin Embarked  \\\n",
       "0    male  22.0      1      0         A/5 21171   7.2500   NaN        S   \n",
       "1  female  38.0      1      0          PC 17599  71.2833   C85        C   \n",
       "2  female  26.0      0      0  STON/O2. 3101282   7.9250   NaN        S   \n",
       "3  female  35.0      1      0            113803  53.1000  C123        S   \n",
       "4    male  35.0      0      0            373450   8.0500   NaN        S   \n",
       "\n",
       "   Title  qcut_Fare  \n",
       "0      1          0  \n",
       "1      3          8  \n",
       "2      2          2  \n",
       "3      3          8  \n",
       "4      1          2  "
      ]
     },
     "execution_count": 42,
     "metadata": {},
     "output_type": "execute_result"
    }
   ],
   "source": [
    "all_df['qcut_Fare']=pd.qcut(all_df['Fare'],10,labels=False)\n",
    "all_df.head()"
   ]
  },
  {
   "cell_type": "code",
   "execution_count": 43,
   "metadata": {
    "execution": {
     "iopub.execute_input": "2021-07-06T05:14:33.812820Z",
     "iopub.status.busy": "2021-07-06T05:14:33.812173Z",
     "iopub.status.idle": "2021-07-06T05:14:33.816603Z",
     "shell.execute_reply": "2021-07-06T05:14:33.817126Z",
     "shell.execute_reply.started": "2021-07-06T05:13:11.458053Z"
    },
    "papermill": {
     "duration": 0.08632,
     "end_time": "2021-07-06T05:14:33.817295",
     "exception": false,
     "start_time": "2021-07-06T05:14:33.730975",
     "status": "completed"
    },
    "tags": []
   },
   "outputs": [],
   "source": [
    "all_df['Age']=all_df['Age'].fillna(all_df['Age'].mean())"
   ]
  },
  {
   "cell_type": "code",
   "execution_count": 44,
   "metadata": {
    "execution": {
     "iopub.execute_input": "2021-07-06T05:14:33.976475Z",
     "iopub.status.busy": "2021-07-06T05:14:33.975559Z",
     "iopub.status.idle": "2021-07-06T05:14:33.994176Z",
     "shell.execute_reply": "2021-07-06T05:14:33.994649Z",
     "shell.execute_reply.started": "2021-07-06T05:13:11.466684Z"
    },
    "papermill": {
     "duration": 0.09959,
     "end_time": "2021-07-06T05:14:33.994837",
     "exception": false,
     "start_time": "2021-07-06T05:14:33.895247",
     "status": "completed"
    },
    "tags": []
   },
   "outputs": [
    {
     "data": {
      "text/html": [
       "<div>\n",
       "<style scoped>\n",
       "    .dataframe tbody tr th:only-of-type {\n",
       "        vertical-align: middle;\n",
       "    }\n",
       "\n",
       "    .dataframe tbody tr th {\n",
       "        vertical-align: top;\n",
       "    }\n",
       "\n",
       "    .dataframe thead th {\n",
       "        text-align: right;\n",
       "    }\n",
       "</style>\n",
       "<table border=\"1\" class=\"dataframe\">\n",
       "  <thead>\n",
       "    <tr style=\"text-align: right;\">\n",
       "      <th></th>\n",
       "      <th>PassengerId</th>\n",
       "      <th>Pclass</th>\n",
       "      <th>Name</th>\n",
       "      <th>Sex</th>\n",
       "      <th>Age</th>\n",
       "      <th>SibSp</th>\n",
       "      <th>Parch</th>\n",
       "      <th>Ticket</th>\n",
       "      <th>Fare</th>\n",
       "      <th>Cabin</th>\n",
       "      <th>Embarked</th>\n",
       "      <th>Title</th>\n",
       "      <th>qcut_Fare</th>\n",
       "      <th>qcut_Age</th>\n",
       "    </tr>\n",
       "  </thead>\n",
       "  <tbody>\n",
       "    <tr>\n",
       "      <th>0</th>\n",
       "      <td>1</td>\n",
       "      <td>3</td>\n",
       "      <td>Braund, Mr. Owen Harris</td>\n",
       "      <td>male</td>\n",
       "      <td>22.0</td>\n",
       "      <td>1</td>\n",
       "      <td>0</td>\n",
       "      <td>A/5 21171</td>\n",
       "      <td>7.2500</td>\n",
       "      <td>NaN</td>\n",
       "      <td>S</td>\n",
       "      <td>1</td>\n",
       "      <td>0</td>\n",
       "      <td>2</td>\n",
       "    </tr>\n",
       "    <tr>\n",
       "      <th>1</th>\n",
       "      <td>2</td>\n",
       "      <td>1</td>\n",
       "      <td>Cumings, Mrs. John Bradley (Florence Briggs Th...</td>\n",
       "      <td>female</td>\n",
       "      <td>38.0</td>\n",
       "      <td>1</td>\n",
       "      <td>0</td>\n",
       "      <td>PC 17599</td>\n",
       "      <td>71.2833</td>\n",
       "      <td>C85</td>\n",
       "      <td>C</td>\n",
       "      <td>3</td>\n",
       "      <td>8</td>\n",
       "      <td>6</td>\n",
       "    </tr>\n",
       "    <tr>\n",
       "      <th>2</th>\n",
       "      <td>3</td>\n",
       "      <td>3</td>\n",
       "      <td>Heikkinen, Miss. Laina</td>\n",
       "      <td>female</td>\n",
       "      <td>26.0</td>\n",
       "      <td>0</td>\n",
       "      <td>0</td>\n",
       "      <td>STON/O2. 3101282</td>\n",
       "      <td>7.9250</td>\n",
       "      <td>NaN</td>\n",
       "      <td>S</td>\n",
       "      <td>2</td>\n",
       "      <td>2</td>\n",
       "      <td>3</td>\n",
       "    </tr>\n",
       "    <tr>\n",
       "      <th>3</th>\n",
       "      <td>4</td>\n",
       "      <td>1</td>\n",
       "      <td>Futrelle, Mrs. Jacques Heath (Lily May Peel)</td>\n",
       "      <td>female</td>\n",
       "      <td>35.0</td>\n",
       "      <td>1</td>\n",
       "      <td>0</td>\n",
       "      <td>113803</td>\n",
       "      <td>53.1000</td>\n",
       "      <td>C123</td>\n",
       "      <td>S</td>\n",
       "      <td>3</td>\n",
       "      <td>8</td>\n",
       "      <td>6</td>\n",
       "    </tr>\n",
       "    <tr>\n",
       "      <th>4</th>\n",
       "      <td>5</td>\n",
       "      <td>3</td>\n",
       "      <td>Allen, Mr. William Henry</td>\n",
       "      <td>male</td>\n",
       "      <td>35.0</td>\n",
       "      <td>0</td>\n",
       "      <td>0</td>\n",
       "      <td>373450</td>\n",
       "      <td>8.0500</td>\n",
       "      <td>NaN</td>\n",
       "      <td>S</td>\n",
       "      <td>1</td>\n",
       "      <td>2</td>\n",
       "      <td>6</td>\n",
       "    </tr>\n",
       "  </tbody>\n",
       "</table>\n",
       "</div>"
      ],
      "text/plain": [
       "   PassengerId  Pclass                                               Name  \\\n",
       "0            1       3                            Braund, Mr. Owen Harris   \n",
       "1            2       1  Cumings, Mrs. John Bradley (Florence Briggs Th...   \n",
       "2            3       3                             Heikkinen, Miss. Laina   \n",
       "3            4       1       Futrelle, Mrs. Jacques Heath (Lily May Peel)   \n",
       "4            5       3                           Allen, Mr. William Henry   \n",
       "\n",
       "      Sex   Age  SibSp  Parch            Ticket     Fare Cabin Embarked  \\\n",
       "0    male  22.0      1      0         A/5 21171   7.2500   NaN        S   \n",
       "1  female  38.0      1      0          PC 17599  71.2833   C85        C   \n",
       "2  female  26.0      0      0  STON/O2. 3101282   7.9250   NaN        S   \n",
       "3  female  35.0      1      0            113803  53.1000  C123        S   \n",
       "4    male  35.0      0      0            373450   8.0500   NaN        S   \n",
       "\n",
       "   Title  qcut_Fare  qcut_Age  \n",
       "0      1          0         2  \n",
       "1      3          8         6  \n",
       "2      2          2         3  \n",
       "3      3          8         6  \n",
       "4      1          2         6  "
      ]
     },
     "execution_count": 44,
     "metadata": {},
     "output_type": "execute_result"
    }
   ],
   "source": [
    "all_df['qcut_Age']=pd.qcut(all_df['Age'],10,labels=False,duplicates='drop')\n",
    "all_df.head()"
   ]
  },
  {
   "cell_type": "markdown",
   "metadata": {
    "papermill": {
     "duration": 0.07737,
     "end_time": "2021-07-06T05:14:34.149774",
     "exception": false,
     "start_time": "2021-07-06T05:14:34.072404",
     "status": "completed"
    },
    "tags": []
   },
   "source": [
    "### labelEncoding"
   ]
  },
  {
   "cell_type": "code",
   "execution_count": 45,
   "metadata": {
    "execution": {
     "iopub.execute_input": "2021-07-06T05:14:34.310860Z",
     "iopub.status.busy": "2021-07-06T05:14:34.307242Z",
     "iopub.status.idle": "2021-07-06T05:14:34.312635Z",
     "shell.execute_reply": "2021-07-06T05:14:34.313163Z",
     "shell.execute_reply.started": "2021-07-06T05:13:11.498904Z"
    },
    "papermill": {
     "duration": 0.08588,
     "end_time": "2021-07-06T05:14:34.313322",
     "exception": false,
     "start_time": "2021-07-06T05:14:34.227442",
     "status": "completed"
    },
    "tags": []
   },
   "outputs": [],
   "source": [
    "sex_dic={'female':0,'male':1}\n",
    "all_df['Sex']=all_df['Sex'].map(sex_dic)"
   ]
  },
  {
   "cell_type": "code",
   "execution_count": 46,
   "metadata": {
    "execution": {
     "iopub.execute_input": "2021-07-06T05:14:34.474914Z",
     "iopub.status.busy": "2021-07-06T05:14:34.474287Z",
     "iopub.status.idle": "2021-07-06T05:14:34.476141Z",
     "shell.execute_reply": "2021-07-06T05:14:34.476613Z",
     "shell.execute_reply.started": "2021-07-06T05:13:11.506934Z"
    },
    "papermill": {
     "duration": 0.085964,
     "end_time": "2021-07-06T05:14:34.476785",
     "exception": false,
     "start_time": "2021-07-06T05:14:34.390821",
     "status": "completed"
    },
    "tags": []
   },
   "outputs": [],
   "source": [
    "embarked_dic={'S':0,'C':1,'Q':2}\n",
    "all_df['Embarked']=all_df['Embarked'].map(embarked_dic)"
   ]
  },
  {
   "cell_type": "code",
   "execution_count": 47,
   "metadata": {
    "execution": {
     "iopub.execute_input": "2021-07-06T05:14:34.635190Z",
     "iopub.status.busy": "2021-07-06T05:14:34.634591Z",
     "iopub.status.idle": "2021-07-06T05:14:34.640545Z",
     "shell.execute_reply": "2021-07-06T05:14:34.641086Z",
     "shell.execute_reply.started": "2021-07-06T05:13:11.521321Z"
    },
    "papermill": {
     "duration": 0.08706,
     "end_time": "2021-07-06T05:14:34.641250",
     "exception": false,
     "start_time": "2021-07-06T05:14:34.554190",
     "status": "completed"
    },
    "tags": []
   },
   "outputs": [
    {
     "data": {
      "text/plain": [
       "array([nan, 'C85', 'C123', 'E46', 'G6', 'C103', 'D56', 'A6',\n",
       "       'C23 C25 C27', 'B78', 'D33', 'B30', 'C52', 'B28', 'C83', 'F33',\n",
       "       'F G73', 'E31', 'A5', 'D10 D12', 'D26', 'C110', 'B58 B60', 'E101',\n",
       "       'F E69', 'D47', 'B86', 'F2', 'C2', 'E33', 'B19', 'A7', 'C49', 'F4',\n",
       "       'A32', 'B4', 'B80', 'A31', 'D36', 'D15', 'C93', 'C78', 'D35',\n",
       "       'C87', 'B77', 'E67', 'B94', 'C125', 'C99', 'C118', 'D7', 'A19',\n",
       "       'B49', 'D', 'C22 C26', 'C106', 'C65', 'E36', 'C54',\n",
       "       'B57 B59 B63 B66', 'C7', 'E34', 'C32', 'B18', 'C124', 'C91', 'E40',\n",
       "       'T', 'C128', 'D37', 'B35', 'E50', 'C82', 'B96 B98', 'E10', 'E44',\n",
       "       'A34', 'C104', 'C111', 'C92', 'E38', 'D21', 'E12', 'E63', 'A14',\n",
       "       'B37', 'C30', 'D20', 'B79', 'E25', 'D46', 'B73', 'C95', 'B38',\n",
       "       'B39', 'B22', 'C86', 'C70', 'A16', 'C101', 'C68', 'A10', 'E68',\n",
       "       'B41', 'A20', 'D19', 'D50', 'D9', 'A23', 'B50', 'A26', 'D48',\n",
       "       'E58', 'C126', 'B71', 'B51 B53 B55', 'D49', 'B5', 'B20', 'F G63',\n",
       "       'C62 C64', 'E24', 'C90', 'C45', 'E8', 'B101', 'D45', 'C46', 'D30',\n",
       "       'E121', 'D11', 'E77', 'F38', 'B3', 'D6', 'B82 B84', 'D17', 'A36',\n",
       "       'B102', 'B69', 'E49', 'C47', 'D28', 'E17', 'A24', 'C50', 'B42',\n",
       "       'C148', 'B45', 'B36', 'A21', 'D34', 'A9', 'C31', 'B61', 'C53',\n",
       "       'D43', 'C130', 'C132', 'C55 C57', 'C116', 'F', 'A29', 'C6', 'C28',\n",
       "       'C51', 'C97', 'D22', 'B10', 'E45', 'E52', 'A11', 'B11', 'C80',\n",
       "       'C89', 'F E46', 'B26', 'F E57', 'A18', 'E60', 'E39 E41',\n",
       "       'B52 B54 B56', 'C39', 'B24', 'D40', 'D38', 'C105'], dtype=object)"
      ]
     },
     "execution_count": 47,
     "metadata": {},
     "output_type": "execute_result"
    }
   ],
   "source": [
    "all_df['Cabin'].unique()"
   ]
  },
  {
   "cell_type": "code",
   "execution_count": 48,
   "metadata": {
    "execution": {
     "iopub.execute_input": "2021-07-06T05:14:34.800723Z",
     "iopub.status.busy": "2021-07-06T05:14:34.800099Z",
     "iopub.status.idle": "2021-07-06T05:14:35.009042Z",
     "shell.execute_reply": "2021-07-06T05:14:35.009497Z",
     "shell.execute_reply.started": "2021-07-06T05:13:11.536503Z"
    },
    "papermill": {
     "duration": 0.289838,
     "end_time": "2021-07-06T05:14:35.009665",
     "exception": false,
     "start_time": "2021-07-06T05:14:34.719827",
     "status": "completed"
    },
    "tags": []
   },
   "outputs": [
    {
     "name": "stdout",
     "output_type": "stream",
     "text": [
      "Z    1014\n",
      "C      94\n",
      "B      65\n",
      "D      46\n",
      "E      41\n",
      "A      22\n",
      "F      21\n",
      "G       5\n",
      "T       1\n",
      "Name: Cabin_First, dtype: int64\n"
     ]
    },
    {
     "data": {
      "text/plain": [
       "<AxesSubplot:ylabel='Cabin_First'>"
      ]
     },
     "execution_count": 48,
     "metadata": {},
     "output_type": "execute_result"
    },
    {
     "data": {
      "image/png": "[encoded data removed]",
      "text/plain": [
       "<Figure size 1080x720 with 1 Axes>"
      ]
     },
     "metadata": {},
     "output_type": "display_data"
    }
   ],
   "source": [
    "all_df.loc[ all_df['Cabin'].isna(), 'Cabin_First'] = 'Z'\n",
    "all_df.loc[ all_df['Cabin'].notna(), 'Cabin_First'] = all_df['Cabin'].str.slice(0,1)\n",
    "print( all_df.Cabin_First.value_counts() )\n",
    "all_df.head(2)\n",
    "\n",
    "tmp = all_df['Cabin_First'].value_counts()\n",
    "tmp.plot(kind='pie', autopct='%1.2f%%', figsize=(15,10))"
   ]
  },
  {
   "cell_type": "code",
   "execution_count": 49,
   "metadata": {
    "execution": {
     "iopub.execute_input": "2021-07-06T05:14:35.174672Z",
     "iopub.status.busy": "2021-07-06T05:14:35.174012Z",
     "iopub.status.idle": "2021-07-06T05:14:35.198104Z",
     "shell.execute_reply": "2021-07-06T05:14:35.198642Z",
     "shell.execute_reply.started": "2021-07-06T05:13:11.700410Z"
    },
    "papermill": {
     "duration": 0.109366,
     "end_time": "2021-07-06T05:14:35.198823",
     "exception": false,
     "start_time": "2021-07-06T05:14:35.089457",
     "status": "completed"
    },
    "tags": []
   },
   "outputs": [
    {
     "name": "stdout",
     "output_type": "stream",
     "text": [
      "['Z' 'C' 'E' 'Rare' 'D' 'A' 'B' 'F']\n",
      "[6 2 4 7 3 0 1 5]\n"
     ]
    },
    {
     "data": {
      "text/html": [
       "<div>\n",
       "<style scoped>\n",
       "    .dataframe tbody tr th:only-of-type {\n",
       "        vertical-align: middle;\n",
       "    }\n",
       "\n",
       "    .dataframe tbody tr th {\n",
       "        vertical-align: top;\n",
       "    }\n",
       "\n",
       "    .dataframe thead th {\n",
       "        text-align: right;\n",
       "    }\n",
       "</style>\n",
       "<table border=\"1\" class=\"dataframe\">\n",
       "  <thead>\n",
       "    <tr style=\"text-align: right;\">\n",
       "      <th></th>\n",
       "      <th>PassengerId</th>\n",
       "      <th>Pclass</th>\n",
       "      <th>Name</th>\n",
       "      <th>Sex</th>\n",
       "      <th>Age</th>\n",
       "      <th>SibSp</th>\n",
       "      <th>Parch</th>\n",
       "      <th>Ticket</th>\n",
       "      <th>Fare</th>\n",
       "      <th>Cabin</th>\n",
       "      <th>Embarked</th>\n",
       "      <th>Title</th>\n",
       "      <th>qcut_Fare</th>\n",
       "      <th>qcut_Age</th>\n",
       "      <th>Cabin_First</th>\n",
       "    </tr>\n",
       "  </thead>\n",
       "  <tbody>\n",
       "    <tr>\n",
       "      <th>0</th>\n",
       "      <td>1</td>\n",
       "      <td>3</td>\n",
       "      <td>Braund, Mr. Owen Harris</td>\n",
       "      <td>1</td>\n",
       "      <td>22.0</td>\n",
       "      <td>1</td>\n",
       "      <td>0</td>\n",
       "      <td>A/5 21171</td>\n",
       "      <td>7.2500</td>\n",
       "      <td>NaN</td>\n",
       "      <td>0</td>\n",
       "      <td>1</td>\n",
       "      <td>0</td>\n",
       "      <td>2</td>\n",
       "      <td>6</td>\n",
       "    </tr>\n",
       "    <tr>\n",
       "      <th>1</th>\n",
       "      <td>2</td>\n",
       "      <td>1</td>\n",
       "      <td>Cumings, Mrs. John Bradley (Florence Briggs Th...</td>\n",
       "      <td>0</td>\n",
       "      <td>38.0</td>\n",
       "      <td>1</td>\n",
       "      <td>0</td>\n",
       "      <td>PC 17599</td>\n",
       "      <td>71.2833</td>\n",
       "      <td>C85</td>\n",
       "      <td>1</td>\n",
       "      <td>3</td>\n",
       "      <td>8</td>\n",
       "      <td>6</td>\n",
       "      <td>2</td>\n",
       "    </tr>\n",
       "    <tr>\n",
       "      <th>2</th>\n",
       "      <td>3</td>\n",
       "      <td>3</td>\n",
       "      <td>Heikkinen, Miss. Laina</td>\n",
       "      <td>0</td>\n",
       "      <td>26.0</td>\n",
       "      <td>0</td>\n",
       "      <td>0</td>\n",
       "      <td>STON/O2. 3101282</td>\n",
       "      <td>7.9250</td>\n",
       "      <td>NaN</td>\n",
       "      <td>0</td>\n",
       "      <td>2</td>\n",
       "      <td>2</td>\n",
       "      <td>3</td>\n",
       "      <td>6</td>\n",
       "    </tr>\n",
       "    <tr>\n",
       "      <th>3</th>\n",
       "      <td>4</td>\n",
       "      <td>1</td>\n",
       "      <td>Futrelle, Mrs. Jacques Heath (Lily May Peel)</td>\n",
       "      <td>0</td>\n",
       "      <td>35.0</td>\n",
       "      <td>1</td>\n",
       "      <td>0</td>\n",
       "      <td>113803</td>\n",
       "      <td>53.1000</td>\n",
       "      <td>C123</td>\n",
       "      <td>0</td>\n",
       "      <td>3</td>\n",
       "      <td>8</td>\n",
       "      <td>6</td>\n",
       "      <td>2</td>\n",
       "    </tr>\n",
       "    <tr>\n",
       "      <th>4</th>\n",
       "      <td>5</td>\n",
       "      <td>3</td>\n",
       "      <td>Allen, Mr. William Henry</td>\n",
       "      <td>1</td>\n",
       "      <td>35.0</td>\n",
       "      <td>0</td>\n",
       "      <td>0</td>\n",
       "      <td>373450</td>\n",
       "      <td>8.0500</td>\n",
       "      <td>NaN</td>\n",
       "      <td>0</td>\n",
       "      <td>1</td>\n",
       "      <td>2</td>\n",
       "      <td>6</td>\n",
       "      <td>6</td>\n",
       "    </tr>\n",
       "  </tbody>\n",
       "</table>\n",
       "</div>"
      ],
      "text/plain": [
       "   PassengerId  Pclass                                               Name  \\\n",
       "0            1       3                            Braund, Mr. Owen Harris   \n",
       "1            2       1  Cumings, Mrs. John Bradley (Florence Briggs Th...   \n",
       "2            3       3                             Heikkinen, Miss. Laina   \n",
       "3            4       1       Futrelle, Mrs. Jacques Heath (Lily May Peel)   \n",
       "4            5       3                           Allen, Mr. William Henry   \n",
       "\n",
       "   Sex   Age  SibSp  Parch            Ticket     Fare Cabin  Embarked  Title  \\\n",
       "0    1  22.0      1      0         A/5 21171   7.2500   NaN         0      1   \n",
       "1    0  38.0      1      0          PC 17599  71.2833   C85         1      3   \n",
       "2    0  26.0      0      0  STON/O2. 3101282   7.9250   NaN         0      2   \n",
       "3    0  35.0      1      0            113803  53.1000  C123         0      3   \n",
       "4    1  35.0      0      0            373450   8.0500   NaN         0      1   \n",
       "\n",
       "   qcut_Fare  qcut_Age  Cabin_First  \n",
       "0          0         2            6  \n",
       "1          8         6            2  \n",
       "2          2         3            6  \n",
       "3          8         6            2  \n",
       "4          2         6            6  "
      ]
     },
     "execution_count": 49,
     "metadata": {},
     "output_type": "execute_result"
    }
   ],
   "source": [
    "all_df['Cabin_First'] = all_df['Cabin_First'].replace(['G','T'],\"Rare\")\n",
    "print(all_df['Cabin_First'].unique())\n",
    "Cabin_First_dic = {\"A\":0, \"B\":1, \"C\":2, \"D\":3, \"E\":4, \"F\":5, \"Z\":6, \"Rare\":7}\n",
    "all_df['Cabin_First'] = all_df['Cabin_First'].map(Cabin_First_dic)\n",
    "print(all_df['Cabin_First'].unique())\n",
    "all_df.head()"
   ]
  },
  {
   "cell_type": "code",
   "execution_count": 50,
   "metadata": {
    "execution": {
     "iopub.execute_input": "2021-07-06T05:14:35.368508Z",
     "iopub.status.busy": "2021-07-06T05:14:35.367786Z",
     "iopub.status.idle": "2021-07-06T05:14:35.370529Z",
     "shell.execute_reply": "2021-07-06T05:14:35.370999Z",
     "shell.execute_reply.started": "2021-07-06T05:13:11.726023Z"
    },
    "papermill": {
     "duration": 0.090454,
     "end_time": "2021-07-06T05:14:35.371166",
     "exception": false,
     "start_time": "2021-07-06T05:14:35.280712",
     "status": "completed"
    },
    "tags": []
   },
   "outputs": [
    {
     "data": {
      "text/plain": [
       "1    757\n",
       "2    264\n",
       "3    198\n",
       "4     61\n",
       "5     29\n",
       "Name: Title, dtype: int64"
      ]
     },
     "execution_count": 50,
     "metadata": {},
     "output_type": "execute_result"
    }
   ],
   "source": [
    "all_df['Title'].value_counts()"
   ]
  },
  {
   "cell_type": "code",
   "execution_count": 51,
   "metadata": {
    "execution": {
     "iopub.execute_input": "2021-07-06T05:14:35.536415Z",
     "iopub.status.busy": "2021-07-06T05:14:35.535816Z",
     "iopub.status.idle": "2021-07-06T05:14:35.545752Z",
     "shell.execute_reply": "2021-07-06T05:14:35.546240Z",
     "shell.execute_reply.started": "2021-07-06T05:13:11.738789Z"
    },
    "papermill": {
     "duration": 0.094061,
     "end_time": "2021-07-06T05:14:35.546397",
     "exception": false,
     "start_time": "2021-07-06T05:14:35.452336",
     "status": "completed"
    },
    "tags": []
   },
   "outputs": [
    {
     "data": {
      "text/plain": [
       "Title\n",
       "1    31.700899\n",
       "2    23.380788\n",
       "3    35.958539\n",
       "4     8.682444\n",
       "5    44.651074\n",
       "Name: Age, dtype: float64"
      ]
     },
     "execution_count": 51,
     "metadata": {},
     "output_type": "execute_result"
    }
   ],
   "source": [
    "mean_gr=all_df.groupby('Title').mean()['Age']\n",
    "mean_gr.head()"
   ]
  },
  {
   "cell_type": "code",
   "execution_count": 52,
   "metadata": {
    "execution": {
     "iopub.execute_input": "2021-07-06T05:14:35.713497Z",
     "iopub.status.busy": "2021-07-06T05:14:35.712835Z",
     "iopub.status.idle": "2021-07-06T05:14:35.724927Z",
     "shell.execute_reply": "2021-07-06T05:14:35.725423Z",
     "shell.execute_reply.started": "2021-07-06T05:13:11.759797Z"
    },
    "papermill": {
     "duration": 0.096734,
     "end_time": "2021-07-06T05:14:35.725602",
     "exception": false,
     "start_time": "2021-07-06T05:14:35.628868",
     "status": "completed"
    },
    "tags": []
   },
   "outputs": [],
   "source": [
    "all_df.loc[(all_df['Age'].isna())&(all_df['Title']==0),'Age']=mean_gr[1]\n",
    "all_df.loc[(all_df['Age'].isna())&(all_df['Title']==0),'Age']=mean_gr[2]\n",
    "all_df.loc[(all_df['Age'].isna())&(all_df['Title']==0),'Age']=mean_gr[3]\n",
    "all_df.loc[(all_df['Age'].isna())&(all_df['Title']==0),'Age']=mean_gr[4]\n",
    "all_df.loc[(all_df['Age'].isna())&(all_df['Title']==0),'Age']=mean_gr[5]"
   ]
  },
  {
   "cell_type": "code",
   "execution_count": 53,
   "metadata": {
    "execution": {
     "iopub.execute_input": "2021-07-06T05:14:35.894971Z",
     "iopub.status.busy": "2021-07-06T05:14:35.894312Z",
     "iopub.status.idle": "2021-07-06T05:14:35.899818Z",
     "shell.execute_reply": "2021-07-06T05:14:35.900297Z",
     "shell.execute_reply.started": "2021-07-06T05:13:11.777234Z"
    },
    "papermill": {
     "duration": 0.091023,
     "end_time": "2021-07-06T05:14:35.900456",
     "exception": false,
     "start_time": "2021-07-06T05:14:35.809433",
     "status": "completed"
    },
    "tags": []
   },
   "outputs": [
    {
     "data": {
      "text/plain": [
       "((891, 15), (418, 15))"
      ]
     },
     "execution_count": 53,
     "metadata": {},
     "output_type": "execute_result"
    }
   ],
   "source": [
    "train_df=all_df.iloc[0:891,:]\n",
    "test_df=all_df.iloc[891:,:]\n",
    "train_df.shape, test_df.shape"
   ]
  },
  {
   "cell_type": "code",
   "execution_count": 54,
   "metadata": {
    "execution": {
     "iopub.execute_input": "2021-07-06T05:14:36.067384Z",
     "iopub.status.busy": "2021-07-06T05:14:36.066675Z",
     "iopub.status.idle": "2021-07-06T05:14:36.089293Z",
     "shell.execute_reply": "2021-07-06T05:14:36.089755Z",
     "shell.execute_reply.started": "2021-07-06T05:13:11.797003Z"
    },
    "papermill": {
     "duration": 0.10748,
     "end_time": "2021-07-06T05:14:36.089928",
     "exception": false,
     "start_time": "2021-07-06T05:14:35.982448",
     "status": "completed"
    },
    "tags": []
   },
   "outputs": [
    {
     "data": {
      "text/html": [
       "<div>\n",
       "<style scoped>\n",
       "    .dataframe tbody tr th:only-of-type {\n",
       "        vertical-align: middle;\n",
       "    }\n",
       "\n",
       "    .dataframe tbody tr th {\n",
       "        vertical-align: top;\n",
       "    }\n",
       "\n",
       "    .dataframe thead th {\n",
       "        text-align: right;\n",
       "    }\n",
       "</style>\n",
       "<table border=\"1\" class=\"dataframe\">\n",
       "  <thead>\n",
       "    <tr style=\"text-align: right;\">\n",
       "      <th></th>\n",
       "      <th>PassengerId</th>\n",
       "      <th>Pclass</th>\n",
       "      <th>Name</th>\n",
       "      <th>Sex</th>\n",
       "      <th>Age</th>\n",
       "      <th>SibSp</th>\n",
       "      <th>Parch</th>\n",
       "      <th>Ticket</th>\n",
       "      <th>Fare</th>\n",
       "      <th>Cabin</th>\n",
       "      <th>Embarked</th>\n",
       "      <th>Title</th>\n",
       "      <th>qcut_Fare</th>\n",
       "      <th>qcut_Age</th>\n",
       "      <th>Cabin_First</th>\n",
       "      <th>Survived</th>\n",
       "    </tr>\n",
       "  </thead>\n",
       "  <tbody>\n",
       "    <tr>\n",
       "      <th>0</th>\n",
       "      <td>1</td>\n",
       "      <td>3</td>\n",
       "      <td>Braund, Mr. Owen Harris</td>\n",
       "      <td>1</td>\n",
       "      <td>22.000000</td>\n",
       "      <td>1</td>\n",
       "      <td>0</td>\n",
       "      <td>A/5 21171</td>\n",
       "      <td>7.2500</td>\n",
       "      <td>NaN</td>\n",
       "      <td>0</td>\n",
       "      <td>1</td>\n",
       "      <td>0</td>\n",
       "      <td>2</td>\n",
       "      <td>6</td>\n",
       "      <td>0</td>\n",
       "    </tr>\n",
       "    <tr>\n",
       "      <th>1</th>\n",
       "      <td>2</td>\n",
       "      <td>1</td>\n",
       "      <td>Cumings, Mrs. John Bradley (Florence Briggs Th...</td>\n",
       "      <td>0</td>\n",
       "      <td>38.000000</td>\n",
       "      <td>1</td>\n",
       "      <td>0</td>\n",
       "      <td>PC 17599</td>\n",
       "      <td>71.2833</td>\n",
       "      <td>C85</td>\n",
       "      <td>1</td>\n",
       "      <td>3</td>\n",
       "      <td>8</td>\n",
       "      <td>6</td>\n",
       "      <td>2</td>\n",
       "      <td>1</td>\n",
       "    </tr>\n",
       "    <tr>\n",
       "      <th>2</th>\n",
       "      <td>3</td>\n",
       "      <td>3</td>\n",
       "      <td>Heikkinen, Miss. Laina</td>\n",
       "      <td>0</td>\n",
       "      <td>26.000000</td>\n",
       "      <td>0</td>\n",
       "      <td>0</td>\n",
       "      <td>STON/O2. 3101282</td>\n",
       "      <td>7.9250</td>\n",
       "      <td>NaN</td>\n",
       "      <td>0</td>\n",
       "      <td>2</td>\n",
       "      <td>2</td>\n",
       "      <td>3</td>\n",
       "      <td>6</td>\n",
       "      <td>1</td>\n",
       "    </tr>\n",
       "    <tr>\n",
       "      <th>3</th>\n",
       "      <td>4</td>\n",
       "      <td>1</td>\n",
       "      <td>Futrelle, Mrs. Jacques Heath (Lily May Peel)</td>\n",
       "      <td>0</td>\n",
       "      <td>35.000000</td>\n",
       "      <td>1</td>\n",
       "      <td>0</td>\n",
       "      <td>113803</td>\n",
       "      <td>53.1000</td>\n",
       "      <td>C123</td>\n",
       "      <td>0</td>\n",
       "      <td>3</td>\n",
       "      <td>8</td>\n",
       "      <td>6</td>\n",
       "      <td>2</td>\n",
       "      <td>1</td>\n",
       "    </tr>\n",
       "    <tr>\n",
       "      <th>4</th>\n",
       "      <td>5</td>\n",
       "      <td>3</td>\n",
       "      <td>Allen, Mr. William Henry</td>\n",
       "      <td>1</td>\n",
       "      <td>35.000000</td>\n",
       "      <td>0</td>\n",
       "      <td>0</td>\n",
       "      <td>373450</td>\n",
       "      <td>8.0500</td>\n",
       "      <td>NaN</td>\n",
       "      <td>0</td>\n",
       "      <td>1</td>\n",
       "      <td>2</td>\n",
       "      <td>6</td>\n",
       "      <td>6</td>\n",
       "      <td>0</td>\n",
       "    </tr>\n",
       "    <tr>\n",
       "      <th>5</th>\n",
       "      <td>6</td>\n",
       "      <td>3</td>\n",
       "      <td>Moran, Mr. James</td>\n",
       "      <td>1</td>\n",
       "      <td>29.881138</td>\n",
       "      <td>0</td>\n",
       "      <td>0</td>\n",
       "      <td>330877</td>\n",
       "      <td>8.4583</td>\n",
       "      <td>NaN</td>\n",
       "      <td>2</td>\n",
       "      <td>1</td>\n",
       "      <td>3</td>\n",
       "      <td>4</td>\n",
       "      <td>6</td>\n",
       "      <td>0</td>\n",
       "    </tr>\n",
       "    <tr>\n",
       "      <th>6</th>\n",
       "      <td>7</td>\n",
       "      <td>1</td>\n",
       "      <td>McCarthy, Mr. Timothy J</td>\n",
       "      <td>1</td>\n",
       "      <td>54.000000</td>\n",
       "      <td>0</td>\n",
       "      <td>0</td>\n",
       "      <td>17463</td>\n",
       "      <td>51.8625</td>\n",
       "      <td>E46</td>\n",
       "      <td>0</td>\n",
       "      <td>1</td>\n",
       "      <td>8</td>\n",
       "      <td>8</td>\n",
       "      <td>4</td>\n",
       "      <td>0</td>\n",
       "    </tr>\n",
       "    <tr>\n",
       "      <th>7</th>\n",
       "      <td>8</td>\n",
       "      <td>3</td>\n",
       "      <td>Palsson, Master. Gosta Leonard</td>\n",
       "      <td>1</td>\n",
       "      <td>2.000000</td>\n",
       "      <td>3</td>\n",
       "      <td>1</td>\n",
       "      <td>349909</td>\n",
       "      <td>21.0750</td>\n",
       "      <td>NaN</td>\n",
       "      <td>0</td>\n",
       "      <td>4</td>\n",
       "      <td>5</td>\n",
       "      <td>0</td>\n",
       "      <td>6</td>\n",
       "      <td>0</td>\n",
       "    </tr>\n",
       "    <tr>\n",
       "      <th>8</th>\n",
       "      <td>9</td>\n",
       "      <td>3</td>\n",
       "      <td>Johnson, Mrs. Oscar W (Elisabeth Vilhelmina Berg)</td>\n",
       "      <td>0</td>\n",
       "      <td>27.000000</td>\n",
       "      <td>0</td>\n",
       "      <td>2</td>\n",
       "      <td>347742</td>\n",
       "      <td>11.1333</td>\n",
       "      <td>NaN</td>\n",
       "      <td>0</td>\n",
       "      <td>3</td>\n",
       "      <td>4</td>\n",
       "      <td>3</td>\n",
       "      <td>6</td>\n",
       "      <td>1</td>\n",
       "    </tr>\n",
       "    <tr>\n",
       "      <th>9</th>\n",
       "      <td>10</td>\n",
       "      <td>2</td>\n",
       "      <td>Nasser, Mrs. Nicholas (Adele Achem)</td>\n",
       "      <td>0</td>\n",
       "      <td>14.000000</td>\n",
       "      <td>1</td>\n",
       "      <td>0</td>\n",
       "      <td>237736</td>\n",
       "      <td>30.0708</td>\n",
       "      <td>NaN</td>\n",
       "      <td>1</td>\n",
       "      <td>3</td>\n",
       "      <td>7</td>\n",
       "      <td>0</td>\n",
       "      <td>6</td>\n",
       "      <td>1</td>\n",
       "    </tr>\n",
       "  </tbody>\n",
       "</table>\n",
       "</div>"
      ],
      "text/plain": [
       "   PassengerId  Pclass                                               Name  \\\n",
       "0            1       3                            Braund, Mr. Owen Harris   \n",
       "1            2       1  Cumings, Mrs. John Bradley (Florence Briggs Th...   \n",
       "2            3       3                             Heikkinen, Miss. Laina   \n",
       "3            4       1       Futrelle, Mrs. Jacques Heath (Lily May Peel)   \n",
       "4            5       3                           Allen, Mr. William Henry   \n",
       "5            6       3                                   Moran, Mr. James   \n",
       "6            7       1                            McCarthy, Mr. Timothy J   \n",
       "7            8       3                     Palsson, Master. Gosta Leonard   \n",
       "8            9       3  Johnson, Mrs. Oscar W (Elisabeth Vilhelmina Berg)   \n",
       "9           10       2                Nasser, Mrs. Nicholas (Adele Achem)   \n",
       "\n",
       "   Sex        Age  SibSp  Parch            Ticket     Fare Cabin  Embarked  \\\n",
       "0    1  22.000000      1      0         A/5 21171   7.2500   NaN         0   \n",
       "1    0  38.000000      1      0          PC 17599  71.2833   C85         1   \n",
       "2    0  26.000000      0      0  STON/O2. 3101282   7.9250   NaN         0   \n",
       "3    0  35.000000      1      0            113803  53.1000  C123         0   \n",
       "4    1  35.000000      0      0            373450   8.0500   NaN         0   \n",
       "5    1  29.881138      0      0            330877   8.4583   NaN         2   \n",
       "6    1  54.000000      0      0             17463  51.8625   E46         0   \n",
       "7    1   2.000000      3      1            349909  21.0750   NaN         0   \n",
       "8    0  27.000000      0      2            347742  11.1333   NaN         0   \n",
       "9    0  14.000000      1      0            237736  30.0708   NaN         1   \n",
       "\n",
       "   Title  qcut_Fare  qcut_Age  Cabin_First  Survived  \n",
       "0      1          0         2            6         0  \n",
       "1      3          8         6            2         1  \n",
       "2      2          2         3            6         1  \n",
       "3      3          8         6            2         1  \n",
       "4      1          2         6            6         0  \n",
       "5      1          3         4            6         0  \n",
       "6      1          8         8            4         0  \n",
       "7      4          5         0            6         0  \n",
       "8      3          4         3            6         1  \n",
       "9      3          7         0            6         1  "
      ]
     },
     "execution_count": 54,
     "metadata": {},
     "output_type": "execute_result"
    }
   ],
   "source": [
    "train_df = pd.concat([train_df, train['Survived']],axis=1 )\n",
    "train_df[0:10]"
   ]
  },
  {
   "cell_type": "code",
   "execution_count": 55,
   "metadata": {
    "execution": {
     "iopub.execute_input": "2021-07-06T05:14:36.259817Z",
     "iopub.status.busy": "2021-07-06T05:14:36.259175Z",
     "iopub.status.idle": "2021-07-06T05:14:36.284154Z",
     "shell.execute_reply": "2021-07-06T05:14:36.283531Z",
     "shell.execute_reply.started": "2021-07-06T05:13:11.831230Z"
    },
    "papermill": {
     "duration": 0.110622,
     "end_time": "2021-07-06T05:14:36.284294",
     "exception": false,
     "start_time": "2021-07-06T05:14:36.173672",
     "status": "completed"
    },
    "tags": []
   },
   "outputs": [
    {
     "data": {
      "text/html": [
       "<div>\n",
       "<style scoped>\n",
       "    .dataframe tbody tr th:only-of-type {\n",
       "        vertical-align: middle;\n",
       "    }\n",
       "\n",
       "    .dataframe tbody tr th {\n",
       "        vertical-align: top;\n",
       "    }\n",
       "\n",
       "    .dataframe thead th {\n",
       "        text-align: right;\n",
       "    }\n",
       "</style>\n",
       "<table border=\"1\" class=\"dataframe\">\n",
       "  <thead>\n",
       "    <tr style=\"text-align: right;\">\n",
       "      <th></th>\n",
       "      <th>PassengerId</th>\n",
       "      <th>Pclass</th>\n",
       "      <th>Sex</th>\n",
       "      <th>Age</th>\n",
       "      <th>SibSp</th>\n",
       "      <th>Parch</th>\n",
       "      <th>Fare</th>\n",
       "      <th>Embarked</th>\n",
       "      <th>Title</th>\n",
       "      <th>qcut_Fare</th>\n",
       "      <th>qcut_Age</th>\n",
       "      <th>Cabin_First</th>\n",
       "      <th>Survived</th>\n",
       "    </tr>\n",
       "  </thead>\n",
       "  <tbody>\n",
       "    <tr>\n",
       "      <th>PassengerId</th>\n",
       "      <td>1.000000</td>\n",
       "      <td>-0.035144</td>\n",
       "      <td>0.042939</td>\n",
       "      <td>0.033093</td>\n",
       "      <td>-0.057527</td>\n",
       "      <td>-0.001652</td>\n",
       "      <td>0.012658</td>\n",
       "      <td>-0.030467</td>\n",
       "      <td>0.003878</td>\n",
       "      <td>-0.010942</td>\n",
       "      <td>0.038109</td>\n",
       "      <td>-0.037825</td>\n",
       "      <td>-0.005007</td>\n",
       "    </tr>\n",
       "    <tr>\n",
       "      <th>Pclass</th>\n",
       "      <td>-0.035144</td>\n",
       "      <td>1.000000</td>\n",
       "      <td>0.131900</td>\n",
       "      <td>-0.330367</td>\n",
       "      <td>0.083081</td>\n",
       "      <td>0.018443</td>\n",
       "      <td>-0.549500</td>\n",
       "      <td>0.045702</td>\n",
       "      <td>-0.173929</td>\n",
       "      <td>-0.698212</td>\n",
       "      <td>-0.321327</td>\n",
       "      <td>0.734341</td>\n",
       "      <td>-0.338481</td>\n",
       "    </tr>\n",
       "    <tr>\n",
       "      <th>Sex</th>\n",
       "      <td>0.042939</td>\n",
       "      <td>0.131900</td>\n",
       "      <td>1.000000</td>\n",
       "      <td>0.084461</td>\n",
       "      <td>-0.114631</td>\n",
       "      <td>-0.245489</td>\n",
       "      <td>-0.182333</td>\n",
       "      <td>-0.116569</td>\n",
       "      <td>-0.502713</td>\n",
       "      <td>-0.262871</td>\n",
       "      <td>0.066789</td>\n",
       "      <td>0.106627</td>\n",
       "      <td>-0.543351</td>\n",
       "    </tr>\n",
       "    <tr>\n",
       "      <th>Age</th>\n",
       "      <td>0.033093</td>\n",
       "      <td>-0.330367</td>\n",
       "      <td>0.084461</td>\n",
       "      <td>1.000000</td>\n",
       "      <td>-0.232515</td>\n",
       "      <td>-0.179882</td>\n",
       "      <td>0.091002</td>\n",
       "      <td>0.009244</td>\n",
       "      <td>-0.098108</td>\n",
       "      <td>0.095661</td>\n",
       "      <td>0.937573</td>\n",
       "      <td>-0.251192</td>\n",
       "      <td>-0.070323</td>\n",
       "    </tr>\n",
       "    <tr>\n",
       "      <th>SibSp</th>\n",
       "      <td>-0.057527</td>\n",
       "      <td>0.083081</td>\n",
       "      <td>-0.114631</td>\n",
       "      <td>-0.232515</td>\n",
       "      <td>1.000000</td>\n",
       "      <td>0.414838</td>\n",
       "      <td>0.159651</td>\n",
       "      <td>-0.059961</td>\n",
       "      <td>0.269623</td>\n",
       "      <td>0.357876</td>\n",
       "      <td>-0.199046</td>\n",
       "      <td>0.040631</td>\n",
       "      <td>-0.035322</td>\n",
       "    </tr>\n",
       "    <tr>\n",
       "      <th>Parch</th>\n",
       "      <td>-0.001652</td>\n",
       "      <td>0.018443</td>\n",
       "      <td>-0.245489</td>\n",
       "      <td>-0.179882</td>\n",
       "      <td>0.414838</td>\n",
       "      <td>1.000000</td>\n",
       "      <td>0.216225</td>\n",
       "      <td>-0.078665</td>\n",
       "      <td>0.315784</td>\n",
       "      <td>0.370022</td>\n",
       "      <td>-0.143081</td>\n",
       "      <td>-0.026340</td>\n",
       "      <td>0.081629</td>\n",
       "    </tr>\n",
       "    <tr>\n",
       "      <th>Fare</th>\n",
       "      <td>0.012658</td>\n",
       "      <td>-0.549500</td>\n",
       "      <td>-0.182333</td>\n",
       "      <td>0.091002</td>\n",
       "      <td>0.159651</td>\n",
       "      <td>0.216225</td>\n",
       "      <td>1.000000</td>\n",
       "      <td>0.062142</td>\n",
       "      <td>0.136310</td>\n",
       "      <td>0.627020</td>\n",
       "      <td>0.098090</td>\n",
       "      <td>-0.526996</td>\n",
       "      <td>0.257307</td>\n",
       "    </tr>\n",
       "    <tr>\n",
       "      <th>Embarked</th>\n",
       "      <td>-0.030467</td>\n",
       "      <td>0.045702</td>\n",
       "      <td>-0.116569</td>\n",
       "      <td>0.009244</td>\n",
       "      <td>-0.059961</td>\n",
       "      <td>-0.078665</td>\n",
       "      <td>0.062142</td>\n",
       "      <td>1.000000</td>\n",
       "      <td>0.045400</td>\n",
       "      <td>-0.055816</td>\n",
       "      <td>0.008504</td>\n",
       "      <td>-0.045830</td>\n",
       "      <td>0.106811</td>\n",
       "    </tr>\n",
       "    <tr>\n",
       "      <th>Title</th>\n",
       "      <td>0.003878</td>\n",
       "      <td>-0.173929</td>\n",
       "      <td>-0.502713</td>\n",
       "      <td>-0.098108</td>\n",
       "      <td>0.269623</td>\n",
       "      <td>0.315784</td>\n",
       "      <td>0.136310</td>\n",
       "      <td>0.045400</td>\n",
       "      <td>1.000000</td>\n",
       "      <td>0.345852</td>\n",
       "      <td>-0.047208</td>\n",
       "      <td>-0.126780</td>\n",
       "      <td>0.407753</td>\n",
       "    </tr>\n",
       "    <tr>\n",
       "      <th>qcut_Fare</th>\n",
       "      <td>-0.010942</td>\n",
       "      <td>-0.698212</td>\n",
       "      <td>-0.262871</td>\n",
       "      <td>0.095661</td>\n",
       "      <td>0.357876</td>\n",
       "      <td>0.370022</td>\n",
       "      <td>0.627020</td>\n",
       "      <td>-0.055816</td>\n",
       "      <td>0.345852</td>\n",
       "      <td>1.000000</td>\n",
       "      <td>0.119532</td>\n",
       "      <td>-0.544860</td>\n",
       "      <td>0.324034</td>\n",
       "    </tr>\n",
       "    <tr>\n",
       "      <th>qcut_Age</th>\n",
       "      <td>0.038109</td>\n",
       "      <td>-0.321327</td>\n",
       "      <td>0.066789</td>\n",
       "      <td>0.937573</td>\n",
       "      <td>-0.199046</td>\n",
       "      <td>-0.143081</td>\n",
       "      <td>0.098090</td>\n",
       "      <td>0.008504</td>\n",
       "      <td>-0.047208</td>\n",
       "      <td>0.119532</td>\n",
       "      <td>1.000000</td>\n",
       "      <td>-0.228045</td>\n",
       "      <td>-0.033574</td>\n",
       "    </tr>\n",
       "    <tr>\n",
       "      <th>Cabin_First</th>\n",
       "      <td>-0.037825</td>\n",
       "      <td>0.734341</td>\n",
       "      <td>0.106627</td>\n",
       "      <td>-0.251192</td>\n",
       "      <td>0.040631</td>\n",
       "      <td>-0.026340</td>\n",
       "      <td>-0.526996</td>\n",
       "      <td>-0.045830</td>\n",
       "      <td>-0.126780</td>\n",
       "      <td>-0.544860</td>\n",
       "      <td>-0.228045</td>\n",
       "      <td>1.000000</td>\n",
       "      <td>-0.282445</td>\n",
       "    </tr>\n",
       "    <tr>\n",
       "      <th>Survived</th>\n",
       "      <td>-0.005007</td>\n",
       "      <td>-0.338481</td>\n",
       "      <td>-0.543351</td>\n",
       "      <td>-0.070323</td>\n",
       "      <td>-0.035322</td>\n",
       "      <td>0.081629</td>\n",
       "      <td>0.257307</td>\n",
       "      <td>0.106811</td>\n",
       "      <td>0.407753</td>\n",
       "      <td>0.324034</td>\n",
       "      <td>-0.033574</td>\n",
       "      <td>-0.282445</td>\n",
       "      <td>1.000000</td>\n",
       "    </tr>\n",
       "  </tbody>\n",
       "</table>\n",
       "</div>"
      ],
      "text/plain": [
       "             PassengerId    Pclass       Sex       Age     SibSp     Parch  \\\n",
       "PassengerId     1.000000 -0.035144  0.042939  0.033093 -0.057527 -0.001652   \n",
       "Pclass         -0.035144  1.000000  0.131900 -0.330367  0.083081  0.018443   \n",
       "Sex             0.042939  0.131900  1.000000  0.084461 -0.114631 -0.245489   \n",
       "Age             0.033093 -0.330367  0.084461  1.000000 -0.232515 -0.179882   \n",
       "SibSp          -0.057527  0.083081 -0.114631 -0.232515  1.000000  0.414838   \n",
       "Parch          -0.001652  0.018443 -0.245489 -0.179882  0.414838  1.000000   \n",
       "Fare            0.012658 -0.549500 -0.182333  0.091002  0.159651  0.216225   \n",
       "Embarked       -0.030467  0.045702 -0.116569  0.009244 -0.059961 -0.078665   \n",
       "Title           0.003878 -0.173929 -0.502713 -0.098108  0.269623  0.315784   \n",
       "qcut_Fare      -0.010942 -0.698212 -0.262871  0.095661  0.357876  0.370022   \n",
       "qcut_Age        0.038109 -0.321327  0.066789  0.937573 -0.199046 -0.143081   \n",
       "Cabin_First    -0.037825  0.734341  0.106627 -0.251192  0.040631 -0.026340   \n",
       "Survived       -0.005007 -0.338481 -0.543351 -0.070323 -0.035322  0.081629   \n",
       "\n",
       "                 Fare  Embarked     Title  qcut_Fare  qcut_Age  Cabin_First  \\\n",
       "PassengerId  0.012658 -0.030467  0.003878  -0.010942  0.038109    -0.037825   \n",
       "Pclass      -0.549500  0.045702 -0.173929  -0.698212 -0.321327     0.734341   \n",
       "Sex         -0.182333 -0.116569 -0.502713  -0.262871  0.066789     0.106627   \n",
       "Age          0.091002  0.009244 -0.098108   0.095661  0.937573    -0.251192   \n",
       "SibSp        0.159651 -0.059961  0.269623   0.357876 -0.199046     0.040631   \n",
       "Parch        0.216225 -0.078665  0.315784   0.370022 -0.143081    -0.026340   \n",
       "Fare         1.000000  0.062142  0.136310   0.627020  0.098090    -0.526996   \n",
       "Embarked     0.062142  1.000000  0.045400  -0.055816  0.008504    -0.045830   \n",
       "Title        0.136310  0.045400  1.000000   0.345852 -0.047208    -0.126780   \n",
       "qcut_Fare    0.627020 -0.055816  0.345852   1.000000  0.119532    -0.544860   \n",
       "qcut_Age     0.098090  0.008504 -0.047208   0.119532  1.000000    -0.228045   \n",
       "Cabin_First -0.526996 -0.045830 -0.126780  -0.544860 -0.228045     1.000000   \n",
       "Survived     0.257307  0.106811  0.407753   0.324034 -0.033574    -0.282445   \n",
       "\n",
       "             Survived  \n",
       "PassengerId -0.005007  \n",
       "Pclass      -0.338481  \n",
       "Sex         -0.543351  \n",
       "Age         -0.070323  \n",
       "SibSp       -0.035322  \n",
       "Parch        0.081629  \n",
       "Fare         0.257307  \n",
       "Embarked     0.106811  \n",
       "Title        0.407753  \n",
       "qcut_Fare    0.324034  \n",
       "qcut_Age    -0.033574  \n",
       "Cabin_First -0.282445  \n",
       "Survived     1.000000  "
      ]
     },
     "execution_count": 55,
     "metadata": {},
     "output_type": "execute_result"
    }
   ],
   "source": [
    "train_df.corr()"
   ]
  },
  {
   "cell_type": "code",
   "execution_count": 56,
   "metadata": {
    "execution": {
     "iopub.execute_input": "2021-07-06T05:14:36.458497Z",
     "iopub.status.busy": "2021-07-06T05:14:36.457850Z",
     "iopub.status.idle": "2021-07-06T05:14:36.461897Z",
     "shell.execute_reply": "2021-07-06T05:14:36.462341Z",
     "shell.execute_reply.started": "2021-07-06T05:13:11.857705Z"
    },
    "papermill": {
     "duration": 0.094123,
     "end_time": "2021-07-06T05:14:36.462506",
     "exception": false,
     "start_time": "2021-07-06T05:14:36.368383",
     "status": "completed"
    },
    "tags": []
   },
   "outputs": [],
   "source": [
    "sel=['Pclass','Sex','Embarked','Title','Cabin_First','qcut_Fare','qcut_Age']\n",
    "\n",
    "X_train=train_df[sel]\n",
    "X_test=test_df[sel]\n",
    "y_train=train_df['Survived']"
   ]
  },
  {
   "cell_type": "code",
   "execution_count": 57,
   "metadata": {
    "execution": {
     "iopub.execute_input": "2021-07-06T05:14:36.635315Z",
     "iopub.status.busy": "2021-07-06T05:14:36.634550Z",
     "iopub.status.idle": "2021-07-06T05:14:36.647674Z",
     "shell.execute_reply": "2021-07-06T05:14:36.648179Z",
     "shell.execute_reply.started": "2021-07-06T05:13:11.869849Z"
    },
    "papermill": {
     "duration": 0.101713,
     "end_time": "2021-07-06T05:14:36.648373",
     "exception": false,
     "start_time": "2021-07-06T05:14:36.546660",
     "status": "completed"
    },
    "tags": []
   },
   "outputs": [],
   "source": [
    "sub = pd.read_csv(\"/kaggle/input/titanic/gender_submission.csv\")"
   ]
  },
  {
   "cell_type": "code",
   "execution_count": 58,
   "metadata": {
    "execution": {
     "iopub.execute_input": "2021-07-06T05:14:36.819508Z",
     "iopub.status.busy": "2021-07-06T05:14:36.818869Z",
     "iopub.status.idle": "2021-07-06T05:14:37.498401Z",
     "shell.execute_reply": "2021-07-06T05:14:37.497799Z",
     "shell.execute_reply.started": "2021-07-06T05:13:11.892912Z"
    },
    "papermill": {
     "duration": 0.765979,
     "end_time": "2021-07-06T05:14:37.498573",
     "exception": false,
     "start_time": "2021-07-06T05:14:36.732594",
     "status": "completed"
    },
    "tags": []
   },
   "outputs": [],
   "source": [
    "from sklearn.ensemble import RandomForestClassifier\n",
    "model = RandomForestClassifier()\n",
    "model.fit(X_train, y_train)\n",
    "pred = model.predict(X_test)\n",
    "\n",
    "sub['Survived'] = pred\n",
    "sub.to_csv(\"first0706_rf01.csv\", index=False)"
   ]
  },
  {
   "cell_type": "code",
   "execution_count": 59,
   "metadata": {
    "execution": {
     "iopub.execute_input": "2021-07-06T05:14:37.677816Z",
     "iopub.status.busy": "2021-07-06T05:14:37.676783Z",
     "iopub.status.idle": "2021-07-06T05:14:37.684262Z",
     "shell.execute_reply": "2021-07-06T05:14:37.684979Z",
     "shell.execute_reply.started": "2021-07-06T05:13:12.093592Z"
    },
    "papermill": {
     "duration": 0.100369,
     "end_time": "2021-07-06T05:14:37.685236",
     "exception": false,
     "start_time": "2021-07-06T05:14:37.584867",
     "status": "completed"
    },
    "tags": []
   },
   "outputs": [
    {
     "name": "stdout",
     "output_type": "stream",
     "text": [
      "Index(['PassengerId', 'Survived'], dtype='object')\n"
     ]
    }
   ],
   "source": [
    "sub=pd.read_csv('/kaggle/input/titanic/gender_submission.csv')\n",
    "print(sub.columns)"
   ]
  },
  {
   "cell_type": "code",
   "execution_count": null,
   "metadata": {
    "papermill": {
     "duration": 0.09084,
     "end_time": "2021-07-06T05:14:37.863364",
     "exception": false,
     "start_time": "2021-07-06T05:14:37.772524",
     "status": "completed"
    },
    "tags": []
   },
   "outputs": [],
   "source": []
  }
 ],
 "metadata": {
  "kernelspec": {
   "display_name": "Python 3",
   "language": "python",
   "name": "python3"
  },
  "language_info": {
   "codemirror_mode": {
    "name": "ipython",
    "version": 3
   },
   "file_extension": ".py",
   "mimetype": "text/x-python",
   "name": "python",
   "nbconvert_exporter": "python",
   "pygments_lexer": "ipython3",
   "version": "3.8.5"
  },
  "papermill": {
   "default_parameters": {},
   "duration": 39.883329,
   "end_time": "2021-07-06T05:14:39.593293",
   "environment_variables": {},
   "exception": null,
   "input_path": "__notebook__.ipynb",
   "output_path": "__notebook__.ipynb",
   "parameters": {},
   "start_time": "2021-07-06T05:13:59.709964",
   "version": "2.3.3"
  }
 },
 "nbformat": 4,
 "nbformat_minor": 5
}
