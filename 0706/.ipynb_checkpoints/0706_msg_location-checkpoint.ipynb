{
 "cells": [
  {
   "cell_type": "code",
   "execution_count": 155,
   "metadata": {},
   "outputs": [],
   "source": [
    "import pandas as pd\n",
    "from datetime import datetime\n",
    "import os"
   ]
  },
  {
   "cell_type": "code",
   "execution_count": 156,
   "metadata": {},
   "outputs": [],
   "source": [
    "msg_total_id=pd.read_csv('./msg_total_id.csv',engine ='python')"
   ]
  },
  {
   "cell_type": "code",
   "execution_count": 157,
   "metadata": {},
   "outputs": [],
   "source": [
    "msg_total_id['Area']=msg_total_id['Area'].fillna('전국')"
   ]
  },
  {
   "cell_type": "code",
   "execution_count": 158,
   "metadata": {},
   "outputs": [
    {
     "data": {
      "text/plain": [
       "location_id         0\n",
       "create_date         0\n",
       "location_name       0\n",
       "md101_sn            0\n",
       "msg                 0\n",
       "send_platform       0\n",
       "location_sido    1099\n",
       "Area                0\n",
       "dtype: int64"
      ]
     },
     "execution_count": 158,
     "metadata": {},
     "output_type": "execute_result"
    }
   ],
   "source": [
    "msg_total_id.isnull().sum()"
   ]
  },
  {
   "cell_type": "code",
   "execution_count": 159,
   "metadata": {},
   "outputs": [],
   "source": [
    "msg_total_id['create_date']=pd.to_datetime(msg_total_id['create_date'])"
   ]
  },
  {
   "cell_type": "code",
   "execution_count": 160,
   "metadata": {},
   "outputs": [
    {
     "name": "stdout",
     "output_type": "stream",
     "text": [
      "<class 'pandas.core.frame.DataFrame'>\n",
      "RangeIndex: 90694 entries, 0 to 90693\n",
      "Data columns (total 8 columns):\n",
      " #   Column         Non-Null Count  Dtype         \n",
      "---  ------         --------------  -----         \n",
      " 0   location_id    90694 non-null  object        \n",
      " 1   create_date    90694 non-null  datetime64[ns]\n",
      " 2   location_name  90694 non-null  object        \n",
      " 3   md101_sn       90694 non-null  int64         \n",
      " 4   msg            90694 non-null  object        \n",
      " 5   send_platform  90694 non-null  object        \n",
      " 6   location_sido  89595 non-null  object        \n",
      " 7   Area           90694 non-null  object        \n",
      "dtypes: datetime64[ns](1), int64(1), object(6)\n",
      "memory usage: 5.5+ MB\n"
     ]
    }
   ],
   "source": [
    "msg_total_id.info()"
   ]
  },
  {
   "cell_type": "markdown",
   "metadata": {},
   "source": [
    "### 전체와 검사장려 문자 나누기"
   ]
  },
  {
   "cell_type": "code",
   "execution_count": 161,
   "metadata": {},
   "outputs": [],
   "source": [
    "plz_be_tested = msg_total_id[msg_total_id[\"msg\"].str.contains(\"선별진료소\") |\\\n",
    "                          msg_total_id[\"msg\"].str.contains(\"무기명\") |\\\n",
    "                          msg_total_id[\"msg\"].str.contains(\"증상\") |\\\n",
    "                          msg_total_id[\"msg\"].str.contains(\"발현\") |\\\n",
    "                          msg_total_id[\"msg\"].str.contains(\"의심\") |\\\n",
    "                          msg_total_id[\"msg\"].str.contains(\"가까운\") |\\\n",
    "                          msg_total_id[\"msg\"].str.contains(\"발열\") |\\\n",
    "                          msg_total_id[\"msg\"].str.contains(\"오한\") |\\\n",
    "                          msg_total_id[\"msg\"].str.contains(\"기침\") |\\\n",
    "                          msg_total_id[\"msg\"].str.contains(\"두통\") |\\\n",
    "                          msg_total_id[\"msg\"].str.contains(\"구토\") |\\\n",
    "                          msg_total_id[\"msg\"].str.contains(\"설사\") |\\\n",
    "                          msg_total_id[\"msg\"].str.contains(\"1339\")\n",
    "                         ]"
   ]
  },
  {
   "cell_type": "code",
   "execution_count": 162,
   "metadata": {},
   "outputs": [
    {
     "name": "stdout",
     "output_type": "stream",
     "text": [
      "14614\n"
     ]
    },
    {
     "data": {
      "text/html": [
       "<div>\n",
       "<style scoped>\n",
       "    .dataframe tbody tr th:only-of-type {\n",
       "        vertical-align: middle;\n",
       "    }\n",
       "\n",
       "    .dataframe tbody tr th {\n",
       "        vertical-align: top;\n",
       "    }\n",
       "\n",
       "    .dataframe thead th {\n",
       "        text-align: right;\n",
       "    }\n",
       "</style>\n",
       "<table border=\"1\" class=\"dataframe\">\n",
       "  <thead>\n",
       "    <tr style=\"text-align: right;\">\n",
       "      <th></th>\n",
       "      <th>create_date</th>\n",
       "      <th>Area</th>\n",
       "    </tr>\n",
       "  </thead>\n",
       "  <tbody>\n",
       "    <tr>\n",
       "      <th>0</th>\n",
       "      <td>2021-06-27 10:23:41</td>\n",
       "      <td>강원권</td>\n",
       "    </tr>\n",
       "    <tr>\n",
       "      <th>1</th>\n",
       "      <td>2021-05-03 15:05:57</td>\n",
       "      <td>강원권</td>\n",
       "    </tr>\n",
       "    <tr>\n",
       "      <th>2</th>\n",
       "      <td>2021-03-27 13:20:56</td>\n",
       "      <td>강원권</td>\n",
       "    </tr>\n",
       "    <tr>\n",
       "      <th>3</th>\n",
       "      <td>2021-03-20 09:28:34</td>\n",
       "      <td>강원권</td>\n",
       "    </tr>\n",
       "    <tr>\n",
       "      <th>4</th>\n",
       "      <td>2021-03-20 08:55:53</td>\n",
       "      <td>강원권</td>\n",
       "    </tr>\n",
       "  </tbody>\n",
       "</table>\n",
       "</div>"
      ],
      "text/plain": [
       "          create_date Area\n",
       "0 2021-06-27 10:23:41  강원권\n",
       "1 2021-05-03 15:05:57  강원권\n",
       "2 2021-03-27 13:20:56  강원권\n",
       "3 2021-03-20 09:28:34  강원권\n",
       "4 2021-03-20 08:55:53  강원권"
      ]
     },
     "execution_count": 162,
     "metadata": {},
     "output_type": "execute_result"
    }
   ],
   "source": [
    "plz_be_tested=plz_be_tested.drop(['location_id','location_name','md101_sn','msg','send_platform','location_sido'],axis=1)\n",
    "plz_be_tested=plz_be_tested.reset_index(drop=True)\n",
    "print(len(plz_be_tested))\n",
    "plz_be_tested.head()"
   ]
  },
  {
   "cell_type": "code",
   "execution_count": 169,
   "metadata": {},
   "outputs": [
    {
     "data": {
      "text/html": [
       "<div>\n",
       "<style scoped>\n",
       "    .dataframe tbody tr th:only-of-type {\n",
       "        vertical-align: middle;\n",
       "    }\n",
       "\n",
       "    .dataframe tbody tr th {\n",
       "        vertical-align: top;\n",
       "    }\n",
       "\n",
       "    .dataframe thead th {\n",
       "        text-align: right;\n",
       "    }\n",
       "</style>\n",
       "<table border=\"1\" class=\"dataframe\">\n",
       "  <thead>\n",
       "    <tr style=\"text-align: right;\">\n",
       "      <th></th>\n",
       "      <th>Area</th>\n",
       "    </tr>\n",
       "    <tr>\n",
       "      <th>create_date</th>\n",
       "      <th></th>\n",
       "    </tr>\n",
       "  </thead>\n",
       "  <tbody>\n",
       "    <tr>\n",
       "      <th>2020-01-24 11:37:52</th>\n",
       "      <td>수도권</td>\n",
       "    </tr>\n",
       "    <tr>\n",
       "      <th>2020-01-24 12:39:14</th>\n",
       "      <td>수도권</td>\n",
       "    </tr>\n",
       "    <tr>\n",
       "      <th>2020-01-24 16:45:13</th>\n",
       "      <td>수도권</td>\n",
       "    </tr>\n",
       "    <tr>\n",
       "      <th>2020-01-25 09:29:53</th>\n",
       "      <td>수도권</td>\n",
       "    </tr>\n",
       "    <tr>\n",
       "      <th>2020-01-27 15:57:54</th>\n",
       "      <td>수도권</td>\n",
       "    </tr>\n",
       "    <tr>\n",
       "      <th>...</th>\n",
       "      <td>...</td>\n",
       "    </tr>\n",
       "    <tr>\n",
       "      <th>2021-07-01 16:08:36</th>\n",
       "      <td>수도권</td>\n",
       "    </tr>\n",
       "    <tr>\n",
       "      <th>2021-07-01 16:34:16</th>\n",
       "      <td>수도권</td>\n",
       "    </tr>\n",
       "    <tr>\n",
       "      <th>2021-07-01 17:01:02</th>\n",
       "      <td>수도권</td>\n",
       "    </tr>\n",
       "    <tr>\n",
       "      <th>2021-07-01 17:22:41</th>\n",
       "      <td>수도권</td>\n",
       "    </tr>\n",
       "    <tr>\n",
       "      <th>2021-07-02 10:00:07</th>\n",
       "      <td>수도권</td>\n",
       "    </tr>\n",
       "  </tbody>\n",
       "</table>\n",
       "<p>2970 rows × 1 columns</p>\n",
       "</div>"
      ],
      "text/plain": [
       "                    Area\n",
       "create_date             \n",
       "2020-01-24 11:37:52  수도권\n",
       "2020-01-24 12:39:14  수도권\n",
       "2020-01-24 16:45:13  수도권\n",
       "2020-01-25 09:29:53  수도권\n",
       "2020-01-27 15:57:54  수도권\n",
       "...                  ...\n",
       "2021-07-01 16:08:36  수도권\n",
       "2021-07-01 16:34:16  수도권\n",
       "2021-07-01 17:01:02  수도권\n",
       "2021-07-01 17:22:41  수도권\n",
       "2021-07-02 10:00:07  수도권\n",
       "\n",
       "[2970 rows x 1 columns]"
      ]
     },
     "execution_count": 169,
     "metadata": {},
     "output_type": "execute_result"
    }
   ],
   "source": [
    "#plz_be_tested.query(\"Area=='수도권'\").groupby(plz_be_tested['create_date']).sum()"
   ]
  },
  {
   "cell_type": "code",
   "execution_count": 165,
   "metadata": {},
   "outputs": [],
   "source": [
    "from pandas import DataFrame"
   ]
  },
  {
   "cell_type": "code",
   "execution_count": 184,
   "metadata": {},
   "outputs": [
    {
     "data": {
      "text/plain": [
       "create_date    NaN\n",
       "Name: 수도권, dtype: object"
      ]
     },
     "execution_count": 184,
     "metadata": {},
     "output_type": "execute_result"
    }
   ],
   "source": [
    "dat = pd.DataFrame([plz_be_tested['create_date']], columns=['수도권','충청권', '호남권', '경북권', '경남권', '강원','제주'])\n",
    "dat"
   ]
  },
  {
   "cell_type": "code",
   "execution_count": null,
   "metadata": {},
   "outputs": [],
   "source": [
    "plz_be_tested.groupby('create_date').agg({'create_date':'count','Area':'max'})"
   ]
  },
  {
   "cell_type": "code",
   "execution_count": null,
   "metadata": {},
   "outputs": [],
   "source": [
    "test_msg_sent"
   ]
  },
  {
   "cell_type": "code",
   "execution_count": null,
   "metadata": {},
   "outputs": [],
   "source": []
  }
 ],
 "metadata": {
  "kernelspec": {
   "display_name": "Python 3",
   "language": "python",
   "name": "python3"
  },
  "language_info": {
   "codemirror_mode": {
    "name": "ipython",
    "version": 3
   },
   "file_extension": ".py",
   "mimetype": "text/x-python",
   "name": "python",
   "nbconvert_exporter": "python",
   "pygments_lexer": "ipython3",
   "version": "3.8.5"
  }
 },
 "nbformat": 4,
 "nbformat_minor": 4
}
