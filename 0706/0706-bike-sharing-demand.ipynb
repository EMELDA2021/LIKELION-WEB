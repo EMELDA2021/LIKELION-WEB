{
 "cells": [
  {
   "cell_type": "code",
   "execution_count": 1,
   "id": "wanted-council",
   "metadata": {
    "_cell_guid": "b1076dfc-b9ad-4769-8c92-a6c4dae69d19",
    "_uuid": "8f2839f25d086af736a60e9eeb907d3b93b6e0e5",
    "execution": {
     "iopub.execute_input": "2021-07-06T06:13:26.513261Z",
     "iopub.status.busy": "2021-07-06T06:13:26.512499Z",
     "iopub.status.idle": "2021-07-06T06:13:26.518551Z",
     "shell.execute_reply": "2021-07-06T06:13:26.519174Z",
     "shell.execute_reply.started": "2021-07-06T05:36:21.095217Z"
    },
    "papermill": {
     "duration": 0.033155,
     "end_time": "2021-07-06T06:13:26.519545",
     "exception": false,
     "start_time": "2021-07-06T06:13:26.486390",
     "status": "completed"
    },
    "tags": []
   },
   "outputs": [
    {
     "name": "stdout",
     "output_type": "stream",
     "text": [
      "/kaggle/input/bike-sharing-demand/sampleSubmission.csv\n",
      "/kaggle/input/bike-sharing-demand/train.csv\n",
      "/kaggle/input/bike-sharing-demand/test.csv\n"
     ]
    }
   ],
   "source": [
    "# This Python 3 environment comes with many helpful analytics libraries installed\n",
    "# It is defined by the kaggle/python Docker image: https://github.com/kaggle/docker-python\n",
    "# For example, here's several helpful packages to load\n",
    "\n",
    "import numpy as np # linear algebra\n",
    "import pandas as pd # data processing, CSV file I/O (e.g. pd.read_csv)\n",
    "\n",
    "# Input data files are available in the read-only \"../input/\" directory\n",
    "# For example, running this (by clicking run or pressing Shift+Enter) will list all files under the input directory\n",
    "\n",
    "import os\n",
    "for dirname, _, filenames in os.walk('/kaggle/input'):\n",
    "    for filename in filenames:\n",
    "        print(os.path.join(dirname, filename))\n",
    "\n",
    "# You can write up to 20GB to the current directory (/kaggle/working/) that gets preserved as output when you create a version using \"Save & Run All\" \n",
    "# You can also write temporary files to /kaggle/temp/, but they won't be saved outside of the current session"
   ]
  },
  {
   "cell_type": "code",
   "execution_count": 2,
   "id": "published-prime",
   "metadata": {
    "execution": {
     "iopub.execute_input": "2021-07-06T06:13:26.551174Z",
     "iopub.status.busy": "2021-07-06T06:13:26.550435Z",
     "iopub.status.idle": "2021-07-06T06:13:26.642484Z",
     "shell.execute_reply": "2021-07-06T06:13:26.643007Z",
     "shell.execute_reply.started": "2021-07-06T05:39:23.334032Z"
    },
    "papermill": {
     "duration": 0.110721,
     "end_time": "2021-07-06T06:13:26.643211",
     "exception": false,
     "start_time": "2021-07-06T06:13:26.532490",
     "status": "completed"
    },
    "tags": []
   },
   "outputs": [
    {
     "data": {
      "text/plain": [
       "((10886, 12), (6493, 9), (6493, 2))"
      ]
     },
     "execution_count": 2,
     "metadata": {},
     "output_type": "execute_result"
    }
   ],
   "source": [
    "train=pd.read_csv('/kaggle/input/bike-sharing-demand/train.csv', parse_dates=['datetime'])\n",
    "test=pd.read_csv('/kaggle/input/bike-sharing-demand/test.csv', parse_dates=['datetime'])\n",
    "sub=pd.read_csv('/kaggle/input/bike-sharing-demand/sampleSubmission.csv')\n",
    "\n",
    "train.shape, test.shape, sub.shape"
   ]
  },
  {
   "cell_type": "code",
   "execution_count": 3,
   "id": "modern-thong",
   "metadata": {
    "execution": {
     "iopub.execute_input": "2021-07-06T06:13:26.681052Z",
     "iopub.status.busy": "2021-07-06T06:13:26.680187Z",
     "iopub.status.idle": "2021-07-06T06:13:26.702265Z",
     "shell.execute_reply": "2021-07-06T06:13:26.701357Z",
     "shell.execute_reply.started": "2021-07-06T05:39:39.734919Z"
    },
    "papermill": {
     "duration": 0.046859,
     "end_time": "2021-07-06T06:13:26.702489",
     "exception": false,
     "start_time": "2021-07-06T06:13:26.655630",
     "status": "completed"
    },
    "tags": []
   },
   "outputs": [
    {
     "name": "stdout",
     "output_type": "stream",
     "text": [
      "<class 'pandas.core.frame.DataFrame'>\n",
      "RangeIndex: 10886 entries, 0 to 10885\n",
      "Data columns (total 12 columns):\n",
      " #   Column      Non-Null Count  Dtype         \n",
      "---  ------      --------------  -----         \n",
      " 0   datetime    10886 non-null  datetime64[ns]\n",
      " 1   season      10886 non-null  int64         \n",
      " 2   holiday     10886 non-null  int64         \n",
      " 3   workingday  10886 non-null  int64         \n",
      " 4   weather     10886 non-null  int64         \n",
      " 5   temp        10886 non-null  float64       \n",
      " 6   atemp       10886 non-null  float64       \n",
      " 7   humidity    10886 non-null  int64         \n",
      " 8   windspeed   10886 non-null  float64       \n",
      " 9   casual      10886 non-null  int64         \n",
      " 10  registered  10886 non-null  int64         \n",
      " 11  count       10886 non-null  int64         \n",
      "dtypes: datetime64[ns](1), float64(3), int64(8)\n",
      "memory usage: 1020.7 KB\n"
     ]
    }
   ],
   "source": [
    "train.info()"
   ]
  },
  {
   "cell_type": "code",
   "execution_count": 4,
   "id": "chubby-breakdown",
   "metadata": {
    "execution": {
     "iopub.execute_input": "2021-07-06T06:13:26.746273Z",
     "iopub.status.busy": "2021-07-06T06:13:26.741986Z",
     "iopub.status.idle": "2021-07-06T06:13:26.749494Z",
     "shell.execute_reply": "2021-07-06T06:13:26.750255Z",
     "shell.execute_reply.started": "2021-07-06T05:39:52.691541Z"
    },
    "papermill": {
     "duration": 0.03478,
     "end_time": "2021-07-06T06:13:26.750519",
     "exception": false,
     "start_time": "2021-07-06T06:13:26.715739",
     "status": "completed"
    },
    "tags": []
   },
   "outputs": [
    {
     "name": "stdout",
     "output_type": "stream",
     "text": [
      "<class 'pandas.core.frame.DataFrame'>\n",
      "RangeIndex: 6493 entries, 0 to 6492\n",
      "Data columns (total 9 columns):\n",
      " #   Column      Non-Null Count  Dtype         \n",
      "---  ------      --------------  -----         \n",
      " 0   datetime    6493 non-null   datetime64[ns]\n",
      " 1   season      6493 non-null   int64         \n",
      " 2   holiday     6493 non-null   int64         \n",
      " 3   workingday  6493 non-null   int64         \n",
      " 4   weather     6493 non-null   int64         \n",
      " 5   temp        6493 non-null   float64       \n",
      " 6   atemp       6493 non-null   float64       \n",
      " 7   humidity    6493 non-null   int64         \n",
      " 8   windspeed   6493 non-null   float64       \n",
      "dtypes: datetime64[ns](1), float64(3), int64(5)\n",
      "memory usage: 456.7 KB\n"
     ]
    }
   ],
   "source": [
    "test.info()"
   ]
  },
  {
   "cell_type": "code",
   "execution_count": 5,
   "id": "dental-large",
   "metadata": {
    "execution": {
     "iopub.execute_input": "2021-07-06T06:13:26.781985Z",
     "iopub.status.busy": "2021-07-06T06:13:26.781194Z",
     "iopub.status.idle": "2021-07-06T06:13:26.786651Z",
     "shell.execute_reply": "2021-07-06T06:13:26.787194Z",
     "shell.execute_reply.started": "2021-07-06T05:40:21.867239Z"
    },
    "papermill": {
     "duration": 0.022932,
     "end_time": "2021-07-06T06:13:26.787409",
     "exception": false,
     "start_time": "2021-07-06T06:13:26.764477",
     "status": "completed"
    },
    "tags": []
   },
   "outputs": [
    {
     "data": {
      "text/plain": [
       "(Index(['datetime', 'season', 'holiday', 'workingday', 'weather', 'temp',\n",
       "        'atemp', 'humidity', 'windspeed', 'casual', 'registered', 'count'],\n",
       "       dtype='object'),\n",
       " Index(['datetime', 'season', 'holiday', 'workingday', 'weather', 'temp',\n",
       "        'atemp', 'humidity', 'windspeed'],\n",
       "       dtype='object'))"
      ]
     },
     "execution_count": 5,
     "metadata": {},
     "output_type": "execute_result"
    }
   ],
   "source": [
    "train.columns, test.columns"
   ]
  },
  {
   "cell_type": "code",
   "execution_count": 6,
   "id": "homeless-delhi",
   "metadata": {
    "execution": {
     "iopub.execute_input": "2021-07-06T06:13:26.825255Z",
     "iopub.status.busy": "2021-07-06T06:13:26.824537Z",
     "iopub.status.idle": "2021-07-06T06:13:26.878542Z",
     "shell.execute_reply": "2021-07-06T06:13:26.879071Z",
     "shell.execute_reply.started": "2021-07-06T05:48:55.659219Z"
    },
    "papermill": {
     "duration": 0.077999,
     "end_time": "2021-07-06T06:13:26.879269",
     "exception": false,
     "start_time": "2021-07-06T06:13:26.801270",
     "status": "completed"
    },
    "tags": []
   },
   "outputs": [
    {
     "data": {
      "text/html": [
       "<div>\n",
       "<style scoped>\n",
       "    .dataframe tbody tr th:only-of-type {\n",
       "        vertical-align: middle;\n",
       "    }\n",
       "\n",
       "    .dataframe tbody tr th {\n",
       "        vertical-align: top;\n",
       "    }\n",
       "\n",
       "    .dataframe thead th {\n",
       "        text-align: right;\n",
       "    }\n",
       "</style>\n",
       "<table border=\"1\" class=\"dataframe\">\n",
       "  <thead>\n",
       "    <tr style=\"text-align: right;\">\n",
       "      <th></th>\n",
       "      <th>season</th>\n",
       "      <th>holiday</th>\n",
       "      <th>workingday</th>\n",
       "      <th>weather</th>\n",
       "      <th>temp</th>\n",
       "      <th>atemp</th>\n",
       "      <th>humidity</th>\n",
       "      <th>windspeed</th>\n",
       "      <th>casual</th>\n",
       "      <th>registered</th>\n",
       "      <th>count</th>\n",
       "    </tr>\n",
       "  </thead>\n",
       "  <tbody>\n",
       "    <tr>\n",
       "      <th>count</th>\n",
       "      <td>10886.000000</td>\n",
       "      <td>10886.000000</td>\n",
       "      <td>10886.000000</td>\n",
       "      <td>10886.000000</td>\n",
       "      <td>10886.00000</td>\n",
       "      <td>10886.000000</td>\n",
       "      <td>10886.000000</td>\n",
       "      <td>10886.000000</td>\n",
       "      <td>10886.000000</td>\n",
       "      <td>10886.000000</td>\n",
       "      <td>10886.000000</td>\n",
       "    </tr>\n",
       "    <tr>\n",
       "      <th>mean</th>\n",
       "      <td>2.506614</td>\n",
       "      <td>0.028569</td>\n",
       "      <td>0.680875</td>\n",
       "      <td>1.418427</td>\n",
       "      <td>20.23086</td>\n",
       "      <td>23.655084</td>\n",
       "      <td>61.886460</td>\n",
       "      <td>12.799395</td>\n",
       "      <td>36.021955</td>\n",
       "      <td>155.552177</td>\n",
       "      <td>191.574132</td>\n",
       "    </tr>\n",
       "    <tr>\n",
       "      <th>std</th>\n",
       "      <td>1.116174</td>\n",
       "      <td>0.166599</td>\n",
       "      <td>0.466159</td>\n",
       "      <td>0.633839</td>\n",
       "      <td>7.79159</td>\n",
       "      <td>8.474601</td>\n",
       "      <td>19.245033</td>\n",
       "      <td>8.164537</td>\n",
       "      <td>49.960477</td>\n",
       "      <td>151.039033</td>\n",
       "      <td>181.144454</td>\n",
       "    </tr>\n",
       "    <tr>\n",
       "      <th>min</th>\n",
       "      <td>1.000000</td>\n",
       "      <td>0.000000</td>\n",
       "      <td>0.000000</td>\n",
       "      <td>1.000000</td>\n",
       "      <td>0.82000</td>\n",
       "      <td>0.760000</td>\n",
       "      <td>0.000000</td>\n",
       "      <td>0.000000</td>\n",
       "      <td>0.000000</td>\n",
       "      <td>0.000000</td>\n",
       "      <td>1.000000</td>\n",
       "    </tr>\n",
       "    <tr>\n",
       "      <th>25%</th>\n",
       "      <td>2.000000</td>\n",
       "      <td>0.000000</td>\n",
       "      <td>0.000000</td>\n",
       "      <td>1.000000</td>\n",
       "      <td>13.94000</td>\n",
       "      <td>16.665000</td>\n",
       "      <td>47.000000</td>\n",
       "      <td>7.001500</td>\n",
       "      <td>4.000000</td>\n",
       "      <td>36.000000</td>\n",
       "      <td>42.000000</td>\n",
       "    </tr>\n",
       "    <tr>\n",
       "      <th>50%</th>\n",
       "      <td>3.000000</td>\n",
       "      <td>0.000000</td>\n",
       "      <td>1.000000</td>\n",
       "      <td>1.000000</td>\n",
       "      <td>20.50000</td>\n",
       "      <td>24.240000</td>\n",
       "      <td>62.000000</td>\n",
       "      <td>12.998000</td>\n",
       "      <td>17.000000</td>\n",
       "      <td>118.000000</td>\n",
       "      <td>145.000000</td>\n",
       "    </tr>\n",
       "    <tr>\n",
       "      <th>75%</th>\n",
       "      <td>4.000000</td>\n",
       "      <td>0.000000</td>\n",
       "      <td>1.000000</td>\n",
       "      <td>2.000000</td>\n",
       "      <td>26.24000</td>\n",
       "      <td>31.060000</td>\n",
       "      <td>77.000000</td>\n",
       "      <td>16.997900</td>\n",
       "      <td>49.000000</td>\n",
       "      <td>222.000000</td>\n",
       "      <td>284.000000</td>\n",
       "    </tr>\n",
       "    <tr>\n",
       "      <th>max</th>\n",
       "      <td>4.000000</td>\n",
       "      <td>1.000000</td>\n",
       "      <td>1.000000</td>\n",
       "      <td>4.000000</td>\n",
       "      <td>41.00000</td>\n",
       "      <td>45.455000</td>\n",
       "      <td>100.000000</td>\n",
       "      <td>56.996900</td>\n",
       "      <td>367.000000</td>\n",
       "      <td>886.000000</td>\n",
       "      <td>977.000000</td>\n",
       "    </tr>\n",
       "  </tbody>\n",
       "</table>\n",
       "</div>"
      ],
      "text/plain": [
       "             season       holiday    workingday       weather         temp  \\\n",
       "count  10886.000000  10886.000000  10886.000000  10886.000000  10886.00000   \n",
       "mean       2.506614      0.028569      0.680875      1.418427     20.23086   \n",
       "std        1.116174      0.166599      0.466159      0.633839      7.79159   \n",
       "min        1.000000      0.000000      0.000000      1.000000      0.82000   \n",
       "25%        2.000000      0.000000      0.000000      1.000000     13.94000   \n",
       "50%        3.000000      0.000000      1.000000      1.000000     20.50000   \n",
       "75%        4.000000      0.000000      1.000000      2.000000     26.24000   \n",
       "max        4.000000      1.000000      1.000000      4.000000     41.00000   \n",
       "\n",
       "              atemp      humidity     windspeed        casual    registered  \\\n",
       "count  10886.000000  10886.000000  10886.000000  10886.000000  10886.000000   \n",
       "mean      23.655084     61.886460     12.799395     36.021955    155.552177   \n",
       "std        8.474601     19.245033      8.164537     49.960477    151.039033   \n",
       "min        0.760000      0.000000      0.000000      0.000000      0.000000   \n",
       "25%       16.665000     47.000000      7.001500      4.000000     36.000000   \n",
       "50%       24.240000     62.000000     12.998000     17.000000    118.000000   \n",
       "75%       31.060000     77.000000     16.997900     49.000000    222.000000   \n",
       "max       45.455000    100.000000     56.996900    367.000000    886.000000   \n",
       "\n",
       "              count  \n",
       "count  10886.000000  \n",
       "mean     191.574132  \n",
       "std      181.144454  \n",
       "min        1.000000  \n",
       "25%       42.000000  \n",
       "50%      145.000000  \n",
       "75%      284.000000  \n",
       "max      977.000000  "
      ]
     },
     "execution_count": 6,
     "metadata": {},
     "output_type": "execute_result"
    }
   ],
   "source": [
    "train.describe()"
   ]
  },
  {
   "cell_type": "code",
   "execution_count": 7,
   "id": "reasonable-attention",
   "metadata": {
    "execution": {
     "iopub.execute_input": "2021-07-06T06:13:26.916134Z",
     "iopub.status.busy": "2021-07-06T06:13:26.915413Z",
     "iopub.status.idle": "2021-07-06T06:13:26.923868Z",
     "shell.execute_reply": "2021-07-06T06:13:26.923249Z",
     "shell.execute_reply.started": "2021-07-06T05:42:15.543562Z"
    },
    "papermill": {
     "duration": 0.030426,
     "end_time": "2021-07-06T06:13:26.924040",
     "exception": false,
     "start_time": "2021-07-06T06:13:26.893614",
     "status": "completed"
    },
    "tags": []
   },
   "outputs": [
    {
     "data": {
      "text/plain": [
       "datetime      0\n",
       "season        0\n",
       "holiday       0\n",
       "workingday    0\n",
       "weather       0\n",
       "temp          0\n",
       "atemp         0\n",
       "humidity      0\n",
       "windspeed     0\n",
       "casual        0\n",
       "registered    0\n",
       "count         0\n",
       "dtype: int64"
      ]
     },
     "execution_count": 7,
     "metadata": {},
     "output_type": "execute_result"
    }
   ],
   "source": [
    "train.isnull().sum()"
   ]
  },
  {
   "cell_type": "code",
   "execution_count": 8,
   "id": "animated-picnic",
   "metadata": {
    "execution": {
     "iopub.execute_input": "2021-07-06T06:13:26.958065Z",
     "iopub.status.busy": "2021-07-06T06:13:26.957185Z",
     "iopub.status.idle": "2021-07-06T06:13:27.913478Z",
     "shell.execute_reply": "2021-07-06T06:13:27.912710Z",
     "shell.execute_reply.started": "2021-07-06T06:04:53.280812Z"
    },
    "papermill": {
     "duration": 0.974724,
     "end_time": "2021-07-06T06:13:27.913661",
     "exception": false,
     "start_time": "2021-07-06T06:13:26.938937",
     "status": "completed"
    },
    "tags": []
   },
   "outputs": [
    {
     "name": "stdout",
     "output_type": "stream",
     "text": [
      "pandas 버전  1.2.3\n",
      "seaborn 버전  0.11.1\n"
     ]
    }
   ],
   "source": [
    "import pandas as pd\n",
    "import seaborn as sns\n",
    "import matplotlib.pyplot as plt\n",
    "print(\"pandas 버전 \", pd.__version__) \n",
    "print(\"seaborn 버전 \", sns.__version__) "
   ]
  },
  {
   "cell_type": "code",
   "execution_count": 9,
   "id": "binary-complex",
   "metadata": {
    "execution": {
     "iopub.execute_input": "2021-07-06T06:13:27.949038Z",
     "iopub.status.busy": "2021-07-06T06:13:27.948251Z",
     "iopub.status.idle": "2021-07-06T06:13:27.951962Z",
     "shell.execute_reply": "2021-07-06T06:13:27.951246Z",
     "shell.execute_reply.started": "2021-07-06T06:10:29.653589Z"
    },
    "papermill": {
     "duration": 0.023406,
     "end_time": "2021-07-06T06:13:27.952143",
     "exception": false,
     "start_time": "2021-07-06T06:13:27.928737",
     "status": "completed"
    },
    "tags": []
   },
   "outputs": [],
   "source": [
    "# sns.barplot(x='datetime',y='casual', data=train)"
   ]
  },
  {
   "cell_type": "code",
   "execution_count": 10,
   "id": "hairy-remains",
   "metadata": {
    "execution": {
     "iopub.execute_input": "2021-07-06T06:13:27.991927Z",
     "iopub.status.busy": "2021-07-06T06:13:27.991095Z",
     "iopub.status.idle": "2021-07-06T06:13:27.994550Z",
     "shell.execute_reply": "2021-07-06T06:13:27.993984Z",
     "shell.execute_reply.started": "2021-07-06T06:10:59.521504Z"
    },
    "papermill": {
     "duration": 0.027076,
     "end_time": "2021-07-06T06:13:27.994715",
     "exception": false,
     "start_time": "2021-07-06T06:13:27.967639",
     "status": "completed"
    },
    "tags": []
   },
   "outputs": [],
   "source": [
    "sel=['temp','atemp']\n",
    "X_train=train[sel]\n",
    "y_train=train['count']\n",
    "X_test=test[sel]"
   ]
  },
  {
   "cell_type": "code",
   "execution_count": 11,
   "id": "accredited-illinois",
   "metadata": {
    "execution": {
     "iopub.execute_input": "2021-07-06T06:13:28.030450Z",
     "iopub.status.busy": "2021-07-06T06:13:28.029757Z",
     "iopub.status.idle": "2021-07-06T06:13:28.414399Z",
     "shell.execute_reply": "2021-07-06T06:13:28.415883Z",
     "shell.execute_reply.started": "2021-07-06T06:12:23.536043Z"
    },
    "papermill": {
     "duration": 0.406693,
     "end_time": "2021-07-06T06:13:28.416296",
     "exception": false,
     "start_time": "2021-07-06T06:13:28.009603",
     "status": "completed"
    },
    "tags": []
   },
   "outputs": [],
   "source": [
    "from sklearn.linear_model import LinearRegression\n",
    "\n",
    "model=LinearRegression()\n",
    "model.fit(X_train,y_train)\n",
    "pred=model.predict(X_test)"
   ]
  },
  {
   "cell_type": "code",
   "execution_count": 12,
   "id": "adjustable-people",
   "metadata": {
    "execution": {
     "iopub.execute_input": "2021-07-06T06:13:28.488606Z",
     "iopub.status.busy": "2021-07-06T06:13:28.487470Z",
     "iopub.status.idle": "2021-07-06T06:13:28.535527Z",
     "shell.execute_reply": "2021-07-06T06:13:28.536275Z",
     "shell.execute_reply.started": "2021-07-06T06:13:02.080942Z"
    },
    "papermill": {
     "duration": 0.093593,
     "end_time": "2021-07-06T06:13:28.536494",
     "exception": false,
     "start_time": "2021-07-06T06:13:28.442901",
     "status": "completed"
    },
    "tags": []
   },
   "outputs": [],
   "source": [
    "sub['count']=pred\n",
    "sub.to_csv('baseline_model.csv',index=False)"
   ]
  },
  {
   "cell_type": "code",
   "execution_count": null,
   "id": "english-condition",
   "metadata": {
    "papermill": {
     "duration": 0.014114,
     "end_time": "2021-07-06T06:13:28.565364",
     "exception": false,
     "start_time": "2021-07-06T06:13:28.551250",
     "status": "completed"
    },
    "tags": []
   },
   "outputs": [],
   "source": []
  }
 ],
 "metadata": {
  "kernelspec": {
   "display_name": "Python 3",
   "language": "python",
   "name": "python3"
  },
  "language_info": {
   "codemirror_mode": {
    "name": "ipython",
    "version": 3
   },
   "file_extension": ".py",
   "mimetype": "text/x-python",
   "name": "python",
   "nbconvert_exporter": "python",
   "pygments_lexer": "ipython3",
   "version": "3.7.10"
  },
  "papermill": {
   "default_parameters": {},
   "duration": 12.943289,
   "end_time": "2021-07-06T06:13:30.394363",
   "environment_variables": {},
   "exception": null,
   "input_path": "__notebook__.ipynb",
   "output_path": "__notebook__.ipynb",
   "parameters": {},
   "start_time": "2021-07-06T06:13:17.451074",
   "version": "2.3.3"
  }
 },
 "nbformat": 4,
 "nbformat_minor": 5
}
