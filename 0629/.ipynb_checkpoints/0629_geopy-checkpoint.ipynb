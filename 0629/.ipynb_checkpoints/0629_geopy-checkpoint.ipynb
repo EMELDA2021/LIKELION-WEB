{
 "cells": [
  {
   "cell_type": "code",
   "execution_count": 4,
   "metadata": {},
   "outputs": [],
   "source": [
    "import re\n",
    "from geopy.geocoders import Nominatim\n",
    "from pprint import pprint\n",
    "import pandas as pd"
   ]
  },
  {
   "cell_type": "code",
   "execution_count": 6,
   "metadata": {},
   "outputs": [],
   "source": [
    "dat = pd.read_csv(\"./bohun_hospital.csv\" , engine ='python', encoding='EUCKR')"
   ]
  },
  {
   "cell_type": "code",
   "execution_count": 7,
   "metadata": {},
   "outputs": [
    {
     "data": {
      "text/html": [
       "<div>\n",
       "<style scoped>\n",
       "    .dataframe tbody tr th:only-of-type {\n",
       "        vertical-align: middle;\n",
       "    }\n",
       "\n",
       "    .dataframe tbody tr th {\n",
       "        vertical-align: top;\n",
       "    }\n",
       "\n",
       "    .dataframe thead th {\n",
       "        text-align: right;\n",
       "    }\n",
       "</style>\n",
       "<table border=\"1\" class=\"dataframe\">\n",
       "  <thead>\n",
       "    <tr style=\"text-align: right;\">\n",
       "      <th></th>\n",
       "      <th>시군구</th>\n",
       "      <th>의료기관명</th>\n",
       "      <th>진료과수</th>\n",
       "      <th>병상수</th>\n",
       "      <th>전화번호</th>\n",
       "      <th>주소</th>\n",
       "      <th>국민안심병원 여부</th>\n",
       "      <th>감염병전담기관 여부</th>\n",
       "      <th>감염병전담기관 외래진료 가능여부</th>\n",
       "    </tr>\n",
       "  </thead>\n",
       "  <tbody>\n",
       "    <tr>\n",
       "      <th>0</th>\n",
       "      <td>강원도 강릉시</td>\n",
       "      <td>강릉동인병원</td>\n",
       "      <td>21</td>\n",
       "      <td>608</td>\n",
       "      <td>033-651-6167</td>\n",
       "      <td>강원도 강릉시 강릉대로419번길 42 (포남동)</td>\n",
       "      <td>NaN</td>\n",
       "      <td>NaN</td>\n",
       "      <td>NaN</td>\n",
       "    </tr>\n",
       "    <tr>\n",
       "      <th>1</th>\n",
       "      <td>강원도 강릉시</td>\n",
       "      <td>박정빈외과의원</td>\n",
       "      <td>1</td>\n",
       "      <td>0</td>\n",
       "      <td>033-643-0080</td>\n",
       "      <td>강원도 강릉시 경강로2109</td>\n",
       "      <td>NaN</td>\n",
       "      <td>NaN</td>\n",
       "      <td>NaN</td>\n",
       "    </tr>\n",
       "    <tr>\n",
       "      <th>2</th>\n",
       "      <td>강원도 강릉시</td>\n",
       "      <td>이명호내과의원</td>\n",
       "      <td>1</td>\n",
       "      <td>0</td>\n",
       "      <td>033-645-7747</td>\n",
       "      <td>강원도 강릉시 솔올로 5번길40, 2층</td>\n",
       "      <td>NaN</td>\n",
       "      <td>NaN</td>\n",
       "      <td>NaN</td>\n",
       "    </tr>\n",
       "    <tr>\n",
       "      <th>3</th>\n",
       "      <td>강원도 고성군</td>\n",
       "      <td>세브란의원</td>\n",
       "      <td>4</td>\n",
       "      <td>0</td>\n",
       "      <td>033-682-7755</td>\n",
       "      <td>거진읍 거진시장길11</td>\n",
       "      <td>NaN</td>\n",
       "      <td>NaN</td>\n",
       "      <td>NaN</td>\n",
       "    </tr>\n",
       "    <tr>\n",
       "      <th>4</th>\n",
       "      <td>강원도 동해시</td>\n",
       "      <td>근로복지공단동해병원</td>\n",
       "      <td>10</td>\n",
       "      <td>499</td>\n",
       "      <td>033-530-3100</td>\n",
       "      <td>강원도 동해시 동해대로 3310</td>\n",
       "      <td>Y</td>\n",
       "      <td>NaN</td>\n",
       "      <td>NaN</td>\n",
       "    </tr>\n",
       "  </tbody>\n",
       "</table>\n",
       "</div>"
      ],
      "text/plain": [
       "       시군구       의료기관명  진료과수  병상수          전화번호                          주소  \\\n",
       "0  강원도 강릉시      강릉동인병원    21  608  033-651-6167  강원도 강릉시 강릉대로419번길 42 (포남동)   \n",
       "1  강원도 강릉시     박정빈외과의원     1    0  033-643-0080             강원도 강릉시 경강로2109   \n",
       "2  강원도 강릉시     이명호내과의원     1    0  033-645-7747       강원도 강릉시 솔올로 5번길40, 2층   \n",
       "3  강원도 고성군       세브란의원     4    0  033-682-7755                 거진읍 거진시장길11   \n",
       "4  강원도 동해시  근로복지공단동해병원    10  499  033-530-3100           강원도 동해시 동해대로 3310   \n",
       "\n",
       "  국민안심병원 여부 감염병전담기관 여부 감염병전담기관 외래진료 가능여부  \n",
       "0       NaN        NaN               NaN  \n",
       "1       NaN        NaN               NaN  \n",
       "2       NaN        NaN               NaN  \n",
       "3       NaN        NaN               NaN  \n",
       "4         Y        NaN               NaN  "
      ]
     },
     "execution_count": 7,
     "metadata": {},
     "output_type": "execute_result"
    }
   ],
   "source": [
    "dat.head()"
   ]
  },
  {
   "cell_type": "code",
   "execution_count": 40,
   "metadata": {},
   "outputs": [
    {
     "data": {
      "text/plain": [
       "'강릉동인병원'"
      ]
     },
     "execution_count": 40,
     "metadata": {},
     "output_type": "execute_result"
    }
   ],
   "source": [
    "addr=dat.loc[:,'의료기관명']\n",
    "addr[0]"
   ]
  },
  {
   "cell_type": "code",
   "execution_count": 41,
   "metadata": {},
   "outputs": [
    {
     "name": "stdout",
     "output_type": "stream",
     "text": [
      "37.7740738\n",
      "128.9070045\n"
     ]
    }
   ],
   "source": [
    "geolocator=Nominatim(user_agent='user')\n",
    "location=geolocator.geocode('강릉동인병원')\n",
    "\n",
    "#latitude=location.latitude\n",
    "#longtude=location.longitude\n",
    "print(location.latitude)\n",
    "print(location.longitude)"
   ]
  },
  {
   "cell_type": "code",
   "execution_count": null,
   "metadata": {},
   "outputs": [],
   "source": [
    "print(latitude,longitude)"
   ]
  }
 ],
 "metadata": {
  "kernelspec": {
   "display_name": "Python 3",
   "language": "python",
   "name": "python3"
  },
  "language_info": {
   "codemirror_mode": {
    "name": "ipython",
    "version": 3
   },
   "file_extension": ".py",
   "mimetype": "text/x-python",
   "name": "python",
   "nbconvert_exporter": "python",
   "pygments_lexer": "ipython3",
   "version": "3.8.5"
  }
 },
 "nbformat": 4,
 "nbformat_minor": 4
}
