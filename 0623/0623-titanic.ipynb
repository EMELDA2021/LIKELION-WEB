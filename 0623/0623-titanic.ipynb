{
 "cells": [
  {
   "cell_type": "code",
   "execution_count": 1,
   "metadata": {
    "_cell_guid": "b1076dfc-b9ad-4769-8c92-a6c4dae69d19",
    "_uuid": "8f2839f25d086af736a60e9eeb907d3b93b6e0e5",
    "execution": {
     "iopub.execute_input": "2021-06-23T05:16:03.439299Z",
     "iopub.status.busy": "2021-06-23T05:16:03.438739Z",
     "iopub.status.idle": "2021-06-23T05:16:03.446752Z",
     "shell.execute_reply": "2021-06-23T05:16:03.445651Z",
     "shell.execute_reply.started": "2021-06-23T05:16:03.439208Z"
    }
   },
   "outputs": [],
   "source": [
    "# This Python 3 environment comes with many helpful analytics libraries installed\n",
    "# It is defined by the kaggle/python Docker image: https://github.com/kaggle/docker-python\n",
    "# For example, here's several helpful packages to load\n",
    "\n",
    "import numpy as np # linear algebra\n",
    "import pandas as pd # data processing, CSV file I/O (e.g. pd.read_csv)\n",
    "\n",
    "# Input data files are available in the read-only \"../input/\" directory\n",
    "# For example, running this (by clicking run or pressing Shift+Enter) will list all files under the input directory\n",
    "\n",
    "import os\n",
    "for dirname, _, filenames in os.walk('/kaggle/input'):\n",
    "    for filename in filenames:\n",
    "        print(os.path.join(dirname, filename))\n",
    "\n",
    "# You can write up to 20GB to the current directory (/kaggle/working/) that gets preserved as output when you create a version using \"Save & Run All\" \n",
    "# You can also write temporary files to /kaggle/temp/, but they won't be saved outside of the current session"
   ]
  },
  {
   "cell_type": "code",
   "execution_count": 2,
   "metadata": {
    "execution": {
     "iopub.execute_input": "2021-06-23T05:16:35.62422Z",
     "iopub.status.busy": "2021-06-23T05:16:35.623806Z",
     "iopub.status.idle": "2021-06-23T05:16:36.518248Z",
     "shell.execute_reply": "2021-06-23T05:16:36.51744Z",
     "shell.execute_reply.started": "2021-06-23T05:16:35.624187Z"
    }
   },
   "outputs": [],
   "source": [
    "import seaborn as sns\n",
    "import matplotlib.pyplot as plt\n",
    "import missingno as msno"
   ]
  },
  {
   "cell_type": "code",
   "execution_count": 3,
   "metadata": {
    "execution": {
     "iopub.execute_input": "2021-06-23T05:18:47.046264Z",
     "iopub.status.busy": "2021-06-23T05:18:47.045778Z",
     "iopub.status.idle": "2021-06-23T05:18:47.079473Z",
     "shell.execute_reply": "2021-06-23T05:18:47.078692Z",
     "shell.execute_reply.started": "2021-06-23T05:18:47.046235Z"
    }
   },
   "outputs": [
    {
     "ename": "FileNotFoundError",
     "evalue": "[Errno 2] No such file or directory: '/kaggle/input/titanic/train.csv'",
     "output_type": "error",
     "traceback": [
      "\u001b[1;31m---------------------------------------------------------------------------\u001b[0m",
      "\u001b[1;31mFileNotFoundError\u001b[0m                         Traceback (most recent call last)",
      "\u001b[1;32m<ipython-input-3-c534808c74de>\u001b[0m in \u001b[0;36m<module>\u001b[1;34m\u001b[0m\n\u001b[1;32m----> 1\u001b[1;33m \u001b[0mtrain\u001b[0m\u001b[1;33m=\u001b[0m\u001b[0mpd\u001b[0m\u001b[1;33m.\u001b[0m\u001b[0mread_csv\u001b[0m\u001b[1;33m(\u001b[0m\u001b[1;34m'/kaggle/input/titanic/train.csv'\u001b[0m\u001b[1;33m)\u001b[0m\u001b[1;33m\u001b[0m\u001b[1;33m\u001b[0m\u001b[0m\n\u001b[0m\u001b[0;32m      2\u001b[0m \u001b[0mtest\u001b[0m\u001b[1;33m=\u001b[0m\u001b[0mpd\u001b[0m\u001b[1;33m.\u001b[0m\u001b[0mread_csv\u001b[0m\u001b[1;33m(\u001b[0m\u001b[1;34m'/kaggle/input/titanic/test.csv'\u001b[0m\u001b[1;33m)\u001b[0m\u001b[1;33m\u001b[0m\u001b[1;33m\u001b[0m\u001b[0m\n\u001b[0;32m      3\u001b[0m \u001b[1;33m\u001b[0m\u001b[0m\n\u001b[0;32m      4\u001b[0m \u001b[0mtrain\u001b[0m\u001b[1;33m.\u001b[0m\u001b[0mshape\u001b[0m\u001b[1;33m,\u001b[0m \u001b[0mtest\u001b[0m\u001b[1;33m.\u001b[0m\u001b[0mshape\u001b[0m\u001b[1;33m\u001b[0m\u001b[1;33m\u001b[0m\u001b[0m\n",
      "\u001b[1;32m~\\anaconda3\\lib\\site-packages\\pandas\\io\\parsers.py\u001b[0m in \u001b[0;36mread_csv\u001b[1;34m(filepath_or_buffer, sep, delimiter, header, names, index_col, usecols, squeeze, prefix, mangle_dupe_cols, dtype, engine, converters, true_values, false_values, skipinitialspace, skiprows, skipfooter, nrows, na_values, keep_default_na, na_filter, verbose, skip_blank_lines, parse_dates, infer_datetime_format, keep_date_col, date_parser, dayfirst, cache_dates, iterator, chunksize, compression, thousands, decimal, lineterminator, quotechar, quoting, doublequote, escapechar, comment, encoding, dialect, error_bad_lines, warn_bad_lines, delim_whitespace, low_memory, memory_map, float_precision)\u001b[0m\n\u001b[0;32m    684\u001b[0m     )\n\u001b[0;32m    685\u001b[0m \u001b[1;33m\u001b[0m\u001b[0m\n\u001b[1;32m--> 686\u001b[1;33m     \u001b[1;32mreturn\u001b[0m \u001b[0m_read\u001b[0m\u001b[1;33m(\u001b[0m\u001b[0mfilepath_or_buffer\u001b[0m\u001b[1;33m,\u001b[0m \u001b[0mkwds\u001b[0m\u001b[1;33m)\u001b[0m\u001b[1;33m\u001b[0m\u001b[1;33m\u001b[0m\u001b[0m\n\u001b[0m\u001b[0;32m    687\u001b[0m \u001b[1;33m\u001b[0m\u001b[0m\n\u001b[0;32m    688\u001b[0m \u001b[1;33m\u001b[0m\u001b[0m\n",
      "\u001b[1;32m~\\anaconda3\\lib\\site-packages\\pandas\\io\\parsers.py\u001b[0m in \u001b[0;36m_read\u001b[1;34m(filepath_or_buffer, kwds)\u001b[0m\n\u001b[0;32m    450\u001b[0m \u001b[1;33m\u001b[0m\u001b[0m\n\u001b[0;32m    451\u001b[0m     \u001b[1;31m# Create the parser.\u001b[0m\u001b[1;33m\u001b[0m\u001b[1;33m\u001b[0m\u001b[1;33m\u001b[0m\u001b[0m\n\u001b[1;32m--> 452\u001b[1;33m     \u001b[0mparser\u001b[0m \u001b[1;33m=\u001b[0m \u001b[0mTextFileReader\u001b[0m\u001b[1;33m(\u001b[0m\u001b[0mfp_or_buf\u001b[0m\u001b[1;33m,\u001b[0m \u001b[1;33m**\u001b[0m\u001b[0mkwds\u001b[0m\u001b[1;33m)\u001b[0m\u001b[1;33m\u001b[0m\u001b[1;33m\u001b[0m\u001b[0m\n\u001b[0m\u001b[0;32m    453\u001b[0m \u001b[1;33m\u001b[0m\u001b[0m\n\u001b[0;32m    454\u001b[0m     \u001b[1;32mif\u001b[0m \u001b[0mchunksize\u001b[0m \u001b[1;32mor\u001b[0m \u001b[0miterator\u001b[0m\u001b[1;33m:\u001b[0m\u001b[1;33m\u001b[0m\u001b[1;33m\u001b[0m\u001b[0m\n",
      "\u001b[1;32m~\\anaconda3\\lib\\site-packages\\pandas\\io\\parsers.py\u001b[0m in \u001b[0;36m__init__\u001b[1;34m(self, f, engine, **kwds)\u001b[0m\n\u001b[0;32m    944\u001b[0m             \u001b[0mself\u001b[0m\u001b[1;33m.\u001b[0m\u001b[0moptions\u001b[0m\u001b[1;33m[\u001b[0m\u001b[1;34m\"has_index_names\"\u001b[0m\u001b[1;33m]\u001b[0m \u001b[1;33m=\u001b[0m \u001b[0mkwds\u001b[0m\u001b[1;33m[\u001b[0m\u001b[1;34m\"has_index_names\"\u001b[0m\u001b[1;33m]\u001b[0m\u001b[1;33m\u001b[0m\u001b[1;33m\u001b[0m\u001b[0m\n\u001b[0;32m    945\u001b[0m \u001b[1;33m\u001b[0m\u001b[0m\n\u001b[1;32m--> 946\u001b[1;33m         \u001b[0mself\u001b[0m\u001b[1;33m.\u001b[0m\u001b[0m_make_engine\u001b[0m\u001b[1;33m(\u001b[0m\u001b[0mself\u001b[0m\u001b[1;33m.\u001b[0m\u001b[0mengine\u001b[0m\u001b[1;33m)\u001b[0m\u001b[1;33m\u001b[0m\u001b[1;33m\u001b[0m\u001b[0m\n\u001b[0m\u001b[0;32m    947\u001b[0m \u001b[1;33m\u001b[0m\u001b[0m\n\u001b[0;32m    948\u001b[0m     \u001b[1;32mdef\u001b[0m \u001b[0mclose\u001b[0m\u001b[1;33m(\u001b[0m\u001b[0mself\u001b[0m\u001b[1;33m)\u001b[0m\u001b[1;33m:\u001b[0m\u001b[1;33m\u001b[0m\u001b[1;33m\u001b[0m\u001b[0m\n",
      "\u001b[1;32m~\\anaconda3\\lib\\site-packages\\pandas\\io\\parsers.py\u001b[0m in \u001b[0;36m_make_engine\u001b[1;34m(self, engine)\u001b[0m\n\u001b[0;32m   1176\u001b[0m     \u001b[1;32mdef\u001b[0m \u001b[0m_make_engine\u001b[0m\u001b[1;33m(\u001b[0m\u001b[0mself\u001b[0m\u001b[1;33m,\u001b[0m \u001b[0mengine\u001b[0m\u001b[1;33m=\u001b[0m\u001b[1;34m\"c\"\u001b[0m\u001b[1;33m)\u001b[0m\u001b[1;33m:\u001b[0m\u001b[1;33m\u001b[0m\u001b[1;33m\u001b[0m\u001b[0m\n\u001b[0;32m   1177\u001b[0m         \u001b[1;32mif\u001b[0m \u001b[0mengine\u001b[0m \u001b[1;33m==\u001b[0m \u001b[1;34m\"c\"\u001b[0m\u001b[1;33m:\u001b[0m\u001b[1;33m\u001b[0m\u001b[1;33m\u001b[0m\u001b[0m\n\u001b[1;32m-> 1178\u001b[1;33m             \u001b[0mself\u001b[0m\u001b[1;33m.\u001b[0m\u001b[0m_engine\u001b[0m \u001b[1;33m=\u001b[0m \u001b[0mCParserWrapper\u001b[0m\u001b[1;33m(\u001b[0m\u001b[0mself\u001b[0m\u001b[1;33m.\u001b[0m\u001b[0mf\u001b[0m\u001b[1;33m,\u001b[0m \u001b[1;33m**\u001b[0m\u001b[0mself\u001b[0m\u001b[1;33m.\u001b[0m\u001b[0moptions\u001b[0m\u001b[1;33m)\u001b[0m\u001b[1;33m\u001b[0m\u001b[1;33m\u001b[0m\u001b[0m\n\u001b[0m\u001b[0;32m   1179\u001b[0m         \u001b[1;32melse\u001b[0m\u001b[1;33m:\u001b[0m\u001b[1;33m\u001b[0m\u001b[1;33m\u001b[0m\u001b[0m\n\u001b[0;32m   1180\u001b[0m             \u001b[1;32mif\u001b[0m \u001b[0mengine\u001b[0m \u001b[1;33m==\u001b[0m \u001b[1;34m\"python\"\u001b[0m\u001b[1;33m:\u001b[0m\u001b[1;33m\u001b[0m\u001b[1;33m\u001b[0m\u001b[0m\n",
      "\u001b[1;32m~\\anaconda3\\lib\\site-packages\\pandas\\io\\parsers.py\u001b[0m in \u001b[0;36m__init__\u001b[1;34m(self, src, **kwds)\u001b[0m\n\u001b[0;32m   2006\u001b[0m         \u001b[0mkwds\u001b[0m\u001b[1;33m[\u001b[0m\u001b[1;34m\"usecols\"\u001b[0m\u001b[1;33m]\u001b[0m \u001b[1;33m=\u001b[0m \u001b[0mself\u001b[0m\u001b[1;33m.\u001b[0m\u001b[0musecols\u001b[0m\u001b[1;33m\u001b[0m\u001b[1;33m\u001b[0m\u001b[0m\n\u001b[0;32m   2007\u001b[0m \u001b[1;33m\u001b[0m\u001b[0m\n\u001b[1;32m-> 2008\u001b[1;33m         \u001b[0mself\u001b[0m\u001b[1;33m.\u001b[0m\u001b[0m_reader\u001b[0m \u001b[1;33m=\u001b[0m \u001b[0mparsers\u001b[0m\u001b[1;33m.\u001b[0m\u001b[0mTextReader\u001b[0m\u001b[1;33m(\u001b[0m\u001b[0msrc\u001b[0m\u001b[1;33m,\u001b[0m \u001b[1;33m**\u001b[0m\u001b[0mkwds\u001b[0m\u001b[1;33m)\u001b[0m\u001b[1;33m\u001b[0m\u001b[1;33m\u001b[0m\u001b[0m\n\u001b[0m\u001b[0;32m   2009\u001b[0m         \u001b[0mself\u001b[0m\u001b[1;33m.\u001b[0m\u001b[0munnamed_cols\u001b[0m \u001b[1;33m=\u001b[0m \u001b[0mself\u001b[0m\u001b[1;33m.\u001b[0m\u001b[0m_reader\u001b[0m\u001b[1;33m.\u001b[0m\u001b[0munnamed_cols\u001b[0m\u001b[1;33m\u001b[0m\u001b[1;33m\u001b[0m\u001b[0m\n\u001b[0;32m   2010\u001b[0m \u001b[1;33m\u001b[0m\u001b[0m\n",
      "\u001b[1;32mpandas\\_libs\\parsers.pyx\u001b[0m in \u001b[0;36mpandas._libs.parsers.TextReader.__cinit__\u001b[1;34m()\u001b[0m\n",
      "\u001b[1;32mpandas\\_libs\\parsers.pyx\u001b[0m in \u001b[0;36mpandas._libs.parsers.TextReader._setup_parser_source\u001b[1;34m()\u001b[0m\n",
      "\u001b[1;31mFileNotFoundError\u001b[0m: [Errno 2] No such file or directory: '/kaggle/input/titanic/train.csv'"
     ]
    }
   ],
   "source": [
    "train=pd.read_csv('/kaggle/input/titanic/train.csv')\n",
    "test=pd.read_csv('/kaggle/input/titanic/test.csv')\n",
    "\n",
    "train.shape, test.shape"
   ]
  },
  {
   "cell_type": "code",
   "execution_count": null,
   "metadata": {
    "execution": {
     "iopub.execute_input": "2021-06-23T05:21:47.224108Z",
     "iopub.status.busy": "2021-06-23T05:21:47.223332Z",
     "iopub.status.idle": "2021-06-23T05:21:47.263785Z",
     "shell.execute_reply": "2021-06-23T05:21:47.262804Z",
     "shell.execute_reply.started": "2021-06-23T05:21:47.224059Z"
    }
   },
   "outputs": [],
   "source": [
    "train.head(5)"
   ]
  },
  {
   "cell_type": "code",
   "execution_count": null,
   "metadata": {
    "execution": {
     "iopub.execute_input": "2021-06-23T05:21:29.84921Z",
     "iopub.status.busy": "2021-06-23T05:21:29.848794Z",
     "iopub.status.idle": "2021-06-23T05:21:29.856935Z",
     "shell.execute_reply": "2021-06-23T05:21:29.855951Z",
     "shell.execute_reply.started": "2021-06-23T05:21:29.849176Z"
    }
   },
   "outputs": [],
   "source": [
    "train.columns"
   ]
  },
  {
   "cell_type": "code",
   "execution_count": null,
   "metadata": {
    "execution": {
     "iopub.execute_input": "2021-06-23T05:24:36.642794Z",
     "iopub.status.busy": "2021-06-23T05:24:36.642413Z",
     "iopub.status.idle": "2021-06-23T05:24:36.662517Z",
     "shell.execute_reply": "2021-06-23T05:24:36.661653Z",
     "shell.execute_reply.started": "2021-06-23T05:24:36.642765Z"
    }
   },
   "outputs": [],
   "source": [
    "train.info()"
   ]
  },
  {
   "cell_type": "code",
   "execution_count": null,
   "metadata": {
    "execution": {
     "iopub.execute_input": "2021-06-23T05:24:53.124416Z",
     "iopub.status.busy": "2021-06-23T05:24:53.124068Z",
     "iopub.status.idle": "2021-06-23T05:24:53.158534Z",
     "shell.execute_reply": "2021-06-23T05:24:53.157577Z",
     "shell.execute_reply.started": "2021-06-23T05:24:53.124379Z"
    }
   },
   "outputs": [],
   "source": [
    "train.describe()"
   ]
  },
  {
   "cell_type": "code",
   "execution_count": null,
   "metadata": {
    "execution": {
     "iopub.execute_input": "2021-06-23T05:28:18.996249Z",
     "iopub.status.busy": "2021-06-23T05:28:18.99586Z",
     "iopub.status.idle": "2021-06-23T05:28:19.004554Z",
     "shell.execute_reply": "2021-06-23T05:28:19.003911Z",
     "shell.execute_reply.started": "2021-06-23T05:28:18.996221Z"
    }
   },
   "outputs": [],
   "source": [
    "train.isnull().sum()\n",
    "#결치값 확인"
   ]
  },
  {
   "cell_type": "code",
   "execution_count": null,
   "metadata": {
    "execution": {
     "iopub.execute_input": "2021-06-23T05:28:20.552979Z",
     "iopub.status.busy": "2021-06-23T05:28:20.552493Z",
     "iopub.status.idle": "2021-06-23T05:28:20.753114Z",
     "shell.execute_reply": "2021-06-23T05:28:20.752167Z",
     "shell.execute_reply.started": "2021-06-23T05:28:20.552951Z"
    }
   },
   "outputs": [],
   "source": [
    "sns.heatmap(train.isnull(),\n",
    "            yticklabels=False, cbar=False,\n",
    "            cmap='GnBu'\n",
    "           )\n",
    "#y축바 인덱스값 없이, c바:범위 없이,cmap:컬러맵 색지정"
   ]
  },
  {
   "cell_type": "code",
   "execution_count": null,
   "metadata": {
    "execution": {
     "iopub.execute_input": "2021-06-23T05:30:14.603726Z",
     "iopub.status.busy": "2021-06-23T05:30:14.60335Z",
     "iopub.status.idle": "2021-06-23T05:30:27.464938Z",
     "shell.execute_reply": "2021-06-23T05:30:27.463888Z",
     "shell.execute_reply.started": "2021-06-23T05:30:14.603696Z"
    }
   },
   "outputs": [],
   "source": [
    "sns.heatmap(train.isnull(),\n",
    "            yticklabels=True, cbar=False,\n",
    "            cmap='GnBu'\n",
    "           )"
   ]
  },
  {
   "cell_type": "code",
   "execution_count": null,
   "metadata": {
    "execution": {
     "iopub.execute_input": "2021-06-23T05:33:59.426054Z",
     "iopub.status.busy": "2021-06-23T05:33:59.42569Z",
     "iopub.status.idle": "2021-06-23T05:33:59.698756Z",
     "shell.execute_reply": "2021-06-23T05:33:59.698064Z",
     "shell.execute_reply.started": "2021-06-23T05:33:59.426013Z"
    }
   },
   "outputs": [],
   "source": [
    "sns.heatmap(train.isnull(),\n",
    "            yticklabels=False, cbar=True,\n",
    "            cmap='PuRd'\n",
    "           )"
   ]
  },
  {
   "cell_type": "markdown",
   "metadata": {},
   "source": [
    "# 1-2 수치형 변수 살펴보기"
   ]
  },
  {
   "cell_type": "code",
   "execution_count": null,
   "metadata": {
    "execution": {
     "iopub.execute_input": "2021-06-23T05:38:37.08067Z",
     "iopub.status.busy": "2021-06-23T05:38:37.08033Z",
     "iopub.status.idle": "2021-06-23T05:38:37.118437Z",
     "shell.execute_reply": "2021-06-23T05:38:37.117486Z",
     "shell.execute_reply.started": "2021-06-23T05:38:37.080641Z"
    }
   },
   "outputs": [],
   "source": [
    "num_cols = [col for col in train.columns[:12] if train[col].dtype in ['int64', 'float64'] ]\n",
    "print(num_cols)\n",
    "train[num_cols].describe()"
   ]
  },
  {
   "cell_type": "markdown",
   "metadata": {},
   "source": [
    "# 1-3 범주형 변수 살펴보기"
   ]
  },
  {
   "cell_type": "code",
   "execution_count": null,
   "metadata": {
    "execution": {
     "iopub.execute_input": "2021-06-23T05:50:30.353494Z",
     "iopub.status.busy": "2021-06-23T05:50:30.353082Z",
     "iopub.status.idle": "2021-06-23T05:50:30.360407Z",
     "shell.execute_reply": "2021-06-23T05:50:30.359273Z",
     "shell.execute_reply.started": "2021-06-23T05:50:30.353459Z"
    }
   },
   "outputs": [],
   "source": [
    "cols=train.columns\n",
    "\n",
    "for one in cols:\n",
    "    print(train[one].dtype)\n",
    "    if train[one].dtype in ['O']:\n",
    "        print('bingo:',one)\n",
    "#데이터타입이 대문자'O'=object 인것 true"
   ]
  },
  {
   "cell_type": "code",
   "execution_count": null,
   "metadata": {
    "execution": {
     "iopub.execute_input": "2021-06-23T05:44:23.325619Z",
     "iopub.status.busy": "2021-06-23T05:44:23.325183Z",
     "iopub.status.idle": "2021-06-23T05:44:23.372481Z",
     "shell.execute_reply": "2021-06-23T05:44:23.37169Z",
     "shell.execute_reply.started": "2021-06-23T05:44:23.325588Z"
    }
   },
   "outputs": [],
   "source": [
    "cat_cols = [col for col in train.columns[:12] if train[col].dtype in ['O']]\n",
    "print(cat_cols)\n",
    "train[cat_cols].describe()\n",
    "#describe() 메서드는 오직 숫자형(int, float 등) 컬럼의 분포도만 조사하며 \n",
    "#자동으로 object 타입의 컬럼은 출력에서 제외시킵니다. \n",
    "#대문자'O'로 object찾기:자료형 이름의 맨 앞글자를 약자로 쓰는 규칙"
   ]
  },
  {
   "cell_type": "code",
   "execution_count": null,
   "metadata": {
    "execution": {
     "iopub.execute_input": "2021-06-23T05:40:18.197129Z",
     "iopub.status.busy": "2021-06-23T05:40:18.196571Z",
     "iopub.status.idle": "2021-06-23T05:40:18.203448Z",
     "shell.execute_reply": "2021-06-23T05:40:18.202398Z",
     "shell.execute_reply.started": "2021-06-23T05:40:18.197095Z"
    }
   },
   "outputs": [],
   "source": [
    "train.columns, test.columns"
   ]
  },
  {
   "cell_type": "markdown",
   "metadata": {},
   "source": [
    "# 생존자가 몇 명일까?"
   ]
  },
  {
   "cell_type": "code",
   "execution_count": null,
   "metadata": {
    "execution": {
     "iopub.execute_input": "2021-06-23T05:41:56.222179Z",
     "iopub.status.busy": "2021-06-23T05:41:56.221812Z",
     "iopub.status.idle": "2021-06-23T05:41:56.329306Z",
     "shell.execute_reply": "2021-06-23T05:41:56.32843Z",
     "shell.execute_reply.started": "2021-06-23T05:41:56.222151Z"
    }
   },
   "outputs": [],
   "source": [
    "sns.countplot(x='Survived',data=train)\n",
    "#x축은 범주형,y축없어도됨"
   ]
  },
  {
   "cell_type": "markdown",
   "metadata": {},
   "source": [
    "해석:생존자가 약 350명, 사망자가 약 550명정도. 생존율0.38%"
   ]
  },
  {
   "cell_type": "markdown",
   "metadata": {},
   "source": [
    "# 2-2 PClass별 생존자는 얼마나 될까?"
   ]
  },
  {
   "cell_type": "code",
   "execution_count": null,
   "metadata": {
    "execution": {
     "iopub.execute_input": "2021-06-23T06:10:00.54028Z",
     "iopub.status.busy": "2021-06-23T06:10:00.539873Z",
     "iopub.status.idle": "2021-06-23T06:10:00.80051Z",
     "shell.execute_reply": "2021-06-23T06:10:00.799486Z",
     "shell.execute_reply.started": "2021-06-23T06:10:00.540247Z"
    }
   },
   "outputs": [],
   "source": [
    "sns.countplot(x='Pclass', hue='Survived',data=train)"
   ]
  },
  {
   "cell_type": "markdown",
   "metadata": {},
   "source": [
    "해석: 등급이 낮을수록 사망자가 높고, 등급이 높을수록 생존자가 높다. 그러나 생존자는 3등급이 2등급보다 높다.(왜?)"
   ]
  },
  {
   "cell_type": "markdown",
   "metadata": {},
   "source": [
    "# 5-5 왜 생존자가 Pclass에 따라 달라지는가?\n",
    "변수:성별,나이,pclass"
   ]
  },
  {
   "cell_type": "code",
   "execution_count": null,
   "metadata": {
    "execution": {
     "iopub.execute_input": "2021-06-23T06:19:27.191265Z",
     "iopub.status.busy": "2021-06-23T06:19:27.190601Z",
     "iopub.status.idle": "2021-06-23T06:19:27.520678Z",
     "shell.execute_reply": "2021-06-23T06:19:27.519953Z",
     "shell.execute_reply.started": "2021-06-23T06:19:27.191224Z"
    }
   },
   "outputs": [],
   "source": [
    "sns.histplot(x='Age', hue='Pclass',data=train)"
   ]
  },
  {
   "cell_type": "markdown",
   "metadata": {},
   "source": [
    "1등급은 나이가 많은 노인층이 많아 먼저 구조되었을것이다. 3등급은 청년층이 많아 마지막으로 구조."
   ]
  },
  {
   "cell_type": "code",
   "execution_count": null,
   "metadata": {
    "execution": {
     "iopub.execute_input": "2021-06-23T06:22:46.053682Z",
     "iopub.status.busy": "2021-06-23T06:22:46.053303Z",
     "iopub.status.idle": "2021-06-23T06:22:46.250062Z",
     "shell.execute_reply": "2021-06-23T06:22:46.249289Z",
     "shell.execute_reply.started": "2021-06-23T06:22:46.053651Z"
    }
   },
   "outputs": [],
   "source": [
    "sns.histplot(x='Sex', hue='Pclass',data=train)"
   ]
  },
  {
   "cell_type": "code",
   "execution_count": null,
   "metadata": {
    "execution": {
     "iopub.execute_input": "2021-06-23T06:26:36.592189Z",
     "iopub.status.busy": "2021-06-23T06:26:36.59181Z",
     "iopub.status.idle": "2021-06-23T06:26:37.154058Z",
     "shell.execute_reply": "2021-06-23T06:26:37.153229Z",
     "shell.execute_reply.started": "2021-06-23T06:26:36.592156Z"
    }
   },
   "outputs": [],
   "source": [
    "# 남성, 여성\n",
    "train_m = train[train['Sex']=='male']\n",
    "train_f = train[train['Sex']=='female']\n",
    "# 생존에 영향을 끼치는 요소 - Age, Pclass\n",
    "plt.figure(figsize=(14,10))\n",
    "plt.subplot(1,2,1)\n",
    "sns.histplot(x='Age',hue='Pclass', data=train_m)\n",
    "plt.subplot(1,2,2)\n",
    "sns.histplot(x='Age',hue='Pclass', data=train_f)"
   ]
  },
  {
   "cell_type": "code",
   "execution_count": null,
   "metadata": {
    "execution": {
     "iopub.execute_input": "2021-06-23T06:14:12.284957Z",
     "iopub.status.busy": "2021-06-23T06:14:12.284598Z",
     "iopub.status.idle": "2021-06-23T06:14:12.432849Z",
     "shell.execute_reply": "2021-06-23T06:14:12.431904Z",
     "shell.execute_reply.started": "2021-06-23T06:14:12.284907Z"
    }
   },
   "outputs": [],
   "source": [
    "sns.countplot(x='Pclass', hue='Sex',data=train)"
   ]
  },
  {
   "cell_type": "markdown",
   "metadata": {},
   "source": [
    "3등급은 남성이 많아 구조가 늦었을 수 있다."
   ]
  },
  {
   "cell_type": "code",
   "execution_count": null,
   "metadata": {
    "execution": {
     "iopub.execute_input": "2021-06-23T06:28:30.833908Z",
     "iopub.status.busy": "2021-06-23T06:28:30.833329Z",
     "iopub.status.idle": "2021-06-23T06:28:30.840288Z",
     "shell.execute_reply": "2021-06-23T06:28:30.839348Z",
     "shell.execute_reply.started": "2021-06-23T06:28:30.833869Z"
    }
   },
   "outputs": [],
   "source": [
    "train.columns"
   ]
  },
  {
   "cell_type": "code",
   "execution_count": null,
   "metadata": {
    "execution": {
     "iopub.execute_input": "2021-06-23T06:30:16.127421Z",
     "iopub.status.busy": "2021-06-23T06:30:16.127023Z",
     "iopub.status.idle": "2021-06-23T06:30:16.295183Z",
     "shell.execute_reply": "2021-06-23T06:30:16.294079Z",
     "shell.execute_reply.started": "2021-06-23T06:30:16.127384Z"
    }
   },
   "outputs": [],
   "source": [
    "sns.countplot(x='Survived', hue='Embarked',data=train)"
   ]
  },
  {
   "cell_type": "markdown",
   "metadata": {},
   "source": [
    "승선항(c-쉘부르크,q-퀸즈타운,s-사우스햄튼)\n",
    "s선착장이 생존률이 낮지만 탑승인원이 많아 생존률 판단하기는 어려움"
   ]
  },
  {
   "cell_type": "code",
   "execution_count": null,
   "metadata": {
    "execution": {
     "iopub.execute_input": "2021-06-23T06:40:21.222192Z",
     "iopub.status.busy": "2021-06-23T06:40:21.221828Z",
     "iopub.status.idle": "2021-06-23T06:40:21.892085Z",
     "shell.execute_reply": "2021-06-23T06:40:21.891Z",
     "shell.execute_reply.started": "2021-06-23T06:40:21.222163Z"
    }
   },
   "outputs": [],
   "source": [
    "plt.figure(figsize=(15,10))\n",
    "sns.histplot(x='Fare',hue='Survived',data=train)"
   ]
  },
  {
   "cell_type": "markdown",
   "metadata": {},
   "source": [
    "요금을 적게 낼 수록 사망률이 높았따."
   ]
  },
  {
   "cell_type": "markdown",
   "metadata": {},
   "source": [
    "# 2-3 나이에 대해 살펴보자"
   ]
  },
  {
   "cell_type": "code",
   "execution_count": null,
   "metadata": {
    "execution": {
     "iopub.execute_input": "2021-06-23T06:22:03.8102Z",
     "iopub.status.busy": "2021-06-23T06:22:03.809753Z",
     "iopub.status.idle": "2021-06-23T06:22:04.060083Z",
     "shell.execute_reply": "2021-06-23T06:22:04.058894Z",
     "shell.execute_reply.started": "2021-06-23T06:22:03.810167Z"
    }
   },
   "outputs": [],
   "source": [
    "sns.distplot(train['Age'].dropna(), bins=30).set_xlim(0,)"
   ]
  },
  {
   "cell_type": "code",
   "execution_count": null,
   "metadata": {},
   "outputs": [],
   "source": []
  }
 ],
 "metadata": {
  "kernelspec": {
   "display_name": "Python 3",
   "language": "python",
   "name": "python3"
  },
  "language_info": {
   "codemirror_mode": {
    "name": "ipython",
    "version": 3
   },
   "file_extension": ".py",
   "mimetype": "text/x-python",
   "name": "python",
   "nbconvert_exporter": "python",
   "pygments_lexer": "ipython3",
   "version": "3.8.5"
  }
 },
 "nbformat": 4,
 "nbformat_minor": 4
}
