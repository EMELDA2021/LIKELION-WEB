{
 "cells": [
  {
   "cell_type": "code",
   "execution_count": 1,
   "metadata": {
    "_cell_guid": "b1076dfc-b9ad-4769-8c92-a6c4dae69d19",
    "_uuid": "8f2839f25d086af736a60e9eeb907d3b93b6e0e5",
    "execution": {
     "iopub.execute_input": "2021-06-28T06:02:36.185720Z",
     "iopub.status.busy": "2021-06-28T06:02:36.184591Z",
     "iopub.status.idle": "2021-06-28T06:02:36.198247Z",
     "shell.execute_reply": "2021-06-28T06:02:36.198796Z",
     "shell.execute_reply.started": "2021-06-28T05:47:13.097734Z"
    },
    "papermill": {
     "duration": 0.040183,
     "end_time": "2021-06-28T06:02:36.199086",
     "exception": false,
     "start_time": "2021-06-28T06:02:36.158903",
     "status": "completed"
    },
    "tags": []
   },
   "outputs": [],
   "source": [
    "# This Python 3 environment comes with many helpful analytics libraries installed\n",
    "# It is defined by the kaggle/python Docker image: https://github.com/kaggle/docker-python\n",
    "# For example, here's several helpful packages to load\n",
    "\n",
    "import numpy as np # linear algebra\n",
    "import pandas as pd # data processing, CSV file I/O (e.g. pd.read_csv)\n",
    "\n",
    "# Input data files are available in the read-only \"../input/\" directory\n",
    "# For example, running this (by clicking run or pressing Shift+Enter) will list all files under the input directory\n",
    "\n",
    "import os\n",
    "for dirname, _, filenames in os.walk('/kaggle/input'):\n",
    "    for filename in filenames:\n",
    "        print(os.path.join(dirname, filename))\n",
    "\n",
    "# You can write up to 20GB to the current directory (/kaggle/working/) that gets preserved as output when you create a version using \"Save & Run All\" \n",
    "# You can also write temporary files to /kaggle/temp/, but they won't be saved outside of the current session"
   ]
  },
  {
   "cell_type": "raw",
   "metadata": {
    "papermill": {
     "duration": 0.021101,
     "end_time": "2021-06-28T06:02:36.242342",
     "exception": false,
     "start_time": "2021-06-28T06:02:36.221241",
     "status": "completed"
    },
    "tags": []
   },
   "source": [
    "import matplotlib.pyplot as plt\n",
    "import seaborn as sns"
   ]
  },
  {
   "cell_type": "code",
   "execution_count": 2,
   "metadata": {
    "execution": {
     "iopub.execute_input": "2021-06-28T06:02:36.290613Z",
     "iopub.status.busy": "2021-06-28T06:02:36.289950Z",
     "iopub.status.idle": "2021-06-28T06:02:36.322492Z",
     "shell.execute_reply": "2021-06-28T06:02:36.321802Z",
     "shell.execute_reply.started": "2021-06-28T05:47:15.101252Z"
    },
    "papermill": {
     "duration": 0.058718,
     "end_time": "2021-06-28T06:02:36.322634",
     "exception": false,
     "start_time": "2021-06-28T06:02:36.263916",
     "status": "completed"
    },
    "tags": []
   },
   "outputs": [
    {
     "data": {
      "text/plain": [
       "((891, 12), (418, 11))"
      ]
     },
     "execution_count": 2,
     "metadata": {},
     "output_type": "execute_result"
    }
   ],
   "source": [
    "train=pd.read_csv(\"../train.csv\")\n",
    "test=pd.read_csv(\"../test.csv\")\n",
    "\n",
    "train.shape, test.shape"
   ]
  },
  {
   "cell_type": "code",
   "execution_count": 3,
   "metadata": {
    "execution": {
     "iopub.execute_input": "2021-06-28T06:02:36.371079Z",
     "iopub.status.busy": "2021-06-28T06:02:36.370371Z",
     "iopub.status.idle": "2021-06-28T06:02:36.373775Z",
     "shell.execute_reply": "2021-06-28T06:02:36.373200Z",
     "shell.execute_reply.started": "2021-06-28T05:47:15.456433Z"
    },
    "papermill": {
     "duration": 0.029253,
     "end_time": "2021-06-28T06:02:36.373925",
     "exception": false,
     "start_time": "2021-06-28T06:02:36.344672",
     "status": "completed"
    },
    "tags": []
   },
   "outputs": [],
   "source": [
    "#결측치 처리\n",
    "#Age_mean=train['Age'].mean()\n",
    "#train['Age']=train['Age'].fillna(Age_mean)\n",
    "\n",
    "#Age_mean=test['Age'].mean()\n",
    "#test['Age']=test['Age'].fillna(Age_mean)\n",
    "\n",
    "#train['Age']=train['Age'].fillna(train['Age'].mean())\n",
    "#test['Age']=test['Age'].fillna(test['Age'].mean())"
   ]
  },
  {
   "cell_type": "code",
   "execution_count": 4,
   "metadata": {
    "execution": {
     "iopub.execute_input": "2021-06-28T06:02:36.423166Z",
     "iopub.status.busy": "2021-06-28T06:02:36.422086Z",
     "iopub.status.idle": "2021-06-28T06:02:36.424670Z",
     "shell.execute_reply": "2021-06-28T06:02:36.424055Z",
     "shell.execute_reply.started": "2021-06-28T05:47:15.801104Z"
    },
    "papermill": {
     "duration": 0.028821,
     "end_time": "2021-06-28T06:02:36.424838",
     "exception": false,
     "start_time": "2021-06-28T06:02:36.396017",
     "status": "completed"
    },
    "tags": []
   },
   "outputs": [],
   "source": [
    "#train.isnull().sum()"
   ]
  },
  {
   "cell_type": "code",
   "execution_count": 5,
   "metadata": {
    "execution": {
     "iopub.execute_input": "2021-06-28T06:02:36.473819Z",
     "iopub.status.busy": "2021-06-28T06:02:36.472802Z",
     "iopub.status.idle": "2021-06-28T06:02:36.476126Z",
     "shell.execute_reply": "2021-06-28T06:02:36.475625Z",
     "shell.execute_reply.started": "2021-06-28T05:47:16.131412Z"
    },
    "papermill": {
     "duration": 0.02905,
     "end_time": "2021-06-28T06:02:36.476274",
     "exception": false,
     "start_time": "2021-06-28T06:02:36.447224",
     "status": "completed"
    },
    "tags": []
   },
   "outputs": [],
   "source": [
    "#test.isnull().sum()"
   ]
  },
  {
   "cell_type": "code",
   "execution_count": 3,
   "metadata": {
    "execution": {
     "iopub.execute_input": "2021-06-28T06:02:36.568818Z",
     "iopub.status.busy": "2021-06-28T06:02:36.568124Z",
     "iopub.status.idle": "2021-06-28T06:02:36.571583Z",
     "shell.execute_reply": "2021-06-28T06:02:36.571024Z",
     "shell.execute_reply.started": "2021-06-28T05:47:17.517979Z"
    },
    "papermill": {
     "duration": 0.030167,
     "end_time": "2021-06-28T06:02:36.571715",
     "exception": false,
     "start_time": "2021-06-28T06:02:36.541548",
     "status": "completed"
    },
    "tags": []
   },
   "outputs": [
    {
     "data": {
      "text/plain": [
       "(Index(['PassengerId', 'Survived', 'Pclass', 'Name', 'Sex', 'Age', 'SibSp',\n",
       "        'Parch', 'Ticket', 'Fare', 'Cabin', 'Embarked'],\n",
       "       dtype='object'),\n",
       " Index(['PassengerId', 'Pclass', 'Name', 'Sex', 'Age', 'SibSp', 'Parch',\n",
       "        'Ticket', 'Fare', 'Cabin', 'Embarked'],\n",
       "       dtype='object'))"
      ]
     },
     "execution_count": 3,
     "metadata": {},
     "output_type": "execute_result"
    }
   ],
   "source": [
    "train.columns, test.columns"
   ]
  },
  {
   "cell_type": "code",
   "execution_count": 4,
   "metadata": {
    "execution": {
     "iopub.execute_input": "2021-06-28T06:02:36.625389Z",
     "iopub.status.busy": "2021-06-28T06:02:36.624708Z",
     "iopub.status.idle": "2021-06-28T06:02:36.648650Z",
     "shell.execute_reply": "2021-06-28T06:02:36.648028Z",
     "shell.execute_reply.started": "2021-06-28T05:47:18.508539Z"
    },
    "papermill": {
     "duration": 0.055165,
     "end_time": "2021-06-28T06:02:36.648806",
     "exception": false,
     "start_time": "2021-06-28T06:02:36.593641",
     "status": "completed"
    },
    "tags": []
   },
   "outputs": [
    {
     "data": {
      "text/html": [
       "<div>\n",
       "<style scoped>\n",
       "    .dataframe tbody tr th:only-of-type {\n",
       "        vertical-align: middle;\n",
       "    }\n",
       "\n",
       "    .dataframe tbody tr th {\n",
       "        vertical-align: top;\n",
       "    }\n",
       "\n",
       "    .dataframe thead th {\n",
       "        text-align: right;\n",
       "    }\n",
       "</style>\n",
       "<table border=\"1\" class=\"dataframe\">\n",
       "  <thead>\n",
       "    <tr style=\"text-align: right;\">\n",
       "      <th></th>\n",
       "      <th>PassengerId</th>\n",
       "      <th>Survived</th>\n",
       "      <th>Pclass</th>\n",
       "      <th>Name</th>\n",
       "      <th>Sex</th>\n",
       "      <th>Age</th>\n",
       "      <th>SibSp</th>\n",
       "      <th>Parch</th>\n",
       "      <th>Ticket</th>\n",
       "      <th>Fare</th>\n",
       "      <th>Cabin</th>\n",
       "      <th>Embarked</th>\n",
       "    </tr>\n",
       "  </thead>\n",
       "  <tbody>\n",
       "    <tr>\n",
       "      <th>0</th>\n",
       "      <td>1</td>\n",
       "      <td>0</td>\n",
       "      <td>3</td>\n",
       "      <td>Braund, Mr. Owen Harris</td>\n",
       "      <td>male</td>\n",
       "      <td>22.0</td>\n",
       "      <td>1</td>\n",
       "      <td>0</td>\n",
       "      <td>A/5 21171</td>\n",
       "      <td>7.2500</td>\n",
       "      <td>NaN</td>\n",
       "      <td>S</td>\n",
       "    </tr>\n",
       "    <tr>\n",
       "      <th>1</th>\n",
       "      <td>2</td>\n",
       "      <td>1</td>\n",
       "      <td>1</td>\n",
       "      <td>Cumings, Mrs. John Bradley (Florence Briggs Th...</td>\n",
       "      <td>female</td>\n",
       "      <td>38.0</td>\n",
       "      <td>1</td>\n",
       "      <td>0</td>\n",
       "      <td>PC 17599</td>\n",
       "      <td>71.2833</td>\n",
       "      <td>C85</td>\n",
       "      <td>C</td>\n",
       "    </tr>\n",
       "    <tr>\n",
       "      <th>2</th>\n",
       "      <td>3</td>\n",
       "      <td>1</td>\n",
       "      <td>3</td>\n",
       "      <td>Heikkinen, Miss. Laina</td>\n",
       "      <td>female</td>\n",
       "      <td>26.0</td>\n",
       "      <td>0</td>\n",
       "      <td>0</td>\n",
       "      <td>STON/O2. 3101282</td>\n",
       "      <td>7.9250</td>\n",
       "      <td>NaN</td>\n",
       "      <td>S</td>\n",
       "    </tr>\n",
       "    <tr>\n",
       "      <th>3</th>\n",
       "      <td>4</td>\n",
       "      <td>1</td>\n",
       "      <td>1</td>\n",
       "      <td>Futrelle, Mrs. Jacques Heath (Lily May Peel)</td>\n",
       "      <td>female</td>\n",
       "      <td>35.0</td>\n",
       "      <td>1</td>\n",
       "      <td>0</td>\n",
       "      <td>113803</td>\n",
       "      <td>53.1000</td>\n",
       "      <td>C123</td>\n",
       "      <td>S</td>\n",
       "    </tr>\n",
       "    <tr>\n",
       "      <th>4</th>\n",
       "      <td>5</td>\n",
       "      <td>0</td>\n",
       "      <td>3</td>\n",
       "      <td>Allen, Mr. William Henry</td>\n",
       "      <td>male</td>\n",
       "      <td>35.0</td>\n",
       "      <td>0</td>\n",
       "      <td>0</td>\n",
       "      <td>373450</td>\n",
       "      <td>8.0500</td>\n",
       "      <td>NaN</td>\n",
       "      <td>S</td>\n",
       "    </tr>\n",
       "  </tbody>\n",
       "</table>\n",
       "</div>"
      ],
      "text/plain": [
       "   PassengerId  Survived  Pclass  \\\n",
       "0            1         0       3   \n",
       "1            2         1       1   \n",
       "2            3         1       3   \n",
       "3            4         1       1   \n",
       "4            5         0       3   \n",
       "\n",
       "                                                Name     Sex   Age  SibSp  \\\n",
       "0                            Braund, Mr. Owen Harris    male  22.0      1   \n",
       "1  Cumings, Mrs. John Bradley (Florence Briggs Th...  female  38.0      1   \n",
       "2                             Heikkinen, Miss. Laina  female  26.0      0   \n",
       "3       Futrelle, Mrs. Jacques Heath (Lily May Peel)  female  35.0      1   \n",
       "4                           Allen, Mr. William Henry    male  35.0      0   \n",
       "\n",
       "   Parch            Ticket     Fare Cabin Embarked  \n",
       "0      0         A/5 21171   7.2500   NaN        S  \n",
       "1      0          PC 17599  71.2833   C85        C  \n",
       "2      0  STON/O2. 3101282   7.9250   NaN        S  \n",
       "3      0            113803  53.1000  C123        S  \n",
       "4      0            373450   8.0500   NaN        S  "
      ]
     },
     "execution_count": 4,
     "metadata": {},
     "output_type": "execute_result"
    }
   ],
   "source": [
    "train.head()"
   ]
  },
  {
   "cell_type": "code",
   "execution_count": 5,
   "metadata": {
    "execution": {
     "iopub.execute_input": "2021-06-28T06:02:36.727953Z",
     "iopub.status.busy": "2021-06-28T06:02:36.725281Z",
     "iopub.status.idle": "2021-06-28T06:02:36.733732Z",
     "shell.execute_reply": "2021-06-28T06:02:36.733199Z",
     "shell.execute_reply.started": "2021-06-28T05:47:19.226125Z"
    },
    "papermill": {
     "duration": 0.062529,
     "end_time": "2021-06-28T06:02:36.733910",
     "exception": false,
     "start_time": "2021-06-28T06:02:36.671381",
     "status": "completed"
    },
    "tags": []
   },
   "outputs": [
    {
     "name": "stdout",
     "output_type": "stream",
     "text": [
      "<class 'pandas.core.frame.DataFrame'>\n",
      "RangeIndex: 891 entries, 0 to 890\n",
      "Data columns (total 12 columns):\n",
      " #   Column       Non-Null Count  Dtype  \n",
      "---  ------       --------------  -----  \n",
      " 0   PassengerId  891 non-null    int64  \n",
      " 1   Survived     891 non-null    int64  \n",
      " 2   Pclass       891 non-null    int64  \n",
      " 3   Name         891 non-null    object \n",
      " 4   Sex          891 non-null    object \n",
      " 5   Age          714 non-null    float64\n",
      " 6   SibSp        891 non-null    int64  \n",
      " 7   Parch        891 non-null    int64  \n",
      " 8   Ticket       891 non-null    object \n",
      " 9   Fare         891 non-null    float64\n",
      " 10  Cabin        204 non-null    object \n",
      " 11  Embarked     889 non-null    object \n",
      "dtypes: float64(2), int64(5), object(5)\n",
      "memory usage: 83.7+ KB\n",
      "<class 'pandas.core.frame.DataFrame'>\n",
      "RangeIndex: 418 entries, 0 to 417\n",
      "Data columns (total 11 columns):\n",
      " #   Column       Non-Null Count  Dtype  \n",
      "---  ------       --------------  -----  \n",
      " 0   PassengerId  418 non-null    int64  \n",
      " 1   Pclass       418 non-null    int64  \n",
      " 2   Name         418 non-null    object \n",
      " 3   Sex          418 non-null    object \n",
      " 4   Age          332 non-null    float64\n",
      " 5   SibSp        418 non-null    int64  \n",
      " 6   Parch        418 non-null    int64  \n",
      " 7   Ticket       418 non-null    object \n",
      " 8   Fare         417 non-null    float64\n",
      " 9   Cabin        91 non-null     object \n",
      " 10  Embarked     418 non-null    object \n",
      "dtypes: float64(2), int64(4), object(5)\n",
      "memory usage: 36.0+ KB\n"
     ]
    },
    {
     "data": {
      "text/plain": [
       "(None, None)"
      ]
     },
     "execution_count": 5,
     "metadata": {},
     "output_type": "execute_result"
    }
   ],
   "source": [
    "train.info(), test.info()"
   ]
  },
  {
   "cell_type": "code",
   "execution_count": 6,
   "metadata": {
    "execution": {
     "iopub.execute_input": "2021-06-28T06:02:36.789741Z",
     "iopub.status.busy": "2021-06-28T06:02:36.789083Z",
     "iopub.status.idle": "2021-06-28T06:02:36.791864Z",
     "shell.execute_reply": "2021-06-28T06:02:36.791152Z",
     "shell.execute_reply.started": "2021-06-28T05:47:20.023168Z"
    },
    "papermill": {
     "duration": 0.034404,
     "end_time": "2021-06-28T06:02:36.792011",
     "exception": false,
     "start_time": "2021-06-28T06:02:36.757607",
     "status": "completed"
    },
    "tags": []
   },
   "outputs": [],
   "source": [
    "#성별 숫자값으로 바꾸기\n",
    "train['Sex']=train['Sex'].map( {'female':0,'male':1} ).astype(int)\n",
    "test['Sex']=test['Sex'].map( {'female':0,'male':1} ).astype(int)"
   ]
  },
  {
   "cell_type": "code",
   "execution_count": 7,
   "metadata": {
    "execution": {
     "iopub.execute_input": "2021-06-28T06:02:36.846682Z",
     "iopub.status.busy": "2021-06-28T06:02:36.845980Z",
     "iopub.status.idle": "2021-06-28T06:02:36.849660Z",
     "shell.execute_reply": "2021-06-28T06:02:36.849076Z",
     "shell.execute_reply.started": "2021-06-28T05:47:21.331476Z"
    },
    "papermill": {
     "duration": 0.034148,
     "end_time": "2021-06-28T06:02:36.849812",
     "exception": false,
     "start_time": "2021-06-28T06:02:36.815664",
     "status": "completed"
    },
    "tags": []
   },
   "outputs": [
    {
     "data": {
      "text/plain": [
       "0      S\n",
       "1      C\n",
       "2      S\n",
       "3      S\n",
       "4      S\n",
       "      ..\n",
       "886    S\n",
       "887    S\n",
       "888    S\n",
       "889    C\n",
       "890    Q\n",
       "Name: Embarked, Length: 891, dtype: object"
      ]
     },
     "execution_count": 7,
     "metadata": {},
     "output_type": "execute_result"
    }
   ],
   "source": [
    "#결측치 처리 embarked\n",
    "train['Embarked']"
   ]
  },
  {
   "cell_type": "code",
   "execution_count": 8,
   "metadata": {
    "execution": {
     "iopub.execute_input": "2021-06-28T06:02:36.902394Z",
     "iopub.status.busy": "2021-06-28T06:02:36.901467Z",
     "iopub.status.idle": "2021-06-28T06:02:36.905863Z",
     "shell.execute_reply": "2021-06-28T06:02:36.905361Z",
     "shell.execute_reply.started": "2021-06-28T05:47:22.238360Z"
    },
    "papermill": {
     "duration": 0.032581,
     "end_time": "2021-06-28T06:02:36.906005",
     "exception": false,
     "start_time": "2021-06-28T06:02:36.873424",
     "status": "completed"
    },
    "tags": []
   },
   "outputs": [
    {
     "data": {
      "text/plain": [
       "array(['S', 'C', 'Q', nan], dtype=object)"
      ]
     },
     "execution_count": 8,
     "metadata": {},
     "output_type": "execute_result"
    }
   ],
   "source": [
    "train['Embarked'].unique() #반복되는값을 뺀 값"
   ]
  },
  {
   "cell_type": "code",
   "execution_count": 9,
   "metadata": {
    "execution": {
     "iopub.execute_input": "2021-06-28T06:02:36.961864Z",
     "iopub.status.busy": "2021-06-28T06:02:36.961014Z",
     "iopub.status.idle": "2021-06-28T06:02:36.964921Z",
     "shell.execute_reply": "2021-06-28T06:02:36.965369Z",
     "shell.execute_reply.started": "2021-06-28T05:47:22.761404Z"
    },
    "papermill": {
     "duration": 0.035418,
     "end_time": "2021-06-28T06:02:36.965542",
     "exception": false,
     "start_time": "2021-06-28T06:02:36.930124",
     "status": "completed"
    },
    "tags": []
   },
   "outputs": [
    {
     "data": {
      "text/plain": [
       "S    644\n",
       "C    168\n",
       "Q     77\n",
       "Name: Embarked, dtype: int64"
      ]
     },
     "execution_count": 9,
     "metadata": {},
     "output_type": "execute_result"
    }
   ],
   "source": [
    "train.Embarked.value_counts()"
   ]
  },
  {
   "cell_type": "code",
   "execution_count": 10,
   "metadata": {
    "execution": {
     "iopub.execute_input": "2021-06-28T06:02:37.021768Z",
     "iopub.status.busy": "2021-06-28T06:02:37.020884Z",
     "iopub.status.idle": "2021-06-28T06:02:37.025356Z",
     "shell.execute_reply": "2021-06-28T06:02:37.024847Z",
     "shell.execute_reply.started": "2021-06-28T05:47:23.289096Z"
    },
    "papermill": {
     "duration": 0.03548,
     "end_time": "2021-06-28T06:02:37.025488",
     "exception": false,
     "start_time": "2021-06-28T06:02:36.990008",
     "status": "completed"
    },
    "tags": []
   },
   "outputs": [
    {
     "data": {
      "text/plain": [
       "0"
      ]
     },
     "execution_count": 10,
     "metadata": {},
     "output_type": "execute_result"
    }
   ],
   "source": [
    "train['Embarked']=train['Embarked'].fillna('S')\n",
    "train['Embarked'].isnull().sum()"
   ]
  },
  {
   "cell_type": "markdown",
   "metadata": {
    "execution": {
     "iopub.execute_input": "2021-06-28T05:18:06.442659Z",
     "iopub.status.busy": "2021-06-28T05:18:06.442253Z",
     "iopub.status.idle": "2021-06-28T05:18:06.446291Z",
     "shell.execute_reply": "2021-06-28T05:18:06.445151Z",
     "shell.execute_reply.started": "2021-06-28T05:18:06.442605Z"
    },
    "papermill": {
     "duration": 0.024156,
     "end_time": "2021-06-28T06:02:37.074186",
     "exception": false,
     "start_time": "2021-06-28T06:02:37.050030",
     "status": "completed"
    },
    "tags": []
   },
   "source": [
    "#[선택컬럼].astype(원하는 자료형)\n",
    "#map():map(f, iterable)은 함수(f)와 반복 가능한(iterable) 자료형을 입력으로 받는다. map은 입력받은 자료형의 각 요소를 함수 f가 수행한 결과를 묶어서 돌려주는 함수이다."
   ]
  },
  {
   "cell_type": "code",
   "execution_count": 11,
   "metadata": {
    "execution": {
     "iopub.execute_input": "2021-06-28T06:02:37.142708Z",
     "iopub.status.busy": "2021-06-28T06:02:37.141673Z",
     "iopub.status.idle": "2021-06-28T06:02:37.146407Z",
     "shell.execute_reply": "2021-06-28T06:02:37.145652Z",
     "shell.execute_reply.started": "2021-06-28T05:47:24.604156Z"
    },
    "papermill": {
     "duration": 0.047965,
     "end_time": "2021-06-28T06:02:37.146595",
     "exception": false,
     "start_time": "2021-06-28T06:02:37.098630",
     "status": "completed"
    },
    "tags": []
   },
   "outputs": [],
   "source": [
    "train['Embarked']=train['Embarked'].map( {'S':0,'C':1,'Q':2} ).astype(int)\n",
    "test['Embarked']=test['Embarked'].map( {'S':0,'C':1,'Q':2} ).astype(int)"
   ]
  },
  {
   "cell_type": "markdown",
   "metadata": {},
   "source": [
    " ([A-Za-z]+)\\. : 정규표현식. 콤마 앞까지 전부 가져오기"
   ]
  },
  {
   "cell_type": "code",
   "execution_count": 12,
   "metadata": {
    "execution": {
     "iopub.execute_input": "2021-06-28T06:02:37.222431Z",
     "iopub.status.busy": "2021-06-28T06:02:37.221224Z",
     "iopub.status.idle": "2021-06-28T06:02:37.225794Z",
     "shell.execute_reply": "2021-06-28T06:02:37.226280Z",
     "shell.execute_reply.started": "2021-06-28T05:47:25.151515Z"
    },
    "papermill": {
     "duration": 0.04625,
     "end_time": "2021-06-28T06:02:37.226460",
     "exception": false,
     "start_time": "2021-06-28T06:02:37.180210",
     "status": "completed"
    },
    "tags": []
   },
   "outputs": [],
   "source": [
    "train['Title']=train.Name.str.extract(' ([A-Za-z]+)\\.',expand=False)\n",
    "test['Title']=test.Name.str.extract(' ([A-Za-z]+)\\.',expand=False)"
   ]
  },
  {
   "cell_type": "code",
   "execution_count": 13,
   "metadata": {
    "execution": {
     "iopub.execute_input": "2021-06-28T06:02:37.279307Z",
     "iopub.status.busy": "2021-06-28T06:02:37.278624Z",
     "iopub.status.idle": "2021-06-28T06:02:37.339067Z",
     "shell.execute_reply": "2021-06-28T06:02:37.338455Z",
     "shell.execute_reply.started": "2021-06-28T05:47:27.387148Z"
    },
    "papermill": {
     "duration": 0.087767,
     "end_time": "2021-06-28T06:02:37.339219",
     "exception": false,
     "start_time": "2021-06-28T06:02:37.251452",
     "status": "completed"
    },
    "tags": []
   },
   "outputs": [
    {
     "data": {
      "text/html": [
       "<div>\n",
       "<style scoped>\n",
       "    .dataframe tbody tr th:only-of-type {\n",
       "        vertical-align: middle;\n",
       "    }\n",
       "\n",
       "    .dataframe tbody tr th {\n",
       "        vertical-align: top;\n",
       "    }\n",
       "\n",
       "    .dataframe thead th {\n",
       "        text-align: right;\n",
       "    }\n",
       "</style>\n",
       "<table border=\"1\" class=\"dataframe\">\n",
       "  <thead>\n",
       "    <tr style=\"text-align: right;\">\n",
       "      <th>Sex</th>\n",
       "      <th>0</th>\n",
       "      <th>1</th>\n",
       "    </tr>\n",
       "    <tr>\n",
       "      <th>Title</th>\n",
       "      <th></th>\n",
       "      <th></th>\n",
       "    </tr>\n",
       "  </thead>\n",
       "  <tbody>\n",
       "    <tr>\n",
       "      <th>Capt</th>\n",
       "      <td>0</td>\n",
       "      <td>1</td>\n",
       "    </tr>\n",
       "    <tr>\n",
       "      <th>Col</th>\n",
       "      <td>0</td>\n",
       "      <td>2</td>\n",
       "    </tr>\n",
       "    <tr>\n",
       "      <th>Countess</th>\n",
       "      <td>1</td>\n",
       "      <td>0</td>\n",
       "    </tr>\n",
       "    <tr>\n",
       "      <th>Don</th>\n",
       "      <td>0</td>\n",
       "      <td>1</td>\n",
       "    </tr>\n",
       "    <tr>\n",
       "      <th>Dr</th>\n",
       "      <td>1</td>\n",
       "      <td>6</td>\n",
       "    </tr>\n",
       "    <tr>\n",
       "      <th>Jonkheer</th>\n",
       "      <td>0</td>\n",
       "      <td>1</td>\n",
       "    </tr>\n",
       "    <tr>\n",
       "      <th>Lady</th>\n",
       "      <td>1</td>\n",
       "      <td>0</td>\n",
       "    </tr>\n",
       "    <tr>\n",
       "      <th>Major</th>\n",
       "      <td>0</td>\n",
       "      <td>2</td>\n",
       "    </tr>\n",
       "    <tr>\n",
       "      <th>Master</th>\n",
       "      <td>0</td>\n",
       "      <td>40</td>\n",
       "    </tr>\n",
       "    <tr>\n",
       "      <th>Miss</th>\n",
       "      <td>182</td>\n",
       "      <td>0</td>\n",
       "    </tr>\n",
       "    <tr>\n",
       "      <th>Mlle</th>\n",
       "      <td>2</td>\n",
       "      <td>0</td>\n",
       "    </tr>\n",
       "    <tr>\n",
       "      <th>Mme</th>\n",
       "      <td>1</td>\n",
       "      <td>0</td>\n",
       "    </tr>\n",
       "    <tr>\n",
       "      <th>Mr</th>\n",
       "      <td>0</td>\n",
       "      <td>517</td>\n",
       "    </tr>\n",
       "    <tr>\n",
       "      <th>Mrs</th>\n",
       "      <td>125</td>\n",
       "      <td>0</td>\n",
       "    </tr>\n",
       "    <tr>\n",
       "      <th>Ms</th>\n",
       "      <td>1</td>\n",
       "      <td>0</td>\n",
       "    </tr>\n",
       "    <tr>\n",
       "      <th>Rev</th>\n",
       "      <td>0</td>\n",
       "      <td>6</td>\n",
       "    </tr>\n",
       "    <tr>\n",
       "      <th>Sir</th>\n",
       "      <td>0</td>\n",
       "      <td>1</td>\n",
       "    </tr>\n",
       "  </tbody>\n",
       "</table>\n",
       "</div>"
      ],
      "text/plain": [
       "Sex         0    1\n",
       "Title             \n",
       "Capt        0    1\n",
       "Col         0    2\n",
       "Countess    1    0\n",
       "Don         0    1\n",
       "Dr          1    6\n",
       "Jonkheer    0    1\n",
       "Lady        1    0\n",
       "Major       0    2\n",
       "Master      0   40\n",
       "Miss      182    0\n",
       "Mlle        2    0\n",
       "Mme         1    0\n",
       "Mr          0  517\n",
       "Mrs       125    0\n",
       "Ms          1    0\n",
       "Rev         0    6\n",
       "Sir         0    1"
      ]
     },
     "execution_count": 13,
     "metadata": {},
     "output_type": "execute_result"
    }
   ],
   "source": [
    "pd.crosstab(train['Title'],train['Sex']) #crosstab: 특정 데이터 그룹에 대한 빈도수"
   ]
  },
  {
   "cell_type": "code",
   "execution_count": 14,
   "metadata": {
    "execution": {
     "iopub.execute_input": "2021-06-28T06:02:37.423566Z",
     "iopub.status.busy": "2021-06-28T06:02:37.400640Z",
     "iopub.status.idle": "2021-06-28T06:02:37.430250Z",
     "shell.execute_reply": "2021-06-28T06:02:37.429452Z",
     "shell.execute_reply.started": "2021-06-28T05:52:11.046314Z"
    },
    "papermill": {
     "duration": 0.065918,
     "end_time": "2021-06-28T06:02:37.430396",
     "exception": false,
     "start_time": "2021-06-28T06:02:37.364478",
     "status": "completed"
    },
    "tags": []
   },
   "outputs": [
    {
     "data": {
      "text/html": [
       "<div>\n",
       "<style scoped>\n",
       "    .dataframe tbody tr th:only-of-type {\n",
       "        vertical-align: middle;\n",
       "    }\n",
       "\n",
       "    .dataframe tbody tr th {\n",
       "        vertical-align: top;\n",
       "    }\n",
       "\n",
       "    .dataframe thead th {\n",
       "        text-align: right;\n",
       "    }\n",
       "</style>\n",
       "<table border=\"1\" class=\"dataframe\">\n",
       "  <thead>\n",
       "    <tr style=\"text-align: right;\">\n",
       "      <th></th>\n",
       "      <th>PassengerId</th>\n",
       "      <th>Survived</th>\n",
       "      <th>Pclass</th>\n",
       "      <th>Name</th>\n",
       "      <th>Sex</th>\n",
       "      <th>Age</th>\n",
       "      <th>SibSp</th>\n",
       "      <th>Parch</th>\n",
       "      <th>Ticket</th>\n",
       "      <th>Fare</th>\n",
       "      <th>Cabin</th>\n",
       "      <th>Embarked</th>\n",
       "      <th>Title</th>\n",
       "    </tr>\n",
       "  </thead>\n",
       "  <tbody>\n",
       "    <tr>\n",
       "      <th>0</th>\n",
       "      <td>1</td>\n",
       "      <td>0</td>\n",
       "      <td>3</td>\n",
       "      <td>Braund, Mr. Owen Harris</td>\n",
       "      <td>1</td>\n",
       "      <td>22.0</td>\n",
       "      <td>1</td>\n",
       "      <td>0</td>\n",
       "      <td>A/5 21171</td>\n",
       "      <td>7.2500</td>\n",
       "      <td>NaN</td>\n",
       "      <td>0</td>\n",
       "      <td>1</td>\n",
       "    </tr>\n",
       "    <tr>\n",
       "      <th>1</th>\n",
       "      <td>2</td>\n",
       "      <td>1</td>\n",
       "      <td>1</td>\n",
       "      <td>Cumings, Mrs. John Bradley (Florence Briggs Th...</td>\n",
       "      <td>0</td>\n",
       "      <td>38.0</td>\n",
       "      <td>1</td>\n",
       "      <td>0</td>\n",
       "      <td>PC 17599</td>\n",
       "      <td>71.2833</td>\n",
       "      <td>C85</td>\n",
       "      <td>1</td>\n",
       "      <td>3</td>\n",
       "    </tr>\n",
       "    <tr>\n",
       "      <th>2</th>\n",
       "      <td>3</td>\n",
       "      <td>1</td>\n",
       "      <td>3</td>\n",
       "      <td>Heikkinen, Miss. Laina</td>\n",
       "      <td>0</td>\n",
       "      <td>26.0</td>\n",
       "      <td>0</td>\n",
       "      <td>0</td>\n",
       "      <td>STON/O2. 3101282</td>\n",
       "      <td>7.9250</td>\n",
       "      <td>NaN</td>\n",
       "      <td>0</td>\n",
       "      <td>2</td>\n",
       "    </tr>\n",
       "    <tr>\n",
       "      <th>3</th>\n",
       "      <td>4</td>\n",
       "      <td>1</td>\n",
       "      <td>1</td>\n",
       "      <td>Futrelle, Mrs. Jacques Heath (Lily May Peel)</td>\n",
       "      <td>0</td>\n",
       "      <td>35.0</td>\n",
       "      <td>1</td>\n",
       "      <td>0</td>\n",
       "      <td>113803</td>\n",
       "      <td>53.1000</td>\n",
       "      <td>C123</td>\n",
       "      <td>0</td>\n",
       "      <td>3</td>\n",
       "    </tr>\n",
       "    <tr>\n",
       "      <th>4</th>\n",
       "      <td>5</td>\n",
       "      <td>0</td>\n",
       "      <td>3</td>\n",
       "      <td>Allen, Mr. William Henry</td>\n",
       "      <td>1</td>\n",
       "      <td>35.0</td>\n",
       "      <td>0</td>\n",
       "      <td>0</td>\n",
       "      <td>373450</td>\n",
       "      <td>8.0500</td>\n",
       "      <td>NaN</td>\n",
       "      <td>0</td>\n",
       "      <td>1</td>\n",
       "    </tr>\n",
       "  </tbody>\n",
       "</table>\n",
       "</div>"
      ],
      "text/plain": [
       "   PassengerId  Survived  Pclass  \\\n",
       "0            1         0       3   \n",
       "1            2         1       1   \n",
       "2            3         1       3   \n",
       "3            4         1       1   \n",
       "4            5         0       3   \n",
       "\n",
       "                                                Name  Sex   Age  SibSp  Parch  \\\n",
       "0                            Braund, Mr. Owen Harris    1  22.0      1      0   \n",
       "1  Cumings, Mrs. John Bradley (Florence Briggs Th...    0  38.0      1      0   \n",
       "2                             Heikkinen, Miss. Laina    0  26.0      0      0   \n",
       "3       Futrelle, Mrs. Jacques Heath (Lily May Peel)    0  35.0      1      0   \n",
       "4                           Allen, Mr. William Henry    1  35.0      0      0   \n",
       "\n",
       "             Ticket     Fare Cabin  Embarked  Title  \n",
       "0         A/5 21171   7.2500   NaN         0      1  \n",
       "1          PC 17599  71.2833   C85         1      3  \n",
       "2  STON/O2. 3101282   7.9250   NaN         0      2  \n",
       "3            113803  53.1000  C123         0      3  \n",
       "4            373450   8.0500   NaN         0      1  "
      ]
     },
     "execution_count": 14,
     "metadata": {},
     "output_type": "execute_result"
    }
   ],
   "source": [
    "train['Title'] = train['Title'].replace(['Lady', 'Countess','Capt', 'Col',\\\n",
    " \t'Don', 'Dr', 'Major', 'Rev', 'Sir', 'Jonkheer', 'Dona'], 'Rare')\n",
    "train['Title'] = train['Title'].replace('Mlle', 'Miss')\n",
    "train['Title'] = train['Title'].replace('Ms', 'Miss')\n",
    "train['Title'] = train['Title'].replace('Mme', 'Mrs')\n",
    "\n",
    "test['Title'] = test['Title'].replace(['Lady', 'Countess','Capt', 'Col',\\\n",
    " \t'Don', 'Dr', 'Major', 'Rev', 'Sir', 'Jonkheer', 'Dona'], 'Rare')\n",
    "test['Title'] = test['Title'].replace('Mlle', 'Miss')\n",
    "test['Title'] = test['Title'].replace('Ms', 'Miss')\n",
    "test['Title'] = test['Title'].replace('Mme', 'Mrs')\n",
    "\n",
    "title_mapping = {\"Mr\": 1, \"Miss\": 2, \"Mrs\": 3, \"Master\": 4, \"Rare\": 5}\n",
    "all_df = [train, test]\n",
    "for dataset in all_df:\n",
    "    dataset['Title'] = dataset['Title'].map(title_mapping)\n",
    "    dataset['Title'] = dataset['Title'].fillna(0)\n",
    "train.head()"
   ]
  },
  {
   "cell_type": "code",
   "execution_count": 15,
   "metadata": {
    "execution": {
     "iopub.execute_input": "2021-06-28T06:02:37.490495Z",
     "iopub.status.busy": "2021-06-28T06:02:37.488531Z",
     "iopub.status.idle": "2021-06-28T06:02:37.501564Z",
     "shell.execute_reply": "2021-06-28T06:02:37.501012Z",
     "shell.execute_reply.started": "2021-06-28T05:52:21.058957Z"
    },
    "papermill": {
     "duration": 0.044789,
     "end_time": "2021-06-28T06:02:37.501702",
     "exception": false,
     "start_time": "2021-06-28T06:02:37.456913",
     "status": "completed"
    },
    "tags": []
   },
   "outputs": [
    {
     "data": {
      "text/plain": [
       "(   Pclass  SibSp  Parch  Embarked  Sex  Title\n",
       " 0       3      1      0         0    1      1\n",
       " 1       1      1      0         1    0      3\n",
       " 2       3      0      0         0    0      2\n",
       " 3       1      1      0         0    0      3\n",
       " 4       3      0      0         0    1      1,\n",
       " 0    0\n",
       " 1    1\n",
       " 2    1\n",
       " 3    1\n",
       " 4    0\n",
       " Name: Survived, dtype: int64,\n",
       "    Pclass  SibSp  Parch  Embarked  Sex  Title\n",
       " 0       3      0      0         2    1      1\n",
       " 1       3      1      0         0    0      3\n",
       " 2       2      0      0         2    1      1\n",
       " 3       3      0      0         0    1      1\n",
       " 4       3      1      1         0    0      3)"
      ]
     },
     "execution_count": 15,
     "metadata": {},
     "output_type": "execute_result"
    }
   ],
   "source": [
    "sel1=['Pclass','SibSp','Parch','Embarked','Sex','Title']\n",
    "X_train=train[sel1] #대문자 2차원데이터\n",
    "y_train=train['Survived'] #소문자 1차원데이터\n",
    "\n",
    "X_test=test[sel1]\n",
    "\n",
    "X_train.head(),y_train.head(),X_test.head()"
   ]
  },
  {
   "cell_type": "code",
   "execution_count": 16,
   "metadata": {
    "execution": {
     "iopub.execute_input": "2021-06-28T06:02:37.558859Z",
     "iopub.status.busy": "2021-06-28T06:02:37.558134Z",
     "iopub.status.idle": "2021-06-28T06:02:37.560713Z",
     "shell.execute_reply": "2021-06-28T06:02:37.561241Z"
    },
    "papermill": {
     "duration": 0.033611,
     "end_time": "2021-06-28T06:02:37.561411",
     "exception": false,
     "start_time": "2021-06-28T06:02:37.527800",
     "status": "completed"
    },
    "tags": []
   },
   "outputs": [],
   "source": [
    "#머신러닝 모델 객체 만들기>모델 훈련시키기>훈련 시킨 모델로 예측하기"
   ]
  },
  {
   "cell_type": "code",
   "execution_count": 17,
   "metadata": {
    "execution": {
     "iopub.execute_input": "2021-06-28T06:02:37.619022Z",
     "iopub.status.busy": "2021-06-28T06:02:37.618226Z",
     "iopub.status.idle": "2021-06-28T06:02:38.882620Z",
     "shell.execute_reply": "2021-06-28T06:02:38.883112Z",
     "shell.execute_reply.started": "2021-06-28T05:52:25.416780Z"
    },
    "papermill": {
     "duration": 1.295414,
     "end_time": "2021-06-28T06:02:38.883292",
     "exception": false,
     "start_time": "2021-06-28T06:02:37.587878",
     "status": "completed"
    },
    "tags": []
   },
   "outputs": [],
   "source": [
    "from sklearn.tree import DecisionTreeClassifier"
   ]
  },
  {
   "cell_type": "code",
   "execution_count": 18,
   "metadata": {
    "execution": {
     "iopub.execute_input": "2021-06-28T06:02:38.942457Z",
     "iopub.status.busy": "2021-06-28T06:02:38.941767Z",
     "iopub.status.idle": "2021-06-28T06:02:38.947796Z",
     "shell.execute_reply": "2021-06-28T06:02:38.947268Z",
     "shell.execute_reply.started": "2021-06-28T05:52:27.482123Z"
    },
    "papermill": {
     "duration": 0.038614,
     "end_time": "2021-06-28T06:02:38.947944",
     "exception": false,
     "start_time": "2021-06-28T06:02:38.909330",
     "status": "completed"
    },
    "tags": []
   },
   "outputs": [],
   "source": [
    "tree=DecisionTreeClassifier() #머신러닝 모델 객체 만들기\n",
    "tree.fit(X_train, y_train) #모델 훈련시키기\n",
    "pred=tree.predict(X_test) #훈련 시킨 모델로 예측하기"
   ]
  },
  {
   "cell_type": "code",
   "execution_count": 21,
   "metadata": {
    "execution": {
     "iopub.execute_input": "2021-06-28T06:02:39.003591Z",
     "iopub.status.busy": "2021-06-28T06:02:39.002582Z",
     "iopub.status.idle": "2021-06-28T06:02:39.021935Z",
     "shell.execute_reply": "2021-06-28T06:02:39.021354Z",
     "shell.execute_reply.started": "2021-06-28T05:52:33.519768Z"
    },
    "papermill": {
     "duration": 0.04813,
     "end_time": "2021-06-28T06:02:39.022110",
     "exception": false,
     "start_time": "2021-06-28T06:02:38.973980",
     "status": "completed"
    },
    "tags": []
   },
   "outputs": [],
   "source": [
    "#캐글제출\n",
    "sub=pd.read_csv(\"../gender_submission.csv\")\n",
    "sub['Survived']=pred\n",
    "sub.to_csv('first_sub_age_parch_embarked_sex_title.csv',index=False)"
   ]
  },
  {
   "cell_type": "code",
   "execution_count": 22,
   "metadata": {
    "execution": {
     "iopub.execute_input": "2021-06-28T06:02:39.085495Z",
     "iopub.status.busy": "2021-06-28T06:02:39.084549Z",
     "iopub.status.idle": "2021-06-28T06:02:39.088895Z",
     "shell.execute_reply": "2021-06-28T06:02:39.088242Z",
     "shell.execute_reply.started": "2021-06-28T05:52:34.266099Z"
    },
    "papermill": {
     "duration": 0.040418,
     "end_time": "2021-06-28T06:02:39.089035",
     "exception": false,
     "start_time": "2021-06-28T06:02:39.048617",
     "status": "completed"
    },
    "tags": []
   },
   "outputs": [
    {
     "data": {
      "text/html": [
       "<div>\n",
       "<style scoped>\n",
       "    .dataframe tbody tr th:only-of-type {\n",
       "        vertical-align: middle;\n",
       "    }\n",
       "\n",
       "    .dataframe tbody tr th {\n",
       "        vertical-align: top;\n",
       "    }\n",
       "\n",
       "    .dataframe thead th {\n",
       "        text-align: right;\n",
       "    }\n",
       "</style>\n",
       "<table border=\"1\" class=\"dataframe\">\n",
       "  <thead>\n",
       "    <tr style=\"text-align: right;\">\n",
       "      <th></th>\n",
       "      <th>PassengerId</th>\n",
       "      <th>Survived</th>\n",
       "    </tr>\n",
       "  </thead>\n",
       "  <tbody>\n",
       "    <tr>\n",
       "      <th>0</th>\n",
       "      <td>892</td>\n",
       "      <td>0</td>\n",
       "    </tr>\n",
       "    <tr>\n",
       "      <th>1</th>\n",
       "      <td>893</td>\n",
       "      <td>0</td>\n",
       "    </tr>\n",
       "    <tr>\n",
       "      <th>2</th>\n",
       "      <td>894</td>\n",
       "      <td>0</td>\n",
       "    </tr>\n",
       "    <tr>\n",
       "      <th>3</th>\n",
       "      <td>895</td>\n",
       "      <td>0</td>\n",
       "    </tr>\n",
       "    <tr>\n",
       "      <th>4</th>\n",
       "      <td>896</td>\n",
       "      <td>0</td>\n",
       "    </tr>\n",
       "    <tr>\n",
       "      <th>...</th>\n",
       "      <td>...</td>\n",
       "      <td>...</td>\n",
       "    </tr>\n",
       "    <tr>\n",
       "      <th>413</th>\n",
       "      <td>1305</td>\n",
       "      <td>0</td>\n",
       "    </tr>\n",
       "    <tr>\n",
       "      <th>414</th>\n",
       "      <td>1306</td>\n",
       "      <td>1</td>\n",
       "    </tr>\n",
       "    <tr>\n",
       "      <th>415</th>\n",
       "      <td>1307</td>\n",
       "      <td>0</td>\n",
       "    </tr>\n",
       "    <tr>\n",
       "      <th>416</th>\n",
       "      <td>1308</td>\n",
       "      <td>0</td>\n",
       "    </tr>\n",
       "    <tr>\n",
       "      <th>417</th>\n",
       "      <td>1309</td>\n",
       "      <td>1</td>\n",
       "    </tr>\n",
       "  </tbody>\n",
       "</table>\n",
       "<p>418 rows × 2 columns</p>\n",
       "</div>"
      ],
      "text/plain": [
       "     PassengerId  Survived\n",
       "0            892         0\n",
       "1            893         0\n",
       "2            894         0\n",
       "3            895         0\n",
       "4            896         0\n",
       "..           ...       ...\n",
       "413         1305         0\n",
       "414         1306         1\n",
       "415         1307         0\n",
       "416         1308         0\n",
       "417         1309         1\n",
       "\n",
       "[418 rows x 2 columns]"
      ]
     },
     "execution_count": 22,
     "metadata": {},
     "output_type": "execute_result"
    }
   ],
   "source": [
    "sub"
   ]
  }
 ],
 "metadata": {
  "kernelspec": {
   "display_name": "Python 3",
   "language": "python",
   "name": "python3"
  },
  "language_info": {
   "codemirror_mode": {
    "name": "ipython",
    "version": 3
   },
   "file_extension": ".py",
   "mimetype": "text/x-python",
   "name": "python",
   "nbconvert_exporter": "python",
   "pygments_lexer": "ipython3",
   "version": "3.8.5"
  },
  "papermill": {
   "default_parameters": {},
   "duration": 12.905435,
   "end_time": "2021-06-28T06:02:40.701672",
   "environment_variables": {},
   "exception": null,
   "input_path": "__notebook__.ipynb",
   "output_path": "__notebook__.ipynb",
   "parameters": {},
   "start_time": "2021-06-28T06:02:27.796237",
   "version": "2.3.3"
  }
 },
 "nbformat": 4,
 "nbformat_minor": 5
}
