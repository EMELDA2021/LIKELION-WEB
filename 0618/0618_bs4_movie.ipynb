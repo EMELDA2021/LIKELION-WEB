{
 "cells": [
  {
   "cell_type": "code",
   "execution_count": 1,
   "metadata": {},
   "outputs": [],
   "source": [
    "from bs4 import BeautifulSoup\n",
    "from urllib.request import urlopen"
   ]
  },
  {
   "cell_type": "code",
   "execution_count": 3,
   "metadata": {},
   "outputs": [],
   "source": [
    "url=\"https://movie.naver.com/movie/running/current.nhn\"\n",
    "page=urlopen(url)\n",
    "soup=BeautifulSoup(page,'lxml')"
   ]
  },
  {
   "cell_type": "code",
   "execution_count": 4,
   "metadata": {},
   "outputs": [
    {
     "data": {
      "text/plain": [
       "130"
      ]
     },
     "execution_count": 4,
     "metadata": {},
     "output_type": "execute_result"
    }
   ],
   "source": [
    "soup_ul_li=soup.find('ul',class_='lst_detail_t1').find_all('li')\n",
    "len(soup_ul_li)"
   ]
  },
  {
   "cell_type": "markdown",
   "metadata": {},
   "source": [
    "제목가져오기"
   ]
  },
  {
   "cell_type": "code",
   "execution_count": 7,
   "metadata": {},
   "outputs": [
    {
     "data": {
      "text/plain": [
       "'크루엘라'"
      ]
     },
     "execution_count": 7,
     "metadata": {},
     "output_type": "execute_result"
    }
   ],
   "source": [
    "soup_ul_li[0].find('dt',class_='tit').a.text"
   ]
  },
  {
   "cell_type": "markdown",
   "metadata": {},
   "source": [
    "평점가져오기"
   ]
  },
  {
   "cell_type": "code",
   "execution_count": 10,
   "metadata": {},
   "outputs": [
    {
     "data": {
      "text/plain": [
       "'9.33'"
      ]
     },
     "execution_count": 10,
     "metadata": {},
     "output_type": "execute_result"
    }
   ],
   "source": [
    "soup_ul_li[0].find('span',class_='num').text"
   ]
  },
  {
   "cell_type": "markdown",
   "metadata": {},
   "source": [
    "예매율(평점과 span.class_='num' 동일함 > 더 상위개념으로 찾기)"
   ]
  },
  {
   "cell_type": "code",
   "execution_count": 12,
   "metadata": {},
   "outputs": [
    {
     "data": {
      "text/plain": [
       "'19.64'"
      ]
     },
     "execution_count": 12,
     "metadata": {},
     "output_type": "execute_result"
    }
   ],
   "source": [
    "soup_ul_li[0].find('dl',class_='info_exp').span.text"
   ]
  },
  {
   "cell_type": "code",
   "execution_count": 22,
   "metadata": {},
   "outputs": [
    {
     "ename": "AttributeError",
     "evalue": "'NoneType' object has no attribute 'span'",
     "output_type": "error",
     "traceback": [
      "\u001b[1;31m---------------------------------------------------------------------------\u001b[0m",
      "\u001b[1;31mAttributeError\u001b[0m                            Traceback (most recent call last)",
      "\u001b[1;32m<ipython-input-22-5e0364aed1fa>\u001b[0m in \u001b[0;36m<module>\u001b[1;34m\u001b[0m\n\u001b[1;32m----> 1\u001b[1;33m \u001b[0msoup_ul_li\u001b[0m\u001b[1;33m[\u001b[0m\u001b[1;36m129\u001b[0m\u001b[1;33m]\u001b[0m\u001b[1;33m.\u001b[0m\u001b[0mfind\u001b[0m\u001b[1;33m(\u001b[0m\u001b[1;34m'dl'\u001b[0m\u001b[1;33m,\u001b[0m\u001b[0mclass_\u001b[0m\u001b[1;33m=\u001b[0m\u001b[1;34m'info_exp'\u001b[0m\u001b[1;33m)\u001b[0m\u001b[1;33m.\u001b[0m\u001b[0mspan\u001b[0m\u001b[1;33m.\u001b[0m\u001b[0mtext\u001b[0m\u001b[1;33m\u001b[0m\u001b[1;33m\u001b[0m\u001b[0m\n\u001b[0m",
      "\u001b[1;31mAttributeError\u001b[0m: 'NoneType' object has no attribute 'span'"
     ]
    }
   ],
   "source": [
    "soup_ul_li[129].find('dl',class_='info_exp').span.text"
   ]
  },
  {
   "cell_type": "markdown",
   "metadata": {},
   "source": [
    "모으기"
   ]
  },
  {
   "cell_type": "code",
   "execution_count": 34,
   "metadata": {},
   "outputs": [
    {
     "name": "stdout",
     "output_type": "stream",
     "text": [
      "130\n",
      "130\n",
      "130\n",
      "130\n",
      "130\n"
     ]
    }
   ],
   "source": [
    "soup_ul_li=soup.find('ul',class_='lst_detail_t1').find_all('li')\n",
    "all_title=[]\n",
    "all_score=[]\n",
    "all_people=[]\n",
    "all_rate=[]\n",
    "all_director=[]\n",
    "\n",
    "for one in soup_ul_li:\n",
    "    one_title=one.find('dt',class_='tit').a.text\n",
    "    one_score=one.find('span',class_='num').text\n",
    "    one_people=one.find('em').text\n",
    "    \n",
    "    tmp_rate=one.find('dl',class_='info_exp')\n",
    "    if tmp_rate is not None:\n",
    "        one_rate=one.find('dl',class_='info_exp').span.text\n",
    "    else:\n",
    "        one_rate='0'\n",
    "    \n",
    "    one_director=one.find('dl', class_=\"info_txt1\").find_all(\"dd\")[1].text.strip()\n",
    "    one_director = one_director.translate(  { ord('\\n'):\"\", ord('\\r'):\"\", ord('\\t'):\"\"} )\n",
    "    \n",
    "    all_title.append(one_title)\n",
    "    all_score.append(one_score)\n",
    "    all_people.append(one_people)\n",
    "    all_rate.append(one_rate)\n",
    "    all_director.append(one_director)\n",
    "\n",
    "print(len(all_title))\n",
    "print(len(all_score))\n",
    "print(len(all_people))\n",
    "print(len(all_rate))\n",
    "print(len(all_director))"
   ]
  },
  {
   "cell_type": "markdown",
   "metadata": {},
   "source": [
    "영화감독"
   ]
  },
  {
   "cell_type": "code",
   "execution_count": 30,
   "metadata": {},
   "outputs": [
    {
     "data": {
      "text/plain": [
       "'크레이그 질레스피'"
      ]
     },
     "execution_count": 30,
     "metadata": {},
     "output_type": "execute_result"
    }
   ],
   "source": [
    "soup_ul_li[0].find('dl', class_=\"info_txt1\").find_all(\"dd\")[1].text.strip()"
   ]
  },
  {
   "cell_type": "markdown",
   "metadata": {},
   "source": [
    "4-6 github_프로젝트(개봉 예정 영화)\n",
    "파일 만들고 구분 단락 하나(최신 섹션)을 선택하여 제목을 가져와보기\n",
    "github commit하기"
   ]
  },
  {
   "cell_type": "markdown",
   "metadata": {},
   "source": [
    "class=\"lst_dsc\""
   ]
  },
  {
   "cell_type": "code",
   "execution_count": 39,
   "metadata": {},
   "outputs": [],
   "source": [
    "url1=\"https://movie.naver.com/movie/running/premovie.nhn\"\n",
    "page=urlopen(url1)\n",
    "soup=BeautifulSoup(page,'lxml')"
   ]
  },
  {
   "cell_type": "code",
   "execution_count": 47,
   "metadata": {},
   "outputs": [
    {
     "data": {
      "text/plain": [
       "'2046'"
      ]
     },
     "execution_count": 47,
     "metadata": {},
     "output_type": "execute_result"
    }
   ],
   "source": [
    "soup_new=soup.find('dl',class_='lst_dsc')\n",
    "title=soup_new.find('dt',class_='tit').a.text\n",
    "title"
   ]
  },
  {
   "cell_type": "code",
   "execution_count": 49,
   "metadata": {},
   "outputs": [
    {
     "data": {
      "text/plain": [
       "'7.62'"
      ]
     },
     "execution_count": 49,
     "metadata": {},
     "output_type": "execute_result"
    }
   ],
   "source": [
    "rank=soup_new.find('span',class_='num').text\n",
    "rank"
   ]
  },
  {
   "cell_type": "code",
   "execution_count": 57,
   "metadata": {},
   "outputs": [
    {
     "data": {
      "text/plain": [
       "'왕가위'"
      ]
     },
     "execution_count": 57,
     "metadata": {},
     "output_type": "execute_result"
    }
   ],
   "source": [
    "director=soup_new.find('dl',class_=\"info_txt1\").find_all('dd')[1].a.text\n",
    "director"
   ]
  },
  {
   "cell_type": "code",
   "execution_count": 58,
   "metadata": {},
   "outputs": [
    {
     "name": "stdout",
     "output_type": "stream",
     "text": [
      "개봉예정 영화: 제목은 2046, 네티즌 평가는 7.62, 영화감독은 왕가위입니다.\n"
     ]
    }
   ],
   "source": [
    "print(f\"개봉예정 영화: 제목은 {title}, 네티즌 평가는 {rank}, 영화감독은 {director}입니다.\")"
   ]
  },
  {
   "cell_type": "code",
   "execution_count": null,
   "metadata": {},
   "outputs": [],
   "source": []
  }
 ],
 "metadata": {
  "kernelspec": {
   "display_name": "Python 3",
   "language": "python",
   "name": "python3"
  },
  "language_info": {
   "codemirror_mode": {
    "name": "ipython",
    "version": 3
   },
   "file_extension": ".py",
   "mimetype": "text/x-python",
   "name": "python",
   "nbconvert_exporter": "python",
   "pygments_lexer": "ipython3",
   "version": "3.8.5"
  }
 },
 "nbformat": 4,
 "nbformat_minor": 4
}
