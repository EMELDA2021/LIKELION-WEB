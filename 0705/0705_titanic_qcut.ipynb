{
 "cells": [
  {
   "cell_type": "code",
   "execution_count": 1,
   "metadata": {
    "_cell_guid": "b1076dfc-b9ad-4769-8c92-a6c4dae69d19",
    "_uuid": "8f2839f25d086af736a60e9eeb907d3b93b6e0e5",
    "execution": {
     "iopub.execute_input": "2021-07-05T10:29:19.184814Z",
     "iopub.status.busy": "2021-07-05T10:29:19.183597Z",
     "iopub.status.idle": "2021-07-05T10:29:19.197194Z",
     "shell.execute_reply": "2021-07-05T10:29:19.196540Z",
     "shell.execute_reply.started": "2021-07-05T10:28:21.889174Z"
    },
    "papermill": {
     "duration": 0.070461,
     "end_time": "2021-07-05T10:29:19.197392",
     "exception": false,
     "start_time": "2021-07-05T10:29:19.126931",
     "status": "completed"
    },
    "tags": []
   },
   "outputs": [],
   "source": [
    "# This Python 3 environment comes with many helpful analytics libraries installed\n",
    "# It is defined by the kaggle/python Docker image: https://github.com/kaggle/docker-python\n",
    "# For example, here's several helpful packages to load\n",
    "\n",
    "import numpy as np # linear algebra\n",
    "import pandas as pd # data processing, CSV file I/O (e.g. pd.read_csv)\n",
    "\n",
    "# Input data files are available in the read-only \"../input/\" directory\n",
    "# For example, running this (by clicking run or pressing Shift+Enter) will list all files under the input directory\n",
    "\n",
    "import os\n",
    "for dirname, _, filenames in os.walk('/kaggle/input'):\n",
    "    for filename in filenames:\n",
    "        print(os.path.join(dirname, filename))\n",
    "\n",
    "# You can write up to 20GB to the current directory (/kaggle/working/) that gets preserved as output when you create a version using \"Save & Run All\" \n",
    "# You can also write temporary files to /kaggle/temp/, but they won't be saved outside of the current session"
   ]
  },
  {
   "cell_type": "code",
   "execution_count": 2,
   "metadata": {
    "execution": {
     "iopub.execute_input": "2021-07-05T10:29:19.307839Z",
     "iopub.status.busy": "2021-07-05T10:29:19.307201Z",
     "iopub.status.idle": "2021-07-05T10:29:19.339035Z",
     "shell.execute_reply": "2021-07-05T10:29:19.339621Z",
     "shell.execute_reply.started": "2021-07-05T10:28:21.905021Z"
    },
    "papermill": {
     "duration": 0.089978,
     "end_time": "2021-07-05T10:29:19.339883",
     "exception": false,
     "start_time": "2021-07-05T10:29:19.249905",
     "status": "completed"
    },
    "tags": []
   },
   "outputs": [],
   "source": [
    "train=pd.read_csv('../train.csv')\n",
    "test=pd.read_csv('../test.csv')"
   ]
  },
  {
   "cell_type": "code",
   "execution_count": 3,
   "metadata": {
    "execution": {
     "iopub.execute_input": "2021-07-05T10:29:19.451023Z",
     "iopub.status.busy": "2021-07-05T10:29:19.450012Z",
     "iopub.status.idle": "2021-07-05T10:29:19.460786Z",
     "shell.execute_reply": "2021-07-05T10:29:19.461276Z",
     "shell.execute_reply.started": "2021-07-05T10:28:21.933676Z"
    },
    "papermill": {
     "duration": 0.069509,
     "end_time": "2021-07-05T10:29:19.461512",
     "exception": false,
     "start_time": "2021-07-05T10:29:19.392003",
     "status": "completed"
    },
    "tags": []
   },
   "outputs": [
    {
     "name": "stdout",
     "output_type": "stream",
     "text": [
      "PassengerId      0\n",
      "Survived         0\n",
      "Pclass           0\n",
      "Name             0\n",
      "Sex              0\n",
      "Age            177\n",
      "SibSp            0\n",
      "Parch            0\n",
      "Ticket           0\n",
      "Fare             0\n",
      "Cabin          687\n",
      "Embarked         2\n",
      "dtype: int64\n"
     ]
    }
   ],
   "source": [
    "print(train.isnull().sum())"
   ]
  },
  {
   "cell_type": "code",
   "execution_count": 4,
   "metadata": {
    "execution": {
     "iopub.execute_input": "2021-07-05T10:29:19.575600Z",
     "iopub.status.busy": "2021-07-05T10:29:19.574707Z",
     "iopub.status.idle": "2021-07-05T10:29:19.579028Z",
     "shell.execute_reply": "2021-07-05T10:29:19.579498Z",
     "shell.execute_reply.started": "2021-07-05T10:28:21.946732Z"
    },
    "papermill": {
     "duration": 0.066019,
     "end_time": "2021-07-05T10:29:19.579702",
     "exception": false,
     "start_time": "2021-07-05T10:29:19.513683",
     "status": "completed"
    },
    "tags": []
   },
   "outputs": [
    {
     "name": "stdout",
     "output_type": "stream",
     "text": [
      "PassengerId      0\n",
      "Pclass           0\n",
      "Name             0\n",
      "Sex              0\n",
      "Age             86\n",
      "SibSp            0\n",
      "Parch            0\n",
      "Ticket           0\n",
      "Fare             1\n",
      "Cabin          327\n",
      "Embarked         0\n",
      "dtype: int64\n"
     ]
    }
   ],
   "source": [
    "print(test.isnull().sum())"
   ]
  },
  {
   "cell_type": "code",
   "execution_count": 5,
   "metadata": {
    "execution": {
     "iopub.execute_input": "2021-07-05T10:29:19.710686Z",
     "iopub.status.busy": "2021-07-05T10:29:19.709926Z",
     "iopub.status.idle": "2021-07-05T10:29:19.714469Z",
     "shell.execute_reply": "2021-07-05T10:29:19.713924Z",
     "shell.execute_reply.started": "2021-07-05T10:28:21.962161Z"
    },
    "papermill": {
     "duration": 0.08257,
     "end_time": "2021-07-05T10:29:19.714639",
     "exception": false,
     "start_time": "2021-07-05T10:29:19.632069",
     "status": "completed"
    },
    "tags": []
   },
   "outputs": [
    {
     "name": "stdout",
     "output_type": "stream",
     "text": [
      "<class 'pandas.core.frame.DataFrame'>\n",
      "RangeIndex: 891 entries, 0 to 890\n",
      "Data columns (total 12 columns):\n",
      " #   Column       Non-Null Count  Dtype  \n",
      "---  ------       --------------  -----  \n",
      " 0   PassengerId  891 non-null    int64  \n",
      " 1   Survived     891 non-null    int64  \n",
      " 2   Pclass       891 non-null    int64  \n",
      " 3   Name         891 non-null    object \n",
      " 4   Sex          891 non-null    object \n",
      " 5   Age          714 non-null    float64\n",
      " 6   SibSp        891 non-null    int64  \n",
      " 7   Parch        891 non-null    int64  \n",
      " 8   Ticket       891 non-null    object \n",
      " 9   Fare         891 non-null    float64\n",
      " 10  Cabin        204 non-null    object \n",
      " 11  Embarked     889 non-null    object \n",
      "dtypes: float64(2), int64(5), object(5)\n",
      "memory usage: 83.7+ KB\n"
     ]
    }
   ],
   "source": [
    "train.info()"
   ]
  },
  {
   "cell_type": "code",
   "execution_count": 6,
   "metadata": {
    "execution": {
     "iopub.execute_input": "2021-07-05T10:29:19.840181Z",
     "iopub.status.busy": "2021-07-05T10:29:19.839380Z",
     "iopub.status.idle": "2021-07-05T10:29:19.843417Z",
     "shell.execute_reply": "2021-07-05T10:29:19.842765Z",
     "shell.execute_reply.started": "2021-07-05T10:28:21.988496Z"
    },
    "papermill": {
     "duration": 0.075721,
     "end_time": "2021-07-05T10:29:19.843596",
     "exception": false,
     "start_time": "2021-07-05T10:29:19.767875",
     "status": "completed"
    },
    "tags": []
   },
   "outputs": [
    {
     "name": "stdout",
     "output_type": "stream",
     "text": [
      "<class 'pandas.core.frame.DataFrame'>\n",
      "RangeIndex: 418 entries, 0 to 417\n",
      "Data columns (total 11 columns):\n",
      " #   Column       Non-Null Count  Dtype  \n",
      "---  ------       --------------  -----  \n",
      " 0   PassengerId  418 non-null    int64  \n",
      " 1   Pclass       418 non-null    int64  \n",
      " 2   Name         418 non-null    object \n",
      " 3   Sex          418 non-null    object \n",
      " 4   Age          332 non-null    float64\n",
      " 5   SibSp        418 non-null    int64  \n",
      " 6   Parch        418 non-null    int64  \n",
      " 7   Ticket       418 non-null    object \n",
      " 8   Fare         417 non-null    float64\n",
      " 9   Cabin        91 non-null     object \n",
      " 10  Embarked     418 non-null    object \n",
      "dtypes: float64(2), int64(4), object(5)\n",
      "memory usage: 36.0+ KB\n"
     ]
    }
   ],
   "source": [
    "test.info()"
   ]
  },
  {
   "cell_type": "code",
   "execution_count": 7,
   "metadata": {
    "execution": {
     "iopub.execute_input": "2021-07-05T10:29:19.961117Z",
     "iopub.status.busy": "2021-07-05T10:29:19.959984Z",
     "iopub.status.idle": "2021-07-05T10:29:19.984994Z",
     "shell.execute_reply": "2021-07-05T10:29:19.984302Z",
     "shell.execute_reply.started": "2021-07-05T10:28:22.017787Z"
    },
    "papermill": {
     "duration": 0.087126,
     "end_time": "2021-07-05T10:29:19.985152",
     "exception": false,
     "start_time": "2021-07-05T10:29:19.898026",
     "status": "completed"
    },
    "tags": []
   },
   "outputs": [
    {
     "data": {
      "text/html": [
       "<div>\n",
       "<style scoped>\n",
       "    .dataframe tbody tr th:only-of-type {\n",
       "        vertical-align: middle;\n",
       "    }\n",
       "\n",
       "    .dataframe tbody tr th {\n",
       "        vertical-align: top;\n",
       "    }\n",
       "\n",
       "    .dataframe thead th {\n",
       "        text-align: right;\n",
       "    }\n",
       "</style>\n",
       "<table border=\"1\" class=\"dataframe\">\n",
       "  <thead>\n",
       "    <tr style=\"text-align: right;\">\n",
       "      <th></th>\n",
       "      <th>PassengerId</th>\n",
       "      <th>Survived</th>\n",
       "      <th>Pclass</th>\n",
       "      <th>Name</th>\n",
       "      <th>Sex</th>\n",
       "      <th>Age</th>\n",
       "      <th>SibSp</th>\n",
       "      <th>Parch</th>\n",
       "      <th>Ticket</th>\n",
       "      <th>Fare</th>\n",
       "      <th>Cabin</th>\n",
       "      <th>Embarked</th>\n",
       "    </tr>\n",
       "  </thead>\n",
       "  <tbody>\n",
       "    <tr>\n",
       "      <th>0</th>\n",
       "      <td>1</td>\n",
       "      <td>0</td>\n",
       "      <td>3</td>\n",
       "      <td>Braund, Mr. Owen Harris</td>\n",
       "      <td>male</td>\n",
       "      <td>22.0</td>\n",
       "      <td>1</td>\n",
       "      <td>0</td>\n",
       "      <td>A/5 21171</td>\n",
       "      <td>7.2500</td>\n",
       "      <td>NaN</td>\n",
       "      <td>S</td>\n",
       "    </tr>\n",
       "    <tr>\n",
       "      <th>1</th>\n",
       "      <td>2</td>\n",
       "      <td>1</td>\n",
       "      <td>1</td>\n",
       "      <td>Cumings, Mrs. John Bradley (Florence Briggs Th...</td>\n",
       "      <td>female</td>\n",
       "      <td>38.0</td>\n",
       "      <td>1</td>\n",
       "      <td>0</td>\n",
       "      <td>PC 17599</td>\n",
       "      <td>71.2833</td>\n",
       "      <td>C85</td>\n",
       "      <td>C</td>\n",
       "    </tr>\n",
       "    <tr>\n",
       "      <th>2</th>\n",
       "      <td>3</td>\n",
       "      <td>1</td>\n",
       "      <td>3</td>\n",
       "      <td>Heikkinen, Miss. Laina</td>\n",
       "      <td>female</td>\n",
       "      <td>26.0</td>\n",
       "      <td>0</td>\n",
       "      <td>0</td>\n",
       "      <td>STON/O2. 3101282</td>\n",
       "      <td>7.9250</td>\n",
       "      <td>NaN</td>\n",
       "      <td>S</td>\n",
       "    </tr>\n",
       "    <tr>\n",
       "      <th>3</th>\n",
       "      <td>4</td>\n",
       "      <td>1</td>\n",
       "      <td>1</td>\n",
       "      <td>Futrelle, Mrs. Jacques Heath (Lily May Peel)</td>\n",
       "      <td>female</td>\n",
       "      <td>35.0</td>\n",
       "      <td>1</td>\n",
       "      <td>0</td>\n",
       "      <td>113803</td>\n",
       "      <td>53.1000</td>\n",
       "      <td>C123</td>\n",
       "      <td>S</td>\n",
       "    </tr>\n",
       "    <tr>\n",
       "      <th>4</th>\n",
       "      <td>5</td>\n",
       "      <td>0</td>\n",
       "      <td>3</td>\n",
       "      <td>Allen, Mr. William Henry</td>\n",
       "      <td>male</td>\n",
       "      <td>35.0</td>\n",
       "      <td>0</td>\n",
       "      <td>0</td>\n",
       "      <td>373450</td>\n",
       "      <td>8.0500</td>\n",
       "      <td>NaN</td>\n",
       "      <td>S</td>\n",
       "    </tr>\n",
       "  </tbody>\n",
       "</table>\n",
       "</div>"
      ],
      "text/plain": [
       "   PassengerId  Survived  Pclass  \\\n",
       "0            1         0       3   \n",
       "1            2         1       1   \n",
       "2            3         1       3   \n",
       "3            4         1       1   \n",
       "4            5         0       3   \n",
       "\n",
       "                                                Name     Sex   Age  SibSp  \\\n",
       "0                            Braund, Mr. Owen Harris    male  22.0      1   \n",
       "1  Cumings, Mrs. John Bradley (Florence Briggs Th...  female  38.0      1   \n",
       "2                             Heikkinen, Miss. Laina  female  26.0      0   \n",
       "3       Futrelle, Mrs. Jacques Heath (Lily May Peel)  female  35.0      1   \n",
       "4                           Allen, Mr. William Henry    male  35.0      0   \n",
       "\n",
       "   Parch            Ticket     Fare Cabin Embarked  \n",
       "0      0         A/5 21171   7.2500   NaN        S  \n",
       "1      0          PC 17599  71.2833   C85        C  \n",
       "2      0  STON/O2. 3101282   7.9250   NaN        S  \n",
       "3      0            113803  53.1000  C123        S  \n",
       "4      0            373450   8.0500   NaN        S  "
      ]
     },
     "execution_count": 7,
     "metadata": {},
     "output_type": "execute_result"
    }
   ],
   "source": [
    "train.head()"
   ]
  },
  {
   "cell_type": "code",
   "execution_count": 8,
   "metadata": {
    "execution": {
     "iopub.execute_input": "2021-07-05T10:29:20.113227Z",
     "iopub.status.busy": "2021-07-05T10:29:20.112230Z",
     "iopub.status.idle": "2021-07-05T10:29:20.116835Z",
     "shell.execute_reply": "2021-07-05T10:29:20.116169Z",
     "shell.execute_reply.started": "2021-07-05T10:28:22.043970Z"
    },
    "papermill": {
     "duration": 0.077151,
     "end_time": "2021-07-05T10:29:20.116996",
     "exception": false,
     "start_time": "2021-07-05T10:29:20.039845",
     "status": "completed"
    },
    "tags": []
   },
   "outputs": [
    {
     "data": {
      "text/html": [
       "<div>\n",
       "<style scoped>\n",
       "    .dataframe tbody tr th:only-of-type {\n",
       "        vertical-align: middle;\n",
       "    }\n",
       "\n",
       "    .dataframe tbody tr th {\n",
       "        vertical-align: top;\n",
       "    }\n",
       "\n",
       "    .dataframe thead th {\n",
       "        text-align: right;\n",
       "    }\n",
       "</style>\n",
       "<table border=\"1\" class=\"dataframe\">\n",
       "  <thead>\n",
       "    <tr style=\"text-align: right;\">\n",
       "      <th></th>\n",
       "      <th>PassengerId</th>\n",
       "      <th>Pclass</th>\n",
       "      <th>Name</th>\n",
       "      <th>Sex</th>\n",
       "      <th>Age</th>\n",
       "      <th>SibSp</th>\n",
       "      <th>Parch</th>\n",
       "      <th>Ticket</th>\n",
       "      <th>Fare</th>\n",
       "      <th>Cabin</th>\n",
       "      <th>Embarked</th>\n",
       "    </tr>\n",
       "  </thead>\n",
       "  <tbody>\n",
       "    <tr>\n",
       "      <th>0</th>\n",
       "      <td>892</td>\n",
       "      <td>3</td>\n",
       "      <td>Kelly, Mr. James</td>\n",
       "      <td>male</td>\n",
       "      <td>34.5</td>\n",
       "      <td>0</td>\n",
       "      <td>0</td>\n",
       "      <td>330911</td>\n",
       "      <td>7.8292</td>\n",
       "      <td>NaN</td>\n",
       "      <td>Q</td>\n",
       "    </tr>\n",
       "    <tr>\n",
       "      <th>1</th>\n",
       "      <td>893</td>\n",
       "      <td>3</td>\n",
       "      <td>Wilkes, Mrs. James (Ellen Needs)</td>\n",
       "      <td>female</td>\n",
       "      <td>47.0</td>\n",
       "      <td>1</td>\n",
       "      <td>0</td>\n",
       "      <td>363272</td>\n",
       "      <td>7.0000</td>\n",
       "      <td>NaN</td>\n",
       "      <td>S</td>\n",
       "    </tr>\n",
       "    <tr>\n",
       "      <th>2</th>\n",
       "      <td>894</td>\n",
       "      <td>2</td>\n",
       "      <td>Myles, Mr. Thomas Francis</td>\n",
       "      <td>male</td>\n",
       "      <td>62.0</td>\n",
       "      <td>0</td>\n",
       "      <td>0</td>\n",
       "      <td>240276</td>\n",
       "      <td>9.6875</td>\n",
       "      <td>NaN</td>\n",
       "      <td>Q</td>\n",
       "    </tr>\n",
       "    <tr>\n",
       "      <th>3</th>\n",
       "      <td>895</td>\n",
       "      <td>3</td>\n",
       "      <td>Wirz, Mr. Albert</td>\n",
       "      <td>male</td>\n",
       "      <td>27.0</td>\n",
       "      <td>0</td>\n",
       "      <td>0</td>\n",
       "      <td>315154</td>\n",
       "      <td>8.6625</td>\n",
       "      <td>NaN</td>\n",
       "      <td>S</td>\n",
       "    </tr>\n",
       "    <tr>\n",
       "      <th>4</th>\n",
       "      <td>896</td>\n",
       "      <td>3</td>\n",
       "      <td>Hirvonen, Mrs. Alexander (Helga E Lindqvist)</td>\n",
       "      <td>female</td>\n",
       "      <td>22.0</td>\n",
       "      <td>1</td>\n",
       "      <td>1</td>\n",
       "      <td>3101298</td>\n",
       "      <td>12.2875</td>\n",
       "      <td>NaN</td>\n",
       "      <td>S</td>\n",
       "    </tr>\n",
       "  </tbody>\n",
       "</table>\n",
       "</div>"
      ],
      "text/plain": [
       "   PassengerId  Pclass                                          Name     Sex  \\\n",
       "0          892       3                              Kelly, Mr. James    male   \n",
       "1          893       3              Wilkes, Mrs. James (Ellen Needs)  female   \n",
       "2          894       2                     Myles, Mr. Thomas Francis    male   \n",
       "3          895       3                              Wirz, Mr. Albert    male   \n",
       "4          896       3  Hirvonen, Mrs. Alexander (Helga E Lindqvist)  female   \n",
       "\n",
       "    Age  SibSp  Parch   Ticket     Fare Cabin Embarked  \n",
       "0  34.5      0      0   330911   7.8292   NaN        Q  \n",
       "1  47.0      1      0   363272   7.0000   NaN        S  \n",
       "2  62.0      0      0   240276   9.6875   NaN        Q  \n",
       "3  27.0      0      0   315154   8.6625   NaN        S  \n",
       "4  22.0      1      1  3101298  12.2875   NaN        S  "
      ]
     },
     "execution_count": 8,
     "metadata": {},
     "output_type": "execute_result"
    }
   ],
   "source": [
    "test.head()"
   ]
  },
  {
   "cell_type": "markdown",
   "metadata": {
    "papermill": {
     "duration": 0.054032,
     "end_time": "2021-07-05T10:29:20.226345",
     "exception": false,
     "start_time": "2021-07-05T10:29:20.172313",
     "status": "completed"
    },
    "tags": []
   },
   "source": [
    "### 3-2 결측치 처리하기\n",
    " * train - Embarked\n",
    " * test - Fare"
   ]
  },
  {
   "cell_type": "code",
   "execution_count": 9,
   "metadata": {
    "execution": {
     "iopub.execute_input": "2021-07-05T10:29:20.346043Z",
     "iopub.status.busy": "2021-07-05T10:29:20.345040Z",
     "iopub.status.idle": "2021-07-05T10:29:20.349877Z",
     "shell.execute_reply": "2021-07-05T10:29:20.349325Z",
     "shell.execute_reply.started": "2021-07-05T10:28:22.069452Z"
    },
    "papermill": {
     "duration": 0.067733,
     "end_time": "2021-07-05T10:29:20.350049",
     "exception": false,
     "start_time": "2021-07-05T10:29:20.282316",
     "status": "completed"
    },
    "tags": []
   },
   "outputs": [
    {
     "data": {
      "text/plain": [
       "2"
      ]
     },
     "execution_count": 9,
     "metadata": {},
     "output_type": "execute_result"
    }
   ],
   "source": [
    "train['Embarked'].isnull().sum()"
   ]
  },
  {
   "cell_type": "code",
   "execution_count": 10,
   "metadata": {
    "execution": {
     "iopub.execute_input": "2021-07-05T10:29:20.484273Z",
     "iopub.status.busy": "2021-07-05T10:29:20.483345Z",
     "iopub.status.idle": "2021-07-05T10:29:20.487505Z",
     "shell.execute_reply": "2021-07-05T10:29:20.486870Z",
     "shell.execute_reply.started": "2021-07-05T10:28:22.139028Z"
    },
    "papermill": {
     "duration": 0.082787,
     "end_time": "2021-07-05T10:29:20.487667",
     "exception": false,
     "start_time": "2021-07-05T10:29:20.404880",
     "status": "completed"
    },
    "tags": []
   },
   "outputs": [
    {
     "data": {
      "text/plain": [
       "S    644\n",
       "C    168\n",
       "Q     77\n",
       "Name: Embarked, dtype: int64"
      ]
     },
     "execution_count": 10,
     "metadata": {},
     "output_type": "execute_result"
    }
   ],
   "source": [
    "train['Embarked'].value_counts()"
   ]
  },
  {
   "cell_type": "code",
   "execution_count": 11,
   "metadata": {
    "execution": {
     "iopub.execute_input": "2021-07-05T10:29:20.613097Z",
     "iopub.status.busy": "2021-07-05T10:29:20.612012Z",
     "iopub.status.idle": "2021-07-05T10:29:20.614882Z",
     "shell.execute_reply": "2021-07-05T10:29:20.614278Z",
     "shell.execute_reply.started": "2021-07-05T10:28:22.150538Z"
    },
    "papermill": {
     "duration": 0.066085,
     "end_time": "2021-07-05T10:29:20.615050",
     "exception": false,
     "start_time": "2021-07-05T10:29:20.548965",
     "status": "completed"
    },
    "tags": []
   },
   "outputs": [],
   "source": [
    "train['Embarked']=train['Embarked'].fillna('S')"
   ]
  },
  {
   "cell_type": "code",
   "execution_count": 12,
   "metadata": {
    "execution": {
     "iopub.execute_input": "2021-07-05T10:29:20.749689Z",
     "iopub.status.busy": "2021-07-05T10:29:20.748540Z",
     "iopub.status.idle": "2021-07-05T10:29:20.753610Z",
     "shell.execute_reply": "2021-07-05T10:29:20.752598Z",
     "shell.execute_reply.started": "2021-07-05T10:28:22.163907Z"
    },
    "papermill": {
     "duration": 0.072442,
     "end_time": "2021-07-05T10:29:20.753827",
     "exception": false,
     "start_time": "2021-07-05T10:29:20.681385",
     "status": "completed"
    },
    "tags": []
   },
   "outputs": [
    {
     "data": {
      "text/plain": [
       "0"
      ]
     },
     "execution_count": 12,
     "metadata": {},
     "output_type": "execute_result"
    }
   ],
   "source": [
    "train['Embarked'].isnull().sum()"
   ]
  },
  {
   "cell_type": "code",
   "execution_count": 13,
   "metadata": {
    "execution": {
     "iopub.execute_input": "2021-07-05T10:29:20.880598Z",
     "iopub.status.busy": "2021-07-05T10:29:20.879808Z",
     "iopub.status.idle": "2021-07-05T10:29:20.883745Z",
     "shell.execute_reply": "2021-07-05T10:29:20.884377Z",
     "shell.execute_reply.started": "2021-07-05T10:28:22.181963Z"
    },
    "papermill": {
     "duration": 0.069037,
     "end_time": "2021-07-05T10:29:20.884654",
     "exception": false,
     "start_time": "2021-07-05T10:29:20.815617",
     "status": "completed"
    },
    "tags": []
   },
   "outputs": [
    {
     "name": "stdout",
     "output_type": "stream",
     "text": [
      "0\n",
      "1\n"
     ]
    }
   ],
   "source": [
    "print(train['Fare'].isnull().sum())\n",
    "print(test['Fare'].isnull().sum())"
   ]
  },
  {
   "cell_type": "code",
   "execution_count": 14,
   "metadata": {
    "execution": {
     "iopub.execute_input": "2021-07-05T10:29:21.012641Z",
     "iopub.status.busy": "2021-07-05T10:29:21.011566Z",
     "iopub.status.idle": "2021-07-05T10:29:21.016245Z",
     "shell.execute_reply": "2021-07-05T10:29:21.015570Z",
     "shell.execute_reply.started": "2021-07-05T10:28:22.197826Z"
    },
    "papermill": {
     "duration": 0.0735,
     "end_time": "2021-07-05T10:29:21.016428",
     "exception": false,
     "start_time": "2021-07-05T10:29:20.942928",
     "status": "completed"
    },
    "tags": []
   },
   "outputs": [
    {
     "data": {
      "text/plain": [
       "7.7500     21\n",
       "26.0000    19\n",
       "8.0500     17\n",
       "13.0000    17\n",
       "7.8958     11\n",
       "           ..\n",
       "9.3250      1\n",
       "14.4583     1\n",
       "15.0333     1\n",
       "25.4667     1\n",
       "21.0750     1\n",
       "Name: Fare, Length: 169, dtype: int64"
      ]
     },
     "execution_count": 14,
     "metadata": {},
     "output_type": "execute_result"
    }
   ],
   "source": [
    "test['Fare'].value_counts()"
   ]
  },
  {
   "cell_type": "code",
   "execution_count": 15,
   "metadata": {
    "execution": {
     "iopub.execute_input": "2021-07-05T10:29:21.135699Z",
     "iopub.status.busy": "2021-07-05T10:29:21.134655Z",
     "iopub.status.idle": "2021-07-05T10:29:21.144635Z",
     "shell.execute_reply": "2021-07-05T10:29:21.143854Z",
     "shell.execute_reply.started": "2021-07-05T10:28:22.215845Z"
    },
    "papermill": {
     "duration": 0.072104,
     "end_time": "2021-07-05T10:29:21.144843",
     "exception": false,
     "start_time": "2021-07-05T10:29:21.072739",
     "status": "completed"
    },
    "tags": []
   },
   "outputs": [
    {
     "name": "stdout",
     "output_type": "stream",
     "text": [
      "35.6272\n"
     ]
    }
   ],
   "source": [
    "test['Fare']=test['Fare'].fillna(round(test['Fare'].mean(),4))\n",
    "print(round(test['Fare'].mean(),4))"
   ]
  },
  {
   "cell_type": "code",
   "execution_count": 16,
   "metadata": {
    "execution": {
     "iopub.execute_input": "2021-07-05T10:29:21.268602Z",
     "iopub.status.busy": "2021-07-05T10:29:21.267699Z",
     "iopub.status.idle": "2021-07-05T10:29:21.271160Z",
     "shell.execute_reply": "2021-07-05T10:29:21.271776Z",
     "shell.execute_reply.started": "2021-07-05T10:28:22.227509Z"
    },
    "papermill": {
     "duration": 0.067294,
     "end_time": "2021-07-05T10:29:21.271975",
     "exception": false,
     "start_time": "2021-07-05T10:29:21.204681",
     "status": "completed"
    },
    "tags": []
   },
   "outputs": [
    {
     "data": {
      "text/plain": [
       "0"
      ]
     },
     "execution_count": 16,
     "metadata": {},
     "output_type": "execute_result"
    }
   ],
   "source": [
    "test['Fare'].isnull().sum()"
   ]
  },
  {
   "cell_type": "markdown",
   "metadata": {
    "papermill": {
     "duration": 0.056715,
     "end_time": "2021-07-05T10:29:21.387509",
     "exception": false,
     "start_time": "2021-07-05T10:29:21.330794",
     "status": "completed"
    },
    "tags": []
   },
   "source": [
    "# 성별 int 타입바꾸기"
   ]
  },
  {
   "cell_type": "code",
   "execution_count": 17,
   "metadata": {
    "execution": {
     "iopub.execute_input": "2021-07-05T10:29:21.506051Z",
     "iopub.status.busy": "2021-07-05T10:29:21.505043Z",
     "iopub.status.idle": "2021-07-05T10:29:21.513423Z",
     "shell.execute_reply": "2021-07-05T10:29:21.514050Z",
     "shell.execute_reply.started": "2021-07-05T10:28:22.242539Z"
    },
    "papermill": {
     "duration": 0.069037,
     "end_time": "2021-07-05T10:29:21.514248",
     "exception": false,
     "start_time": "2021-07-05T10:29:21.445211",
     "status": "completed"
    },
    "tags": []
   },
   "outputs": [],
   "source": [
    "train['Sex']=train['Sex'].map({'female':0,'male':1}).astype(int)\n",
    "test['Sex']=test['Sex'].map({'female':0,'male':1}).astype(int)"
   ]
  },
  {
   "cell_type": "markdown",
   "metadata": {
    "papermill": {
     "duration": 0.055931,
     "end_time": "2021-07-05T10:29:21.626798",
     "exception": false,
     "start_time": "2021-07-05T10:29:21.570867",
     "status": "completed"
    },
    "tags": []
   },
   "source": [
    "# embarked int 타입바꾸기"
   ]
  },
  {
   "cell_type": "code",
   "execution_count": 18,
   "metadata": {
    "execution": {
     "iopub.execute_input": "2021-07-05T10:29:21.744157Z",
     "iopub.status.busy": "2021-07-05T10:29:21.743080Z",
     "iopub.status.idle": "2021-07-05T10:29:21.752356Z",
     "shell.execute_reply": "2021-07-05T10:29:21.752945Z",
     "shell.execute_reply.started": "2021-07-05T10:28:22.260472Z"
    },
    "papermill": {
     "duration": 0.06992,
     "end_time": "2021-07-05T10:29:21.753152",
     "exception": false,
     "start_time": "2021-07-05T10:29:21.683232",
     "status": "completed"
    },
    "tags": []
   },
   "outputs": [],
   "source": [
    "train['Embarked']=train['Embarked'].map({'S':0,'C':1,'Q':2}).astype(int)\n",
    "test['Embarked']=test['Embarked'].map({'S':0,'C':1,'Q':2}).astype(int)"
   ]
  },
  {
   "cell_type": "markdown",
   "metadata": {
    "papermill": {
     "duration": 0.056147,
     "end_time": "2021-07-05T10:29:21.866183",
     "exception": false,
     "start_time": "2021-07-05T10:29:21.810036",
     "status": "completed"
    },
    "tags": []
   },
   "source": [
    "# name int 타입바꾸기"
   ]
  },
  {
   "cell_type": "code",
   "execution_count": 19,
   "metadata": {
    "execution": {
     "iopub.execute_input": "2021-07-05T10:29:21.984254Z",
     "iopub.status.busy": "2021-07-05T10:29:21.983203Z",
     "iopub.status.idle": "2021-07-05T10:29:21.986807Z",
     "shell.execute_reply": "2021-07-05T10:29:21.987329Z",
     "shell.execute_reply.started": "2021-07-05T10:28:22.273737Z"
    },
    "papermill": {
     "duration": 0.064721,
     "end_time": "2021-07-05T10:29:21.987555",
     "exception": false,
     "start_time": "2021-07-05T10:29:21.922834",
     "status": "completed"
    },
    "tags": []
   },
   "outputs": [],
   "source": [
    "# train['Title']=train['Name'].str.extract('([A-Za-z]+)\\.',expand=False)\n",
    "# train['Title'].value_counts()"
   ]
  },
  {
   "cell_type": "code",
   "execution_count": 20,
   "metadata": {
    "execution": {
     "iopub.execute_input": "2021-07-05T10:29:22.106633Z",
     "iopub.status.busy": "2021-07-05T10:29:22.105511Z",
     "iopub.status.idle": "2021-07-05T10:29:22.109102Z",
     "shell.execute_reply": "2021-07-05T10:29:22.109584Z",
     "shell.execute_reply.started": "2021-07-05T10:28:22.287233Z"
    },
    "papermill": {
     "duration": 0.065014,
     "end_time": "2021-07-05T10:29:22.109788",
     "exception": false,
     "start_time": "2021-07-05T10:29:22.044774",
     "status": "completed"
    },
    "tags": []
   },
   "outputs": [],
   "source": [
    "# train['Title']=train['Title'].replace(['Lady','Countress','Capt','Col','Don','Dr',\n",
    "#                                       'Major','Rev','Sir','Jonkheer','Dona',\n",
    "#                                       'Ms','Mme'],'other')\n",
    "# train['Title']=train['Title'].replace('Mlle','Miss')\n",
    "# train['Title']=train['Title'].replace('Ms','Miss')\n",
    "# train['Title']=train['Title'].replace('Mme','Mrs')"
   ]
  },
  {
   "cell_type": "code",
   "execution_count": 21,
   "metadata": {
    "execution": {
     "iopub.execute_input": "2021-07-05T10:29:22.227866Z",
     "iopub.status.busy": "2021-07-05T10:29:22.226852Z",
     "iopub.status.idle": "2021-07-05T10:29:22.231635Z",
     "shell.execute_reply": "2021-07-05T10:29:22.230972Z",
     "shell.execute_reply.started": "2021-07-05T10:28:22.301204Z"
    },
    "papermill": {
     "duration": 0.065315,
     "end_time": "2021-07-05T10:29:22.231799",
     "exception": false,
     "start_time": "2021-07-05T10:29:22.166484",
     "status": "completed"
    },
    "tags": []
   },
   "outputs": [],
   "source": [
    "# train['Title'].value_counts()"
   ]
  },
  {
   "cell_type": "code",
   "execution_count": 22,
   "metadata": {
    "execution": {
     "iopub.execute_input": "2021-07-05T10:29:22.353292Z",
     "iopub.status.busy": "2021-07-05T10:29:22.352238Z",
     "iopub.status.idle": "2021-07-05T10:29:22.354910Z",
     "shell.execute_reply": "2021-07-05T10:29:22.355458Z",
     "shell.execute_reply.started": "2021-07-05T10:28:22.318039Z"
    },
    "papermill": {
     "duration": 0.066825,
     "end_time": "2021-07-05T10:29:22.355653",
     "exception": false,
     "start_time": "2021-07-05T10:29:22.288828",
     "status": "completed"
    },
    "tags": []
   },
   "outputs": [],
   "source": [
    "# train['Title_label']=train['Title'].astype('category').cat.codes\n",
    "# train[['Title','Title_label']]"
   ]
  },
  {
   "cell_type": "code",
   "execution_count": 23,
   "metadata": {
    "execution": {
     "iopub.execute_input": "2021-07-05T10:29:22.475748Z",
     "iopub.status.busy": "2021-07-05T10:29:22.474698Z",
     "iopub.status.idle": "2021-07-05T10:29:22.478069Z",
     "shell.execute_reply": "2021-07-05T10:29:22.477559Z",
     "shell.execute_reply.started": "2021-07-05T10:28:22.330508Z"
    },
    "papermill": {
     "duration": 0.065851,
     "end_time": "2021-07-05T10:29:22.478229",
     "exception": false,
     "start_time": "2021-07-05T10:29:22.412378",
     "status": "completed"
    },
    "tags": []
   },
   "outputs": [],
   "source": [
    "# test['Title']=test['Name'].str.extract('([A-Za-z]+)\\.',expand=False)\n",
    "# test['Title'].value_counts()\n",
    "# test['Title']=test['Title'].replace(['Lady','Countress','Capt','Col','Don','Dr',\n",
    "#                                       'Major','Rev','Sir','Jonkheer','Dona',\n",
    "#                                       'Ms','Mme'],'other')\n",
    "# test['Title']=test['Title'].replace('Mlle','Miss')\n",
    "# test['Title']=test['Title'].replace('Ms','Miss')\n",
    "# test['Title']=test['Title'].replace('Mme','Mrs')\n"
   ]
  },
  {
   "cell_type": "code",
   "execution_count": 24,
   "metadata": {
    "execution": {
     "iopub.execute_input": "2021-07-05T10:29:22.597134Z",
     "iopub.status.busy": "2021-07-05T10:29:22.596379Z",
     "iopub.status.idle": "2021-07-05T10:29:22.600072Z",
     "shell.execute_reply": "2021-07-05T10:29:22.599354Z",
     "shell.execute_reply.started": "2021-07-05T10:28:22.343365Z"
    },
    "papermill": {
     "duration": 0.064947,
     "end_time": "2021-07-05T10:29:22.600240",
     "exception": false,
     "start_time": "2021-07-05T10:29:22.535293",
     "status": "completed"
    },
    "tags": []
   },
   "outputs": [],
   "source": [
    "# test['Title'].value_counts()\n",
    "# test['Title_label']=test['Title'].astype('category').cat.codes\n",
    "# test[['Title','Title_label']]"
   ]
  },
  {
   "cell_type": "code",
   "execution_count": 25,
   "metadata": {
    "execution": {
     "iopub.execute_input": "2021-07-05T10:29:22.719306Z",
     "iopub.status.busy": "2021-07-05T10:29:22.718674Z",
     "iopub.status.idle": "2021-07-05T10:29:22.727141Z",
     "shell.execute_reply": "2021-07-05T10:29:22.726548Z",
     "shell.execute_reply.started": "2021-07-05T10:28:22.367701Z"
    },
    "papermill": {
     "duration": 0.069659,
     "end_time": "2021-07-05T10:29:22.727317",
     "exception": false,
     "start_time": "2021-07-05T10:29:22.657658",
     "status": "completed"
    },
    "tags": []
   },
   "outputs": [
    {
     "data": {
      "text/plain": [
       "0                                Braund, Mr. Owen Harris\n",
       "1      Cumings, Mrs. John Bradley (Florence Briggs Th...\n",
       "2                                 Heikkinen, Miss. Laina\n",
       "3           Futrelle, Mrs. Jacques Heath (Lily May Peel)\n",
       "4                               Allen, Mr. William Henry\n",
       "                             ...                        \n",
       "886                                Montvila, Rev. Juozas\n",
       "887                         Graham, Miss. Margaret Edith\n",
       "888             Johnston, Miss. Catherine Helen \"Carrie\"\n",
       "889                                Behr, Mr. Karl Howell\n",
       "890                                  Dooley, Mr. Patrick\n",
       "Name: Name, Length: 891, dtype: object"
      ]
     },
     "execution_count": 25,
     "metadata": {},
     "output_type": "execute_result"
    }
   ],
   "source": [
    "train['Name']"
   ]
  },
  {
   "cell_type": "code",
   "execution_count": 26,
   "metadata": {
    "execution": {
     "iopub.execute_input": "2021-07-05T10:29:22.865623Z",
     "iopub.status.busy": "2021-07-05T10:29:22.864473Z",
     "iopub.status.idle": "2021-07-05T10:29:22.877557Z",
     "shell.execute_reply": "2021-07-05T10:29:22.876836Z",
     "shell.execute_reply.started": "2021-07-05T10:28:22.387256Z"
    },
    "papermill": {
     "duration": 0.092815,
     "end_time": "2021-07-05T10:29:22.877721",
     "exception": false,
     "start_time": "2021-07-05T10:29:22.784906",
     "status": "completed"
    },
    "tags": []
   },
   "outputs": [
    {
     "name": "stdout",
     "output_type": "stream",
     "text": [
      "   PassengerId  Survived  Pclass  \\\n",
      "0            1         0       3   \n",
      "1            2         1       1   \n",
      "2            3         1       3   \n",
      "3            4         1       1   \n",
      "4            5         0       3   \n",
      "\n",
      "                                                Name  Sex   Age  SibSp  Parch  \\\n",
      "0                            Braund, Mr. Owen Harris    1  22.0      1      0   \n",
      "1  Cumings, Mrs. John Bradley (Florence Briggs Th...    0  38.0      1      0   \n",
      "2                             Heikkinen, Miss. Laina    0  26.0      0      0   \n",
      "3       Futrelle, Mrs. Jacques Heath (Lily May Peel)    0  35.0      1      0   \n",
      "4                           Allen, Mr. William Henry    1  35.0      0      0   \n",
      "\n",
      "             Ticket     Fare Cabin  Embarked Title  \n",
      "0         A/5 21171   7.2500   NaN         0    Mr  \n",
      "1          PC 17599  71.2833   C85         1   Mrs  \n",
      "2  STON/O2. 3101282   7.9250   NaN         0  Miss  \n",
      "3            113803  53.1000  C123         0   Mrs  \n",
      "4            373450   8.0500   NaN         0    Mr  \n",
      "   PassengerId  Pclass                                          Name  Sex  \\\n",
      "0          892       3                              Kelly, Mr. James    1   \n",
      "1          893       3              Wilkes, Mrs. James (Ellen Needs)    0   \n",
      "2          894       2                     Myles, Mr. Thomas Francis    1   \n",
      "3          895       3                              Wirz, Mr. Albert    1   \n",
      "4          896       3  Hirvonen, Mrs. Alexander (Helga E Lindqvist)    0   \n",
      "\n",
      "    Age  SibSp  Parch   Ticket     Fare Cabin  Embarked Title  \n",
      "0  34.5      0      0   330911   7.8292   NaN         2    Mr  \n",
      "1  47.0      1      0   363272   7.0000   NaN         0   Mrs  \n",
      "2  62.0      0      0   240276   9.6875   NaN         2    Mr  \n",
      "3  27.0      0      0   315154   8.6625   NaN         0    Mr  \n",
      "4  22.0      1      1  3101298  12.2875   NaN         0   Mrs  \n"
     ]
    }
   ],
   "source": [
    "all_df=[train,test]\n",
    "\n",
    "for one in all_df:\n",
    "    one['Title']=one['Name'].str.extract('([A-Za-z]+)\\.',expand=False)\n",
    "print(train.head())\n",
    "print(test.head())"
   ]
  },
  {
   "cell_type": "code",
   "execution_count": 27,
   "metadata": {
    "execution": {
     "iopub.execute_input": "2021-07-05T10:29:23.001705Z",
     "iopub.status.busy": "2021-07-05T10:29:23.000311Z",
     "iopub.status.idle": "2021-07-05T10:29:23.005477Z",
     "shell.execute_reply": "2021-07-05T10:29:23.005937Z",
     "shell.execute_reply.started": "2021-07-05T10:28:22.426136Z"
    },
    "papermill": {
     "duration": 0.069344,
     "end_time": "2021-07-05T10:29:23.006154",
     "exception": false,
     "start_time": "2021-07-05T10:29:22.936810",
     "status": "completed"
    },
    "tags": []
   },
   "outputs": [
    {
     "data": {
      "text/plain": [
       "array(['Mr', 'Mrs', 'Miss', 'Master', 'Don', 'Rev', 'Dr', 'Mme', 'Ms',\n",
       "       'Major', 'Lady', 'Sir', 'Mlle', 'Col', 'Capt', 'Countess',\n",
       "       'Jonkheer'], dtype=object)"
      ]
     },
     "execution_count": 27,
     "metadata": {},
     "output_type": "execute_result"
    }
   ],
   "source": [
    "train['Title'].unique()"
   ]
  },
  {
   "cell_type": "code",
   "execution_count": 28,
   "metadata": {
    "execution": {
     "iopub.execute_input": "2021-07-05T10:29:23.128176Z",
     "iopub.status.busy": "2021-07-05T10:29:23.127029Z",
     "iopub.status.idle": "2021-07-05T10:29:23.135359Z",
     "shell.execute_reply": "2021-07-05T10:29:23.135818Z",
     "shell.execute_reply.started": "2021-07-05T10:28:22.437983Z"
    },
    "papermill": {
     "duration": 0.07171,
     "end_time": "2021-07-05T10:29:23.136030",
     "exception": false,
     "start_time": "2021-07-05T10:29:23.064320",
     "status": "completed"
    },
    "tags": []
   },
   "outputs": [
    {
     "data": {
      "text/plain": [
       "Mr          517\n",
       "Miss        182\n",
       "Mrs         125\n",
       "Master       40\n",
       "Dr            7\n",
       "Rev           6\n",
       "Major         2\n",
       "Col           2\n",
       "Mlle          2\n",
       "Jonkheer      1\n",
       "Ms            1\n",
       "Countess      1\n",
       "Sir           1\n",
       "Lady          1\n",
       "Capt          1\n",
       "Mme           1\n",
       "Don           1\n",
       "Name: Title, dtype: int64"
      ]
     },
     "execution_count": 28,
     "metadata": {},
     "output_type": "execute_result"
    }
   ],
   "source": [
    "train['Title'].value_counts()"
   ]
  },
  {
   "cell_type": "code",
   "execution_count": 29,
   "metadata": {
    "execution": {
     "iopub.execute_input": "2021-07-05T10:29:23.280727Z",
     "iopub.status.busy": "2021-07-05T10:29:23.272416Z",
     "iopub.status.idle": "2021-07-05T10:29:23.286482Z",
     "shell.execute_reply": "2021-07-05T10:29:23.287050Z",
     "shell.execute_reply.started": "2021-07-05T10:28:22.454947Z"
    },
    "papermill": {
     "duration": 0.087411,
     "end_time": "2021-07-05T10:29:23.287251",
     "exception": false,
     "start_time": "2021-07-05T10:29:23.199840",
     "status": "completed"
    },
    "tags": []
   },
   "outputs": [
    {
     "name": "stdout",
     "output_type": "stream",
     "text": [
      "Mr        517\n",
      "Miss      185\n",
      "Mrs       126\n",
      "Master     40\n",
      "Rare       23\n",
      "Name: Title, dtype: int64\n",
      "Mr        240\n",
      "Miss       79\n",
      "Mrs        72\n",
      "Master     21\n",
      "Rare        6\n",
      "Name: Title, dtype: int64\n"
     ]
    }
   ],
   "source": [
    "for one in all_df:\n",
    "    one['Title']=one['Title'].replace(['Lady', 'Countess','Capt', 'Col',\\\n",
    " 'Don', 'Dr', 'Major', 'Rev', 'Sir', 'Jonkheer', 'Dona'], 'Rare')\n",
    "    one['Title']=one['Title'].replace('Mlle','Miss')\n",
    "    one['Title']=one['Title'].replace('Ms','Miss')\n",
    "    one['Title']=one['Title'].replace('Mme','Mrs')\n",
    "print(train['Title'].value_counts())\n",
    "print(test['Title'].value_counts())"
   ]
  },
  {
   "cell_type": "code",
   "execution_count": 30,
   "metadata": {
    "execution": {
     "iopub.execute_input": "2021-07-05T10:29:23.409554Z",
     "iopub.status.busy": "2021-07-05T10:29:23.408783Z",
     "iopub.status.idle": "2021-07-05T10:29:23.424928Z",
     "shell.execute_reply": "2021-07-05T10:29:23.425531Z",
     "shell.execute_reply.started": "2021-07-05T10:28:22.484427Z"
    },
    "papermill": {
     "duration": 0.079403,
     "end_time": "2021-07-05T10:29:23.425747",
     "exception": false,
     "start_time": "2021-07-05T10:29:23.346344",
     "status": "completed"
    },
    "tags": []
   },
   "outputs": [
    {
     "name": "stdout",
     "output_type": "stream",
     "text": [
      "1    517\n",
      "2    185\n",
      "3    126\n",
      "4     40\n",
      "5     23\n",
      "Name: Title, dtype: int64\n",
      "1    240\n",
      "2     79\n",
      "3     72\n",
      "4     21\n",
      "5      6\n",
      "Name: Title, dtype: int64\n"
     ]
    }
   ],
   "source": [
    "title_mapping={'Mr':1,'Miss':2,'Mrs':3,'Master':4,'Rare':5}\n",
    "for one in all_df:\n",
    "     one['Title'] = one['Title'].map(title_mapping)\n",
    "     one['Title'] = one['Title'].fillna(0)\n",
    "print(train['Title'].value_counts())\n",
    "print(test['Title'].value_counts())"
   ]
  },
  {
   "cell_type": "markdown",
   "metadata": {
    "papermill": {
     "duration": 0.058766,
     "end_time": "2021-07-05T10:29:23.543241",
     "exception": false,
     "start_time": "2021-07-05T10:29:23.484475",
     "status": "completed"
    },
    "tags": []
   },
   "source": [
    "# 5-2 (추가) SibSp, Parch를 이용해서 FamilySize라는 특징(feature)만들기"
   ]
  },
  {
   "cell_type": "code",
   "execution_count": 31,
   "metadata": {
    "execution": {
     "iopub.execute_input": "2021-07-05T10:29:23.664956Z",
     "iopub.status.busy": "2021-07-05T10:29:23.664189Z",
     "iopub.status.idle": "2021-07-05T10:29:23.667408Z",
     "shell.execute_reply": "2021-07-05T10:29:23.667938Z",
     "shell.execute_reply.started": "2021-07-05T10:28:22.503807Z"
    },
    "papermill": {
     "duration": 0.066031,
     "end_time": "2021-07-05T10:29:23.668132",
     "exception": false,
     "start_time": "2021-07-05T10:29:23.602101",
     "status": "completed"
    },
    "tags": []
   },
   "outputs": [],
   "source": [
    "# train['Family_size'] = train['SibSp'] + train['Parch'] + 1\n",
    "# test['Family_size'] = test['SibSp'] + test['Parch'] + 1"
   ]
  },
  {
   "cell_type": "markdown",
   "metadata": {
    "papermill": {
     "duration": 0.058489,
     "end_time": "2021-07-05T10:29:23.785494",
     "exception": false,
     "start_time": "2021-07-05T10:29:23.727005",
     "status": "completed"
    },
    "tags": []
   },
   "source": [
    "# pclass로 나눠보기"
   ]
  },
  {
   "cell_type": "code",
   "execution_count": 32,
   "metadata": {
    "execution": {
     "iopub.execute_input": "2021-07-05T10:29:23.909383Z",
     "iopub.status.busy": "2021-07-05T10:29:23.908270Z",
     "iopub.status.idle": "2021-07-05T10:29:23.929707Z",
     "shell.execute_reply": "2021-07-05T10:29:23.929110Z",
     "shell.execute_reply.started": "2021-07-05T10:28:22.517773Z"
    },
    "papermill": {
     "duration": 0.08506,
     "end_time": "2021-07-05T10:29:23.929889",
     "exception": false,
     "start_time": "2021-07-05T10:29:23.844829",
     "status": "completed"
    },
    "tags": []
   },
   "outputs": [
    {
     "data": {
      "text/html": [
       "<div>\n",
       "<style scoped>\n",
       "    .dataframe tbody tr th:only-of-type {\n",
       "        vertical-align: middle;\n",
       "    }\n",
       "\n",
       "    .dataframe tbody tr th {\n",
       "        vertical-align: top;\n",
       "    }\n",
       "\n",
       "    .dataframe thead th {\n",
       "        text-align: right;\n",
       "    }\n",
       "</style>\n",
       "<table border=\"1\" class=\"dataframe\">\n",
       "  <thead>\n",
       "    <tr style=\"text-align: right;\">\n",
       "      <th></th>\n",
       "      <th>PassengerId</th>\n",
       "      <th>Survived</th>\n",
       "      <th>Name</th>\n",
       "      <th>Sex</th>\n",
       "      <th>Age</th>\n",
       "      <th>SibSp</th>\n",
       "      <th>Parch</th>\n",
       "      <th>Ticket</th>\n",
       "      <th>Fare</th>\n",
       "      <th>Cabin</th>\n",
       "      <th>Embarked</th>\n",
       "      <th>Title</th>\n",
       "    </tr>\n",
       "    <tr>\n",
       "      <th>Pclass</th>\n",
       "      <th></th>\n",
       "      <th></th>\n",
       "      <th></th>\n",
       "      <th></th>\n",
       "      <th></th>\n",
       "      <th></th>\n",
       "      <th></th>\n",
       "      <th></th>\n",
       "      <th></th>\n",
       "      <th></th>\n",
       "      <th></th>\n",
       "      <th></th>\n",
       "    </tr>\n",
       "  </thead>\n",
       "  <tbody>\n",
       "    <tr>\n",
       "      <th>1</th>\n",
       "      <td>216</td>\n",
       "      <td>216</td>\n",
       "      <td>216</td>\n",
       "      <td>216</td>\n",
       "      <td>186</td>\n",
       "      <td>216</td>\n",
       "      <td>216</td>\n",
       "      <td>216</td>\n",
       "      <td>216</td>\n",
       "      <td>176</td>\n",
       "      <td>216</td>\n",
       "      <td>216</td>\n",
       "    </tr>\n",
       "    <tr>\n",
       "      <th>2</th>\n",
       "      <td>184</td>\n",
       "      <td>184</td>\n",
       "      <td>184</td>\n",
       "      <td>184</td>\n",
       "      <td>173</td>\n",
       "      <td>184</td>\n",
       "      <td>184</td>\n",
       "      <td>184</td>\n",
       "      <td>184</td>\n",
       "      <td>16</td>\n",
       "      <td>184</td>\n",
       "      <td>184</td>\n",
       "    </tr>\n",
       "    <tr>\n",
       "      <th>3</th>\n",
       "      <td>491</td>\n",
       "      <td>491</td>\n",
       "      <td>491</td>\n",
       "      <td>491</td>\n",
       "      <td>355</td>\n",
       "      <td>491</td>\n",
       "      <td>491</td>\n",
       "      <td>491</td>\n",
       "      <td>491</td>\n",
       "      <td>12</td>\n",
       "      <td>491</td>\n",
       "      <td>491</td>\n",
       "    </tr>\n",
       "  </tbody>\n",
       "</table>\n",
       "</div>"
      ],
      "text/plain": [
       "        PassengerId  Survived  Name  Sex  Age  SibSp  Parch  Ticket  Fare  \\\n",
       "Pclass                                                                      \n",
       "1               216       216   216  216  186    216    216     216   216   \n",
       "2               184       184   184  184  173    184    184     184   184   \n",
       "3               491       491   491  491  355    491    491     491   491   \n",
       "\n",
       "        Cabin  Embarked  Title  \n",
       "Pclass                          \n",
       "1         176       216    216  \n",
       "2          16       184    184  \n",
       "3          12       491    491  "
      ]
     },
     "execution_count": 32,
     "metadata": {},
     "output_type": "execute_result"
    }
   ],
   "source": [
    "train.groupby(['Pclass']).count()"
   ]
  },
  {
   "cell_type": "code",
   "execution_count": 33,
   "metadata": {
    "execution": {
     "iopub.execute_input": "2021-07-05T10:29:24.058743Z",
     "iopub.status.busy": "2021-07-05T10:29:24.057867Z",
     "iopub.status.idle": "2021-07-05T10:29:24.080256Z",
     "shell.execute_reply": "2021-07-05T10:29:24.079623Z",
     "shell.execute_reply.started": "2021-07-05T10:28:22.545358Z"
    },
    "papermill": {
     "duration": 0.088993,
     "end_time": "2021-07-05T10:29:24.080407",
     "exception": false,
     "start_time": "2021-07-05T10:29:23.991414",
     "status": "completed"
    },
    "tags": []
   },
   "outputs": [
    {
     "data": {
      "text/html": [
       "<div>\n",
       "<style scoped>\n",
       "    .dataframe tbody tr th:only-of-type {\n",
       "        vertical-align: middle;\n",
       "    }\n",
       "\n",
       "    .dataframe tbody tr th {\n",
       "        vertical-align: top;\n",
       "    }\n",
       "\n",
       "    .dataframe thead th {\n",
       "        text-align: right;\n",
       "    }\n",
       "</style>\n",
       "<table border=\"1\" class=\"dataframe\">\n",
       "  <thead>\n",
       "    <tr style=\"text-align: right;\">\n",
       "      <th></th>\n",
       "      <th></th>\n",
       "      <th></th>\n",
       "      <th>PassengerId</th>\n",
       "      <th>Name</th>\n",
       "      <th>Age</th>\n",
       "      <th>SibSp</th>\n",
       "      <th>Parch</th>\n",
       "      <th>Ticket</th>\n",
       "      <th>Fare</th>\n",
       "      <th>Cabin</th>\n",
       "      <th>Embarked</th>\n",
       "      <th>Title</th>\n",
       "    </tr>\n",
       "    <tr>\n",
       "      <th>Pclass</th>\n",
       "      <th>Survived</th>\n",
       "      <th>Sex</th>\n",
       "      <th></th>\n",
       "      <th></th>\n",
       "      <th></th>\n",
       "      <th></th>\n",
       "      <th></th>\n",
       "      <th></th>\n",
       "      <th></th>\n",
       "      <th></th>\n",
       "      <th></th>\n",
       "      <th></th>\n",
       "    </tr>\n",
       "  </thead>\n",
       "  <tbody>\n",
       "    <tr>\n",
       "      <th rowspan=\"4\" valign=\"top\">1</th>\n",
       "      <th rowspan=\"2\" valign=\"top\">0</th>\n",
       "      <th>0</th>\n",
       "      <td>3</td>\n",
       "      <td>3</td>\n",
       "      <td>3</td>\n",
       "      <td>3</td>\n",
       "      <td>3</td>\n",
       "      <td>3</td>\n",
       "      <td>3</td>\n",
       "      <td>3</td>\n",
       "      <td>3</td>\n",
       "      <td>3</td>\n",
       "    </tr>\n",
       "    <tr>\n",
       "      <th>1</th>\n",
       "      <td>77</td>\n",
       "      <td>77</td>\n",
       "      <td>61</td>\n",
       "      <td>77</td>\n",
       "      <td>77</td>\n",
       "      <td>77</td>\n",
       "      <td>77</td>\n",
       "      <td>56</td>\n",
       "      <td>77</td>\n",
       "      <td>77</td>\n",
       "    </tr>\n",
       "    <tr>\n",
       "      <th rowspan=\"2\" valign=\"top\">1</th>\n",
       "      <th>0</th>\n",
       "      <td>91</td>\n",
       "      <td>91</td>\n",
       "      <td>82</td>\n",
       "      <td>91</td>\n",
       "      <td>91</td>\n",
       "      <td>91</td>\n",
       "      <td>91</td>\n",
       "      <td>78</td>\n",
       "      <td>91</td>\n",
       "      <td>91</td>\n",
       "    </tr>\n",
       "    <tr>\n",
       "      <th>1</th>\n",
       "      <td>45</td>\n",
       "      <td>45</td>\n",
       "      <td>40</td>\n",
       "      <td>45</td>\n",
       "      <td>45</td>\n",
       "      <td>45</td>\n",
       "      <td>45</td>\n",
       "      <td>39</td>\n",
       "      <td>45</td>\n",
       "      <td>45</td>\n",
       "    </tr>\n",
       "    <tr>\n",
       "      <th rowspan=\"4\" valign=\"top\">2</th>\n",
       "      <th rowspan=\"2\" valign=\"top\">0</th>\n",
       "      <th>0</th>\n",
       "      <td>6</td>\n",
       "      <td>6</td>\n",
       "      <td>6</td>\n",
       "      <td>6</td>\n",
       "      <td>6</td>\n",
       "      <td>6</td>\n",
       "      <td>6</td>\n",
       "      <td>1</td>\n",
       "      <td>6</td>\n",
       "      <td>6</td>\n",
       "    </tr>\n",
       "    <tr>\n",
       "      <th>1</th>\n",
       "      <td>91</td>\n",
       "      <td>91</td>\n",
       "      <td>84</td>\n",
       "      <td>91</td>\n",
       "      <td>91</td>\n",
       "      <td>91</td>\n",
       "      <td>91</td>\n",
       "      <td>2</td>\n",
       "      <td>91</td>\n",
       "      <td>91</td>\n",
       "    </tr>\n",
       "    <tr>\n",
       "      <th rowspan=\"2\" valign=\"top\">1</th>\n",
       "      <th>0</th>\n",
       "      <td>70</td>\n",
       "      <td>70</td>\n",
       "      <td>68</td>\n",
       "      <td>70</td>\n",
       "      <td>70</td>\n",
       "      <td>70</td>\n",
       "      <td>70</td>\n",
       "      <td>9</td>\n",
       "      <td>70</td>\n",
       "      <td>70</td>\n",
       "    </tr>\n",
       "    <tr>\n",
       "      <th>1</th>\n",
       "      <td>17</td>\n",
       "      <td>17</td>\n",
       "      <td>15</td>\n",
       "      <td>17</td>\n",
       "      <td>17</td>\n",
       "      <td>17</td>\n",
       "      <td>17</td>\n",
       "      <td>4</td>\n",
       "      <td>17</td>\n",
       "      <td>17</td>\n",
       "    </tr>\n",
       "    <tr>\n",
       "      <th rowspan=\"4\" valign=\"top\">3</th>\n",
       "      <th rowspan=\"2\" valign=\"top\">0</th>\n",
       "      <th>0</th>\n",
       "      <td>72</td>\n",
       "      <td>72</td>\n",
       "      <td>55</td>\n",
       "      <td>72</td>\n",
       "      <td>72</td>\n",
       "      <td>72</td>\n",
       "      <td>72</td>\n",
       "      <td>2</td>\n",
       "      <td>72</td>\n",
       "      <td>72</td>\n",
       "    </tr>\n",
       "    <tr>\n",
       "      <th>1</th>\n",
       "      <td>300</td>\n",
       "      <td>300</td>\n",
       "      <td>215</td>\n",
       "      <td>300</td>\n",
       "      <td>300</td>\n",
       "      <td>300</td>\n",
       "      <td>300</td>\n",
       "      <td>4</td>\n",
       "      <td>300</td>\n",
       "      <td>300</td>\n",
       "    </tr>\n",
       "    <tr>\n",
       "      <th rowspan=\"2\" valign=\"top\">1</th>\n",
       "      <th>0</th>\n",
       "      <td>72</td>\n",
       "      <td>72</td>\n",
       "      <td>47</td>\n",
       "      <td>72</td>\n",
       "      <td>72</td>\n",
       "      <td>72</td>\n",
       "      <td>72</td>\n",
       "      <td>4</td>\n",
       "      <td>72</td>\n",
       "      <td>72</td>\n",
       "    </tr>\n",
       "    <tr>\n",
       "      <th>1</th>\n",
       "      <td>47</td>\n",
       "      <td>47</td>\n",
       "      <td>38</td>\n",
       "      <td>47</td>\n",
       "      <td>47</td>\n",
       "      <td>47</td>\n",
       "      <td>47</td>\n",
       "      <td>2</td>\n",
       "      <td>47</td>\n",
       "      <td>47</td>\n",
       "    </tr>\n",
       "  </tbody>\n",
       "</table>\n",
       "</div>"
      ],
      "text/plain": [
       "                     PassengerId  Name  Age  SibSp  Parch  Ticket  Fare  \\\n",
       "Pclass Survived Sex                                                       \n",
       "1      0        0              3     3    3      3      3       3     3   \n",
       "                1             77    77   61     77     77      77    77   \n",
       "       1        0             91    91   82     91     91      91    91   \n",
       "                1             45    45   40     45     45      45    45   \n",
       "2      0        0              6     6    6      6      6       6     6   \n",
       "                1             91    91   84     91     91      91    91   \n",
       "       1        0             70    70   68     70     70      70    70   \n",
       "                1             17    17   15     17     17      17    17   \n",
       "3      0        0             72    72   55     72     72      72    72   \n",
       "                1            300   300  215    300    300     300   300   \n",
       "       1        0             72    72   47     72     72      72    72   \n",
       "                1             47    47   38     47     47      47    47   \n",
       "\n",
       "                     Cabin  Embarked  Title  \n",
       "Pclass Survived Sex                          \n",
       "1      0        0        3         3      3  \n",
       "                1       56        77     77  \n",
       "       1        0       78        91     91  \n",
       "                1       39        45     45  \n",
       "2      0        0        1         6      6  \n",
       "                1        2        91     91  \n",
       "       1        0        9        70     70  \n",
       "                1        4        17     17  \n",
       "3      0        0        2        72     72  \n",
       "                1        4       300    300  \n",
       "       1        0        4        72     72  \n",
       "                1        2        47     47  "
      ]
     },
     "execution_count": 33,
     "metadata": {},
     "output_type": "execute_result"
    }
   ],
   "source": [
    "train.groupby(['Pclass','Survived','Sex']).count()"
   ]
  },
  {
   "cell_type": "markdown",
   "metadata": {
    "papermill": {
     "duration": 0.060362,
     "end_time": "2021-07-05T10:29:24.203419",
     "exception": false,
     "start_time": "2021-07-05T10:29:24.143057",
     "status": "completed"
    },
    "tags": []
   },
   "source": [
    "# cabin 있는 값과 없는 값으로 나누기"
   ]
  },
  {
   "cell_type": "code",
   "execution_count": 34,
   "metadata": {
    "execution": {
     "iopub.execute_input": "2021-07-05T10:29:24.332074Z",
     "iopub.status.busy": "2021-07-05T10:29:24.331321Z",
     "iopub.status.idle": "2021-07-05T10:29:24.335659Z",
     "shell.execute_reply": "2021-07-05T10:29:24.336177Z",
     "shell.execute_reply.started": "2021-07-05T10:28:22.570024Z"
    },
    "papermill": {
     "duration": 0.071264,
     "end_time": "2021-07-05T10:29:24.336385",
     "exception": false,
     "start_time": "2021-07-05T10:29:24.265121",
     "status": "completed"
    },
    "tags": []
   },
   "outputs": [
    {
     "data": {
      "text/plain": [
       "687"
      ]
     },
     "execution_count": 34,
     "metadata": {},
     "output_type": "execute_result"
    }
   ],
   "source": [
    "train['Cabin'].isnull().sum()"
   ]
  },
  {
   "cell_type": "code",
   "execution_count": 35,
   "metadata": {
    "execution": {
     "iopub.execute_input": "2021-07-05T10:29:24.466436Z",
     "iopub.status.busy": "2021-07-05T10:29:24.465741Z",
     "iopub.status.idle": "2021-07-05T10:29:24.469736Z",
     "shell.execute_reply": "2021-07-05T10:29:24.470382Z",
     "shell.execute_reply.started": "2021-07-05T10:28:22.580810Z"
    },
    "papermill": {
     "duration": 0.073805,
     "end_time": "2021-07-05T10:29:24.470627",
     "exception": false,
     "start_time": "2021-07-05T10:29:24.396822",
     "status": "completed"
    },
    "tags": []
   },
   "outputs": [
    {
     "data": {
      "text/plain": [
       "0       True\n",
       "1      False\n",
       "2       True\n",
       "3      False\n",
       "4       True\n",
       "       ...  \n",
       "886     True\n",
       "887    False\n",
       "888     True\n",
       "889    False\n",
       "890     True\n",
       "Name: Cabin, Length: 891, dtype: bool"
      ]
     },
     "execution_count": 35,
     "metadata": {},
     "output_type": "execute_result"
    }
   ],
   "source": [
    "train['Cabin'].isna()"
   ]
  },
  {
   "cell_type": "code",
   "execution_count": 36,
   "metadata": {
    "execution": {
     "iopub.execute_input": "2021-07-05T10:29:24.602290Z",
     "iopub.status.busy": "2021-07-05T10:29:24.601533Z",
     "iopub.status.idle": "2021-07-05T10:29:24.605087Z",
     "shell.execute_reply": "2021-07-05T10:29:24.604395Z",
     "shell.execute_reply.started": "2021-07-05T10:28:22.597584Z"
    },
    "papermill": {
     "duration": 0.074029,
     "end_time": "2021-07-05T10:29:24.605247",
     "exception": false,
     "start_time": "2021-07-05T10:29:24.531218",
     "status": "completed"
    },
    "tags": []
   },
   "outputs": [],
   "source": [
    "train.loc[train['Cabin'].isna(),'Cabin_bool']=1\n",
    "train.loc[~train['Cabin'].isna(),'Cabin_bool']=0"
   ]
  },
  {
   "cell_type": "code",
   "execution_count": 37,
   "metadata": {
    "execution": {
     "iopub.execute_input": "2021-07-05T10:29:24.736950Z",
     "iopub.status.busy": "2021-07-05T10:29:24.736048Z",
     "iopub.status.idle": "2021-07-05T10:29:24.740372Z",
     "shell.execute_reply": "2021-07-05T10:29:24.739861Z",
     "shell.execute_reply.started": "2021-07-05T10:28:22.613678Z"
    },
    "papermill": {
     "duration": 0.073925,
     "end_time": "2021-07-05T10:29:24.740554",
     "exception": false,
     "start_time": "2021-07-05T10:29:24.666629",
     "status": "completed"
    },
    "tags": []
   },
   "outputs": [
    {
     "data": {
      "text/plain": [
       "0      1.0\n",
       "1      0.0\n",
       "2      1.0\n",
       "3      0.0\n",
       "4      1.0\n",
       "      ... \n",
       "886    1.0\n",
       "887    0.0\n",
       "888    1.0\n",
       "889    0.0\n",
       "890    1.0\n",
       "Name: Cabin_bool, Length: 891, dtype: float64"
      ]
     },
     "execution_count": 37,
     "metadata": {},
     "output_type": "execute_result"
    }
   ],
   "source": [
    "train['Cabin_bool']"
   ]
  },
  {
   "cell_type": "code",
   "execution_count": 38,
   "metadata": {
    "execution": {
     "iopub.execute_input": "2021-07-05T10:29:24.872549Z",
     "iopub.status.busy": "2021-07-05T10:29:24.871752Z",
     "iopub.status.idle": "2021-07-05T10:29:24.875366Z",
     "shell.execute_reply": "2021-07-05T10:29:24.874734Z",
     "shell.execute_reply.started": "2021-07-05T10:28:22.627155Z"
    },
    "papermill": {
     "duration": 0.073069,
     "end_time": "2021-07-05T10:29:24.875540",
     "exception": false,
     "start_time": "2021-07-05T10:29:24.802471",
     "status": "completed"
    },
    "tags": []
   },
   "outputs": [
    {
     "data": {
      "text/plain": [
       "0       True\n",
       "1       True\n",
       "2       True\n",
       "3       True\n",
       "4       True\n",
       "       ...  \n",
       "413     True\n",
       "414    False\n",
       "415     True\n",
       "416     True\n",
       "417     True\n",
       "Name: Cabin, Length: 418, dtype: bool"
      ]
     },
     "execution_count": 38,
     "metadata": {},
     "output_type": "execute_result"
    }
   ],
   "source": [
    "test['Cabin'].isna()"
   ]
  },
  {
   "cell_type": "code",
   "execution_count": 39,
   "metadata": {
    "execution": {
     "iopub.execute_input": "2021-07-05T10:29:25.003270Z",
     "iopub.status.busy": "2021-07-05T10:29:25.002543Z",
     "iopub.status.idle": "2021-07-05T10:29:25.012094Z",
     "shell.execute_reply": "2021-07-05T10:29:25.011323Z",
     "shell.execute_reply.started": "2021-07-05T10:28:22.642772Z"
    },
    "papermill": {
     "duration": 0.075131,
     "end_time": "2021-07-05T10:29:25.012257",
     "exception": false,
     "start_time": "2021-07-05T10:29:24.937126",
     "status": "completed"
    },
    "tags": []
   },
   "outputs": [
    {
     "data": {
      "text/plain": [
       "0      False\n",
       "1      False\n",
       "2      False\n",
       "3      False\n",
       "4      False\n",
       "       ...  \n",
       "413    False\n",
       "414     True\n",
       "415    False\n",
       "416    False\n",
       "417    False\n",
       "Name: Cabin, Length: 418, dtype: bool"
      ]
     },
     "execution_count": 39,
     "metadata": {},
     "output_type": "execute_result"
    }
   ],
   "source": [
    "~test['Cabin'].isna()"
   ]
  },
  {
   "cell_type": "code",
   "execution_count": 40,
   "metadata": {
    "execution": {
     "iopub.execute_input": "2021-07-05T10:29:25.143160Z",
     "iopub.status.busy": "2021-07-05T10:29:25.142373Z",
     "iopub.status.idle": "2021-07-05T10:29:25.156385Z",
     "shell.execute_reply": "2021-07-05T10:29:25.155619Z",
     "shell.execute_reply.started": "2021-07-05T10:28:22.658360Z"
    },
    "papermill": {
     "duration": 0.081886,
     "end_time": "2021-07-05T10:29:25.156562",
     "exception": false,
     "start_time": "2021-07-05T10:29:25.074676",
     "status": "completed"
    },
    "tags": []
   },
   "outputs": [
    {
     "data": {
      "text/plain": [
       "0      1.0\n",
       "1      1.0\n",
       "2      1.0\n",
       "3      1.0\n",
       "4      1.0\n",
       "      ... \n",
       "413    1.0\n",
       "414    0.0\n",
       "415    1.0\n",
       "416    1.0\n",
       "417    1.0\n",
       "Name: Cabin_bool, Length: 418, dtype: float64"
      ]
     },
     "execution_count": 40,
     "metadata": {},
     "output_type": "execute_result"
    }
   ],
   "source": [
    "test.loc[test['Cabin'].isna(),'Cabin_bool']=1\n",
    "test.loc[~test['Cabin'].isna(),'Cabin_bool']=0\n",
    "test['Cabin_bool']"
   ]
  },
  {
   "cell_type": "markdown",
   "metadata": {
    "papermill": {
     "duration": 0.06217,
     "end_time": "2021-07-05T10:29:25.280764",
     "exception": false,
     "start_time": "2021-07-05T10:29:25.218594",
     "status": "completed"
    },
    "tags": []
   },
   "source": [
    "# age 기준으로 나누기"
   ]
  },
  {
   "cell_type": "code",
   "execution_count": 41,
   "metadata": {
    "execution": {
     "iopub.execute_input": "2021-07-05T10:29:25.411763Z",
     "iopub.status.busy": "2021-07-05T10:29:25.411057Z",
     "iopub.status.idle": "2021-07-05T10:29:25.415399Z",
     "shell.execute_reply": "2021-07-05T10:29:25.414856Z",
     "shell.execute_reply.started": "2021-07-05T10:28:22.675385Z"
    },
    "papermill": {
     "duration": 0.072423,
     "end_time": "2021-07-05T10:29:25.415577",
     "exception": false,
     "start_time": "2021-07-05T10:29:25.343154",
     "status": "completed"
    },
    "tags": []
   },
   "outputs": [
    {
     "name": "stdout",
     "output_type": "stream",
     "text": [
      "Index(['PassengerId', 'Survived', 'Pclass', 'Name', 'Sex', 'Age', 'SibSp',\n",
      "       'Parch', 'Ticket', 'Fare', 'Cabin', 'Embarked', 'Title', 'Cabin_bool'],\n",
      "      dtype='object')\n",
      "(891, 14)\n",
      "(418, 13)\n"
     ]
    }
   ],
   "source": [
    "print(train.columns)\n",
    "print(train.shape)\n",
    "print(test.shape)"
   ]
  },
  {
   "cell_type": "code",
   "execution_count": 42,
   "metadata": {
    "execution": {
     "iopub.execute_input": "2021-07-05T10:29:25.550891Z",
     "iopub.status.busy": "2021-07-05T10:29:25.549821Z",
     "iopub.status.idle": "2021-07-05T10:29:25.560197Z",
     "shell.execute_reply": "2021-07-05T10:29:25.560731Z",
     "shell.execute_reply.started": "2021-07-05T10:28:22.683742Z"
    },
    "papermill": {
     "duration": 0.082978,
     "end_time": "2021-07-05T10:29:25.560931",
     "exception": false,
     "start_time": "2021-07-05T10:29:25.477953",
     "status": "completed"
    },
    "tags": []
   },
   "outputs": [
    {
     "data": {
      "text/plain": [
       "((1309, 13),\n",
       " Index(['PassengerId', 'Pclass', 'Name', 'Sex', 'Age', 'SibSp', 'Parch',\n",
       "        'Ticket', 'Fare', 'Cabin', 'Embarked', 'Title', 'Cabin_bool'],\n",
       "       dtype='object'))"
      ]
     },
     "execution_count": 42,
     "metadata": {},
     "output_type": "execute_result"
    }
   ],
   "source": [
    "all_titanic=pd.concat([train,test],join='inner')\n",
    "all_titanic.shape, all_titanic.columns"
   ]
  },
  {
   "cell_type": "code",
   "execution_count": 43,
   "metadata": {
    "execution": {
     "iopub.execute_input": "2021-07-05T10:29:25.690941Z",
     "iopub.status.busy": "2021-07-05T10:29:25.690172Z",
     "iopub.status.idle": "2021-07-05T10:29:25.709078Z",
     "shell.execute_reply": "2021-07-05T10:29:25.709617Z",
     "shell.execute_reply.started": "2021-07-05T10:28:22.706493Z"
    },
    "papermill": {
     "duration": 0.086477,
     "end_time": "2021-07-05T10:29:25.709832",
     "exception": false,
     "start_time": "2021-07-05T10:29:25.623355",
     "status": "completed"
    },
    "tags": []
   },
   "outputs": [
    {
     "data": {
      "text/html": [
       "<div>\n",
       "<style scoped>\n",
       "    .dataframe tbody tr th:only-of-type {\n",
       "        vertical-align: middle;\n",
       "    }\n",
       "\n",
       "    .dataframe tbody tr th {\n",
       "        vertical-align: top;\n",
       "    }\n",
       "\n",
       "    .dataframe thead th {\n",
       "        text-align: right;\n",
       "    }\n",
       "</style>\n",
       "<table border=\"1\" class=\"dataframe\">\n",
       "  <thead>\n",
       "    <tr style=\"text-align: right;\">\n",
       "      <th></th>\n",
       "      <th>PassengerId</th>\n",
       "      <th>Pclass</th>\n",
       "      <th>Name</th>\n",
       "      <th>Sex</th>\n",
       "      <th>Age</th>\n",
       "      <th>SibSp</th>\n",
       "      <th>Parch</th>\n",
       "      <th>Ticket</th>\n",
       "      <th>Fare</th>\n",
       "      <th>Cabin</th>\n",
       "      <th>Embarked</th>\n",
       "      <th>Title</th>\n",
       "      <th>Cabin_bool</th>\n",
       "    </tr>\n",
       "  </thead>\n",
       "  <tbody>\n",
       "    <tr>\n",
       "      <th>0</th>\n",
       "      <td>1</td>\n",
       "      <td>3</td>\n",
       "      <td>Braund, Mr. Owen Harris</td>\n",
       "      <td>1</td>\n",
       "      <td>22.0</td>\n",
       "      <td>1</td>\n",
       "      <td>0</td>\n",
       "      <td>A/5 21171</td>\n",
       "      <td>7.2500</td>\n",
       "      <td>NaN</td>\n",
       "      <td>0</td>\n",
       "      <td>1</td>\n",
       "      <td>1.0</td>\n",
       "    </tr>\n",
       "    <tr>\n",
       "      <th>1</th>\n",
       "      <td>2</td>\n",
       "      <td>1</td>\n",
       "      <td>Cumings, Mrs. John Bradley (Florence Briggs Th...</td>\n",
       "      <td>0</td>\n",
       "      <td>38.0</td>\n",
       "      <td>1</td>\n",
       "      <td>0</td>\n",
       "      <td>PC 17599</td>\n",
       "      <td>71.2833</td>\n",
       "      <td>C85</td>\n",
       "      <td>1</td>\n",
       "      <td>3</td>\n",
       "      <td>0.0</td>\n",
       "    </tr>\n",
       "    <tr>\n",
       "      <th>2</th>\n",
       "      <td>3</td>\n",
       "      <td>3</td>\n",
       "      <td>Heikkinen, Miss. Laina</td>\n",
       "      <td>0</td>\n",
       "      <td>26.0</td>\n",
       "      <td>0</td>\n",
       "      <td>0</td>\n",
       "      <td>STON/O2. 3101282</td>\n",
       "      <td>7.9250</td>\n",
       "      <td>NaN</td>\n",
       "      <td>0</td>\n",
       "      <td>2</td>\n",
       "      <td>1.0</td>\n",
       "    </tr>\n",
       "    <tr>\n",
       "      <th>3</th>\n",
       "      <td>4</td>\n",
       "      <td>1</td>\n",
       "      <td>Futrelle, Mrs. Jacques Heath (Lily May Peel)</td>\n",
       "      <td>0</td>\n",
       "      <td>35.0</td>\n",
       "      <td>1</td>\n",
       "      <td>0</td>\n",
       "      <td>113803</td>\n",
       "      <td>53.1000</td>\n",
       "      <td>C123</td>\n",
       "      <td>0</td>\n",
       "      <td>3</td>\n",
       "      <td>0.0</td>\n",
       "    </tr>\n",
       "    <tr>\n",
       "      <th>4</th>\n",
       "      <td>5</td>\n",
       "      <td>3</td>\n",
       "      <td>Allen, Mr. William Henry</td>\n",
       "      <td>1</td>\n",
       "      <td>35.0</td>\n",
       "      <td>0</td>\n",
       "      <td>0</td>\n",
       "      <td>373450</td>\n",
       "      <td>8.0500</td>\n",
       "      <td>NaN</td>\n",
       "      <td>0</td>\n",
       "      <td>1</td>\n",
       "      <td>1.0</td>\n",
       "    </tr>\n",
       "  </tbody>\n",
       "</table>\n",
       "</div>"
      ],
      "text/plain": [
       "   PassengerId  Pclass                                               Name  \\\n",
       "0            1       3                            Braund, Mr. Owen Harris   \n",
       "1            2       1  Cumings, Mrs. John Bradley (Florence Briggs Th...   \n",
       "2            3       3                             Heikkinen, Miss. Laina   \n",
       "3            4       1       Futrelle, Mrs. Jacques Heath (Lily May Peel)   \n",
       "4            5       3                           Allen, Mr. William Henry   \n",
       "\n",
       "   Sex   Age  SibSp  Parch            Ticket     Fare Cabin  Embarked  Title  \\\n",
       "0    1  22.0      1      0         A/5 21171   7.2500   NaN         0      1   \n",
       "1    0  38.0      1      0          PC 17599  71.2833   C85         1      3   \n",
       "2    0  26.0      0      0  STON/O2. 3101282   7.9250   NaN         0      2   \n",
       "3    0  35.0      1      0            113803  53.1000  C123         0      3   \n",
       "4    1  35.0      0      0            373450   8.0500   NaN         0      1   \n",
       "\n",
       "   Cabin_bool  \n",
       "0         1.0  \n",
       "1         0.0  \n",
       "2         1.0  \n",
       "3         0.0  \n",
       "4         1.0  "
      ]
     },
     "execution_count": 43,
     "metadata": {},
     "output_type": "execute_result"
    }
   ],
   "source": [
    "all_titanic.head()"
   ]
  },
  {
   "cell_type": "code",
   "execution_count": 44,
   "metadata": {
    "execution": {
     "iopub.execute_input": "2021-07-05T10:29:25.845572Z",
     "iopub.status.busy": "2021-07-05T10:29:25.844421Z",
     "iopub.status.idle": "2021-07-05T10:29:25.859865Z",
     "shell.execute_reply": "2021-07-05T10:29:25.859207Z",
     "shell.execute_reply.started": "2021-07-05T10:28:22.730155Z"
    },
    "papermill": {
     "duration": 0.086236,
     "end_time": "2021-07-05T10:29:25.860063",
     "exception": false,
     "start_time": "2021-07-05T10:29:25.773827",
     "status": "completed"
    },
    "tags": []
   },
   "outputs": [
    {
     "data": {
      "text/plain": [
       "PassengerId       0\n",
       "Pclass            0\n",
       "Name              0\n",
       "Sex               0\n",
       "Age               0\n",
       "SibSp             0\n",
       "Parch             0\n",
       "Ticket            0\n",
       "Fare              0\n",
       "Cabin          1014\n",
       "Embarked          0\n",
       "Title             0\n",
       "Cabin_bool        0\n",
       "dtype: int64"
      ]
     },
     "execution_count": 44,
     "metadata": {},
     "output_type": "execute_result"
    }
   ],
   "source": [
    "all_titanic['Age']=all_titanic['Age'].fillna(all_titanic['Age'].mean())\n",
    "all_titanic.isnull().sum()"
   ]
  },
  {
   "cell_type": "code",
   "execution_count": 45,
   "metadata": {
    "execution": {
     "iopub.execute_input": "2021-07-05T10:29:25.996432Z",
     "iopub.status.busy": "2021-07-05T10:29:25.995699Z",
     "iopub.status.idle": "2021-07-05T10:29:26.035070Z",
     "shell.execute_reply": "2021-07-05T10:29:26.035644Z",
     "shell.execute_reply.started": "2021-07-05T10:28:22.748856Z"
    },
    "papermill": {
     "duration": 0.112116,
     "end_time": "2021-07-05T10:29:26.035857",
     "exception": false,
     "start_time": "2021-07-05T10:29:25.923741",
     "status": "completed"
    },
    "tags": []
   },
   "outputs": [
    {
     "data": {
      "text/html": [
       "<div>\n",
       "<style scoped>\n",
       "    .dataframe tbody tr th:only-of-type {\n",
       "        vertical-align: middle;\n",
       "    }\n",
       "\n",
       "    .dataframe tbody tr th {\n",
       "        vertical-align: top;\n",
       "    }\n",
       "\n",
       "    .dataframe thead th {\n",
       "        text-align: right;\n",
       "    }\n",
       "</style>\n",
       "<table border=\"1\" class=\"dataframe\">\n",
       "  <thead>\n",
       "    <tr style=\"text-align: right;\">\n",
       "      <th></th>\n",
       "      <th>PassengerId</th>\n",
       "      <th>Pclass</th>\n",
       "      <th>Name</th>\n",
       "      <th>Sex</th>\n",
       "      <th>Age</th>\n",
       "      <th>SibSp</th>\n",
       "      <th>Parch</th>\n",
       "      <th>Ticket</th>\n",
       "      <th>Fare</th>\n",
       "      <th>Cabin</th>\n",
       "      <th>Embarked</th>\n",
       "      <th>Title</th>\n",
       "      <th>Cabin_bool</th>\n",
       "      <th>qcut_Age</th>\n",
       "    </tr>\n",
       "  </thead>\n",
       "  <tbody>\n",
       "    <tr>\n",
       "      <th>0</th>\n",
       "      <td>1</td>\n",
       "      <td>3</td>\n",
       "      <td>Braund, Mr. Owen Harris</td>\n",
       "      <td>1</td>\n",
       "      <td>22.000000</td>\n",
       "      <td>1</td>\n",
       "      <td>0</td>\n",
       "      <td>A/5 21171</td>\n",
       "      <td>7.2500</td>\n",
       "      <td>NaN</td>\n",
       "      <td>0</td>\n",
       "      <td>1</td>\n",
       "      <td>1.0</td>\n",
       "      <td>1</td>\n",
       "    </tr>\n",
       "    <tr>\n",
       "      <th>1</th>\n",
       "      <td>2</td>\n",
       "      <td>1</td>\n",
       "      <td>Cumings, Mrs. John Bradley (Florence Briggs Th...</td>\n",
       "      <td>0</td>\n",
       "      <td>38.000000</td>\n",
       "      <td>1</td>\n",
       "      <td>0</td>\n",
       "      <td>PC 17599</td>\n",
       "      <td>71.2833</td>\n",
       "      <td>C85</td>\n",
       "      <td>1</td>\n",
       "      <td>3</td>\n",
       "      <td>0.0</td>\n",
       "      <td>3</td>\n",
       "    </tr>\n",
       "    <tr>\n",
       "      <th>2</th>\n",
       "      <td>3</td>\n",
       "      <td>3</td>\n",
       "      <td>Heikkinen, Miss. Laina</td>\n",
       "      <td>0</td>\n",
       "      <td>26.000000</td>\n",
       "      <td>0</td>\n",
       "      <td>0</td>\n",
       "      <td>STON/O2. 3101282</td>\n",
       "      <td>7.9250</td>\n",
       "      <td>NaN</td>\n",
       "      <td>0</td>\n",
       "      <td>2</td>\n",
       "      <td>1.0</td>\n",
       "      <td>1</td>\n",
       "    </tr>\n",
       "    <tr>\n",
       "      <th>3</th>\n",
       "      <td>4</td>\n",
       "      <td>1</td>\n",
       "      <td>Futrelle, Mrs. Jacques Heath (Lily May Peel)</td>\n",
       "      <td>0</td>\n",
       "      <td>35.000000</td>\n",
       "      <td>1</td>\n",
       "      <td>0</td>\n",
       "      <td>113803</td>\n",
       "      <td>53.1000</td>\n",
       "      <td>C123</td>\n",
       "      <td>0</td>\n",
       "      <td>3</td>\n",
       "      <td>0.0</td>\n",
       "      <td>3</td>\n",
       "    </tr>\n",
       "    <tr>\n",
       "      <th>4</th>\n",
       "      <td>5</td>\n",
       "      <td>3</td>\n",
       "      <td>Allen, Mr. William Henry</td>\n",
       "      <td>1</td>\n",
       "      <td>35.000000</td>\n",
       "      <td>0</td>\n",
       "      <td>0</td>\n",
       "      <td>373450</td>\n",
       "      <td>8.0500</td>\n",
       "      <td>NaN</td>\n",
       "      <td>0</td>\n",
       "      <td>1</td>\n",
       "      <td>1.0</td>\n",
       "      <td>3</td>\n",
       "    </tr>\n",
       "    <tr>\n",
       "      <th>5</th>\n",
       "      <td>6</td>\n",
       "      <td>3</td>\n",
       "      <td>Moran, Mr. James</td>\n",
       "      <td>1</td>\n",
       "      <td>29.881138</td>\n",
       "      <td>0</td>\n",
       "      <td>0</td>\n",
       "      <td>330877</td>\n",
       "      <td>8.4583</td>\n",
       "      <td>NaN</td>\n",
       "      <td>2</td>\n",
       "      <td>1</td>\n",
       "      <td>1.0</td>\n",
       "      <td>2</td>\n",
       "    </tr>\n",
       "    <tr>\n",
       "      <th>6</th>\n",
       "      <td>7</td>\n",
       "      <td>1</td>\n",
       "      <td>McCarthy, Mr. Timothy J</td>\n",
       "      <td>1</td>\n",
       "      <td>54.000000</td>\n",
       "      <td>0</td>\n",
       "      <td>0</td>\n",
       "      <td>17463</td>\n",
       "      <td>51.8625</td>\n",
       "      <td>E46</td>\n",
       "      <td>0</td>\n",
       "      <td>1</td>\n",
       "      <td>0.0</td>\n",
       "      <td>4</td>\n",
       "    </tr>\n",
       "    <tr>\n",
       "      <th>7</th>\n",
       "      <td>8</td>\n",
       "      <td>3</td>\n",
       "      <td>Palsson, Master. Gosta Leonard</td>\n",
       "      <td>1</td>\n",
       "      <td>2.000000</td>\n",
       "      <td>3</td>\n",
       "      <td>1</td>\n",
       "      <td>349909</td>\n",
       "      <td>21.0750</td>\n",
       "      <td>NaN</td>\n",
       "      <td>0</td>\n",
       "      <td>4</td>\n",
       "      <td>1.0</td>\n",
       "      <td>0</td>\n",
       "    </tr>\n",
       "    <tr>\n",
       "      <th>8</th>\n",
       "      <td>9</td>\n",
       "      <td>3</td>\n",
       "      <td>Johnson, Mrs. Oscar W (Elisabeth Vilhelmina Berg)</td>\n",
       "      <td>0</td>\n",
       "      <td>27.000000</td>\n",
       "      <td>0</td>\n",
       "      <td>2</td>\n",
       "      <td>347742</td>\n",
       "      <td>11.1333</td>\n",
       "      <td>NaN</td>\n",
       "      <td>0</td>\n",
       "      <td>3</td>\n",
       "      <td>1.0</td>\n",
       "      <td>1</td>\n",
       "    </tr>\n",
       "    <tr>\n",
       "      <th>9</th>\n",
       "      <td>10</td>\n",
       "      <td>2</td>\n",
       "      <td>Nasser, Mrs. Nicholas (Adele Achem)</td>\n",
       "      <td>0</td>\n",
       "      <td>14.000000</td>\n",
       "      <td>1</td>\n",
       "      <td>0</td>\n",
       "      <td>237736</td>\n",
       "      <td>30.0708</td>\n",
       "      <td>NaN</td>\n",
       "      <td>1</td>\n",
       "      <td>3</td>\n",
       "      <td>1.0</td>\n",
       "      <td>0</td>\n",
       "    </tr>\n",
       "  </tbody>\n",
       "</table>\n",
       "</div>"
      ],
      "text/plain": [
       "   PassengerId  Pclass                                               Name  \\\n",
       "0            1       3                            Braund, Mr. Owen Harris   \n",
       "1            2       1  Cumings, Mrs. John Bradley (Florence Briggs Th...   \n",
       "2            3       3                             Heikkinen, Miss. Laina   \n",
       "3            4       1       Futrelle, Mrs. Jacques Heath (Lily May Peel)   \n",
       "4            5       3                           Allen, Mr. William Henry   \n",
       "5            6       3                                   Moran, Mr. James   \n",
       "6            7       1                            McCarthy, Mr. Timothy J   \n",
       "7            8       3                     Palsson, Master. Gosta Leonard   \n",
       "8            9       3  Johnson, Mrs. Oscar W (Elisabeth Vilhelmina Berg)   \n",
       "9           10       2                Nasser, Mrs. Nicholas (Adele Achem)   \n",
       "\n",
       "   Sex        Age  SibSp  Parch            Ticket     Fare Cabin  Embarked  \\\n",
       "0    1  22.000000      1      0         A/5 21171   7.2500   NaN         0   \n",
       "1    0  38.000000      1      0          PC 17599  71.2833   C85         1   \n",
       "2    0  26.000000      0      0  STON/O2. 3101282   7.9250   NaN         0   \n",
       "3    0  35.000000      1      0            113803  53.1000  C123         0   \n",
       "4    1  35.000000      0      0            373450   8.0500   NaN         0   \n",
       "5    1  29.881138      0      0            330877   8.4583   NaN         2   \n",
       "6    1  54.000000      0      0             17463  51.8625   E46         0   \n",
       "7    1   2.000000      3      1            349909  21.0750   NaN         0   \n",
       "8    0  27.000000      0      2            347742  11.1333   NaN         0   \n",
       "9    0  14.000000      1      0            237736  30.0708   NaN         1   \n",
       "\n",
       "   Title  Cabin_bool  qcut_Age  \n",
       "0      1         1.0         1  \n",
       "1      3         0.0         3  \n",
       "2      2         1.0         1  \n",
       "3      3         0.0         3  \n",
       "4      1         1.0         3  \n",
       "5      1         1.0         2  \n",
       "6      1         0.0         4  \n",
       "7      4         1.0         0  \n",
       "8      3         1.0         1  \n",
       "9      3         1.0         0  "
      ]
     },
     "execution_count": 45,
     "metadata": {},
     "output_type": "execute_result"
    }
   ],
   "source": [
    "all_titanic['qcut_Age']=pd.qcut(all_titanic['Age'],5,labels=False)\n",
    "all_titanic[0:10]"
   ]
  },
  {
   "cell_type": "code",
   "execution_count": 46,
   "metadata": {
    "execution": {
     "iopub.execute_input": "2021-07-05T10:29:26.169149Z",
     "iopub.status.busy": "2021-07-05T10:29:26.168554Z",
     "iopub.status.idle": "2021-07-05T10:29:26.176092Z",
     "shell.execute_reply": "2021-07-05T10:29:26.176642Z",
     "shell.execute_reply.started": "2021-07-05T10:28:22.784105Z"
    },
    "papermill": {
     "duration": 0.076667,
     "end_time": "2021-07-05T10:29:26.176852",
     "exception": false,
     "start_time": "2021-07-05T10:29:26.100185",
     "status": "completed"
    },
    "tags": []
   },
   "outputs": [
    {
     "name": "stdout",
     "output_type": "stream",
     "text": [
      "(891, 14) (418, 13)\n"
     ]
    },
    {
     "data": {
      "text/plain": [
       "(1309, 14)"
      ]
     },
     "execution_count": 46,
     "metadata": {},
     "output_type": "execute_result"
    }
   ],
   "source": [
    "print(train.shape, test.shape)\n",
    "all_titanic.shape"
   ]
  },
  {
   "cell_type": "code",
   "execution_count": 47,
   "metadata": {
    "execution": {
     "iopub.execute_input": "2021-07-05T10:29:26.314846Z",
     "iopub.status.busy": "2021-07-05T10:29:26.314045Z",
     "iopub.status.idle": "2021-07-05T10:29:26.317089Z",
     "shell.execute_reply": "2021-07-05T10:29:26.317573Z",
     "shell.execute_reply.started": "2021-07-05T10:28:22.797321Z"
    },
    "papermill": {
     "duration": 0.075793,
     "end_time": "2021-07-05T10:29:26.317791",
     "exception": false,
     "start_time": "2021-07-05T10:29:26.241998",
     "status": "completed"
    },
    "tags": []
   },
   "outputs": [
    {
     "data": {
      "text/plain": [
       "((891, 14), (418, 14))"
      ]
     },
     "execution_count": 47,
     "metadata": {},
     "output_type": "execute_result"
    }
   ],
   "source": [
    "train_df=all_titanic.iloc[0:891,:]\n",
    "test_df=all_titanic.iloc[891:,:]\n",
    "train_df.shape, test_df.shape"
   ]
  },
  {
   "cell_type": "code",
   "execution_count": 48,
   "metadata": {
    "execution": {
     "iopub.execute_input": "2021-07-05T10:29:26.458164Z",
     "iopub.status.busy": "2021-07-05T10:29:26.457336Z",
     "iopub.status.idle": "2021-07-05T10:29:26.483542Z",
     "shell.execute_reply": "2021-07-05T10:29:26.484030Z",
     "shell.execute_reply.started": "2021-07-05T10:28:22.811378Z"
    },
    "papermill": {
     "duration": 0.100485,
     "end_time": "2021-07-05T10:29:26.484243",
     "exception": false,
     "start_time": "2021-07-05T10:29:26.383758",
     "status": "completed"
    },
    "tags": []
   },
   "outputs": [
    {
     "data": {
      "text/html": [
       "<div>\n",
       "<style scoped>\n",
       "    .dataframe tbody tr th:only-of-type {\n",
       "        vertical-align: middle;\n",
       "    }\n",
       "\n",
       "    .dataframe tbody tr th {\n",
       "        vertical-align: top;\n",
       "    }\n",
       "\n",
       "    .dataframe thead th {\n",
       "        text-align: right;\n",
       "    }\n",
       "</style>\n",
       "<table border=\"1\" class=\"dataframe\">\n",
       "  <thead>\n",
       "    <tr style=\"text-align: right;\">\n",
       "      <th></th>\n",
       "      <th>PassengerId</th>\n",
       "      <th>Pclass</th>\n",
       "      <th>Name</th>\n",
       "      <th>Sex</th>\n",
       "      <th>Age</th>\n",
       "      <th>SibSp</th>\n",
       "      <th>Parch</th>\n",
       "      <th>Ticket</th>\n",
       "      <th>Fare</th>\n",
       "      <th>Cabin</th>\n",
       "      <th>Embarked</th>\n",
       "      <th>Title</th>\n",
       "      <th>Cabin_bool</th>\n",
       "      <th>qcut_Age</th>\n",
       "      <th>Survived</th>\n",
       "    </tr>\n",
       "  </thead>\n",
       "  <tbody>\n",
       "    <tr>\n",
       "      <th>0</th>\n",
       "      <td>1</td>\n",
       "      <td>3</td>\n",
       "      <td>Braund, Mr. Owen Harris</td>\n",
       "      <td>1</td>\n",
       "      <td>22.000000</td>\n",
       "      <td>1</td>\n",
       "      <td>0</td>\n",
       "      <td>A/5 21171</td>\n",
       "      <td>7.2500</td>\n",
       "      <td>NaN</td>\n",
       "      <td>0</td>\n",
       "      <td>1</td>\n",
       "      <td>1.0</td>\n",
       "      <td>1</td>\n",
       "      <td>0</td>\n",
       "    </tr>\n",
       "    <tr>\n",
       "      <th>1</th>\n",
       "      <td>2</td>\n",
       "      <td>1</td>\n",
       "      <td>Cumings, Mrs. John Bradley (Florence Briggs Th...</td>\n",
       "      <td>0</td>\n",
       "      <td>38.000000</td>\n",
       "      <td>1</td>\n",
       "      <td>0</td>\n",
       "      <td>PC 17599</td>\n",
       "      <td>71.2833</td>\n",
       "      <td>C85</td>\n",
       "      <td>1</td>\n",
       "      <td>3</td>\n",
       "      <td>0.0</td>\n",
       "      <td>3</td>\n",
       "      <td>1</td>\n",
       "    </tr>\n",
       "    <tr>\n",
       "      <th>2</th>\n",
       "      <td>3</td>\n",
       "      <td>3</td>\n",
       "      <td>Heikkinen, Miss. Laina</td>\n",
       "      <td>0</td>\n",
       "      <td>26.000000</td>\n",
       "      <td>0</td>\n",
       "      <td>0</td>\n",
       "      <td>STON/O2. 3101282</td>\n",
       "      <td>7.9250</td>\n",
       "      <td>NaN</td>\n",
       "      <td>0</td>\n",
       "      <td>2</td>\n",
       "      <td>1.0</td>\n",
       "      <td>1</td>\n",
       "      <td>1</td>\n",
       "    </tr>\n",
       "    <tr>\n",
       "      <th>3</th>\n",
       "      <td>4</td>\n",
       "      <td>1</td>\n",
       "      <td>Futrelle, Mrs. Jacques Heath (Lily May Peel)</td>\n",
       "      <td>0</td>\n",
       "      <td>35.000000</td>\n",
       "      <td>1</td>\n",
       "      <td>0</td>\n",
       "      <td>113803</td>\n",
       "      <td>53.1000</td>\n",
       "      <td>C123</td>\n",
       "      <td>0</td>\n",
       "      <td>3</td>\n",
       "      <td>0.0</td>\n",
       "      <td>3</td>\n",
       "      <td>1</td>\n",
       "    </tr>\n",
       "    <tr>\n",
       "      <th>4</th>\n",
       "      <td>5</td>\n",
       "      <td>3</td>\n",
       "      <td>Allen, Mr. William Henry</td>\n",
       "      <td>1</td>\n",
       "      <td>35.000000</td>\n",
       "      <td>0</td>\n",
       "      <td>0</td>\n",
       "      <td>373450</td>\n",
       "      <td>8.0500</td>\n",
       "      <td>NaN</td>\n",
       "      <td>0</td>\n",
       "      <td>1</td>\n",
       "      <td>1.0</td>\n",
       "      <td>3</td>\n",
       "      <td>0</td>\n",
       "    </tr>\n",
       "    <tr>\n",
       "      <th>5</th>\n",
       "      <td>6</td>\n",
       "      <td>3</td>\n",
       "      <td>Moran, Mr. James</td>\n",
       "      <td>1</td>\n",
       "      <td>29.881138</td>\n",
       "      <td>0</td>\n",
       "      <td>0</td>\n",
       "      <td>330877</td>\n",
       "      <td>8.4583</td>\n",
       "      <td>NaN</td>\n",
       "      <td>2</td>\n",
       "      <td>1</td>\n",
       "      <td>1.0</td>\n",
       "      <td>2</td>\n",
       "      <td>0</td>\n",
       "    </tr>\n",
       "    <tr>\n",
       "      <th>6</th>\n",
       "      <td>7</td>\n",
       "      <td>1</td>\n",
       "      <td>McCarthy, Mr. Timothy J</td>\n",
       "      <td>1</td>\n",
       "      <td>54.000000</td>\n",
       "      <td>0</td>\n",
       "      <td>0</td>\n",
       "      <td>17463</td>\n",
       "      <td>51.8625</td>\n",
       "      <td>E46</td>\n",
       "      <td>0</td>\n",
       "      <td>1</td>\n",
       "      <td>0.0</td>\n",
       "      <td>4</td>\n",
       "      <td>0</td>\n",
       "    </tr>\n",
       "    <tr>\n",
       "      <th>7</th>\n",
       "      <td>8</td>\n",
       "      <td>3</td>\n",
       "      <td>Palsson, Master. Gosta Leonard</td>\n",
       "      <td>1</td>\n",
       "      <td>2.000000</td>\n",
       "      <td>3</td>\n",
       "      <td>1</td>\n",
       "      <td>349909</td>\n",
       "      <td>21.0750</td>\n",
       "      <td>NaN</td>\n",
       "      <td>0</td>\n",
       "      <td>4</td>\n",
       "      <td>1.0</td>\n",
       "      <td>0</td>\n",
       "      <td>0</td>\n",
       "    </tr>\n",
       "    <tr>\n",
       "      <th>8</th>\n",
       "      <td>9</td>\n",
       "      <td>3</td>\n",
       "      <td>Johnson, Mrs. Oscar W (Elisabeth Vilhelmina Berg)</td>\n",
       "      <td>0</td>\n",
       "      <td>27.000000</td>\n",
       "      <td>0</td>\n",
       "      <td>2</td>\n",
       "      <td>347742</td>\n",
       "      <td>11.1333</td>\n",
       "      <td>NaN</td>\n",
       "      <td>0</td>\n",
       "      <td>3</td>\n",
       "      <td>1.0</td>\n",
       "      <td>1</td>\n",
       "      <td>1</td>\n",
       "    </tr>\n",
       "    <tr>\n",
       "      <th>9</th>\n",
       "      <td>10</td>\n",
       "      <td>2</td>\n",
       "      <td>Nasser, Mrs. Nicholas (Adele Achem)</td>\n",
       "      <td>0</td>\n",
       "      <td>14.000000</td>\n",
       "      <td>1</td>\n",
       "      <td>0</td>\n",
       "      <td>237736</td>\n",
       "      <td>30.0708</td>\n",
       "      <td>NaN</td>\n",
       "      <td>1</td>\n",
       "      <td>3</td>\n",
       "      <td>1.0</td>\n",
       "      <td>0</td>\n",
       "      <td>1</td>\n",
       "    </tr>\n",
       "  </tbody>\n",
       "</table>\n",
       "</div>"
      ],
      "text/plain": [
       "   PassengerId  Pclass                                               Name  \\\n",
       "0            1       3                            Braund, Mr. Owen Harris   \n",
       "1            2       1  Cumings, Mrs. John Bradley (Florence Briggs Th...   \n",
       "2            3       3                             Heikkinen, Miss. Laina   \n",
       "3            4       1       Futrelle, Mrs. Jacques Heath (Lily May Peel)   \n",
       "4            5       3                           Allen, Mr. William Henry   \n",
       "5            6       3                                   Moran, Mr. James   \n",
       "6            7       1                            McCarthy, Mr. Timothy J   \n",
       "7            8       3                     Palsson, Master. Gosta Leonard   \n",
       "8            9       3  Johnson, Mrs. Oscar W (Elisabeth Vilhelmina Berg)   \n",
       "9           10       2                Nasser, Mrs. Nicholas (Adele Achem)   \n",
       "\n",
       "   Sex        Age  SibSp  Parch            Ticket     Fare Cabin  Embarked  \\\n",
       "0    1  22.000000      1      0         A/5 21171   7.2500   NaN         0   \n",
       "1    0  38.000000      1      0          PC 17599  71.2833   C85         1   \n",
       "2    0  26.000000      0      0  STON/O2. 3101282   7.9250   NaN         0   \n",
       "3    0  35.000000      1      0            113803  53.1000  C123         0   \n",
       "4    1  35.000000      0      0            373450   8.0500   NaN         0   \n",
       "5    1  29.881138      0      0            330877   8.4583   NaN         2   \n",
       "6    1  54.000000      0      0             17463  51.8625   E46         0   \n",
       "7    1   2.000000      3      1            349909  21.0750   NaN         0   \n",
       "8    0  27.000000      0      2            347742  11.1333   NaN         0   \n",
       "9    0  14.000000      1      0            237736  30.0708   NaN         1   \n",
       "\n",
       "   Title  Cabin_bool  qcut_Age  Survived  \n",
       "0      1         1.0         1         0  \n",
       "1      3         0.0         3         1  \n",
       "2      2         1.0         1         1  \n",
       "3      3         0.0         3         1  \n",
       "4      1         1.0         3         0  \n",
       "5      1         1.0         2         0  \n",
       "6      1         0.0         4         0  \n",
       "7      4         1.0         0         0  \n",
       "8      3         1.0         1         1  \n",
       "9      3         1.0         0         1  "
      ]
     },
     "execution_count": 48,
     "metadata": {},
     "output_type": "execute_result"
    }
   ],
   "source": [
    "train_df = pd.concat([train_df, train['Survived']],axis=1 )\n",
    "train_df[0:10]"
   ]
  },
  {
   "cell_type": "markdown",
   "metadata": {
    "papermill": {
     "duration": 0.065886,
     "end_time": "2021-07-05T10:29:26.616981",
     "exception": false,
     "start_time": "2021-07-05T10:29:26.551095",
     "status": "completed"
    },
    "tags": []
   },
   "source": [
    "# fare를 구간나누기"
   ]
  },
  {
   "cell_type": "code",
   "execution_count": 49,
   "metadata": {
    "execution": {
     "iopub.execute_input": "2021-07-05T10:29:26.752699Z",
     "iopub.status.busy": "2021-07-05T10:29:26.752021Z",
     "iopub.status.idle": "2021-07-05T10:29:26.762162Z",
     "shell.execute_reply": "2021-07-05T10:29:26.761085Z",
     "shell.execute_reply.started": "2021-07-05T10:28:22.854031Z"
    },
    "papermill": {
     "duration": 0.079438,
     "end_time": "2021-07-05T10:29:26.762468",
     "exception": false,
     "start_time": "2021-07-05T10:29:26.683030",
     "status": "completed"
    },
    "tags": []
   },
   "outputs": [
    {
     "name": "stdout",
     "output_type": "stream",
     "text": [
      "8.0500     43\n",
      "13.0000    42\n",
      "7.8958     38\n",
      "7.7500     34\n",
      "26.0000    31\n",
      "           ..\n",
      "8.4583      1\n",
      "9.8375      1\n",
      "8.3625      1\n",
      "14.1083     1\n",
      "17.4000     1\n",
      "Name: Fare, Length: 248, dtype: int64\n",
      "float64\n"
     ]
    }
   ],
   "source": [
    "print(train['Fare'].value_counts())\n",
    "print(train['Fare'].dtypes)"
   ]
  },
  {
   "cell_type": "code",
   "execution_count": 50,
   "metadata": {
    "execution": {
     "iopub.execute_input": "2021-07-05T10:29:26.900504Z",
     "iopub.status.busy": "2021-07-05T10:29:26.899783Z",
     "iopub.status.idle": "2021-07-05T10:29:26.913166Z",
     "shell.execute_reply": "2021-07-05T10:29:26.913657Z",
     "shell.execute_reply.started": "2021-07-05T10:28:22.866939Z"
    },
    "papermill": {
     "duration": 0.083758,
     "end_time": "2021-07-05T10:29:26.913867",
     "exception": false,
     "start_time": "2021-07-05T10:29:26.830109",
     "status": "completed"
    },
    "tags": []
   },
   "outputs": [
    {
     "data": {
      "text/plain": [
       "((1309, 14),\n",
       " Index(['PassengerId', 'Pclass', 'Name', 'Sex', 'Age', 'SibSp', 'Parch',\n",
       "        'Ticket', 'Fare', 'Cabin', 'Embarked', 'Title', 'Cabin_bool',\n",
       "        'qcut_Age'],\n",
       "       dtype='object'))"
      ]
     },
     "execution_count": 50,
     "metadata": {},
     "output_type": "execute_result"
    }
   ],
   "source": [
    "all_titanic=pd.concat([train_df,test_df],join='inner')\n",
    "all_titanic.shape, all_titanic.columns"
   ]
  },
  {
   "cell_type": "code",
   "execution_count": 51,
   "metadata": {
    "execution": {
     "iopub.execute_input": "2021-07-05T10:29:27.052691Z",
     "iopub.status.busy": "2021-07-05T10:29:27.051933Z",
     "iopub.status.idle": "2021-07-05T10:29:27.070364Z",
     "shell.execute_reply": "2021-07-05T10:29:27.070894Z",
     "shell.execute_reply.started": "2021-07-05T10:28:22.894092Z"
    },
    "papermill": {
     "duration": 0.089365,
     "end_time": "2021-07-05T10:29:27.071117",
     "exception": false,
     "start_time": "2021-07-05T10:29:26.981752",
     "status": "completed"
    },
    "tags": []
   },
   "outputs": [
    {
     "data": {
      "text/html": [
       "<div>\n",
       "<style scoped>\n",
       "    .dataframe tbody tr th:only-of-type {\n",
       "        vertical-align: middle;\n",
       "    }\n",
       "\n",
       "    .dataframe tbody tr th {\n",
       "        vertical-align: top;\n",
       "    }\n",
       "\n",
       "    .dataframe thead th {\n",
       "        text-align: right;\n",
       "    }\n",
       "</style>\n",
       "<table border=\"1\" class=\"dataframe\">\n",
       "  <thead>\n",
       "    <tr style=\"text-align: right;\">\n",
       "      <th></th>\n",
       "      <th>PassengerId</th>\n",
       "      <th>Pclass</th>\n",
       "      <th>Name</th>\n",
       "      <th>Sex</th>\n",
       "      <th>Age</th>\n",
       "      <th>SibSp</th>\n",
       "      <th>Parch</th>\n",
       "      <th>Ticket</th>\n",
       "      <th>Fare</th>\n",
       "      <th>Cabin</th>\n",
       "      <th>Embarked</th>\n",
       "      <th>Title</th>\n",
       "      <th>Cabin_bool</th>\n",
       "      <th>qcut_Age</th>\n",
       "    </tr>\n",
       "  </thead>\n",
       "  <tbody>\n",
       "    <tr>\n",
       "      <th>0</th>\n",
       "      <td>1</td>\n",
       "      <td>3</td>\n",
       "      <td>Braund, Mr. Owen Harris</td>\n",
       "      <td>1</td>\n",
       "      <td>22.0</td>\n",
       "      <td>1</td>\n",
       "      <td>0</td>\n",
       "      <td>A/5 21171</td>\n",
       "      <td>7.2500</td>\n",
       "      <td>NaN</td>\n",
       "      <td>0</td>\n",
       "      <td>1</td>\n",
       "      <td>1.0</td>\n",
       "      <td>1</td>\n",
       "    </tr>\n",
       "    <tr>\n",
       "      <th>1</th>\n",
       "      <td>2</td>\n",
       "      <td>1</td>\n",
       "      <td>Cumings, Mrs. John Bradley (Florence Briggs Th...</td>\n",
       "      <td>0</td>\n",
       "      <td>38.0</td>\n",
       "      <td>1</td>\n",
       "      <td>0</td>\n",
       "      <td>PC 17599</td>\n",
       "      <td>71.2833</td>\n",
       "      <td>C85</td>\n",
       "      <td>1</td>\n",
       "      <td>3</td>\n",
       "      <td>0.0</td>\n",
       "      <td>3</td>\n",
       "    </tr>\n",
       "    <tr>\n",
       "      <th>2</th>\n",
       "      <td>3</td>\n",
       "      <td>3</td>\n",
       "      <td>Heikkinen, Miss. Laina</td>\n",
       "      <td>0</td>\n",
       "      <td>26.0</td>\n",
       "      <td>0</td>\n",
       "      <td>0</td>\n",
       "      <td>STON/O2. 3101282</td>\n",
       "      <td>7.9250</td>\n",
       "      <td>NaN</td>\n",
       "      <td>0</td>\n",
       "      <td>2</td>\n",
       "      <td>1.0</td>\n",
       "      <td>1</td>\n",
       "    </tr>\n",
       "    <tr>\n",
       "      <th>3</th>\n",
       "      <td>4</td>\n",
       "      <td>1</td>\n",
       "      <td>Futrelle, Mrs. Jacques Heath (Lily May Peel)</td>\n",
       "      <td>0</td>\n",
       "      <td>35.0</td>\n",
       "      <td>1</td>\n",
       "      <td>0</td>\n",
       "      <td>113803</td>\n",
       "      <td>53.1000</td>\n",
       "      <td>C123</td>\n",
       "      <td>0</td>\n",
       "      <td>3</td>\n",
       "      <td>0.0</td>\n",
       "      <td>3</td>\n",
       "    </tr>\n",
       "    <tr>\n",
       "      <th>4</th>\n",
       "      <td>5</td>\n",
       "      <td>3</td>\n",
       "      <td>Allen, Mr. William Henry</td>\n",
       "      <td>1</td>\n",
       "      <td>35.0</td>\n",
       "      <td>0</td>\n",
       "      <td>0</td>\n",
       "      <td>373450</td>\n",
       "      <td>8.0500</td>\n",
       "      <td>NaN</td>\n",
       "      <td>0</td>\n",
       "      <td>1</td>\n",
       "      <td>1.0</td>\n",
       "      <td>3</td>\n",
       "    </tr>\n",
       "  </tbody>\n",
       "</table>\n",
       "</div>"
      ],
      "text/plain": [
       "   PassengerId  Pclass                                               Name  \\\n",
       "0            1       3                            Braund, Mr. Owen Harris   \n",
       "1            2       1  Cumings, Mrs. John Bradley (Florence Briggs Th...   \n",
       "2            3       3                             Heikkinen, Miss. Laina   \n",
       "3            4       1       Futrelle, Mrs. Jacques Heath (Lily May Peel)   \n",
       "4            5       3                           Allen, Mr. William Henry   \n",
       "\n",
       "   Sex   Age  SibSp  Parch            Ticket     Fare Cabin  Embarked  Title  \\\n",
       "0    1  22.0      1      0         A/5 21171   7.2500   NaN         0      1   \n",
       "1    0  38.0      1      0          PC 17599  71.2833   C85         1      3   \n",
       "2    0  26.0      0      0  STON/O2. 3101282   7.9250   NaN         0      2   \n",
       "3    0  35.0      1      0            113803  53.1000  C123         0      3   \n",
       "4    1  35.0      0      0            373450   8.0500   NaN         0      1   \n",
       "\n",
       "   Cabin_bool  qcut_Age  \n",
       "0         1.0         1  \n",
       "1         0.0         3  \n",
       "2         1.0         1  \n",
       "3         0.0         3  \n",
       "4         1.0         3  "
      ]
     },
     "execution_count": 51,
     "metadata": {},
     "output_type": "execute_result"
    }
   ],
   "source": [
    "all_titanic.head()"
   ]
  },
  {
   "cell_type": "code",
   "execution_count": 52,
   "metadata": {
    "execution": {
     "iopub.execute_input": "2021-07-05T10:29:27.213730Z",
     "iopub.status.busy": "2021-07-05T10:29:27.212957Z",
     "iopub.status.idle": "2021-07-05T10:29:27.239186Z",
     "shell.execute_reply": "2021-07-05T10:29:27.238354Z",
     "shell.execute_reply.started": "2021-07-05T10:28:22.924016Z"
    },
    "papermill": {
     "duration": 0.098342,
     "end_time": "2021-07-05T10:29:27.239369",
     "exception": false,
     "start_time": "2021-07-05T10:29:27.141027",
     "status": "completed"
    },
    "tags": []
   },
   "outputs": [
    {
     "data": {
      "text/html": [
       "<div>\n",
       "<style scoped>\n",
       "    .dataframe tbody tr th:only-of-type {\n",
       "        vertical-align: middle;\n",
       "    }\n",
       "\n",
       "    .dataframe tbody tr th {\n",
       "        vertical-align: top;\n",
       "    }\n",
       "\n",
       "    .dataframe thead th {\n",
       "        text-align: right;\n",
       "    }\n",
       "</style>\n",
       "<table border=\"1\" class=\"dataframe\">\n",
       "  <thead>\n",
       "    <tr style=\"text-align: right;\">\n",
       "      <th></th>\n",
       "      <th>PassengerId</th>\n",
       "      <th>Pclass</th>\n",
       "      <th>Name</th>\n",
       "      <th>Sex</th>\n",
       "      <th>Age</th>\n",
       "      <th>SibSp</th>\n",
       "      <th>Parch</th>\n",
       "      <th>Ticket</th>\n",
       "      <th>Fare</th>\n",
       "      <th>Cabin</th>\n",
       "      <th>Embarked</th>\n",
       "      <th>Title</th>\n",
       "      <th>Cabin_bool</th>\n",
       "      <th>qcut_Age</th>\n",
       "      <th>qcut_Fare</th>\n",
       "    </tr>\n",
       "  </thead>\n",
       "  <tbody>\n",
       "    <tr>\n",
       "      <th>0</th>\n",
       "      <td>1</td>\n",
       "      <td>3</td>\n",
       "      <td>Braund, Mr. Owen Harris</td>\n",
       "      <td>1</td>\n",
       "      <td>22.000000</td>\n",
       "      <td>1</td>\n",
       "      <td>0</td>\n",
       "      <td>A/5 21171</td>\n",
       "      <td>7.2500</td>\n",
       "      <td>NaN</td>\n",
       "      <td>0</td>\n",
       "      <td>1</td>\n",
       "      <td>1.0</td>\n",
       "      <td>1</td>\n",
       "      <td>0</td>\n",
       "    </tr>\n",
       "    <tr>\n",
       "      <th>1</th>\n",
       "      <td>2</td>\n",
       "      <td>1</td>\n",
       "      <td>Cumings, Mrs. John Bradley (Florence Briggs Th...</td>\n",
       "      <td>0</td>\n",
       "      <td>38.000000</td>\n",
       "      <td>1</td>\n",
       "      <td>0</td>\n",
       "      <td>PC 17599</td>\n",
       "      <td>71.2833</td>\n",
       "      <td>C85</td>\n",
       "      <td>1</td>\n",
       "      <td>3</td>\n",
       "      <td>0.0</td>\n",
       "      <td>3</td>\n",
       "      <td>4</td>\n",
       "    </tr>\n",
       "    <tr>\n",
       "      <th>2</th>\n",
       "      <td>3</td>\n",
       "      <td>3</td>\n",
       "      <td>Heikkinen, Miss. Laina</td>\n",
       "      <td>0</td>\n",
       "      <td>26.000000</td>\n",
       "      <td>0</td>\n",
       "      <td>0</td>\n",
       "      <td>STON/O2. 3101282</td>\n",
       "      <td>7.9250</td>\n",
       "      <td>NaN</td>\n",
       "      <td>0</td>\n",
       "      <td>2</td>\n",
       "      <td>1.0</td>\n",
       "      <td>1</td>\n",
       "      <td>1</td>\n",
       "    </tr>\n",
       "    <tr>\n",
       "      <th>3</th>\n",
       "      <td>4</td>\n",
       "      <td>1</td>\n",
       "      <td>Futrelle, Mrs. Jacques Heath (Lily May Peel)</td>\n",
       "      <td>0</td>\n",
       "      <td>35.000000</td>\n",
       "      <td>1</td>\n",
       "      <td>0</td>\n",
       "      <td>113803</td>\n",
       "      <td>53.1000</td>\n",
       "      <td>C123</td>\n",
       "      <td>0</td>\n",
       "      <td>3</td>\n",
       "      <td>0.0</td>\n",
       "      <td>3</td>\n",
       "      <td>4</td>\n",
       "    </tr>\n",
       "    <tr>\n",
       "      <th>4</th>\n",
       "      <td>5</td>\n",
       "      <td>3</td>\n",
       "      <td>Allen, Mr. William Henry</td>\n",
       "      <td>1</td>\n",
       "      <td>35.000000</td>\n",
       "      <td>0</td>\n",
       "      <td>0</td>\n",
       "      <td>373450</td>\n",
       "      <td>8.0500</td>\n",
       "      <td>NaN</td>\n",
       "      <td>0</td>\n",
       "      <td>1</td>\n",
       "      <td>1.0</td>\n",
       "      <td>3</td>\n",
       "      <td>1</td>\n",
       "    </tr>\n",
       "    <tr>\n",
       "      <th>5</th>\n",
       "      <td>6</td>\n",
       "      <td>3</td>\n",
       "      <td>Moran, Mr. James</td>\n",
       "      <td>1</td>\n",
       "      <td>29.881138</td>\n",
       "      <td>0</td>\n",
       "      <td>0</td>\n",
       "      <td>330877</td>\n",
       "      <td>8.4583</td>\n",
       "      <td>NaN</td>\n",
       "      <td>2</td>\n",
       "      <td>1</td>\n",
       "      <td>1.0</td>\n",
       "      <td>2</td>\n",
       "      <td>1</td>\n",
       "    </tr>\n",
       "    <tr>\n",
       "      <th>6</th>\n",
       "      <td>7</td>\n",
       "      <td>1</td>\n",
       "      <td>McCarthy, Mr. Timothy J</td>\n",
       "      <td>1</td>\n",
       "      <td>54.000000</td>\n",
       "      <td>0</td>\n",
       "      <td>0</td>\n",
       "      <td>17463</td>\n",
       "      <td>51.8625</td>\n",
       "      <td>E46</td>\n",
       "      <td>0</td>\n",
       "      <td>1</td>\n",
       "      <td>0.0</td>\n",
       "      <td>4</td>\n",
       "      <td>4</td>\n",
       "    </tr>\n",
       "    <tr>\n",
       "      <th>7</th>\n",
       "      <td>8</td>\n",
       "      <td>3</td>\n",
       "      <td>Palsson, Master. Gosta Leonard</td>\n",
       "      <td>1</td>\n",
       "      <td>2.000000</td>\n",
       "      <td>3</td>\n",
       "      <td>1</td>\n",
       "      <td>349909</td>\n",
       "      <td>21.0750</td>\n",
       "      <td>NaN</td>\n",
       "      <td>0</td>\n",
       "      <td>4</td>\n",
       "      <td>1.0</td>\n",
       "      <td>0</td>\n",
       "      <td>2</td>\n",
       "    </tr>\n",
       "    <tr>\n",
       "      <th>8</th>\n",
       "      <td>9</td>\n",
       "      <td>3</td>\n",
       "      <td>Johnson, Mrs. Oscar W (Elisabeth Vilhelmina Berg)</td>\n",
       "      <td>0</td>\n",
       "      <td>27.000000</td>\n",
       "      <td>0</td>\n",
       "      <td>2</td>\n",
       "      <td>347742</td>\n",
       "      <td>11.1333</td>\n",
       "      <td>NaN</td>\n",
       "      <td>0</td>\n",
       "      <td>3</td>\n",
       "      <td>1.0</td>\n",
       "      <td>1</td>\n",
       "      <td>2</td>\n",
       "    </tr>\n",
       "    <tr>\n",
       "      <th>9</th>\n",
       "      <td>10</td>\n",
       "      <td>2</td>\n",
       "      <td>Nasser, Mrs. Nicholas (Adele Achem)</td>\n",
       "      <td>0</td>\n",
       "      <td>14.000000</td>\n",
       "      <td>1</td>\n",
       "      <td>0</td>\n",
       "      <td>237736</td>\n",
       "      <td>30.0708</td>\n",
       "      <td>NaN</td>\n",
       "      <td>1</td>\n",
       "      <td>3</td>\n",
       "      <td>1.0</td>\n",
       "      <td>0</td>\n",
       "      <td>3</td>\n",
       "    </tr>\n",
       "  </tbody>\n",
       "</table>\n",
       "</div>"
      ],
      "text/plain": [
       "   PassengerId  Pclass                                               Name  \\\n",
       "0            1       3                            Braund, Mr. Owen Harris   \n",
       "1            2       1  Cumings, Mrs. John Bradley (Florence Briggs Th...   \n",
       "2            3       3                             Heikkinen, Miss. Laina   \n",
       "3            4       1       Futrelle, Mrs. Jacques Heath (Lily May Peel)   \n",
       "4            5       3                           Allen, Mr. William Henry   \n",
       "5            6       3                                   Moran, Mr. James   \n",
       "6            7       1                            McCarthy, Mr. Timothy J   \n",
       "7            8       3                     Palsson, Master. Gosta Leonard   \n",
       "8            9       3  Johnson, Mrs. Oscar W (Elisabeth Vilhelmina Berg)   \n",
       "9           10       2                Nasser, Mrs. Nicholas (Adele Achem)   \n",
       "\n",
       "   Sex        Age  SibSp  Parch            Ticket     Fare Cabin  Embarked  \\\n",
       "0    1  22.000000      1      0         A/5 21171   7.2500   NaN         0   \n",
       "1    0  38.000000      1      0          PC 17599  71.2833   C85         1   \n",
       "2    0  26.000000      0      0  STON/O2. 3101282   7.9250   NaN         0   \n",
       "3    0  35.000000      1      0            113803  53.1000  C123         0   \n",
       "4    1  35.000000      0      0            373450   8.0500   NaN         0   \n",
       "5    1  29.881138      0      0            330877   8.4583   NaN         2   \n",
       "6    1  54.000000      0      0             17463  51.8625   E46         0   \n",
       "7    1   2.000000      3      1            349909  21.0750   NaN         0   \n",
       "8    0  27.000000      0      2            347742  11.1333   NaN         0   \n",
       "9    0  14.000000      1      0            237736  30.0708   NaN         1   \n",
       "\n",
       "   Title  Cabin_bool  qcut_Age  qcut_Fare  \n",
       "0      1         1.0         1          0  \n",
       "1      3         0.0         3          4  \n",
       "2      2         1.0         1          1  \n",
       "3      3         0.0         3          4  \n",
       "4      1         1.0         3          1  \n",
       "5      1         1.0         2          1  \n",
       "6      1         0.0         4          4  \n",
       "7      4         1.0         0          2  \n",
       "8      3         1.0         1          2  \n",
       "9      3         1.0         0          3  "
      ]
     },
     "execution_count": 52,
     "metadata": {},
     "output_type": "execute_result"
    }
   ],
   "source": [
    "all_titanic['qcut_Fare']=pd.qcut(all_titanic['Fare'],5,labels=False)\n",
    "all_titanic[0:10]"
   ]
  },
  {
   "cell_type": "code",
   "execution_count": 53,
   "metadata": {
    "execution": {
     "iopub.execute_input": "2021-07-05T10:29:27.383028Z",
     "iopub.status.busy": "2021-07-05T10:29:27.382209Z",
     "iopub.status.idle": "2021-07-05T10:29:27.387723Z",
     "shell.execute_reply": "2021-07-05T10:29:27.387151Z",
     "shell.execute_reply.started": "2021-07-05T10:28:22.962176Z"
    },
    "papermill": {
     "duration": 0.079698,
     "end_time": "2021-07-05T10:29:27.387889",
     "exception": false,
     "start_time": "2021-07-05T10:29:27.308191",
     "status": "completed"
    },
    "tags": []
   },
   "outputs": [
    {
     "name": "stdout",
     "output_type": "stream",
     "text": [
      "(891, 15) (418, 14)\n"
     ]
    },
    {
     "data": {
      "text/plain": [
       "(1309, 15)"
      ]
     },
     "execution_count": 53,
     "metadata": {},
     "output_type": "execute_result"
    }
   ],
   "source": [
    "print(train_df.shape, test_df.shape)\n",
    "all_titanic.shape"
   ]
  },
  {
   "cell_type": "code",
   "execution_count": 54,
   "metadata": {
    "execution": {
     "iopub.execute_input": "2021-07-05T10:29:27.535990Z",
     "iopub.status.busy": "2021-07-05T10:29:27.535266Z",
     "iopub.status.idle": "2021-07-05T10:29:27.540170Z",
     "shell.execute_reply": "2021-07-05T10:29:27.539580Z",
     "shell.execute_reply.started": "2021-07-05T10:28:22.974314Z"
    },
    "papermill": {
     "duration": 0.082449,
     "end_time": "2021-07-05T10:29:27.540343",
     "exception": false,
     "start_time": "2021-07-05T10:29:27.457894",
     "status": "completed"
    },
    "tags": []
   },
   "outputs": [
    {
     "data": {
      "text/plain": [
       "((891, 15), (418, 15))"
      ]
     },
     "execution_count": 54,
     "metadata": {},
     "output_type": "execute_result"
    }
   ],
   "source": [
    "train_df=all_titanic.iloc[0:891,:]\n",
    "test_df=all_titanic.iloc[891:,:]\n",
    "train_df.shape, test_df.shape"
   ]
  },
  {
   "cell_type": "code",
   "execution_count": 55,
   "metadata": {
    "execution": {
     "iopub.execute_input": "2021-07-05T10:29:27.686737Z",
     "iopub.status.busy": "2021-07-05T10:29:27.686012Z",
     "iopub.status.idle": "2021-07-05T10:29:27.712291Z",
     "shell.execute_reply": "2021-07-05T10:29:27.711714Z",
     "shell.execute_reply.started": "2021-07-05T10:28:22.988555Z"
    },
    "papermill": {
     "duration": 0.102393,
     "end_time": "2021-07-05T10:29:27.712470",
     "exception": false,
     "start_time": "2021-07-05T10:29:27.610077",
     "status": "completed"
    },
    "tags": []
   },
   "outputs": [
    {
     "data": {
      "text/html": [
       "<div>\n",
       "<style scoped>\n",
       "    .dataframe tbody tr th:only-of-type {\n",
       "        vertical-align: middle;\n",
       "    }\n",
       "\n",
       "    .dataframe tbody tr th {\n",
       "        vertical-align: top;\n",
       "    }\n",
       "\n",
       "    .dataframe thead th {\n",
       "        text-align: right;\n",
       "    }\n",
       "</style>\n",
       "<table border=\"1\" class=\"dataframe\">\n",
       "  <thead>\n",
       "    <tr style=\"text-align: right;\">\n",
       "      <th></th>\n",
       "      <th>PassengerId</th>\n",
       "      <th>Pclass</th>\n",
       "      <th>Name</th>\n",
       "      <th>Sex</th>\n",
       "      <th>Age</th>\n",
       "      <th>SibSp</th>\n",
       "      <th>Parch</th>\n",
       "      <th>Ticket</th>\n",
       "      <th>Fare</th>\n",
       "      <th>Cabin</th>\n",
       "      <th>Embarked</th>\n",
       "      <th>Title</th>\n",
       "      <th>Cabin_bool</th>\n",
       "      <th>qcut_Age</th>\n",
       "      <th>qcut_Fare</th>\n",
       "      <th>Survived</th>\n",
       "    </tr>\n",
       "  </thead>\n",
       "  <tbody>\n",
       "    <tr>\n",
       "      <th>0</th>\n",
       "      <td>1</td>\n",
       "      <td>3</td>\n",
       "      <td>Braund, Mr. Owen Harris</td>\n",
       "      <td>1</td>\n",
       "      <td>22.000000</td>\n",
       "      <td>1</td>\n",
       "      <td>0</td>\n",
       "      <td>A/5 21171</td>\n",
       "      <td>7.2500</td>\n",
       "      <td>NaN</td>\n",
       "      <td>0</td>\n",
       "      <td>1</td>\n",
       "      <td>1.0</td>\n",
       "      <td>1</td>\n",
       "      <td>0</td>\n",
       "      <td>0</td>\n",
       "    </tr>\n",
       "    <tr>\n",
       "      <th>1</th>\n",
       "      <td>2</td>\n",
       "      <td>1</td>\n",
       "      <td>Cumings, Mrs. John Bradley (Florence Briggs Th...</td>\n",
       "      <td>0</td>\n",
       "      <td>38.000000</td>\n",
       "      <td>1</td>\n",
       "      <td>0</td>\n",
       "      <td>PC 17599</td>\n",
       "      <td>71.2833</td>\n",
       "      <td>C85</td>\n",
       "      <td>1</td>\n",
       "      <td>3</td>\n",
       "      <td>0.0</td>\n",
       "      <td>3</td>\n",
       "      <td>4</td>\n",
       "      <td>1</td>\n",
       "    </tr>\n",
       "    <tr>\n",
       "      <th>2</th>\n",
       "      <td>3</td>\n",
       "      <td>3</td>\n",
       "      <td>Heikkinen, Miss. Laina</td>\n",
       "      <td>0</td>\n",
       "      <td>26.000000</td>\n",
       "      <td>0</td>\n",
       "      <td>0</td>\n",
       "      <td>STON/O2. 3101282</td>\n",
       "      <td>7.9250</td>\n",
       "      <td>NaN</td>\n",
       "      <td>0</td>\n",
       "      <td>2</td>\n",
       "      <td>1.0</td>\n",
       "      <td>1</td>\n",
       "      <td>1</td>\n",
       "      <td>1</td>\n",
       "    </tr>\n",
       "    <tr>\n",
       "      <th>3</th>\n",
       "      <td>4</td>\n",
       "      <td>1</td>\n",
       "      <td>Futrelle, Mrs. Jacques Heath (Lily May Peel)</td>\n",
       "      <td>0</td>\n",
       "      <td>35.000000</td>\n",
       "      <td>1</td>\n",
       "      <td>0</td>\n",
       "      <td>113803</td>\n",
       "      <td>53.1000</td>\n",
       "      <td>C123</td>\n",
       "      <td>0</td>\n",
       "      <td>3</td>\n",
       "      <td>0.0</td>\n",
       "      <td>3</td>\n",
       "      <td>4</td>\n",
       "      <td>1</td>\n",
       "    </tr>\n",
       "    <tr>\n",
       "      <th>4</th>\n",
       "      <td>5</td>\n",
       "      <td>3</td>\n",
       "      <td>Allen, Mr. William Henry</td>\n",
       "      <td>1</td>\n",
       "      <td>35.000000</td>\n",
       "      <td>0</td>\n",
       "      <td>0</td>\n",
       "      <td>373450</td>\n",
       "      <td>8.0500</td>\n",
       "      <td>NaN</td>\n",
       "      <td>0</td>\n",
       "      <td>1</td>\n",
       "      <td>1.0</td>\n",
       "      <td>3</td>\n",
       "      <td>1</td>\n",
       "      <td>0</td>\n",
       "    </tr>\n",
       "    <tr>\n",
       "      <th>5</th>\n",
       "      <td>6</td>\n",
       "      <td>3</td>\n",
       "      <td>Moran, Mr. James</td>\n",
       "      <td>1</td>\n",
       "      <td>29.881138</td>\n",
       "      <td>0</td>\n",
       "      <td>0</td>\n",
       "      <td>330877</td>\n",
       "      <td>8.4583</td>\n",
       "      <td>NaN</td>\n",
       "      <td>2</td>\n",
       "      <td>1</td>\n",
       "      <td>1.0</td>\n",
       "      <td>2</td>\n",
       "      <td>1</td>\n",
       "      <td>0</td>\n",
       "    </tr>\n",
       "    <tr>\n",
       "      <th>6</th>\n",
       "      <td>7</td>\n",
       "      <td>1</td>\n",
       "      <td>McCarthy, Mr. Timothy J</td>\n",
       "      <td>1</td>\n",
       "      <td>54.000000</td>\n",
       "      <td>0</td>\n",
       "      <td>0</td>\n",
       "      <td>17463</td>\n",
       "      <td>51.8625</td>\n",
       "      <td>E46</td>\n",
       "      <td>0</td>\n",
       "      <td>1</td>\n",
       "      <td>0.0</td>\n",
       "      <td>4</td>\n",
       "      <td>4</td>\n",
       "      <td>0</td>\n",
       "    </tr>\n",
       "    <tr>\n",
       "      <th>7</th>\n",
       "      <td>8</td>\n",
       "      <td>3</td>\n",
       "      <td>Palsson, Master. Gosta Leonard</td>\n",
       "      <td>1</td>\n",
       "      <td>2.000000</td>\n",
       "      <td>3</td>\n",
       "      <td>1</td>\n",
       "      <td>349909</td>\n",
       "      <td>21.0750</td>\n",
       "      <td>NaN</td>\n",
       "      <td>0</td>\n",
       "      <td>4</td>\n",
       "      <td>1.0</td>\n",
       "      <td>0</td>\n",
       "      <td>2</td>\n",
       "      <td>0</td>\n",
       "    </tr>\n",
       "    <tr>\n",
       "      <th>8</th>\n",
       "      <td>9</td>\n",
       "      <td>3</td>\n",
       "      <td>Johnson, Mrs. Oscar W (Elisabeth Vilhelmina Berg)</td>\n",
       "      <td>0</td>\n",
       "      <td>27.000000</td>\n",
       "      <td>0</td>\n",
       "      <td>2</td>\n",
       "      <td>347742</td>\n",
       "      <td>11.1333</td>\n",
       "      <td>NaN</td>\n",
       "      <td>0</td>\n",
       "      <td>3</td>\n",
       "      <td>1.0</td>\n",
       "      <td>1</td>\n",
       "      <td>2</td>\n",
       "      <td>1</td>\n",
       "    </tr>\n",
       "    <tr>\n",
       "      <th>9</th>\n",
       "      <td>10</td>\n",
       "      <td>2</td>\n",
       "      <td>Nasser, Mrs. Nicholas (Adele Achem)</td>\n",
       "      <td>0</td>\n",
       "      <td>14.000000</td>\n",
       "      <td>1</td>\n",
       "      <td>0</td>\n",
       "      <td>237736</td>\n",
       "      <td>30.0708</td>\n",
       "      <td>NaN</td>\n",
       "      <td>1</td>\n",
       "      <td>3</td>\n",
       "      <td>1.0</td>\n",
       "      <td>0</td>\n",
       "      <td>3</td>\n",
       "      <td>1</td>\n",
       "    </tr>\n",
       "  </tbody>\n",
       "</table>\n",
       "</div>"
      ],
      "text/plain": [
       "   PassengerId  Pclass                                               Name  \\\n",
       "0            1       3                            Braund, Mr. Owen Harris   \n",
       "1            2       1  Cumings, Mrs. John Bradley (Florence Briggs Th...   \n",
       "2            3       3                             Heikkinen, Miss. Laina   \n",
       "3            4       1       Futrelle, Mrs. Jacques Heath (Lily May Peel)   \n",
       "4            5       3                           Allen, Mr. William Henry   \n",
       "5            6       3                                   Moran, Mr. James   \n",
       "6            7       1                            McCarthy, Mr. Timothy J   \n",
       "7            8       3                     Palsson, Master. Gosta Leonard   \n",
       "8            9       3  Johnson, Mrs. Oscar W (Elisabeth Vilhelmina Berg)   \n",
       "9           10       2                Nasser, Mrs. Nicholas (Adele Achem)   \n",
       "\n",
       "   Sex        Age  SibSp  Parch            Ticket     Fare Cabin  Embarked  \\\n",
       "0    1  22.000000      1      0         A/5 21171   7.2500   NaN         0   \n",
       "1    0  38.000000      1      0          PC 17599  71.2833   C85         1   \n",
       "2    0  26.000000      0      0  STON/O2. 3101282   7.9250   NaN         0   \n",
       "3    0  35.000000      1      0            113803  53.1000  C123         0   \n",
       "4    1  35.000000      0      0            373450   8.0500   NaN         0   \n",
       "5    1  29.881138      0      0            330877   8.4583   NaN         2   \n",
       "6    1  54.000000      0      0             17463  51.8625   E46         0   \n",
       "7    1   2.000000      3      1            349909  21.0750   NaN         0   \n",
       "8    0  27.000000      0      2            347742  11.1333   NaN         0   \n",
       "9    0  14.000000      1      0            237736  30.0708   NaN         1   \n",
       "\n",
       "   Title  Cabin_bool  qcut_Age  qcut_Fare  Survived  \n",
       "0      1         1.0         1          0         0  \n",
       "1      3         0.0         3          4         1  \n",
       "2      2         1.0         1          1         1  \n",
       "3      3         0.0         3          4         1  \n",
       "4      1         1.0         3          1         0  \n",
       "5      1         1.0         2          1         0  \n",
       "6      1         0.0         4          4         0  \n",
       "7      4         1.0         0          2         0  \n",
       "8      3         1.0         1          2         1  \n",
       "9      3         1.0         0          3         1  "
      ]
     },
     "execution_count": 55,
     "metadata": {},
     "output_type": "execute_result"
    }
   ],
   "source": [
    "train_df = pd.concat([train_df, train['Survived']],axis=1 )\n",
    "train_df[0:10]"
   ]
  },
  {
   "cell_type": "markdown",
   "metadata": {
    "papermill": {
     "duration": 0.06913,
     "end_time": "2021-07-05T10:29:27.852418",
     "exception": false,
     "start_time": "2021-07-05T10:29:27.783288",
     "status": "completed"
    },
    "tags": []
   },
   "source": [
    "# 머신러닝 돌리기"
   ]
  },
  {
   "cell_type": "code",
   "execution_count": 56,
   "metadata": {
    "execution": {
     "iopub.execute_input": "2021-07-05T10:29:28.003032Z",
     "iopub.status.busy": "2021-07-05T10:29:28.000583Z",
     "iopub.status.idle": "2021-07-05T10:29:28.007250Z",
     "shell.execute_reply": "2021-07-05T10:29:28.007853Z",
     "shell.execute_reply.started": "2021-07-05T10:28:23.030234Z"
    },
    "papermill": {
     "duration": 0.084822,
     "end_time": "2021-07-05T10:29:28.008109",
     "exception": false,
     "start_time": "2021-07-05T10:29:27.923287",
     "status": "completed"
    },
    "tags": []
   },
   "outputs": [],
   "source": [
    "sel=['Pclass','SibSp','Parch','Sex','Embarked','Cabin_bool','Title','qcut_Age','qcut_Fare']\n",
    "\n",
    "X_train=train_df[sel]\n",
    "X_test=test_df[sel]\n",
    "y_train=train_df['Survived']"
   ]
  },
  {
   "cell_type": "code",
   "execution_count": 57,
   "metadata": {
    "execution": {
     "iopub.execute_input": "2021-07-05T10:29:28.151807Z",
     "iopub.status.busy": "2021-07-05T10:29:28.151083Z",
     "iopub.status.idle": "2021-07-05T10:29:29.528766Z",
     "shell.execute_reply": "2021-07-05T10:29:29.529268Z",
     "shell.execute_reply.started": "2021-07-05T10:28:23.047309Z"
    },
    "papermill": {
     "duration": 1.451404,
     "end_time": "2021-07-05T10:29:29.529526",
     "exception": false,
     "start_time": "2021-07-05T10:29:28.078122",
     "status": "completed"
    },
    "tags": []
   },
   "outputs": [],
   "source": [
    "from sklearn.tree import DecisionTreeClassifier\n",
    "dc_tree=DecisionTreeClassifier()\n",
    "dc_tree.fit(X_train,y_train)\n",
    "pred=dc_tree.predict(X_test)"
   ]
  },
  {
   "cell_type": "code",
   "execution_count": 58,
   "metadata": {
    "execution": {
     "iopub.execute_input": "2021-07-05T10:29:29.673521Z",
     "iopub.status.busy": "2021-07-05T10:29:29.672728Z",
     "iopub.status.idle": "2021-07-05T10:29:29.687287Z",
     "shell.execute_reply": "2021-07-05T10:29:29.687966Z",
     "shell.execute_reply.started": "2021-07-05T10:28:23.063592Z"
    },
    "papermill": {
     "duration": 0.088975,
     "end_time": "2021-07-05T10:29:29.688165",
     "exception": false,
     "start_time": "2021-07-05T10:29:29.599190",
     "status": "completed"
    },
    "tags": []
   },
   "outputs": [
    {
     "name": "stdout",
     "output_type": "stream",
     "text": [
      "Index(['PassengerId', 'Survived'], dtype='object')\n"
     ]
    }
   ],
   "source": [
    "sub=pd.read_csv('../gender_submission.csv')\n",
    "print(sub.columns)"
   ]
  },
  {
   "cell_type": "code",
   "execution_count": 59,
   "metadata": {
    "execution": {
     "iopub.execute_input": "2021-07-05T10:29:29.833484Z",
     "iopub.status.busy": "2021-07-05T10:29:29.832405Z",
     "iopub.status.idle": "2021-07-05T10:29:29.843504Z",
     "shell.execute_reply": "2021-07-05T10:29:29.842882Z",
     "shell.execute_reply.started": "2021-07-05T10:28:23.080454Z"
    },
    "papermill": {
     "duration": 0.085051,
     "end_time": "2021-07-05T10:29:29.843675",
     "exception": false,
     "start_time": "2021-07-05T10:29:29.758624",
     "status": "completed"
    },
    "tags": []
   },
   "outputs": [],
   "source": [
    "sub['Survived']=pred\n",
    "sub.to_csv('decision_first_model.csv',index=False)"
   ]
  },
  {
   "cell_type": "code",
   "execution_count": null,
   "metadata": {
    "papermill": {
     "duration": 0.070913,
     "end_time": "2021-07-05T10:29:29.985130",
     "exception": false,
     "start_time": "2021-07-05T10:29:29.914217",
     "status": "completed"
    },
    "tags": []
   },
   "outputs": [],
   "source": []
  }
 ],
 "metadata": {
  "kernelspec": {
   "display_name": "Python 3",
   "language": "python",
   "name": "python3"
  },
  "language_info": {
   "codemirror_mode": {
    "name": "ipython",
    "version": 3
   },
   "file_extension": ".py",
   "mimetype": "text/x-python",
   "name": "python",
   "nbconvert_exporter": "python",
   "pygments_lexer": "ipython3",
   "version": "3.8.5"
  },
  "papermill": {
   "default_parameters": {},
   "duration": 21.023153,
   "end_time": "2021-07-05T10:29:31.068844",
   "environment_variables": {},
   "exception": null,
   "input_path": "__notebook__.ipynb",
   "output_path": "__notebook__.ipynb",
   "parameters": {},
   "start_time": "2021-07-05T10:29:10.045691",
   "version": "2.3.3"
  }
 },
 "nbformat": 4,
 "nbformat_minor": 5
}
