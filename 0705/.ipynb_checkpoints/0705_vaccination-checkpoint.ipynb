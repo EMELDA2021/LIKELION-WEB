{
 "cells": [
  {
   "cell_type": "code",
   "execution_count": 1,
   "metadata": {},
   "outputs": [],
   "source": [
    "# optional libraries\n",
    "from datetime import datetime\n",
    "import os\n",
    "\n",
    "# data processing\n",
    "import pandas as pd\n",
    "import numpy as np\n",
    "\n",
    "# plotting grapsh\n",
    "import matplotlib.pyplot as plt\n",
    "import seaborn as sns\n",
    "\n",
    "# detecting peaks on the data\n",
    "from scipy.signal import find_peaks_cwt"
   ]
  },
  {
   "cell_type": "code",
   "execution_count": 3,
   "metadata": {},
   "outputs": [],
   "source": [
    "vacc = pd.read_csv('./vacc.csv', engine ='python', encoding='EUCKR')"
   ]
  },
  {
   "cell_type": "code",
   "execution_count": 4,
   "metadata": {},
   "outputs": [
    {
     "name": "stdout",
     "output_type": "stream",
     "text": [
      "<class 'pandas.core.frame.DataFrame'>\n",
      "RangeIndex: 2112 entries, 0 to 2111\n",
      "Data columns (total 8 columns):\n",
      " #   Column                Non-Null Count  Dtype \n",
      "---  ------                --------------  ----- \n",
      " 0   accumulatedFirstCnt   2112 non-null   int64 \n",
      " 1   accumulatedSecondCnt  2112 non-null   int64 \n",
      " 2   baseDate              2112 non-null   object\n",
      " 3   firstCnt              2112 non-null   int64 \n",
      " 4   secondCnt             2112 non-null   int64 \n",
      " 5   sido                  2112 non-null   object\n",
      " 6   totalFirstCnt         2112 non-null   int64 \n",
      " 7   totalSecondCnt        2112 non-null   int64 \n",
      "dtypes: int64(6), object(2)\n",
      "memory usage: 132.1+ KB\n"
     ]
    }
   ],
   "source": [
    "vacc.info()"
   ]
  },
  {
   "cell_type": "code",
   "execution_count": 5,
   "metadata": {},
   "outputs": [],
   "source": [
    "vacc['baseDate']=pd.to_datetime(vacc['baseDate'])"
   ]
  },
  {
   "cell_type": "code",
   "execution_count": 6,
   "metadata": {},
   "outputs": [],
   "source": [
    "vacc_kor=vacc[vacc['sido']=='전국']"
   ]
  },
  {
   "cell_type": "code",
   "execution_count": 7,
   "metadata": {},
   "outputs": [
    {
     "data": {
      "text/html": [
       "<div>\n",
       "<style scoped>\n",
       "    .dataframe tbody tr th:only-of-type {\n",
       "        vertical-align: middle;\n",
       "    }\n",
       "\n",
       "    .dataframe tbody tr th {\n",
       "        vertical-align: top;\n",
       "    }\n",
       "\n",
       "    .dataframe thead th {\n",
       "        text-align: right;\n",
       "    }\n",
       "</style>\n",
       "<table border=\"1\" class=\"dataframe\">\n",
       "  <thead>\n",
       "    <tr style=\"text-align: right;\">\n",
       "      <th></th>\n",
       "      <th>accumulatedFirstCnt</th>\n",
       "      <th>accumulatedSecondCnt</th>\n",
       "      <th>baseDate</th>\n",
       "      <th>firstCnt</th>\n",
       "      <th>secondCnt</th>\n",
       "      <th>sido</th>\n",
       "      <th>totalFirstCnt</th>\n",
       "      <th>totalSecondCnt</th>\n",
       "    </tr>\n",
       "  </thead>\n",
       "  <tbody>\n",
       "    <tr>\n",
       "      <th>2022</th>\n",
       "      <td>15322128</td>\n",
       "      <td>4933545</td>\n",
       "      <td>2021-07-01</td>\n",
       "      <td>14233</td>\n",
       "      <td>107695</td>\n",
       "      <td>전국</td>\n",
       "      <td>15336361</td>\n",
       "      <td>5041240</td>\n",
       "    </tr>\n",
       "    <tr>\n",
       "      <th>2040</th>\n",
       "      <td>15336784</td>\n",
       "      <td>5069914</td>\n",
       "      <td>2021-07-02</td>\n",
       "      <td>4043</td>\n",
       "      <td>86635</td>\n",
       "      <td>전국</td>\n",
       "      <td>15340827</td>\n",
       "      <td>5156549</td>\n",
       "    </tr>\n",
       "    <tr>\n",
       "      <th>2058</th>\n",
       "      <td>15341363</td>\n",
       "      <td>5188067</td>\n",
       "      <td>2021-07-03</td>\n",
       "      <td>3930</td>\n",
       "      <td>83700</td>\n",
       "      <td>전국</td>\n",
       "      <td>15345293</td>\n",
       "      <td>5271767</td>\n",
       "    </tr>\n",
       "    <tr>\n",
       "      <th>2076</th>\n",
       "      <td>15346047</td>\n",
       "      <td>5303295</td>\n",
       "      <td>2021-07-04</td>\n",
       "      <td>1150</td>\n",
       "      <td>16659</td>\n",
       "      <td>전국</td>\n",
       "      <td>15347197</td>\n",
       "      <td>5319954</td>\n",
       "    </tr>\n",
       "    <tr>\n",
       "      <th>2094</th>\n",
       "      <td>15347214</td>\n",
       "      <td>5320977</td>\n",
       "      <td>2021-07-05</td>\n",
       "      <td>0</td>\n",
       "      <td>625</td>\n",
       "      <td>전국</td>\n",
       "      <td>15347214</td>\n",
       "      <td>5321602</td>\n",
       "    </tr>\n",
       "  </tbody>\n",
       "</table>\n",
       "</div>"
      ],
      "text/plain": [
       "      accumulatedFirstCnt  accumulatedSecondCnt   baseDate  firstCnt  \\\n",
       "2022             15322128               4933545 2021-07-01     14233   \n",
       "2040             15336784               5069914 2021-07-02      4043   \n",
       "2058             15341363               5188067 2021-07-03      3930   \n",
       "2076             15346047               5303295 2021-07-04      1150   \n",
       "2094             15347214               5320977 2021-07-05         0   \n",
       "\n",
       "      secondCnt sido  totalFirstCnt  totalSecondCnt  \n",
       "2022     107695   전국       15336361         5041240  \n",
       "2040      86635   전국       15340827         5156549  \n",
       "2058      83700   전국       15345293         5271767  \n",
       "2076      16659   전국       15347197         5319954  \n",
       "2094        625   전국       15347214         5321602  "
      ]
     },
     "execution_count": 7,
     "metadata": {},
     "output_type": "execute_result"
    }
   ],
   "source": [
    "vacc_kor.tail()"
   ]
  },
  {
   "cell_type": "code",
   "execution_count": 8,
   "metadata": {},
   "outputs": [
    {
     "name": "stderr",
     "output_type": "stream",
     "text": [
      "<ipython-input-8-4160af2d8bbd>:1: SettingWithCopyWarning: \n",
      "A value is trying to be set on a copy of a slice from a DataFrame.\n",
      "Try using .loc[row_indexer,col_indexer] = value instead\n",
      "\n",
      "See the caveats in the documentation: https://pandas.pydata.org/pandas-docs/stable/user_guide/indexing.html#returning-a-view-versus-a-copy\n",
      "  vacc_kor['daily_firstCnt']=vacc_kor['totalFirstCnt'].diff()\n",
      "<ipython-input-8-4160af2d8bbd>:2: SettingWithCopyWarning: \n",
      "A value is trying to be set on a copy of a slice from a DataFrame.\n",
      "Try using .loc[row_indexer,col_indexer] = value instead\n",
      "\n",
      "See the caveats in the documentation: https://pandas.pydata.org/pandas-docs/stable/user_guide/indexing.html#returning-a-view-versus-a-copy\n",
      "  vacc_kor['daily_secondCnt']=vacc_kor['totalSecondCnt'].diff()\n"
     ]
    }
   ],
   "source": [
    "vacc_kor['daily_firstCnt']=vacc_kor['totalFirstCnt'].diff()\n",
    "vacc_kor['daily_secondCnt']=vacc_kor['totalSecondCnt'].diff()"
   ]
  },
  {
   "cell_type": "code",
   "execution_count": null,
   "metadata": {},
   "outputs": [],
   "source": []
  }
 ],
 "metadata": {
  "kernelspec": {
   "display_name": "Python 3",
   "language": "python",
   "name": "python3"
  },
  "language_info": {
   "codemirror_mode": {
    "name": "ipython",
    "version": 3
   },
   "file_extension": ".py",
   "mimetype": "text/x-python",
   "name": "python",
   "nbconvert_exporter": "python",
   "pygments_lexer": "ipython3",
   "version": "3.8.5"
  }
 },
 "nbformat": 4,
 "nbformat_minor": 4
}
