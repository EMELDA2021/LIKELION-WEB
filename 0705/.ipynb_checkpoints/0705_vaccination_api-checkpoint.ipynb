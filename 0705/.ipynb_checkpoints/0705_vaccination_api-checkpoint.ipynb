{
 "cells": [
  {
   "cell_type": "markdown",
   "metadata": {
    "id": "_g6TFej_UlN_"
   },
   "source": [
    "## 백신 접종현황 크롤링 via 공공데이터포털 API\n",
    "[API 출처](https://www.data.go.kr/tcs/dss/selectApiDataDetailView.do?publicDataPk=15077756)\n",
    "[참고자료](https://blog.naver.com/da0097/222296025258)"
   ]
  },
  {
   "cell_type": "code",
   "execution_count": 15,
   "metadata": {
    "executionInfo": {
     "elapsed": 398,
     "status": "ok",
     "timestamp": 1625469999262,
     "user": {
      "displayName": "이성준",
      "photoUrl": "",
      "userId": "17660701608448574543"
     },
     "user_tz": -540
    },
    "id": "EOOY6HAqHYCJ"
   },
   "outputs": [],
   "source": [
    "import requests\n",
    "import pandas as pd"
   ]
  },
  {
   "cell_type": "code",
   "execution_count": 21,
   "metadata": {
    "id": "wwaJrj8cHwnC"
   },
   "outputs": [
    {
     "name": "stdout",
     "output_type": "stream",
     "text": [
      "API키를 입력해주세요:LIjeTmjXM07N5jnkiDlnJ5GXGQZxAI87M5XqP5ytETz4Up%2FUWa3BZ9%2BKn8fsn%2FV%2Bamqso0HY3%2F%2F8lY2gIJ7cdg%3D%3D\n"
     ]
    }
   ],
   "source": [
    "API_KEY = input(\"API키를 입력해주세요:\")\n",
    "PER_PAGE = 10000\n",
    "BASE_DATE = \"2021-07-05 00:00:00\"\n",
    "BASE_URL = f\"https://api.odcloud.kr/api/15077756/v1/vaccine-stat?perPage={PER_PAGE}&cond%5BbaseDate%3A%3ALTE%5D={BASE_DATE}&serviceKey={API_KEY}\""
   ]
  },
  {
   "cell_type": "code",
   "execution_count": 22,
   "metadata": {
    "colab": {
     "base_uri": "https://localhost:8080/"
    },
    "executionInfo": {
     "elapsed": 1123,
     "status": "ok",
     "timestamp": 1625470010200,
     "user": {
      "displayName": "이성준",
      "photoUrl": "",
      "userId": "17660701608448574543"
     },
     "user_tz": -540
    },
    "id": "JK9531nEI8V-",
    "outputId": "cfec7ed4-7068-4261-f98b-f6105ebddeab"
   },
   "outputs": [
    {
     "data": {
      "text/plain": [
       "200"
      ]
     },
     "execution_count": 22,
     "metadata": {},
     "output_type": "execute_result"
    }
   ],
   "source": [
    "response = requests.get(BASE_URL)\n",
    "response.status_code"
   ]
  },
  {
   "cell_type": "code",
   "execution_count": 23,
   "metadata": {
    "executionInfo": {
     "elapsed": 10,
     "status": "ok",
     "timestamp": 1625470010201,
     "user": {
      "displayName": "이성준",
      "photoUrl": "",
      "userId": "17660701608448574543"
     },
     "user_tz": -540
    },
    "id": "xHqeZXdxJYxF"
   },
   "outputs": [],
   "source": [
    "response_obj = response.json()"
   ]
  },
  {
   "cell_type": "code",
   "execution_count": 24,
   "metadata": {
    "colab": {
     "base_uri": "https://localhost:8080/",
     "height": 773
    },
    "executionInfo": {
     "elapsed": 11,
     "status": "ok",
     "timestamp": 1625470010203,
     "user": {
      "displayName": "이성준",
      "photoUrl": "",
      "userId": "17660701608448574543"
     },
     "user_tz": -540
    },
    "id": "6jvWtjL5Jfo6",
    "outputId": "7d6a578e-9cf9-40ec-ab88-4246f8f3e8ff"
   },
   "outputs": [
    {
     "data": {
      "text/html": [
       "<div>\n",
       "<style scoped>\n",
       "    .dataframe tbody tr th:only-of-type {\n",
       "        vertical-align: middle;\n",
       "    }\n",
       "\n",
       "    .dataframe tbody tr th {\n",
       "        vertical-align: top;\n",
       "    }\n",
       "\n",
       "    .dataframe thead th {\n",
       "        text-align: right;\n",
       "    }\n",
       "</style>\n",
       "<table border=\"1\" class=\"dataframe\">\n",
       "  <thead>\n",
       "    <tr style=\"text-align: right;\">\n",
       "      <th></th>\n",
       "      <th>accumulatedFirstCnt</th>\n",
       "      <th>accumulatedSecondCnt</th>\n",
       "      <th>baseDate</th>\n",
       "      <th>firstCnt</th>\n",
       "      <th>secondCnt</th>\n",
       "      <th>sido</th>\n",
       "      <th>totalFirstCnt</th>\n",
       "      <th>totalSecondCnt</th>\n",
       "    </tr>\n",
       "  </thead>\n",
       "  <tbody>\n",
       "    <tr>\n",
       "      <th>0</th>\n",
       "      <td>449535</td>\n",
       "      <td>0</td>\n",
       "      <td>2021-03-11 00:00:00</td>\n",
       "      <td>51100</td>\n",
       "      <td>0</td>\n",
       "      <td>전국</td>\n",
       "      <td>500635</td>\n",
       "      <td>0</td>\n",
       "    </tr>\n",
       "    <tr>\n",
       "      <th>1</th>\n",
       "      <td>61232</td>\n",
       "      <td>0</td>\n",
       "      <td>2021-03-11 00:00:00</td>\n",
       "      <td>12595</td>\n",
       "      <td>0</td>\n",
       "      <td>서울특별시</td>\n",
       "      <td>73827</td>\n",
       "      <td>0</td>\n",
       "    </tr>\n",
       "    <tr>\n",
       "      <th>2</th>\n",
       "      <td>36734</td>\n",
       "      <td>0</td>\n",
       "      <td>2021-03-11 00:00:00</td>\n",
       "      <td>3311</td>\n",
       "      <td>0</td>\n",
       "      <td>부산광역시</td>\n",
       "      <td>40045</td>\n",
       "      <td>0</td>\n",
       "    </tr>\n",
       "    <tr>\n",
       "      <th>3</th>\n",
       "      <td>23101</td>\n",
       "      <td>0</td>\n",
       "      <td>2021-03-11 00:00:00</td>\n",
       "      <td>2310</td>\n",
       "      <td>0</td>\n",
       "      <td>대구광역시</td>\n",
       "      <td>25411</td>\n",
       "      <td>0</td>\n",
       "    </tr>\n",
       "    <tr>\n",
       "      <th>4</th>\n",
       "      <td>23879</td>\n",
       "      <td>0</td>\n",
       "      <td>2021-03-11 00:00:00</td>\n",
       "      <td>1791</td>\n",
       "      <td>0</td>\n",
       "      <td>인천광역시</td>\n",
       "      <td>25670</td>\n",
       "      <td>0</td>\n",
       "    </tr>\n",
       "    <tr>\n",
       "      <th>...</th>\n",
       "      <td>...</td>\n",
       "      <td>...</td>\n",
       "      <td>...</td>\n",
       "      <td>...</td>\n",
       "      <td>...</td>\n",
       "      <td>...</td>\n",
       "      <td>...</td>\n",
       "      <td>...</td>\n",
       "    </tr>\n",
       "    <tr>\n",
       "      <th>2107</th>\n",
       "      <td>656719</td>\n",
       "      <td>238202</td>\n",
       "      <td>2021-07-05 00:00:00</td>\n",
       "      <td>0</td>\n",
       "      <td>0</td>\n",
       "      <td>전라북도</td>\n",
       "      <td>656719</td>\n",
       "      <td>238202</td>\n",
       "    </tr>\n",
       "    <tr>\n",
       "      <th>2108</th>\n",
       "      <td>721957</td>\n",
       "      <td>265904</td>\n",
       "      <td>2021-07-05 00:00:00</td>\n",
       "      <td>0</td>\n",
       "      <td>0</td>\n",
       "      <td>전라남도</td>\n",
       "      <td>721957</td>\n",
       "      <td>265904</td>\n",
       "    </tr>\n",
       "    <tr>\n",
       "      <th>2109</th>\n",
       "      <td>878842</td>\n",
       "      <td>312021</td>\n",
       "      <td>2021-07-05 00:00:00</td>\n",
       "      <td>0</td>\n",
       "      <td>0</td>\n",
       "      <td>경상북도</td>\n",
       "      <td>878842</td>\n",
       "      <td>312021</td>\n",
       "    </tr>\n",
       "    <tr>\n",
       "      <th>2110</th>\n",
       "      <td>1010324</td>\n",
       "      <td>345785</td>\n",
       "      <td>2021-07-05 00:00:00</td>\n",
       "      <td>0</td>\n",
       "      <td>0</td>\n",
       "      <td>경상남도</td>\n",
       "      <td>1010324</td>\n",
       "      <td>345785</td>\n",
       "    </tr>\n",
       "    <tr>\n",
       "      <th>2111</th>\n",
       "      <td>197910</td>\n",
       "      <td>68174</td>\n",
       "      <td>2021-07-05 00:00:00</td>\n",
       "      <td>0</td>\n",
       "      <td>0</td>\n",
       "      <td>제주특별자치도</td>\n",
       "      <td>197910</td>\n",
       "      <td>68174</td>\n",
       "    </tr>\n",
       "  </tbody>\n",
       "</table>\n",
       "<p>2112 rows × 8 columns</p>\n",
       "</div>"
      ],
      "text/plain": [
       "      accumulatedFirstCnt  accumulatedSecondCnt             baseDate  \\\n",
       "0                  449535                     0  2021-03-11 00:00:00   \n",
       "1                   61232                     0  2021-03-11 00:00:00   \n",
       "2                   36734                     0  2021-03-11 00:00:00   \n",
       "3                   23101                     0  2021-03-11 00:00:00   \n",
       "4                   23879                     0  2021-03-11 00:00:00   \n",
       "...                   ...                   ...                  ...   \n",
       "2107               656719                238202  2021-07-05 00:00:00   \n",
       "2108               721957                265904  2021-07-05 00:00:00   \n",
       "2109               878842                312021  2021-07-05 00:00:00   \n",
       "2110              1010324                345785  2021-07-05 00:00:00   \n",
       "2111               197910                 68174  2021-07-05 00:00:00   \n",
       "\n",
       "      firstCnt  secondCnt     sido  totalFirstCnt  totalSecondCnt  \n",
       "0        51100          0       전국         500635               0  \n",
       "1        12595          0    서울특별시          73827               0  \n",
       "2         3311          0    부산광역시          40045               0  \n",
       "3         2310          0    대구광역시          25411               0  \n",
       "4         1791          0    인천광역시          25670               0  \n",
       "...        ...        ...      ...            ...             ...  \n",
       "2107         0          0     전라북도         656719          238202  \n",
       "2108         0          0     전라남도         721957          265904  \n",
       "2109         0          0     경상북도         878842          312021  \n",
       "2110         0          0     경상남도        1010324          345785  \n",
       "2111         0          0  제주특별자치도         197910           68174  \n",
       "\n",
       "[2112 rows x 8 columns]"
      ]
     },
     "execution_count": 24,
     "metadata": {},
     "output_type": "execute_result"
    }
   ],
   "source": [
    "vacc = pd.json_normalize(response_obj[\"data\"])\n",
    "vacc"
   ]
  },
  {
   "cell_type": "code",
   "execution_count": 33,
   "metadata": {},
   "outputs": [],
   "source": [
    "vacc.to_csv('vacc.csv',index=False)"
   ]
  }
 ],
 "metadata": {
  "colab": {
   "authorship_tag": "ABX9TyOJmaXzqyOyc1eKZxi2PLae",
   "collapsed_sections": [],
   "name": "covid19_vaccination_crawler.ipynb",
   "provenance": []
  },
  "kernelspec": {
   "display_name": "Python 3",
   "language": "python",
   "name": "python3"
  },
  "language_info": {
   "codemirror_mode": {
    "name": "ipython",
    "version": 3
   },
   "file_extension": ".py",
   "mimetype": "text/x-python",
   "name": "python",
   "nbconvert_exporter": "python",
   "pygments_lexer": "ipython3",
   "version": "3.8.5"
  }
 },
 "nbformat": 4,
 "nbformat_minor": 1
}
