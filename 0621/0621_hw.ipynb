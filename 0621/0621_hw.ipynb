{
 "cells": [
  {
   "cell_type": "code",
   "execution_count": 1,
   "metadata": {},
   "outputs": [],
   "source": [
    "import os,warnings\n",
    "import re\n",
    "warnings.filterwarnings(action='ignore')"
   ]
  },
  {
   "cell_type": "code",
   "execution_count": 2,
   "metadata": {},
   "outputs": [],
   "source": [
    "from selenium import webdriver\n",
    "from bs4 import BeautifulSoup"
   ]
  },
  {
   "cell_type": "code",
   "execution_count": 26,
   "metadata": {},
   "outputs": [],
   "source": [
    "driver = webdriver.Chrome('./chromedriver_90')\n",
    "## https://www.amazon.com/\n",
    "url ='https://www.amazon.com/SEC-KIMCHI-Korean-Kimchi-Seasoning/dp/B07RH7FN4Z/ref=sr_1_1?crid=18WA1TL8YLC45&dchild=1&keywords=kimchi+powder&qid=1624255100&sprefix=kimchi%2Caps%2C331&sr=8-1'\n",
    "driver.get(url)"
   ]
  },
  {
   "cell_type": "code",
   "execution_count": 4,
   "metadata": {},
   "outputs": [],
   "source": [
    "import time\n",
    "time.sleep(3)"
   ]
  },
  {
   "cell_type": "markdown",
   "metadata": {},
   "source": [
    "//*[@id=\"acrCustomerReviewText\"]> ratings\n",
    "//*[@id=\"reviews-medley-footer\"]/div[2]/a > 리뷰 더보기"
   ]
  },
  {
   "cell_type": "code",
   "execution_count": 30,
   "metadata": {},
   "outputs": [],
   "source": [
    "sel_rate = driver.find_element_by_xpath('//*[@id=\"acrCustomerReviewText\"]')\n",
    "sel_rate.click()"
   ]
  },
  {
   "cell_type": "code",
   "execution_count": 8,
   "metadata": {},
   "outputs": [],
   "source": [
    "time.sleep(3)"
   ]
  },
  {
   "cell_type": "code",
   "execution_count": 31,
   "metadata": {},
   "outputs": [],
   "source": [
    "sel_review=driver.find_element_by_xpath('//*[@id=\"reviews-medley-footer\"]/div[2]/a')\n",
    "sel_review.click()"
   ]
  },
  {
   "cell_type": "code",
   "execution_count": 32,
   "metadata": {},
   "outputs": [
    {
     "data": {
      "text/plain": [
       "<title>Amazon.com: Customer reviews: 1EA ORIGINAL Korean Kimchi Powder Seasoning Mix 3.5 oz (100g) - Spicy Seasoning Mix, Rich in Probiotics, Gluten-free, and NON-GMO, Delicious Barbecue Dry Rub for Chicken Pork Fish Vegetables</title>"
      ]
     },
     "execution_count": 32,
     "metadata": {},
     "output_type": "execute_result"
    }
   ],
   "source": [
    "page = driver.page_source\n",
    "soup = BeautifulSoup(page, 'html.parser')\n",
    "soup.title"
   ]
  },
  {
   "cell_type": "code",
   "execution_count": 38,
   "metadata": {},
   "outputs": [
    {
     "data": {
      "text/plain": [
       "'luragirl'"
      ]
     },
     "execution_count": 38,
     "metadata": {},
     "output_type": "execute_result"
    }
   ],
   "source": [
    "all_r = soup.find_all(\"div\", class_='a-section a-spacing-none review-views celwidget')\n",
    "user=all_r[0].find('span',class_='a-profile-name').text\n",
    "user"
   ]
  },
  {
   "cell_type": "code",
   "execution_count": 37,
   "metadata": {},
   "outputs": [],
   "source": [
    "import re"
   ]
  },
  {
   "cell_type": "code",
   "execution_count": 40,
   "metadata": {},
   "outputs": [
    {
     "name": "stdout",
     "output_type": "stream",
     "text": [
      "10\n",
      "10\n",
      "10\n",
      "10\n",
      "10\n",
      "10\n"
     ]
    }
   ],
   "source": [
    "all_r=soup.find_all('div',class_='a-section celwidget')\n",
    "all_user=[]\n",
    "all_ratings=[]\n",
    "all_date=[]\n",
    "all_location=[]\n",
    "all_help=[]\n",
    "all_review=[]\n",
    "\n",
    "for one in all_r:\n",
    "    user_one=one.find('span',class_='a-profile-name').text\n",
    "    all_user.append(user_one)\n",
    "\n",
    "    rate_one=one.find('span',class_='a-icon-alt').text[0:3]\n",
    "    all_ratings.append(rate_one)\n",
    "\n",
    "    info_one=one.find('span',class_='a-size-base a-color-secondary review-date').text.lstrip(\"Reviewd in \").split(\" on \")\n",
    "    all_date.append(info_one[-1])\n",
    "    all_location.append(info_one[0])    \n",
    "\n",
    "    try:\n",
    "        help_one=one.find('span',class_='a-size-base a-color-tertiary cr-vote-text').text\n",
    "    except:\n",
    "        help_one='0'\n",
    "    all_help.append(help_one)\n",
    "    \n",
    "    tmp = one.text\n",
    "    review = tmp.replace(\"\\n\", \"\")\n",
    "    all_review.append(review)\n",
    "\n",
    "print(len(all_user))\n",
    "print(len(all_ratings))\n",
    "print(len(all_date))\n",
    "print(len(all_location))\n",
    "print(len(all_help))\n",
    "print(len(all_review))"
   ]
  },
  {
   "cell_type": "code",
   "execution_count": 42,
   "metadata": {},
   "outputs": [
    {
     "name": "stdout",
     "output_type": "stream",
     "text": [
      "user: Linda Loc rating: 5.0\n",
      "review: Linda Loc5.0 out of 5 starsLoved itReviewed in the United States on June 3, 2021Size: 3.5 Ounce (Pack of 1)Verified Purchase  I love the product and the spiciness brings the kimchi to the table and thank you          HelpfulReport abuseShowing 0 commentsThere was a problem loading comments right now. Please try again later.\n",
      "\n",
      "\n",
      "user: Maros Kocan rating: 5.0\n",
      "review: Maros Kocan5.0 out of 5 starsWowReviewed in the United States on April 14, 2021Size: 3.5 Ounce (Pack of 1)Verified Purchase  I was never before into any spice but after this experience I am addicted          HelpfulReport abuseShowing 0 commentsThere was a problem loading comments right now. Please try again later.\n",
      "\n",
      "\n",
      "user: Joan Gamell rating: 5.0\n",
      "review: Joan Gamell5.0 out of 5 starsGreat flavour!!!Reviewed in the United States on January 9, 2021Size: 3.5 Ounce (Pack of 1)Verified Purchase  I love this!! I use this seasoning for a cucumber salad! (sesame oil, salt, this kimchi seasoning)2 people found this helpful          HelpfulReport abuseShowing 0 commentsThere was a problem loading comments right now. Please try again later.\n",
      "\n",
      "\n",
      "user: Amazing Grace rating: 5.0\n",
      "review: Amazing Grace5.0 out of 5 starsMmm. KimchiReviewed in the United States on June 1, 2021Size: 3.5 Ounce (Pack of 1)Verified Purchase  Great kimchi seasoning          HelpfulReport abuseShowing 0 commentsThere was a problem loading comments right now. Please try again later.\n",
      "\n",
      "\n",
      "user: kathy rating: 5.0\n",
      "review: kathy5.0 out of 5 starsDelicious..Reviewed in the United States on March 9, 2021Size: 3.5 Ounce (Pack of 1)Verified Purchase  Delicious on almost everything.          HelpfulReport abuseShowing 0 commentsThere was a problem loading comments right now. Please try again later.\n",
      "\n",
      "\n",
      "50\n",
      "50\n",
      "50\n",
      "50\n",
      "50\n",
      "50\n"
     ]
    }
   ],
   "source": [
    "all_user=[]\n",
    "all_ratings=[]\n",
    "all_date=[]\n",
    "all_location=[]\n",
    "all_help=[]\n",
    "all_review=[]\n",
    "\n",
    "for page in range(2,7,1):\n",
    "    time.sleep(3)\n",
    "    \n",
    "    page=driver.page_source\n",
    "    soup=BeautifulSoup(page,'html.parser')\n",
    "    all_r1=soup.find_all('div',class_='a-section celwidget')\n",
    "    \n",
    "    for one in all_r1:\n",
    "        user_one=one.find('span',class_='a-profile-name').text\n",
    "        all_user.append(user_one)\n",
    "\n",
    "        rate_one=one.find('span',class_='a-icon-alt').text[0:3]\n",
    "        all_ratings.append(rate_one)\n",
    "\n",
    "        info_one=one.find('span',class_='a-size-base a-color-secondary review-date').text.lstrip(\"Reviewd in \").split(\" on \")\n",
    "        all_date.append(info_one[-1])\n",
    "        all_location.append(info_one[0])    \n",
    "\n",
    "        try:\n",
    "            help_one=one.find('span',class_='a-size-base a-color-tertiary cr-vote-text').text\n",
    "        except:\n",
    "            help_one='0'\n",
    "        all_help.append(help_one)\n",
    "    \n",
    "        tmp = one.text\n",
    "        review = tmp.replace(\"\\n\", \"\")\n",
    "        all_review.append(review)\n",
    "    \n",
    "    print('user:',all_user[-1],'rating:',all_ratings[-1])\n",
    "    print('review:',all_review[-1],end='\\n\\n\\n')\n",
    "\n",
    "    sel_next = driver.find_element_by_xpath('//*[@id=\"cm_cr-pagination_bar\"]/ul/li[2]/a')\n",
    "    sel_next.click()\n",
    "\n",
    "print(len(all_user))\n",
    "print(len(all_ratings))\n",
    "print(len(all_date))\n",
    "print(len(all_location))\n",
    "print(len(all_help))\n",
    "print(len(all_review))"
   ]
  },
  {
   "cell_type": "code",
   "execution_count": 43,
   "metadata": {},
   "outputs": [],
   "source": [
    "import pandas as pd"
   ]
  },
  {
   "cell_type": "code",
   "execution_count": 44,
   "metadata": {},
   "outputs": [
    {
     "name": "stdout",
     "output_type": "stream",
     "text": [
      "A csv file is exported to C:\\Users\\ahah0\\Documents\\GitHub\\LIKELION-WEB\\0621\n"
     ]
    }
   ],
   "source": [
    "dat_review1={'user':all_user,'ratings':all_ratings,'date':all_date,\n",
    "            'location':all_location,'help':all_help,\n",
    "            'review':all_review}\n",
    "review1= pd.DataFrame(dat_review1)\n",
    "review1.to_csv(\"amazon_reviews_kimchi.csv\", index=False)\n",
    "print(\"A csv file is exported to \" + os.getcwd())"
   ]
  },
  {
   "cell_type": "code",
   "execution_count": null,
   "metadata": {},
   "outputs": [],
   "source": []
  }
 ],
 "metadata": {
  "kernelspec": {
   "display_name": "Python 3",
   "language": "python",
   "name": "python3"
  },
  "language_info": {
   "codemirror_mode": {
    "name": "ipython",
    "version": 3
   },
   "file_extension": ".py",
   "mimetype": "text/x-python",
   "name": "python",
   "nbconvert_exporter": "python",
   "pygments_lexer": "ipython3",
   "version": "3.8.5"
  }
 },
 "nbformat": 4,
 "nbformat_minor": 4
}
