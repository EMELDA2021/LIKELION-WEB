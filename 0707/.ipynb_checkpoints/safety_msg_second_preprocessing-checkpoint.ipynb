{
 "cells": [
  {
   "cell_type": "markdown",
   "metadata": {
    "id": "ib_BfshQ7YXt"
   },
   "source": [
    "# 구글드라이브 연동하기"
   ]
  },
  {
   "cell_type": "code",
   "execution_count": 252,
   "metadata": {
    "colab": {
     "base_uri": "https://localhost:8080/"
    },
    "executionInfo": {
     "elapsed": 4,
     "status": "ok",
     "timestamp": 1625644471665,
     "user": {
      "displayName": "이성준",
      "photoUrl": "",
      "userId": "17660701608448574543"
     },
     "user_tz": -540
    },
    "id": "NLZRFJrZGdo0",
    "outputId": "41e8f466-f6e5-4c1d-e431-af251506bfec"
   },
   "outputs": [
    {
     "name": "stdout",
     "output_type": "stream",
     "text": [
      "Drive already mounted at /gdrive; to attempt to forcibly remount, call drive.mount(\"/gdrive\", force_remount=True).\n"
     ]
    }
   ],
   "source": [
    "from google.colab import drive\n",
    "drive.mount('/gdrive')"
   ]
  },
  {
   "cell_type": "markdown",
   "metadata": {
    "id": "D4mQEl3C7cl3"
   },
   "source": [
    "# 라이브러리 불러오기"
   ]
  },
  {
   "cell_type": "code",
   "execution_count": 253,
   "metadata": {
    "executionInfo": {
     "elapsed": 2,
     "status": "ok",
     "timestamp": 1625644471665,
     "user": {
      "displayName": "이성준",
      "photoUrl": "",
      "userId": "17660701608448574543"
     },
     "user_tz": -540
    },
    "id": "LvoTbwm_GfBi"
   },
   "outputs": [],
   "source": [
    "# optional libraries\n",
    "from datetime import datetime\n",
    "import os\n",
    "\n",
    "# data processing\n",
    "import pandas as pd\n",
    "import numpy as np\n",
    "\n",
    "# plotting grapsh\n",
    "import matplotlib.pyplot as plt\n",
    "import seaborn as sns\n",
    "\n",
    "# detecting peaks on the data\n",
    "from scipy.signal import find_peaks_cwt"
   ]
  },
  {
   "cell_type": "markdown",
   "metadata": {
    "id": "n3NjUrS-7UnI"
   },
   "source": [
    "# 재난문자 전처리"
   ]
  },
  {
   "cell_type": "markdown",
   "metadata": {
    "id": "OzdAfEvi7fK7"
   },
   "source": [
    "### pandas 데이터를 편리하게 조회하기 위해 설정"
   ]
  },
  {
   "cell_type": "code",
   "execution_count": 254,
   "metadata": {
    "executionInfo": {
     "elapsed": 3,
     "status": "ok",
     "timestamp": 1625644471666,
     "user": {
      "displayName": "이성준",
      "photoUrl": "",
      "userId": "17660701608448574543"
     },
     "user_tz": -540
    },
    "id": "wep5LisQbu_G"
   },
   "outputs": [],
   "source": [
    "# dataframe 너비 확대하기\n",
    "pd.set_option('display.max_colwidth', None)\n",
    "# dataframe row 개수 지정하기\n",
    "# pd.set_option(\"display.max_rows\", 900)"
   ]
  },
  {
   "cell_type": "code",
   "execution_count": 255,
   "metadata": {
    "executionInfo": {
     "elapsed": 401,
     "status": "ok",
     "timestamp": 1625644472064,
     "user": {
      "displayName": "이성준",
      "photoUrl": "",
      "userId": "17660701608448574543"
     },
     "user_tz": -540
    },
    "id": "UVs9AW4hpDaj"
   },
   "outputs": [],
   "source": [
    "# 위의 옵션들 초기화하기\n",
    "# pd.reset_option(\"^display.\")"
   ]
  },
  {
   "cell_type": "markdown",
   "metadata": {
    "id": "qk7wHEmV8Aha"
   },
   "source": [
    "## Pandas DataFrame으로 CSV 파일 불러오기"
   ]
  },
  {
   "cell_type": "code",
   "execution_count": 256,
   "metadata": {
    "executionInfo": {
     "elapsed": 282,
     "status": "ok",
     "timestamp": 1625644472346,
     "user": {
      "displayName": "이성준",
      "photoUrl": "",
      "userId": "17660701608448574543"
     },
     "user_tz": -540
    },
    "id": "iJnfUaMMGmkV"
   },
   "outputs": [],
   "source": [
    "try:\n",
    "  FILE_PATH = \"/gdrive/MyDrive/멋사_팀프로젝트_이희희/2차_프로젝트/Code/재난문자/공공데이터_크롤링/safety_msg_crawling_total.csv\"\n",
    "  msg_total = pd.read_csv(FILE_PATH)\n",
    "except Exception as e:\n",
    "  temp_path = input(\"위의 파일 경로가 잘못되었습니다. 좌측 폴더 아이콘을 눌러 불러올 csv 파일 경로를 입력해주세요.\")\n",
    "  msg_total = pd.read_csv(temp_path)"
   ]
  },
  {
   "cell_type": "markdown",
   "metadata": {
    "id": "aCZSj0XB8KdD"
   },
   "source": [
    "## Pandas 데이터 및 특성 확인하기"
   ]
  },
  {
   "cell_type": "code",
   "execution_count": 257,
   "metadata": {
    "colab": {
     "base_uri": "https://localhost:8080/",
     "height": 419
    },
    "executionInfo": {
     "elapsed": 10,
     "status": "ok",
     "timestamp": 1625644472347,
     "user": {
      "displayName": "이성준",
      "photoUrl": "",
      "userId": "17660701608448574543"
     },
     "user_tz": -540
    },
    "id": "ksfh2n3QZoaO",
    "outputId": "8332f225-d4f3-483a-8d86-6365a8afa20a"
   },
   "outputs": [
    {
     "data": {
      "text/html": [
       "<div>\n",
       "<style scoped>\n",
       "    .dataframe tbody tr th:only-of-type {\n",
       "        vertical-align: middle;\n",
       "    }\n",
       "\n",
       "    .dataframe tbody tr th {\n",
       "        vertical-align: top;\n",
       "    }\n",
       "\n",
       "    .dataframe thead th {\n",
       "        text-align: right;\n",
       "    }\n",
       "</style>\n",
       "<table border=\"1\" class=\"dataframe\">\n",
       "  <thead>\n",
       "    <tr style=\"text-align: right;\">\n",
       "      <th></th>\n",
       "      <th>create_date</th>\n",
       "      <th>location_id</th>\n",
       "      <th>location_name</th>\n",
       "      <th>md101_sn</th>\n",
       "      <th>msg</th>\n",
       "      <th>send_platform</th>\n",
       "    </tr>\n",
       "  </thead>\n",
       "  <tbody>\n",
       "    <tr>\n",
       "      <th>0</th>\n",
       "      <td>2021-07-02 10:24:18</td>\n",
       "      <td>104</td>\n",
       "      <td>대구광역시 전체</td>\n",
       "      <td>110649</td>\n",
       "      <td>[대구광역시] 2일 0시 기준 확진자 9명(동구3 북구2 서구1 수성구1 달서구1 달성군1)발생. 의심시 외출 자제 및 가까운 보건소 예약 후 검사 바랍니다.</td>\n",
       "      <td>cbs</td>\n",
       "    </tr>\n",
       "    <tr>\n",
       "      <th>1</th>\n",
       "      <td>2021-07-02 10:22:59</td>\n",
       "      <td>98</td>\n",
       "      <td>광주광역시 전체</td>\n",
       "      <td>110648</td>\n",
       "      <td>[광주광역시] 6.18.(금)~6.30.(수) 보보스(BOBOS)호프(북구 대자로 72-1, 운암동)에 방문하신 분은 거주지 보건소에서 검사받으시기 바랍니다.</td>\n",
       "      <td>cbs</td>\n",
       "    </tr>\n",
       "    <tr>\n",
       "      <th>2</th>\n",
       "      <td>2021-07-02 10:16:02</td>\n",
       "      <td>23</td>\n",
       "      <td>경기도 고양시</td>\n",
       "      <td>110647</td>\n",
       "      <td>[고양시청]7.1.(목) 일일 확진자 33명(덕양구9,일산동구14,일산서구9,타지역 거주1) ▶타지역확진 고양시민 2명 https://han.gl/iMmgw 참조</td>\n",
       "      <td>cbs</td>\n",
       "    </tr>\n",
       "    <tr>\n",
       "      <th>3</th>\n",
       "      <td>2021-07-02 10:11:29</td>\n",
       "      <td>58</td>\n",
       "      <td>경상남도 남해군</td>\n",
       "      <td>110646</td>\n",
       "      <td>[남해군청]▶7.2.(금) 09:00기준 확진자 2명 발생 ( 자가격리 중 해제 전 검사 시 ) ▶관련정보는 남해군 홈페이지 또는 페이스북 참고 바랍니다.</td>\n",
       "      <td>cbs</td>\n",
       "    </tr>\n",
       "    <tr>\n",
       "      <th>4</th>\n",
       "      <td>2021-07-02 10:09:23</td>\n",
       "      <td>26</td>\n",
       "      <td>경기도 광주시</td>\n",
       "      <td>110645</td>\n",
       "      <td>[광주시청]제2차 광주시 재난기본소득(1인당 10만원) 미신청 하신 분은 7월말까지 주소지 읍면동사무소에서 신청바랍니다.(대상: 3.8.기준 광주시민,등록외국인)</td>\n",
       "      <td>cbs</td>\n",
       "    </tr>\n",
       "    <tr>\n",
       "      <th>...</th>\n",
       "      <td>...</td>\n",
       "      <td>...</td>\n",
       "      <td>...</td>\n",
       "      <td>...</td>\n",
       "      <td>...</td>\n",
       "      <td>...</td>\n",
       "    </tr>\n",
       "    <tr>\n",
       "      <th>90143</th>\n",
       "      <td>2011-11-20 12:10:41</td>\n",
       "      <td>3,4,5,6,7,9</td>\n",
       "      <td>강원도 강릉시,강원도 고성군,강원도 동해시,강원도 삼척시,강원도 속초시,강원도 양양군</td>\n",
       "      <td>10</td>\n",
       "      <td>[국민안전처]20일 12시 동해중부먼바다 풍랑경보, 어선은 출항을 금지하고 출어선은 신속히 대피하기 바랍니다.</td>\n",
       "      <td>cbs</td>\n",
       "    </tr>\n",
       "    <tr>\n",
       "      <th>90144</th>\n",
       "      <td>2011-11-18 21:12:20</td>\n",
       "      <td>200</td>\n",
       "      <td>전라남도 해남군</td>\n",
       "      <td>9</td>\n",
       "      <td>[국민안전처]\\n18일21시10분 전남 해남지역 호우경보, 상습침수및위험지역 대피,외출자제 등 안전에 주의하세요</td>\n",
       "      <td>cbs</td>\n",
       "    </tr>\n",
       "    <tr>\n",
       "      <th>90145</th>\n",
       "      <td>2011-11-18 11:38:36</td>\n",
       "      <td>217</td>\n",
       "      <td>제주특별자치도 전체</td>\n",
       "      <td>8</td>\n",
       "      <td>[국민안전처]\\n18일11시30분 제주동부지역 호우경보, 상습침수및위험지역 대피,외출자제 등 안전에 주의하세요</td>\n",
       "      <td>cbs</td>\n",
       "    </tr>\n",
       "    <tr>\n",
       "      <th>90146</th>\n",
       "      <td>2011-11-18 08:20:05</td>\n",
       "      <td>217</td>\n",
       "      <td>제주특별자치도 전체</td>\n",
       "      <td>7</td>\n",
       "      <td>[국민안전처]\\n18일8시20분 제주산간,북부지역 호우경보, 상습침수및위험지역 대피,외출자제 등 안전에 주의하세요</td>\n",
       "      <td>cbs</td>\n",
       "    </tr>\n",
       "    <tr>\n",
       "      <th>90147</th>\n",
       "      <td>2011-11-18 07:43:44</td>\n",
       "      <td>217</td>\n",
       "      <td>제주특별자치도 전체</td>\n",
       "      <td>6</td>\n",
       "      <td>[국민안전처]\\n18일07:30 제주서부지역 호우경보, 상습침수및위험지역 대피,외출자제 등 안전에 주의하세요</td>\n",
       "      <td>cbs</td>\n",
       "    </tr>\n",
       "  </tbody>\n",
       "</table>\n",
       "<p>90148 rows × 6 columns</p>\n",
       "</div>"
      ],
      "text/plain": [
       "               create_date  ... send_platform\n",
       "0      2021-07-02 10:24:18  ...           cbs\n",
       "1      2021-07-02 10:22:59  ...           cbs\n",
       "2      2021-07-02 10:16:02  ...           cbs\n",
       "3      2021-07-02 10:11:29  ...           cbs\n",
       "4      2021-07-02 10:09:23  ...           cbs\n",
       "...                    ...  ...           ...\n",
       "90143  2011-11-20 12:10:41  ...           cbs\n",
       "90144  2011-11-18 21:12:20  ...           cbs\n",
       "90145  2011-11-18 11:38:36  ...           cbs\n",
       "90146  2011-11-18 08:20:05  ...           cbs\n",
       "90147  2011-11-18 07:43:44  ...           cbs\n",
       "\n",
       "[90148 rows x 6 columns]"
      ]
     },
     "execution_count": 257,
     "metadata": {
      "tags": []
     },
     "output_type": "execute_result"
    }
   ],
   "source": [
    "msg_total"
   ]
  },
  {
   "cell_type": "code",
   "execution_count": 258,
   "metadata": {
    "colab": {
     "base_uri": "https://localhost:8080/"
    },
    "executionInfo": {
     "elapsed": 9,
     "status": "ok",
     "timestamp": 1625644472347,
     "user": {
      "displayName": "이성준",
      "photoUrl": "",
      "userId": "17660701608448574543"
     },
     "user_tz": -540
    },
    "id": "wg_oL01BaUAW",
    "outputId": "9da740a1-2c7d-4381-a7ee-f3a5855c8fc1"
   },
   "outputs": [
    {
     "name": "stdout",
     "output_type": "stream",
     "text": [
      "<class 'pandas.core.frame.DataFrame'>\n",
      "RangeIndex: 90148 entries, 0 to 90147\n",
      "Data columns (total 6 columns):\n",
      " #   Column         Non-Null Count  Dtype \n",
      "---  ------         --------------  ----- \n",
      " 0   create_date    90148 non-null  object\n",
      " 1   location_id    90148 non-null  object\n",
      " 2   location_name  90101 non-null  object\n",
      " 3   md101_sn       90148 non-null  int64 \n",
      " 4   msg            90147 non-null  object\n",
      " 5   send_platform  90148 non-null  object\n",
      "dtypes: int64(1), object(5)\n",
      "memory usage: 4.1+ MB\n"
     ]
    }
   ],
   "source": [
    "msg_total.info()"
   ]
  },
  {
   "cell_type": "markdown",
   "metadata": {
    "id": "yJ4qWpV18T_3"
   },
   "source": [
    "## Pandas DataFrame 전처리하기"
   ]
  },
  {
   "cell_type": "markdown",
   "metadata": {
    "id": "uQffWKhp8YHP"
   },
   "source": [
    "### create_date의 데이터타입을 dateframe으로 바꿔주기"
   ]
  },
  {
   "cell_type": "code",
   "execution_count": 259,
   "metadata": {
    "executionInfo": {
     "elapsed": 8,
     "status": "ok",
     "timestamp": 1625644472348,
     "user": {
      "displayName": "이성준",
      "photoUrl": "",
      "userId": "17660701608448574543"
     },
     "user_tz": -540
    },
    "id": "mFTExE4KaY8t"
   },
   "outputs": [],
   "source": [
    "msg_total[\"create_date\"] = pd.to_datetime(msg_total[\"create_date\"])"
   ]
  },
  {
   "cell_type": "code",
   "execution_count": 260,
   "metadata": {
    "colab": {
     "base_uri": "https://localhost:8080/"
    },
    "executionInfo": {
     "elapsed": 7,
     "status": "ok",
     "timestamp": 1625644472348,
     "user": {
      "displayName": "이성준",
      "photoUrl": "",
      "userId": "17660701608448574543"
     },
     "user_tz": -540
    },
    "id": "vbZhNbsrahfY",
    "outputId": "3a3aac76-71df-44e6-ac48-1feb86d7accd"
   },
   "outputs": [
    {
     "name": "stdout",
     "output_type": "stream",
     "text": [
      "<class 'pandas.core.frame.DataFrame'>\n",
      "RangeIndex: 90148 entries, 0 to 90147\n",
      "Data columns (total 6 columns):\n",
      " #   Column         Non-Null Count  Dtype         \n",
      "---  ------         --------------  -----         \n",
      " 0   create_date    90148 non-null  datetime64[ns]\n",
      " 1   location_id    90148 non-null  object        \n",
      " 2   location_name  90101 non-null  object        \n",
      " 3   md101_sn       90148 non-null  int64         \n",
      " 4   msg            90147 non-null  object        \n",
      " 5   send_platform  90148 non-null  object        \n",
      "dtypes: datetime64[ns](1), int64(1), object(4)\n",
      "memory usage: 4.1+ MB\n"
     ]
    }
   ],
   "source": [
    "msg_total.info()"
   ]
  },
  {
   "cell_type": "markdown",
   "metadata": {
    "id": "quXK8IAm9Lk_"
   },
   "source": [
    "# 데이터 가공하기"
   ]
  },
  {
   "cell_type": "markdown",
   "metadata": {
    "id": "EN_3tP5u8fWh"
   },
   "source": [
    "## 코로나19 발생 시점 이후의 재난문자만 가져오기"
   ]
  },
  {
   "cell_type": "code",
   "execution_count": 261,
   "metadata": {
    "colab": {
     "base_uri": "https://localhost:8080/",
     "height": 589
    },
    "executionInfo": {
     "elapsed": 297,
     "status": "ok",
     "timestamp": 1625644472639,
     "user": {
      "displayName": "이성준",
      "photoUrl": "",
      "userId": "17660701608448574543"
     },
     "user_tz": -540
    },
    "id": "heY5u6vSai1i",
    "outputId": "0ef5d658-bbe1-4356-f975-dc552f2902ae"
   },
   "outputs": [
    {
     "data": {
      "text/html": [
       "<div>\n",
       "<style scoped>\n",
       "    .dataframe tbody tr th:only-of-type {\n",
       "        vertical-align: middle;\n",
       "    }\n",
       "\n",
       "    .dataframe tbody tr th {\n",
       "        vertical-align: top;\n",
       "    }\n",
       "\n",
       "    .dataframe thead th {\n",
       "        text-align: right;\n",
       "    }\n",
       "</style>\n",
       "<table border=\"1\" class=\"dataframe\">\n",
       "  <thead>\n",
       "    <tr style=\"text-align: right;\">\n",
       "      <th></th>\n",
       "      <th>create_date</th>\n",
       "      <th>location_id</th>\n",
       "      <th>location_name</th>\n",
       "      <th>md101_sn</th>\n",
       "      <th>msg</th>\n",
       "      <th>send_platform</th>\n",
       "    </tr>\n",
       "  </thead>\n",
       "  <tbody>\n",
       "    <tr>\n",
       "      <th>0</th>\n",
       "      <td>2021-07-02 10:24:18</td>\n",
       "      <td>104</td>\n",
       "      <td>대구광역시 전체</td>\n",
       "      <td>110649</td>\n",
       "      <td>[대구광역시] 2일 0시 기준 확진자 9명(동구3 북구2 서구1 수성구1 달서구1 달성군1)발생. 의심시 외출 자제 및 가까운 보건소 예약 후 검사 바랍니다.</td>\n",
       "      <td>cbs</td>\n",
       "    </tr>\n",
       "    <tr>\n",
       "      <th>1</th>\n",
       "      <td>2021-07-02 10:22:59</td>\n",
       "      <td>98</td>\n",
       "      <td>광주광역시 전체</td>\n",
       "      <td>110648</td>\n",
       "      <td>[광주광역시] 6.18.(금)~6.30.(수) 보보스(BOBOS)호프(북구 대자로 72-1, 운암동)에 방문하신 분은 거주지 보건소에서 검사받으시기 바랍니다.</td>\n",
       "      <td>cbs</td>\n",
       "    </tr>\n",
       "    <tr>\n",
       "      <th>2</th>\n",
       "      <td>2021-07-02 10:16:02</td>\n",
       "      <td>23</td>\n",
       "      <td>경기도 고양시</td>\n",
       "      <td>110647</td>\n",
       "      <td>[고양시청]7.1.(목) 일일 확진자 33명(덕양구9,일산동구14,일산서구9,타지역 거주1) ▶타지역확진 고양시민 2명 https://han.gl/iMmgw 참조</td>\n",
       "      <td>cbs</td>\n",
       "    </tr>\n",
       "    <tr>\n",
       "      <th>3</th>\n",
       "      <td>2021-07-02 10:11:29</td>\n",
       "      <td>58</td>\n",
       "      <td>경상남도 남해군</td>\n",
       "      <td>110646</td>\n",
       "      <td>[남해군청]▶7.2.(금) 09:00기준 확진자 2명 발생 ( 자가격리 중 해제 전 검사 시 ) ▶관련정보는 남해군 홈페이지 또는 페이스북 참고 바랍니다.</td>\n",
       "      <td>cbs</td>\n",
       "    </tr>\n",
       "    <tr>\n",
       "      <th>4</th>\n",
       "      <td>2021-07-02 10:09:23</td>\n",
       "      <td>26</td>\n",
       "      <td>경기도 광주시</td>\n",
       "      <td>110645</td>\n",
       "      <td>[광주시청]제2차 광주시 재난기본소득(1인당 10만원) 미신청 하신 분은 7월말까지 주소지 읍면동사무소에서 신청바랍니다.(대상: 3.8.기준 광주시민,등록외국인)</td>\n",
       "      <td>cbs</td>\n",
       "    </tr>\n",
       "    <tr>\n",
       "      <th>...</th>\n",
       "      <td>...</td>\n",
       "      <td>...</td>\n",
       "      <td>...</td>\n",
       "      <td>...</td>\n",
       "      <td>...</td>\n",
       "      <td>...</td>\n",
       "    </tr>\n",
       "    <tr>\n",
       "      <th>85635</th>\n",
       "      <td>2020-01-24 11:00:13</td>\n",
       "      <td>179</td>\n",
       "      <td>전라남도 전체</td>\n",
       "      <td>25017</td>\n",
       "      <td>[전남도청]신종 코로나바이러스감염증 예방을 위해 손씻기, 마스크착용 등 수칙 준수, 중국 우한시 방문후 발열, 호흡기증상 발생시 1339 또는 보건소 상담바랍니다</td>\n",
       "      <td>cbs</td>\n",
       "    </tr>\n",
       "    <tr>\n",
       "      <th>85636</th>\n",
       "      <td>2020-01-24 11:00:05</td>\n",
       "      <td>104</td>\n",
       "      <td>대구광역시 전체</td>\n",
       "      <td>25016</td>\n",
       "      <td>[대구광역시청]신종 코로나바이러스감염증 예방을 위해 손씻기, 기침예절, 마스크착용 등 수칙 준수와 발열 호흡기증상 발생시 1339 또는 보건소로 상담 바랍니다.</td>\n",
       "      <td>cbs</td>\n",
       "    </tr>\n",
       "    <tr>\n",
       "      <th>85637</th>\n",
       "      <td>2020-01-23 18:11:01</td>\n",
       "      <td>42</td>\n",
       "      <td>경기도 연천군</td>\n",
       "      <td>25015</td>\n",
       "      <td>[연천군청]설 명절 아프리카 돼지열병 확산방지를 위하여, 방역울타리 출입을 자제해 주시고, 울타리 출입 시 반드시 문단속을 하여 주시기 바랍니다.</td>\n",
       "      <td>cbs</td>\n",
       "    </tr>\n",
       "    <tr>\n",
       "      <th>85638</th>\n",
       "      <td>2020-01-23 17:00:37</td>\n",
       "      <td>2,21,53,98,104,113,119,136,162,168,179,202,217,222,238,6474</td>\n",
       "      <td>강원도 전체,경기도 전체,경상남도 전체,광주광역시 전체,대구광역시 전체,대전광역시 전체,부산광역시 전체,서울특별시 전체,울산광역시 전체,인천광역시 전체,전라남도 전체,전라북도 전체,제주특별자치도 전체,충청남도 전체,충청북도 전체,세종특별자치시</td>\n",
       "      <td>25014</td>\n",
       "      <td>[행정안전부] 신종 코로나바이러스감염증 예방을 위해 손씻기, 기침예절, 마스크착용 등 수칙 준수와 발열 호흡기 증상 발생 시 1339 또는 보건소로 상담바랍니다.</td>\n",
       "      <td>cbs</td>\n",
       "    </tr>\n",
       "    <tr>\n",
       "      <th>85639</th>\n",
       "      <td>2020-01-23 15:08:34</td>\n",
       "      <td>74</td>\n",
       "      <td>경상북도 전체</td>\n",
       "      <td>25013</td>\n",
       "      <td>[경상북도청]신종 코로나바이러스감염증 예방수칙(손씻기,기침예절,마스크 착용 등) 준수, 중국 우한시 여행 후 발열,호흡기 증상시 1339 또는 시군 보건소 문의</td>\n",
       "      <td>cbs</td>\n",
       "    </tr>\n",
       "  </tbody>\n",
       "</table>\n",
       "<p>85640 rows × 6 columns</p>\n",
       "</div>"
      ],
      "text/plain": [
       "              create_date  ... send_platform\n",
       "0     2021-07-02 10:24:18  ...           cbs\n",
       "1     2021-07-02 10:22:59  ...           cbs\n",
       "2     2021-07-02 10:16:02  ...           cbs\n",
       "3     2021-07-02 10:11:29  ...           cbs\n",
       "4     2021-07-02 10:09:23  ...           cbs\n",
       "...                   ...  ...           ...\n",
       "85635 2020-01-24 11:00:13  ...           cbs\n",
       "85636 2020-01-24 11:00:05  ...           cbs\n",
       "85637 2020-01-23 18:11:01  ...           cbs\n",
       "85638 2020-01-23 17:00:37  ...           cbs\n",
       "85639 2020-01-23 15:08:34  ...           cbs\n",
       "\n",
       "[85640 rows x 6 columns]"
      ]
     },
     "execution_count": 261,
     "metadata": {
      "tags": []
     },
     "output_type": "execute_result"
    }
   ],
   "source": [
    "msg_total = msg_total[msg_total[\"create_date\"] >= \"2020-01-23 15:08:34\"]\n",
    "msg_total"
   ]
  },
  {
   "cell_type": "code",
   "execution_count": 262,
   "metadata": {
    "colab": {
     "base_uri": "https://localhost:8080/",
     "height": 419
    },
    "executionInfo": {
     "elapsed": 15,
     "status": "ok",
     "timestamp": 1625644472639,
     "user": {
      "displayName": "이성준",
      "photoUrl": "",
      "userId": "17660701608448574543"
     },
     "user_tz": -540
    },
    "id": "xtJQ3VBH2iDO",
    "outputId": "6788f51b-c03e-491a-abe8-bbeae2539d94"
   },
   "outputs": [
    {
     "data": {
      "text/html": [
       "<div>\n",
       "<style scoped>\n",
       "    .dataframe tbody tr th:only-of-type {\n",
       "        vertical-align: middle;\n",
       "    }\n",
       "\n",
       "    .dataframe tbody tr th {\n",
       "        vertical-align: top;\n",
       "    }\n",
       "\n",
       "    .dataframe thead th {\n",
       "        text-align: right;\n",
       "    }\n",
       "</style>\n",
       "<table border=\"1\" class=\"dataframe\">\n",
       "  <thead>\n",
       "    <tr style=\"text-align: right;\">\n",
       "      <th></th>\n",
       "      <th>LOCATION_ID</th>\n",
       "      <th>발송지역(시도)</th>\n",
       "      <th>발송지역(시군구)</th>\n",
       "      <th>법정동코드</th>\n",
       "      <th>법정동(시도)</th>\n",
       "      <th>법정동(시군구)</th>\n",
       "    </tr>\n",
       "  </thead>\n",
       "  <tbody>\n",
       "    <tr>\n",
       "      <th>0</th>\n",
       "      <td>2</td>\n",
       "      <td>강원도</td>\n",
       "      <td>전체</td>\n",
       "      <td>4200000000</td>\n",
       "      <td>강원도</td>\n",
       "      <td>NaN</td>\n",
       "    </tr>\n",
       "    <tr>\n",
       "      <th>1</th>\n",
       "      <td>3</td>\n",
       "      <td>강원도</td>\n",
       "      <td>강릉시</td>\n",
       "      <td>4215000000</td>\n",
       "      <td>강원도</td>\n",
       "      <td>강릉시</td>\n",
       "    </tr>\n",
       "    <tr>\n",
       "      <th>2</th>\n",
       "      <td>4</td>\n",
       "      <td>강원도</td>\n",
       "      <td>고성군</td>\n",
       "      <td>4282000000</td>\n",
       "      <td>강원도</td>\n",
       "      <td>고성군</td>\n",
       "    </tr>\n",
       "    <tr>\n",
       "      <th>3</th>\n",
       "      <td>5</td>\n",
       "      <td>강원도</td>\n",
       "      <td>동해시</td>\n",
       "      <td>4217000000</td>\n",
       "      <td>강원도</td>\n",
       "      <td>동해시</td>\n",
       "    </tr>\n",
       "    <tr>\n",
       "      <th>4</th>\n",
       "      <td>6</td>\n",
       "      <td>강원도</td>\n",
       "      <td>삼척시</td>\n",
       "      <td>4223000000</td>\n",
       "      <td>강원도</td>\n",
       "      <td>삼척시</td>\n",
       "    </tr>\n",
       "    <tr>\n",
       "      <th>...</th>\n",
       "      <td>...</td>\n",
       "      <td>...</td>\n",
       "      <td>...</td>\n",
       "      <td>...</td>\n",
       "      <td>...</td>\n",
       "      <td>...</td>\n",
       "    </tr>\n",
       "    <tr>\n",
       "      <th>248</th>\n",
       "      <td>6406</td>\n",
       "      <td>충청북도</td>\n",
       "      <td>증평군</td>\n",
       "      <td>4374500000</td>\n",
       "      <td>충청북도</td>\n",
       "      <td>증평군</td>\n",
       "    </tr>\n",
       "    <tr>\n",
       "      <th>249</th>\n",
       "      <td>6474</td>\n",
       "      <td>세종특별자치시</td>\n",
       "      <td>전체</td>\n",
       "      <td>3600000000</td>\n",
       "      <td>세종특별자치시</td>\n",
       "      <td>NaN</td>\n",
       "    </tr>\n",
       "    <tr>\n",
       "      <th>250</th>\n",
       "      <td>6474</td>\n",
       "      <td>세종특별자치시</td>\n",
       "      <td>NaN</td>\n",
       "      <td>3611000000</td>\n",
       "      <td>세종특별자치시</td>\n",
       "      <td>NaN</td>\n",
       "    </tr>\n",
       "    <tr>\n",
       "      <th>251</th>\n",
       "      <td>6487</td>\n",
       "      <td>임진강 수계지역(경기도 연천군,파주시)</td>\n",
       "      <td>NaN</td>\n",
       "      <td>4148000000</td>\n",
       "      <td>경기도</td>\n",
       "      <td>파주시</td>\n",
       "    </tr>\n",
       "    <tr>\n",
       "      <th>252</th>\n",
       "      <td>6487</td>\n",
       "      <td>임진강 수계지역(경기도 연천군,파주시)</td>\n",
       "      <td>NaN</td>\n",
       "      <td>4180000000</td>\n",
       "      <td>경기도</td>\n",
       "      <td>연천군</td>\n",
       "    </tr>\n",
       "  </tbody>\n",
       "</table>\n",
       "<p>253 rows × 6 columns</p>\n",
       "</div>"
      ],
      "text/plain": [
       "     LOCATION_ID               발송지역(시도) 발송지역(시군구)       법정동코드  법정동(시도) 법정동(시군구)\n",
       "0              2                    강원도        전체  4200000000      강원도      NaN\n",
       "1              3                    강원도       강릉시  4215000000      강원도      강릉시\n",
       "2              4                    강원도       고성군  4282000000      강원도      고성군\n",
       "3              5                    강원도       동해시  4217000000      강원도      동해시\n",
       "4              6                    강원도       삼척시  4223000000      강원도      삼척시\n",
       "..           ...                    ...       ...         ...      ...      ...\n",
       "248         6406                   충청북도       증평군  4374500000     충청북도      증평군\n",
       "249         6474                세종특별자치시        전체  3600000000  세종특별자치시      NaN\n",
       "250         6474                세종특별자치시       NaN  3611000000  세종특별자치시      NaN\n",
       "251         6487  임진강 수계지역(경기도 연천군,파주시)       NaN  4148000000      경기도      파주시\n",
       "252         6487  임진강 수계지역(경기도 연천군,파주시)       NaN  4180000000      경기도      연천군\n",
       "\n",
       "[253 rows x 6 columns]"
      ]
     },
     "execution_count": 262,
     "metadata": {
      "tags": []
     },
     "output_type": "execute_result"
    }
   ],
   "source": [
    "l_id = pd.read_csv(\"/gdrive/MyDrive/멋사_팀프로젝트_이희희/2차_프로젝트/Code/재난문자/공공데이터_크롤링/행정안전부_재난문자 발령현황 API 지역코드_20200331.csv\", encoding='EUCKR')\n",
    "l_id"
   ]
  },
  {
   "cell_type": "code",
   "execution_count": 263,
   "metadata": {
    "colab": {
     "base_uri": "https://localhost:8080/",
     "height": 419
    },
    "executionInfo": {
     "elapsed": 16,
     "status": "ok",
     "timestamp": 1625644472640,
     "user": {
      "displayName": "이성준",
      "photoUrl": "",
      "userId": "17660701608448574543"
     },
     "user_tz": -540
    },
    "id": "D88OlKBU2rkv",
    "outputId": "1d732c92-fd18-4994-ce51-2466ad34f1d2"
   },
   "outputs": [
    {
     "data": {
      "text/html": [
       "<div>\n",
       "<style scoped>\n",
       "    .dataframe tbody tr th:only-of-type {\n",
       "        vertical-align: middle;\n",
       "    }\n",
       "\n",
       "    .dataframe tbody tr th {\n",
       "        vertical-align: top;\n",
       "    }\n",
       "\n",
       "    .dataframe thead th {\n",
       "        text-align: right;\n",
       "    }\n",
       "</style>\n",
       "<table border=\"1\" class=\"dataframe\">\n",
       "  <thead>\n",
       "    <tr style=\"text-align: right;\">\n",
       "      <th></th>\n",
       "      <th>LOCATION_ID</th>\n",
       "      <th>발송지역(시도)</th>\n",
       "    </tr>\n",
       "  </thead>\n",
       "  <tbody>\n",
       "    <tr>\n",
       "      <th>0</th>\n",
       "      <td>2</td>\n",
       "      <td>강원도</td>\n",
       "    </tr>\n",
       "    <tr>\n",
       "      <th>1</th>\n",
       "      <td>3</td>\n",
       "      <td>강원도</td>\n",
       "    </tr>\n",
       "    <tr>\n",
       "      <th>2</th>\n",
       "      <td>4</td>\n",
       "      <td>강원도</td>\n",
       "    </tr>\n",
       "    <tr>\n",
       "      <th>3</th>\n",
       "      <td>5</td>\n",
       "      <td>강원도</td>\n",
       "    </tr>\n",
       "    <tr>\n",
       "      <th>4</th>\n",
       "      <td>6</td>\n",
       "      <td>강원도</td>\n",
       "    </tr>\n",
       "    <tr>\n",
       "      <th>...</th>\n",
       "      <td>...</td>\n",
       "      <td>...</td>\n",
       "    </tr>\n",
       "    <tr>\n",
       "      <th>248</th>\n",
       "      <td>6406</td>\n",
       "      <td>충청북도</td>\n",
       "    </tr>\n",
       "    <tr>\n",
       "      <th>249</th>\n",
       "      <td>6474</td>\n",
       "      <td>세종특별자치시</td>\n",
       "    </tr>\n",
       "    <tr>\n",
       "      <th>250</th>\n",
       "      <td>6474</td>\n",
       "      <td>세종특별자치시</td>\n",
       "    </tr>\n",
       "    <tr>\n",
       "      <th>251</th>\n",
       "      <td>6487</td>\n",
       "      <td>임진강 수계지역(경기도 연천군,파주시)</td>\n",
       "    </tr>\n",
       "    <tr>\n",
       "      <th>252</th>\n",
       "      <td>6487</td>\n",
       "      <td>임진강 수계지역(경기도 연천군,파주시)</td>\n",
       "    </tr>\n",
       "  </tbody>\n",
       "</table>\n",
       "<p>253 rows × 2 columns</p>\n",
       "</div>"
      ],
      "text/plain": [
       "     LOCATION_ID               발송지역(시도)\n",
       "0              2                    강원도\n",
       "1              3                    강원도\n",
       "2              4                    강원도\n",
       "3              5                    강원도\n",
       "4              6                    강원도\n",
       "..           ...                    ...\n",
       "248         6406                   충청북도\n",
       "249         6474                세종특별자치시\n",
       "250         6474                세종특별자치시\n",
       "251         6487  임진강 수계지역(경기도 연천군,파주시)\n",
       "252         6487  임진강 수계지역(경기도 연천군,파주시)\n",
       "\n",
       "[253 rows x 2 columns]"
      ]
     },
     "execution_count": 263,
     "metadata": {
      "tags": []
     },
     "output_type": "execute_result"
    }
   ],
   "source": [
    "l_id = l_id[[\"LOCATION_ID\", \"발송지역(시도)\"]]\n",
    "l_id"
   ]
  },
  {
   "cell_type": "code",
   "execution_count": 264,
   "metadata": {
    "colab": {
     "base_uri": "https://localhost:8080/"
    },
    "executionInfo": {
     "elapsed": 15,
     "status": "ok",
     "timestamp": 1625644472640,
     "user": {
      "displayName": "이성준",
      "photoUrl": "",
      "userId": "17660701608448574543"
     },
     "user_tz": -540
    },
    "id": "3mLh0oYL1qqX",
    "outputId": "0ee17398-f92f-4525-b04e-31d0564ededf"
   },
   "outputs": [
    {
     "name": "stderr",
     "output_type": "stream",
     "text": [
      "/usr/local/lib/python3.7/dist-packages/pandas/core/indexing.py:1743: SettingWithCopyWarning: \n",
      "A value is trying to be set on a copy of a slice from a DataFrame.\n",
      "Try using .loc[row_indexer,col_indexer] = value instead\n",
      "\n",
      "See the caveats in the documentation: https://pandas.pydata.org/pandas-docs/stable/user_guide/indexing.html#returning-a-view-versus-a-copy\n",
      "  isetter(ilocs[0], value)\n"
     ]
    }
   ],
   "source": [
    "l_id.loc[:, '발송지역(시도)']=l_id['발송지역(시도)'].replace(['서울특별시','경기도','임진강 수계지역(경기도 연천군,파주시)','인천광역시'],'수도권')\n",
    "l_id.loc[:, '발송지역(시도)']=l_id['발송지역(시도)'].replace(['대전광역시','세종특별자치시','충청북도','충청남도'],'충청권')\n",
    "l_id.loc[:, '발송지역(시도)']=l_id['발송지역(시도)'].replace(['광주광역시','전라북도','전라남도'],'호남권')\n",
    "l_id.loc[:, '발송지역(시도)']=l_id['발송지역(시도)'].replace(['대구광역시','경상북도'],'경북권')\n",
    "l_id.loc[:, '발송지역(시도)']=l_id['발송지역(시도)'].replace(['부산광역시','울산광역시','경상남도'],'경남권')\n",
    "l_id.loc[:, '발송지역(시도)']=l_id['발송지역(시도)'].replace(['강원도'],'강원권')\n",
    "l_id.loc[:, '발송지역(시도)']=l_id['발송지역(시도)'].replace(['제주특별자치도'],'제주')"
   ]
  },
  {
   "cell_type": "code",
   "execution_count": 265,
   "metadata": {
    "colab": {
     "base_uri": "https://localhost:8080/",
     "height": 589
    },
    "executionInfo": {
     "elapsed": 12,
     "status": "ok",
     "timestamp": 1625644472640,
     "user": {
      "displayName": "이성준",
      "photoUrl": "",
      "userId": "17660701608448574543"
     },
     "user_tz": -540
    },
    "id": "OhFeCreVKeZI",
    "outputId": "6c969795-db31-4157-cf1c-537f55ee38bc"
   },
   "outputs": [
    {
     "data": {
      "text/html": [
       "<div>\n",
       "<style scoped>\n",
       "    .dataframe tbody tr th:only-of-type {\n",
       "        vertical-align: middle;\n",
       "    }\n",
       "\n",
       "    .dataframe tbody tr th {\n",
       "        vertical-align: top;\n",
       "    }\n",
       "\n",
       "    .dataframe thead th {\n",
       "        text-align: right;\n",
       "    }\n",
       "</style>\n",
       "<table border=\"1\" class=\"dataframe\">\n",
       "  <thead>\n",
       "    <tr style=\"text-align: right;\">\n",
       "      <th></th>\n",
       "      <th>create_date</th>\n",
       "      <th>location_id</th>\n",
       "      <th>location_name</th>\n",
       "      <th>md101_sn</th>\n",
       "      <th>msg</th>\n",
       "      <th>send_platform</th>\n",
       "    </tr>\n",
       "  </thead>\n",
       "  <tbody>\n",
       "    <tr>\n",
       "      <th>0</th>\n",
       "      <td>2021-07-02 10:24:18</td>\n",
       "      <td>104</td>\n",
       "      <td>대구광역시 전체</td>\n",
       "      <td>110649</td>\n",
       "      <td>[대구광역시] 2일 0시 기준 확진자 9명(동구3 북구2 서구1 수성구1 달서구1 달성군1)발생. 의심시 외출 자제 및 가까운 보건소 예약 후 검사 바랍니다.</td>\n",
       "      <td>cbs</td>\n",
       "    </tr>\n",
       "    <tr>\n",
       "      <th>1</th>\n",
       "      <td>2021-07-02 10:22:59</td>\n",
       "      <td>98</td>\n",
       "      <td>광주광역시 전체</td>\n",
       "      <td>110648</td>\n",
       "      <td>[광주광역시] 6.18.(금)~6.30.(수) 보보스(BOBOS)호프(북구 대자로 72-1, 운암동)에 방문하신 분은 거주지 보건소에서 검사받으시기 바랍니다.</td>\n",
       "      <td>cbs</td>\n",
       "    </tr>\n",
       "    <tr>\n",
       "      <th>2</th>\n",
       "      <td>2021-07-02 10:16:02</td>\n",
       "      <td>23</td>\n",
       "      <td>경기도 고양시</td>\n",
       "      <td>110647</td>\n",
       "      <td>[고양시청]7.1.(목) 일일 확진자 33명(덕양구9,일산동구14,일산서구9,타지역 거주1) ▶타지역확진 고양시민 2명 https://han.gl/iMmgw 참조</td>\n",
       "      <td>cbs</td>\n",
       "    </tr>\n",
       "    <tr>\n",
       "      <th>3</th>\n",
       "      <td>2021-07-02 10:11:29</td>\n",
       "      <td>58</td>\n",
       "      <td>경상남도 남해군</td>\n",
       "      <td>110646</td>\n",
       "      <td>[남해군청]▶7.2.(금) 09:00기준 확진자 2명 발생 ( 자가격리 중 해제 전 검사 시 ) ▶관련정보는 남해군 홈페이지 또는 페이스북 참고 바랍니다.</td>\n",
       "      <td>cbs</td>\n",
       "    </tr>\n",
       "    <tr>\n",
       "      <th>4</th>\n",
       "      <td>2021-07-02 10:09:23</td>\n",
       "      <td>26</td>\n",
       "      <td>경기도 광주시</td>\n",
       "      <td>110645</td>\n",
       "      <td>[광주시청]제2차 광주시 재난기본소득(1인당 10만원) 미신청 하신 분은 7월말까지 주소지 읍면동사무소에서 신청바랍니다.(대상: 3.8.기준 광주시민,등록외국인)</td>\n",
       "      <td>cbs</td>\n",
       "    </tr>\n",
       "    <tr>\n",
       "      <th>...</th>\n",
       "      <td>...</td>\n",
       "      <td>...</td>\n",
       "      <td>...</td>\n",
       "      <td>...</td>\n",
       "      <td>...</td>\n",
       "      <td>...</td>\n",
       "    </tr>\n",
       "    <tr>\n",
       "      <th>85635</th>\n",
       "      <td>2020-01-24 11:00:13</td>\n",
       "      <td>179</td>\n",
       "      <td>전라남도 전체</td>\n",
       "      <td>25017</td>\n",
       "      <td>[전남도청]신종 코로나바이러스감염증 예방을 위해 손씻기, 마스크착용 등 수칙 준수, 중국 우한시 방문후 발열, 호흡기증상 발생시 1339 또는 보건소 상담바랍니다</td>\n",
       "      <td>cbs</td>\n",
       "    </tr>\n",
       "    <tr>\n",
       "      <th>85636</th>\n",
       "      <td>2020-01-24 11:00:05</td>\n",
       "      <td>104</td>\n",
       "      <td>대구광역시 전체</td>\n",
       "      <td>25016</td>\n",
       "      <td>[대구광역시청]신종 코로나바이러스감염증 예방을 위해 손씻기, 기침예절, 마스크착용 등 수칙 준수와 발열 호흡기증상 발생시 1339 또는 보건소로 상담 바랍니다.</td>\n",
       "      <td>cbs</td>\n",
       "    </tr>\n",
       "    <tr>\n",
       "      <th>85637</th>\n",
       "      <td>2020-01-23 18:11:01</td>\n",
       "      <td>42</td>\n",
       "      <td>경기도 연천군</td>\n",
       "      <td>25015</td>\n",
       "      <td>[연천군청]설 명절 아프리카 돼지열병 확산방지를 위하여, 방역울타리 출입을 자제해 주시고, 울타리 출입 시 반드시 문단속을 하여 주시기 바랍니다.</td>\n",
       "      <td>cbs</td>\n",
       "    </tr>\n",
       "    <tr>\n",
       "      <th>85638</th>\n",
       "      <td>2020-01-23 17:00:37</td>\n",
       "      <td>2,21,53,98,104,113,119,136,162,168,179,202,217,222,238,6474</td>\n",
       "      <td>강원도 전체,경기도 전체,경상남도 전체,광주광역시 전체,대구광역시 전체,대전광역시 전체,부산광역시 전체,서울특별시 전체,울산광역시 전체,인천광역시 전체,전라남도 전체,전라북도 전체,제주특별자치도 전체,충청남도 전체,충청북도 전체,세종특별자치시</td>\n",
       "      <td>25014</td>\n",
       "      <td>[행정안전부] 신종 코로나바이러스감염증 예방을 위해 손씻기, 기침예절, 마스크착용 등 수칙 준수와 발열 호흡기 증상 발생 시 1339 또는 보건소로 상담바랍니다.</td>\n",
       "      <td>cbs</td>\n",
       "    </tr>\n",
       "    <tr>\n",
       "      <th>85639</th>\n",
       "      <td>2020-01-23 15:08:34</td>\n",
       "      <td>74</td>\n",
       "      <td>경상북도 전체</td>\n",
       "      <td>25013</td>\n",
       "      <td>[경상북도청]신종 코로나바이러스감염증 예방수칙(손씻기,기침예절,마스크 착용 등) 준수, 중국 우한시 여행 후 발열,호흡기 증상시 1339 또는 시군 보건소 문의</td>\n",
       "      <td>cbs</td>\n",
       "    </tr>\n",
       "  </tbody>\n",
       "</table>\n",
       "<p>85640 rows × 6 columns</p>\n",
       "</div>"
      ],
      "text/plain": [
       "              create_date  ... send_platform\n",
       "0     2021-07-02 10:24:18  ...           cbs\n",
       "1     2021-07-02 10:22:59  ...           cbs\n",
       "2     2021-07-02 10:16:02  ...           cbs\n",
       "3     2021-07-02 10:11:29  ...           cbs\n",
       "4     2021-07-02 10:09:23  ...           cbs\n",
       "...                   ...  ...           ...\n",
       "85635 2020-01-24 11:00:13  ...           cbs\n",
       "85636 2020-01-24 11:00:05  ...           cbs\n",
       "85637 2020-01-23 18:11:01  ...           cbs\n",
       "85638 2020-01-23 17:00:37  ...           cbs\n",
       "85639 2020-01-23 15:08:34  ...           cbs\n",
       "\n",
       "[85640 rows x 6 columns]"
      ]
     },
     "execution_count": 265,
     "metadata": {
      "tags": []
     },
     "output_type": "execute_result"
    }
   ],
   "source": [
    "msg_total"
   ]
  },
  {
   "cell_type": "code",
   "execution_count": 266,
   "metadata": {
    "executionInfo": {
     "elapsed": 12,
     "status": "ok",
     "timestamp": 1625644472640,
     "user": {
      "displayName": "이성준",
      "photoUrl": "",
      "userId": "17660701608448574543"
     },
     "user_tz": -540
    },
    "id": "MmWWT9mpKi5N"
   },
   "outputs": [],
   "source": [
    "msg_total.set_index(\"location_id\", inplace=True)\n",
    "l_id.columns = [\"location_id\", \"area\"]\n",
    "l_id.set_index(\"location_id\", inplace=True)"
   ]
  },
  {
   "cell_type": "code",
   "execution_count": 267,
   "metadata": {
    "executionInfo": {
     "elapsed": 11,
     "status": "ok",
     "timestamp": 1625644472640,
     "user": {
      "displayName": "이성준",
      "photoUrl": "",
      "userId": "17660701608448574543"
     },
     "user_tz": -540
    },
    "id": "JsIQW3jWP0kJ"
   },
   "outputs": [],
   "source": [
    "l_id.index = l_id.index.astype(str)"
   ]
  },
  {
   "cell_type": "code",
   "execution_count": 268,
   "metadata": {
    "executionInfo": {
     "elapsed": 12,
     "status": "ok",
     "timestamp": 1625644472641,
     "user": {
      "displayName": "이성준",
      "photoUrl": "",
      "userId": "17660701608448574543"
     },
     "user_tz": -540
    },
    "id": "Y_sOIdOALo4D"
   },
   "outputs": [],
   "source": [
    "msg_total = msg_total.join(l_id)"
   ]
  },
  {
   "cell_type": "code",
   "execution_count": 269,
   "metadata": {
    "colab": {
     "base_uri": "https://localhost:8080/"
    },
    "executionInfo": {
     "elapsed": 287,
     "status": "ok",
     "timestamp": 1625644472916,
     "user": {
      "displayName": "이성준",
      "photoUrl": "",
      "userId": "17660701608448574543"
     },
     "user_tz": -540
    },
    "id": "sHuvn_zhM2m0",
    "outputId": "5859824e-adb5-4ea9-b933-cca6429c459b"
   },
   "outputs": [
    {
     "data": {
      "text/plain": [
       "location_id\n",
       "10                                강원권\n",
       "10                                강원권\n",
       "10                                강원권\n",
       "10                                강원권\n",
       "10                                강원권\n",
       "                                 ... \n",
       "99,100,103,185,188,194,196,199    NaN\n",
       "99,100,185,188,194,199            NaN\n",
       "99,100,185,188,194,199            NaN\n",
       "99,100,185,188,194,199,201        NaN\n",
       "99,100,185,188,194,199,201        NaN\n",
       "Name: area, Length: 90694, dtype: object"
      ]
     },
     "execution_count": 269,
     "metadata": {
      "tags": []
     },
     "output_type": "execute_result"
    }
   ],
   "source": [
    "msg_total[\"area\"]"
   ]
  },
  {
   "cell_type": "code",
   "execution_count": 270,
   "metadata": {
    "colab": {
     "base_uri": "https://localhost:8080/",
     "height": 793
    },
    "executionInfo": {
     "elapsed": 4,
     "status": "ok",
     "timestamp": 1625644472916,
     "user": {
      "displayName": "이성준",
      "photoUrl": "",
      "userId": "17660701608448574543"
     },
     "user_tz": -540
    },
    "id": "MQLim-M7RWCK",
    "outputId": "84754eb0-5bbb-467c-f103-c351b1df3bd0"
   },
   "outputs": [
    {
     "data": {
      "text/html": [
       "<div>\n",
       "<style scoped>\n",
       "    .dataframe tbody tr th:only-of-type {\n",
       "        vertical-align: middle;\n",
       "    }\n",
       "\n",
       "    .dataframe tbody tr th {\n",
       "        vertical-align: top;\n",
       "    }\n",
       "\n",
       "    .dataframe thead th {\n",
       "        text-align: right;\n",
       "    }\n",
       "</style>\n",
       "<table border=\"1\" class=\"dataframe\">\n",
       "  <thead>\n",
       "    <tr style=\"text-align: right;\">\n",
       "      <th></th>\n",
       "      <th>location_id</th>\n",
       "      <th>create_date</th>\n",
       "      <th>location_name</th>\n",
       "      <th>md101_sn</th>\n",
       "      <th>msg</th>\n",
       "      <th>send_platform</th>\n",
       "      <th>area</th>\n",
       "    </tr>\n",
       "  </thead>\n",
       "  <tbody>\n",
       "    <tr>\n",
       "      <th>0</th>\n",
       "      <td>10</td>\n",
       "      <td>2021-06-27 10:23:41</td>\n",
       "      <td>강원도 영월군</td>\n",
       "      <td>110127</td>\n",
       "      <td>[영월군청] 6/27(일) 확진자 영월읍 1명 발생(영월43번), 감염경로 역학조사 중 ▲코로나19 의심증상시 보건소 선별진료소에서 즉시 검사받으시기 바랍니다.</td>\n",
       "      <td>cbs</td>\n",
       "      <td>강원권</td>\n",
       "    </tr>\n",
       "    <tr>\n",
       "      <th>1</th>\n",
       "      <td>10</td>\n",
       "      <td>2021-06-24 19:47:20</td>\n",
       "      <td>강원도 영월군</td>\n",
       "      <td>109933</td>\n",
       "      <td>[행정안전부] 오늘 19시45분 강원(영월) 호우주의보 발효. 대중교통을 이용하시고 빗길 안전에 주의하시기 바랍니다.</td>\n",
       "      <td>cbs</td>\n",
       "      <td>강원권</td>\n",
       "    </tr>\n",
       "    <tr>\n",
       "      <th>2</th>\n",
       "      <td>10</td>\n",
       "      <td>2021-05-24 09:34:44</td>\n",
       "      <td>강원도 영월군</td>\n",
       "      <td>106650</td>\n",
       "      <td>[영월군청]5.24.(월) 1명 확진(영월 41번), 역학조사 중이며, 이동 동선 등 세부사항은 홈페이지(yw.go.kr) 확인 바랍니다.</td>\n",
       "      <td>cbs</td>\n",
       "      <td>강원권</td>\n",
       "    </tr>\n",
       "    <tr>\n",
       "      <th>3</th>\n",
       "      <td>10</td>\n",
       "      <td>2021-05-22 12:13:45</td>\n",
       "      <td>강원도 영월군</td>\n",
       "      <td>106466</td>\n",
       "      <td>[영월군청]5.22.(토) 1명 확진(영월 40번), 접촉자 파악 및 방역소독 완료, 관내 이동 동선 없으며 세부사항은 홈페이지(yw.go.kr) 참고바랍니다.</td>\n",
       "      <td>cbs</td>\n",
       "      <td>강원권</td>\n",
       "    </tr>\n",
       "    <tr>\n",
       "      <th>4</th>\n",
       "      <td>10</td>\n",
       "      <td>2021-05-04 13:11:21</td>\n",
       "      <td>강원도 영월군</td>\n",
       "      <td>104167</td>\n",
       "      <td>[영월군청]5.4.(화, 13시) 1명 확진(영월39번) 자가격리중으로 지역 내 이동 동선 없음. 세부사항은 홈페이지(yw.go.kr) 참고바랍니다.</td>\n",
       "      <td>cbs</td>\n",
       "      <td>강원권</td>\n",
       "    </tr>\n",
       "    <tr>\n",
       "      <th>...</th>\n",
       "      <td>...</td>\n",
       "      <td>...</td>\n",
       "      <td>...</td>\n",
       "      <td>...</td>\n",
       "      <td>...</td>\n",
       "      <td>...</td>\n",
       "      <td>...</td>\n",
       "    </tr>\n",
       "    <tr>\n",
       "      <th>90689</th>\n",
       "      <td>99,100,103,185,188,194,196,199</td>\n",
       "      <td>2020-07-13 08:02:46</td>\n",
       "      <td>광주광역시 광산구,광주광역시 남구,광주광역시 서구,전라남도 나주시,전라남도 무안군,전라남도 영암군,전라남도 장성군,전라남도 함평군</td>\n",
       "      <td>40493</td>\n",
       "      <td>[영산강홍수통제소]오늘 08:00 황룡강 광주광역시(장록교) 홍수주의보 발령, 안전에 유의하시기 바랍니다.</td>\n",
       "      <td>cbs</td>\n",
       "      <td>NaN</td>\n",
       "    </tr>\n",
       "    <tr>\n",
       "      <th>90690</th>\n",
       "      <td>99,100,185,188,194,199</td>\n",
       "      <td>2020-08-07 19:40:54</td>\n",
       "      <td>광주광역시 광산구,광주광역시 남구,전라남도 나주시,전라남도 무안군,전라남도 영암군,전라남도 함평군</td>\n",
       "      <td>42841</td>\n",
       "      <td>[영산강홍수통제소]오늘 19:40 영산강 나주시(나주대교) 홍수경보 변경발령, 홍수피해 발생에 대비하시기 바랍니다</td>\n",
       "      <td>cbs</td>\n",
       "      <td>NaN</td>\n",
       "    </tr>\n",
       "    <tr>\n",
       "      <th>90691</th>\n",
       "      <td>99,100,185,188,194,199</td>\n",
       "      <td>2020-08-07 16:39:21</td>\n",
       "      <td>광주광역시 광산구,광주광역시 남구,전라남도 나주시,전라남도 무안군,전라남도 영암군,전라남도 함평군</td>\n",
       "      <td>42757</td>\n",
       "      <td>[영산강홍수통제소]오늘 16:40 영산강 나주시(나주대교) 홍수주의보 발령, 안전에 유의하시기 바랍니다.</td>\n",
       "      <td>cbs</td>\n",
       "      <td>NaN</td>\n",
       "    </tr>\n",
       "    <tr>\n",
       "      <th>90692</th>\n",
       "      <td>99,100,185,188,194,199,201</td>\n",
       "      <td>2020-08-07 16:01:59</td>\n",
       "      <td>광주광역시 광산구,광주광역시 남구,전라남도 나주시,전라남도 무안군,전라남도 영암군,전라남도 함평군,전라남도 화순군</td>\n",
       "      <td>42752</td>\n",
       "      <td>[영산강홍수통제소]오늘 16:00 지석천 나주시(남평교) 홍수경보 변경발령, 홍수피해 발생에 대비하시기 바랍니다</td>\n",
       "      <td>cbs</td>\n",
       "      <td>NaN</td>\n",
       "    </tr>\n",
       "    <tr>\n",
       "      <th>90693</th>\n",
       "      <td>99,100,185,188,194,199,201</td>\n",
       "      <td>2020-08-07 15:17:08</td>\n",
       "      <td>광주광역시 광산구,광주광역시 남구,전라남도 나주시,전라남도 무안군,전라남도 영암군,전라남도 함평군,전라남도 화순군</td>\n",
       "      <td>42734</td>\n",
       "      <td>[영산강홍수통제소]오늘 15:10 지석천 나주시(남평교) 홍수주의보 발령, 안전에 유의하시기 바랍니다.</td>\n",
       "      <td>cbs</td>\n",
       "      <td>NaN</td>\n",
       "    </tr>\n",
       "  </tbody>\n",
       "</table>\n",
       "<p>90694 rows × 7 columns</p>\n",
       "</div>"
      ],
      "text/plain": [
       "                          location_id         create_date  ... send_platform  area\n",
       "0                                  10 2021-06-27 10:23:41  ...           cbs   강원권\n",
       "1                                  10 2021-06-24 19:47:20  ...           cbs   강원권\n",
       "2                                  10 2021-05-24 09:34:44  ...           cbs   강원권\n",
       "3                                  10 2021-05-22 12:13:45  ...           cbs   강원권\n",
       "4                                  10 2021-05-04 13:11:21  ...           cbs   강원권\n",
       "...                               ...                 ...  ...           ...   ...\n",
       "90689  99,100,103,185,188,194,196,199 2020-07-13 08:02:46  ...           cbs   NaN\n",
       "90690          99,100,185,188,194,199 2020-08-07 19:40:54  ...           cbs   NaN\n",
       "90691          99,100,185,188,194,199 2020-08-07 16:39:21  ...           cbs   NaN\n",
       "90692      99,100,185,188,194,199,201 2020-08-07 16:01:59  ...           cbs   NaN\n",
       "90693      99,100,185,188,194,199,201 2020-08-07 15:17:08  ...           cbs   NaN\n",
       "\n",
       "[90694 rows x 7 columns]"
      ]
     },
     "execution_count": 270,
     "metadata": {
      "tags": []
     },
     "output_type": "execute_result"
    }
   ],
   "source": [
    "msg_total.reset_index(drop=False, inplace=True)\n",
    "msg_total"
   ]
  },
  {
   "cell_type": "code",
   "execution_count": 271,
   "metadata": {
    "executionInfo": {
     "elapsed": 3,
     "status": "ok",
     "timestamp": 1625644472916,
     "user": {
      "displayName": "이성준",
      "photoUrl": "",
      "userId": "17660701608448574543"
     },
     "user_tz": -540
    },
    "id": "5C7jYeQK3nAj"
   },
   "outputs": [],
   "source": [
    "# msg_total[msg_total[\"area\"].isnull()].sort_values(\"create_date\")[[\"create_date\", \"msg\", \"location_id\"]].reset_index(drop=True)[\"msg\"].str.contains(\"코로나\")"
   ]
  },
  {
   "cell_type": "code",
   "execution_count": 272,
   "metadata": {
    "colab": {
     "base_uri": "https://localhost:8080/",
     "height": 419
    },
    "executionInfo": {
     "elapsed": 1378,
     "status": "ok",
     "timestamp": 1625644474291,
     "user": {
      "displayName": "이성준",
      "photoUrl": "",
      "userId": "17660701608448574543"
     },
     "user_tz": -540
    },
    "id": "KT38VSZSRIqI",
    "outputId": "f6e3294c-9a85-41e2-d1c8-23377bd5b3c6"
   },
   "outputs": [
    {
     "data": {
      "text/html": [
       "<div>\n",
       "<style scoped>\n",
       "    .dataframe tbody tr th:only-of-type {\n",
       "        vertical-align: middle;\n",
       "    }\n",
       "\n",
       "    .dataframe tbody tr th {\n",
       "        vertical-align: top;\n",
       "    }\n",
       "\n",
       "    .dataframe thead th {\n",
       "        text-align: right;\n",
       "    }\n",
       "</style>\n",
       "<table border=\"1\" class=\"dataframe\">\n",
       "  <thead>\n",
       "    <tr style=\"text-align: right;\">\n",
       "      <th></th>\n",
       "      <th>0</th>\n",
       "      <th>index</th>\n",
       "    </tr>\n",
       "  </thead>\n",
       "  <tbody>\n",
       "    <tr>\n",
       "      <th>0</th>\n",
       "      <td>10</td>\n",
       "      <td>0</td>\n",
       "    </tr>\n",
       "    <tr>\n",
       "      <th>1</th>\n",
       "      <td>10</td>\n",
       "      <td>1</td>\n",
       "    </tr>\n",
       "    <tr>\n",
       "      <th>2</th>\n",
       "      <td>10</td>\n",
       "      <td>2</td>\n",
       "    </tr>\n",
       "    <tr>\n",
       "      <th>3</th>\n",
       "      <td>10</td>\n",
       "      <td>3</td>\n",
       "    </tr>\n",
       "    <tr>\n",
       "      <th>4</th>\n",
       "      <td>10</td>\n",
       "      <td>4</td>\n",
       "    </tr>\n",
       "    <tr>\n",
       "      <th>...</th>\n",
       "      <td>...</td>\n",
       "      <td>...</td>\n",
       "    </tr>\n",
       "    <tr>\n",
       "      <th>100877</th>\n",
       "      <td>185</td>\n",
       "      <td>90693</td>\n",
       "    </tr>\n",
       "    <tr>\n",
       "      <th>100878</th>\n",
       "      <td>188</td>\n",
       "      <td>90693</td>\n",
       "    </tr>\n",
       "    <tr>\n",
       "      <th>100879</th>\n",
       "      <td>194</td>\n",
       "      <td>90693</td>\n",
       "    </tr>\n",
       "    <tr>\n",
       "      <th>100880</th>\n",
       "      <td>199</td>\n",
       "      <td>90693</td>\n",
       "    </tr>\n",
       "    <tr>\n",
       "      <th>100881</th>\n",
       "      <td>201</td>\n",
       "      <td>90693</td>\n",
       "    </tr>\n",
       "  </tbody>\n",
       "</table>\n",
       "<p>100882 rows × 2 columns</p>\n",
       "</div>"
      ],
      "text/plain": [
       "          0  index\n",
       "0        10      0\n",
       "1        10      1\n",
       "2        10      2\n",
       "3        10      3\n",
       "4        10      4\n",
       "...     ...    ...\n",
       "100877  185  90693\n",
       "100878  188  90693\n",
       "100879  194  90693\n",
       "100880  199  90693\n",
       "100881  201  90693\n",
       "\n",
       "[100882 rows x 2 columns]"
      ]
     },
     "execution_count": 272,
     "metadata": {
      "tags": []
     },
     "output_type": "execute_result"
    }
   ],
   "source": [
    "temp = pd.DataFrame(msg_total.location_id.str.split(\",\", expand=True)).stack()\n",
    "temp_2 = pd.DataFrame(temp.values)\n",
    "temp_2[\"index\"] = [idx[0] for idx in temp.index]\n",
    "temp_2"
   ]
  },
  {
   "cell_type": "code",
   "execution_count": 273,
   "metadata": {
    "colab": {
     "base_uri": "https://localhost:8080/",
     "height": 844
    },
    "executionInfo": {
     "elapsed": 4,
     "status": "ok",
     "timestamp": 1625644474292,
     "user": {
      "displayName": "이성준",
      "photoUrl": "",
      "userId": "17660701608448574543"
     },
     "user_tz": -540
    },
    "id": "3B7jlnt9sDNn",
    "outputId": "0f2ef9a4-7c74-401e-9381-484ccd0821ee"
   },
   "outputs": [
    {
     "data": {
      "text/html": [
       "<div>\n",
       "<style scoped>\n",
       "    .dataframe tbody tr th:only-of-type {\n",
       "        vertical-align: middle;\n",
       "    }\n",
       "\n",
       "    .dataframe tbody tr th {\n",
       "        vertical-align: top;\n",
       "    }\n",
       "\n",
       "    .dataframe thead th {\n",
       "        text-align: right;\n",
       "    }\n",
       "</style>\n",
       "<table border=\"1\" class=\"dataframe\">\n",
       "  <thead>\n",
       "    <tr style=\"text-align: right;\">\n",
       "      <th></th>\n",
       "      <th>index</th>\n",
       "      <th>location_id</th>\n",
       "      <th>create_date</th>\n",
       "      <th>location_name</th>\n",
       "      <th>md101_sn</th>\n",
       "      <th>msg</th>\n",
       "      <th>send_platform</th>\n",
       "      <th>area</th>\n",
       "    </tr>\n",
       "  </thead>\n",
       "  <tbody>\n",
       "    <tr>\n",
       "      <th>0</th>\n",
       "      <td>0</td>\n",
       "      <td>10</td>\n",
       "      <td>2021-06-27 10:23:41</td>\n",
       "      <td>강원도 영월군</td>\n",
       "      <td>110127</td>\n",
       "      <td>[영월군청] 6/27(일) 확진자 영월읍 1명 발생(영월43번), 감염경로 역학조사 중 ▲코로나19 의심증상시 보건소 선별진료소에서 즉시 검사받으시기 바랍니다.</td>\n",
       "      <td>cbs</td>\n",
       "      <td>강원권</td>\n",
       "    </tr>\n",
       "    <tr>\n",
       "      <th>1</th>\n",
       "      <td>1</td>\n",
       "      <td>10</td>\n",
       "      <td>2021-06-24 19:47:20</td>\n",
       "      <td>강원도 영월군</td>\n",
       "      <td>109933</td>\n",
       "      <td>[행정안전부] 오늘 19시45분 강원(영월) 호우주의보 발효. 대중교통을 이용하시고 빗길 안전에 주의하시기 바랍니다.</td>\n",
       "      <td>cbs</td>\n",
       "      <td>강원권</td>\n",
       "    </tr>\n",
       "    <tr>\n",
       "      <th>2</th>\n",
       "      <td>2</td>\n",
       "      <td>10</td>\n",
       "      <td>2021-05-24 09:34:44</td>\n",
       "      <td>강원도 영월군</td>\n",
       "      <td>106650</td>\n",
       "      <td>[영월군청]5.24.(월) 1명 확진(영월 41번), 역학조사 중이며, 이동 동선 등 세부사항은 홈페이지(yw.go.kr) 확인 바랍니다.</td>\n",
       "      <td>cbs</td>\n",
       "      <td>강원권</td>\n",
       "    </tr>\n",
       "    <tr>\n",
       "      <th>3</th>\n",
       "      <td>3</td>\n",
       "      <td>10</td>\n",
       "      <td>2021-05-22 12:13:45</td>\n",
       "      <td>강원도 영월군</td>\n",
       "      <td>106466</td>\n",
       "      <td>[영월군청]5.22.(토) 1명 확진(영월 40번), 접촉자 파악 및 방역소독 완료, 관내 이동 동선 없으며 세부사항은 홈페이지(yw.go.kr) 참고바랍니다.</td>\n",
       "      <td>cbs</td>\n",
       "      <td>강원권</td>\n",
       "    </tr>\n",
       "    <tr>\n",
       "      <th>4</th>\n",
       "      <td>4</td>\n",
       "      <td>10</td>\n",
       "      <td>2021-05-04 13:11:21</td>\n",
       "      <td>강원도 영월군</td>\n",
       "      <td>104167</td>\n",
       "      <td>[영월군청]5.4.(화, 13시) 1명 확진(영월39번) 자가격리중으로 지역 내 이동 동선 없음. 세부사항은 홈페이지(yw.go.kr) 참고바랍니다.</td>\n",
       "      <td>cbs</td>\n",
       "      <td>강원권</td>\n",
       "    </tr>\n",
       "    <tr>\n",
       "      <th>...</th>\n",
       "      <td>...</td>\n",
       "      <td>...</td>\n",
       "      <td>...</td>\n",
       "      <td>...</td>\n",
       "      <td>...</td>\n",
       "      <td>...</td>\n",
       "      <td>...</td>\n",
       "      <td>...</td>\n",
       "    </tr>\n",
       "    <tr>\n",
       "      <th>90689</th>\n",
       "      <td>90689</td>\n",
       "      <td>99,100,103,185,188,194,196,199</td>\n",
       "      <td>2020-07-13 08:02:46</td>\n",
       "      <td>광주광역시 광산구,광주광역시 남구,광주광역시 서구,전라남도 나주시,전라남도 무안군,전라남도 영암군,전라남도 장성군,전라남도 함평군</td>\n",
       "      <td>40493</td>\n",
       "      <td>[영산강홍수통제소]오늘 08:00 황룡강 광주광역시(장록교) 홍수주의보 발령, 안전에 유의하시기 바랍니다.</td>\n",
       "      <td>cbs</td>\n",
       "      <td>NaN</td>\n",
       "    </tr>\n",
       "    <tr>\n",
       "      <th>90690</th>\n",
       "      <td>90690</td>\n",
       "      <td>99,100,185,188,194,199</td>\n",
       "      <td>2020-08-07 19:40:54</td>\n",
       "      <td>광주광역시 광산구,광주광역시 남구,전라남도 나주시,전라남도 무안군,전라남도 영암군,전라남도 함평군</td>\n",
       "      <td>42841</td>\n",
       "      <td>[영산강홍수통제소]오늘 19:40 영산강 나주시(나주대교) 홍수경보 변경발령, 홍수피해 발생에 대비하시기 바랍니다</td>\n",
       "      <td>cbs</td>\n",
       "      <td>NaN</td>\n",
       "    </tr>\n",
       "    <tr>\n",
       "      <th>90691</th>\n",
       "      <td>90691</td>\n",
       "      <td>99,100,185,188,194,199</td>\n",
       "      <td>2020-08-07 16:39:21</td>\n",
       "      <td>광주광역시 광산구,광주광역시 남구,전라남도 나주시,전라남도 무안군,전라남도 영암군,전라남도 함평군</td>\n",
       "      <td>42757</td>\n",
       "      <td>[영산강홍수통제소]오늘 16:40 영산강 나주시(나주대교) 홍수주의보 발령, 안전에 유의하시기 바랍니다.</td>\n",
       "      <td>cbs</td>\n",
       "      <td>NaN</td>\n",
       "    </tr>\n",
       "    <tr>\n",
       "      <th>90692</th>\n",
       "      <td>90692</td>\n",
       "      <td>99,100,185,188,194,199,201</td>\n",
       "      <td>2020-08-07 16:01:59</td>\n",
       "      <td>광주광역시 광산구,광주광역시 남구,전라남도 나주시,전라남도 무안군,전라남도 영암군,전라남도 함평군,전라남도 화순군</td>\n",
       "      <td>42752</td>\n",
       "      <td>[영산강홍수통제소]오늘 16:00 지석천 나주시(남평교) 홍수경보 변경발령, 홍수피해 발생에 대비하시기 바랍니다</td>\n",
       "      <td>cbs</td>\n",
       "      <td>NaN</td>\n",
       "    </tr>\n",
       "    <tr>\n",
       "      <th>90693</th>\n",
       "      <td>90693</td>\n",
       "      <td>99,100,185,188,194,199,201</td>\n",
       "      <td>2020-08-07 15:17:08</td>\n",
       "      <td>광주광역시 광산구,광주광역시 남구,전라남도 나주시,전라남도 무안군,전라남도 영암군,전라남도 함평군,전라남도 화순군</td>\n",
       "      <td>42734</td>\n",
       "      <td>[영산강홍수통제소]오늘 15:10 지석천 나주시(남평교) 홍수주의보 발령, 안전에 유의하시기 바랍니다.</td>\n",
       "      <td>cbs</td>\n",
       "      <td>NaN</td>\n",
       "    </tr>\n",
       "  </tbody>\n",
       "</table>\n",
       "<p>90694 rows × 8 columns</p>\n",
       "</div>"
      ],
      "text/plain": [
       "       index                     location_id  ... send_platform area\n",
       "0          0                              10  ...           cbs  강원권\n",
       "1          1                              10  ...           cbs  강원권\n",
       "2          2                              10  ...           cbs  강원권\n",
       "3          3                              10  ...           cbs  강원권\n",
       "4          4                              10  ...           cbs  강원권\n",
       "...      ...                             ...  ...           ...  ...\n",
       "90689  90689  99,100,103,185,188,194,196,199  ...           cbs  NaN\n",
       "90690  90690          99,100,185,188,194,199  ...           cbs  NaN\n",
       "90691  90691          99,100,185,188,194,199  ...           cbs  NaN\n",
       "90692  90692      99,100,185,188,194,199,201  ...           cbs  NaN\n",
       "90693  90693      99,100,185,188,194,199,201  ...           cbs  NaN\n",
       "\n",
       "[90694 rows x 8 columns]"
      ]
     },
     "execution_count": 273,
     "metadata": {
      "tags": []
     },
     "output_type": "execute_result"
    }
   ],
   "source": [
    "msg_total = msg_total.reset_index()\n",
    "msg_total"
   ]
  },
  {
   "cell_type": "code",
   "execution_count": 309,
   "metadata": {
    "colab": {
     "base_uri": "https://localhost:8080/",
     "height": 759
    },
    "executionInfo": {
     "elapsed": 783,
     "status": "ok",
     "timestamp": 1625645343624,
     "user": {
      "displayName": "이성준",
      "photoUrl": "",
      "userId": "17660701608448574543"
     },
     "user_tz": -540
    },
    "id": "CUtNYeMbqGal",
    "outputId": "025d1cc6-1278-4520-b353-c2c81f0d0a99"
   },
   "outputs": [
    {
     "data": {
      "text/html": [
       "<div>\n",
       "<style scoped>\n",
       "    .dataframe tbody tr th:only-of-type {\n",
       "        vertical-align: middle;\n",
       "    }\n",
       "\n",
       "    .dataframe tbody tr th {\n",
       "        vertical-align: top;\n",
       "    }\n",
       "\n",
       "    .dataframe thead th {\n",
       "        text-align: right;\n",
       "    }\n",
       "</style>\n",
       "<table border=\"1\" class=\"dataframe\">\n",
       "  <thead>\n",
       "    <tr style=\"text-align: right;\">\n",
       "      <th></th>\n",
       "      <th>0</th>\n",
       "      <th>index</th>\n",
       "      <th>location_id</th>\n",
       "      <th>create_date</th>\n",
       "      <th>location_name</th>\n",
       "      <th>md101_sn</th>\n",
       "      <th>msg</th>\n",
       "      <th>send_platform</th>\n",
       "      <th>area_x</th>\n",
       "      <th>area_y</th>\n",
       "    </tr>\n",
       "  </thead>\n",
       "  <tbody>\n",
       "    <tr>\n",
       "      <th>0</th>\n",
       "      <td>104</td>\n",
       "      <td>214</td>\n",
       "      <td>104</td>\n",
       "      <td>2021-07-02 10:24:18</td>\n",
       "      <td>대구광역시 전체</td>\n",
       "      <td>110649</td>\n",
       "      <td>[대구광역시] 2일 0시 기준 확진자 9명(동구3 북구2 서구1 수성구1 달서구1 달성군1)발생. 의심시 외출 자제 및 가까운 보건소 예약 후 검사 바랍니다.</td>\n",
       "      <td>cbs</td>\n",
       "      <td>경북권</td>\n",
       "      <td>경북권</td>\n",
       "    </tr>\n",
       "    <tr>\n",
       "      <th>1</th>\n",
       "      <td>104</td>\n",
       "      <td>215</td>\n",
       "      <td>104</td>\n",
       "      <td>2021-07-01 10:29:51</td>\n",
       "      <td>대구광역시 전체</td>\n",
       "      <td>110552</td>\n",
       "      <td>[대구광역시] 1일 0시 기준 확진자 7명(북구4 달서구2 동구1) 발생. 의심시 외출 자제 및 가까운 보건소 예약 후 검사 바랍니다.</td>\n",
       "      <td>cbs</td>\n",
       "      <td>경북권</td>\n",
       "      <td>경북권</td>\n",
       "    </tr>\n",
       "    <tr>\n",
       "      <th>2</th>\n",
       "      <td>104</td>\n",
       "      <td>216</td>\n",
       "      <td>104</td>\n",
       "      <td>2021-06-30 10:18:21</td>\n",
       "      <td>대구광역시 전체</td>\n",
       "      <td>110405</td>\n",
       "      <td>[대구광역시] 30일 0시 기준 확진자 11명(달서구6 남구2 수성구2 달성군1)발생. 의심시 외출자제 및 가까운 보건소 예약 후 검사 받으시기 바랍니다.</td>\n",
       "      <td>cbs</td>\n",
       "      <td>경북권</td>\n",
       "      <td>경북권</td>\n",
       "    </tr>\n",
       "    <tr>\n",
       "      <th>3</th>\n",
       "      <td>104</td>\n",
       "      <td>217</td>\n",
       "      <td>104</td>\n",
       "      <td>2021-06-30 09:15:51</td>\n",
       "      <td>대구광역시 전체</td>\n",
       "      <td>110395</td>\n",
       "      <td>[대구광역시]이마트월배점 6/18~6/28 1층, 2층세라젬 방문자 중 유증상자는 두류공원야구장(6/30~7/2. 10시~16시)및 구군보건소에서 검사바랍니다.</td>\n",
       "      <td>cbs</td>\n",
       "      <td>경북권</td>\n",
       "      <td>경북권</td>\n",
       "    </tr>\n",
       "    <tr>\n",
       "      <th>4</th>\n",
       "      <td>104</td>\n",
       "      <td>218</td>\n",
       "      <td>104</td>\n",
       "      <td>2021-06-29 14:02:48</td>\n",
       "      <td>대구광역시 전체</td>\n",
       "      <td>110329</td>\n",
       "      <td>[대구광역시] 이마트월배점(달서구)6/18~6/28 1층 매장 또는 2층 세라젬 방문하신 분은 유증상 시 주소지 관계없이 검사가능하니 구군보건소에서 검사바랍니다.</td>\n",
       "      <td>cbs</td>\n",
       "      <td>경북권</td>\n",
       "      <td>경북권</td>\n",
       "    </tr>\n",
       "    <tr>\n",
       "      <th>...</th>\n",
       "      <td>...</td>\n",
       "      <td>...</td>\n",
       "      <td>...</td>\n",
       "      <td>...</td>\n",
       "      <td>...</td>\n",
       "      <td>...</td>\n",
       "      <td>...</td>\n",
       "      <td>...</td>\n",
       "      <td>...</td>\n",
       "      <td>...</td>\n",
       "    </tr>\n",
       "    <tr>\n",
       "      <th>117798</th>\n",
       "      <td>103</td>\n",
       "      <td>209</td>\n",
       "      <td>103</td>\n",
       "      <td>2020-08-08 00:12:27</td>\n",
       "      <td>광주광역시 서구</td>\n",
       "      <td>42895</td>\n",
       "      <td>[서구청] 양동 태평교(양동복개앞) 범람우려가 있으니 양동시장과 복개상가 및 인근상인과 주민들은 즉시 안전한 곳으로 대피하시기 바랍니다.</td>\n",
       "      <td>cbs</td>\n",
       "      <td>호남권</td>\n",
       "      <td>호남권</td>\n",
       "    </tr>\n",
       "    <tr>\n",
       "      <th>117799</th>\n",
       "      <td>103</td>\n",
       "      <td>210</td>\n",
       "      <td>103</td>\n",
       "      <td>2020-08-07 18:01:46</td>\n",
       "      <td>광주광역시 서구</td>\n",
       "      <td>42788</td>\n",
       "      <td>[서구청]양동 태평교(양동복개앞) 범람우려가 있으니 양동시장, 복개상가 및 인근상인들은 영업종료후 신속히 대피하여 주시고 안전에 유의하시기 바랍니다.</td>\n",
       "      <td>cbs</td>\n",
       "      <td>호남권</td>\n",
       "      <td>호남권</td>\n",
       "    </tr>\n",
       "    <tr>\n",
       "      <th>117800</th>\n",
       "      <td>103</td>\n",
       "      <td>211</td>\n",
       "      <td>103</td>\n",
       "      <td>2020-08-07 14:57:48</td>\n",
       "      <td>광주광역시 서구</td>\n",
       "      <td>42723</td>\n",
       "      <td>[서구청] 현재 집중호우로 양동 태평교(KDB빌딩 앞)범람 우려있으니 통행자 및 인근 운행차량은 대피, 우회하시기 바랍니다.</td>\n",
       "      <td>cbs</td>\n",
       "      <td>호남권</td>\n",
       "      <td>호남권</td>\n",
       "    </tr>\n",
       "    <tr>\n",
       "      <th>117801</th>\n",
       "      <td>103</td>\n",
       "      <td>212</td>\n",
       "      <td>103</td>\n",
       "      <td>2020-06-28 07:59:47</td>\n",
       "      <td>광주광역시 서구</td>\n",
       "      <td>38866</td>\n",
       "      <td>[서구청] 광주37확진자 관련 6.24 10:30~11:30/ 6.27 9시~10시 수궁탕(화정동) 이용한 분은 외출자제, 보건소(350-4158)에 연락바랍니다</td>\n",
       "      <td>cbs</td>\n",
       "      <td>호남권</td>\n",
       "      <td>호남권</td>\n",
       "    </tr>\n",
       "    <tr>\n",
       "      <th>117802</th>\n",
       "      <td>103</td>\n",
       "      <td>213</td>\n",
       "      <td>103</td>\n",
       "      <td>2020-01-31 13:23:36</td>\n",
       "      <td>광주광역시 서구</td>\n",
       "      <td>25114</td>\n",
       "      <td>[서구청]신종코로나바이러스 예방수칙(손씻기, 마스크착용)준수, 중국 등 방문후 발열·호흡기증상 발생시 1339 또는 서구 보건소(350-4158)로 문의바랍니다.</td>\n",
       "      <td>cbs</td>\n",
       "      <td>호남권</td>\n",
       "      <td>호남권</td>\n",
       "    </tr>\n",
       "  </tbody>\n",
       "</table>\n",
       "<p>89595 rows × 10 columns</p>\n",
       "</div>"
      ],
      "text/plain": [
       "          0  index location_id  ... send_platform area_x  area_y\n",
       "0       104    214         104  ...           cbs    경북권     경북권\n",
       "1       104    215         104  ...           cbs    경북권     경북권\n",
       "2       104    216         104  ...           cbs    경북권     경북권\n",
       "3       104    217         104  ...           cbs    경북권     경북권\n",
       "4       104    218         104  ...           cbs    경북권     경북권\n",
       "...     ...    ...         ...  ...           ...    ...     ...\n",
       "117798  103    209         103  ...           cbs    호남권     호남권\n",
       "117799  103    210         103  ...           cbs    호남권     호남권\n",
       "117800  103    211         103  ...           cbs    호남권     호남권\n",
       "117801  103    212         103  ...           cbs    호남권     호남권\n",
       "117802  103    213         103  ...           cbs    호남권     호남권\n",
       "\n",
       "[89595 rows x 10 columns]"
      ]
     },
     "execution_count": 309,
     "metadata": {
      "tags": []
     },
     "output_type": "execute_result"
    }
   ],
   "source": [
    "temp_3 = temp_2.merge(msg_total, left_on=\"index\", right_on=\"index\").sort_values(\"create_date\", ascending=False).merge(l_id, left_on=\"location_id\", right_on=\"location_id\").reset_index(drop=True)\n",
    "temp_3.drop_duplicates()"
   ]
  },
  {
   "cell_type": "code",
   "execution_count": 317,
   "metadata": {
    "colab": {
     "base_uri": "https://localhost:8080/",
     "height": 450
    },
    "executionInfo": {
     "elapsed": 278,
     "status": "ok",
     "timestamp": 1625645643949,
     "user": {
      "displayName": "이성준",
      "photoUrl": "",
      "userId": "17660701608448574543"
     },
     "user_tz": -540
    },
    "id": "1DBaPN1RBGx9",
    "outputId": "d49ff069-0d1c-4318-cda8-e6a705885a6c"
   },
   "outputs": [
    {
     "data": {
      "text/html": [
       "<div>\n",
       "<style scoped>\n",
       "    .dataframe tbody tr th:only-of-type {\n",
       "        vertical-align: middle;\n",
       "    }\n",
       "\n",
       "    .dataframe tbody tr th {\n",
       "        vertical-align: top;\n",
       "    }\n",
       "\n",
       "    .dataframe thead th {\n",
       "        text-align: right;\n",
       "    }\n",
       "</style>\n",
       "<table border=\"1\" class=\"dataframe\">\n",
       "  <thead>\n",
       "    <tr style=\"text-align: right;\">\n",
       "      <th></th>\n",
       "      <th></th>\n",
       "      <th>0</th>\n",
       "    </tr>\n",
       "    <tr>\n",
       "      <th>create_date</th>\n",
       "      <th>area_x</th>\n",
       "      <th></th>\n",
       "    </tr>\n",
       "  </thead>\n",
       "  <tbody>\n",
       "    <tr>\n",
       "      <th rowspan=\"2\" valign=\"top\">2020-01-23</th>\n",
       "      <th>경북권</th>\n",
       "      <td>1</td>\n",
       "    </tr>\n",
       "    <tr>\n",
       "      <th>수도권</th>\n",
       "      <td>1</td>\n",
       "    </tr>\n",
       "    <tr>\n",
       "      <th rowspan=\"3\" valign=\"top\">2020-01-24</th>\n",
       "      <th>강원권</th>\n",
       "      <td>1</td>\n",
       "    </tr>\n",
       "    <tr>\n",
       "      <th>경남권</th>\n",
       "      <td>2</td>\n",
       "    </tr>\n",
       "    <tr>\n",
       "      <th>경북권</th>\n",
       "      <td>1</td>\n",
       "    </tr>\n",
       "    <tr>\n",
       "      <th>...</th>\n",
       "      <th>...</th>\n",
       "      <td>...</td>\n",
       "    </tr>\n",
       "    <tr>\n",
       "      <th rowspan=\"5\" valign=\"top\">2021-07-02</th>\n",
       "      <th>경남권</th>\n",
       "      <td>39</td>\n",
       "    </tr>\n",
       "    <tr>\n",
       "      <th>경북권</th>\n",
       "      <td>2</td>\n",
       "    </tr>\n",
       "    <tr>\n",
       "      <th>수도권</th>\n",
       "      <td>5</td>\n",
       "    </tr>\n",
       "    <tr>\n",
       "      <th>충청권</th>\n",
       "      <td>5</td>\n",
       "    </tr>\n",
       "    <tr>\n",
       "      <th>호남권</th>\n",
       "      <td>6</td>\n",
       "    </tr>\n",
       "  </tbody>\n",
       "</table>\n",
       "<p>3346 rows × 1 columns</p>\n",
       "</div>"
      ],
      "text/plain": [
       "                     0\n",
       "create_date area_x    \n",
       "2020-01-23  경북권      1\n",
       "            수도권      1\n",
       "2020-01-24  강원권      1\n",
       "            경남권      2\n",
       "            경북권      1\n",
       "...                 ..\n",
       "2021-07-02  경남권     39\n",
       "            경북권      2\n",
       "            수도권      5\n",
       "            충청권      5\n",
       "            호남권      6\n",
       "\n",
       "[3346 rows x 1 columns]"
      ]
     },
     "execution_count": 317,
     "metadata": {
      "tags": []
     },
     "output_type": "execute_result"
    }
   ],
   "source": [
    "pd.DataFrame(temp_3.groupby([temp_3.create_date.dt.date, \"area_x\"]).size())"
   ]
  },
  {
   "cell_type": "code",
   "execution_count": 329,
   "metadata": {
    "colab": {
     "base_uri": "https://localhost:8080/",
     "height": 450
    },
    "executionInfo": {
     "elapsed": 279,
     "status": "ok",
     "timestamp": 1625645963662,
     "user": {
      "displayName": "이성준",
      "photoUrl": "",
      "userId": "17660701608448574543"
     },
     "user_tz": -540
    },
    "id": "Ae6ebabGCJOI",
    "outputId": "da25a3fa-d641-4e00-9f14-cd9af076b7c9"
   },
   "outputs": [
    {
     "data": {
      "text/html": [
       "<div>\n",
       "<style scoped>\n",
       "    .dataframe tbody tr th:only-of-type {\n",
       "        vertical-align: middle;\n",
       "    }\n",
       "\n",
       "    .dataframe tbody tr th {\n",
       "        vertical-align: top;\n",
       "    }\n",
       "\n",
       "    .dataframe thead th {\n",
       "        text-align: right;\n",
       "    }\n",
       "</style>\n",
       "<table border=\"1\" class=\"dataframe\">\n",
       "  <thead>\n",
       "    <tr style=\"text-align: right;\">\n",
       "      <th></th>\n",
       "      <th></th>\n",
       "      <th>0</th>\n",
       "    </tr>\n",
       "    <tr>\n",
       "      <th>area_x</th>\n",
       "      <th>create_date</th>\n",
       "      <th></th>\n",
       "    </tr>\n",
       "  </thead>\n",
       "  <tbody>\n",
       "    <tr>\n",
       "      <th rowspan=\"5\" valign=\"top\">강원권</th>\n",
       "      <th>2020-01-24</th>\n",
       "      <td>1</td>\n",
       "    </tr>\n",
       "    <tr>\n",
       "      <th>2020-01-30</th>\n",
       "      <td>1</td>\n",
       "    </tr>\n",
       "    <tr>\n",
       "      <th>2020-01-31</th>\n",
       "      <td>1</td>\n",
       "    </tr>\n",
       "    <tr>\n",
       "      <th>2020-02-01</th>\n",
       "      <td>1</td>\n",
       "    </tr>\n",
       "    <tr>\n",
       "      <th>2020-02-02</th>\n",
       "      <td>5</td>\n",
       "    </tr>\n",
       "    <tr>\n",
       "      <th>...</th>\n",
       "      <th>...</th>\n",
       "      <td>...</td>\n",
       "    </tr>\n",
       "    <tr>\n",
       "      <th rowspan=\"5\" valign=\"top\">호남권</th>\n",
       "      <th>2021-06-28</th>\n",
       "      <td>17</td>\n",
       "    </tr>\n",
       "    <tr>\n",
       "      <th>2021-06-29</th>\n",
       "      <td>19</td>\n",
       "    </tr>\n",
       "    <tr>\n",
       "      <th>2021-06-30</th>\n",
       "      <td>18</td>\n",
       "    </tr>\n",
       "    <tr>\n",
       "      <th>2021-07-01</th>\n",
       "      <td>16</td>\n",
       "    </tr>\n",
       "    <tr>\n",
       "      <th>2021-07-02</th>\n",
       "      <td>6</td>\n",
       "    </tr>\n",
       "  </tbody>\n",
       "</table>\n",
       "<p>3346 rows × 1 columns</p>\n",
       "</div>"
      ],
      "text/plain": [
       "                     0\n",
       "area_x create_date    \n",
       "강원권    2020-01-24    1\n",
       "       2020-01-30    1\n",
       "       2020-01-31    1\n",
       "       2020-02-01    1\n",
       "       2020-02-02    5\n",
       "...                 ..\n",
       "호남권    2021-06-28   17\n",
       "       2021-06-29   19\n",
       "       2021-06-30   18\n",
       "       2021-07-01   16\n",
       "       2021-07-02    6\n",
       "\n",
       "[3346 rows x 1 columns]"
      ]
     },
     "execution_count": 329,
     "metadata": {
      "tags": []
     },
     "output_type": "execute_result"
    }
   ],
   "source": [
    "pd.DataFrame(temp_3.groupby([\"area_x\", temp_3.create_date.dt.date]).size())"
   ]
  },
  {
   "cell_type": "code",
   "execution_count": 330,
   "metadata": {
    "colab": {
     "base_uri": "https://localhost:8080/",
     "height": 450
    },
    "executionInfo": {
     "elapsed": 272,
     "status": "ok",
     "timestamp": 1625645966443,
     "user": {
      "displayName": "이성준",
      "photoUrl": "",
      "userId": "17660701608448574543"
     },
     "user_tz": -540
    },
    "id": "r1F-oLqxDNnZ",
    "outputId": "4ee0bd02-a4e0-4dfb-8093-d4ea41c3ffc8"
   },
   "outputs": [
    {
     "data": {
      "text/html": [
       "<div>\n",
       "<style scoped>\n",
       "    .dataframe tbody tr th:only-of-type {\n",
       "        vertical-align: middle;\n",
       "    }\n",
       "\n",
       "    .dataframe tbody tr th {\n",
       "        vertical-align: top;\n",
       "    }\n",
       "\n",
       "    .dataframe thead th {\n",
       "        text-align: right;\n",
       "    }\n",
       "</style>\n",
       "<table border=\"1\" class=\"dataframe\">\n",
       "  <thead>\n",
       "    <tr style=\"text-align: right;\">\n",
       "      <th></th>\n",
       "      <th>0</th>\n",
       "    </tr>\n",
       "    <tr>\n",
       "      <th>create_date</th>\n",
       "      <th></th>\n",
       "    </tr>\n",
       "  </thead>\n",
       "  <tbody>\n",
       "    <tr>\n",
       "      <th>2020-01-24</th>\n",
       "      <td>3</td>\n",
       "    </tr>\n",
       "    <tr>\n",
       "      <th>2020-01-25</th>\n",
       "      <td>2</td>\n",
       "    </tr>\n",
       "    <tr>\n",
       "      <th>2020-01-26</th>\n",
       "      <td>2</td>\n",
       "    </tr>\n",
       "    <tr>\n",
       "      <th>2020-01-27</th>\n",
       "      <td>3</td>\n",
       "    </tr>\n",
       "    <tr>\n",
       "      <th>2020-01-29</th>\n",
       "      <td>5</td>\n",
       "    </tr>\n",
       "    <tr>\n",
       "      <th>...</th>\n",
       "      <td>...</td>\n",
       "    </tr>\n",
       "    <tr>\n",
       "      <th>2021-06-28</th>\n",
       "      <td>17</td>\n",
       "    </tr>\n",
       "    <tr>\n",
       "      <th>2021-06-29</th>\n",
       "      <td>19</td>\n",
       "    </tr>\n",
       "    <tr>\n",
       "      <th>2021-06-30</th>\n",
       "      <td>18</td>\n",
       "    </tr>\n",
       "    <tr>\n",
       "      <th>2021-07-01</th>\n",
       "      <td>16</td>\n",
       "    </tr>\n",
       "    <tr>\n",
       "      <th>2021-07-02</th>\n",
       "      <td>6</td>\n",
       "    </tr>\n",
       "  </tbody>\n",
       "</table>\n",
       "<p>522 rows × 1 columns</p>\n",
       "</div>"
      ],
      "text/plain": [
       "              0\n",
       "create_date    \n",
       "2020-01-24    3\n",
       "2020-01-25    2\n",
       "2020-01-26    2\n",
       "2020-01-27    3\n",
       "2020-01-29    5\n",
       "...          ..\n",
       "2021-06-28   17\n",
       "2021-06-29   19\n",
       "2021-06-30   18\n",
       "2021-07-01   16\n",
       "2021-07-02    6\n",
       "\n",
       "[522 rows x 1 columns]"
      ]
     },
     "execution_count": 330,
     "metadata": {
      "tags": []
     },
     "output_type": "execute_result"
    }
   ],
   "source": [
    "pd.DataFrame(temp_3.groupby([\"area_x\", temp_3.create_date.dt.date]).size()).loc[\"호남권\", :]"
   ]
  },
  {
   "cell_type": "code",
   "execution_count": 326,
   "metadata": {
    "colab": {
     "base_uri": "https://localhost:8080/",
     "height": 450
    },
    "executionInfo": {
     "elapsed": 255,
     "status": "ok",
     "timestamp": 1625645879903,
     "user": {
      "displayName": "이성준",
      "photoUrl": "",
      "userId": "17660701608448574543"
     },
     "user_tz": -540
    },
    "id": "AN8A-SE8CjpF",
    "outputId": "7b463781-db44-4b58-de65-244c017d15c8"
   },
   "outputs": [
    {
     "data": {
      "text/html": [
       "<div>\n",
       "<style scoped>\n",
       "    .dataframe tbody tr th:only-of-type {\n",
       "        vertical-align: middle;\n",
       "    }\n",
       "\n",
       "    .dataframe tbody tr th {\n",
       "        vertical-align: top;\n",
       "    }\n",
       "\n",
       "    .dataframe thead th {\n",
       "        text-align: right;\n",
       "    }\n",
       "</style>\n",
       "<table border=\"1\" class=\"dataframe\">\n",
       "  <thead>\n",
       "    <tr style=\"text-align: right;\">\n",
       "      <th></th>\n",
       "      <th>0</th>\n",
       "    </tr>\n",
       "    <tr>\n",
       "      <th>create_date</th>\n",
       "      <th></th>\n",
       "    </tr>\n",
       "  </thead>\n",
       "  <tbody>\n",
       "    <tr>\n",
       "      <th>2020-01-24</th>\n",
       "      <td>3</td>\n",
       "    </tr>\n",
       "    <tr>\n",
       "      <th>2020-01-25</th>\n",
       "      <td>2</td>\n",
       "    </tr>\n",
       "    <tr>\n",
       "      <th>2020-01-26</th>\n",
       "      <td>2</td>\n",
       "    </tr>\n",
       "    <tr>\n",
       "      <th>2020-01-27</th>\n",
       "      <td>3</td>\n",
       "    </tr>\n",
       "    <tr>\n",
       "      <th>2020-01-29</th>\n",
       "      <td>5</td>\n",
       "    </tr>\n",
       "    <tr>\n",
       "      <th>...</th>\n",
       "      <td>...</td>\n",
       "    </tr>\n",
       "    <tr>\n",
       "      <th>2021-06-28</th>\n",
       "      <td>17</td>\n",
       "    </tr>\n",
       "    <tr>\n",
       "      <th>2021-06-29</th>\n",
       "      <td>19</td>\n",
       "    </tr>\n",
       "    <tr>\n",
       "      <th>2021-06-30</th>\n",
       "      <td>18</td>\n",
       "    </tr>\n",
       "    <tr>\n",
       "      <th>2021-07-01</th>\n",
       "      <td>16</td>\n",
       "    </tr>\n",
       "    <tr>\n",
       "      <th>2021-07-02</th>\n",
       "      <td>6</td>\n",
       "    </tr>\n",
       "  </tbody>\n",
       "</table>\n",
       "<p>522 rows × 1 columns</p>\n",
       "</div>"
      ],
      "text/plain": [
       "              0\n",
       "create_date    \n",
       "2020-01-24    3\n",
       "2020-01-25    2\n",
       "2020-01-26    2\n",
       "2020-01-27    3\n",
       "2020-01-29    5\n",
       "...          ..\n",
       "2021-06-28   17\n",
       "2021-06-29   19\n",
       "2021-06-30   18\n",
       "2021-07-01   16\n",
       "2021-07-02    6\n",
       "\n",
       "[522 rows x 1 columns]"
      ]
     },
     "execution_count": 326,
     "metadata": {
      "tags": []
     },
     "output_type": "execute_result"
    }
   ],
   "source": [
    "honam = temp_3[temp_3[\"area_x\"] == \"호남권\"]\n",
    "honam = honam.groupby(honam.create_date.dt.date).size()\n",
    "pd.DataFrame(honam)"
   ]
  },
  {
   "cell_type": "code",
   "execution_count": null,
   "metadata": {
    "colab": {
     "base_uri": "https://localhost:8080/"
    },
    "executionInfo": {
     "elapsed": 228,
     "status": "ok",
     "timestamp": 1625632676332,
     "user": {
      "displayName": "이성준",
      "photoUrl": "",
      "userId": "17660701608448574543"
     },
     "user_tz": -540
    },
    "id": "lgICov6_LzJc",
    "outputId": "f9a02a13-1c99-4d44-c6d2-22bef1106d52"
   },
   "outputs": [
    {
     "data": {
      "text/plain": [
       "location_id\n",
       "10                                                                                          164\n",
       "10,11,12,13,15,17,18,19,20,21,81,82,85,88,90,92,136,168,239,240,244,245,246,248,249,6406      1\n",
       "10,11,17,20                                                                                   1\n",
       "10,13,16,244,245,248,249                                                                      1\n",
       "10,13,17,20                                                                                   1\n",
       "                                                                                           ... \n",
       "99                                                                                           17\n",
       "99,100,102,103,185,186,188,194,196,199                                                        2\n",
       "99,100,103,185,188,194,196,199                                                                4\n",
       "99,100,185,188,194,199                                                                        2\n",
       "99,100,185,188,194,199,201                                                                    2\n",
       "Length: 689, dtype: int64"
      ]
     },
     "execution_count": 73,
     "metadata": {
      "tags": []
     },
     "output_type": "execute_result"
    }
   ],
   "source": [
    "msg_total.groupby(\"location_id\").size()"
   ]
  },
  {
   "cell_type": "markdown",
   "metadata": {
    "id": "nSh65JTw8sT9"
   },
   "source": [
    "## 코로나19 검사를 장려하는 재난문자 찾기"
   ]
  },
  {
   "cell_type": "markdown",
   "metadata": {
    "id": "_aQDtapU-RFb"
   },
   "source": [
    "### 키워드를 활용한 문자 필터링"
   ]
  },
  {
   "cell_type": "code",
   "execution_count": null,
   "metadata": {
    "id": "p3OVt6Z2a1aq"
   },
   "outputs": [],
   "source": [
    "test_encouragement = msg_total[msg_total[\"msg\"].str.contains(\"선별진료소\") |\\\n",
    "                               msg_total[\"msg\"].str.contains(\"무기명\") |\\\n",
    "                               msg_total[\"msg\"].str.contains(\"증상\") |\\\n",
    "                               msg_total[\"msg\"].str.contains(\"발현\") |\\\n",
    "                               msg_total[\"msg\"].str.contains(\"의심\") |\\\n",
    "                               msg_total[\"msg\"].str.contains(\"가까운\") |\\\n",
    "                               msg_total[\"msg\"].str.contains(\"발열\") |\\\n",
    "                               msg_total[\"msg\"].str.contains(\"오한\") |\\\n",
    "                               msg_total[\"msg\"].str.contains(\"기침\") |\\\n",
    "                               msg_total[\"msg\"].str.contains(\"두통\") |\\\n",
    "                               msg_total[\"msg\"].str.contains(\"구토\") |\\\n",
    "                               msg_total[\"msg\"].str.contains(\"설사\") |\\\n",
    "                               msg_total[\"msg\"].str.contains(\"1339\")\n",
    "                              ]"
   ]
  },
  {
   "cell_type": "markdown",
   "metadata": {
    "id": "30t_YguF-UPk"
   },
   "source": [
    "### 실질적으로 필요한 날짜 데이터만 가져오기 (나머지 drop)"
   ]
  },
  {
   "cell_type": "code",
   "execution_count": null,
   "metadata": {
    "id": "JS2AgFrOowJw"
   },
   "outputs": [],
   "source": [
    "plz_be_tested = test_encouragement.drop([\"location_id\", \"location_name\", \"md101_sn\", \"msg\", \"send_platform\"], axis=1)"
   ]
  },
  {
   "cell_type": "markdown",
   "metadata": {
    "id": "bcdc28fP-fN3"
   },
   "source": [
    "### 필터링된 데이터의 인덱스 초기화"
   ]
  },
  {
   "cell_type": "code",
   "execution_count": null,
   "metadata": {
    "id": "05baxLpZpUtw"
   },
   "outputs": [],
   "source": [
    "plz_be_tested = plz_be_tested.reset_index(drop=True)"
   ]
  },
  {
   "cell_type": "code",
   "execution_count": null,
   "metadata": {
    "colab": {
     "base_uri": "https://localhost:8080/",
     "height": 417
    },
    "executionInfo": {
     "elapsed": 16,
     "status": "ok",
     "timestamp": 1625625621396,
     "user": {
      "displayName": "이성준",
      "photoUrl": "",
      "userId": "17660701608448574543"
     },
     "user_tz": -540
    },
    "id": "4QTx1BwDpetQ",
    "outputId": "86822731-943b-4800-92a1-dc6f1c551009"
   },
   "outputs": [
    {
     "data": {
      "text/html": [
       "<div>\n",
       "<style scoped>\n",
       "    .dataframe tbody tr th:only-of-type {\n",
       "        vertical-align: middle;\n",
       "    }\n",
       "\n",
       "    .dataframe tbody tr th {\n",
       "        vertical-align: top;\n",
       "    }\n",
       "\n",
       "    .dataframe thead th {\n",
       "        text-align: right;\n",
       "    }\n",
       "</style>\n",
       "<table border=\"1\" class=\"dataframe\">\n",
       "  <thead>\n",
       "    <tr style=\"text-align: right;\">\n",
       "      <th></th>\n",
       "      <th>create_date</th>\n",
       "    </tr>\n",
       "  </thead>\n",
       "  <tbody>\n",
       "    <tr>\n",
       "      <th>0</th>\n",
       "      <td>2021-07-02 10:24:18</td>\n",
       "    </tr>\n",
       "    <tr>\n",
       "      <th>1</th>\n",
       "      <td>2021-07-02 10:00:07</td>\n",
       "    </tr>\n",
       "    <tr>\n",
       "      <th>2</th>\n",
       "      <td>2021-07-02 09:08:28</td>\n",
       "    </tr>\n",
       "    <tr>\n",
       "      <th>3</th>\n",
       "      <td>2021-07-02 08:13:54</td>\n",
       "    </tr>\n",
       "    <tr>\n",
       "      <th>4</th>\n",
       "      <td>2021-07-01 18:11:24</td>\n",
       "    </tr>\n",
       "    <tr>\n",
       "      <th>...</th>\n",
       "      <td>...</td>\n",
       "    </tr>\n",
       "    <tr>\n",
       "      <th>13999</th>\n",
       "      <td>2020-01-24 11:37:52</td>\n",
       "    </tr>\n",
       "    <tr>\n",
       "      <th>14000</th>\n",
       "      <td>2020-01-24 11:00:13</td>\n",
       "    </tr>\n",
       "    <tr>\n",
       "      <th>14001</th>\n",
       "      <td>2020-01-24 11:00:05</td>\n",
       "    </tr>\n",
       "    <tr>\n",
       "      <th>14002</th>\n",
       "      <td>2020-01-23 17:00:37</td>\n",
       "    </tr>\n",
       "    <tr>\n",
       "      <th>14003</th>\n",
       "      <td>2020-01-23 15:08:34</td>\n",
       "    </tr>\n",
       "  </tbody>\n",
       "</table>\n",
       "<p>14004 rows × 1 columns</p>\n",
       "</div>"
      ],
      "text/plain": [
       "              create_date\n",
       "0     2021-07-02 10:24:18\n",
       "1     2021-07-02 10:00:07\n",
       "2     2021-07-02 09:08:28\n",
       "3     2021-07-02 08:13:54\n",
       "4     2021-07-01 18:11:24\n",
       "...                   ...\n",
       "13999 2020-01-24 11:37:52\n",
       "14000 2020-01-24 11:00:13\n",
       "14001 2020-01-24 11:00:05\n",
       "14002 2020-01-23 17:00:37\n",
       "14003 2020-01-23 15:08:34\n",
       "\n",
       "[14004 rows x 1 columns]"
      ]
     },
     "execution_count": 14,
     "metadata": {
      "tags": []
     },
     "output_type": "execute_result"
    }
   ],
   "source": [
    "plz_be_tested"
   ]
  },
  {
   "cell_type": "markdown",
   "metadata": {
    "id": "vPv4nt67sJ-b"
   },
   "source": [
    "## 일일 발송량 처리"
   ]
  },
  {
   "cell_type": "markdown",
   "metadata": {
    "id": "ylY8hcSZ_kos"
   },
   "source": [
    "### 찾은 데이터에서 일일 발송량 계산하기"
   ]
  },
  {
   "cell_type": "code",
   "execution_count": null,
   "metadata": {
    "colab": {
     "base_uri": "https://localhost:8080/"
    },
    "executionInfo": {
     "elapsed": 14,
     "status": "ok",
     "timestamp": 1625625621396,
     "user": {
      "displayName": "이성준",
      "photoUrl": "",
      "userId": "17660701608448574543"
     },
     "user_tz": -540
    },
    "id": "HO1sBS3dpVc9",
    "outputId": "3ed0aeb9-8b78-43ec-a8a9-00a650e6db8e"
   },
   "outputs": [
    {
     "name": "stdout",
     "output_type": "stream",
     "text": [
      "<class 'pandas.core.frame.DataFrame'>\n",
      "RangeIndex: 526 entries, 0 to 525\n",
      "Data columns (total 2 columns):\n",
      " #   Column       Non-Null Count  Dtype         \n",
      "---  ------       --------------  -----         \n",
      " 0   create_date  526 non-null    datetime64[ns]\n",
      " 1   amount       526 non-null    int64         \n",
      "dtypes: datetime64[ns](1), int64(1)\n",
      "memory usage: 8.3 KB\n"
     ]
    }
   ],
   "source": [
    "# 일일 발송량 카운트 하기\n",
    "msg_sent = plz_be_tested.groupby(plz_be_tested[\"create_date\"].dt.date).count()\n",
    "# column 이름을 amount로 바꿔주기\n",
    "msg_sent.columns = [\"amount\"]\n",
    "# index 초기화 시키기 > 기존 인덱스가 create_date column으로 추가됨\n",
    "msg_sent.reset_index(inplace=True)\n",
    "# create_date column의 dtype을 object에서 datetime로 변환하기\n",
    "msg_sent[\"create_date\"] = pd.to_datetime(msg_sent[\"create_date\"])\n",
    "msg_sent.info()"
   ]
  },
  {
   "cell_type": "code",
   "execution_count": null,
   "metadata": {
    "colab": {
     "base_uri": "https://localhost:8080/",
     "height": 417
    },
    "executionInfo": {
     "elapsed": 11,
     "status": "ok",
     "timestamp": 1625625621396,
     "user": {
      "displayName": "이성준",
      "photoUrl": "",
      "userId": "17660701608448574543"
     },
     "user_tz": -540
    },
    "id": "egr8STkcF1Iv",
    "outputId": "3d64e5c4-8278-49fa-84d4-482345f50783"
   },
   "outputs": [
    {
     "data": {
      "text/html": [
       "<div>\n",
       "<style scoped>\n",
       "    .dataframe tbody tr th:only-of-type {\n",
       "        vertical-align: middle;\n",
       "    }\n",
       "\n",
       "    .dataframe tbody tr th {\n",
       "        vertical-align: top;\n",
       "    }\n",
       "\n",
       "    .dataframe thead th {\n",
       "        text-align: right;\n",
       "    }\n",
       "</style>\n",
       "<table border=\"1\" class=\"dataframe\">\n",
       "  <thead>\n",
       "    <tr style=\"text-align: right;\">\n",
       "      <th></th>\n",
       "      <th>create_date</th>\n",
       "      <th>amount</th>\n",
       "    </tr>\n",
       "  </thead>\n",
       "  <tbody>\n",
       "    <tr>\n",
       "      <th>0</th>\n",
       "      <td>2020-01-23</td>\n",
       "      <td>2</td>\n",
       "    </tr>\n",
       "    <tr>\n",
       "      <th>1</th>\n",
       "      <td>2020-01-24</td>\n",
       "      <td>14</td>\n",
       "    </tr>\n",
       "    <tr>\n",
       "      <th>2</th>\n",
       "      <td>2020-01-25</td>\n",
       "      <td>4</td>\n",
       "    </tr>\n",
       "    <tr>\n",
       "      <th>3</th>\n",
       "      <td>2020-01-26</td>\n",
       "      <td>3</td>\n",
       "    </tr>\n",
       "    <tr>\n",
       "      <th>4</th>\n",
       "      <td>2020-01-27</td>\n",
       "      <td>9</td>\n",
       "    </tr>\n",
       "    <tr>\n",
       "      <th>...</th>\n",
       "      <td>...</td>\n",
       "      <td>...</td>\n",
       "    </tr>\n",
       "    <tr>\n",
       "      <th>521</th>\n",
       "      <td>2021-06-28</td>\n",
       "      <td>25</td>\n",
       "    </tr>\n",
       "    <tr>\n",
       "      <th>522</th>\n",
       "      <td>2021-06-29</td>\n",
       "      <td>35</td>\n",
       "    </tr>\n",
       "    <tr>\n",
       "      <th>523</th>\n",
       "      <td>2021-06-30</td>\n",
       "      <td>33</td>\n",
       "    </tr>\n",
       "    <tr>\n",
       "      <th>524</th>\n",
       "      <td>2021-07-01</td>\n",
       "      <td>26</td>\n",
       "    </tr>\n",
       "    <tr>\n",
       "      <th>525</th>\n",
       "      <td>2021-07-02</td>\n",
       "      <td>4</td>\n",
       "    </tr>\n",
       "  </tbody>\n",
       "</table>\n",
       "<p>526 rows × 2 columns</p>\n",
       "</div>"
      ],
      "text/plain": [
       "    create_date  amount\n",
       "0    2020-01-23       2\n",
       "1    2020-01-24      14\n",
       "2    2020-01-25       4\n",
       "3    2020-01-26       3\n",
       "4    2020-01-27       9\n",
       "..          ...     ...\n",
       "521  2021-06-28      25\n",
       "522  2021-06-29      35\n",
       "523  2021-06-30      33\n",
       "524  2021-07-01      26\n",
       "525  2021-07-02       4\n",
       "\n",
       "[526 rows x 2 columns]"
      ]
     },
     "execution_count": 16,
     "metadata": {
      "tags": []
     },
     "output_type": "execute_result"
    }
   ],
   "source": [
    "msg_sent"
   ]
  },
  {
   "cell_type": "markdown",
   "metadata": {
    "id": "cPKyE2iCr3jQ"
   },
   "source": [
    "### 일일 발송량 평활화(smoothing) 하기 (1주일 기준)\n",
    "[방법](https://pandas.pydata.org/docs/reference/api/pandas.DataFrame.rolling.html)"
   ]
  },
  {
   "cell_type": "code",
   "execution_count": null,
   "metadata": {
    "colab": {
     "base_uri": "https://localhost:8080/",
     "height": 447
    },
    "executionInfo": {
     "elapsed": 10,
     "status": "ok",
     "timestamp": 1625625621396,
     "user": {
      "displayName": "이성준",
      "photoUrl": "",
      "userId": "17660701608448574543"
     },
     "user_tz": -540
    },
    "id": "yRkwhNO3sDJW",
    "outputId": "dd0440ba-ad60-4cf3-d50d-d9d566d351cc"
   },
   "outputs": [
    {
     "data": {
      "text/html": [
       "<div>\n",
       "<style scoped>\n",
       "    .dataframe tbody tr th:only-of-type {\n",
       "        vertical-align: middle;\n",
       "    }\n",
       "\n",
       "    .dataframe tbody tr th {\n",
       "        vertical-align: top;\n",
       "    }\n",
       "\n",
       "    .dataframe thead th {\n",
       "        text-align: right;\n",
       "    }\n",
       "</style>\n",
       "<table border=\"1\" class=\"dataframe\">\n",
       "  <thead>\n",
       "    <tr style=\"text-align: right;\">\n",
       "      <th></th>\n",
       "      <th>amount</th>\n",
       "    </tr>\n",
       "    <tr>\n",
       "      <th>create_date</th>\n",
       "      <th></th>\n",
       "    </tr>\n",
       "  </thead>\n",
       "  <tbody>\n",
       "    <tr>\n",
       "      <th>2020-01-23</th>\n",
       "      <td>2.000000</td>\n",
       "    </tr>\n",
       "    <tr>\n",
       "      <th>2020-01-24</th>\n",
       "      <td>8.000000</td>\n",
       "    </tr>\n",
       "    <tr>\n",
       "      <th>2020-01-25</th>\n",
       "      <td>6.666667</td>\n",
       "    </tr>\n",
       "    <tr>\n",
       "      <th>2020-01-26</th>\n",
       "      <td>5.750000</td>\n",
       "    </tr>\n",
       "    <tr>\n",
       "      <th>2020-01-27</th>\n",
       "      <td>6.400000</td>\n",
       "    </tr>\n",
       "    <tr>\n",
       "      <th>...</th>\n",
       "      <td>...</td>\n",
       "    </tr>\n",
       "    <tr>\n",
       "      <th>2021-06-28</th>\n",
       "      <td>21.142857</td>\n",
       "    </tr>\n",
       "    <tr>\n",
       "      <th>2021-06-29</th>\n",
       "      <td>23.857143</td>\n",
       "    </tr>\n",
       "    <tr>\n",
       "      <th>2021-06-30</th>\n",
       "      <td>25.428571</td>\n",
       "    </tr>\n",
       "    <tr>\n",
       "      <th>2021-07-01</th>\n",
       "      <td>25.285714</td>\n",
       "    </tr>\n",
       "    <tr>\n",
       "      <th>2021-07-02</th>\n",
       "      <td>23.000000</td>\n",
       "    </tr>\n",
       "  </tbody>\n",
       "</table>\n",
       "<p>526 rows × 1 columns</p>\n",
       "</div>"
      ],
      "text/plain": [
       "                amount\n",
       "create_date           \n",
       "2020-01-23    2.000000\n",
       "2020-01-24    8.000000\n",
       "2020-01-25    6.666667\n",
       "2020-01-26    5.750000\n",
       "2020-01-27    6.400000\n",
       "...                ...\n",
       "2021-06-28   21.142857\n",
       "2021-06-29   23.857143\n",
       "2021-06-30   25.428571\n",
       "2021-07-01   25.285714\n",
       "2021-07-02   23.000000\n",
       "\n",
       "[526 rows x 1 columns]"
      ]
     },
     "execution_count": 17,
     "metadata": {
      "tags": []
     },
     "output_type": "execute_result"
    }
   ],
   "source": [
    "# 7일을 합친 값의 평균값으로 지정해주기\n",
    "# min_periods는 첫날 NaN 값을 지우기 위함 (첫 6일은 7일 미만이기 때문에 계산이 불가능하므로)\n",
    "msg_sent_smoothed = msg_sent.rolling(7, min_periods=1).mean()\n",
    "# smoothing을 시키고 초기화된 index를 다시 날짜로 지정하기\n",
    "msg_sent_smoothed.index = msg_sent[\"create_date\"]\n",
    "msg_sent_smoothed"
   ]
  },
  {
   "cell_type": "markdown",
   "metadata": {
    "id": "_VFfcCvtrD5F"
   },
   "source": [
    "# 시각화"
   ]
  },
  {
   "cell_type": "markdown",
   "metadata": {
    "id": "jS9MXrA_rm7U"
   },
   "source": [
    "## 발송량 시각화 하기"
   ]
  },
  {
   "cell_type": "markdown",
   "metadata": {
    "id": "4292jksP5oBv"
   },
   "source": [
    "### 적합한 그래프 찾기\n",
    "1. seaborn histplot\n",
    "\n",
    "1. pyplot plot\n",
    "\n",
    "1. pyplot plot w/ smoothed (평활화)"
   ]
  },
  {
   "cell_type": "code",
   "execution_count": null,
   "metadata": {
    "colab": {
     "base_uri": "https://localhost:8080/",
     "height": 488
    },
    "executionInfo": {
     "elapsed": 2350,
     "status": "ok",
     "timestamp": 1625469119700,
     "user": {
      "displayName": "이성준",
      "photoUrl": "",
      "userId": "17660701608448574543"
     },
     "user_tz": -540
    },
    "id": "8MyeXiOt5xd1",
    "outputId": "e724a16f-684e-4407-869d-e6b5e8f0fd2f"
   },
   "outputs": [
    {
     "data": {
      "text/plain": [
       "[<matplotlib.lines.Line2D at 0x7ff32b4d3bd0>]"
      ]
     },
     "execution_count": 18,
     "metadata": {
      "tags": []
     },
     "output_type": "execute_result"
    },
    {
     "data": {
      "image/png": "[encoded data removed]",
      "text/plain": [
       "<Figure size 1152x864 with 3 Axes>"
      ]
     },
     "metadata": {
      "needs_background": "light",
      "tags": []
     },
     "output_type": "display_data"
    }
   ],
   "source": [
    "# subplot 그리기\n",
    "fig, axs = plt.subplots(ncols=1, nrows=3, figsize=(16, 12))\n",
    "# 1번째: seaborn histplot 사용하기 - 526개로 막대 나누고, kernel density estimate 선 그리기\n",
    "plt.subplot(3, 1, 1)\n",
    "sns.histplot(data=test_encouragement, x=\"create_date\", bins=526, kde=True)\n",
    "# 2번째: 정제하지 않은 raw 데이터 사용하여 그리기\n",
    "axs[1].plot(msg_sent.create_date, msg_sent.amount)\n",
    "# 3번째: smoothing 한 후 데이터 그리기\n",
    "axs[2].plot(msg_sent_smoothed.index, msg_sent_smoothed.amount)"
   ]
  },
  {
   "cell_type": "markdown",
   "metadata": {
    "id": "Xju605gK7uUA"
   },
   "source": [
    "### peaks(정점) 날짜 파악하고 표시하기\n",
    "[방법](https://stackoverflow.com/questions/54919679/get-peaks-in-plot-python)"
   ]
  },
  {
   "cell_type": "code",
   "execution_count": null,
   "metadata": {
    "colab": {
     "base_uri": "https://localhost:8080/",
     "height": 603
    },
    "executionInfo": {
     "elapsed": 654,
     "status": "ok",
     "timestamp": 1625469161079,
     "user": {
      "displayName": "이성준",
      "photoUrl": "",
      "userId": "17660701608448574543"
     },
     "user_tz": -540
    },
    "id": "NspB9tZC8PyX",
    "outputId": "64d0fb79-76eb-4394-d5d0-1b54e273e707"
   },
   "outputs": [
    {
     "data": {
      "text/html": [
       "<div>\n",
       "<style scoped>\n",
       "    .dataframe tbody tr th:only-of-type {\n",
       "        vertical-align: middle;\n",
       "    }\n",
       "\n",
       "    .dataframe tbody tr th {\n",
       "        vertical-align: top;\n",
       "    }\n",
       "\n",
       "    .dataframe thead th {\n",
       "        text-align: right;\n",
       "    }\n",
       "</style>\n",
       "<table border=\"1\" class=\"dataframe\">\n",
       "  <thead>\n",
       "    <tr style=\"text-align: right;\">\n",
       "      <th></th>\n",
       "      <th>amount</th>\n",
       "    </tr>\n",
       "    <tr>\n",
       "      <th>create_date</th>\n",
       "      <th></th>\n",
       "    </tr>\n",
       "  </thead>\n",
       "  <tbody>\n",
       "    <tr>\n",
       "      <th>2020-02-05</th>\n",
       "      <td>22.571429</td>\n",
       "    </tr>\n",
       "    <tr>\n",
       "      <th>2020-02-27</th>\n",
       "      <td>88.857143</td>\n",
       "    </tr>\n",
       "    <tr>\n",
       "      <th>2020-04-17</th>\n",
       "      <td>15.428571</td>\n",
       "    </tr>\n",
       "    <tr>\n",
       "      <th>2020-05-15</th>\n",
       "      <td>31.142857</td>\n",
       "    </tr>\n",
       "    <tr>\n",
       "      <th>2020-06-18</th>\n",
       "      <td>9.000000</td>\n",
       "    </tr>\n",
       "    <tr>\n",
       "      <th>2020-07-10</th>\n",
       "      <td>13.285714</td>\n",
       "    </tr>\n",
       "    <tr>\n",
       "      <th>2020-08-22</th>\n",
       "      <td>85.714286</td>\n",
       "    </tr>\n",
       "    <tr>\n",
       "      <th>2020-10-08</th>\n",
       "      <td>23.714286</td>\n",
       "    </tr>\n",
       "    <tr>\n",
       "      <th>2020-11-28</th>\n",
       "      <td>47.285714</td>\n",
       "    </tr>\n",
       "    <tr>\n",
       "      <th>2020-12-21</th>\n",
       "      <td>72.000000</td>\n",
       "    </tr>\n",
       "    <tr>\n",
       "      <th>2021-01-02</th>\n",
       "      <td>61.714286</td>\n",
       "    </tr>\n",
       "    <tr>\n",
       "      <th>2021-01-29</th>\n",
       "      <td>51.714286</td>\n",
       "    </tr>\n",
       "    <tr>\n",
       "      <th>2021-02-21</th>\n",
       "      <td>56.000000</td>\n",
       "    </tr>\n",
       "    <tr>\n",
       "      <th>2021-03-30</th>\n",
       "      <td>39.857143</td>\n",
       "    </tr>\n",
       "    <tr>\n",
       "      <th>2021-05-19</th>\n",
       "      <td>42.142857</td>\n",
       "    </tr>\n",
       "    <tr>\n",
       "      <th>2021-05-28</th>\n",
       "      <td>37.714286</td>\n",
       "    </tr>\n",
       "    <tr>\n",
       "      <th>2021-07-01</th>\n",
       "      <td>25.285714</td>\n",
       "    </tr>\n",
       "  </tbody>\n",
       "</table>\n",
       "</div>"
      ],
      "text/plain": [
       "                amount\n",
       "create_date           \n",
       "2020-02-05   22.571429\n",
       "2020-02-27   88.857143\n",
       "2020-04-17   15.428571\n",
       "2020-05-15   31.142857\n",
       "2020-06-18    9.000000\n",
       "2020-07-10   13.285714\n",
       "2020-08-22   85.714286\n",
       "2020-10-08   23.714286\n",
       "2020-11-28   47.285714\n",
       "2020-12-21   72.000000\n",
       "2021-01-02   61.714286\n",
       "2021-01-29   51.714286\n",
       "2021-02-21   56.000000\n",
       "2021-03-30   39.857143\n",
       "2021-05-19   42.142857\n",
       "2021-05-28   37.714286\n",
       "2021-07-01   25.285714"
      ]
     },
     "execution_count": 20,
     "metadata": {
      "tags": []
     },
     "output_type": "execute_result"
    }
   ],
   "source": [
    "# scipy를 이용하여 데이터 내에서 정점을 찾고, index 받기\n",
    "peaks = find_peaks_cwt(msg_sent_smoothed[\"amount\"].to_numpy(),\n",
    "                       widths=np.ones(msg_sent_smoothed[\"amount\"].to_numpy().shape)*2)\n",
    "\n",
    "# 받은 index를 활용해서 peak 날짜 찾기\n",
    "msg_sent_smoothed.iloc[peaks]"
   ]
  },
  {
   "cell_type": "code",
   "execution_count": null,
   "metadata": {
    "colab": {
     "base_uri": "https://localhost:8080/",
     "height": 264
    },
    "executionInfo": {
     "elapsed": 9,
     "status": "ok",
     "timestamp": 1625406866725,
     "user": {
      "displayName": "이성준",
      "photoUrl": "",
      "userId": "17660701608448574543"
     },
     "user_tz": -540
    },
    "id": "8SI7hoDK79Ic",
    "outputId": "724569a4-2022-4ff1-e8ac-7744407bf51c"
   },
   "outputs": [
    {
     "data": {
      "text/plain": [
       "[<matplotlib.lines.Line2D at 0x7f5524283b50>]"
      ]
     },
     "execution_count": 20,
     "metadata": {
      "tags": []
     },
     "output_type": "execute_result"
    },
    {
     "data": {
      "image/png": "[encoded data removed]",
      "text/plain": [
       "<Figure size 1152x288 with 1 Axes>"
      ]
     },
     "metadata": {
      "needs_background": "light",
      "tags": []
     },
     "output_type": "display_data"
    }
   ],
   "source": [
    "plt.figure(figsize=(16, 4))\n",
    "plt.plot(msg_sent_smoothed)\n",
    "# peak 값을 표시하기 위해 겹쳐서 그래프 그리기\n",
    "plt.plot(msg_sent_smoothed.iloc[peaks], \"r^\", ms=8)"
   ]
  },
  {
   "cell_type": "markdown",
   "metadata": {
    "id": "hvFElmsOZFG2"
   },
   "source": [
    "# 코로나19 데이터와 비교하기"
   ]
  },
  {
   "cell_type": "markdown",
   "metadata": {
    "id": "sknX1lGdZH0r"
   },
   "source": [
    "## Our World in Data 데이터셋 불러오기"
   ]
  },
  {
   "cell_type": "code",
   "execution_count": null,
   "metadata": {
    "colab": {
     "base_uri": "https://localhost:8080/"
    },
    "executionInfo": {
     "elapsed": 534,
     "status": "ok",
     "timestamp": 1625406867253,
     "user": {
      "displayName": "이성준",
      "photoUrl": "",
      "userId": "17660701608448574543"
     },
     "user_tz": -540
    },
    "id": "y3Mf43g4ZLRA",
    "outputId": "e5b64912-f9d2-4c25-a726-cd6ef7490a40"
   },
   "outputs": [
    {
     "name": "stdout",
     "output_type": "stream",
     "text": [
      "<class 'pandas.core.frame.DataFrame'>\n",
      "RangeIndex: 99980 entries, 0 to 99979\n",
      "Data columns (total 60 columns):\n",
      " #   Column                                 Non-Null Count  Dtype  \n",
      "---  ------                                 --------------  -----  \n",
      " 0   iso_code                               99980 non-null  object \n",
      " 1   continent                              95293 non-null  object \n",
      " 2   location                               99980 non-null  object \n",
      " 3   date                                   99980 non-null  object \n",
      " 4   total_cases                            96383 non-null  float64\n",
      " 5   new_cases                              96380 non-null  float64\n",
      " 6   new_cases_smoothed                     95370 non-null  float64\n",
      " 7   total_deaths                           86237 non-null  float64\n",
      " 8   new_deaths                             86393 non-null  float64\n",
      " 9   new_deaths_smoothed                    95370 non-null  float64\n",
      " 10  total_cases_per_million                95870 non-null  float64\n",
      " 11  new_cases_per_million                  95867 non-null  float64\n",
      " 12  new_cases_smoothed_per_million         94862 non-null  float64\n",
      " 13  total_deaths_per_million               85737 non-null  float64\n",
      " 14  new_deaths_per_million                 85893 non-null  float64\n",
      " 15  new_deaths_smoothed_per_million        94862 non-null  float64\n",
      " 16  reproduction_rate                      80543 non-null  float64\n",
      " 17  icu_patients                           10102 non-null  float64\n",
      " 18  icu_patients_per_million               10102 non-null  float64\n",
      " 19  hosp_patients                          12552 non-null  float64\n",
      " 20  hosp_patients_per_million              12552 non-null  float64\n",
      " 21  weekly_icu_admissions                  883 non-null    float64\n",
      " 22  weekly_icu_admissions_per_million      883 non-null    float64\n",
      " 23  weekly_hosp_admissions                 1568 non-null   float64\n",
      " 24  weekly_hosp_admissions_per_million     1568 non-null   float64\n",
      " 25  new_tests                              44897 non-null  float64\n",
      " 26  total_tests                            44571 non-null  float64\n",
      " 27  total_tests_per_thousand               44571 non-null  float64\n",
      " 28  new_tests_per_thousand                 44897 non-null  float64\n",
      " 29  new_tests_smoothed                     52223 non-null  float64\n",
      " 30  new_tests_smoothed_per_thousand        52223 non-null  float64\n",
      " 31  positive_rate                          48752 non-null  float64\n",
      " 32  tests_per_case                         48154 non-null  float64\n",
      " 33  tests_units                            53890 non-null  object \n",
      " 34  total_vaccinations                     16769 non-null  float64\n",
      " 35  people_vaccinated                      15945 non-null  float64\n",
      " 36  people_fully_vaccinated                13108 non-null  float64\n",
      " 37  new_vaccinations                       13990 non-null  float64\n",
      " 38  new_vaccinations_smoothed              28988 non-null  float64\n",
      " 39  total_vaccinations_per_hundred         16769 non-null  float64\n",
      " 40  people_vaccinated_per_hundred          15945 non-null  float64\n",
      " 41  people_fully_vaccinated_per_hundred    13108 non-null  float64\n",
      " 42  new_vaccinations_smoothed_per_million  28988 non-null  float64\n",
      " 43  stringency_index                       83756 non-null  float64\n",
      " 44  population                             99333 non-null  float64\n",
      " 45  population_density                     92896 non-null  float64\n",
      " 46  median_age                             89349 non-null  float64\n",
      " 47  aged_65_older                          88345 non-null  float64\n",
      " 48  aged_70_older                          88855 non-null  float64\n",
      " 49  gdp_per_capita                         89695 non-null  float64\n",
      " 50  extreme_poverty                        60538 non-null  float64\n",
      " 51  cardiovasc_death_rate                  89721 non-null  float64\n",
      " 52  diabetes_prevalence                    92029 non-null  float64\n",
      " 53  female_smokers                         70173 non-null  float64\n",
      " 54  male_smokers                           69148 non-null  float64\n",
      " 55  handwashing_facilities                 45088 non-null  float64\n",
      " 56  hospital_beds_per_thousand             81729 non-null  float64\n",
      " 57  life_expectancy                        94938 non-null  float64\n",
      " 58  human_development_index                89864 non-null  float64\n",
      " 59  excess_mortality                       3503 non-null   float64\n",
      "dtypes: float64(55), object(5)\n",
      "memory usage: 45.8+ MB\n"
     ]
    }
   ],
   "source": [
    "covid_df = pd.read_csv(\"https://github.com/owid/covid-19-data/raw/master/public/data/owid-covid-data.csv\")\n",
    "covid_df.info()"
   ]
  },
  {
   "cell_type": "markdown",
   "metadata": {
    "id": "_NpE0i-tZ36c"
   },
   "source": [
    "## 한국의 2020년 1월 23일 이후 데이터만 가져오기"
   ]
  },
  {
   "cell_type": "code",
   "execution_count": null,
   "metadata": {
    "colab": {
     "base_uri": "https://localhost:8080/"
    },
    "executionInfo": {
     "elapsed": 6,
     "status": "ok",
     "timestamp": 1625406867254,
     "user": {
      "displayName": "이성준",
      "photoUrl": "",
      "userId": "17660701608448574543"
     },
     "user_tz": -540
    },
    "id": "MAWP0FbLZ99S",
    "outputId": "ec99b174-5bbf-4734-a34d-44a88f81d4af"
   },
   "outputs": [
    {
     "data": {
      "text/html": [
       "<div>\n",
       "<style scoped>\n",
       "    .dataframe tbody tr th:only-of-type {\n",
       "        vertical-align: middle;\n",
       "    }\n",
       "\n",
       "    .dataframe tbody tr th {\n",
       "        vertical-align: top;\n",
       "    }\n",
       "\n",
       "    .dataframe thead th {\n",
       "        text-align: right;\n",
       "    }\n",
       "</style>\n",
       "<table border=\"1\" class=\"dataframe\">\n",
       "  <thead>\n",
       "    <tr style=\"text-align: right;\">\n",
       "      <th></th>\n",
       "      <th>iso_code</th>\n",
       "      <th>continent</th>\n",
       "      <th>location</th>\n",
       "      <th>date</th>\n",
       "      <th>total_cases</th>\n",
       "      <th>new_cases</th>\n",
       "      <th>new_cases_smoothed</th>\n",
       "      <th>total_deaths</th>\n",
       "      <th>new_deaths</th>\n",
       "      <th>new_deaths_smoothed</th>\n",
       "      <th>total_cases_per_million</th>\n",
       "      <th>new_cases_per_million</th>\n",
       "      <th>new_cases_smoothed_per_million</th>\n",
       "      <th>total_deaths_per_million</th>\n",
       "      <th>new_deaths_per_million</th>\n",
       "      <th>new_deaths_smoothed_per_million</th>\n",
       "      <th>reproduction_rate</th>\n",
       "      <th>icu_patients</th>\n",
       "      <th>icu_patients_per_million</th>\n",
       "      <th>hosp_patients</th>\n",
       "      <th>hosp_patients_per_million</th>\n",
       "      <th>weekly_icu_admissions</th>\n",
       "      <th>weekly_icu_admissions_per_million</th>\n",
       "      <th>weekly_hosp_admissions</th>\n",
       "      <th>weekly_hosp_admissions_per_million</th>\n",
       "      <th>new_tests</th>\n",
       "      <th>total_tests</th>\n",
       "      <th>total_tests_per_thousand</th>\n",
       "      <th>new_tests_per_thousand</th>\n",
       "      <th>new_tests_smoothed</th>\n",
       "      <th>new_tests_smoothed_per_thousand</th>\n",
       "      <th>positive_rate</th>\n",
       "      <th>tests_per_case</th>\n",
       "      <th>tests_units</th>\n",
       "      <th>total_vaccinations</th>\n",
       "      <th>people_vaccinated</th>\n",
       "      <th>people_fully_vaccinated</th>\n",
       "      <th>new_vaccinations</th>\n",
       "      <th>new_vaccinations_smoothed</th>\n",
       "      <th>total_vaccinations_per_hundred</th>\n",
       "      <th>people_vaccinated_per_hundred</th>\n",
       "      <th>people_fully_vaccinated_per_hundred</th>\n",
       "      <th>new_vaccinations_smoothed_per_million</th>\n",
       "      <th>stringency_index</th>\n",
       "      <th>population</th>\n",
       "      <th>population_density</th>\n",
       "      <th>median_age</th>\n",
       "      <th>aged_65_older</th>\n",
       "      <th>aged_70_older</th>\n",
       "      <th>gdp_per_capita</th>\n",
       "      <th>extreme_poverty</th>\n",
       "      <th>cardiovasc_death_rate</th>\n",
       "      <th>diabetes_prevalence</th>\n",
       "      <th>female_smokers</th>\n",
       "      <th>male_smokers</th>\n",
       "      <th>handwashing_facilities</th>\n",
       "      <th>hospital_beds_per_thousand</th>\n",
       "      <th>life_expectancy</th>\n",
       "      <th>human_development_index</th>\n",
       "      <th>excess_mortality</th>\n",
       "    </tr>\n",
       "  </thead>\n",
       "  <tbody>\n",
       "    <tr>\n",
       "      <th>83642</th>\n",
       "      <td>KOR</td>\n",
       "      <td>Asia</td>\n",
       "      <td>South Korea</td>\n",
       "      <td>2020-01-23</td>\n",
       "      <td>1.0</td>\n",
       "      <td>0.0</td>\n",
       "      <td>NaN</td>\n",
       "      <td>NaN</td>\n",
       "      <td>NaN</td>\n",
       "      <td>NaN</td>\n",
       "      <td>0.020</td>\n",
       "      <td>0.000</td>\n",
       "      <td>NaN</td>\n",
       "      <td>NaN</td>\n",
       "      <td>NaN</td>\n",
       "      <td>NaN</td>\n",
       "      <td>NaN</td>\n",
       "      <td>NaN</td>\n",
       "      <td>NaN</td>\n",
       "      <td>NaN</td>\n",
       "      <td>NaN</td>\n",
       "      <td>NaN</td>\n",
       "      <td>NaN</td>\n",
       "      <td>NaN</td>\n",
       "      <td>NaN</td>\n",
       "      <td>NaN</td>\n",
       "      <td>NaN</td>\n",
       "      <td>NaN</td>\n",
       "      <td>NaN</td>\n",
       "      <td>NaN</td>\n",
       "      <td>NaN</td>\n",
       "      <td>NaN</td>\n",
       "      <td>NaN</td>\n",
       "      <td>people tested</td>\n",
       "      <td>NaN</td>\n",
       "      <td>NaN</td>\n",
       "      <td>NaN</td>\n",
       "      <td>NaN</td>\n",
       "      <td>NaN</td>\n",
       "      <td>NaN</td>\n",
       "      <td>NaN</td>\n",
       "      <td>NaN</td>\n",
       "      <td>NaN</td>\n",
       "      <td>0.0</td>\n",
       "      <td>51269183.0</td>\n",
       "      <td>527.967</td>\n",
       "      <td>43.4</td>\n",
       "      <td>13.914</td>\n",
       "      <td>8.622</td>\n",
       "      <td>35938.374</td>\n",
       "      <td>0.2</td>\n",
       "      <td>85.998</td>\n",
       "      <td>6.8</td>\n",
       "      <td>6.2</td>\n",
       "      <td>40.9</td>\n",
       "      <td>NaN</td>\n",
       "      <td>12.27</td>\n",
       "      <td>83.03</td>\n",
       "      <td>0.916</td>\n",
       "      <td>NaN</td>\n",
       "    </tr>\n",
       "    <tr>\n",
       "      <th>83643</th>\n",
       "      <td>KOR</td>\n",
       "      <td>Asia</td>\n",
       "      <td>South Korea</td>\n",
       "      <td>2020-01-24</td>\n",
       "      <td>2.0</td>\n",
       "      <td>1.0</td>\n",
       "      <td>NaN</td>\n",
       "      <td>NaN</td>\n",
       "      <td>NaN</td>\n",
       "      <td>NaN</td>\n",
       "      <td>0.039</td>\n",
       "      <td>0.020</td>\n",
       "      <td>NaN</td>\n",
       "      <td>NaN</td>\n",
       "      <td>NaN</td>\n",
       "      <td>NaN</td>\n",
       "      <td>NaN</td>\n",
       "      <td>NaN</td>\n",
       "      <td>NaN</td>\n",
       "      <td>NaN</td>\n",
       "      <td>NaN</td>\n",
       "      <td>NaN</td>\n",
       "      <td>NaN</td>\n",
       "      <td>NaN</td>\n",
       "      <td>NaN</td>\n",
       "      <td>NaN</td>\n",
       "      <td>25.0</td>\n",
       "      <td>0.000</td>\n",
       "      <td>NaN</td>\n",
       "      <td>NaN</td>\n",
       "      <td>NaN</td>\n",
       "      <td>NaN</td>\n",
       "      <td>NaN</td>\n",
       "      <td>people tested</td>\n",
       "      <td>NaN</td>\n",
       "      <td>NaN</td>\n",
       "      <td>NaN</td>\n",
       "      <td>NaN</td>\n",
       "      <td>NaN</td>\n",
       "      <td>NaN</td>\n",
       "      <td>NaN</td>\n",
       "      <td>NaN</td>\n",
       "      <td>NaN</td>\n",
       "      <td>0.0</td>\n",
       "      <td>51269183.0</td>\n",
       "      <td>527.967</td>\n",
       "      <td>43.4</td>\n",
       "      <td>13.914</td>\n",
       "      <td>8.622</td>\n",
       "      <td>35938.374</td>\n",
       "      <td>0.2</td>\n",
       "      <td>85.998</td>\n",
       "      <td>6.8</td>\n",
       "      <td>6.2</td>\n",
       "      <td>40.9</td>\n",
       "      <td>NaN</td>\n",
       "      <td>12.27</td>\n",
       "      <td>83.03</td>\n",
       "      <td>0.916</td>\n",
       "      <td>NaN</td>\n",
       "    </tr>\n",
       "    <tr>\n",
       "      <th>83644</th>\n",
       "      <td>KOR</td>\n",
       "      <td>Asia</td>\n",
       "      <td>South Korea</td>\n",
       "      <td>2020-01-25</td>\n",
       "      <td>2.0</td>\n",
       "      <td>0.0</td>\n",
       "      <td>NaN</td>\n",
       "      <td>NaN</td>\n",
       "      <td>NaN</td>\n",
       "      <td>NaN</td>\n",
       "      <td>0.039</td>\n",
       "      <td>0.000</td>\n",
       "      <td>NaN</td>\n",
       "      <td>NaN</td>\n",
       "      <td>NaN</td>\n",
       "      <td>NaN</td>\n",
       "      <td>NaN</td>\n",
       "      <td>NaN</td>\n",
       "      <td>NaN</td>\n",
       "      <td>NaN</td>\n",
       "      <td>NaN</td>\n",
       "      <td>NaN</td>\n",
       "      <td>NaN</td>\n",
       "      <td>NaN</td>\n",
       "      <td>NaN</td>\n",
       "      <td>NaN</td>\n",
       "      <td>NaN</td>\n",
       "      <td>NaN</td>\n",
       "      <td>NaN</td>\n",
       "      <td>NaN</td>\n",
       "      <td>NaN</td>\n",
       "      <td>NaN</td>\n",
       "      <td>NaN</td>\n",
       "      <td>people tested</td>\n",
       "      <td>NaN</td>\n",
       "      <td>NaN</td>\n",
       "      <td>NaN</td>\n",
       "      <td>NaN</td>\n",
       "      <td>NaN</td>\n",
       "      <td>NaN</td>\n",
       "      <td>NaN</td>\n",
       "      <td>NaN</td>\n",
       "      <td>NaN</td>\n",
       "      <td>0.0</td>\n",
       "      <td>51269183.0</td>\n",
       "      <td>527.967</td>\n",
       "      <td>43.4</td>\n",
       "      <td>13.914</td>\n",
       "      <td>8.622</td>\n",
       "      <td>35938.374</td>\n",
       "      <td>0.2</td>\n",
       "      <td>85.998</td>\n",
       "      <td>6.8</td>\n",
       "      <td>6.2</td>\n",
       "      <td>40.9</td>\n",
       "      <td>NaN</td>\n",
       "      <td>12.27</td>\n",
       "      <td>83.03</td>\n",
       "      <td>0.916</td>\n",
       "      <td>NaN</td>\n",
       "    </tr>\n",
       "    <tr>\n",
       "      <th>83645</th>\n",
       "      <td>KOR</td>\n",
       "      <td>Asia</td>\n",
       "      <td>South Korea</td>\n",
       "      <td>2020-01-26</td>\n",
       "      <td>3.0</td>\n",
       "      <td>1.0</td>\n",
       "      <td>NaN</td>\n",
       "      <td>NaN</td>\n",
       "      <td>NaN</td>\n",
       "      <td>NaN</td>\n",
       "      <td>0.059</td>\n",
       "      <td>0.020</td>\n",
       "      <td>NaN</td>\n",
       "      <td>NaN</td>\n",
       "      <td>NaN</td>\n",
       "      <td>NaN</td>\n",
       "      <td>NaN</td>\n",
       "      <td>NaN</td>\n",
       "      <td>NaN</td>\n",
       "      <td>NaN</td>\n",
       "      <td>NaN</td>\n",
       "      <td>NaN</td>\n",
       "      <td>NaN</td>\n",
       "      <td>NaN</td>\n",
       "      <td>NaN</td>\n",
       "      <td>NaN</td>\n",
       "      <td>48.0</td>\n",
       "      <td>0.001</td>\n",
       "      <td>NaN</td>\n",
       "      <td>NaN</td>\n",
       "      <td>NaN</td>\n",
       "      <td>NaN</td>\n",
       "      <td>NaN</td>\n",
       "      <td>people tested</td>\n",
       "      <td>NaN</td>\n",
       "      <td>NaN</td>\n",
       "      <td>NaN</td>\n",
       "      <td>NaN</td>\n",
       "      <td>NaN</td>\n",
       "      <td>NaN</td>\n",
       "      <td>NaN</td>\n",
       "      <td>NaN</td>\n",
       "      <td>NaN</td>\n",
       "      <td>0.0</td>\n",
       "      <td>51269183.0</td>\n",
       "      <td>527.967</td>\n",
       "      <td>43.4</td>\n",
       "      <td>13.914</td>\n",
       "      <td>8.622</td>\n",
       "      <td>35938.374</td>\n",
       "      <td>0.2</td>\n",
       "      <td>85.998</td>\n",
       "      <td>6.8</td>\n",
       "      <td>6.2</td>\n",
       "      <td>40.9</td>\n",
       "      <td>NaN</td>\n",
       "      <td>12.27</td>\n",
       "      <td>83.03</td>\n",
       "      <td>0.916</td>\n",
       "      <td>7.99</td>\n",
       "    </tr>\n",
       "    <tr>\n",
       "      <th>83646</th>\n",
       "      <td>KOR</td>\n",
       "      <td>Asia</td>\n",
       "      <td>South Korea</td>\n",
       "      <td>2020-01-27</td>\n",
       "      <td>4.0</td>\n",
       "      <td>1.0</td>\n",
       "      <td>NaN</td>\n",
       "      <td>NaN</td>\n",
       "      <td>NaN</td>\n",
       "      <td>NaN</td>\n",
       "      <td>0.078</td>\n",
       "      <td>0.020</td>\n",
       "      <td>NaN</td>\n",
       "      <td>NaN</td>\n",
       "      <td>NaN</td>\n",
       "      <td>NaN</td>\n",
       "      <td>NaN</td>\n",
       "      <td>NaN</td>\n",
       "      <td>NaN</td>\n",
       "      <td>NaN</td>\n",
       "      <td>NaN</td>\n",
       "      <td>NaN</td>\n",
       "      <td>NaN</td>\n",
       "      <td>NaN</td>\n",
       "      <td>NaN</td>\n",
       "      <td>9.0</td>\n",
       "      <td>57.0</td>\n",
       "      <td>0.001</td>\n",
       "      <td>0.000</td>\n",
       "      <td>NaN</td>\n",
       "      <td>NaN</td>\n",
       "      <td>NaN</td>\n",
       "      <td>NaN</td>\n",
       "      <td>people tested</td>\n",
       "      <td>NaN</td>\n",
       "      <td>NaN</td>\n",
       "      <td>NaN</td>\n",
       "      <td>NaN</td>\n",
       "      <td>NaN</td>\n",
       "      <td>NaN</td>\n",
       "      <td>NaN</td>\n",
       "      <td>NaN</td>\n",
       "      <td>NaN</td>\n",
       "      <td>0.0</td>\n",
       "      <td>51269183.0</td>\n",
       "      <td>527.967</td>\n",
       "      <td>43.4</td>\n",
       "      <td>13.914</td>\n",
       "      <td>8.622</td>\n",
       "      <td>35938.374</td>\n",
       "      <td>0.2</td>\n",
       "      <td>85.998</td>\n",
       "      <td>6.8</td>\n",
       "      <td>6.2</td>\n",
       "      <td>40.9</td>\n",
       "      <td>NaN</td>\n",
       "      <td>12.27</td>\n",
       "      <td>83.03</td>\n",
       "      <td>0.916</td>\n",
       "      <td>NaN</td>\n",
       "    </tr>\n",
       "    <tr>\n",
       "      <th>...</th>\n",
       "      <td>...</td>\n",
       "      <td>...</td>\n",
       "      <td>...</td>\n",
       "      <td>...</td>\n",
       "      <td>...</td>\n",
       "      <td>...</td>\n",
       "      <td>...</td>\n",
       "      <td>...</td>\n",
       "      <td>...</td>\n",
       "      <td>...</td>\n",
       "      <td>...</td>\n",
       "      <td>...</td>\n",
       "      <td>...</td>\n",
       "      <td>...</td>\n",
       "      <td>...</td>\n",
       "      <td>...</td>\n",
       "      <td>...</td>\n",
       "      <td>...</td>\n",
       "      <td>...</td>\n",
       "      <td>...</td>\n",
       "      <td>...</td>\n",
       "      <td>...</td>\n",
       "      <td>...</td>\n",
       "      <td>...</td>\n",
       "      <td>...</td>\n",
       "      <td>...</td>\n",
       "      <td>...</td>\n",
       "      <td>...</td>\n",
       "      <td>...</td>\n",
       "      <td>...</td>\n",
       "      <td>...</td>\n",
       "      <td>...</td>\n",
       "      <td>...</td>\n",
       "      <td>...</td>\n",
       "      <td>...</td>\n",
       "      <td>...</td>\n",
       "      <td>...</td>\n",
       "      <td>...</td>\n",
       "      <td>...</td>\n",
       "      <td>...</td>\n",
       "      <td>...</td>\n",
       "      <td>...</td>\n",
       "      <td>...</td>\n",
       "      <td>...</td>\n",
       "      <td>...</td>\n",
       "      <td>...</td>\n",
       "      <td>...</td>\n",
       "      <td>...</td>\n",
       "      <td>...</td>\n",
       "      <td>...</td>\n",
       "      <td>...</td>\n",
       "      <td>...</td>\n",
       "      <td>...</td>\n",
       "      <td>...</td>\n",
       "      <td>...</td>\n",
       "      <td>...</td>\n",
       "      <td>...</td>\n",
       "      <td>...</td>\n",
       "      <td>...</td>\n",
       "      <td>...</td>\n",
       "    </tr>\n",
       "    <tr>\n",
       "      <th>84165</th>\n",
       "      <td>KOR</td>\n",
       "      <td>Asia</td>\n",
       "      <td>South Korea</td>\n",
       "      <td>2021-06-29</td>\n",
       "      <td>156961.0</td>\n",
       "      <td>794.0</td>\n",
       "      <td>630.857</td>\n",
       "      <td>2018.0</td>\n",
       "      <td>1.0</td>\n",
       "      <td>1.571</td>\n",
       "      <td>3061.508</td>\n",
       "      <td>15.487</td>\n",
       "      <td>12.305</td>\n",
       "      <td>39.361</td>\n",
       "      <td>0.020</td>\n",
       "      <td>0.031</td>\n",
       "      <td>1.21</td>\n",
       "      <td>NaN</td>\n",
       "      <td>NaN</td>\n",
       "      <td>NaN</td>\n",
       "      <td>NaN</td>\n",
       "      <td>NaN</td>\n",
       "      <td>NaN</td>\n",
       "      <td>NaN</td>\n",
       "      <td>NaN</td>\n",
       "      <td>32797.0</td>\n",
       "      <td>10438883.0</td>\n",
       "      <td>203.609</td>\n",
       "      <td>0.640</td>\n",
       "      <td>26567.0</td>\n",
       "      <td>0.518</td>\n",
       "      <td>0.024</td>\n",
       "      <td>42.1</td>\n",
       "      <td>people tested</td>\n",
       "      <td>19099022.0</td>\n",
       "      <td>15321254.0</td>\n",
       "      <td>4905462.0</td>\n",
       "      <td>163476.0</td>\n",
       "      <td>118834.0</td>\n",
       "      <td>37.25</td>\n",
       "      <td>29.88</td>\n",
       "      <td>9.57</td>\n",
       "      <td>2318.0</td>\n",
       "      <td>NaN</td>\n",
       "      <td>51269183.0</td>\n",
       "      <td>527.967</td>\n",
       "      <td>43.4</td>\n",
       "      <td>13.914</td>\n",
       "      <td>8.622</td>\n",
       "      <td>35938.374</td>\n",
       "      <td>0.2</td>\n",
       "      <td>85.998</td>\n",
       "      <td>6.8</td>\n",
       "      <td>6.2</td>\n",
       "      <td>40.9</td>\n",
       "      <td>NaN</td>\n",
       "      <td>12.27</td>\n",
       "      <td>83.03</td>\n",
       "      <td>0.916</td>\n",
       "      <td>NaN</td>\n",
       "    </tr>\n",
       "    <tr>\n",
       "      <th>84166</th>\n",
       "      <td>KOR</td>\n",
       "      <td>Asia</td>\n",
       "      <td>South Korea</td>\n",
       "      <td>2021-06-30</td>\n",
       "      <td>157723.0</td>\n",
       "      <td>762.0</td>\n",
       "      <td>652.571</td>\n",
       "      <td>2021.0</td>\n",
       "      <td>3.0</td>\n",
       "      <td>1.857</td>\n",
       "      <td>3076.370</td>\n",
       "      <td>14.863</td>\n",
       "      <td>12.728</td>\n",
       "      <td>39.419</td>\n",
       "      <td>0.059</td>\n",
       "      <td>0.036</td>\n",
       "      <td>1.21</td>\n",
       "      <td>NaN</td>\n",
       "      <td>NaN</td>\n",
       "      <td>NaN</td>\n",
       "      <td>NaN</td>\n",
       "      <td>NaN</td>\n",
       "      <td>NaN</td>\n",
       "      <td>NaN</td>\n",
       "      <td>NaN</td>\n",
       "      <td>26079.0</td>\n",
       "      <td>10464962.0</td>\n",
       "      <td>204.118</td>\n",
       "      <td>0.509</td>\n",
       "      <td>26401.0</td>\n",
       "      <td>0.515</td>\n",
       "      <td>0.025</td>\n",
       "      <td>40.5</td>\n",
       "      <td>people tested</td>\n",
       "      <td>19249157.0</td>\n",
       "      <td>15336361.0</td>\n",
       "      <td>5041240.0</td>\n",
       "      <td>150135.0</td>\n",
       "      <td>115843.0</td>\n",
       "      <td>37.55</td>\n",
       "      <td>29.91</td>\n",
       "      <td>9.83</td>\n",
       "      <td>2260.0</td>\n",
       "      <td>NaN</td>\n",
       "      <td>51269183.0</td>\n",
       "      <td>527.967</td>\n",
       "      <td>43.4</td>\n",
       "      <td>13.914</td>\n",
       "      <td>8.622</td>\n",
       "      <td>35938.374</td>\n",
       "      <td>0.2</td>\n",
       "      <td>85.998</td>\n",
       "      <td>6.8</td>\n",
       "      <td>6.2</td>\n",
       "      <td>40.9</td>\n",
       "      <td>NaN</td>\n",
       "      <td>12.27</td>\n",
       "      <td>83.03</td>\n",
       "      <td>0.916</td>\n",
       "      <td>NaN</td>\n",
       "    </tr>\n",
       "    <tr>\n",
       "      <th>84167</th>\n",
       "      <td>KOR</td>\n",
       "      <td>Asia</td>\n",
       "      <td>South Korea</td>\n",
       "      <td>2021-07-01</td>\n",
       "      <td>158549.0</td>\n",
       "      <td>826.0</td>\n",
       "      <td>680.000</td>\n",
       "      <td>2024.0</td>\n",
       "      <td>3.0</td>\n",
       "      <td>2.143</td>\n",
       "      <td>3092.482</td>\n",
       "      <td>16.111</td>\n",
       "      <td>13.263</td>\n",
       "      <td>39.478</td>\n",
       "      <td>0.059</td>\n",
       "      <td>0.042</td>\n",
       "      <td>1.23</td>\n",
       "      <td>NaN</td>\n",
       "      <td>NaN</td>\n",
       "      <td>NaN</td>\n",
       "      <td>NaN</td>\n",
       "      <td>NaN</td>\n",
       "      <td>NaN</td>\n",
       "      <td>NaN</td>\n",
       "      <td>NaN</td>\n",
       "      <td>24430.0</td>\n",
       "      <td>10489392.0</td>\n",
       "      <td>204.594</td>\n",
       "      <td>0.477</td>\n",
       "      <td>24512.0</td>\n",
       "      <td>0.478</td>\n",
       "      <td>0.028</td>\n",
       "      <td>36.0</td>\n",
       "      <td>people tested</td>\n",
       "      <td>19368414.0</td>\n",
       "      <td>15340827.0</td>\n",
       "      <td>5156549.0</td>\n",
       "      <td>119257.0</td>\n",
       "      <td>110376.0</td>\n",
       "      <td>37.78</td>\n",
       "      <td>29.92</td>\n",
       "      <td>10.06</td>\n",
       "      <td>2153.0</td>\n",
       "      <td>NaN</td>\n",
       "      <td>51269183.0</td>\n",
       "      <td>527.967</td>\n",
       "      <td>43.4</td>\n",
       "      <td>13.914</td>\n",
       "      <td>8.622</td>\n",
       "      <td>35938.374</td>\n",
       "      <td>0.2</td>\n",
       "      <td>85.998</td>\n",
       "      <td>6.8</td>\n",
       "      <td>6.2</td>\n",
       "      <td>40.9</td>\n",
       "      <td>NaN</td>\n",
       "      <td>12.27</td>\n",
       "      <td>83.03</td>\n",
       "      <td>0.916</td>\n",
       "      <td>NaN</td>\n",
       "    </tr>\n",
       "    <tr>\n",
       "      <th>84168</th>\n",
       "      <td>KOR</td>\n",
       "      <td>Asia</td>\n",
       "      <td>South Korea</td>\n",
       "      <td>2021-07-02</td>\n",
       "      <td>159342.0</td>\n",
       "      <td>793.0</td>\n",
       "      <td>697.857</td>\n",
       "      <td>2025.0</td>\n",
       "      <td>1.0</td>\n",
       "      <td>1.857</td>\n",
       "      <td>3107.949</td>\n",
       "      <td>15.467</td>\n",
       "      <td>13.612</td>\n",
       "      <td>39.497</td>\n",
       "      <td>0.020</td>\n",
       "      <td>0.036</td>\n",
       "      <td>NaN</td>\n",
       "      <td>NaN</td>\n",
       "      <td>NaN</td>\n",
       "      <td>NaN</td>\n",
       "      <td>NaN</td>\n",
       "      <td>NaN</td>\n",
       "      <td>NaN</td>\n",
       "      <td>NaN</td>\n",
       "      <td>NaN</td>\n",
       "      <td>21545.0</td>\n",
       "      <td>10510937.0</td>\n",
       "      <td>205.015</td>\n",
       "      <td>0.420</td>\n",
       "      <td>23797.0</td>\n",
       "      <td>0.464</td>\n",
       "      <td>NaN</td>\n",
       "      <td>NaN</td>\n",
       "      <td>people tested</td>\n",
       "      <td>19487624.0</td>\n",
       "      <td>15345293.0</td>\n",
       "      <td>5271767.0</td>\n",
       "      <td>119210.0</td>\n",
       "      <td>101792.0</td>\n",
       "      <td>38.01</td>\n",
       "      <td>29.93</td>\n",
       "      <td>10.28</td>\n",
       "      <td>1985.0</td>\n",
       "      <td>NaN</td>\n",
       "      <td>51269183.0</td>\n",
       "      <td>527.967</td>\n",
       "      <td>43.4</td>\n",
       "      <td>13.914</td>\n",
       "      <td>8.622</td>\n",
       "      <td>35938.374</td>\n",
       "      <td>0.2</td>\n",
       "      <td>85.998</td>\n",
       "      <td>6.8</td>\n",
       "      <td>6.2</td>\n",
       "      <td>40.9</td>\n",
       "      <td>NaN</td>\n",
       "      <td>12.27</td>\n",
       "      <td>83.03</td>\n",
       "      <td>0.916</td>\n",
       "      <td>NaN</td>\n",
       "    </tr>\n",
       "    <tr>\n",
       "      <th>84169</th>\n",
       "      <td>KOR</td>\n",
       "      <td>Asia</td>\n",
       "      <td>South Korea</td>\n",
       "      <td>2021-07-03</td>\n",
       "      <td>160084.0</td>\n",
       "      <td>742.0</td>\n",
       "      <td>716.143</td>\n",
       "      <td>2026.0</td>\n",
       "      <td>1.0</td>\n",
       "      <td>1.857</td>\n",
       "      <td>3122.422</td>\n",
       "      <td>14.473</td>\n",
       "      <td>13.968</td>\n",
       "      <td>39.517</td>\n",
       "      <td>0.020</td>\n",
       "      <td>0.036</td>\n",
       "      <td>NaN</td>\n",
       "      <td>NaN</td>\n",
       "      <td>NaN</td>\n",
       "      <td>NaN</td>\n",
       "      <td>NaN</td>\n",
       "      <td>NaN</td>\n",
       "      <td>NaN</td>\n",
       "      <td>NaN</td>\n",
       "      <td>NaN</td>\n",
       "      <td>NaN</td>\n",
       "      <td>NaN</td>\n",
       "      <td>NaN</td>\n",
       "      <td>NaN</td>\n",
       "      <td>NaN</td>\n",
       "      <td>NaN</td>\n",
       "      <td>NaN</td>\n",
       "      <td>NaN</td>\n",
       "      <td>NaN</td>\n",
       "      <td>19537712.0</td>\n",
       "      <td>15347197.0</td>\n",
       "      <td>5319954.0</td>\n",
       "      <td>50088.0</td>\n",
       "      <td>104394.0</td>\n",
       "      <td>38.11</td>\n",
       "      <td>29.93</td>\n",
       "      <td>10.38</td>\n",
       "      <td>2036.0</td>\n",
       "      <td>NaN</td>\n",
       "      <td>51269183.0</td>\n",
       "      <td>527.967</td>\n",
       "      <td>43.4</td>\n",
       "      <td>13.914</td>\n",
       "      <td>8.622</td>\n",
       "      <td>35938.374</td>\n",
       "      <td>0.2</td>\n",
       "      <td>85.998</td>\n",
       "      <td>6.8</td>\n",
       "      <td>6.2</td>\n",
       "      <td>40.9</td>\n",
       "      <td>NaN</td>\n",
       "      <td>12.27</td>\n",
       "      <td>83.03</td>\n",
       "      <td>0.916</td>\n",
       "      <td>NaN</td>\n",
       "    </tr>\n",
       "  </tbody>\n",
       "</table>\n",
       "<p>528 rows × 60 columns</p>\n",
       "</div>"
      ],
      "text/plain": [
       "      iso_code continent  ... human_development_index excess_mortality\n",
       "83642      KOR      Asia  ...                   0.916              NaN\n",
       "83643      KOR      Asia  ...                   0.916              NaN\n",
       "83644      KOR      Asia  ...                   0.916              NaN\n",
       "83645      KOR      Asia  ...                   0.916             7.99\n",
       "83646      KOR      Asia  ...                   0.916              NaN\n",
       "...        ...       ...  ...                     ...              ...\n",
       "84165      KOR      Asia  ...                   0.916              NaN\n",
       "84166      KOR      Asia  ...                   0.916              NaN\n",
       "84167      KOR      Asia  ...                   0.916              NaN\n",
       "84168      KOR      Asia  ...                   0.916              NaN\n",
       "84169      KOR      Asia  ...                   0.916              NaN\n",
       "\n",
       "[528 rows x 60 columns]"
      ]
     },
     "execution_count": 22,
     "metadata": {
      "tags": []
     },
     "output_type": "execute_result"
    }
   ],
   "source": [
    "covid_kr = covid_df[covid_df[\"location\"] == \"South Korea\"]\n",
    "covid_kr = covid_kr[covid_kr[\"date\"] >= \"2020-01-23\"]\n",
    "covid_kr"
   ]
  },
  {
   "cell_type": "markdown",
   "metadata": {
    "id": "lB3t_NQUfBiU"
   },
   "source": [
    "## 날짜와 확진자수(smoothed)만 가져오기"
   ]
  },
  {
   "cell_type": "code",
   "execution_count": null,
   "metadata": {
    "colab": {
     "base_uri": "https://localhost:8080/"
    },
    "executionInfo": {
     "elapsed": 509,
     "status": "ok",
     "timestamp": 1625406867759,
     "user": {
      "displayName": "이성준",
      "photoUrl": "",
      "userId": "17660701608448574543"
     },
     "user_tz": -540
    },
    "id": "HtLmw-3abEpw",
    "outputId": "21a8da97-f45c-4626-ff37-5270cbfd72ba"
   },
   "outputs": [
    {
     "data": {
      "text/plain": [
       "date\n",
       "2020-01-23        NaN\n",
       "2020-01-24        NaN\n",
       "2020-01-25        NaN\n",
       "2020-01-26        NaN\n",
       "2020-01-27        NaN\n",
       "               ...   \n",
       "2021-06-29    630.857\n",
       "2021-06-30    652.571\n",
       "2021-07-01    680.000\n",
       "2021-07-02    697.857\n",
       "2021-07-03    716.143\n",
       "Name: new_cases_smoothed, Length: 528, dtype: float64"
      ]
     },
     "execution_count": 23,
     "metadata": {
      "tags": []
     },
     "output_type": "execute_result"
    }
   ],
   "source": [
    "covid_kr_smoothed = covid_kr[\"new_cases_smoothed\"]\n",
    "covid_kr_smoothed.index = pd.to_datetime(covid_kr[\"date\"])\n",
    "covid_kr_smoothed"
   ]
  },
  {
   "cell_type": "code",
   "execution_count": null,
   "metadata": {
    "colab": {
     "base_uri": "https://localhost:8080/"
    },
    "executionInfo": {
     "elapsed": 3,
     "status": "ok",
     "timestamp": 1625406867759,
     "user": {
      "displayName": "이성준",
      "photoUrl": "",
      "userId": "17660701608448574543"
     },
     "user_tz": -540
    },
    "id": "Tk8lAzEFf3vO",
    "outputId": "76c24545-d8da-491c-bc85-47c703498771"
   },
   "outputs": [
    {
     "data": {
      "text/plain": [
       "date\n",
       "2020-01-23      0.0\n",
       "2020-01-24      1.0\n",
       "2020-01-25      0.0\n",
       "2020-01-26      1.0\n",
       "2020-01-27      1.0\n",
       "              ...  \n",
       "2021-06-29    794.0\n",
       "2021-06-30    762.0\n",
       "2021-07-01    826.0\n",
       "2021-07-02    793.0\n",
       "2021-07-03    742.0\n",
       "Name: new_cases, Length: 528, dtype: float64"
      ]
     },
     "execution_count": 24,
     "metadata": {
      "tags": []
     },
     "output_type": "execute_result"
    }
   ],
   "source": [
    "covid_kr_raw = covid_kr[\"new_cases\"]\n",
    "covid_kr_raw.index = pd.to_datetime(covid_kr[\"date\"])\n",
    "covid_kr_raw"
   ]
  },
  {
   "cell_type": "markdown",
   "metadata": {
    "id": "2FZg-DxpfJFs"
   },
   "source": [
    "## 재난문자 발송량과 신규확진자수 그래프 그리기\n",
    "[x축을 공유하는 그래프 그리는법](https://matplotlib.org/2.2.5/gallery/api/two_scales.html)"
   ]
  },
  {
   "cell_type": "code",
   "execution_count": null,
   "metadata": {
    "colab": {
     "base_uri": "https://localhost:8080/",
     "height": 227
    },
    "executionInfo": {
     "elapsed": 2027,
     "status": "ok",
     "timestamp": 1625406869784,
     "user": {
      "displayName": "이성준",
      "photoUrl": "",
      "userId": "17660701608448574543"
     },
     "user_tz": -540
    },
    "id": "vMC3-Sjgbhu5",
    "outputId": "fa18eeb2-7b19-477a-f497-575b2db08b50"
   },
   "outputs": [
    {
     "data": {
      "image/png": "[encoded data removed]",
      "text/plain": [
       "<Figure size 1152x288 with 2 Axes>"
      ]
     },
     "metadata": {
      "needs_background": "light",
      "tags": []
     },
     "output_type": "display_data"
    }
   ],
   "source": [
    "fig, ax1 = plt.subplots(figsize=(16, 4))\n",
    "\n",
    "color = \"tab:orange\"\n",
    "ax1.set_ylabel(\"confirmed_cases\", color=color)\n",
    "# 선형그래프 - smoothed\n",
    "ax1.plot(covid_kr_smoothed, color=color)\n",
    "# 막대그래프 - 원본값\n",
    "ax1.bar(covid_kr_raw.index, covid_kr_raw.values, color=\"moccasin\")\n",
    "\n",
    "# 새로운 y축을 만들어준다.\n",
    "ax2 = ax1.twinx()\n",
    "color= \"tab:blue\"\n",
    "ax2.set_ylabel(\"message_sent\", color=color)\n",
    "ax2.plot(msg_sent_smoothed, color=color)\n",
    "ax2.plot(msg_sent_smoothed.iloc[peaks], \"r^\", ms=8)\n",
    "\n",
    "fig.tight_layout()"
   ]
  }
 ],
 "metadata": {
  "colab": {
   "collapsed_sections": [],
   "name": "safety_msg_second_preprocessing.csv",
   "provenance": [
    {
     "file_id": "1wkU6ML5mBrtR-kJPUzLEyYsOP1OeF7DB",
     "timestamp": 1625625543955
    }
   ]
  },
  "kernelspec": {
   "display_name": "Python 3",
   "language": "python",
   "name": "python3"
  },
  "language_info": {
   "codemirror_mode": {
    "name": "ipython",
    "version": 3
   },
   "file_extension": ".py",
   "mimetype": "text/x-python",
   "name": "python",
   "nbconvert_exporter": "python",
   "pygments_lexer": "ipython3",
   "version": "3.8.5"
  }
 },
 "nbformat": 4,
 "nbformat_minor": 1
}
