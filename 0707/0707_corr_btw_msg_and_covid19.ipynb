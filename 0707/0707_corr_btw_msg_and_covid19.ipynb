{
 "cells": [
  {
   "cell_type": "markdown",
   "metadata": {
    "id": "KvboCc6u7IVb"
   },
   "source": [
    "# 재난문자와 코로나의 상관관계 수치로 파악하기\n",
    "\n",
    "##[[방법]](https://pandas.pydata.org/pandas-docs/stable/reference/api/pandas.DataFrame.corrwith.html)"
   ]
  },
  {
   "cell_type": "code",
   "execution_count": 36,
   "metadata": {
    "id": "mpfx_uBB28OM"
   },
   "outputs": [],
   "source": [
    "import pandas as pd\n",
    "import os"
   ]
  },
  {
   "cell_type": "code",
   "execution_count": 37,
   "metadata": {
    "id": "zoqfbiSv2_8Q"
   },
   "outputs": [],
   "source": [
    "# 코로나 데이터, 문자 데이터 불러오고 날짜 값 datetime으로 변환해주기\n",
    "covid = pd.read_csv(\"https://github.com/owid/covid-19-data/raw/master/public/data/owid-covid-data.csv\", parse_dates=[\"date\"])\n",
    "msg = pd.read_csv(\"../safety_msg_crawling_total.csv\", parse_dates=[\"create_date\"],engine='python')"
   ]
  },
  {
   "cell_type": "code",
   "execution_count": 38,
   "metadata": {
    "id": "H3xeLHOQ3PZ6"
   },
   "outputs": [],
   "source": [
    "# South Korea 필터 & 날짜 필터\n",
    "covid = covid[covid[\"location\"] == \"South Korea\"]\n",
    "covid = covid.loc[(\"2020-03-01\" <= covid[\"date\"]) & (covid[\"date\"] < \"2021-03-01\"), :]\n",
    "msg = msg.loc[(\"2020-03-01\" <= msg[\"create_date\"]) & (msg[\"create_date\"] < \"2021-03-01\"), :]"
   ]
  },
  {
   "cell_type": "code",
   "execution_count": 39,
   "metadata": {
    "id": "ZfU79Ulf3go2"
   },
   "outputs": [],
   "source": [
    "# 날짜별로 문자 개수 세어주기\n",
    "msg = msg[\"create_date\"].groupby(msg.create_date.dt.date).count()"
   ]
  },
  {
   "cell_type": "code",
   "execution_count": 40,
   "metadata": {
    "colab": {
     "base_uri": "https://localhost:8080/"
    },
    "executionInfo": {
     "elapsed": 8,
     "status": "ok",
     "timestamp": 1625576778179,
     "user": {
      "displayName": "이성준",
      "photoUrl": "",
      "userId": "17660701608448574543"
     },
     "user_tz": -540
    },
    "id": "024AWw0p6wnJ",
    "outputId": "3ed5ff9f-675a-470f-addb-ad172088b38e"
   },
   "outputs": [
    {
     "data": {
      "text/plain": [
       "(365, 365)"
      ]
     },
     "execution_count": 40,
     "metadata": {},
     "output_type": "execute_result"
    }
   ],
   "source": [
    "# 필터링된 날짜의 개수가 같은지 더블 체크\n",
    "len(covid), len(msg)"
   ]
  },
  {
   "cell_type": "code",
   "execution_count": 41,
   "metadata": {
    "id": "XrZy2Ml93wpp"
   },
   "outputs": [],
   "source": [
    "# 인덱스의 값과 길이가 같아야만 corrwith가 가능하다 (적어도 제가 알기론...)\n",
    "msg.reset_index(drop=True, inplace=True)\n",
    "covid.reset_index(drop=True, inplace=True)"
   ]
  },
  {
   "cell_type": "code",
   "execution_count": 42,
   "metadata": {
    "colab": {
     "base_uri": "https://localhost:8080/"
    },
    "executionInfo": {
     "elapsed": 7,
     "status": "ok",
     "timestamp": 1625576778180,
     "user": {
      "displayName": "이성준",
      "photoUrl": "",
      "userId": "17660701608448574543"
     },
     "user_tz": -540
    },
    "id": "0qjTg6rc30Gv",
    "outputId": "5c6db21d-6b21-4d88-80d1-7f9c86603b0b"
   },
   "outputs": [
    {
     "data": {
      "text/plain": [
       "new_cases            0.686657\n",
       "new_deaths           0.458647\n",
       "new_tests            0.500587\n",
       "new_vaccinations     0.997662\n",
       "people_vaccinated   -0.260231\n",
       "dtype: float64"
      ]
     },
     "execution_count": 42,
     "metadata": {},
     "output_type": "execute_result"
    }
   ],
   "source": [
    "# covid와 msg간의 상관관계를 계산한 다음, 그 중 new_cases, new_deaths를 비교하는 것.\n",
    "# () 안에는 Series나 DataFrame이 들어가도 된다. 개인적으로 Series 추천. (그냥 dataframe[\"column 이름\"]으로 괄호안에 넣어주면 그게 Series이다.)\n",
    "covid.corrwith(msg)[[\"new_cases\", \"new_deaths\",'new_tests','new_vaccinations','people_vaccinated']]"
   ]
  },
  {
   "cell_type": "code",
   "execution_count": 43,
   "metadata": {},
   "outputs": [
    {
     "ename": "SyntaxError",
     "evalue": "cannot assign to function call (<ipython-input-43-e44def288570>, line 3)",
     "output_type": "error",
     "traceback": [
      "\u001b[1;36m  File \u001b[1;32m\"<ipython-input-43-e44def288570>\"\u001b[1;36m, line \u001b[1;32m3\u001b[0m\n\u001b[1;33m    msg2train[\"datetime\"].describe(datetime_is_numeric=True) = pd.read_csv(\"../safety_msg_crawling_total.csv\", parse_dates=[\"create_date\"],engine='python')\u001b[0m\n\u001b[1;37m    ^\u001b[0m\n\u001b[1;31mSyntaxError\u001b[0m\u001b[1;31m:\u001b[0m cannot assign to function call\n"
     ]
    }
   ],
   "source": [
    "# 코로나 데이터, 문자 데이터 불러오고 날짜 값 datetime으로 변환해주기\n",
    "covid1 = pd.read_csv(\"https://github.com/owid/covid-19-data/raw/master/public/data/owid-covid-data.csv\", parse_dates=[\"date\"])\n",
    "msg2train[\"datetime\"].describe(datetime_is_numeric=True) = pd.read_csv(\"../safety_msg_crawling_total.csv\", parse_dates=[\"create_date\"],engine='python')"
   ]
  },
  {
   "cell_type": "code",
   "execution_count": null,
   "metadata": {},
   "outputs": [],
   "source": [
    "# South Korea 필터 & 날짜 필터\n",
    "covid1 = covid[covid[\"location\"] == \"South Korea\"]\n",
    "covid1 = covid.loc[(\"2021-03-01\" <= covid[\"date\"]) & (covid[\"date\"] < \"2021-06-01\"), :]\n",
    "msg1 = msg.loc[(\"2021-03-01\" <= msg[\"create_date\"]) & (msg[\"create_date\"] < \"2021-06-01\"), :]"
   ]
  },
  {
   "cell_type": "code",
   "execution_count": null,
   "metadata": {},
   "outputs": [],
   "source": [
    "# 날짜별로 문자 개수 세어주기\n",
    "msg = msg[\"create_date\"].groupby(msg.create_date.dt.date).count()"
   ]
  },
  {
   "cell_type": "code",
   "execution_count": null,
   "metadata": {},
   "outputs": [],
   "source": []
  }
 ],
 "metadata": {
  "colab": {
   "authorship_tag": "ABX9TyNtb5qdprhd9xEwYhfhZArL",
   "collapsed_sections": [],
   "name": "corr_btw_msg_and_covid19.ipynb",
   "provenance": []
  },
  "kernelspec": {
   "display_name": "Python 3",
   "language": "python",
   "name": "python3"
  },
  "language_info": {
   "codemirror_mode": {
    "name": "ipython",
    "version": 3
   },
   "file_extension": ".py",
   "mimetype": "text/x-python",
   "name": "python",
   "nbconvert_exporter": "python",
   "pygments_lexer": "ipython3",
   "version": "3.8.5"
  }
 },
 "nbformat": 4,
 "nbformat_minor": 1
}
