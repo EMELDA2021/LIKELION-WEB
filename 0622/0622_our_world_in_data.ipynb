{
 "cells": [
  {
   "cell_type": "code",
   "execution_count": 49,
   "metadata": {},
   "outputs": [],
   "source": [
    "from IPython.display import display, Image\n",
    "import os, warnings\n",
    "import re\n",
    "warnings.filterwarnings(action='ignore')"
   ]
  },
  {
   "cell_type": "code",
   "execution_count": 50,
   "metadata": {},
   "outputs": [],
   "source": [
    "from selenium import webdriver\n",
    "from bs4 import BeautifulSoup"
   ]
  },
  {
   "cell_type": "code",
   "execution_count": 51,
   "metadata": {},
   "outputs": [],
   "source": [
    "driver = webdriver.Chrome('../chromedriver_90')\n",
    "## https://www.amazon.com/\n",
    "url = 'https://ourworldindata.org/covid-vaccinations'\n",
    "driver.get(url)"
   ]
  },
  {
   "cell_type": "code",
   "execution_count": 52,
   "metadata": {},
   "outputs": [],
   "source": [
    "import time\n",
    "time.sleep(3)  # 홈페이지 로딩 시간 3초"
   ]
  },
  {
   "cell_type": "code",
   "execution_count": 46,
   "metadata": {},
   "outputs": [],
   "source": [
    "for i in range(0,10):\n",
    "    time.sleep(1)\n",
    "    # 현재 상태에서 150만큼 쭉쭉 10번 내리기\n",
    "    driver.execute_script(\"window.scrollTo(0, window.scrollY + 150);\")"
   ]
  },
  {
   "cell_type": "code",
   "execution_count": 54,
   "metadata": {},
   "outputs": [],
   "source": [
    "sel_table = driver.find_element_by_xpath('/html/body/main/article/div[3]/div[2]/div/div/section[1]/figure/div/div[3]/div/div[4]/div[2]/nav/ul/li[3]/a')\n",
    "sel_table.click()"
   ]
  },
  {
   "cell_type": "code",
   "execution_count": 55,
   "metadata": {},
   "outputs": [
    {
     "name": "stdout",
     "output_type": "stream",
     "text": [
      "220\n"
     ]
    }
   ],
   "source": [
    "sel_country = driver.find_elements_by_xpath('/html/body/main/article/div[3]/div[2]/div/div/section[1]/figure/div/div[3]/div/div[1]/div/table/tbody/tr/td[1]')\n",
    "print( len(sel_country) )"
   ]
  },
  {
   "cell_type": "code",
   "execution_count": 56,
   "metadata": {},
   "outputs": [
    {
     "name": "stdout",
     "output_type": "stream",
     "text": [
      "220\n"
     ]
    }
   ],
   "source": [
    "sel_dose1 = driver.find_elements_by_xpath('/html/body/main/article/div[3]/div[2]/div/div/section[1]/figure/div/div[3]/div/div[1]/div/table/tbody/tr/td[3]')\n",
    "print( len(sel_dose1))"
   ]
  },
  {
   "cell_type": "code",
   "execution_count": 57,
   "metadata": {},
   "outputs": [
    {
     "name": "stdout",
     "output_type": "stream",
     "text": [
      "d1 = 2021_06_22\n"
     ]
    }
   ],
   "source": [
    "### 오늘 날짜\n",
    "from datetime import date\n",
    "today = date.today()\n",
    "# dd/mm/YY\n",
    "d1 = today.strftime(\"%Y_%m_%d\")\n",
    "print(\"d1 =\", d1)"
   ]
  },
  {
   "cell_type": "code",
   "execution_count": 58,
   "metadata": {},
   "outputs": [
    {
     "name": "stdout",
     "output_type": "stream",
     "text": [
      "['Afghanistan', 'Africa', 'Albania', 'Algeria', 'Andorra', 'Angola', 'Anguilla', 'Antigua and Barbuda', 'Argentina', 'Armenia', 'Aruba', 'Asia', 'Australia', 'Austria', 'Azerbaijan', 'Bahamas', 'Bahrain', 'Bangladesh', 'Barbados', 'Belarus', 'Belgium', 'Belize', 'Benin', 'Bermuda', 'Bhutan', 'Bolivia', 'Bonaire Sint Eustatius and Saba', 'Bosnia and Herzegovina', 'Botswana', 'Brazil', 'British Virgin Islands', 'Brunei', 'Bulgaria', 'Burkina Faso', 'Cambodia', 'Cameroon', 'Canada', 'Cape Verde', 'Cayman Islands', 'Central African Republic', 'Chad', 'Chile', 'China', 'Colombia', 'Comoros', 'Congo', 'Cook Islands', 'Costa Rica', \"Cote d'Ivoire\", 'Croatia', 'Cuba', 'Curacao', 'Cyprus', 'Czechia', 'Democratic Republic of Congo', 'Denmark', 'Djibouti', 'Dominica', 'Dominican Republic', 'Ecuador', 'Egypt', 'El Salvador', 'Equatorial Guinea', 'Estonia', 'Eswatini', 'Ethiopia', 'Europe', 'European Union', 'Faeroe Islands', 'Falkland Islands', 'Fiji', 'Finland', 'France', 'French Polynesia', 'Gabon', 'Gambia', 'Georgia', 'Germany', 'Ghana', 'Gibraltar', 'Greece', 'Greenland', 'Grenada', 'Guatemala', 'Guernsey', 'Guinea', 'Guinea-Bissau', 'Guyana', 'Honduras', 'Hong Kong', 'Hungary', 'Iceland', 'India', 'Indonesia', 'Iran', 'Iraq', 'Ireland', 'Isle of Man', 'Israel', 'Italy', 'Jamaica', 'Japan', 'Jersey', 'Jordan', 'Kazakhstan', 'Kenya', 'Kosovo', 'Kuwait', 'Kyrgyzstan', 'Laos', 'Latvia', 'Lebanon', 'Lesotho', 'Liberia', 'Libya', 'Liechtenstein', 'Lithuania', 'Luxembourg', 'Macao', 'Madagascar', 'Malawi', 'Malaysia', 'Maldives', 'Mali', 'Malta', 'Mauritania', 'Mauritius', 'Mexico', 'Moldova', 'Monaco', 'Mongolia', 'Montenegro', 'Montserrat', 'Morocco', 'Mozambique', 'Myanmar', 'Namibia', 'Nauru', 'Nepal', 'Netherlands', 'New Caledonia', 'New Zealand', 'Nicaragua', 'Niger', 'Nigeria', 'North America', 'North Macedonia', 'Northern Cyprus', 'Norway', 'Oceania', 'Oman', 'Pakistan', 'Palestine', 'Panama', 'Papua New Guinea', 'Paraguay', 'Peru', 'Philippines', 'Pitcairn', 'Poland', 'Portugal', 'Qatar', 'Romania', 'Russia', 'Rwanda', 'Saint Helena', 'Saint Kitts and Nevis', 'Saint Lucia', 'Saint Vincent and the Grenadines', 'Samoa', 'San Marino', 'Sao Tome and Principe', 'Senegal', 'Serbia', 'Seychelles', 'Sierra Leone', 'Singapore', 'Sint Maarten (Dutch part)', 'Slovakia', 'Slovenia', 'Solomon Islands', 'Somalia', 'South Africa', 'South America', 'South Korea', 'South Sudan', 'Spain', 'Sri Lanka', 'Sudan', 'Suriname', 'Sweden', 'Switzerland', 'Syria', 'Taiwan', 'Tajikistan', 'Thailand', 'Timor', 'Togo', 'Tonga', 'Trinidad and Tobago', 'Tunisia', 'Turkey', 'Turkmenistan', 'Turks and Caicos Islands', 'Tuvalu', 'Uganda', 'Ukraine', 'United Arab Emirates', 'United Kingdom', 'United States', 'Uruguay', 'Uzbekistan', 'Vanuatu', 'Venezuela', 'Vietnam', 'Wallis and Futuna', 'World', 'Yemen', 'Zambia', 'Zimbabwe']\n",
      "['1.25', '2.44', '17.93', '5.70', '44.84', '2.64', '61.21', '36.36', '31.86', '1.57', '62.63', '22.01', '22.35', '49.55', '19.23', '13.78', '61.34', '3.54', '31.57', '7.40', '54.62', '19.15', '0.18', '66.16', '62.75', '13.84', '21.84', '7.70', '6.38', '29.52', '41.03', '12.57', '13.12', '0.09', '20.13', '0.30', '66.52', '10.93', '71.52', '0.85', '0.03', '63.20', '43.21', '19.99', '4.96', '0.41', '54.59', '27.67', '2.75', '35.34', '19.81', '53.67', '50.59', '44.60', '0.05', '51.98', '1.27', '27.97', '41.87', '13.33', '3.24', '21.98', '10.59', '41.03', '3.04', '1.65', '38.15', '47.05', '53.11', '75.57', '26.54', '55.55', '47.34', '23.05', '1.32', '1.26', '5.88', '50.47', '2.74', '116.15', '43.43', '38.51', '16.91', '3.69', '49.17', '2.56', '0.95', '28.44', '4.89', '25.88', '56.02', '69.98', '16.27', '8.42', '4.74', '1.23', '44.91', '73.40', '63.49', '51.99', '5.51', '17.74', '64.45', '20.59', '14.61', '1.85', '6.00', '67.32', '1.35', '10.36', '33.65', '11.16', '1.71', '1.35', '5.11', '46.87', '44.37', '45.26', '31.69', '0.68', '2.00', '12.98', '58.30', '0.64', '79.83', '2.77', '29.91', '21.53', '9.95', '48.00', '58.33', '23.56', '27.89', '25.40', '1.02', '3.26', '4.10', '68.65', '8.58', '50.25', '19.36', '11.76', '2.53', '0.71', '0.95', '41.02', '13.19', '19.74', '40.17', '15.88', '10.49', '4.62', '8.73', '21.53', '0.43', '5.92', '11.46', '5.71', '100.00', '42.68', '47.77', '56.25', '24.09', '13.47', '2.71', '71.83', '41.38', '16.37', '16.60', '20.28', '65.33', '5.65', '2.87', '39.59', '71.85', '1.03', '46.16', '47.47', '35.50', '38.44', '2.47', '0.85', '3.61', '25.81', '29.29', '0.24', '48.52', '11.47', '1.16', '24.66', '42.73', '45.28', '0.41', '4.14', '0.93', '7.86', '7.87', '3.27', '27.09', '12.64', '9.86', '33.35', '0.53', '58.63', '40.47', '1.80', '3.95', '51.38', '63.53', '52.95', '61.80', '4.85', '1.67', '3.79', '2.36', '39.75', '21.81', '0.84', '0.77', '4.73']\n",
      "[['Jun', '14,'], '2021_06_22', '2021_06_22', ['Jun', '6,'], ['Jun', '14,'], '2021_06_22', ['Jun', '18,'], ['Jun', '17,'], '2021_06_22', ['Jun', '6,'], '2021_06_22', '2021_06_22', '2021_06_22', '2021_06_22', '2021_06_22', ['Jun', '19,'], '2021_06_22', ['Jun', '19,'], ['Jun', '17,'], ['Jun', '13,'], '2021_06_22', ['Jun', '17,'], ['Jun', '8,'], ['Jun', '14,'], ['Jun', '13,'], ['Jun', '18,'], ['Apr', '9,'], ['Jun', '13,'], ['Jun', '7,'], '2021_06_22', ['Jun', '18,'], ['Jun', '19,'], '2021_06_22', ['Jun', '14,'], '2021_06_22', '2021_06_22', '2021_06_22', '2021_06_22', ['Jun', '17,'], ['Jun', '15,'], ['Jun', '10,'], ['Jun', '18,'], ['Jun', '10,'], '2021_06_22', ['Jun', '8,'], ['May', '18,'], ['Jun', '15,'], ['Jun', '14,'], '2021_06_22', '2021_06_22', ['Jun', '19,'], '2021_06_22', ['Jun', '17,'], '2021_06_22', '2021_06_22', '2021_06_22', ['Jun', '1,'], ['Jun', '14,'], '2021_06_22', ['Jun', '19,'], '2021_06_22', ['Jun', '18,'], ['Jun', '17,'], '2021_06_22', ['May', '13,'], ['Jun', '8,'], '2021_06_22', '2021_06_22', '2021_06_22', ['Apr', '14,'], ['Jun', '15,'], '2021_06_22', ['Jun', '19,'], ['Jun', '15,'], ['Jun', '18,'], ['Jun', '8,'], '2021_06_22', '2021_06_22', '2021_06_22', ['Jun', '12,'], '2021_06_22', ['Jun', '18,'], ['Jun', '18,'], ['Jun', '19,'], ['Apr', '20,'], ['Jun', '17,'], ['Jun', '8,'], ['Jun', '16,'], ['Jun', '18,'], '2021_06_22', '2021_06_22', ['Jun', '17,'], '2021_06_22', '2021_06_22', ['Jun', '14,'], ['Jun', '14,'], ['Jun', '13,'], '2021_06_22', '2021_06_22', '2021_06_22', ['Jun', '11,'], '2021_06_22', ['Jun', '13,'], '2021_06_22', '2021_06_22', '2021_06_22', '2021_06_22', ['Jun', '13,'], ['Jun', '9,'], ['Jun', '19,'], '2021_06_22', '2021_06_22', ['May', '21,'], '2021_06_22', ['Jun', '16,'], ['Jun', '16,'], '2021_06_22', ['Jun', '18,'], '2021_06_22', '2021_06_22', ['Jun', '19,'], '2021_06_22', ['Jun', '19,'], '2021_06_22', '2021_06_22', '2021_06_22', '2021_06_22', ['Jun', '19,'], '2021_06_22', ['Jun', '10,'], '2021_06_22', '2021_06_22', ['Jun', '18,'], ['Jun', '19,'], ['Jun', '10,'], ['May', '13,'], '2021_06_22', ['Jun', '8,'], ['Jun', '19,'], '2021_06_22', ['Jun', '15,'], ['Jun', '15,'], ['May', '21,'], ['Jun', '14,'], ['Jun', '4,'], '2021_06_22', ['Jun', '17,'], ['May', '27,'], '2021_06_22', '2021_06_22', ['Jun', '15,'], ['Jun', '19,'], ['Jun', '19,'], ['Jun', '19,'], ['Jun', '7,'], ['Jun', '17,'], ['Jun', '18,'], '2021_06_22', ['Jun', '15,'], '2021_06_22', '2021_06_22', '2021_06_22', '2021_06_22', '2021_06_22', ['Jun', '6,'], ['May', '5,'], ['Jun', '15,'], ['Jun', '19,'], ['May', '19,'], ['Jun', '15,'], '2021_06_22', ['Jun', '14,'], ['Jun', '15,'], '2021_06_22', ['Jun', '18,'], '2021_06_22', ['Jun', '14,'], ['Jun', '18,'], '2021_06_22', '2021_06_22', ['Jun', '8,'], ['Jun', '18,'], ['Jun', '19,'], '2021_06_22', '2021_06_22', '2021_06_22', ['Jun', '17,'], '2021_06_22', '2021_06_22', '2021_06_22', ['Jun', '18,'], ['Jun', '16,'], ['Jun', '6,'], ['Jun', '15,'], ['Jun', '13,'], ['Jun', '19,'], ['Jun', '15,'], ['Jun', '10,'], ['Jun', '1,'], '2021_06_22', '2021_06_22', '2021_06_22', ['Apr', '4,'], ['Jun', '18,'], ['Jun', '15,'], ['Jun', '16,'], '2021_06_22', ['Apr', '20,'], '2021_06_22', '2021_06_22', ['Jun', '18,'], ['Jun', '15,'], ['Jun', '15,'], ['Jun', '18,'], '2021_06_22', ['Jun', '15,'], '2021_06_22', '2021_06_22', ['Jun', '15,'], '2021_06_22']\n"
     ]
    }
   ],
   "source": [
    "country = []\n",
    "dose1 = []\n",
    "date_all = []\n",
    "for data1, data2 in zip(sel_country, sel_dose1):\n",
    "    # print(data1.text, data2.text)\n",
    "    country.append(data1.text)\n",
    "    tmp1 = data2.text.split()\n",
    "    # print(tmp1)\n",
    "    if len(tmp1) >= 3:\n",
    "        tmp2 = tmp1[-1]       # 접종률(1차)\n",
    "        dose1_tmp = tmp2.replace(\"%\", \"\")\n",
    "        date = tmp1[:-2]         # 날짜\n",
    "        date_all.append(date)    # 날짜 추가\n",
    "        dose1.append(dose1_tmp)    # 접종률(1차) 추가\n",
    "    else:\n",
    "        date_all.append(d1)      # 날짜 추가\n",
    "        dose1_tmp = data2.text.replace(\"%\", \"\")\n",
    "        dose1.append(dose1_tmp) # 접종률(1차)\n",
    "print( country )\n",
    "print( dose1 )\n",
    "print( date_all )"
   ]
  },
  {
   "cell_type": "code",
   "execution_count": 59,
   "metadata": {},
   "outputs": [],
   "source": [
    "import pandas as pd"
   ]
  },
  {
   "cell_type": "code",
   "execution_count": 60,
   "metadata": {},
   "outputs": [
    {
     "name": "stdout",
     "output_type": "stream",
     "text": [
      "Index(['나라', '1차 접종률(%)', '날짜'], dtype='object')\n",
      "            나라 1차 접종률(%)          날짜\n",
      "0  Afghanistan      1.25  [Jun, 14,]\n",
      "1       Africa      2.44  2021_06_22\n",
      "2      Albania     17.93  2021_06_22\n",
      "3      Algeria      5.70   [Jun, 6,]\n",
      "4      Andorra     44.84  [Jun, 14,]\n"
     ]
    }
   ],
   "source": [
    "dict_dat = { \"나라\":country, \"1차 접종률(%)\":dose1, \"날짜\":date_all }\n",
    "dat = pd.DataFrame(dict_dat)\n",
    "print( dat.columns )\n",
    "print( dat.head(5) )"
   ]
  },
  {
   "cell_type": "code",
   "execution_count": 61,
   "metadata": {},
   "outputs": [
    {
     "data": {
      "text/html": [
       "<div>\n",
       "<style scoped>\n",
       "    .dataframe tbody tr th:only-of-type {\n",
       "        vertical-align: middle;\n",
       "    }\n",
       "\n",
       "    .dataframe tbody tr th {\n",
       "        vertical-align: top;\n",
       "    }\n",
       "\n",
       "    .dataframe thead th {\n",
       "        text-align: right;\n",
       "    }\n",
       "</style>\n",
       "<table border=\"1\" class=\"dataframe\">\n",
       "  <thead>\n",
       "    <tr style=\"text-align: right;\">\n",
       "      <th></th>\n",
       "      <th>나라</th>\n",
       "      <th>1차 접종률(%)</th>\n",
       "      <th>날짜</th>\n",
       "    </tr>\n",
       "  </thead>\n",
       "  <tbody>\n",
       "    <tr>\n",
       "      <th>0</th>\n",
       "      <td>Gibraltar</td>\n",
       "      <td>116.150002</td>\n",
       "      <td>[Jun, 12,]</td>\n",
       "    </tr>\n",
       "    <tr>\n",
       "      <th>1</th>\n",
       "      <td>Pitcairn</td>\n",
       "      <td>100.000000</td>\n",
       "      <td>[Jun, 15,]</td>\n",
       "    </tr>\n",
       "    <tr>\n",
       "      <th>2</th>\n",
       "      <td>Malta</td>\n",
       "      <td>79.830002</td>\n",
       "      <td>2021_06_22</td>\n",
       "    </tr>\n",
       "    <tr>\n",
       "      <th>3</th>\n",
       "      <td>Falkland Islands</td>\n",
       "      <td>75.570000</td>\n",
       "      <td>[Apr, 14,]</td>\n",
       "    </tr>\n",
       "    <tr>\n",
       "      <th>4</th>\n",
       "      <td>Isle of Man</td>\n",
       "      <td>73.400002</td>\n",
       "      <td>2021_06_22</td>\n",
       "    </tr>\n",
       "    <tr>\n",
       "      <th>...</th>\n",
       "      <td>...</td>\n",
       "      <td>...</td>\n",
       "      <td>...</td>\n",
       "    </tr>\n",
       "    <tr>\n",
       "      <th>215</th>\n",
       "      <td>South Sudan</td>\n",
       "      <td>0.240000</td>\n",
       "      <td>2021_06_22</td>\n",
       "    </tr>\n",
       "    <tr>\n",
       "      <th>216</th>\n",
       "      <td>Benin</td>\n",
       "      <td>0.180000</td>\n",
       "      <td>[Jun, 8,]</td>\n",
       "    </tr>\n",
       "    <tr>\n",
       "      <th>217</th>\n",
       "      <td>Burkina Faso</td>\n",
       "      <td>0.090000</td>\n",
       "      <td>[Jun, 14,]</td>\n",
       "    </tr>\n",
       "    <tr>\n",
       "      <th>218</th>\n",
       "      <td>Democratic Republic of Congo</td>\n",
       "      <td>0.050000</td>\n",
       "      <td>2021_06_22</td>\n",
       "    </tr>\n",
       "    <tr>\n",
       "      <th>219</th>\n",
       "      <td>Chad</td>\n",
       "      <td>0.030000</td>\n",
       "      <td>[Jun, 10,]</td>\n",
       "    </tr>\n",
       "  </tbody>\n",
       "</table>\n",
       "<p>220 rows × 3 columns</p>\n",
       "</div>"
      ],
      "text/plain": [
       "                               나라   1차 접종률(%)          날짜\n",
       "0                       Gibraltar  116.150002  [Jun, 12,]\n",
       "1                        Pitcairn  100.000000  [Jun, 15,]\n",
       "2                           Malta   79.830002  2021_06_22\n",
       "3                Falkland Islands   75.570000  [Apr, 14,]\n",
       "4                     Isle of Man   73.400002  2021_06_22\n",
       "..                            ...         ...         ...\n",
       "215                   South Sudan    0.240000  2021_06_22\n",
       "216                         Benin    0.180000   [Jun, 8,]\n",
       "217                  Burkina Faso    0.090000  [Jun, 14,]\n",
       "218  Democratic Republic of Congo    0.050000  2021_06_22\n",
       "219                          Chad    0.030000  [Jun, 10,]\n",
       "\n",
       "[220 rows x 3 columns]"
      ]
     },
     "execution_count": 61,
     "metadata": {},
     "output_type": "execute_result"
    }
   ],
   "source": [
    "dat = dat.astype({'1차 접종률(%)': 'float32'})\n",
    "dat = dat.sort_values(\"1차 접종률(%)\",axis=0, ascending=False).reset_index(drop=True)\n",
    "dat"
   ]
  },
  {
   "cell_type": "code",
   "execution_count": 62,
   "metadata": {},
   "outputs": [
    {
     "data": {
      "text/plain": [
       "['.ipynb_checkpoints',\n",
       " '0622_corona.ipynb',\n",
       " '0622_corona2.ipynb',\n",
       " '0622_hw.ipynb',\n",
       " '0622_our_world_in_data.ipynb',\n",
       " 'README.md',\n",
       " 'today_corona.csv',\n",
       " 'today_corona_pre.csv',\n",
       " 'vaccine_2021_06_22.csv']"
      ]
     },
     "execution_count": 62,
     "metadata": {},
     "output_type": "execute_result"
    }
   ],
   "source": [
    "dat.to_csv(\"vaccine_\"+ str(d1) + \".csv\", index=False, encoding='EUCKR')\n",
    "os.listdir( os.getcwd() )"
   ]
  },
  {
   "cell_type": "code",
   "execution_count": null,
   "metadata": {},
   "outputs": [],
   "source": []
  }
 ],
 "metadata": {
  "kernelspec": {
   "display_name": "Python 3",
   "language": "python",
   "name": "python3"
  },
  "language_info": {
   "codemirror_mode": {
    "name": "ipython",
    "version": 3
   },
   "file_extension": ".py",
   "mimetype": "text/x-python",
   "name": "python",
   "nbconvert_exporter": "python",
   "pygments_lexer": "ipython3",
   "version": "3.8.5"
  }
 },
 "nbformat": 4,
 "nbformat_minor": 4
}
