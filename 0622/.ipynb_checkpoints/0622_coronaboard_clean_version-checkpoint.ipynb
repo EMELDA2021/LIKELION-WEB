{
 "cells": [
  {
   "cell_type": "markdown",
   "metadata": {
    "id": "8lMczeFAYVNM"
   },
   "source": [
    "## 코랩에서 Selenium 실행하기 (둘 중 하나만 실행)"
   ]
  },
  {
   "cell_type": "code",
   "execution_count": 1,
   "metadata": {
    "colab": {
     "base_uri": "https://localhost:8080/"
    },
    "executionInfo": {
     "elapsed": 39600,
     "status": "ok",
     "timestamp": 1624343629097,
     "user": {
      "displayName": "이성준",
      "photoUrl": "",
      "userId": "17660701608448574543"
     },
     "user_tz": -540
    },
    "id": "f-5QuxIcYVoN",
    "outputId": "fd149b8c-9860-40fc-c8ac-4faf3af11a51"
   },
   "outputs": [
    {
     "name": "stdout",
     "output_type": "stream",
     "text": [
      "\u001b[K     |████████████████████████████████| 61kB 4.6MB/s \n",
      "\u001b[K     |████████████████████████████████| 61kB 6.6MB/s \n",
      "\u001b[?25h"
     ]
    }
   ],
   "source": [
    "!pip install kora -q\n",
    "from kora.selenium import wd"
   ]
  },
  {
   "cell_type": "markdown",
   "metadata": {
    "id": "co-PVZ15YVyl"
   },
   "source": [
    "## 로컬에서 Selenium 실행하기 (둘 중 하나만 실행)"
   ]
  },
  {
   "cell_type": "code",
   "execution_count": 1,
   "metadata": {
    "executionInfo": {
     "elapsed": 76,
     "status": "ok",
     "timestamp": 1624343456651,
     "user": {
      "displayName": "이성준",
      "photoUrl": "",
      "userId": "17660701608448574543"
     },
     "user_tz": -540
    },
    "id": "yiQ7tRQZYWOu"
   },
   "outputs": [],
   "source": [
    "from selenium import webdriver"
   ]
  },
  {
   "cell_type": "code",
   "execution_count": 3,
   "metadata": {
    "executionInfo": {
     "elapsed": 4649,
     "status": "ok",
     "timestamp": 1624343461302,
     "user": {
      "displayName": "이성준",
      "photoUrl": "",
      "userId": "17660701608448574543"
     },
     "user_tz": -540
    },
    "id": "xHdkM03iVRmc"
   },
   "outputs": [],
   "source": [
    "wd = webdriver.Chrome(\"../chromedriver_90\")"
   ]
  },
  {
   "cell_type": "markdown",
   "metadata": {
    "id": "Xssn_37aVdog"
   },
   "source": [
    "## Selenium, pandas, os, time 모듈 불러오기"
   ]
  },
  {
   "cell_type": "code",
   "execution_count": 4,
   "metadata": {
    "executionInfo": {
     "elapsed": 19,
     "status": "ok",
     "timestamp": 1624343629098,
     "user": {
      "displayName": "이성준",
      "photoUrl": "",
      "userId": "17660701608448574543"
     },
     "user_tz": -540
    },
    "id": "zyyeE4wsGLXU"
   },
   "outputs": [],
   "source": [
    "import os, time\n",
    "import pandas as pd"
   ]
  },
  {
   "cell_type": "markdown",
   "metadata": {
    "id": "QaNnfiYJVpVT"
   },
   "source": [
    "## 드라이버로 웹페이지 열고 \"더보기\" 두 번 누르기"
   ]
  },
  {
   "cell_type": "code",
   "execution_count": 5,
   "metadata": {
    "executionInfo": {
     "elapsed": 2992,
     "status": "ok",
     "timestamp": 1624343632073,
     "user": {
      "displayName": "이성준",
      "photoUrl": "",
      "userId": "17660701608448574543"
     },
     "user_tz": -540
    },
    "id": "XBeIr7dYGaKl"
   },
   "outputs": [],
   "source": [
    "CORONABOARD_URL = \"https://coronaboard.kr\"\n",
    "wd.get(CORONABOARD_URL)"
   ]
  },
  {
   "cell_type": "code",
   "execution_count": 6,
   "metadata": {
    "executionInfo": {
     "elapsed": 10536,
     "status": "ok",
     "timestamp": 1624343642605,
     "user": {
      "displayName": "이성준",
      "photoUrl": "",
      "userId": "17660701608448574543"
     },
     "user_tz": -540
    },
    "id": "aLtizIE0Gjtt"
   },
   "outputs": [],
   "source": [
    "time.sleep(2)\n",
    "load_more_button = wd.find_element_by_id(\"show-more\")\n",
    "for _ in range(2):\n",
    "  time.sleep(4)\n",
    "  load_more_button.click()"
   ]
  },
  {
   "cell_type": "markdown",
   "metadata": {
    "id": "upGmsm0LHRMB"
   },
   "source": [
    "## 국가별 정보 가져오기 - (Row, 행)"
   ]
  },
  {
   "cell_type": "markdown",
   "metadata": {},
   "source": [
    "//*[@id=\"country-table\"]/div/div/table > table전체\n",
    "//*[@id=\"country-table\"]/div/div/table/thead/tr(국가별)/td[2] > 국가\n"
   ]
  },
  {
   "cell_type": "code",
   "execution_count": 11,
   "metadata": {
    "colab": {
     "base_uri": "https://localhost:8080/"
    },
    "executionInfo": {
     "elapsed": 25026,
     "status": "ok",
     "timestamp": 1624343667615,
     "user": {
      "displayName": "이성준",
      "photoUrl": "",
      "userId": "17660701608448574543"
     },
     "user_tz": -540
    },
    "id": "54T3ktPnNFo7",
    "outputId": "2355bf93-4869-410a-cdbc-783eb9d62746"
   },
   "outputs": [
    {
     "name": "stdout",
     "output_type": "stream",
     "text": [
      "소요시간: 28초\n"
     ]
    }
   ],
   "source": [
    "start_time = time.time()    # 타이머 시작\n",
    "all_data = []               # 전체 데이터\n",
    "\n",
    "# xpath를 통해 국가들 가져오기\n",
    "rows = wd.find_elements_by_xpath(f\"\"\"//*[@id=\"country-table\"]/div/div/table/tbody/tr\"\"\")\n",
    "\n",
    "# 국가별로 데이터 처리하기\n",
    "for row in rows:\n",
    "  # 여러개의 td 요소 찾기\n",
    "  columns = row.find_elements_by_tag_name(\"td\")\n",
    "  confirmed = int(\"\".join(columns[2].text.split(\"\\n\")[0].split(\",\")))    # 확진자수\n",
    "  death_toll = int(\"\".join(columns[3].text.split(\"\\n\")[0].split(\",\")))   # 사망자수\n",
    "  \n",
    "  # 완치자수 정보가 없는 경우, continue를 통해 현재 국가 건너뛰기\n",
    "  if columns[4].text != \"N/A\":\n",
    "    recovered = int(\"\".join(columns[4].text.split(\"\\n\")[0].split(\",\")))\n",
    "  else:\n",
    "    continue\n",
    "  \n",
    "  # 발생률 정보가 없는 경우, continue를 통해 현재 국가 건너뛰기\n",
    "  if columns[7].text != \"-\":\n",
    "    confirmed_rate = int(\"\".join(columns[7].text.split(\",\")))\n",
    "    population = int(confirmed / confirmed_rate * 1000000)      # 인구 = 확진자수 * 발생률 * 1,000,000\n",
    "  else:\n",
    "    continue\n",
    "\n",
    "  death_per_pop = round(int(death_toll) / population * 100, 5)  # % 단위, 소숫점 다섯째짜리까지 가져오기\n",
    "\n",
    "  # 국가별로 all_data에 딕셔너리로 넣어주기\n",
    "  all_data.append({\n",
    "      \"국가\": columns[1].text,\n",
    "      \"확진자\": confirmed,\n",
    "      \"사망자\": death_toll,\n",
    "      \"완치\": recovered,\n",
    "      \"발생률\": confirmed_rate,\n",
    "      \"인구\": population,\n",
    "      \"인구 대 사망자수\": death_per_pop\n",
    "  })\n",
    "\n",
    "end_time = time.time()    ## 타이머 종료\n",
    "print(f\"소요시간: {round(end_time-start_time)}초\")"
   ]
  },
  {
   "cell_type": "code",
   "execution_count": 12,
   "metadata": {
    "colab": {
     "base_uri": "https://localhost:8080/"
    },
    "executionInfo": {
     "elapsed": 24,
     "status": "ok",
     "timestamp": 1624343667615,
     "user": {
      "displayName": "이성준",
      "photoUrl": "",
      "userId": "17660701608448574543"
     },
     "user_tz": -540
    },
    "id": "uHaTxNOVSQwL",
    "outputId": "6bc4ea26-bf47-4b42-f097-00f259ef1ba5"
   },
   "outputs": [
    {
     "name": "stdout",
     "output_type": "stream",
     "text": [
      "           국가       확진자     사망자        완치     발생률          인구  인구 대 사망자수\n",
      "0        미국🇺🇸  34419838  617463  28767507  103987   331001355    0.18654\n",
      "1        인도🇮🇳  29977861  389302  28926038   21723  1380005570    0.02821\n",
      "2       브라질🇧🇷  17969806  502817  16288392   84540   212559806    0.23655\n",
      "3       프랑스🇫🇷   5757798  110778   5566394   88210    65273755    0.16971\n",
      "4        터키🇹🇷   5375593   49236   5237731   63738    84338903    0.05838\n",
      "..        ...       ...     ...       ...     ...         ...        ...\n",
      "211   마셜 제도🇲🇭         4       0         4      68       58823    0.00000\n",
      "212    바누아투🇻🇺         4       1         3      13      307692    0.00033\n",
      "213     사모아🇼🇸         3       0         3      15      200000    0.00000\n",
      "214  세인트헬레나🇸🇭         2       0         2     329        6079    0.00000\n",
      "215  미크로네시아🇫🇲         1       0         1       9      111111    0.00000\n",
      "\n",
      "[216 rows x 7 columns]\n"
     ]
    }
   ],
   "source": [
    "covid_data = pd.DataFrame(all_data)\n",
    "print(covid_data)"
   ]
  },
  {
   "cell_type": "code",
   "execution_count": 10,
   "metadata": {
    "colab": {
     "base_uri": "https://localhost:8080/"
    },
    "executionInfo": {
     "elapsed": 22,
     "status": "ok",
     "timestamp": 1624343667616,
     "user": {
      "displayName": "이성준",
      "photoUrl": "",
      "userId": "17660701608448574543"
     },
     "user_tz": -540
    },
    "id": "WkrHA3iASY8I",
    "outputId": "0bf9f569-50ce-4b21-fe36-e554d365ecfb"
   },
   "outputs": [
    {
     "name": "stdout",
     "output_type": "stream",
     "text": [
      "파일이 저장된 경로: C:\\Users\\ahah0\\Documents\\GitHub\\LIKELION-WEB\\0622\n"
     ]
    }
   ],
   "source": [
    "# 인구수로 정렬하고, 28개 국가까지 자르기 (인덱스 초기화),  ascending=False > 내림차순 정리\n",
    "covid_data = covid_data.sort_values(by = [\"인구\"], ascending=False).reset_index(drop=True).iloc[:28,:]\n",
    "# 인구 대 사망자수로 정렬하기 (인덱스 초기화)\n",
    "covid_data = covid_data.sort_values(by = [\"인구 대 사망자수\"], ascending=False).reset_index(drop=True)\n",
    "# csv로 내보내기\n",
    "covid_data.to_csv(\"covid_data.csv\")\n",
    "print(\"파일이 저장된 경로:\", os.getcwd())"
   ]
  },
  {
   "cell_type": "code",
   "execution_count": null,
   "metadata": {},
   "outputs": [],
   "source": []
  }
 ],
 "metadata": {
  "colab": {
   "authorship_tag": "ABX9TyNicvLvV6ePM4j0MzPT2Ovt",
   "name": "0622_coronaboard_clean_version.ipynb",
   "provenance": []
  },
  "kernelspec": {
   "display_name": "Python 3",
   "language": "python",
   "name": "python3"
  },
  "language_info": {
   "codemirror_mode": {
    "name": "ipython",
    "version": 3
   },
   "file_extension": ".py",
   "mimetype": "text/x-python",
   "name": "python",
   "nbconvert_exporter": "python",
   "pygments_lexer": "ipython3",
   "version": "3.8.5"
  }
 },
 "nbformat": 4,
 "nbformat_minor": 1
}
