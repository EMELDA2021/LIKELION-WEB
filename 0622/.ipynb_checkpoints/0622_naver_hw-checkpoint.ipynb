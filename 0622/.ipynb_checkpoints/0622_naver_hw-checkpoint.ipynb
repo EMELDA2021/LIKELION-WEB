{
 "cells": [
  {
   "cell_type": "code",
   "execution_count": 1,
   "metadata": {},
   "outputs": [],
   "source": [
    "from IPython.display import display, Image\n",
    "import os, warnings\n",
    "import re\n",
    "warnings.filterwarnings(action='ignore')"
   ]
  },
  {
   "cell_type": "code",
   "execution_count": 2,
   "metadata": {},
   "outputs": [],
   "source": [
    "from selenium import webdriver\n",
    "from bs4 import BeautifulSoup"
   ]
  },
  {
   "cell_type": "code",
   "execution_count": 3,
   "metadata": {},
   "outputs": [],
   "source": [
    "driver = webdriver.Chrome('../chromedriver_90')\n",
    "url = 'https://finance.naver.com/sise/'\n",
    "driver.get(url)\n",
    "import time\n",
    "time.sleep(3) # 홈페이지 로딩 시간 3초"
   ]
  },
  {
   "cell_type": "code",
   "execution_count": 6,
   "metadata": {},
   "outputs": [
    {
     "data": {
      "text/plain": [
       "<selenium.webdriver.remote.webelement.WebElement (session=\"a453e633339d610e4be6546889460a19\", element=\"2e538653-ddde-4e4a-83d8-743155245665\")>"
      ]
     },
     "execution_count": 6,
     "metadata": {},
     "output_type": "execute_result"
    }
   ],
   "source": [
    "sel_stock = driver.find_element_by_xpath('//*[@id=\"siselist_tab_0\"]')\n",
    "sel_stock"
   ]
  },
  {
   "cell_type": "markdown",
   "metadata": {},
   "source": [
    "//*[@id=\"siselist_tab_0\"]/tbody/tr[3]/td[1]/img\n",
    "\n",
    "//*[@id=\"siselist_tab_0\"]/tbody/tr[3]/td[4]/a\n",
    "//*[@id=\"siselist_tab_0\"]/tbody/tr[4]/td[4]/a\n",
    "\n",
    "//*[@id=\"siselist_tab_0\"]/tbody/tr[3]/td[11]"
   ]
  },
  {
   "cell_type": "code",
   "execution_count": 23,
   "metadata": {},
   "outputs": [
    {
     "name": "stdout",
     "output_type": "stream",
     "text": [
      "7\n",
      "['2', '2', '1', '1', '1', '2', '4']\n",
      "\n",
      "7\n",
      "['2', '2', '1', '2', '7', '2', '4']\n",
      "\n",
      "7\n",
      "['한세엠케이', '넥스턴바이오', '코세스', '옵티시스', '케어룸의료산업', '단디바이오', '삼성머스트스팩5호']\n",
      "\n",
      "7\n",
      "['8,200', '11,200', '11,000', '23,650', '11,050', '13,700', '11,400']\n",
      "\n",
      "7\n",
      "['상한\\n1,890', '상한\\n2,560', '상한\\n2,520', '상한\\n5,450', '상한\\n1,430', '상한\\n1,750', '상한\\n2,620']\n",
      "\n",
      "7\n",
      "['+29.95%', '+29.63%', '+29.72%', '+29.95%', '+14.86%', '+14.64%', '+29.84%']\n",
      "\n",
      "7\n",
      "['3,921,095', '10,332,117', '11,802,789', '5,002,565', '200', '37,038', '26,483,578']\n",
      "\n",
      "7\n",
      "['7,530', '9,720', '8,550', '17,650', '11,050', '12,000', '9,500']\n",
      "\n",
      "7\n",
      "['8,200', '11,200', '11,000', '23,650', '11,050', '13,700', '11,400']\n",
      "\n",
      "7\n",
      "['7,320', '9,120', '8,420', '17,500', '11,050', '12,000', '9,450']\n",
      "\n",
      "[1, 2, 3, 4, 5, 6, 7]\n",
      "[['2', '2', '1', '1', '1', '2', '4'], ['2', '2', '1', '2', '7', '2', '4'], ['한세엠케이', '넥스턴바이오', '코세스', '옵티시스', '케어룸의료산업', '단디바이오', '삼성머스트스팩5호'], ['8,200', '11,200', '11,000', '23,650', '11,050', '13,700', '11,400'], ['상한\\n1,890', '상한\\n2,560', '상한\\n2,520', '상한\\n5,450', '상한\\n1,430', '상한\\n1,750', '상한\\n2,620'], ['+29.95%', '+29.63%', '+29.72%', '+29.95%', '+14.86%', '+14.64%', '+29.84%'], ['3,921,095', '10,332,117', '11,802,789', '5,002,565', '200', '37,038', '26,483,578'], ['7,530', '9,720', '8,550', '17,650', '11,050', '12,000', '9,500'], ['8,200', '11,200', '11,000', '23,650', '11,050', '13,700', '11,400'], ['7,320', '9,120', '8,420', '17,500', '11,050', '12,000', '9,450']]\n"
     ]
    }
   ],
   "source": [
    "all_data = []\n",
    "for i in range(2, 12):\n",
    "     tmp = f'//*[@id=\"siselist_tab_0\"]/tbody/tr/td[{i}]'\n",
    "     sel_ele = driver.find_elements_by_xpath(tmp)\n",
    " \n",
    "     column_data = []\n",
    "     for one in sel_ele:\n",
    "         column_data.append(one.text)\n",
    " \n",
    "     print( len(sel_ele) )\n",
    "     all_data.append(column_data)\n",
    "     print(column_data)\n",
    "     print()\n",
    "\n",
    "rank=[]\n",
    "for i in range(1,8):\n",
    "    rank.append(i)\n",
    "\n",
    "print(rank)\n",
    "print(all_data)\n"
   ]
  },
  {
   "cell_type": "code",
   "execution_count": 14,
   "metadata": {},
   "outputs": [],
   "source": [
    "import pandas as pd"
   ]
  },
  {
   "cell_type": "code",
   "execution_count": 24,
   "metadata": {},
   "outputs": [
    {
     "data": {
      "text/html": [
       "<div>\n",
       "<style scoped>\n",
       "    .dataframe tbody tr th:only-of-type {\n",
       "        vertical-align: middle;\n",
       "    }\n",
       "\n",
       "    .dataframe tbody tr th {\n",
       "        vertical-align: top;\n",
       "    }\n",
       "\n",
       "    .dataframe thead th {\n",
       "        text-align: right;\n",
       "    }\n",
       "</style>\n",
       "<table border=\"1\" class=\"dataframe\">\n",
       "  <thead>\n",
       "    <tr style=\"text-align: right;\">\n",
       "      <th></th>\n",
       "      <th>순위</th>\n",
       "      <th>연속</th>\n",
       "      <th>누적</th>\n",
       "      <th>종목명</th>\n",
       "      <th>현재가</th>\n",
       "      <th>전일비</th>\n",
       "      <th>등락률</th>\n",
       "      <th>거래량</th>\n",
       "      <th>시가</th>\n",
       "      <th>고가</th>\n",
       "      <th>저가</th>\n",
       "    </tr>\n",
       "  </thead>\n",
       "  <tbody>\n",
       "    <tr>\n",
       "      <th>0</th>\n",
       "      <td>1</td>\n",
       "      <td>2</td>\n",
       "      <td>2</td>\n",
       "      <td>한세엠케이</td>\n",
       "      <td>8,200</td>\n",
       "      <td>상한\\n1,890</td>\n",
       "      <td>+29.95%</td>\n",
       "      <td>3,921,095</td>\n",
       "      <td>7,530</td>\n",
       "      <td>8,200</td>\n",
       "      <td>7,320</td>\n",
       "    </tr>\n",
       "    <tr>\n",
       "      <th>1</th>\n",
       "      <td>2</td>\n",
       "      <td>2</td>\n",
       "      <td>2</td>\n",
       "      <td>넥스턴바이오</td>\n",
       "      <td>11,200</td>\n",
       "      <td>상한\\n2,560</td>\n",
       "      <td>+29.63%</td>\n",
       "      <td>10,332,117</td>\n",
       "      <td>9,720</td>\n",
       "      <td>11,200</td>\n",
       "      <td>9,120</td>\n",
       "    </tr>\n",
       "    <tr>\n",
       "      <th>2</th>\n",
       "      <td>3</td>\n",
       "      <td>1</td>\n",
       "      <td>1</td>\n",
       "      <td>코세스</td>\n",
       "      <td>11,000</td>\n",
       "      <td>상한\\n2,520</td>\n",
       "      <td>+29.72%</td>\n",
       "      <td>11,802,789</td>\n",
       "      <td>8,550</td>\n",
       "      <td>11,000</td>\n",
       "      <td>8,420</td>\n",
       "    </tr>\n",
       "    <tr>\n",
       "      <th>3</th>\n",
       "      <td>4</td>\n",
       "      <td>1</td>\n",
       "      <td>2</td>\n",
       "      <td>옵티시스</td>\n",
       "      <td>23,650</td>\n",
       "      <td>상한\\n5,450</td>\n",
       "      <td>+29.95%</td>\n",
       "      <td>5,002,565</td>\n",
       "      <td>17,650</td>\n",
       "      <td>23,650</td>\n",
       "      <td>17,500</td>\n",
       "    </tr>\n",
       "    <tr>\n",
       "      <th>4</th>\n",
       "      <td>5</td>\n",
       "      <td>1</td>\n",
       "      <td>7</td>\n",
       "      <td>케어룸의료산업</td>\n",
       "      <td>11,050</td>\n",
       "      <td>상한\\n1,430</td>\n",
       "      <td>+14.86%</td>\n",
       "      <td>200</td>\n",
       "      <td>11,050</td>\n",
       "      <td>11,050</td>\n",
       "      <td>11,050</td>\n",
       "    </tr>\n",
       "    <tr>\n",
       "      <th>5</th>\n",
       "      <td>6</td>\n",
       "      <td>2</td>\n",
       "      <td>2</td>\n",
       "      <td>단디바이오</td>\n",
       "      <td>13,700</td>\n",
       "      <td>상한\\n1,750</td>\n",
       "      <td>+14.64%</td>\n",
       "      <td>37,038</td>\n",
       "      <td>12,000</td>\n",
       "      <td>13,700</td>\n",
       "      <td>12,000</td>\n",
       "    </tr>\n",
       "    <tr>\n",
       "      <th>6</th>\n",
       "      <td>7</td>\n",
       "      <td>4</td>\n",
       "      <td>4</td>\n",
       "      <td>삼성머스트스팩5호</td>\n",
       "      <td>11,400</td>\n",
       "      <td>상한\\n2,620</td>\n",
       "      <td>+29.84%</td>\n",
       "      <td>26,483,578</td>\n",
       "      <td>9,500</td>\n",
       "      <td>11,400</td>\n",
       "      <td>9,450</td>\n",
       "    </tr>\n",
       "  </tbody>\n",
       "</table>\n",
       "</div>"
      ],
      "text/plain": [
       "   순위 연속 누적        종목명     현재가        전일비      등락률         거래량      시가  \\\n",
       "0   1  2  2      한세엠케이   8,200  상한\\n1,890  +29.95%   3,921,095   7,530   \n",
       "1   2  2  2     넥스턴바이오  11,200  상한\\n2,560  +29.63%  10,332,117   9,720   \n",
       "2   3  1  1        코세스  11,000  상한\\n2,520  +29.72%  11,802,789   8,550   \n",
       "3   4  1  2       옵티시스  23,650  상한\\n5,450  +29.95%   5,002,565  17,650   \n",
       "4   5  1  7    케어룸의료산업  11,050  상한\\n1,430  +14.86%         200  11,050   \n",
       "5   6  2  2      단디바이오  13,700  상한\\n1,750  +14.64%      37,038  12,000   \n",
       "6   7  4  4  삼성머스트스팩5호  11,400  상한\\n2,620  +29.84%  26,483,578   9,500   \n",
       "\n",
       "       고가      저가  \n",
       "0   8,200   7,320  \n",
       "1  11,200   9,120  \n",
       "2  11,000   8,420  \n",
       "3  23,650  17,500  \n",
       "4  11,050  11,050  \n",
       "5  13,700  12,000  \n",
       "6  11,400   9,450  "
      ]
     },
     "execution_count": 24,
     "metadata": {},
     "output_type": "execute_result"
    }
   ],
   "source": [
    "dict_dat={\"순위\":rank,\n",
    "          \"연속\":all_data[0],\"누적\":all_data[1],'종목명':all_data[2],\n",
    "          '현재가':all_data[3],'전일비':all_data[4],\n",
    "          '등락률':all_data[5],\n",
    "          '거래량':all_data[6],'시가':all_data[7],\n",
    "          '고가':all_data[8],'저가':all_data[9]}\n",
    "dat = pd.DataFrame(dict_dat)\n",
    "dat"
   ]
  },
  {
   "cell_type": "code",
   "execution_count": 25,
   "metadata": {},
   "outputs": [
    {
     "data": {
      "text/plain": [
       "['.ipynb_checkpoints',\n",
       " '0622_corona.ipynb',\n",
       " '0622_corona2.ipynb',\n",
       " '0622_coronaboard_clean_version.ipynb',\n",
       " '0622_hw.ipynb',\n",
       " '0622_hw_sungjun.ipynb',\n",
       " '0622_naver_hw.ipynb',\n",
       " '0622_our_world_in_data.ipynb',\n",
       " 'covid_data.csv',\n",
       " 'naver_stock_top.csv',\n",
       " 'README.md',\n",
       " 'today_corona.csv',\n",
       " 'today_corona_pre.csv',\n",
       " 'vaccine_2021_06_22.csv']"
      ]
     },
     "execution_count": 25,
     "metadata": {},
     "output_type": "execute_result"
    }
   ],
   "source": [
    "dat.to_csv(\"naver_stock_top.csv\", index=False)\n",
    "os.listdir( os.getcwd() )"
   ]
  },
  {
   "cell_type": "code",
   "execution_count": null,
   "metadata": {},
   "outputs": [],
   "source": []
  }
 ],
 "metadata": {
  "kernelspec": {
   "display_name": "Python 3",
   "language": "python",
   "name": "python3"
  },
  "language_info": {
   "codemirror_mode": {
    "name": "ipython",
    "version": 3
   },
   "file_extension": ".py",
   "mimetype": "text/x-python",
   "name": "python",
   "nbconvert_exporter": "python",
   "pygments_lexer": "ipython3",
   "version": "3.8.5"
  }
 },
 "nbformat": 4,
 "nbformat_minor": 4
}
