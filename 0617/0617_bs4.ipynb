{
 "cells": [
  {
   "cell_type": "code",
   "execution_count": 1,
   "metadata": {},
   "outputs": [],
   "source": [
    "from urllib.request import urlopen\n",
    "from bs4 import BeautifulSoup"
   ]
  },
  {
   "cell_type": "code",
   "execution_count": 2,
   "metadata": {},
   "outputs": [],
   "source": [
    "url = \"https://finance.naver.com/sise/\"\n",
    "page = urlopen(url)\n",
    "page\n",
    "soup = BeautifulSoup(page, \"html.parser\")"
   ]
  },
  {
   "cell_type": "code",
   "execution_count": 3,
   "metadata": {},
   "outputs": [
    {
     "data": {
      "text/plain": [
       "('998.01', '3,259.48', '434.00')"
      ]
     },
     "execution_count": 3,
     "metadata": {},
     "output_type": "execute_result"
    }
   ],
   "source": [
    "soup.find_all('span', id='KOSDAQ_now') # 코스닥\n",
    "soup.find_all('span', id='KOSPI_now') # 코스피\n",
    "soup.find_all('span', id='KPI200_now') # 코스피200 \n",
    "a = soup.find_all('span', id='KOSDAQ_now')[0].text # 코스닥\n",
    "b = soup.find_all('span', id='KOSPI_now')[0].text # 코스피\n",
    "c = soup.find_all('span', id='KPI200_now')[0].text # 코스피200 \n",
    "a, b, c\n"
   ]
  },
  {
   "cell_type": "code",
   "execution_count": 4,
   "metadata": {},
   "outputs": [
    {
     "name": "stdout",
     "output_type": "stream",
     "text": [
      "현재 코스닥지수 : 998.01\n",
      "현재 코스피지수 : 3,259.48\n",
      "현재 코스피200지수 : 434.00\n"
     ]
    }
   ],
   "source": [
    "kosdaq = soup.find('span', id='KOSDAQ_now') # 코스닥\n",
    "kospi = soup.find('span', id='KOSPI_now') # 코스피\n",
    "kpi200 = soup.find('span', id='KPI200_now') # 코스피200 \n",
    "print(\"현재 코스닥지수 : {}\".format(kosdaq.get_text() ) )\n",
    "print(\"현재 코스피지수 : {}\".format(kospi.get_text() ) )\n",
    "print(\"현재 코스피200지수 : {}\".format(kpi200.get_text()) )"
   ]
  },
  {
   "cell_type": "code",
   "execution_count": 5,
   "metadata": {},
   "outputs": [],
   "source": [
    "from urllib.request import urlopen\n",
    "from bs4 import BeautifulSoup"
   ]
  },
  {
   "cell_type": "code",
   "execution_count": 6,
   "metadata": {},
   "outputs": [],
   "source": [
    "my_stock = ['삼성전자', '카카오', '유한양행', 'NAVER']\n",
    "my_stock_code = ['005930','035720', '000100', '035420']"
   ]
  },
  {
   "cell_type": "code",
   "execution_count": 9,
   "metadata": {},
   "outputs": [
    {
     "data": {
      "text/plain": [
       "<title>유한양행 : 네이버 금융</title>"
      ]
     },
     "execution_count": 9,
     "metadata": {},
     "output_type": "execute_result"
    }
   ],
   "source": [
    "chk_url = 'https://finance.naver.com/item/main.nhn?code=000100'\n",
    "page = urlopen(chk_url)\n",
    "soup = BeautifulSoup(page, 'lxml')\n",
    "soup.title"
   ]
  },
  {
   "cell_type": "code",
   "execution_count": 16,
   "metadata": {},
   "outputs": [
    {
     "name": "stdout",
     "output_type": "stream",
     "text": [
      "3\n"
     ]
    },
    {
     "data": {
      "text/plain": [
       "'63,200'"
      ]
     },
     "execution_count": 16,
     "metadata": {},
     "output_type": "execute_result"
    }
   ],
   "source": [
    "a=soup.find('p', class_='no_today')\n",
    "b=list(a.children)\n",
    "print(len(b))\n",
    "a.find('span', class_='blind').text"
   ]
  },
  {
   "cell_type": "code",
   "execution_count": 17,
   "metadata": {},
   "outputs": [],
   "source": [
    "base_url = 'https://finance.naver.com/item/main.nhn?code='"
   ]
  },
  {
   "cell_type": "code",
   "execution_count": 22,
   "metadata": {},
   "outputs": [
    {
     "name": "stdout",
     "output_type": "stream",
     "text": [
      "['삼성전자', '카카오', '유한양행', 'NAVER'] ['80,700', '144,000', '63,100', '389,000']\n"
     ]
    }
   ],
   "source": [
    "com = [] # 회사명\n",
    "price_c = [] # 가격\n",
    "\n",
    "for idx, code in enumerate(my_stock_code):\n",
    " all_url = base_url + code\n",
    " page = urlopen(all_url)\n",
    " soup = BeautifulSoup(page, 'lxml')\n",
    " \n",
    " ## 현재가\n",
    " tmp = soup.find('p', class_='no_today')\n",
    " price = tmp.find('span', class_='blind').text\n",
    " com.append(my_stock[idx])\n",
    " price_c.append(price)\n",
    " \n",
    "print(com,price_c)"
   ]
  },
  {
   "cell_type": "markdown",
   "metadata": {},
   "source": [
    "2-3 [실습] 관심 있는 종목 5개 선정, 코드 확인. 현재가, 거래량"
   ]
  },
  {
   "cell_type": "code",
   "execution_count": 57,
   "metadata": {},
   "outputs": [
    {
     "name": "stdout",
     "output_type": "stream",
     "text": [
      "<title> : 네이버 금융</title>\n",
      "['삼성전자', 'LG헬로비전', '쌍방울', '두산중공업'] ['80,800', '8,920', '1,025', '24,000'] ['6,648,045', '48,176,512', '281,133,196', '4,004,105']\n"
     ]
    }
   ],
   "source": [
    "my_stock1= ['삼성전자', 'LG헬로비전', '쌍방울', '두산중공업']\n",
    "my_stock_code1 = ['005930','037560', '102280', '034020']\n",
    "chk_url = 'https://finance.naver.com/item/main.nhn?code='\n",
    "\n",
    "page = urlopen(chk_url)\n",
    "soup = BeautifulSoup(page, 'lxml')\n",
    "print(soup.title)\n",
    "\n",
    "base_url = 'https://finance.naver.com/item/main.nhn?code='\n",
    "\n",
    "com=[]\n",
    "price_c=[]\n",
    "price1_c=[]\n",
    "for idx, code in enumerate(my_stock_code1):\n",
    " all_url = base_url + code\n",
    " page = urlopen(all_url)\n",
    " soup = BeautifulSoup(page, 'lxml')\n",
    "\n",
    " tmp =soup.find('p', class_='no_today')\n",
    " price = tmp.find('span', class_='blind').text\n",
    "\n",
    " tmp1=soup.find('span', class_='sptxt sp_txt9')\n",
    " price1 = tmp1.find_next(\"span\", class_=\"blind\").text\n",
    "\n",
    " com.append(my_stock[idx])\n",
    " price_c.append(price)\n",
    " price1_c.append(price1)\n",
    "print(com,price_c,price1_c)"
   ]
  },
  {
   "cell_type": "markdown",
   "metadata": {},
   "source": [
    "2-3 [추가] 관심 있는 종목 5개 선정, 코드 확인 후, 내가 필요로 하는 정보 6개 가져오기"
   ]
  },
  {
   "cell_type": "code",
   "execution_count": 54,
   "metadata": {},
   "outputs": [
    {
     "name": "stdout",
     "output_type": "stream",
     "text": [
      "삼성전자 80,700 \n",
      " 거래량 6,427,250 \n",
      " 현재가 80,700 전일대비 하락 1,100 마이너스 1.34 퍼센트 \n",
      " 전일가 81,800 \n",
      " 시가 81,100 \n",
      " 고가 81,300 \n",
      " 상한가 106,000 \n",
      " 저가 80,700 \n",
      " 하한가 57,300\n",
      "\n",
      "\n",
      "카카오 147,500 \n",
      " 거래량 2,528,291 \n",
      " 현재가 147,500 전일대비 상승 4,500 플러스 3.15 퍼센트 \n",
      " 전일가 143,000 \n",
      " 시가 142,000 \n",
      " 고가 148,000 \n",
      " 상한가 185,500 \n",
      " 저가 140,500 \n",
      " 하한가 100,500\n",
      "\n",
      "\n",
      "현대바이오 38,700 \n",
      " 거래량 1,391,537 \n",
      " 현재가 38,700 전일대비 상승 600 플러스 1.57 퍼센트 \n",
      " 전일가 38,100 \n",
      " 시가 38,700 \n",
      " 고가 39,650 \n",
      " 상한가 49,500 \n",
      " 저가 38,250 \n",
      " 하한가 26,700\n",
      "\n",
      "\n",
      "셀트리온 271,000 \n",
      " 거래량 172,697 \n",
      " 현재가 271,000 전일대비 하락 500 마이너스 0.18 퍼센트 \n",
      " 전일가 271,500 \n",
      " 시가 270,000 \n",
      " 고가 272,000 \n",
      " 상한가 352,500 \n",
      " 저가 268,500 \n",
      " 하한가 190,500\n",
      "\n",
      "\n",
      "NAVER 392,500 \n",
      " 거래량 303,247 \n",
      " 현재가 392,500 전일대비 상승 1,500 플러스 0.38 퍼센트 \n",
      " 전일가 391,000 \n",
      " 시가 389,500 \n",
      " 고가 393,500 \n",
      " 상한가 508,000 \n",
      " 저가 385,000 \n",
      " 하한가 274,000\n",
      "\n",
      "\n"
     ]
    }
   ],
   "source": [
    "from urllib.request import urlopen\n",
    "from bs4 import BeautifulSoup\n",
    "comp_list = ['삼성전자', '카카오', '현대바이오', '셀트리온', 'NAVER']\n",
    "code_list = ['005930', '035720', '048410', '068270', '035420']\n",
    "list_1 = []\n",
    "base_url = 'https://finance.naver.com/item/main.nhn?code='\n",
    "for idx, code in enumerate(code_list):\n",
    "    all_url = base_url + code\n",
    "    page = urlopen(all_url)\n",
    "    soup = BeautifulSoup(page, 'lxml')\n",
    "    cur_price = soup.find('p', class_='no_today').span.text\n",
    "    am = soup.find('div', id=\"middle\", class_=\"new_totalinfo\").findAll('dd')\n",
    "    print(comp_list[idx], cur_price, '\\n', am[10].text, '\\n', \n",
    "         am[3].text, '\\n', am[4].text, '\\n', am[5].text, '\\n', am[6].text, '\\n',\n",
    "         am[7].text, '\\n', am[8].text, '\\n', am[9].text)\n",
    "    print('\\n')"
   ]
  },
  {
   "cell_type": "markdown",
   "metadata": {},
   "source": []
  }
 ],
 "metadata": {
  "kernelspec": {
   "display_name": "Python 3",
   "language": "python",
   "name": "python3"
  },
  "language_info": {
   "codemirror_mode": {
    "name": "ipython",
    "version": 3
   },
   "file_extension": ".py",
   "mimetype": "text/x-python",
   "name": "python",
   "nbconvert_exporter": "python",
   "pygments_lexer": "ipython3",
   "version": "3.8.5"
  }
 },
 "nbformat": 4,
 "nbformat_minor": 4
}
