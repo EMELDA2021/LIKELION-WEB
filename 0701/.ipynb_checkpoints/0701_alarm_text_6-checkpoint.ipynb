{
 "cells": [
  {
   "cell_type": "code",
   "execution_count": 68,
   "metadata": {},
   "outputs": [],
   "source": [
    "from IPython.display import display, Image\n",
    "import os, warnings\n",
    "import re\n",
    "warnings.filterwarnings(action='ignore')"
   ]
  },
  {
   "cell_type": "code",
   "execution_count": 69,
   "metadata": {},
   "outputs": [],
   "source": [
    "from selenium import webdriver\n",
    "from bs4 import BeautifulSoup\n",
    "from urllib.request import urlopen"
   ]
  },
  {
   "cell_type": "code",
   "execution_count": 70,
   "metadata": {},
   "outputs": [],
   "source": [
    "driver = webdriver.Chrome('../chromedriver_90')\n",
    "url = 'https://www.safekorea.go.kr/idsiSFK/neo/sfk/cs/sfc/dis/disasterMsgList.jsp?emgPage=Y&menuSeq=679'\n",
    "driver.get(url)\n",
    "import time\n",
    "time.sleep(3) # 홈페이지 로딩 시간 3초"
   ]
  },
  {
   "cell_type": "code",
   "execution_count": 71,
   "metadata": {},
   "outputs": [],
   "source": [
    "sel_select=driver.find_element_by_xpath('//*[@id=\"search_type_v\"]/option[2]')\n",
    "sel_select.click()"
   ]
  },
  {
   "cell_type": "code",
   "execution_count": 72,
   "metadata": {},
   "outputs": [],
   "source": [
    "sel_input=driver.find_element_by_xpath('//*[@id=\"search_val_v\"]')\n",
    "sel_input.clear()\n",
    "sel_input.send_keys('코로나 검사')"
   ]
  },
  {
   "cell_type": "code",
   "execution_count": 73,
   "metadata": {},
   "outputs": [],
   "source": [
    "sel_start=driver.find_element_by_xpath('//*[@id=\"search_start\"]')\n",
    "sel_start.clear()\n",
    "sel_start.send_keys('20210601')"
   ]
  },
  {
   "cell_type": "code",
   "execution_count": 74,
   "metadata": {},
   "outputs": [],
   "source": [
    "sel_end=driver.find_element_by_xpath('//*[@id=\"search_end\"]')\n",
    "sel_end.clear()\n",
    "sel_end.send_keys('20210630')"
   ]
  },
  {
   "cell_type": "code",
   "execution_count": 75,
   "metadata": {},
   "outputs": [],
   "source": [
    "sel_search_btn=driver.find_element_by_xpath('//*[@id=\"content\"]/div[1]/a')\n",
    "sel_search_btn.click()"
   ]
  },
  {
   "cell_type": "markdown",
   "metadata": {},
   "source": [
    "반복:글 제목>크롤링>페이지넘기기"
   ]
  },
  {
   "cell_type": "code",
   "execution_count": 82,
   "metadata": {},
   "outputs": [
    {
     "data": {
      "text/plain": [
       "43"
      ]
     },
     "execution_count": 82,
     "metadata": {},
     "output_type": "execute_result"
    }
   ],
   "source": [
    "one_list=driver.find_element_by_xpath('//*[@id=\"bbs_tr\"]')\n",
    "num=driver.find_element_by_xpath('//*[@id=\"bbs_tr_0_num_td\"]').text\n",
    "num=int(num)\n",
    "num"
   ]
  },
  {
   "cell_type": "code",
   "execution_count": 93,
   "metadata": {},
   "outputs": [
    {
     "name": "stdout",
     "output_type": "stream",
     "text": [
      "2021/06/30\n",
      "18:16:26\n",
      "[고양시청]\n"
     ]
    }
   ],
   "source": [
    "# sel_num=driver.find_element_by_xpath('//*[@id=\"bbs_tr_0_bbs_title\"]').text.split(' ')\n",
    "# print(sel_num[0])\n",
    "# print(sel_num[1])\n",
    "# print(sel_num[2].strip('재난문자'))"
   ]
  },
  {
   "cell_type": "code",
   "execution_count": 103,
   "metadata": {},
   "outputs": [
    {
     "name": "stdout",
     "output_type": "stream",
     "text": [
      "Message: element click intercepted: Element <a class=\"paging_btn\" onclick=\"onNextPageBtnClick(); return false;\" tabindex=\"0\">...</a> is not clickable at point (617, 533). Other element would receive the click: <img src=\"/idsiSFK/neo/ext/img/wa.gif\" alt=\"(사)한국장애인단체총연합회 한국웹접근성인증평가원 웹 접근성 우수사이트 인증마크(WA마크)\" style=\"margin-left: 10px;width: 93px;height: 63px;\">\n",
      "  (Session info: chrome=91.0.4472.114)\n",
      "\n",
      "50\n",
      "50\n",
      "50\n",
      "50\n",
      "['2021/06/30', '2021/06/30', '2021/06/30', '2021/06/29', '2021/06/29', '2021/06/29', '2021/06/29', '2021/06/28', '2021/06/28', '2021/06/27', '2021/06/30', '2021/06/30', '2021/06/30', '2021/06/29', '2021/06/29', '2021/06/29', '2021/06/29', '2021/06/28', '2021/06/28', '2021/06/27', '2021/06/26', '2021/06/26', '2021/06/25', '2021/06/25', '2021/06/25', '2021/06/25', '2021/06/25', '2021/06/24', '2021/06/23', '2021/06/22', '2021/06/21', '2021/06/20', '2021/06/17', '2021/06/17', '2021/06/16', '2021/06/13', '2021/06/13', '2021/06/12', '2021/06/12', '2021/06/10', '2021/06/09', '2021/06/09', '2021/06/09', '2021/06/06', '2021/06/06', '2021/06/06', '2021/06/04', '2021/06/04', '2021/06/04', '2021/06/04']\n"
     ]
    }
   ],
   "source": [
    "all_date=[]\n",
    "all_time=[]\n",
    "all_area=[]\n",
    "count=0\n",
    "while count < (num+1):\n",
    "    for i in range(0,10):    \n",
    "        count+=1\n",
    "        one_list=driver.find_element_by_xpath('//*[@id=\"bbs_tr\"]')\n",
    "        tmp=f'//*[@id=\"bbs_tr_{i}_bbs_title\"]'\n",
    "        \n",
    "        sel_num=driver.find_element_by_xpath(tmp).text.split(' ')\n",
    "        all_date.append(sel_num[0])\n",
    "        all_time.append(sel_num[1])\n",
    "        all_area.append(sel_num[2].strip('재난문자'))\n",
    "    next_btn=driver.find_element_by_xpath('//*[@id=\"content\"]/div[4]/div/a[2]')\n",
    "    try:    \n",
    "        next_btn.click()\n",
    "    except Exception as e:\n",
    "        print(e)\n",
    "        break\n",
    "print(count)\n",
    "print(len(all_date))\n",
    "print(len(all_time))\n",
    "print(len(all_area))\n",
    "print(all_date)"
   ]
  },
  {
   "cell_type": "code",
   "execution_count": 191,
   "metadata": {},
   "outputs": [],
   "source": [
    "#page = driver.page_source\n",
    "#soup = BeautifulSoup(page, \"lxml\")\n",
    "#soup.title"
   ]
  },
  {
   "cell_type": "code",
   "execution_count": 192,
   "metadata": {},
   "outputs": [
    {
     "data": {
      "text/plain": [
       "<selenium.webdriver.remote.webelement.WebElement (session=\"2a846b281fa85b3d6e1645642ae49918\", element=\"3233b5b0-5bd4-45d3-b189-f213ae387505\")>"
      ]
     },
     "execution_count": 192,
     "metadata": {},
     "output_type": "execute_result"
    }
   ],
   "source": [
    "#one_list=driver.find_element_by_xpath('//*[@id=\"bbs_tr\"]')\n",
    "#one_list"
   ]
  },
  {
   "cell_type": "code",
   "execution_count": 206,
   "metadata": {},
   "outputs": [
    {
     "name": "stdout",
     "output_type": "stream",
     "text": [
      "['2021/06/26 16:59:57 재난문자[고양시청]', '2021/06/26 14:53:33 재난문자[고양시청]', '2021/06/25 19:28:58 재난문자[고양시청]', '2021/06/25 19:21:45 재난문자[고양시청]', '2021/06/25 17:31:07 재난문자[춘천시청]', '2021/06/25 17:14:36 재난문자[함평군청]', '2021/06/25 13:52:24 재난문자[광주광역시]', '2021/06/24 14:24:55 재난문자[고양시청]', '2021/06/23 10:22:21 재난문자[용산구청]', '2021/06/22 10:29:45 재난문자[영동군청]']\n"
     ]
    }
   ],
   "source": [
    "# all_alarm=[]\n",
    "# for i in range(0,10):\n",
    "#     tmp=f'//*[@id=\"bbs_tr_{i}_bbs_title\"]'\n",
    "#     sel_num=driver.find_element_by_xpath(tmp).text\n",
    "#     all_alarm.append(sel_num)\n",
    "# print(all_alarm)"
   ]
  },
  {
   "cell_type": "code",
   "execution_count": 207,
   "metadata": {},
   "outputs": [],
   "source": [
    "# next_btn=driver.find_element_by_xpath('//*[@id=\"content\"]/div[4]/div/a[2]')\n",
    "# next_btn.click()"
   ]
  },
  {
   "cell_type": "markdown",
   "metadata": {},
   "source": [
    "자료 변환"
   ]
  },
  {
   "cell_type": "code",
   "execution_count": 34,
   "metadata": {},
   "outputs": [],
   "source": [
    "# import pandas as pd"
   ]
  },
  {
   "cell_type": "code",
   "execution_count": 264,
   "metadata": {},
   "outputs": [],
   "source": [
    "# dict_dat={'6월':all_text}\n",
    "# dat = pd.DataFrame(dict_dat)\n",
    "# dat"
   ]
  },
  {
   "cell_type": "code",
   "execution_count": 265,
   "metadata": {},
   "outputs": [],
   "source": [
    "# dat.to_csv(\"alarm.csv\", index=False)\n",
    "# os.listdir( os.getcwd() )"
   ]
  },
  {
   "cell_type": "code",
   "execution_count": null,
   "metadata": {},
   "outputs": [],
   "source": []
  }
 ],
 "metadata": {
  "kernelspec": {
   "display_name": "Python 3",
   "language": "python",
   "name": "python3"
  },
  "language_info": {
   "codemirror_mode": {
    "name": "ipython",
    "version": 3
   },
   "file_extension": ".py",
   "mimetype": "text/x-python",
   "name": "python",
   "nbconvert_exporter": "python",
   "pygments_lexer": "ipython3",
   "version": "3.8.5"
  }
 },
 "nbformat": 4,
 "nbformat_minor": 4
}
