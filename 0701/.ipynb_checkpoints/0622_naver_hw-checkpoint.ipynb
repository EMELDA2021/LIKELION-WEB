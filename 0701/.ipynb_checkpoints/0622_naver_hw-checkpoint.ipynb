{
 "cells": [
  {
   "cell_type": "code",
   "execution_count": 1,
   "metadata": {},
   "outputs": [],
   "source": [
    "from IPython.display import display, Image\n",
    "import os, warnings\n",
    "import re\n",
    "warnings.filterwarnings(action='ignore')"
   ]
  },
  {
   "cell_type": "code",
   "execution_count": 2,
   "metadata": {},
   "outputs": [],
   "source": [
    "from selenium import webdriver\n",
    "from bs4 import BeautifulSoup"
   ]
  },
  {
   "cell_type": "code",
   "execution_count": 3,
   "metadata": {},
   "outputs": [],
   "source": [
    "driver = webdriver.Chrome('../chromedriver_90')\n",
    "url = 'https://finance.naver.com/sise/'\n",
    "driver.get(url)\n",
    "import time\n",
    "time.sleep(3) # 홈페이지 로딩 시간 3초"
   ]
  },
  {
   "cell_type": "code",
   "execution_count": 4,
   "metadata": {},
   "outputs": [
    {
     "data": {
      "text/plain": [
       "<selenium.webdriver.remote.webelement.WebElement (session=\"44692707831dadb4615628aac315c891\", element=\"b2fbd3df-8a99-46a9-bbf6-1637c9ec50c0\")>"
      ]
     },
     "execution_count": 4,
     "metadata": {},
     "output_type": "execute_result"
    }
   ],
   "source": [
    "sel_stock = driver.find_element_by_xpath('//*[@id=\"siselist_tab_0\"]')\n",
    "sel_stock"
   ]
  },
  {
   "cell_type": "markdown",
   "metadata": {},
   "source": [
    "//*[@id=\"siselist_tab_0\"]/tbody/tr[3]/td[1]/img\n",
    "\n",
    "//*[@id=\"siselist_tab_0\"]/tbody/tr[3]/td[4]/a\n",
    "//*[@id=\"siselist_tab_0\"]/tbody/tr[4]/td[4]/a\n",
    "\n",
    "//*[@id=\"siselist_tab_0\"]/tbody/tr[3]/td[11]"
   ]
  },
  {
   "cell_type": "code",
   "execution_count": 33,
   "metadata": {},
   "outputs": [
    {
     "name": "stdout",
     "output_type": "stream",
     "text": [
      "5\n",
      "['1', '1', '1', '1', '1']\n",
      "\n",
      "5\n",
      "['1', '3', '1', '1', '3']\n",
      "\n",
      "5\n",
      "['삼일기업공사', '진원생명과학', '대신정보통신', '솔고바이오', '휴마시스']\n",
      "\n",
      "5\n",
      "['10,550', '43,250', '3,265', '764', '16,900']\n",
      "\n",
      "5\n",
      "['상한2,400', '상한9,950', '상한750', '상한176', '상한3,900']\n",
      "\n",
      "5\n",
      "['+29.45%', '+29.88%', '+29.82%', '+29.93%', '+30.00%']\n",
      "\n",
      "5\n",
      "['1,116,957', '35,954,558', '29,567,819', '4,679,715', '25,610,042']\n",
      "\n",
      "5\n",
      "['9,920', '32,800', '2,985', '588', '13,250']\n",
      "\n",
      "5\n",
      "['10,550', '43,250', '3,265', '764', '16,900']\n",
      "\n",
      "5\n",
      "['9,840', '32,600', '2,935', '588', '13,150']\n",
      "\n",
      "[1, 2, 3, 4, 5]\n",
      "[['1', '1', '1', '1', '1'], ['1', '3', '1', '1', '3'], ['삼일기업공사', '진원생명과학', '대신정보통신', '솔고바이오', '휴마시스'], ['10,550', '43,250', '3,265', '764', '16,900'], ['상한2,400', '상한9,950', '상한750', '상한176', '상한3,900'], ['+29.45%', '+29.88%', '+29.82%', '+29.93%', '+30.00%'], ['1,116,957', '35,954,558', '29,567,819', '4,679,715', '25,610,042'], ['9,920', '32,800', '2,985', '588', '13,250'], ['10,550', '43,250', '3,265', '764', '16,900'], ['9,840', '32,600', '2,935', '588', '13,150']]\n"
     ]
    }
   ],
   "source": [
    "all_data = []\n",
    "for i in range(2, 12):\n",
    "     tmp = f'//*[@id=\"siselist_tab_0\"]/tbody/tr/td[{i}]'\n",
    "     sel_ele = driver.find_elements_by_xpath(tmp)\n",
    " \n",
    "     column_data = []\n",
    "     for one in sel_ele:   \n",
    "         column_data.append(one.text.replace('\\n',''))\n",
    " \n",
    "     print( len(sel_ele) )\n",
    "     all_data.append(column_data)\n",
    "     print(column_data)\n",
    "     print()\n",
    "\n",
    "rank=[]\n",
    "for i in range(1,6):\n",
    "    rank.append(i)\n",
    "\n",
    "print(rank)\n",
    "print(all_data)\n"
   ]
  },
  {
   "cell_type": "code",
   "execution_count": 34,
   "metadata": {},
   "outputs": [],
   "source": [
    "import pandas as pd"
   ]
  },
  {
   "cell_type": "code",
   "execution_count": 35,
   "metadata": {},
   "outputs": [
    {
     "data": {
      "text/html": [
       "<div>\n",
       "<style scoped>\n",
       "    .dataframe tbody tr th:only-of-type {\n",
       "        vertical-align: middle;\n",
       "    }\n",
       "\n",
       "    .dataframe tbody tr th {\n",
       "        vertical-align: top;\n",
       "    }\n",
       "\n",
       "    .dataframe thead th {\n",
       "        text-align: right;\n",
       "    }\n",
       "</style>\n",
       "<table border=\"1\" class=\"dataframe\">\n",
       "  <thead>\n",
       "    <tr style=\"text-align: right;\">\n",
       "      <th></th>\n",
       "      <th>순위</th>\n",
       "      <th>연속</th>\n",
       "      <th>누적</th>\n",
       "      <th>종목명</th>\n",
       "      <th>현재가</th>\n",
       "      <th>전일비</th>\n",
       "      <th>등락률</th>\n",
       "      <th>거래량</th>\n",
       "      <th>시가</th>\n",
       "      <th>고가</th>\n",
       "      <th>저가</th>\n",
       "    </tr>\n",
       "  </thead>\n",
       "  <tbody>\n",
       "    <tr>\n",
       "      <th>0</th>\n",
       "      <td>1</td>\n",
       "      <td>1</td>\n",
       "      <td>1</td>\n",
       "      <td>삼일기업공사</td>\n",
       "      <td>10,550</td>\n",
       "      <td>상한2,400</td>\n",
       "      <td>+29.45%</td>\n",
       "      <td>1,116,957</td>\n",
       "      <td>9,920</td>\n",
       "      <td>10,550</td>\n",
       "      <td>9,840</td>\n",
       "    </tr>\n",
       "    <tr>\n",
       "      <th>1</th>\n",
       "      <td>2</td>\n",
       "      <td>1</td>\n",
       "      <td>3</td>\n",
       "      <td>진원생명과학</td>\n",
       "      <td>43,250</td>\n",
       "      <td>상한9,950</td>\n",
       "      <td>+29.88%</td>\n",
       "      <td>35,954,558</td>\n",
       "      <td>32,800</td>\n",
       "      <td>43,250</td>\n",
       "      <td>32,600</td>\n",
       "    </tr>\n",
       "    <tr>\n",
       "      <th>2</th>\n",
       "      <td>3</td>\n",
       "      <td>1</td>\n",
       "      <td>1</td>\n",
       "      <td>대신정보통신</td>\n",
       "      <td>3,265</td>\n",
       "      <td>상한750</td>\n",
       "      <td>+29.82%</td>\n",
       "      <td>29,567,819</td>\n",
       "      <td>2,985</td>\n",
       "      <td>3,265</td>\n",
       "      <td>2,935</td>\n",
       "    </tr>\n",
       "    <tr>\n",
       "      <th>3</th>\n",
       "      <td>4</td>\n",
       "      <td>1</td>\n",
       "      <td>1</td>\n",
       "      <td>솔고바이오</td>\n",
       "      <td>764</td>\n",
       "      <td>상한176</td>\n",
       "      <td>+29.93%</td>\n",
       "      <td>4,679,715</td>\n",
       "      <td>588</td>\n",
       "      <td>764</td>\n",
       "      <td>588</td>\n",
       "    </tr>\n",
       "    <tr>\n",
       "      <th>4</th>\n",
       "      <td>5</td>\n",
       "      <td>1</td>\n",
       "      <td>3</td>\n",
       "      <td>휴마시스</td>\n",
       "      <td>16,900</td>\n",
       "      <td>상한3,900</td>\n",
       "      <td>+30.00%</td>\n",
       "      <td>25,610,042</td>\n",
       "      <td>13,250</td>\n",
       "      <td>16,900</td>\n",
       "      <td>13,150</td>\n",
       "    </tr>\n",
       "  </tbody>\n",
       "</table>\n",
       "</div>"
      ],
      "text/plain": [
       "   순위 연속 누적     종목명     현재가      전일비      등락률         거래량      시가      고가  \\\n",
       "0   1  1  1  삼일기업공사  10,550  상한2,400  +29.45%   1,116,957   9,920  10,550   \n",
       "1   2  1  3  진원생명과학  43,250  상한9,950  +29.88%  35,954,558  32,800  43,250   \n",
       "2   3  1  1  대신정보통신   3,265    상한750  +29.82%  29,567,819   2,985   3,265   \n",
       "3   4  1  1   솔고바이오     764    상한176  +29.93%   4,679,715     588     764   \n",
       "4   5  1  3    휴마시스  16,900  상한3,900  +30.00%  25,610,042  13,250  16,900   \n",
       "\n",
       "       저가  \n",
       "0   9,840  \n",
       "1  32,600  \n",
       "2   2,935  \n",
       "3     588  \n",
       "4  13,150  "
      ]
     },
     "execution_count": 35,
     "metadata": {},
     "output_type": "execute_result"
    }
   ],
   "source": [
    "dict_dat={\"순위\":rank,\n",
    "          \"연속\":all_data[0],\"누적\":all_data[1],'종목명':all_data[2],\n",
    "          '현재가':all_data[3],'전일비':all_data[4],\n",
    "          '등락률':all_data[5],\n",
    "          '거래량':all_data[6],'시가':all_data[7],\n",
    "          '고가':all_data[8],'저가':all_data[9]}\n",
    "dat = pd.DataFrame(dict_dat)\n",
    "dat"
   ]
  },
  {
   "cell_type": "code",
   "execution_count": 36,
   "metadata": {},
   "outputs": [
    {
     "data": {
      "text/plain": [
       "['.ipynb_checkpoints',\n",
       " '0622_corona.ipynb',\n",
       " '0622_corona2.ipynb',\n",
       " '0622_coronaboard_clean_version.ipynb',\n",
       " '0622_graph.ipynb',\n",
       " '0622_hw.ipynb',\n",
       " '0622_naver_hw.ipynb',\n",
       " '0622_our_world_in_data.ipynb',\n",
       " 'covid_data.csv',\n",
       " 'naver_stock_top.csv',\n",
       " 'README.md',\n",
       " 'today_corona.csv',\n",
       " 'today_corona_pre.csv',\n",
       " 'vaccine_2021_06_22.csv']"
      ]
     },
     "execution_count": 36,
     "metadata": {},
     "output_type": "execute_result"
    }
   ],
   "source": [
    "dat.to_csv(\"naver_stock_top.csv\", index=False)\n",
    "os.listdir( os.getcwd() )"
   ]
  },
  {
   "cell_type": "code",
   "execution_count": null,
   "metadata": {},
   "outputs": [],
   "source": []
  }
 ],
 "metadata": {
  "kernelspec": {
   "display_name": "Python 3",
   "language": "python",
   "name": "python3"
  },
  "language_info": {
   "codemirror_mode": {
    "name": "ipython",
    "version": 3
   },
   "file_extension": ".py",
   "mimetype": "text/x-python",
   "name": "python",
   "nbconvert_exporter": "python",
   "pygments_lexer": "ipython3",
   "version": "3.8.5"
  }
 },
 "nbformat": 4,
 "nbformat_minor": 4
}
