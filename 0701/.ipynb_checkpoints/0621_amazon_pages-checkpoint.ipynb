{
 "cells": [
  {
   "cell_type": "code",
   "execution_count": 1,
   "metadata": {},
   "outputs": [],
   "source": [
    "import os,warnings\n",
    "import re\n",
    "warnings.filterwarnings(action='ignore')"
   ]
  },
  {
   "cell_type": "code",
   "execution_count": 2,
   "metadata": {},
   "outputs": [],
   "source": [
    "from selenium import webdriver\n",
    "from bs4 import BeautifulSoup"
   ]
  },
  {
   "cell_type": "code",
   "execution_count": 4,
   "metadata": {},
   "outputs": [],
   "source": [
    "driver = webdriver.Chrome('../chromedriver_90')\n",
    "## https://www.amazon.com/\n",
    "url = 'https://www.amazon.com/I-Love-You-Through/dp/0439673631/ref=pd_bkstr_rtpb_11?_encoding=UTF8&p'\n",
    "driver.get(url)"
   ]
  },
  {
   "cell_type": "code",
   "execution_count": 5,
   "metadata": {},
   "outputs": [],
   "source": [
    "import time\n",
    "time.sleep(3) # 홈페이지 로딩 시간 3초"
   ]
  },
  {
   "cell_type": "code",
   "execution_count": 6,
   "metadata": {},
   "outputs": [],
   "source": [
    "sel_rate = driver.find_element_by_xpath('//*[@id=\"acrCustomerReviewText\"]')\n",
    "sel_rate.click()"
   ]
  },
  {
   "cell_type": "code",
   "execution_count": 7,
   "metadata": {},
   "outputs": [],
   "source": [
    "time.sleep(3)"
   ]
  },
  {
   "cell_type": "markdown",
   "metadata": {},
   "source": [
    "//*[@id=\"acrCustomerReviewText\"]> ratings\n",
    "//*[@id=\"cr-pagination-footer-0\"]/a > sell all review"
   ]
  },
  {
   "cell_type": "code",
   "execution_count": 8,
   "metadata": {},
   "outputs": [],
   "source": [
    "sel_review = driver.find_element_by_xpath('//*[@id=\"cr-pagination-footer-0\"]/a')\n",
    "sel_review.click()"
   ]
  },
  {
   "cell_type": "code",
   "execution_count": 9,
   "metadata": {},
   "outputs": [
    {
     "data": {
      "text/plain": [
       "<title>Amazon.com: Customer reviews: I Love You Through and Through (Caroline Jayne Church)</title>"
      ]
     },
     "execution_count": 9,
     "metadata": {},
     "output_type": "execute_result"
    }
   ],
   "source": [
    "page = driver.page_source\n",
    "soup = BeautifulSoup(page, 'html.parser')\n",
    "soup.title"
   ]
  },
  {
   "cell_type": "code",
   "execution_count": 10,
   "metadata": {},
   "outputs": [
    {
     "name": "stdout",
     "output_type": "stream",
     "text": [
      "리뷰 개수 :  10\n",
      "  My friend told me this is a great bonding book that builds healthy attachement. She reccomended it for my 4 year old. I am not sure if there are 2 version but this is definetly not for his age. It is a beautiful cute lovely book. Love the messages & cute pictures. The pages are really nice and sturdy. comfortable cover. BUT its dissapointing cuz it's a one liner per page and he doesnt want me to read this one. I believe this is the perfect book to start reading when baby is a few months and then maybe if you read it so many times then by 4 a child will still love it because it is familiar, there are many bonding moments/memories associated with the book. I wish they had a version for older kids. I didnt return it cuz its a good quality book and it was a very good price. and I am still hoping my son will start enjoying it because the message is so great and so important. I doubt it though. This is really a 5 star book but for me its a 2-3 stars cuz just doesnt work for me.\n",
      "  Unlike the other books in the series, this book doesn’t flow as well because there’s not enough words in the pages. My son asked for it and I figured I’d buy it since I liked the others in the series and this one was on sale... wish I hadn’t, but my son likes it so I can’t return. On the plus side, he memorized it already and reads it to himself now :)\n"
     ]
    }
   ],
   "source": [
    "all_r = soup.find_all(\"span\", class_=\"a-size-base review-text review-text-content\")\n",
    "all_review = []\n",
    "for one in all_r:\n",
    "    tmp = one.text\n",
    "    review = tmp.replace(\"\\n\", \"\")\n",
    "    all_review.append(review)\n",
    "print(\"리뷰 개수 : \", len(all_review))\n",
    "print(all_review[0], all_review[-1], sep=\"\\n\")"
   ]
  },
  {
   "cell_type": "markdown",
   "metadata": {},
   "source": [
    "4-3 실습 - 추가 정보 가져오기(사용자 이름)"
   ]
  },
  {
   "cell_type": "code",
   "execution_count": 35,
   "metadata": {},
   "outputs": [
    {
     "name": "stdout",
     "output_type": "stream",
     "text": [
      "12\n",
      "['Amazon Customer', '2B4Elise', 'Amazon Customer', 'Noha Anous', '2B4Elise', 'Amazon Customer', 'R. P.', 'Sparky127', 'Amazon Customer', 'CK', 'Anne', 'Renata']\n"
     ]
    }
   ],
   "source": [
    "all_n = soup.find_all(\"div\", class_='a-profile-content')\n",
    "all_n[0].find('span',class_=\"a-profile-name\").text\n",
    "all_name = []\n",
    "for one in all_n:\n",
    "    tmp1 = one.find('span',class_=\"a-profile-name\").text\n",
    "    all_name.append(tmp1)\n",
    "print(len(all_name))\n",
    "print(all_name)"
   ]
  },
  {
   "cell_type": "code",
   "execution_count": 46,
   "metadata": {},
   "outputs": [
    {
     "data": {
      "text/plain": [
       "['Amazon Customer',\n",
       " 'Noha Anous',\n",
       " '2B4Elise',\n",
       " 'Amazon Customer',\n",
       " 'R. P.',\n",
       " 'Sparky127',\n",
       " 'Amazon Customer',\n",
       " 'CK',\n",
       " 'Anne',\n",
       " 'Renata']"
      ]
     },
     "execution_count": 46,
     "metadata": {},
     "output_type": "execute_result"
    }
   ],
   "source": [
    "all_r1=soup.find_all('div',class_='a-section celwidget')\n",
    "all_user=[]\n",
    "for one in all_r1:\n",
    "    user_one=one.find('span',class_='a-profile-name').text\n",
    "    all_user.append(user_one)\n",
    "all_user"
   ]
  },
  {
   "cell_type": "markdown",
   "metadata": {},
   "source": [
    "4-3 실습 - 추가 정보 가져오기(평점)"
   ]
  },
  {
   "cell_type": "code",
   "execution_count": 54,
   "metadata": {},
   "outputs": [
    {
     "data": {
      "text/plain": [
       "'5.0'"
      ]
     },
     "execution_count": 54,
     "metadata": {},
     "output_type": "execute_result"
    }
   ],
   "source": [
    "all_r1=soup.find_all('div',class_='a-section celwidget')\n",
    "all_r1[0].find('span',class_='a-icon-alt').text[0:3]"
   ]
  },
  {
   "cell_type": "code",
   "execution_count": 57,
   "metadata": {},
   "outputs": [
    {
     "name": "stdout",
     "output_type": "stream",
     "text": [
      "['5.0', '4.0', '2.0', '5.0', '5.0', '4.0', '5.0', '5.0', '5.0', '3.0']\n"
     ]
    }
   ],
   "source": [
    "all_r1=soup.find_all('div',class_='a-section celwidget')\n",
    "all_ratings=[]\n",
    "\n",
    "for one in all_r1:\n",
    "    rate_one=one.find('span',class_='a-icon-alt').text[0:3]\n",
    "    all_ratings.append(rate_one)\n",
    "print(all_ratings)"
   ]
  },
  {
   "cell_type": "markdown",
   "metadata": {},
   "source": [
    "4-3 실습 - 추가 정보 가져오기(날짜)"
   ]
  },
  {
   "cell_type": "code",
   "execution_count": null,
   "metadata": {},
   "outputs": [],
   "source": []
  },
  {
   "cell_type": "code",
   "execution_count": 79,
   "metadata": {},
   "outputs": [
    {
     "name": "stdout",
     "output_type": "stream",
     "text": [
      "September 7, 2020\n",
      "the United States\n"
     ]
    }
   ],
   "source": [
    "all_r1=soup.find_all('div',class_='a-section celwidget')\n",
    "info=all_r1[0].find('span',class_='a-size-base a-color-secondary review-date').text.lstrip(\"Reviewd in \").split(\" on \")\n",
    "date = info[-1]\n",
    "location = info[0]\n",
    "print(date)\n",
    "print(location)"
   ]
  },
  {
   "cell_type": "code",
   "execution_count": 80,
   "metadata": {},
   "outputs": [
    {
     "name": "stdout",
     "output_type": "stream",
     "text": [
      "['September 7, 2020', 'February 8, 2021', 'March 12, 2020', 'September 25, 2016', 'July 23, 2018', 'March 16, 2012', 'December 18, 2019', 'August 10, 2016', 'December 31, 2020', 'January 14, 2021']\n",
      "['the United States', 'the United States', 'the United States', 'the United States', 'the United States', 'the United States', 'the United States', 'the United States', 'the United States', 'the United States']\n"
     ]
    }
   ],
   "source": [
    "all_date=[]\n",
    "all_location=[]\n",
    "\n",
    "for one in all_r1:\n",
    "    info_one=one.find('span',class_='a-size-base a-color-secondary review-date').text.lstrip(\"Reviewd in \").split(\" on \")\n",
    "    all_date.append(info_one[-1])\n",
    "    all_location.append(info_one[0])\n",
    "print(all_date)\n",
    "print(all_location)"
   ]
  },
  {
   "cell_type": "markdown",
   "metadata": {},
   "source": [
    "4-3 (추가 실습) 지역 정보 추가, 몇 명에게 더 도움이 되었다."
   ]
  },
  {
   "cell_type": "code",
   "execution_count": 61,
   "metadata": {},
   "outputs": [
    {
     "data": {
      "text/plain": [
       "'2 people found this helpful'"
      ]
     },
     "execution_count": 61,
     "metadata": {},
     "output_type": "execute_result"
    }
   ],
   "source": [
    "all_r1=soup.find_all('div',class_='a-section celwidget')\n",
    "all_r1[0].find('span',class_='a-size-base a-color-tertiary cr-vote-text').text"
   ]
  },
  {
   "cell_type": "code",
   "execution_count": 69,
   "metadata": {},
   "outputs": [
    {
     "name": "stdout",
     "output_type": "stream",
     "text": [
      "['2 people found this helpful', '4 people found this helpful', '3 people found this helpful', '6 people found this helpful', '7 people found this helpful', '54 people found this helpful', '0', '7 people found this helpful', '0', '0']\n"
     ]
    }
   ],
   "source": [
    "all_help=[]\n",
    "\n",
    "for one in all_r1:\n",
    "    try:\n",
    "        help_one=one.find('span',class_='a-size-base a-color-tertiary cr-vote-text').text\n",
    "    except:\n",
    "        help_one='0'\n",
    "    all_help.append(help_one)\n",
    "print(all_help)"
   ]
  },
  {
   "cell_type": "markdown",
   "metadata": {},
   "source": [
    "### 한 페이지의 정보 가져오기"
   ]
  },
  {
   "cell_type": "code",
   "execution_count": 81,
   "metadata": {},
   "outputs": [],
   "source": [
    "import re"
   ]
  },
  {
   "cell_type": "code",
   "execution_count": 85,
   "metadata": {},
   "outputs": [
    {
     "name": "stdout",
     "output_type": "stream",
     "text": [
      "10\n",
      "10\n",
      "10\n",
      "10\n",
      "10\n",
      "10\n"
     ]
    }
   ],
   "source": [
    "all_r1=soup.find_all('div',class_='a-section celwidget')\n",
    "all_user=[]\n",
    "all_ratings=[]\n",
    "all_date=[]\n",
    "all_location=[]\n",
    "all_help=[]\n",
    "all_review=[]\n",
    "\n",
    "for one in all_r1:\n",
    "    user_one=one.find('span',class_='a-profile-name').text\n",
    "    all_user.append(user_one)\n",
    "\n",
    "    rate_one=one.find('span',class_='a-icon-alt').text[0:3]\n",
    "    all_ratings.append(rate_one)\n",
    "\n",
    "    info_one=one.find('span',class_='a-size-base a-color-secondary review-date').text.lstrip(\"Reviewd in \").split(\" on \")\n",
    "    all_date.append(info_one[-1])\n",
    "    all_location.append(info_one[0])    \n",
    "\n",
    "    try:\n",
    "        help_one=one.find('span',class_='a-size-base a-color-tertiary cr-vote-text').text\n",
    "    except:\n",
    "        help_one='0'\n",
    "    all_help.append(help_one)\n",
    "    \n",
    "    tmp = one.text\n",
    "    review = tmp.replace(\"\\n\", \"\")\n",
    "    all_review.append(review)\n",
    "\n",
    "print(len(all_user))\n",
    "print(len(all_ratings))\n",
    "print(len(all_date))\n",
    "print(len(all_location))\n",
    "print(len(all_help))\n",
    "print(len(all_review))"
   ]
  },
  {
   "cell_type": "code",
   "execution_count": 91,
   "metadata": {},
   "outputs": [
    {
     "name": "stdout",
     "output_type": "stream",
     "text": [
      "user: KAM1982 rating: 4.0\n",
      "review: KAM19824.0 out of 5 starsSweet & well writtenReviewed in the United States on January 29, 2015Verified Purchase  Perfect length before-bed book for an antsy toddler. Very sweet illustrations, and a sweet little rhyme to accompany them. Would have given 4 stars but it's not a very durable book-- it's a heavy card stock rather than a board book-- so it's more susceptible to rips, tears, and water (ie spittle) damage. Holding up so far-- a couple small tears-- but not sure how long it will last for.          HelpfulReport abuseShowing 0 commentsThere was a problem loading comments right now. Please try again later.\n",
      "\n",
      "\n",
      "user: Sheri rating: 5.0\n",
      "review: Sheri5.0 out of 5 starsGreat book.Reviewed in the United States on January 14, 2020Verified Purchase  Great message for kids to hear!          HelpfulReport abuseShowing 0 commentsThere was a problem loading comments right now. Please try again later.\n",
      "\n",
      "\n",
      "user: Agmaotro rating: 5.0\n",
      "review: Agmaotro5.0 out of 5 starsMelts my heart!Reviewed in the United States on January 5, 2019Verified Purchase  A perfect addition that will bring tears to your eyes as you read this to your littles          HelpfulReport abuseShowing 0 commentsThere was a problem loading comments right now. Please try again later.\n",
      "\n",
      "\n",
      "user: Tori Hughes rating: 5.0\n",
      "review: Tori Hughes5.0 out of 5 starsSuch a sweet book!Reviewed in the United States on January 3, 2020Verified Purchase  One my favorites from this holiday season. My little boy loved finding the teddy bear on each page. I’ll also recommend the I Love you Through & Through book. We already had it and that’s the reason I purchased the Christmas edition.          HelpfulReport abuseShowing 0 commentsThere was a problem loading comments right now. Please try again later.\n",
      "\n",
      "\n",
      "user: Michelle W rating: 5.0\n",
      "review: Michelle W5.0 out of 5 starsGreat little book!!Reviewed in the United States on February 18, 2020Verified Purchase  My kids loved this book, and I loved reading it to them! I purchased again for my new nephew to add to his book collection because we loved it so much.          HelpfulReport abuseShowing 0 commentsThere was a problem loading comments right now. Please try again later.\n",
      "\n",
      "\n",
      "50\n",
      "50\n",
      "50\n",
      "50\n",
      "50\n",
      "50\n"
     ]
    }
   ],
   "source": [
    "all_user=[]\n",
    "all_ratings=[]\n",
    "all_date=[]\n",
    "all_location=[]\n",
    "all_help=[]\n",
    "all_review=[]\n",
    "\n",
    "for page in range(2,7,1):\n",
    "    time.sleep(3)\n",
    "    \n",
    "    page=driver.page_source\n",
    "    soup=BeautifulSoup(page,'html.parser')\n",
    "    all_r1=soup.find_all('div',class_='a-section celwidget')\n",
    "    \n",
    "    for one in all_r1:\n",
    "        user_one=one.find('span',class_='a-profile-name').text\n",
    "        all_user.append(user_one)\n",
    "\n",
    "        rate_one=one.find('span',class_='a-icon-alt').text[0:3]\n",
    "        all_ratings.append(rate_one)\n",
    "\n",
    "        info_one=one.find('span',class_='a-size-base a-color-secondary review-date').text.lstrip(\"Reviewd in \").split(\" on \")\n",
    "        all_date.append(info_one[-1])\n",
    "        all_location.append(info_one[0])    \n",
    "\n",
    "        try:\n",
    "            help_one=one.find('span',class_='a-size-base a-color-tertiary cr-vote-text').text\n",
    "        except:\n",
    "            help_one='0'\n",
    "            all_help.append(help_one)\n",
    "    \n",
    "        tmp = one.text\n",
    "        review = tmp.replace(\"\\n\", \"\")\n",
    "        all_review.append(review)\n",
    "    \n",
    "    print('user:',all_user[-1],'rating:',all_ratings[-1])\n",
    "    print('review:',all_review[-1],end='\\n\\n\\n')\n",
    "\n",
    "    sel_next = driver.find_element_by_xpath('//*[@id=\"cm_cr-pagination_bar\"]/ul/li[2]/a')\n",
    "    sel_next.click()\n",
    "\n",
    "print(len(all_user))\n",
    "print(len(all_ratings))\n",
    "print(len(all_date))\n",
    "print(len(all_location))\n",
    "print(len(all_help))\n",
    "print(len(all_review))"
   ]
  },
  {
   "cell_type": "code",
   "execution_count": 88,
   "metadata": {},
   "outputs": [],
   "source": [
    "import pandas as pd"
   ]
  },
  {
   "cell_type": "code",
   "execution_count": 92,
   "metadata": {},
   "outputs": [
    {
     "name": "stdout",
     "output_type": "stream",
     "text": [
      "A csv file is exported to C:\\Users\\ahah0\\Documents\\GitHub\\LIKELION-WEB\\0621\n"
     ]
    }
   ],
   "source": [
    "dat_review={'user':all_user,'ratings':all_ratings,'date':all_date,\n",
    "            'location':all_location,'help':all_help,\n",
    "            'review':all_review}\n",
    "review= pd.DataFrame(dat_review)\n",
    "review.to_csv(\"amazon_reviews.csv\", index=False)\n",
    "print(\"A csv file is exported to \" + os.getcwd())"
   ]
  },
  {
   "cell_type": "code",
   "execution_count": null,
   "metadata": {},
   "outputs": [],
   "source": []
  }
 ],
 "metadata": {
  "kernelspec": {
   "display_name": "Python 3",
   "language": "python",
   "name": "python3"
  },
  "language_info": {
   "codemirror_mode": {
    "name": "ipython",
    "version": 3
   },
   "file_extension": ".py",
   "mimetype": "text/x-python",
   "name": "python",
   "nbconvert_exporter": "python",
   "pygments_lexer": "ipython3",
   "version": "3.8.5"
  }
 },
 "nbformat": 4,
 "nbformat_minor": 4
}
