{
 "cells": [
  {
   "cell_type": "code",
   "execution_count": 1,
   "metadata": {
    "id": "-R2rCOsEYdNl"
   },
   "outputs": [],
   "source": [
    "%matplotlib inline\n",
    "import matplotlib as mpl # 기본 설정 만지는 용도\n",
    "import matplotlib.pyplot as plt # 그래프 그리는 용도\n",
    "import matplotlib.font_manager as fm # 폰트 관련 용도"
   ]
  },
  {
   "cell_type": "code",
   "execution_count": 2,
   "metadata": {
    "colab": {
     "base_uri": "https://localhost:8080/"
    },
    "id": "LcaFXbyfp0af",
    "outputId": "fe2c9e58-e1cf-499c-99d1-a2c00b072dfb"
   },
   "outputs": [
    {
     "name": "stdout",
     "output_type": "stream",
     "text": [
      "Selecting previously unselected package fonts-nanum.\n",
      "(Reading database ... 160772 files and directories currently installed.)\n",
      "Preparing to unpack .../fonts-nanum_20170925-1_all.deb ...\n",
      "Unpacking fonts-nanum (20170925-1) ...\n",
      "Selecting previously unselected package fonts-nanum-eco.\n",
      "Preparing to unpack .../fonts-nanum-eco_1.000-6_all.deb ...\n",
      "Unpacking fonts-nanum-eco (1.000-6) ...\n",
      "Selecting previously unselected package fonts-nanum-extra.\n",
      "Preparing to unpack .../fonts-nanum-extra_20170925-1_all.deb ...\n",
      "Unpacking fonts-nanum-extra (20170925-1) ...\n",
      "Selecting previously unselected package fonts-nanum-coding.\n",
      "Preparing to unpack .../fonts-nanum-coding_2.5-1_all.deb ...\n",
      "Unpacking fonts-nanum-coding (2.5-1) ...\n",
      "Setting up fonts-nanum-extra (20170925-1) ...\n",
      "Setting up fonts-nanum (20170925-1) ...\n",
      "Setting up fonts-nanum-coding (2.5-1) ...\n",
      "Setting up fonts-nanum-eco (1.000-6) ...\n",
      "Processing triggers for fontconfig (2.12.6-0ubuntu2) ...\n"
     ]
    }
   ],
   "source": [
    "### 나눔 고딕 설치 \n",
    "!apt-get update -qq # 설치를 업데이트 -qq : 로그를 최소한으로\n",
    "!apt-get install fonts-nanum* -qq # 설치한다. fonts-nanum* => ttf-nanum, ttf-nanum-coding, ttf-na"
   ]
  },
  {
   "cell_type": "code",
   "execution_count": 3,
   "metadata": {
    "colab": {
     "base_uri": "https://localhost:8080/"
    },
    "id": "LkKYEmRqp4i-",
    "outputId": "6d83496e-54a6-401b-de8b-3900934fd14a"
   },
   "outputs": [
    {
     "name": "stdout",
     "output_type": "stream",
     "text": [
      "NanumGothic Eco\n"
     ]
    }
   ],
   "source": [
    "path = '/usr/share/fonts/truetype/nanum/NanumGothicEco.ttf' \n",
    "font_name = fm.FontProperties(fname=path, size=10).get_name()\n",
    "print(font_name)\n",
    "plt.rc('font', family=font_name)\n",
    "# 우선 fm._rebuild() 를 해주고 # 폰트 매니저 재빌드가 필요하다.\n",
    "fm._rebuild()"
   ]
  },
  {
   "cell_type": "code",
   "execution_count": 1,
   "metadata": {
    "colab": {
     "base_uri": "https://localhost:8080/"
    },
    "id": "Ljv1kz1QqGJB",
    "outputId": "89e4692e-3f83-4b4d-8b4a-1ddf998a03d8"
   },
   "outputs": [
    {
     "name": "stdout",
     "output_type": "stream",
     "text": [
      "NanumGothic Eco\n"
     ]
    }
   ],
   "source": [
    "%matplotlib inline\n",
    "import matplotlib as mpl # 기본 설정 만지는 용도\n",
    "import matplotlib.pyplot as plt # 그래프 그리는 용도\n",
    "import matplotlib.font_manager as fm # 폰트 관련 용도\n",
    "import numpy as np\n",
    "path = '/usr/share/fonts/truetype/nanum/NanumGothicEco.ttf' # 설치된 나눔글꼴중 원하는 녀석의 전체\n",
    "font_name = fm.FontProperties(fname=path, size=10).get_name()\n",
    "print(font_name)\n",
    "plt.rc('font', family=font_name)\n",
    "## 음수 표시되도록 설정\n",
    "mpl.rcParams['axes.unicode_minus'] = False"
   ]
  },
  {
   "cell_type": "code",
   "execution_count": 2,
   "metadata": {
    "colab": {
     "base_uri": "https://localhost:8080/"
    },
    "id": "GmHO3BRnqO3a",
    "outputId": "3cefe0d6-a793-4078-dbf4-111dacfc87b9"
   },
   "outputs": [
    {
     "data": {
      "text/plain": [
       "array([   74,   108,    70,   108,   184,     2,  -125,  -282,  -419,\n",
       "        -602,  -684,  -631,  -640,  -551,  -460,  -425,  -419,  -326,\n",
       "        -369,  -286,  -470,  -599,  -791,  -727,  -738,  -824, -1023,\n",
       "       -1021, -1084, -1076, -1263, -1196, -1324, -1251, -1329, -1456,\n",
       "       -1419, -1610, -1640, -1645, -1685, -1634, -1664, -1634, -1621,\n",
       "       -1734, -1915, -1818, -1842, -1744])"
      ]
     },
     "execution_count": 2,
     "metadata": {
      "tags": []
     },
     "output_type": "execute_result"
    }
   ],
   "source": [
    "# 데이터 준비\n",
    "data = np.random.randint(-200, 100, 50).cumsum()\n",
    "data"
   ]
  },
  {
   "cell_type": "code",
   "execution_count": 3,
   "metadata": {
    "colab": {
     "base_uri": "https://localhost:8080/",
     "height": 293
    },
    "id": "wzfaZ9PPqRHM",
    "outputId": "0db7b864-a60c-4b81-8d72-bcb9ee12951f"
   },
   "outputs": [
    {
     "data": {
      "image/png": "[encoded data removed]",
      "text/plain": [
       "<Figure size 432x288 with 1 Axes>"
      ]
     },
     "metadata": {
      "needs_background": "light",
      "tags": []
     },
     "output_type": "display_data"
    }
   ],
   "source": [
    "# 그래프를 그려보자. 이번에는 정상\n",
    "plt.plot(range(50), data, 'r')\n",
    "plt.title('시간별 가격 추이')\n",
    "plt.ylabel('주식 가격')\n",
    "plt.xlabel('시간(분)')\n",
    "plt.style.use('seaborn-pastel')\n",
    "plt.show()"
   ]
  },
  {
   "cell_type": "code",
   "execution_count": 4,
   "metadata": {
    "colab": {
     "base_uri": "https://localhost:8080/"
    },
    "id": "8GOieSMoqUqm",
    "outputId": "5ce50465-57b3-4646-c347-5d80a16a5f06"
   },
   "outputs": [
    {
     "name": "stdout",
     "output_type": "stream",
     "text": [
      "Collecting konlpy\n",
      "\u001b[?25l  Downloading https://files.pythonhosted.org/packages/85/0e/f385566fec837c0b83f216b2da65db9997b35dd675e107752005b7d392b1/konlpy-0.5.2-py2.py3-none-any.whl (19.4MB)\n",
      "\u001b[K     |████████████████████████████████| 19.4MB 1.5MB/s \n",
      "\u001b[?25hCollecting beautifulsoup4==4.6.0\n",
      "\u001b[?25l  Downloading https://files.pythonhosted.org/packages/9e/d4/10f46e5cfac773e22707237bfcd51bbffeaf0a576b0a847ec7ab15bd7ace/beautifulsoup4-4.6.0-py3-none-any.whl (86kB)\n",
      "\u001b[K     |████████████████████████████████| 92kB 8.7MB/s \n",
      "\u001b[?25hRequirement already satisfied: lxml>=4.1.0 in /usr/local/lib/python3.7/dist-packages (from konlpy) (4.2.6)\n",
      "Requirement already satisfied: tweepy>=3.7.0 in /usr/local/lib/python3.7/dist-packages (from konlpy) (3.10.0)\n",
      "Collecting colorama\n",
      "  Downloading https://files.pythonhosted.org/packages/44/98/5b86278fbbf250d239ae0ecb724f8572af1c91f4a11edf4d36a206189440/colorama-0.4.4-py2.py3-none-any.whl\n",
      "Requirement already satisfied: numpy>=1.6 in /usr/local/lib/python3.7/dist-packages (from konlpy) (1.19.5)\n",
      "Collecting JPype1>=0.7.0\n",
      "\u001b[?25l  Downloading https://files.pythonhosted.org/packages/98/88/f817ef1af6f794e8f11313dcd1549de833f4599abcec82746ab5ed086686/JPype1-1.3.0-cp37-cp37m-manylinux_2_5_x86_64.manylinux1_x86_64.whl (448kB)\n",
      "\u001b[K     |████████████████████████████████| 450kB 30.9MB/s \n",
      "\u001b[?25hRequirement already satisfied: requests-oauthlib>=0.7.0 in /usr/local/lib/python3.7/dist-packages (from tweepy>=3.7.0->konlpy) (1.3.0)\n",
      "Requirement already satisfied: six>=1.10.0 in /usr/local/lib/python3.7/dist-packages (from tweepy>=3.7.0->konlpy) (1.15.0)\n",
      "Requirement already satisfied: requests[socks]>=2.11.1 in /usr/local/lib/python3.7/dist-packages (from tweepy>=3.7.0->konlpy) (2.23.0)\n",
      "Requirement already satisfied: typing-extensions; python_version < \"3.8\" in /usr/local/lib/python3.7/dist-packages (from JPype1>=0.7.0->konlpy) (3.7.4.3)\n",
      "Requirement already satisfied: oauthlib>=3.0.0 in /usr/local/lib/python3.7/dist-packages (from requests-oauthlib>=0.7.0->tweepy>=3.7.0->konlpy) (3.1.1)\n",
      "Requirement already satisfied: chardet<4,>=3.0.2 in /usr/local/lib/python3.7/dist-packages (from requests[socks]>=2.11.1->tweepy>=3.7.0->konlpy) (3.0.4)\n",
      "Requirement already satisfied: idna<3,>=2.5 in /usr/local/lib/python3.7/dist-packages (from requests[socks]>=2.11.1->tweepy>=3.7.0->konlpy) (2.10)\n",
      "Requirement already satisfied: certifi>=2017.4.17 in /usr/local/lib/python3.7/dist-packages (from requests[socks]>=2.11.1->tweepy>=3.7.0->konlpy) (2021.5.30)\n",
      "Requirement already satisfied: urllib3!=1.25.0,!=1.25.1,<1.26,>=1.21.1 in /usr/local/lib/python3.7/dist-packages (from requests[socks]>=2.11.1->tweepy>=3.7.0->konlpy) (1.24.3)\n",
      "Requirement already satisfied: PySocks!=1.5.7,>=1.5.6; extra == \"socks\" in /usr/local/lib/python3.7/dist-packages (from requests[socks]>=2.11.1->tweepy>=3.7.0->konlpy) (1.7.1)\n",
      "Installing collected packages: beautifulsoup4, colorama, JPype1, konlpy\n",
      "  Found existing installation: beautifulsoup4 4.6.3\n",
      "    Uninstalling beautifulsoup4-4.6.3:\n",
      "      Successfully uninstalled beautifulsoup4-4.6.3\n",
      "Successfully installed JPype1-1.3.0 beautifulsoup4-4.6.0 colorama-0.4.4 konlpy-0.5.2\n"
     ]
    }
   ],
   "source": [
    "!pip install konlpy"
   ]
  },
  {
   "cell_type": "code",
   "execution_count": 5,
   "metadata": {
    "id": "q0hjtr6dvT28"
   },
   "outputs": [],
   "source": [
    "import konlpy"
   ]
  },
  {
   "cell_type": "code",
   "execution_count": 6,
   "metadata": {
    "colab": {
     "base_uri": "https://localhost:8080/"
    },
    "id": "-8JXDjpovuzQ",
    "outputId": "4fb2642d-f017-4eac-c720-49e0b7549747"
   },
   "outputs": [
    {
     "name": "stdout",
     "output_type": "stream",
     "text": [
      "0.5.2\n"
     ]
    }
   ],
   "source": [
    "print(konlpy.__version__)"
   ]
  },
  {
   "cell_type": "code",
   "execution_count": 7,
   "metadata": {
    "id": "9CY-1X1uvx3m"
   },
   "outputs": [],
   "source": [
    "import nltk\n",
    "import matplotlib.pyplot as plt\n",
    "import numpy as np"
   ]
  },
  {
   "cell_type": "code",
   "execution_count": 8,
   "metadata": {
    "colab": {
     "base_uri": "https://localhost:8080/"
    },
    "id": "i6gyYggVv7ik",
    "outputId": "771da366-8488-4f71-fd12-50c05d8afcfa"
   },
   "outputs": [
    {
     "data": {
      "text/plain": [
       "['안녕하세요!', '오늘은 한글 분석을 시작합니다.']"
      ]
     },
     "execution_count": 8,
     "metadata": {
      "tags": []
     },
     "output_type": "execute_result"
    }
   ],
   "source": [
    "from konlpy.tag import Kkma\n",
    "k = Kkma()\n",
    "k.sentences(\"안녕하세요! 오늘은 한글 분석을 시작합니다.\")"
   ]
  },
  {
   "cell_type": "markdown",
   "metadata": {
    "id": "VW9JzkPS1-xD"
   },
   "source": [
    "### 실습 1. Kkma를 불러와서 문장을 넣어서, 문장 분석, 명사 분석, pos"
   ]
  },
  {
   "cell_type": "code",
   "execution_count": 10,
   "metadata": {
    "colab": {
     "base_uri": "https://localhost:8080/"
    },
    "id": "JjSR6tC90DDb",
    "outputId": "fff67d3c-9858-4920-9245-35437ae8e130"
   },
   "outputs": [
    {
     "data": {
      "text/plain": [
       "['안녕', '오늘', '한글', '분석']"
      ]
     },
     "execution_count": 10,
     "metadata": {
      "tags": []
     },
     "output_type": "execute_result"
    }
   ],
   "source": [
    "#명사\n",
    "k.nouns(\"안녕하세요! 오늘은 한글 분석을 시작합니다.\")"
   ]
  },
  {
   "cell_type": "code",
   "execution_count": 11,
   "metadata": {
    "colab": {
     "base_uri": "https://localhost:8080/"
    },
    "id": "ol2903Mr0kx3",
    "outputId": "bf6ca7da-2589-4fae-9232-1cca6b791a74"
   },
   "outputs": [
    {
     "data": {
      "text/plain": [
       "[('안녕', 'NNG'),\n",
       " ('하', 'XSV'),\n",
       " ('세요', 'EFN'),\n",
       " ('!', 'SF'),\n",
       " ('오늘', 'NNG'),\n",
       " ('은', 'JX'),\n",
       " ('한글', 'NNG'),\n",
       " ('분석', 'NNG'),\n",
       " ('을', 'JKO'),\n",
       " ('시작하', 'VV'),\n",
       " ('ㅂ니다', 'EFN'),\n",
       " ('.', 'SF')]"
      ]
     },
     "execution_count": 11,
     "metadata": {
      "tags": []
     },
     "output_type": "execute_result"
    }
   ],
   "source": [
    "#형태소\n",
    "k.pos(\"안녕하세요! 오늘은 한글 분석을 시작합니다.\")"
   ]
  },
  {
   "cell_type": "code",
   "execution_count": 14,
   "metadata": {
    "colab": {
     "base_uri": "https://localhost:8080/"
    },
    "id": "yRS1McYu0tIR",
    "outputId": "4183adec-7f3d-451c-b2a7-be8d21569b65"
   },
   "outputs": [
    {
     "data": {
      "text/plain": [
       "['안녕', '하', '세요', '!', '오늘', '은', '한글', '분석', '을', '시작하', 'ㅂ니다', '.']"
      ]
     },
     "execution_count": 14,
     "metadata": {
      "tags": []
     },
     "output_type": "execute_result"
    }
   ],
   "source": [
    "#형태소: 조사 버리기\n",
    "k.morphs(\"안녕하세요! 오늘은 한글 분석을 시작합니다.\")"
   ]
  },
  {
   "cell_type": "code",
   "execution_count": 15,
   "metadata": {
    "colab": {
     "base_uri": "https://localhost:8080/"
    },
    "id": "b86gTwXx03sH",
    "outputId": "c774cf6a-8e6e-4894-d739-2e90e78f08f3"
   },
   "outputs": [
    {
     "data": {
      "text/plain": [
       "['안녕하세요!', '오늘은 한글 분석을 시작합니다.']"
      ]
     },
     "execution_count": 15,
     "metadata": {
      "tags": []
     },
     "output_type": "execute_result"
    }
   ],
   "source": [
    "#문장\n",
    "k.sentences(\"안녕하세요! 오늘은 한글 분석을 시작합니다.\")"
   ]
  },
  {
   "cell_type": "markdown",
   "metadata": {
    "id": "c6KzjbyO2E4b"
   },
   "source": [
    "실습1-1 (추가)  Hannanum 엔진 이용해서 동일한 분석을 해보기.\n",
    "\n",
    "\n",
    "\n"
   ]
  },
  {
   "cell_type": "code",
   "execution_count": 22,
   "metadata": {
    "colab": {
     "base_uri": "https://localhost:8080/"
    },
    "id": "i7IzrOnL1MXd",
    "outputId": "231065ef-82ca-40b8-add3-80c843d3205a"
   },
   "outputs": [
    {
     "data": {
      "text/plain": [
       "[('안녕', 'N'),\n",
       " ('하', 'X'),\n",
       " ('세', 'E'),\n",
       " ('요', 'J'),\n",
       " ('!', 'S'),\n",
       " ('오늘', 'N'),\n",
       " ('은', 'J'),\n",
       " ('한글', 'N'),\n",
       " ('분석', 'N'),\n",
       " ('을', 'J'),\n",
       " ('시작', 'N'),\n",
       " ('하', 'X'),\n",
       " ('ㅂ니다', 'E'),\n",
       " ('.', 'S')]"
      ]
     },
     "execution_count": 22,
     "metadata": {
      "tags": []
     },
     "output_type": "execute_result"
    }
   ],
   "source": [
    "from konlpy.tag import Hannanum\n",
    "hannanum = Hannanum()\n",
    "hannanum.pos(\"안녕하세요! 오늘은 한글 분석을 시작합니다.\")"
   ]
  },
  {
   "cell_type": "code",
   "execution_count": 17,
   "metadata": {
    "colab": {
     "base_uri": "https://localhost:8080/"
    },
    "id": "ambJr8_E2IfY",
    "outputId": "dd761dbb-3646-48b2-b4ea-8f1f839d0b7e"
   },
   "outputs": [
    {
     "data": {
      "text/plain": [
       "['안녕', '하', '세', '요', '!', '오늘', '은', '한글', '분석', '을', '시작', '하', 'ㅂ니다', '.']"
      ]
     },
     "execution_count": 17,
     "metadata": {
      "tags": []
     },
     "output_type": "execute_result"
    }
   ],
   "source": [
    "hannanum.morphs('안녕하세요! 오늘은 한글 분석을 시작합니다.')"
   ]
  },
  {
   "cell_type": "code",
   "execution_count": 18,
   "metadata": {
    "colab": {
     "base_uri": "https://localhost:8080/"
    },
    "id": "LKqJNkz52PEW",
    "outputId": "a557ea56-0c65-4eeb-e52e-e3a39f863ceb"
   },
   "outputs": [
    {
     "data": {
      "text/plain": [
       "['안녕', '오늘', '한글', '분석', '시작']"
      ]
     },
     "execution_count": 18,
     "metadata": {
      "tags": []
     },
     "output_type": "execute_result"
    }
   ],
   "source": [
    "hannanum.nouns('안녕하세요! 오늘은 한글 분석을 시작합니다.')"
   ]
  },
  {
   "cell_type": "code",
   "execution_count": 19,
   "metadata": {
    "colab": {
     "base_uri": "https://localhost:8080/"
    },
    "id": "VMxVvfhr2RwV",
    "outputId": "3f8e3027-36da-427b-f960-c1146ef11540"
   },
   "outputs": [
    {
     "data": {
      "text/plain": [
       "[[[('안녕', 'ncps'), ('하세', 'ncpa'), ('요', 'ncn')],\n",
       "  [('안녕', 'ncps'), ('하', 'xsms'), ('세요', 'ef')],\n",
       "  [('안녕', 'ncps'), ('하', 'xsms'), ('세', 'ef'), ('요', 'jxf')]],\n",
       " [[('!', 'sf')]],\n",
       " [],\n",
       " [[('오늘', 'ncn'), ('은', 'jxc')], [('오늘', 'ncn'), ('은', 'ncn')]],\n",
       " [[('한글', 'ncn')], [('한글', 'nqq')]],\n",
       " [[('분석', 'ncpa'), ('을', 'jco')]],\n",
       " [[('시작', 'ncpa'), ('하', 'xsva'), ('ㅂ니다', 'ef')]],\n",
       " [[('.', 'sf')], [('.', 'sy')]]]"
      ]
     },
     "execution_count": 19,
     "metadata": {
      "tags": []
     },
     "output_type": "execute_result"
    }
   ],
   "source": [
    "hannanum.analyze('안녕하세요! 오늘은 한글 분석을 시작합니다.')"
   ]
  },
  {
   "cell_type": "markdown",
   "metadata": {
    "id": "wW4EkN6A2pRH"
   },
   "source": [
    "실습1-1 (추가) Okt 엔진 이용해서 동일한 분석을 해보기."
   ]
  },
  {
   "cell_type": "code",
   "execution_count": 23,
   "metadata": {
    "colab": {
     "base_uri": "https://localhost:8080/"
    },
    "id": "sYxAGexa2XTm",
    "outputId": "c5dc0161-a56b-48ed-cd76-ef6995cdd29a"
   },
   "outputs": [
    {
     "data": {
      "text/plain": [
       "[('안녕하세요', 'Adjective'),\n",
       " ('!', 'Punctuation'),\n",
       " ('오늘', 'Noun'),\n",
       " ('은', 'Josa'),\n",
       " ('한글', 'Noun'),\n",
       " ('분석', 'Noun'),\n",
       " ('을', 'Josa'),\n",
       " ('시작', 'Noun'),\n",
       " ('합니다', 'Verb'),\n",
       " ('.', 'Punctuation')]"
      ]
     },
     "execution_count": 23,
     "metadata": {
      "tags": []
     },
     "output_type": "execute_result"
    }
   ],
   "source": [
    "from konlpy.tag import Okt\n",
    "okt = Okt()\n",
    "okt.pos(\"안녕하세요! 오늘은 한글 분석을 시작합니다.\")"
   ]
  },
  {
   "cell_type": "code",
   "execution_count": 24,
   "metadata": {
    "colab": {
     "base_uri": "https://localhost:8080/"
    },
    "id": "VolqYL2o2j9Z",
    "outputId": "b3596b46-93e6-461a-8fc3-be3255dcf79d"
   },
   "outputs": [
    {
     "data": {
      "text/plain": [
       "['안녕하세요', '!', '오늘', '은', '한글', '분석', '을', '시작', '합니다', '.']"
      ]
     },
     "execution_count": 24,
     "metadata": {
      "tags": []
     },
     "output_type": "execute_result"
    }
   ],
   "source": [
    "okt.morphs('안녕하세요! 오늘은 한글 분석을 시작합니다.')"
   ]
  },
  {
   "cell_type": "code",
   "execution_count": 25,
   "metadata": {
    "colab": {
     "base_uri": "https://localhost:8080/",
     "height": 36
    },
    "id": "YT3djETq26jw",
    "outputId": "bdd86981-eb85-48d4-99f0-d0aa331f4342"
   },
   "outputs": [
    {
     "data": {
      "application/vnd.google.colaboratory.intrinsic+json": {
       "type": "string"
      },
      "text/plain": [
       "'안녕하세요! 오늘은 한글 분석을 시작합니다.'"
      ]
     },
     "execution_count": 25,
     "metadata": {
      "tags": []
     },
     "output_type": "execute_result"
    }
   ],
   "source": [
    "okt.normalize('안녕하세요! 오늘은 한글 분석을 시작합니다.')"
   ]
  },
  {
   "cell_type": "code",
   "execution_count": 26,
   "metadata": {
    "colab": {
     "base_uri": "https://localhost:8080/"
    },
    "id": "pooMzJXQ2864",
    "outputId": "fbe3e7d3-20d3-4177-83ec-ef1a2e853ab6"
   },
   "outputs": [
    {
     "data": {
      "text/plain": [
       "['오늘', '한글', '분석', '시작']"
      ]
     },
     "execution_count": 26,
     "metadata": {
      "tags": []
     },
     "output_type": "execute_result"
    }
   ],
   "source": [
    "okt.nouns('안녕하세요! 오늘은 한글 분석을 시작합니다.')"
   ]
  },
  {
   "cell_type": "code",
   "execution_count": 27,
   "metadata": {
    "colab": {
     "base_uri": "https://localhost:8080/"
    },
    "id": "XfV0efz_2_Yr",
    "outputId": "bdb18053-b7a3-439a-823b-1ffa42886202"
   },
   "outputs": [
    {
     "data": {
      "text/plain": [
       "['오늘', '한글', '한글 분석', '시작', '분석']"
      ]
     },
     "execution_count": 27,
     "metadata": {
      "tags": []
     },
     "output_type": "execute_result"
    }
   ],
   "source": [
    "okt.phrases('안녕하세요! 오늘은 한글 분석을 시작합니다.')"
   ]
  },
  {
   "cell_type": "code",
   "execution_count": 29,
   "metadata": {
    "colab": {
     "base_uri": "https://localhost:8080/"
    },
    "id": "nD6YDTG23Djx",
    "outputId": "a6440986-68b4-48b8-dd62-805cf76e0ddc"
   },
   "outputs": [
    {
     "name": "stdout",
     "output_type": "stream",
     "text": [
      "대한민국헌법\n",
      "\n",
      "유구한 역사와\n"
     ]
    }
   ],
   "source": [
    "from konlpy.corpus import kolaw\n",
    "c = kolaw.open('constitution.txt').read()\n",
    "print( c[:15])"
   ]
  },
  {
   "cell_type": "code",
   "execution_count": 30,
   "metadata": {
    "colab": {
     "base_uri": "https://localhost:8080/"
    },
    "id": "3oWsHGwP5BPi",
    "outputId": "c7cac9f3-a750-4384-9c67-2862cd8bda83"
   },
   "outputs": [
    {
     "name": "stdout",
     "output_type": "stream",
     "text": [
      "지방공무원법 일부개정법률안\n",
      "\n",
      "(정의화\n"
     ]
    }
   ],
   "source": [
    "from konlpy.corpus import kobill\n",
    "d = kobill.open('1809890.txt').read()\n",
    "print( d[:20])"
   ]
  },
  {
   "cell_type": "code",
   "execution_count": null,
   "metadata": {
    "id": "L6VU2YRr5HXJ"
   },
   "outputs": [],
   "source": []
  }
 ],
 "metadata": {
  "colab": {
   "name": "0701_konlpy.ipynb",
   "provenance": []
  },
  "kernelspec": {
   "display_name": "Python 3",
   "language": "python",
   "name": "python3"
  },
  "language_info": {
   "codemirror_mode": {
    "name": "ipython",
    "version": 3
   },
   "file_extension": ".py",
   "mimetype": "text/x-python",
   "name": "python",
   "nbconvert_exporter": "python",
   "pygments_lexer": "ipython3",
   "version": "3.8.5"
  }
 },
 "nbformat": 4,
 "nbformat_minor": 1
}
